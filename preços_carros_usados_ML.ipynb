{
  "nbformat": 4,
  "nbformat_minor": 0,
  "metadata": {
    "colab": {
      "name": "preços_carros_usados_ML.ipynb",
      "provenance": []
    },
    "kernelspec": {
      "name": "python3",
      "display_name": "Python 3"
    },
    "language_info": {
      "name": "python"
    }
  },
  "cells": [
    {
      "cell_type": "markdown",
      "metadata": {
        "id": "OwXbVRSXjsES"
      },
      "source": [
        "# **Importando os dados:**"
      ]
    },
    {
      "cell_type": "code",
      "execution_count": null,
      "metadata": {
        "_cell_guid": "b1076dfc-b9ad-4769-8c92-a6c4dae69d19",
        "_uuid": "8f2839f25d086af736a60e9eeb907d3b93b6e0e5",
        "execution": {
          "iopub.execute_input": "2022-07-05T01:03:50.047458Z",
          "iopub.status.busy": "2022-07-05T01:03:50.046986Z",
          "iopub.status.idle": "2022-07-05T01:03:50.055763Z",
          "shell.execute_reply": "2022-07-05T01:03:50.054032Z",
          "shell.execute_reply.started": "2022-07-05T01:03:50.047422Z"
        },
        "id": "9eS2aK0cc8ah"
      },
      "outputs": [],
      "source": [
        "import numpy as np\n",
        "import pandas as pd\n",
        "import matplotlib.pyplot as plt\n",
        "\n",
        "# desabilita os warnings\n",
        "import warnings\n",
        "warnings.filterwarnings('ignore')\n",
        "\n",
        "from sklearn.model_selection import train_test_split"
      ]
    },
    {
      "cell_type": "code",
      "execution_count": null,
      "metadata": {
        "execution": {
          "iopub.execute_input": "2022-07-04T19:00:50.351976Z",
          "iopub.status.busy": "2022-07-04T19:00:50.351543Z",
          "iopub.status.idle": "2022-07-04T19:00:50.483842Z",
          "shell.execute_reply": "2022-07-04T19:00:50.482794Z",
          "shell.execute_reply.started": "2022-07-04T19:00:50.351944Z"
        },
        "id": "VLlTKVwCc8au"
      },
      "outputs": [],
      "source": [
        "df = pd.read_csv('autos.csv', encoding = 'ISO-8859-1')"
      ]
    },
    {
      "cell_type": "code",
      "execution_count": null,
      "metadata": {
        "colab": {
          "base_uri": "https://localhost:8080/",
          "height": 444
        },
        "execution": {
          "iopub.execute_input": "2022-07-04T23:21:40.534140Z",
          "iopub.status.busy": "2022-07-04T23:21:40.532921Z",
          "iopub.status.idle": "2022-07-04T23:21:40.593476Z",
          "shell.execute_reply": "2022-07-04T23:21:40.592247Z",
          "shell.execute_reply.started": "2022-07-04T23:21:40.534090Z"
        },
        "id": "iu3RkSRbc8az",
        "outputId": "a1f0ac7d-80c3-4295-9782-1d4aed2dc1ed"
      },
      "outputs": [
        {
          "output_type": "execute_result",
          "data": {
            "text/plain": [
              "                dateCrawled                              name  seller  \\\n",
              "360743  2016-03-26 20:56:02                    Peugeot_206_75  privat   \n",
              "106497  2016-04-05 00:53:22     Opel_Corsa_Tuev_bis_Ende_2016  privat   \n",
              "52675   2016-03-19 19:50:48  Jaguar_XJ6_2.7_Twin_Turbo_Diesel  privat   \n",
              "205010  2016-03-13 18:25:23                   Chevrolet_Matiz  privat   \n",
              "369567  2016-04-02 13:44:45           Mercedes_Benz_E_220_CDI  privat   \n",
              "\n",
              "       offerType  price   abtest vehicleType  yearOfRegistration    gearbox  \\\n",
              "360743   Angebot   3699  control  kleinwagen                2007    manuell   \n",
              "106497   Angebot   2200  control  kleinwagen                2003    manuell   \n",
              "52675    Angebot  12900  control   limousine                2006  automatik   \n",
              "205010   Angebot   3200  control  kleinwagen                2006    manuell   \n",
              "369567   Angebot   6200     test   limousine                2002    manuell   \n",
              "\n",
              "        powerPS     model  kilometer  monthOfRegistration fuelType  \\\n",
              "360743       75   2_reihe      80000                    9   benzin   \n",
              "106497       75     corsa     125000                    0      NaN   \n",
              "52675       207    andere     150000                    3   diesel   \n",
              "205010        0     matiz     125000                    4   benzin   \n",
              "369567      150  e_klasse     150000                    3   diesel   \n",
              "\n",
              "                brand notRepairedDamage          dateCreated  nrOfPictures  \\\n",
              "360743        peugeot              nein  2016-03-26 00:00:00             0   \n",
              "106497           opel              nein  2016-04-04 00:00:00             0   \n",
              "52675          jaguar              nein  2016-03-19 00:00:00             0   \n",
              "205010      chevrolet              nein  2016-03-13 00:00:00             0   \n",
              "369567  mercedes_benz              nein  2016-04-02 00:00:00             0   \n",
              "\n",
              "        postalCode             lastSeen  \n",
              "360743       49635  2016-04-06 12:17:28  \n",
              "106497       66539  2016-04-05 07:44:24  \n",
              "52675        68169  2016-04-03 08:15:24  \n",
              "205010       60437  2016-04-05 20:46:44  \n",
              "369567       70619  2016-04-06 11:45:29  "
            ],
            "text/html": [
              "\n",
              "  <div id=\"df-488cc0ad-e16f-446a-a522-1923ef87db2b\">\n",
              "    <div class=\"colab-df-container\">\n",
              "      <div>\n",
              "<style scoped>\n",
              "    .dataframe tbody tr th:only-of-type {\n",
              "        vertical-align: middle;\n",
              "    }\n",
              "\n",
              "    .dataframe tbody tr th {\n",
              "        vertical-align: top;\n",
              "    }\n",
              "\n",
              "    .dataframe thead th {\n",
              "        text-align: right;\n",
              "    }\n",
              "</style>\n",
              "<table border=\"1\" class=\"dataframe\">\n",
              "  <thead>\n",
              "    <tr style=\"text-align: right;\">\n",
              "      <th></th>\n",
              "      <th>dateCrawled</th>\n",
              "      <th>name</th>\n",
              "      <th>seller</th>\n",
              "      <th>offerType</th>\n",
              "      <th>price</th>\n",
              "      <th>abtest</th>\n",
              "      <th>vehicleType</th>\n",
              "      <th>yearOfRegistration</th>\n",
              "      <th>gearbox</th>\n",
              "      <th>powerPS</th>\n",
              "      <th>model</th>\n",
              "      <th>kilometer</th>\n",
              "      <th>monthOfRegistration</th>\n",
              "      <th>fuelType</th>\n",
              "      <th>brand</th>\n",
              "      <th>notRepairedDamage</th>\n",
              "      <th>dateCreated</th>\n",
              "      <th>nrOfPictures</th>\n",
              "      <th>postalCode</th>\n",
              "      <th>lastSeen</th>\n",
              "    </tr>\n",
              "  </thead>\n",
              "  <tbody>\n",
              "    <tr>\n",
              "      <th>360743</th>\n",
              "      <td>2016-03-26 20:56:02</td>\n",
              "      <td>Peugeot_206_75</td>\n",
              "      <td>privat</td>\n",
              "      <td>Angebot</td>\n",
              "      <td>3699</td>\n",
              "      <td>control</td>\n",
              "      <td>kleinwagen</td>\n",
              "      <td>2007</td>\n",
              "      <td>manuell</td>\n",
              "      <td>75</td>\n",
              "      <td>2_reihe</td>\n",
              "      <td>80000</td>\n",
              "      <td>9</td>\n",
              "      <td>benzin</td>\n",
              "      <td>peugeot</td>\n",
              "      <td>nein</td>\n",
              "      <td>2016-03-26 00:00:00</td>\n",
              "      <td>0</td>\n",
              "      <td>49635</td>\n",
              "      <td>2016-04-06 12:17:28</td>\n",
              "    </tr>\n",
              "    <tr>\n",
              "      <th>106497</th>\n",
              "      <td>2016-04-05 00:53:22</td>\n",
              "      <td>Opel_Corsa_Tuev_bis_Ende_2016</td>\n",
              "      <td>privat</td>\n",
              "      <td>Angebot</td>\n",
              "      <td>2200</td>\n",
              "      <td>control</td>\n",
              "      <td>kleinwagen</td>\n",
              "      <td>2003</td>\n",
              "      <td>manuell</td>\n",
              "      <td>75</td>\n",
              "      <td>corsa</td>\n",
              "      <td>125000</td>\n",
              "      <td>0</td>\n",
              "      <td>NaN</td>\n",
              "      <td>opel</td>\n",
              "      <td>nein</td>\n",
              "      <td>2016-04-04 00:00:00</td>\n",
              "      <td>0</td>\n",
              "      <td>66539</td>\n",
              "      <td>2016-04-05 07:44:24</td>\n",
              "    </tr>\n",
              "    <tr>\n",
              "      <th>52675</th>\n",
              "      <td>2016-03-19 19:50:48</td>\n",
              "      <td>Jaguar_XJ6_2.7_Twin_Turbo_Diesel</td>\n",
              "      <td>privat</td>\n",
              "      <td>Angebot</td>\n",
              "      <td>12900</td>\n",
              "      <td>control</td>\n",
              "      <td>limousine</td>\n",
              "      <td>2006</td>\n",
              "      <td>automatik</td>\n",
              "      <td>207</td>\n",
              "      <td>andere</td>\n",
              "      <td>150000</td>\n",
              "      <td>3</td>\n",
              "      <td>diesel</td>\n",
              "      <td>jaguar</td>\n",
              "      <td>nein</td>\n",
              "      <td>2016-03-19 00:00:00</td>\n",
              "      <td>0</td>\n",
              "      <td>68169</td>\n",
              "      <td>2016-04-03 08:15:24</td>\n",
              "    </tr>\n",
              "    <tr>\n",
              "      <th>205010</th>\n",
              "      <td>2016-03-13 18:25:23</td>\n",
              "      <td>Chevrolet_Matiz</td>\n",
              "      <td>privat</td>\n",
              "      <td>Angebot</td>\n",
              "      <td>3200</td>\n",
              "      <td>control</td>\n",
              "      <td>kleinwagen</td>\n",
              "      <td>2006</td>\n",
              "      <td>manuell</td>\n",
              "      <td>0</td>\n",
              "      <td>matiz</td>\n",
              "      <td>125000</td>\n",
              "      <td>4</td>\n",
              "      <td>benzin</td>\n",
              "      <td>chevrolet</td>\n",
              "      <td>nein</td>\n",
              "      <td>2016-03-13 00:00:00</td>\n",
              "      <td>0</td>\n",
              "      <td>60437</td>\n",
              "      <td>2016-04-05 20:46:44</td>\n",
              "    </tr>\n",
              "    <tr>\n",
              "      <th>369567</th>\n",
              "      <td>2016-04-02 13:44:45</td>\n",
              "      <td>Mercedes_Benz_E_220_CDI</td>\n",
              "      <td>privat</td>\n",
              "      <td>Angebot</td>\n",
              "      <td>6200</td>\n",
              "      <td>test</td>\n",
              "      <td>limousine</td>\n",
              "      <td>2002</td>\n",
              "      <td>manuell</td>\n",
              "      <td>150</td>\n",
              "      <td>e_klasse</td>\n",
              "      <td>150000</td>\n",
              "      <td>3</td>\n",
              "      <td>diesel</td>\n",
              "      <td>mercedes_benz</td>\n",
              "      <td>nein</td>\n",
              "      <td>2016-04-02 00:00:00</td>\n",
              "      <td>0</td>\n",
              "      <td>70619</td>\n",
              "      <td>2016-04-06 11:45:29</td>\n",
              "    </tr>\n",
              "  </tbody>\n",
              "</table>\n",
              "</div>\n",
              "      <button class=\"colab-df-convert\" onclick=\"convertToInteractive('df-488cc0ad-e16f-446a-a522-1923ef87db2b')\"\n",
              "              title=\"Convert this dataframe to an interactive table.\"\n",
              "              style=\"display:none;\">\n",
              "        \n",
              "  <svg xmlns=\"http://www.w3.org/2000/svg\" height=\"24px\"viewBox=\"0 0 24 24\"\n",
              "       width=\"24px\">\n",
              "    <path d=\"M0 0h24v24H0V0z\" fill=\"none\"/>\n",
              "    <path d=\"M18.56 5.44l.94 2.06.94-2.06 2.06-.94-2.06-.94-.94-2.06-.94 2.06-2.06.94zm-11 1L8.5 8.5l.94-2.06 2.06-.94-2.06-.94L8.5 2.5l-.94 2.06-2.06.94zm10 10l.94 2.06.94-2.06 2.06-.94-2.06-.94-.94-2.06-.94 2.06-2.06.94z\"/><path d=\"M17.41 7.96l-1.37-1.37c-.4-.4-.92-.59-1.43-.59-.52 0-1.04.2-1.43.59L10.3 9.45l-7.72 7.72c-.78.78-.78 2.05 0 2.83L4 21.41c.39.39.9.59 1.41.59.51 0 1.02-.2 1.41-.59l7.78-7.78 2.81-2.81c.8-.78.8-2.07 0-2.86zM5.41 20L4 18.59l7.72-7.72 1.47 1.35L5.41 20z\"/>\n",
              "  </svg>\n",
              "      </button>\n",
              "      \n",
              "  <style>\n",
              "    .colab-df-container {\n",
              "      display:flex;\n",
              "      flex-wrap:wrap;\n",
              "      gap: 12px;\n",
              "    }\n",
              "\n",
              "    .colab-df-convert {\n",
              "      background-color: #E8F0FE;\n",
              "      border: none;\n",
              "      border-radius: 50%;\n",
              "      cursor: pointer;\n",
              "      display: none;\n",
              "      fill: #1967D2;\n",
              "      height: 32px;\n",
              "      padding: 0 0 0 0;\n",
              "      width: 32px;\n",
              "    }\n",
              "\n",
              "    .colab-df-convert:hover {\n",
              "      background-color: #E2EBFA;\n",
              "      box-shadow: 0px 1px 2px rgba(60, 64, 67, 0.3), 0px 1px 3px 1px rgba(60, 64, 67, 0.15);\n",
              "      fill: #174EA6;\n",
              "    }\n",
              "\n",
              "    [theme=dark] .colab-df-convert {\n",
              "      background-color: #3B4455;\n",
              "      fill: #D2E3FC;\n",
              "    }\n",
              "\n",
              "    [theme=dark] .colab-df-convert:hover {\n",
              "      background-color: #434B5C;\n",
              "      box-shadow: 0px 1px 3px 1px rgba(0, 0, 0, 0.15);\n",
              "      filter: drop-shadow(0px 1px 2px rgba(0, 0, 0, 0.3));\n",
              "      fill: #FFFFFF;\n",
              "    }\n",
              "  </style>\n",
              "\n",
              "      <script>\n",
              "        const buttonEl =\n",
              "          document.querySelector('#df-488cc0ad-e16f-446a-a522-1923ef87db2b button.colab-df-convert');\n",
              "        buttonEl.style.display =\n",
              "          google.colab.kernel.accessAllowed ? 'block' : 'none';\n",
              "\n",
              "        async function convertToInteractive(key) {\n",
              "          const element = document.querySelector('#df-488cc0ad-e16f-446a-a522-1923ef87db2b');\n",
              "          const dataTable =\n",
              "            await google.colab.kernel.invokeFunction('convertToInteractive',\n",
              "                                                     [key], {});\n",
              "          if (!dataTable) return;\n",
              "\n",
              "          const docLinkHtml = 'Like what you see? Visit the ' +\n",
              "            '<a target=\"_blank\" href=https://colab.research.google.com/notebooks/data_table.ipynb>data table notebook</a>'\n",
              "            + ' to learn more about interactive tables.';\n",
              "          element.innerHTML = '';\n",
              "          dataTable['output_type'] = 'display_data';\n",
              "          await google.colab.output.renderOutput(dataTable, element);\n",
              "          const docLink = document.createElement('div');\n",
              "          docLink.innerHTML = docLinkHtml;\n",
              "          element.appendChild(docLink);\n",
              "        }\n",
              "      </script>\n",
              "    </div>\n",
              "  </div>\n",
              "  "
            ]
          },
          "metadata": {},
          "execution_count": 116
        }
      ],
      "source": [
        "df.head()"
      ]
    },
    {
      "cell_type": "code",
      "source": [
        "df = df.sample(1000)"
      ],
      "metadata": {
        "id": "daFpjDYg66HF"
      },
      "execution_count": null,
      "outputs": []
    },
    {
      "cell_type": "code",
      "execution_count": null,
      "metadata": {
        "colab": {
          "base_uri": "https://localhost:8080/"
        },
        "id": "u1dAvUVcfRUf",
        "outputId": "79588c3c-5bb9-49ea-f74e-24e35cf45e6a"
      },
      "outputs": [
        {
          "output_type": "stream",
          "name": "stdout",
          "text": [
            "<class 'pandas.core.frame.DataFrame'>\n",
            "Int64Index: 1000 entries, 360743 to 331260\n",
            "Data columns (total 20 columns):\n",
            " #   Column               Non-Null Count  Dtype \n",
            "---  ------               --------------  ----- \n",
            " 0   dateCrawled          1000 non-null   object\n",
            " 1   name                 1000 non-null   object\n",
            " 2   seller               1000 non-null   object\n",
            " 3   offerType            1000 non-null   object\n",
            " 4   price                1000 non-null   int64 \n",
            " 5   abtest               1000 non-null   object\n",
            " 6   vehicleType          887 non-null    object\n",
            " 7   yearOfRegistration   1000 non-null   int64 \n",
            " 8   gearbox              947 non-null    object\n",
            " 9   powerPS              1000 non-null   int64 \n",
            " 10  model                949 non-null    object\n",
            " 11  kilometer            1000 non-null   int64 \n",
            " 12  monthOfRegistration  1000 non-null   int64 \n",
            " 13  fuelType             913 non-null    object\n",
            " 14  brand                1000 non-null   object\n",
            " 15  notRepairedDamage    791 non-null    object\n",
            " 16  dateCreated          1000 non-null   object\n",
            " 17  nrOfPictures         1000 non-null   int64 \n",
            " 18  postalCode           1000 non-null   int64 \n",
            " 19  lastSeen             1000 non-null   object\n",
            "dtypes: int64(7), object(13)\n",
            "memory usage: 164.1+ KB\n"
          ]
        }
      ],
      "source": [
        "df.info()"
      ]
    },
    {
      "cell_type": "markdown",
      "source": [
        "**Vamos retirar algumas Features, algumas delas contém 2 tipos de amostras, sendo que um dos tipos só tem 1 amostra, não será válido, por exemplo, a \"seller\" é dividida em privada e comercial, só existe 1 amostra como comercial.**"
      ],
      "metadata": {
        "id": "UqUIogveKMSh"
      }
    },
    {
      "cell_type": "code",
      "source": [
        "df.drop(columns=[\"name\", \"dateCrawled\", \"dateCreated\", \"lastSeen\", \"postalCode\", \"seller\", \"offerType\", \"nrOfPictures\"], inplace=True)"
      ],
      "metadata": {
        "id": "kk1FEwyvKqv7"
      },
      "execution_count": null,
      "outputs": []
    },
    {
      "cell_type": "code",
      "source": [
        "df"
      ],
      "metadata": {
        "colab": {
          "base_uri": "https://localhost:8080/",
          "height": 424
        },
        "id": "H5EC9tSu_cf5",
        "outputId": "a015570d-8e7d-4f77-cab9-7b586c449844"
      },
      "execution_count": null,
      "outputs": [
        {
          "output_type": "execute_result",
          "data": {
            "text/plain": [
              "        price   abtest vehicleType  yearOfRegistration    gearbox  powerPS  \\\n",
              "360743   3699  control  kleinwagen                2007    manuell       75   \n",
              "106497   2200  control  kleinwagen                2003    manuell       75   \n",
              "52675   12900  control   limousine                2006  automatik      207   \n",
              "205010   3200  control  kleinwagen                2006    manuell        0   \n",
              "369567   6200     test   limousine                2002    manuell      150   \n",
              "...       ...      ...         ...                 ...        ...      ...   \n",
              "310268    400     test  kleinwagen                1996  automatik       75   \n",
              "348968   9990  control       kombi                2007    manuell      170   \n",
              "137663   7800  control       kombi                2009        NaN      140   \n",
              "236576   6900     test  kleinwagen                2008    manuell       75   \n",
              "331260   3399  control   limousine                1986  automatik      252   \n",
              "\n",
              "           model  kilometer  monthOfRegistration fuelType          brand  \\\n",
              "360743   2_reihe      80000                    9   benzin        peugeot   \n",
              "106497     corsa     125000                    0      NaN           opel   \n",
              "52675     andere     150000                    3   diesel         jaguar   \n",
              "205010     matiz     125000                    4   benzin      chevrolet   \n",
              "369567  e_klasse     150000                    3   diesel  mercedes_benz   \n",
              "...          ...        ...                  ...      ...            ...   \n",
              "310268      polo      60000                    0   benzin     volkswagen   \n",
              "348968   octavia      90000                   11   diesel          skoda   \n",
              "137663    passat     150000                    0   diesel     volkswagen   \n",
              "236576       500     125000                    5   diesel           fiat   \n",
              "331260       7er     125000                    6   benzin            bmw   \n",
              "\n",
              "       notRepairedDamage  \n",
              "360743              nein  \n",
              "106497              nein  \n",
              "52675               nein  \n",
              "205010              nein  \n",
              "369567              nein  \n",
              "...                  ...  \n",
              "310268               NaN  \n",
              "348968              nein  \n",
              "137663               NaN  \n",
              "236576              nein  \n",
              "331260                ja  \n",
              "\n",
              "[1000 rows x 12 columns]"
            ],
            "text/html": [
              "\n",
              "  <div id=\"df-d3743e99-4337-4afd-b2da-780224f72983\">\n",
              "    <div class=\"colab-df-container\">\n",
              "      <div>\n",
              "<style scoped>\n",
              "    .dataframe tbody tr th:only-of-type {\n",
              "        vertical-align: middle;\n",
              "    }\n",
              "\n",
              "    .dataframe tbody tr th {\n",
              "        vertical-align: top;\n",
              "    }\n",
              "\n",
              "    .dataframe thead th {\n",
              "        text-align: right;\n",
              "    }\n",
              "</style>\n",
              "<table border=\"1\" class=\"dataframe\">\n",
              "  <thead>\n",
              "    <tr style=\"text-align: right;\">\n",
              "      <th></th>\n",
              "      <th>price</th>\n",
              "      <th>abtest</th>\n",
              "      <th>vehicleType</th>\n",
              "      <th>yearOfRegistration</th>\n",
              "      <th>gearbox</th>\n",
              "      <th>powerPS</th>\n",
              "      <th>model</th>\n",
              "      <th>kilometer</th>\n",
              "      <th>monthOfRegistration</th>\n",
              "      <th>fuelType</th>\n",
              "      <th>brand</th>\n",
              "      <th>notRepairedDamage</th>\n",
              "    </tr>\n",
              "  </thead>\n",
              "  <tbody>\n",
              "    <tr>\n",
              "      <th>360743</th>\n",
              "      <td>3699</td>\n",
              "      <td>control</td>\n",
              "      <td>kleinwagen</td>\n",
              "      <td>2007</td>\n",
              "      <td>manuell</td>\n",
              "      <td>75</td>\n",
              "      <td>2_reihe</td>\n",
              "      <td>80000</td>\n",
              "      <td>9</td>\n",
              "      <td>benzin</td>\n",
              "      <td>peugeot</td>\n",
              "      <td>nein</td>\n",
              "    </tr>\n",
              "    <tr>\n",
              "      <th>106497</th>\n",
              "      <td>2200</td>\n",
              "      <td>control</td>\n",
              "      <td>kleinwagen</td>\n",
              "      <td>2003</td>\n",
              "      <td>manuell</td>\n",
              "      <td>75</td>\n",
              "      <td>corsa</td>\n",
              "      <td>125000</td>\n",
              "      <td>0</td>\n",
              "      <td>NaN</td>\n",
              "      <td>opel</td>\n",
              "      <td>nein</td>\n",
              "    </tr>\n",
              "    <tr>\n",
              "      <th>52675</th>\n",
              "      <td>12900</td>\n",
              "      <td>control</td>\n",
              "      <td>limousine</td>\n",
              "      <td>2006</td>\n",
              "      <td>automatik</td>\n",
              "      <td>207</td>\n",
              "      <td>andere</td>\n",
              "      <td>150000</td>\n",
              "      <td>3</td>\n",
              "      <td>diesel</td>\n",
              "      <td>jaguar</td>\n",
              "      <td>nein</td>\n",
              "    </tr>\n",
              "    <tr>\n",
              "      <th>205010</th>\n",
              "      <td>3200</td>\n",
              "      <td>control</td>\n",
              "      <td>kleinwagen</td>\n",
              "      <td>2006</td>\n",
              "      <td>manuell</td>\n",
              "      <td>0</td>\n",
              "      <td>matiz</td>\n",
              "      <td>125000</td>\n",
              "      <td>4</td>\n",
              "      <td>benzin</td>\n",
              "      <td>chevrolet</td>\n",
              "      <td>nein</td>\n",
              "    </tr>\n",
              "    <tr>\n",
              "      <th>369567</th>\n",
              "      <td>6200</td>\n",
              "      <td>test</td>\n",
              "      <td>limousine</td>\n",
              "      <td>2002</td>\n",
              "      <td>manuell</td>\n",
              "      <td>150</td>\n",
              "      <td>e_klasse</td>\n",
              "      <td>150000</td>\n",
              "      <td>3</td>\n",
              "      <td>diesel</td>\n",
              "      <td>mercedes_benz</td>\n",
              "      <td>nein</td>\n",
              "    </tr>\n",
              "    <tr>\n",
              "      <th>...</th>\n",
              "      <td>...</td>\n",
              "      <td>...</td>\n",
              "      <td>...</td>\n",
              "      <td>...</td>\n",
              "      <td>...</td>\n",
              "      <td>...</td>\n",
              "      <td>...</td>\n",
              "      <td>...</td>\n",
              "      <td>...</td>\n",
              "      <td>...</td>\n",
              "      <td>...</td>\n",
              "      <td>...</td>\n",
              "    </tr>\n",
              "    <tr>\n",
              "      <th>310268</th>\n",
              "      <td>400</td>\n",
              "      <td>test</td>\n",
              "      <td>kleinwagen</td>\n",
              "      <td>1996</td>\n",
              "      <td>automatik</td>\n",
              "      <td>75</td>\n",
              "      <td>polo</td>\n",
              "      <td>60000</td>\n",
              "      <td>0</td>\n",
              "      <td>benzin</td>\n",
              "      <td>volkswagen</td>\n",
              "      <td>NaN</td>\n",
              "    </tr>\n",
              "    <tr>\n",
              "      <th>348968</th>\n",
              "      <td>9990</td>\n",
              "      <td>control</td>\n",
              "      <td>kombi</td>\n",
              "      <td>2007</td>\n",
              "      <td>manuell</td>\n",
              "      <td>170</td>\n",
              "      <td>octavia</td>\n",
              "      <td>90000</td>\n",
              "      <td>11</td>\n",
              "      <td>diesel</td>\n",
              "      <td>skoda</td>\n",
              "      <td>nein</td>\n",
              "    </tr>\n",
              "    <tr>\n",
              "      <th>137663</th>\n",
              "      <td>7800</td>\n",
              "      <td>control</td>\n",
              "      <td>kombi</td>\n",
              "      <td>2009</td>\n",
              "      <td>NaN</td>\n",
              "      <td>140</td>\n",
              "      <td>passat</td>\n",
              "      <td>150000</td>\n",
              "      <td>0</td>\n",
              "      <td>diesel</td>\n",
              "      <td>volkswagen</td>\n",
              "      <td>NaN</td>\n",
              "    </tr>\n",
              "    <tr>\n",
              "      <th>236576</th>\n",
              "      <td>6900</td>\n",
              "      <td>test</td>\n",
              "      <td>kleinwagen</td>\n",
              "      <td>2008</td>\n",
              "      <td>manuell</td>\n",
              "      <td>75</td>\n",
              "      <td>500</td>\n",
              "      <td>125000</td>\n",
              "      <td>5</td>\n",
              "      <td>diesel</td>\n",
              "      <td>fiat</td>\n",
              "      <td>nein</td>\n",
              "    </tr>\n",
              "    <tr>\n",
              "      <th>331260</th>\n",
              "      <td>3399</td>\n",
              "      <td>control</td>\n",
              "      <td>limousine</td>\n",
              "      <td>1986</td>\n",
              "      <td>automatik</td>\n",
              "      <td>252</td>\n",
              "      <td>7er</td>\n",
              "      <td>125000</td>\n",
              "      <td>6</td>\n",
              "      <td>benzin</td>\n",
              "      <td>bmw</td>\n",
              "      <td>ja</td>\n",
              "    </tr>\n",
              "  </tbody>\n",
              "</table>\n",
              "<p>1000 rows × 12 columns</p>\n",
              "</div>\n",
              "      <button class=\"colab-df-convert\" onclick=\"convertToInteractive('df-d3743e99-4337-4afd-b2da-780224f72983')\"\n",
              "              title=\"Convert this dataframe to an interactive table.\"\n",
              "              style=\"display:none;\">\n",
              "        \n",
              "  <svg xmlns=\"http://www.w3.org/2000/svg\" height=\"24px\"viewBox=\"0 0 24 24\"\n",
              "       width=\"24px\">\n",
              "    <path d=\"M0 0h24v24H0V0z\" fill=\"none\"/>\n",
              "    <path d=\"M18.56 5.44l.94 2.06.94-2.06 2.06-.94-2.06-.94-.94-2.06-.94 2.06-2.06.94zm-11 1L8.5 8.5l.94-2.06 2.06-.94-2.06-.94L8.5 2.5l-.94 2.06-2.06.94zm10 10l.94 2.06.94-2.06 2.06-.94-2.06-.94-.94-2.06-.94 2.06-2.06.94z\"/><path d=\"M17.41 7.96l-1.37-1.37c-.4-.4-.92-.59-1.43-.59-.52 0-1.04.2-1.43.59L10.3 9.45l-7.72 7.72c-.78.78-.78 2.05 0 2.83L4 21.41c.39.39.9.59 1.41.59.51 0 1.02-.2 1.41-.59l7.78-7.78 2.81-2.81c.8-.78.8-2.07 0-2.86zM5.41 20L4 18.59l7.72-7.72 1.47 1.35L5.41 20z\"/>\n",
              "  </svg>\n",
              "      </button>\n",
              "      \n",
              "  <style>\n",
              "    .colab-df-container {\n",
              "      display:flex;\n",
              "      flex-wrap:wrap;\n",
              "      gap: 12px;\n",
              "    }\n",
              "\n",
              "    .colab-df-convert {\n",
              "      background-color: #E8F0FE;\n",
              "      border: none;\n",
              "      border-radius: 50%;\n",
              "      cursor: pointer;\n",
              "      display: none;\n",
              "      fill: #1967D2;\n",
              "      height: 32px;\n",
              "      padding: 0 0 0 0;\n",
              "      width: 32px;\n",
              "    }\n",
              "\n",
              "    .colab-df-convert:hover {\n",
              "      background-color: #E2EBFA;\n",
              "      box-shadow: 0px 1px 2px rgba(60, 64, 67, 0.3), 0px 1px 3px 1px rgba(60, 64, 67, 0.15);\n",
              "      fill: #174EA6;\n",
              "    }\n",
              "\n",
              "    [theme=dark] .colab-df-convert {\n",
              "      background-color: #3B4455;\n",
              "      fill: #D2E3FC;\n",
              "    }\n",
              "\n",
              "    [theme=dark] .colab-df-convert:hover {\n",
              "      background-color: #434B5C;\n",
              "      box-shadow: 0px 1px 3px 1px rgba(0, 0, 0, 0.15);\n",
              "      filter: drop-shadow(0px 1px 2px rgba(0, 0, 0, 0.3));\n",
              "      fill: #FFFFFF;\n",
              "    }\n",
              "  </style>\n",
              "\n",
              "      <script>\n",
              "        const buttonEl =\n",
              "          document.querySelector('#df-d3743e99-4337-4afd-b2da-780224f72983 button.colab-df-convert');\n",
              "        buttonEl.style.display =\n",
              "          google.colab.kernel.accessAllowed ? 'block' : 'none';\n",
              "\n",
              "        async function convertToInteractive(key) {\n",
              "          const element = document.querySelector('#df-d3743e99-4337-4afd-b2da-780224f72983');\n",
              "          const dataTable =\n",
              "            await google.colab.kernel.invokeFunction('convertToInteractive',\n",
              "                                                     [key], {});\n",
              "          if (!dataTable) return;\n",
              "\n",
              "          const docLinkHtml = 'Like what you see? Visit the ' +\n",
              "            '<a target=\"_blank\" href=https://colab.research.google.com/notebooks/data_table.ipynb>data table notebook</a>'\n",
              "            + ' to learn more about interactive tables.';\n",
              "          element.innerHTML = '';\n",
              "          dataTable['output_type'] = 'display_data';\n",
              "          await google.colab.output.renderOutput(dataTable, element);\n",
              "          const docLink = document.createElement('div');\n",
              "          docLink.innerHTML = docLinkHtml;\n",
              "          element.appendChild(docLink);\n",
              "        }\n",
              "      </script>\n",
              "    </div>\n",
              "  </div>\n",
              "  "
            ]
          },
          "metadata": {},
          "execution_count": 119
        }
      ]
    },
    {
      "cell_type": "markdown",
      "metadata": {
        "id": "2fHLB3oNc8a2"
      },
      "source": [
        "## **RANDOM FOREST**"
      ]
    },
    {
      "cell_type": "code",
      "execution_count": null,
      "metadata": {
        "execution": {
          "iopub.execute_input": "2022-07-04T23:25:55.433972Z",
          "iopub.status.busy": "2022-07-04T23:25:55.433599Z",
          "iopub.status.idle": "2022-07-04T23:25:55.441830Z",
          "shell.execute_reply": "2022-07-04T23:25:55.440452Z",
          "shell.execute_reply.started": "2022-07-04T23:25:55.433940Z"
        },
        "id": "F5eyU0NVc8a6"
      },
      "outputs": [],
      "source": [
        "from sklearn.compose import ColumnTransformer\n",
        "\n",
        "from sklearn.preprocessing import StandardScaler, OneHotEncoder, OrdinalEncoder\n",
        "\n",
        "from sklearn.impute import SimpleImputer\n",
        "\n",
        "from sklearn.model_selection import GridSearchCV, StratifiedKFold, train_test_split\n",
        "\n",
        "from sklearn.pipeline import Pipeline\n",
        "from sklearn.ensemble import RandomForestRegressor\n",
        "from sklearn.model_selection import StratifiedKFold\n",
        "\n",
        "from sklearn.metrics import r2_score, mean_absolute_error, mean_squared_error"
      ]
    },
    {
      "cell_type": "code",
      "execution_count": null,
      "metadata": {
        "colab": {
          "base_uri": "https://localhost:8080/"
        },
        "execution": {
          "iopub.execute_input": "2022-07-04T19:01:09.689082Z",
          "iopub.status.busy": "2022-07-04T19:01:09.688577Z",
          "iopub.status.idle": "2022-07-04T19:01:12.721821Z",
          "shell.execute_reply": "2022-07-04T19:01:12.719932Z",
          "shell.execute_reply.started": "2022-07-04T19:01:09.689026Z"
        },
        "id": "_Sm3RwZ3c8a9",
        "outputId": "85cda653-9918-4402-b329-6caf4b9f6e30"
      },
      "outputs": [
        {
          "output_type": "stream",
          "name": "stdout",
          "text": [
            "Fitting 10 folds for each of 1 candidates, totalling 10 fits\n"
          ]
        },
        {
          "output_type": "execute_result",
          "data": {
            "text/plain": [
              "GridSearchCV(cv=StratifiedKFold(n_splits=10, random_state=42, shuffle=True),\n",
              "             estimator=Pipeline(steps=[('pre_processador',\n",
              "                                        ColumnTransformer(transformers=[('transf_num',\n",
              "                                                                         Pipeline(steps=[('input_num',\n",
              "                                                                                          SimpleImputer(strategy='median')),\n",
              "                                                                                         ('std',\n",
              "                                                                                          StandardScaler())]),\n",
              "                                                                         ['yearOfRegistration',\n",
              "                                                                          'powerPS',\n",
              "                                                                          'kilometer',\n",
              "                                                                          'monthOfRegistration']),\n",
              "                                                                        ('transf_cat_oe',\n",
              "                                                                         Pipeline(s...\n",
              "                                                                                          SimpleImputer(fill_value='unknown',\n",
              "                                                                                                        strategy='constant')),\n",
              "                                                                                         ('OneHot',\n",
              "                                                                                          OneHotEncoder(handle_unknown='ignore'))]),\n",
              "                                                                         ['abtest',\n",
              "                                                                          'gearbox',\n",
              "                                                                          'notRepairedDamage'])])),\n",
              "                                       ('rfr',\n",
              "                                        RandomForestRegressor(random_state=42))]),\n",
              "             n_jobs=-1,\n",
              "             param_grid={'rfr__criterion': ['squared_error'],\n",
              "                         'rfr__max_depth': [10], 'rfr__max_features': ['sqrt'],\n",
              "                         'rfr__n_estimators': [5000]},\n",
              "             scoring='r2', verbose=10)"
            ]
          },
          "metadata": {},
          "execution_count": 64
        }
      ],
      "source": [
        "#Separando o que é features e target:\n",
        "X = df.drop(columns=\"price\")\n",
        "y = df[\"price\"]\n",
        "\n",
        "# Dividindo em dados de teste e dados de treino, peguei 20% para dados de teste:\n",
        "X_train, X_test, y_train, y_test = train_test_split(X, y, test_size=0.1, random_state=42)\n",
        "\n",
        "\n",
        "# ==========================================================\n",
        "# Tratamento das features numéricas\n",
        "pipe_features_num = Pipeline([(\"input_num\", SimpleImputer(strategy=\"median\")),\n",
        "                              (\"std\", StandardScaler())])\n",
        "\n",
        "features_num = X_train.select_dtypes(include=np.number).columns.tolist()\n",
        "\n",
        "# ==========================================================\n",
        "# Tratando as features categóricas. Os valores nulos (NaN) serão preenchidos pelos dados mais constantes e posteriormente codificaremos todas elas com o Ordinal Enconder. \n",
        "\n",
        "pipe_features_oe = Pipeline([(\"input_cat_oe\", SimpleImputer(strategy=\"constant\", fill_value=\"unknown\")),\n",
        "                            (\"ordinal\", OrdinalEncoder(handle_unknown='use_encoded_value', unknown_value=-1))])\n",
        "\n",
        "features_oe = [\"vehicleType\", \"model\", \"fuelType\", \"brand\"]\n",
        "\n",
        "# ==========================================================\n",
        "# Tratando as features categóricas. Os valores nulos (NaN) serão preenchidos pelos dados por \"unknown\" e posteriormente codificaremos todas elas com o One Hot Encoder.\n",
        "\n",
        "pipe_features_ohe = Pipeline([(\"input_cat_ohe\", SimpleImputer(strategy=\"constant\", fill_value=\"unknown\")),\n",
        "                            (\"OneHot\", OneHotEncoder(handle_unknown='ignore'))])\n",
        "\n",
        "features_ohe = [\"abtest\", \"gearbox\", \"notRepairedDamage\"]\n",
        "# ==========================================================\n",
        "# Pré-processador => Pegando as pipelines anteriores e unindo-as.\n",
        "pre_processador = ColumnTransformer([(\"transf_num\", pipe_features_num, features_num),\n",
        "                                     (\"transf_cat_oe\", pipe_features_oe, features_oe),\n",
        "                                     (\"transf_cat_ohe\", pipe_features_ohe, features_ohe)])\n",
        "\n",
        "# ==========================================================\n",
        "# Pipeline final, usando o pré-processador e o estimador que queremos utilizar, neste caso o XGBoost para regressão.\n",
        "pipe_rfr = Pipeline([(\"pre_processador\", pre_processador),\n",
        "                     (\"rfr\", RandomForestRegressor(random_state=42))])\n",
        "\n",
        "# ==========================================================\n",
        "#Vamos dividir em splits.\n",
        "splitter = StratifiedKFold(n_splits=10, random_state=42, shuffle=True)\n",
        "\n",
        "#Motando a grade geral de parâmetros.\n",
        "params_grid_rfr = {\"rfr__n_estimators\": [5000],\n",
        "                  \"rfr__max_depth\": [10],\n",
        "                  \"rfr__criterion\": [\"squared_error\"],\n",
        "                  \"rfr__max_features\": [\"sqrt\"]}\n",
        "\n",
        "autos_grid_rfr = GridSearchCV(estimator=pipe_rfr,\n",
        "                       param_grid=params_grid_rfr,\n",
        "                       scoring=\"r2\",\n",
        "                       cv=splitter,\n",
        "                       verbose=10,\n",
        "                       n_jobs=-1)\n",
        "\n",
        "autos_grid_rfr.fit(X_train, y_train)"
      ]
    },
    {
      "cell_type": "code",
      "execution_count": null,
      "metadata": {
        "colab": {
          "base_uri": "https://localhost:8080/"
        },
        "id": "19_-HTB0c8bB",
        "outputId": "55ccb55f-8bb2-4e3e-8878-ed8c30c3ded4"
      },
      "outputs": [
        {
          "output_type": "execute_result",
          "data": {
            "text/plain": [
              "{'rfr__criterion': 'squared_error',\n",
              " 'rfr__max_depth': 10,\n",
              " 'rfr__max_features': 'sqrt',\n",
              " 'rfr__n_estimators': 5000}"
            ]
          },
          "metadata": {},
          "execution_count": 65
        }
      ],
      "source": [
        "autos_grid_rfr.best_params_"
      ]
    },
    {
      "cell_type": "code",
      "execution_count": null,
      "metadata": {
        "colab": {
          "base_uri": "https://localhost:8080/",
          "height": 197
        },
        "id": "ltWuVL5Hc8bC",
        "outputId": "58d60e43-a4da-42df-8b57-b370a813d516"
      },
      "outputs": [
        {
          "data": {
            "text/html": [
              "<div>\n",
              "<style scoped>\n",
              "    .dataframe tbody tr th:only-of-type {\n",
              "        vertical-align: middle;\n",
              "    }\n",
              "\n",
              "    .dataframe tbody tr th {\n",
              "        vertical-align: top;\n",
              "    }\n",
              "\n",
              "    .dataframe thead th {\n",
              "        text-align: right;\n",
              "    }\n",
              "</style>\n",
              "<table border=\"1\" class=\"dataframe\">\n",
              "  <thead>\n",
              "    <tr style=\"text-align: right;\">\n",
              "      <th></th>\n",
              "      <th>mean_fit_time</th>\n",
              "      <th>std_fit_time</th>\n",
              "      <th>mean_score_time</th>\n",
              "      <th>std_score_time</th>\n",
              "      <th>param_rfr__max_depth</th>\n",
              "      <th>param_rfr__n_estimators</th>\n",
              "      <th>params</th>\n",
              "      <th>split0_test_score</th>\n",
              "      <th>split1_test_score</th>\n",
              "      <th>split2_test_score</th>\n",
              "      <th>split3_test_score</th>\n",
              "      <th>split4_test_score</th>\n",
              "      <th>mean_test_score</th>\n",
              "      <th>std_test_score</th>\n",
              "      <th>rank_test_score</th>\n",
              "    </tr>\n",
              "  </thead>\n",
              "  <tbody>\n",
              "    <tr>\n",
              "      <th>2</th>\n",
              "      <td>95.551967</td>\n",
              "      <td>1.785530</td>\n",
              "      <td>1.043722</td>\n",
              "      <td>0.028641</td>\n",
              "      <td>5</td>\n",
              "      <td>1000</td>\n",
              "      <td>{'rfr__max_depth': 5, 'rfr__n_estimators': 1000}</td>\n",
              "      <td>0.623286</td>\n",
              "      <td>0.647585</td>\n",
              "      <td>0.642960</td>\n",
              "      <td>0.613180</td>\n",
              "      <td>0.642981</td>\n",
              "      <td>0.633998</td>\n",
              "      <td>0.013370</td>\n",
              "      <td>1</td>\n",
              "    </tr>\n",
              "    <tr>\n",
              "      <th>3</th>\n",
              "      <td>214.201045</td>\n",
              "      <td>5.603015</td>\n",
              "      <td>1.614836</td>\n",
              "      <td>0.313081</td>\n",
              "      <td>5</td>\n",
              "      <td>2500</td>\n",
              "      <td>{'rfr__max_depth': 5, 'rfr__n_estimators': 2500}</td>\n",
              "      <td>0.623046</td>\n",
              "      <td>0.647295</td>\n",
              "      <td>0.642961</td>\n",
              "      <td>0.612791</td>\n",
              "      <td>0.642401</td>\n",
              "      <td>0.633699</td>\n",
              "      <td>0.013394</td>\n",
              "      <td>2</td>\n",
              "    </tr>\n",
              "    <tr>\n",
              "      <th>1</th>\n",
              "      <td>117.223494</td>\n",
              "      <td>1.467186</td>\n",
              "      <td>1.506213</td>\n",
              "      <td>0.154547</td>\n",
              "      <td>2</td>\n",
              "      <td>2500</td>\n",
              "      <td>{'rfr__max_depth': 2, 'rfr__n_estimators': 2500}</td>\n",
              "      <td>0.293213</td>\n",
              "      <td>0.309523</td>\n",
              "      <td>0.311092</td>\n",
              "      <td>0.269395</td>\n",
              "      <td>0.301983</td>\n",
              "      <td>0.297041</td>\n",
              "      <td>0.015209</td>\n",
              "      <td>3</td>\n",
              "    </tr>\n",
              "    <tr>\n",
              "      <th>0</th>\n",
              "      <td>48.932830</td>\n",
              "      <td>0.264077</td>\n",
              "      <td>0.703105</td>\n",
              "      <td>0.039526</td>\n",
              "      <td>2</td>\n",
              "      <td>1000</td>\n",
              "      <td>{'rfr__max_depth': 2, 'rfr__n_estimators': 1000}</td>\n",
              "      <td>0.293245</td>\n",
              "      <td>0.309500</td>\n",
              "      <td>0.311116</td>\n",
              "      <td>0.269301</td>\n",
              "      <td>0.301968</td>\n",
              "      <td>0.297026</td>\n",
              "      <td>0.015242</td>\n",
              "      <td>4</td>\n",
              "    </tr>\n",
              "  </tbody>\n",
              "</table>\n",
              "</div>"
            ],
            "text/plain": [
              "   mean_fit_time  std_fit_time  mean_score_time  std_score_time  \\\n",
              "2      95.551967      1.785530         1.043722        0.028641   \n",
              "3     214.201045      5.603015         1.614836        0.313081   \n",
              "1     117.223494      1.467186         1.506213        0.154547   \n",
              "0      48.932830      0.264077         0.703105        0.039526   \n",
              "\n",
              "  param_rfr__max_depth param_rfr__n_estimators  \\\n",
              "2                    5                    1000   \n",
              "3                    5                    2500   \n",
              "1                    2                    2500   \n",
              "0                    2                    1000   \n",
              "\n",
              "                                             params  split0_test_score  \\\n",
              "2  {'rfr__max_depth': 5, 'rfr__n_estimators': 1000}           0.623286   \n",
              "3  {'rfr__max_depth': 5, 'rfr__n_estimators': 2500}           0.623046   \n",
              "1  {'rfr__max_depth': 2, 'rfr__n_estimators': 2500}           0.293213   \n",
              "0  {'rfr__max_depth': 2, 'rfr__n_estimators': 1000}           0.293245   \n",
              "\n",
              "   split1_test_score  split2_test_score  split3_test_score  split4_test_score  \\\n",
              "2           0.647585           0.642960           0.613180           0.642981   \n",
              "3           0.647295           0.642961           0.612791           0.642401   \n",
              "1           0.309523           0.311092           0.269395           0.301983   \n",
              "0           0.309500           0.311116           0.269301           0.301968   \n",
              "\n",
              "   mean_test_score  std_test_score  rank_test_score  \n",
              "2         0.633998        0.013370                1  \n",
              "3         0.633699        0.013394                2  \n",
              "1         0.297041        0.015209                3  \n",
              "0         0.297026        0.015242                4  "
            ]
          },
          "execution_count": 10,
          "metadata": {},
          "output_type": "execute_result"
        }
      ],
      "source": [
        "autos_rfr_results = pd.DataFrame(autos_grid_rfr.cv_results_)\n",
        "autos_rfr_results.sort_values(by=[\"rank_test_score\"])"
      ]
    },
    {
      "cell_type": "code",
      "execution_count": null,
      "metadata": {
        "id": "05T_N9aQc8bD"
      },
      "outputs": [],
      "source": [
        "from sklearn.metrics import r2_score, mean_absolute_error, mean_squared_error"
      ]
    },
    {
      "cell_type": "code",
      "execution_count": null,
      "metadata": {
        "colab": {
          "base_uri": "https://localhost:8080/"
        },
        "id": "BCFDmgr8c8bE",
        "outputId": "8ce77c00-4abc-4085-f463-97953b0a9b4d"
      },
      "outputs": [
        {
          "output_type": "stream",
          "name": "stdout",
          "text": [
            "\n",
            "Métricas de treino:\n",
            "\n",
            "R^2: 0.91\n",
            "MAE: 1198.00\n",
            "RMSE: 3262.89\n",
            "\n",
            "Métricas de teste:\n",
            "\n",
            "R^2: 0.75\n",
            "MAE: 1941.82\n",
            "RMSE: 3491.51\n"
          ]
        }
      ],
      "source": [
        "# Predições de treino\n",
        "y_pred_train_rfr = autos_grid_rfr.predict(X_train)\n",
        "\n",
        "print(\"\\nMétricas de treino:\\n\")\n",
        "print(f\"R^2: {r2_score(y_train, y_pred_train_rfr):.2f}\")\n",
        "print(f\"MAE: {mean_absolute_error(y_train, y_pred_train_rfr):.2f}\")\n",
        "print(f\"RMSE: {np.sqrt(mean_squared_error(y_train, y_pred_train_rfr)):.2f}\")\n",
        "\n",
        "# Predições de teste\n",
        "y_pred_test_rfr = autos_grid_rfr.predict(X_test)\n",
        "\n",
        "print(\"\\nMétricas de teste:\\n\")\n",
        "print(f\"R^2: {r2_score(y_test, y_pred_test_rfr):.2f}\")\n",
        "print(f\"MAE: {mean_absolute_error(y_test, y_pred_test_rfr):.2f}\")\n",
        "print(f\"RMSE: {np.sqrt(mean_squared_error(y_test, y_pred_test_rfr)):.2f}\") "
      ]
    },
    {
      "cell_type": "code",
      "execution_count": null,
      "metadata": {
        "id": "4jYoKqiqc8bF"
      },
      "outputs": [],
      "source": [
        "import pickle"
      ]
    },
    {
      "cell_type": "code",
      "execution_count": null,
      "metadata": {
        "id": "bw9XnvX5c8bG"
      },
      "outputs": [],
      "source": [
        "with open(\"autos_grid_rfr.pkl\", \"wb\") as f:\n",
        "    pickle.dump(autos_grid_rfr, f)"
      ]
    },
    {
      "cell_type": "code",
      "execution_count": null,
      "metadata": {
        "id": "Q6iGYok8c8bG"
      },
      "outputs": [],
      "source": [
        "with open(\"autos_grid_rfr.pkl\", \"rb\") as f:\n",
        "    \n",
        "    autos_grid_rfr = pickle.load(f)"
      ]
    },
    {
      "cell_type": "markdown",
      "metadata": {
        "id": "ykb1AUy0QFdk"
      },
      "source": [
        "**Vamos criar uma tabela com a porcentagem de acertos para cada dado**"
      ]
    },
    {
      "cell_type": "code",
      "execution_count": null,
      "metadata": {
        "execution": {
          "iopub.execute_input": "2022-07-05T01:07:40.588922Z",
          "iopub.status.busy": "2022-07-05T01:07:40.588438Z",
          "iopub.status.idle": "2022-07-05T01:07:40.596087Z",
          "shell.execute_reply": "2022-07-05T01:07:40.594620Z",
          "shell.execute_reply.started": "2022-07-05T01:07:40.588882Z"
        },
        "id": "4i_vfUd5io_O"
      },
      "outputs": [],
      "source": [
        "tabela_rfr = pd.DataFrame()"
      ]
    },
    {
      "cell_type": "code",
      "execution_count": null,
      "metadata": {
        "execution": {
          "iopub.execute_input": "2022-07-05T01:08:00.638005Z",
          "iopub.status.busy": "2022-07-05T01:08:00.637552Z",
          "iopub.status.idle": "2022-07-05T01:08:00.646545Z",
          "shell.execute_reply": "2022-07-05T01:08:00.645413Z",
          "shell.execute_reply.started": "2022-07-05T01:08:00.637972Z"
        },
        "id": "SJvbCHQmio_P"
      },
      "outputs": [],
      "source": [
        "tabela_rfr[\"valores reais\"] = y_test"
      ]
    },
    {
      "cell_type": "code",
      "execution_count": null,
      "metadata": {
        "execution": {
          "iopub.execute_input": "2022-07-05T01:08:27.467412Z",
          "iopub.status.busy": "2022-07-05T01:08:27.466894Z",
          "iopub.status.idle": "2022-07-05T01:08:27.474561Z",
          "shell.execute_reply": "2022-07-05T01:08:27.473152Z",
          "shell.execute_reply.started": "2022-07-05T01:08:27.467371Z"
        },
        "id": "tibVrpzsio_P"
      },
      "outputs": [],
      "source": [
        "tabela_rfr[\"valores preditos\"] = y_pred_test_rfr"
      ]
    },
    {
      "cell_type": "code",
      "execution_count": null,
      "metadata": {
        "colab": {
          "base_uri": "https://localhost:8080/",
          "height": 424
        },
        "execution": {
          "iopub.execute_input": "2022-07-05T01:08:31.767890Z",
          "iopub.status.busy": "2022-07-05T01:08:31.767415Z",
          "iopub.status.idle": "2022-07-05T01:08:31.785781Z",
          "shell.execute_reply": "2022-07-05T01:08:31.784547Z",
          "shell.execute_reply.started": "2022-07-05T01:08:31.767854Z"
        },
        "id": "RNmtStaHio_Q",
        "outputId": "fc4ea520-6d60-4a13-c435-e99e21062a06"
      },
      "outputs": [
        {
          "output_type": "execute_result",
          "data": {
            "text/plain": [
              "        valores reais  valores preditos\n",
              "21436            9999       9516.790880\n",
              "362001            699       2422.664406\n",
              "253269            200       1728.683282\n",
              "299396           5500       4672.457373\n",
              "182938            899       1503.931186\n",
              "...               ...               ...\n",
              "41107             900       1955.368139\n",
              "50784            5000       5714.357131\n",
              "93146            4190       2926.684773\n",
              "296845           4500       3309.897033\n",
              "318901           7500       6280.984241\n",
              "\n",
              "[100 rows x 2 columns]"
            ],
            "text/html": [
              "\n",
              "  <div id=\"df-7cefb3a7-69c2-4ac8-b2f3-1bc380ec98b6\">\n",
              "    <div class=\"colab-df-container\">\n",
              "      <div>\n",
              "<style scoped>\n",
              "    .dataframe tbody tr th:only-of-type {\n",
              "        vertical-align: middle;\n",
              "    }\n",
              "\n",
              "    .dataframe tbody tr th {\n",
              "        vertical-align: top;\n",
              "    }\n",
              "\n",
              "    .dataframe thead th {\n",
              "        text-align: right;\n",
              "    }\n",
              "</style>\n",
              "<table border=\"1\" class=\"dataframe\">\n",
              "  <thead>\n",
              "    <tr style=\"text-align: right;\">\n",
              "      <th></th>\n",
              "      <th>valores reais</th>\n",
              "      <th>valores preditos</th>\n",
              "    </tr>\n",
              "  </thead>\n",
              "  <tbody>\n",
              "    <tr>\n",
              "      <th>21436</th>\n",
              "      <td>9999</td>\n",
              "      <td>9516.790880</td>\n",
              "    </tr>\n",
              "    <tr>\n",
              "      <th>362001</th>\n",
              "      <td>699</td>\n",
              "      <td>2422.664406</td>\n",
              "    </tr>\n",
              "    <tr>\n",
              "      <th>253269</th>\n",
              "      <td>200</td>\n",
              "      <td>1728.683282</td>\n",
              "    </tr>\n",
              "    <tr>\n",
              "      <th>299396</th>\n",
              "      <td>5500</td>\n",
              "      <td>4672.457373</td>\n",
              "    </tr>\n",
              "    <tr>\n",
              "      <th>182938</th>\n",
              "      <td>899</td>\n",
              "      <td>1503.931186</td>\n",
              "    </tr>\n",
              "    <tr>\n",
              "      <th>...</th>\n",
              "      <td>...</td>\n",
              "      <td>...</td>\n",
              "    </tr>\n",
              "    <tr>\n",
              "      <th>41107</th>\n",
              "      <td>900</td>\n",
              "      <td>1955.368139</td>\n",
              "    </tr>\n",
              "    <tr>\n",
              "      <th>50784</th>\n",
              "      <td>5000</td>\n",
              "      <td>5714.357131</td>\n",
              "    </tr>\n",
              "    <tr>\n",
              "      <th>93146</th>\n",
              "      <td>4190</td>\n",
              "      <td>2926.684773</td>\n",
              "    </tr>\n",
              "    <tr>\n",
              "      <th>296845</th>\n",
              "      <td>4500</td>\n",
              "      <td>3309.897033</td>\n",
              "    </tr>\n",
              "    <tr>\n",
              "      <th>318901</th>\n",
              "      <td>7500</td>\n",
              "      <td>6280.984241</td>\n",
              "    </tr>\n",
              "  </tbody>\n",
              "</table>\n",
              "<p>100 rows × 2 columns</p>\n",
              "</div>\n",
              "      <button class=\"colab-df-convert\" onclick=\"convertToInteractive('df-7cefb3a7-69c2-4ac8-b2f3-1bc380ec98b6')\"\n",
              "              title=\"Convert this dataframe to an interactive table.\"\n",
              "              style=\"display:none;\">\n",
              "        \n",
              "  <svg xmlns=\"http://www.w3.org/2000/svg\" height=\"24px\"viewBox=\"0 0 24 24\"\n",
              "       width=\"24px\">\n",
              "    <path d=\"M0 0h24v24H0V0z\" fill=\"none\"/>\n",
              "    <path d=\"M18.56 5.44l.94 2.06.94-2.06 2.06-.94-2.06-.94-.94-2.06-.94 2.06-2.06.94zm-11 1L8.5 8.5l.94-2.06 2.06-.94-2.06-.94L8.5 2.5l-.94 2.06-2.06.94zm10 10l.94 2.06.94-2.06 2.06-.94-2.06-.94-.94-2.06-.94 2.06-2.06.94z\"/><path d=\"M17.41 7.96l-1.37-1.37c-.4-.4-.92-.59-1.43-.59-.52 0-1.04.2-1.43.59L10.3 9.45l-7.72 7.72c-.78.78-.78 2.05 0 2.83L4 21.41c.39.39.9.59 1.41.59.51 0 1.02-.2 1.41-.59l7.78-7.78 2.81-2.81c.8-.78.8-2.07 0-2.86zM5.41 20L4 18.59l7.72-7.72 1.47 1.35L5.41 20z\"/>\n",
              "  </svg>\n",
              "      </button>\n",
              "      \n",
              "  <style>\n",
              "    .colab-df-container {\n",
              "      display:flex;\n",
              "      flex-wrap:wrap;\n",
              "      gap: 12px;\n",
              "    }\n",
              "\n",
              "    .colab-df-convert {\n",
              "      background-color: #E8F0FE;\n",
              "      border: none;\n",
              "      border-radius: 50%;\n",
              "      cursor: pointer;\n",
              "      display: none;\n",
              "      fill: #1967D2;\n",
              "      height: 32px;\n",
              "      padding: 0 0 0 0;\n",
              "      width: 32px;\n",
              "    }\n",
              "\n",
              "    .colab-df-convert:hover {\n",
              "      background-color: #E2EBFA;\n",
              "      box-shadow: 0px 1px 2px rgba(60, 64, 67, 0.3), 0px 1px 3px 1px rgba(60, 64, 67, 0.15);\n",
              "      fill: #174EA6;\n",
              "    }\n",
              "\n",
              "    [theme=dark] .colab-df-convert {\n",
              "      background-color: #3B4455;\n",
              "      fill: #D2E3FC;\n",
              "    }\n",
              "\n",
              "    [theme=dark] .colab-df-convert:hover {\n",
              "      background-color: #434B5C;\n",
              "      box-shadow: 0px 1px 3px 1px rgba(0, 0, 0, 0.15);\n",
              "      filter: drop-shadow(0px 1px 2px rgba(0, 0, 0, 0.3));\n",
              "      fill: #FFFFFF;\n",
              "    }\n",
              "  </style>\n",
              "\n",
              "      <script>\n",
              "        const buttonEl =\n",
              "          document.querySelector('#df-7cefb3a7-69c2-4ac8-b2f3-1bc380ec98b6 button.colab-df-convert');\n",
              "        buttonEl.style.display =\n",
              "          google.colab.kernel.accessAllowed ? 'block' : 'none';\n",
              "\n",
              "        async function convertToInteractive(key) {\n",
              "          const element = document.querySelector('#df-7cefb3a7-69c2-4ac8-b2f3-1bc380ec98b6');\n",
              "          const dataTable =\n",
              "            await google.colab.kernel.invokeFunction('convertToInteractive',\n",
              "                                                     [key], {});\n",
              "          if (!dataTable) return;\n",
              "\n",
              "          const docLinkHtml = 'Like what you see? Visit the ' +\n",
              "            '<a target=\"_blank\" href=https://colab.research.google.com/notebooks/data_table.ipynb>data table notebook</a>'\n",
              "            + ' to learn more about interactive tables.';\n",
              "          element.innerHTML = '';\n",
              "          dataTable['output_type'] = 'display_data';\n",
              "          await google.colab.output.renderOutput(dataTable, element);\n",
              "          const docLink = document.createElement('div');\n",
              "          docLink.innerHTML = docLinkHtml;\n",
              "          element.appendChild(docLink);\n",
              "        }\n",
              "      </script>\n",
              "    </div>\n",
              "  </div>\n",
              "  "
            ]
          },
          "metadata": {},
          "execution_count": 70
        }
      ],
      "source": [
        "tabela_rfr"
      ]
    },
    {
      "cell_type": "markdown",
      "metadata": {
        "id": "pqJXRWe04rwd"
      },
      "source": [
        "**Vamos criar uma tabela com a porcentagem de acertos para cada dado**"
      ]
    },
    {
      "cell_type": "code",
      "execution_count": null,
      "metadata": {
        "id": "JNL4Doike4PW"
      },
      "outputs": [],
      "source": [
        "tabela_rfr = pd.DataFrame()"
      ]
    },
    {
      "cell_type": "code",
      "execution_count": null,
      "metadata": {
        "id": "nBArZVvAe4FO"
      },
      "outputs": [],
      "source": [
        "tabela_rfr[\"valores reais\"] = y_test"
      ]
    },
    {
      "cell_type": "code",
      "execution_count": null,
      "metadata": {
        "id": "Hd55UIdde6yu"
      },
      "outputs": [],
      "source": [
        "tabela_rfr[\"valores preditos\"] = y_pred_test_rfr"
      ]
    },
    {
      "cell_type": "code",
      "execution_count": null,
      "metadata": {
        "id": "egBGyryvgFGK"
      },
      "outputs": [],
      "source": [
        "tabela_rfr[\"porcentagem de acerto %\"]= (y_test/y_pred_test_rfr)*100"
      ]
    },
    {
      "cell_type": "code",
      "execution_count": null,
      "metadata": {
        "id": "hgwAxLyDjE8X"
      },
      "outputs": [],
      "source": [
        "lista_num = []\n",
        "for c in tabela_rfr[\"porcentagem de acerto %\"]:\n",
        "  if c > 100:\n",
        "    num = abs(c - 200)\n",
        "    lista_num.append(num)\n",
        "  else:\n",
        "    num = c\n",
        "    lista_num.append(num)\n",
        "  \n",
        "\n",
        "tabela_rfr[\"porcentagem de acerto %\"]= lista_num"
      ]
    },
    {
      "cell_type": "code",
      "execution_count": null,
      "metadata": {
        "colab": {
          "base_uri": "https://localhost:8080/",
          "height": 424
        },
        "id": "hlwvK8pne83-",
        "outputId": "d21552fb-89f2-4ac0-e120-120980ffee38"
      },
      "outputs": [
        {
          "output_type": "execute_result",
          "data": {
            "text/plain": [
              "        valores reais  valores preditos  porcentagem de acerto %\n",
              "21436            9999       9516.790880                94.933070\n",
              "362001            699       2422.664406                28.852531\n",
              "253269            200       1728.683282                11.569499\n",
              "299396           5500       4672.457373                82.288921\n",
              "182938            899       1503.931186                59.776671\n",
              "...               ...               ...                      ...\n",
              "41107             900       1955.368139                46.027138\n",
              "50784            5000       5714.357131                87.498906\n",
              "93146            4190       2926.684773                56.834599\n",
              "296845           4500       3309.897033                64.044109\n",
              "318901           7500       6280.984241                80.591963\n",
              "\n",
              "[100 rows x 3 columns]"
            ],
            "text/html": [
              "\n",
              "  <div id=\"df-2253da12-20bf-4bc1-8856-873145acb5df\">\n",
              "    <div class=\"colab-df-container\">\n",
              "      <div>\n",
              "<style scoped>\n",
              "    .dataframe tbody tr th:only-of-type {\n",
              "        vertical-align: middle;\n",
              "    }\n",
              "\n",
              "    .dataframe tbody tr th {\n",
              "        vertical-align: top;\n",
              "    }\n",
              "\n",
              "    .dataframe thead th {\n",
              "        text-align: right;\n",
              "    }\n",
              "</style>\n",
              "<table border=\"1\" class=\"dataframe\">\n",
              "  <thead>\n",
              "    <tr style=\"text-align: right;\">\n",
              "      <th></th>\n",
              "      <th>valores reais</th>\n",
              "      <th>valores preditos</th>\n",
              "      <th>porcentagem de acerto %</th>\n",
              "    </tr>\n",
              "  </thead>\n",
              "  <tbody>\n",
              "    <tr>\n",
              "      <th>21436</th>\n",
              "      <td>9999</td>\n",
              "      <td>9516.790880</td>\n",
              "      <td>94.933070</td>\n",
              "    </tr>\n",
              "    <tr>\n",
              "      <th>362001</th>\n",
              "      <td>699</td>\n",
              "      <td>2422.664406</td>\n",
              "      <td>28.852531</td>\n",
              "    </tr>\n",
              "    <tr>\n",
              "      <th>253269</th>\n",
              "      <td>200</td>\n",
              "      <td>1728.683282</td>\n",
              "      <td>11.569499</td>\n",
              "    </tr>\n",
              "    <tr>\n",
              "      <th>299396</th>\n",
              "      <td>5500</td>\n",
              "      <td>4672.457373</td>\n",
              "      <td>82.288921</td>\n",
              "    </tr>\n",
              "    <tr>\n",
              "      <th>182938</th>\n",
              "      <td>899</td>\n",
              "      <td>1503.931186</td>\n",
              "      <td>59.776671</td>\n",
              "    </tr>\n",
              "    <tr>\n",
              "      <th>...</th>\n",
              "      <td>...</td>\n",
              "      <td>...</td>\n",
              "      <td>...</td>\n",
              "    </tr>\n",
              "    <tr>\n",
              "      <th>41107</th>\n",
              "      <td>900</td>\n",
              "      <td>1955.368139</td>\n",
              "      <td>46.027138</td>\n",
              "    </tr>\n",
              "    <tr>\n",
              "      <th>50784</th>\n",
              "      <td>5000</td>\n",
              "      <td>5714.357131</td>\n",
              "      <td>87.498906</td>\n",
              "    </tr>\n",
              "    <tr>\n",
              "      <th>93146</th>\n",
              "      <td>4190</td>\n",
              "      <td>2926.684773</td>\n",
              "      <td>56.834599</td>\n",
              "    </tr>\n",
              "    <tr>\n",
              "      <th>296845</th>\n",
              "      <td>4500</td>\n",
              "      <td>3309.897033</td>\n",
              "      <td>64.044109</td>\n",
              "    </tr>\n",
              "    <tr>\n",
              "      <th>318901</th>\n",
              "      <td>7500</td>\n",
              "      <td>6280.984241</td>\n",
              "      <td>80.591963</td>\n",
              "    </tr>\n",
              "  </tbody>\n",
              "</table>\n",
              "<p>100 rows × 3 columns</p>\n",
              "</div>\n",
              "      <button class=\"colab-df-convert\" onclick=\"convertToInteractive('df-2253da12-20bf-4bc1-8856-873145acb5df')\"\n",
              "              title=\"Convert this dataframe to an interactive table.\"\n",
              "              style=\"display:none;\">\n",
              "        \n",
              "  <svg xmlns=\"http://www.w3.org/2000/svg\" height=\"24px\"viewBox=\"0 0 24 24\"\n",
              "       width=\"24px\">\n",
              "    <path d=\"M0 0h24v24H0V0z\" fill=\"none\"/>\n",
              "    <path d=\"M18.56 5.44l.94 2.06.94-2.06 2.06-.94-2.06-.94-.94-2.06-.94 2.06-2.06.94zm-11 1L8.5 8.5l.94-2.06 2.06-.94-2.06-.94L8.5 2.5l-.94 2.06-2.06.94zm10 10l.94 2.06.94-2.06 2.06-.94-2.06-.94-.94-2.06-.94 2.06-2.06.94z\"/><path d=\"M17.41 7.96l-1.37-1.37c-.4-.4-.92-.59-1.43-.59-.52 0-1.04.2-1.43.59L10.3 9.45l-7.72 7.72c-.78.78-.78 2.05 0 2.83L4 21.41c.39.39.9.59 1.41.59.51 0 1.02-.2 1.41-.59l7.78-7.78 2.81-2.81c.8-.78.8-2.07 0-2.86zM5.41 20L4 18.59l7.72-7.72 1.47 1.35L5.41 20z\"/>\n",
              "  </svg>\n",
              "      </button>\n",
              "      \n",
              "  <style>\n",
              "    .colab-df-container {\n",
              "      display:flex;\n",
              "      flex-wrap:wrap;\n",
              "      gap: 12px;\n",
              "    }\n",
              "\n",
              "    .colab-df-convert {\n",
              "      background-color: #E8F0FE;\n",
              "      border: none;\n",
              "      border-radius: 50%;\n",
              "      cursor: pointer;\n",
              "      display: none;\n",
              "      fill: #1967D2;\n",
              "      height: 32px;\n",
              "      padding: 0 0 0 0;\n",
              "      width: 32px;\n",
              "    }\n",
              "\n",
              "    .colab-df-convert:hover {\n",
              "      background-color: #E2EBFA;\n",
              "      box-shadow: 0px 1px 2px rgba(60, 64, 67, 0.3), 0px 1px 3px 1px rgba(60, 64, 67, 0.15);\n",
              "      fill: #174EA6;\n",
              "    }\n",
              "\n",
              "    [theme=dark] .colab-df-convert {\n",
              "      background-color: #3B4455;\n",
              "      fill: #D2E3FC;\n",
              "    }\n",
              "\n",
              "    [theme=dark] .colab-df-convert:hover {\n",
              "      background-color: #434B5C;\n",
              "      box-shadow: 0px 1px 3px 1px rgba(0, 0, 0, 0.15);\n",
              "      filter: drop-shadow(0px 1px 2px rgba(0, 0, 0, 0.3));\n",
              "      fill: #FFFFFF;\n",
              "    }\n",
              "  </style>\n",
              "\n",
              "      <script>\n",
              "        const buttonEl =\n",
              "          document.querySelector('#df-2253da12-20bf-4bc1-8856-873145acb5df button.colab-df-convert');\n",
              "        buttonEl.style.display =\n",
              "          google.colab.kernel.accessAllowed ? 'block' : 'none';\n",
              "\n",
              "        async function convertToInteractive(key) {\n",
              "          const element = document.querySelector('#df-2253da12-20bf-4bc1-8856-873145acb5df');\n",
              "          const dataTable =\n",
              "            await google.colab.kernel.invokeFunction('convertToInteractive',\n",
              "                                                     [key], {});\n",
              "          if (!dataTable) return;\n",
              "\n",
              "          const docLinkHtml = 'Like what you see? Visit the ' +\n",
              "            '<a target=\"_blank\" href=https://colab.research.google.com/notebooks/data_table.ipynb>data table notebook</a>'\n",
              "            + ' to learn more about interactive tables.';\n",
              "          element.innerHTML = '';\n",
              "          dataTable['output_type'] = 'display_data';\n",
              "          await google.colab.output.renderOutput(dataTable, element);\n",
              "          const docLink = document.createElement('div');\n",
              "          docLink.innerHTML = docLinkHtml;\n",
              "          element.appendChild(docLink);\n",
              "        }\n",
              "      </script>\n",
              "    </div>\n",
              "  </div>\n",
              "  "
            ]
          },
          "metadata": {},
          "execution_count": 76
        }
      ],
      "source": [
        "tabela_rfr"
      ]
    },
    {
      "cell_type": "markdown",
      "metadata": {
        "id": "YYgVyk65c8bH"
      },
      "source": [
        "## **XGBOOST**"
      ]
    },
    {
      "cell_type": "code",
      "execution_count": null,
      "metadata": {
        "execution": {
          "iopub.execute_input": "2022-07-04T19:01:20.649646Z",
          "iopub.status.busy": "2022-07-04T19:01:20.649011Z",
          "iopub.status.idle": "2022-07-04T19:01:20.774769Z",
          "shell.execute_reply": "2022-07-04T19:01:20.773335Z",
          "shell.execute_reply.started": "2022-07-04T19:01:20.649596Z"
        },
        "id": "lmehUk-Fc8bH"
      },
      "outputs": [],
      "source": [
        "from xgboost import XGBRegressor"
      ]
    },
    {
      "cell_type": "code",
      "execution_count": null,
      "metadata": {
        "colab": {
          "base_uri": "https://localhost:8080/"
        },
        "execution": {
          "iopub.execute_input": "2022-07-05T00:58:39.306002Z",
          "iopub.status.busy": "2022-07-05T00:58:39.305542Z",
          "iopub.status.idle": "2022-07-05T01:02:18.329714Z",
          "shell.execute_reply": "2022-07-05T01:02:18.328430Z",
          "shell.execute_reply.started": "2022-07-05T00:58:39.305970Z"
        },
        "id": "e-eFLMGWc8bI",
        "outputId": "1c879ee1-fd90-4974-86fa-03f210a7f2d1"
      },
      "outputs": [
        {
          "output_type": "stream",
          "name": "stdout",
          "text": [
            "Fitting 5 folds for each of 36 candidates, totalling 180 fits\n",
            "[04:56:07] WARNING: /workspace/src/objective/regression_obj.cu:152: reg:linear is now deprecated in favor of reg:squarederror.\n"
          ]
        },
        {
          "output_type": "execute_result",
          "data": {
            "text/plain": [
              "GridSearchCV(cv=StratifiedKFold(n_splits=5, random_state=42, shuffle=True),\n",
              "             estimator=Pipeline(steps=[('pre_processador',\n",
              "                                        ColumnTransformer(transformers=[('transf_num',\n",
              "                                                                         Pipeline(steps=[('input_num',\n",
              "                                                                                          SimpleImputer()),\n",
              "                                                                                         ('std',\n",
              "                                                                                          StandardScaler())]),\n",
              "                                                                         ['yearOfRegistration',\n",
              "                                                                          'powerPS',\n",
              "                                                                          'kilometer',\n",
              "                                                                          'monthOfRegistration']),\n",
              "                                                                        ('transf_cat_oe',\n",
              "                                                                         Pipeline(steps=[('input_cat_...\n",
              "                                                                                          OneHotEncoder(handle_unknown='ignore'))]),\n",
              "                                                                         ['abtest',\n",
              "                                                                          'gearbox',\n",
              "                                                                          'notRepairedDamage'])])),\n",
              "                                       ('xgbr',\n",
              "                                        XGBRegressor(eval_metric='logloss',\n",
              "                                                     random_state=42))]),\n",
              "             n_jobs=-1,\n",
              "             param_grid={'xgbr__colsample_bytree': [0.5],\n",
              "                         'xgbr__learning_rate': [0.1, 0.01, 0.001],\n",
              "                         'xgbr__max_depth': [2, 3, 5, 8],\n",
              "                         'xgbr__n_estimators': [1000, 5000, 10000],\n",
              "                         'xgbr__subsample': [0.5]},\n",
              "             scoring='r2', verbose=10)"
            ]
          },
          "metadata": {},
          "execution_count": 121
        }
      ],
      "source": [
        "#Separando o que é features e target:\n",
        "X = df.drop(columns=\"price\")\n",
        "y = df[\"price\"]\n",
        "\n",
        "# Dividindo em dados de teste e dados de treino, peguei 20% para dados de teste:\n",
        "X_train, X_test, y_train, y_test = train_test_split(X, y, test_size=0.2, random_state=13)\n",
        "\n",
        "# Iniciando a construção da Pipeline:\n",
        "# ==========================================================\n",
        "#Primeiro vamos tratar as features numéricas. Tratando os valores nulos (NaN) e escalonando já que a variância entre as features é grande.\n",
        "pipe_features_num = Pipeline([(\"input_num\", SimpleImputer(strategy=\"mean\")),\n",
        "                              (\"std\", StandardScaler())])\n",
        "\n",
        "features_num = X_train.select_dtypes(include=np.number).columns.tolist()\n",
        "# ==========================================================\n",
        "# Tratando as features categóricas. Os valores nulos (NaN) serão preenchidos pelos dados mais constantes e posteriormente codificaremos todas elas com o One Hot Encoder e Ordinal Enconder. Percebemos que o One Hot Encoder \n",
        "# é para features categóricas binárias e o Ordinal Enconder para features categóricas ordinais (não binários)\n",
        "\n",
        "pipe_features_oe = Pipeline([(\"input_cat_oe\", SimpleImputer(strategy=\"constant\", fill_value=\"unknown\")),\n",
        "                             (\"ordinal\", OrdinalEncoder(handle_unknown='use_encoded_value', unknown_value=-1))])\n",
        "\n",
        "features_oe = [\"vehicleType\", \"model\", \"fuelType\", \"brand\"]\n",
        "\n",
        "# ==========================================================\n",
        "# Tratando as features categóricas. Os valores nulos (NaN) serão preenchidos pelos dados por \"unknown\" e posteriormente codificaremos todas elas com o One Hot Encoder.\n",
        "\n",
        "pipe_features_ohe = Pipeline([(\"input_cat_ohe\", SimpleImputer(strategy=\"constant\", fill_value=\"unknown\")),\n",
        "                            (\"OneHot\", OneHotEncoder(handle_unknown='ignore'))])\n",
        "\n",
        "features_ohe = [\"abtest\", \"gearbox\", \"notRepairedDamage\"]\n",
        "\n",
        "# ==========================================================\n",
        "# Pré-processador => Pegando as pipelines anteriores e unindo-as.\n",
        "pre_processador = ColumnTransformer([(\"transf_num\", pipe_features_num, features_num),\n",
        "                                     (\"transf_cat_oe\", pipe_features_oe, features_oe),\n",
        "                                     (\"transf_cat_ohe\", pipe_features_ohe, features_ohe)])\n",
        "\n",
        "# ==========================================================\n",
        "# Pipeline final, usando o pré-processador e o estimador que queremos utilizar, neste caso o XGBoost para regressão.\n",
        "pipe_xgbr = Pipeline([(\"pre_processador\", pre_processador),\n",
        "                     (\"xgbr\", XGBRegressor(eval_metric='logloss', random_state=42))])\n",
        "\n",
        "# ==========================================================\n",
        "#Vamos dividir em splits para ter mais variedade no processamento dos dados.\n",
        "splitter = StratifiedKFold(n_splits=5, random_state=42, shuffle=True)\n",
        "\n",
        "#Montando a grade de parâmetros do estimador (XGBoost)\n",
        "params_grid_xgbr = {\"xgbr__n_estimators\": [1000, 5000, 10000],\n",
        "                   \"xgbr__max_depth\": [2, 3, 5, 8],\n",
        "                   \"xgbr__learning_rate\": [0.1, 0.01, 0.001],\n",
        "                   \"xgbr__colsample_bytree\": [0.5],\n",
        "                   \"xgbr__subsample\": [0.5]}\n",
        "\n",
        "\n",
        "#Motando a grade geral de parâmetros.\n",
        "auto_grid_xgbr = GridSearchCV(estimator=pipe_xgbr,\n",
        "                       param_grid=params_grid_xgbr,\n",
        "                       scoring=\"r2\",\n",
        "                       cv=splitter,\n",
        "                       verbose=10,\n",
        "                       n_jobs=-1)\n",
        "\n",
        "auto_grid_xgbr.fit(X_train, y_train)"
      ]
    },
    {
      "cell_type": "code",
      "execution_count": null,
      "metadata": {
        "collapsed": true,
        "execution": {
          "iopub.execute_input": "2022-07-04T21:37:34.559124Z",
          "iopub.status.busy": "2022-07-04T21:37:34.558167Z",
          "iopub.status.idle": "2022-07-04T21:37:34.565840Z",
          "shell.execute_reply": "2022-07-04T21:37:34.565007Z",
          "shell.execute_reply.started": "2022-07-04T21:37:34.559057Z"
        },
        "id": "DAKnu8-xc8bI",
        "jupyter": {
          "outputs_hidden": true
        },
        "colab": {
          "base_uri": "https://localhost:8080/"
        },
        "outputId": "52a21be1-54f1-4b83-e52c-2d1737e6f271"
      },
      "outputs": [
        {
          "output_type": "execute_result",
          "data": {
            "text/plain": [
              "{'xgbr__colsample_bytree': 0.5,\n",
              " 'xgbr__learning_rate': 0.001,\n",
              " 'xgbr__max_depth': 5,\n",
              " 'xgbr__n_estimators': 5000,\n",
              " 'xgbr__subsample': 0.5}"
            ]
          },
          "metadata": {},
          "execution_count": 123
        }
      ],
      "source": [
        "auto_grid_xgbr.best_params_"
      ]
    },
    {
      "cell_type": "code",
      "execution_count": null,
      "metadata": {
        "collapsed": true,
        "execution": {
          "iopub.execute_input": "2022-07-04T14:20:52.445534Z",
          "iopub.status.busy": "2022-07-04T14:20:52.445074Z",
          "iopub.status.idle": "2022-07-04T14:20:52.487086Z",
          "shell.execute_reply": "2022-07-04T14:20:52.486289Z",
          "shell.execute_reply.started": "2022-07-04T14:20:52.445484Z"
        },
        "id": "Bzqj-9m-c8bJ",
        "jupyter": {
          "outputs_hidden": true
        }
      },
      "outputs": [],
      "source": [
        "xgbr_results = pd.DataFrame(auto_grid_xgbr.cv_results_)\n",
        "xgbr_results.sort_values(by=[\"rank_test_score\"])"
      ]
    },
    {
      "cell_type": "code",
      "execution_count": null,
      "metadata": {
        "colab": {
          "base_uri": "https://localhost:8080/"
        },
        "execution": {
          "iopub.execute_input": "2022-07-05T01:02:43.684643Z",
          "iopub.status.busy": "2022-07-05T01:02:43.684163Z",
          "iopub.status.idle": "2022-07-05T01:02:45.252934Z",
          "shell.execute_reply": "2022-07-05T01:02:45.251778Z",
          "shell.execute_reply.started": "2022-07-05T01:02:43.684604Z"
        },
        "id": "uzhLcpnDc8bK",
        "outputId": "d97ea513-6197-4d01-cc50-a27a8eccbefb"
      },
      "outputs": [
        {
          "output_type": "stream",
          "name": "stdout",
          "text": [
            "\n",
            "Métricas de treino:\n",
            "\n",
            "R^2: 0.92\n",
            "MAE: 1264.73\n",
            "RMSE: 2489.66\n",
            "\n",
            "Métricas de teste:\n",
            "\n",
            "R^2: 0.81\n",
            "MAE: 1857.17\n",
            "RMSE: 3454.10\n"
          ]
        }
      ],
      "source": [
        "# Predições de treino\n",
        "y_pred_train_xgbr = auto_grid_xgbr.predict(X_train)\n",
        "\n",
        "print(\"\\nMétricas de treino:\\n\")\n",
        "print(f\"R^2: {r2_score(y_train, y_pred_train_xgbr):.2f}\")\n",
        "print(f\"MAE: {mean_absolute_error(y_train, y_pred_train_xgbr):.2f}\")\n",
        "print(f\"RMSE: {np.sqrt(mean_squared_error(y_train, y_pred_train_xgbr)):.2f}\")\n",
        "\n",
        "# Predições de teste\n",
        "y_pred_test_xgbr = auto_grid_xgbr.predict(X_test)\n",
        "\n",
        "print(\"\\nMétricas de teste:\\n\")\n",
        "print(f\"R^2: {r2_score(y_test, y_pred_test_xgbr):.2f}\")\n",
        "print(f\"MAE: {mean_absolute_error(y_test, y_pred_test_xgbr):.2f}\")\n",
        "print(f\"RMSE: {np.sqrt(mean_squared_error(y_test, y_pred_test_xgbr)):.2f}\") "
      ]
    },
    {
      "cell_type": "code",
      "execution_count": null,
      "metadata": {
        "colab": {
          "base_uri": "https://localhost:8080/",
          "height": 499
        },
        "execution": {
          "iopub.execute_input": "2022-07-05T01:05:58.697717Z",
          "iopub.status.busy": "2022-07-05T01:05:58.696913Z",
          "iopub.status.idle": "2022-07-05T01:05:59.069653Z",
          "shell.execute_reply": "2022-07-05T01:05:59.068345Z",
          "shell.execute_reply.started": "2022-07-05T01:05:58.697665Z"
        },
        "id": "zH-xPhTkc8bK",
        "outputId": "efbd9225-afd2-420d-875e-2f9c4b924e91"
      },
      "outputs": [
        {
          "output_type": "display_data",
          "data": {
            "text/plain": [
              "<Figure size 2160x576 with 1 Axes>"
            ],
            "image/png": "[encoded data removed]"
          },
          "metadata": {
            "needs_background": "light"
          }
        }
      ],
      "source": [
        "plt.figure(figsize=(30,8))\n",
        "x_ax = range(len(y_test))\n",
        "plt.plot(x_ax, y_test, label=\"original\")\n",
        "plt.plot(x_ax, y_pred_test_xgbr, label=\"predito\")\n",
        "plt.title(\"Comparação dos valores reais e preditos\")\n",
        "plt.legend()\n",
        "plt.show();"
      ]
    },
    {
      "cell_type": "code",
      "execution_count": null,
      "metadata": {
        "execution": {
          "iopub.execute_input": "2022-07-04T23:50:10.517694Z",
          "iopub.status.busy": "2022-07-04T23:50:10.517196Z",
          "iopub.status.idle": "2022-07-04T23:50:10.524008Z",
          "shell.execute_reply": "2022-07-04T23:50:10.522741Z",
          "shell.execute_reply.started": "2022-07-04T23:50:10.517659Z"
        },
        "id": "0fYoLUssc8bK"
      },
      "outputs": [],
      "source": [
        "import pickle"
      ]
    },
    {
      "cell_type": "code",
      "execution_count": null,
      "metadata": {
        "execution": {
          "iopub.execute_input": "2022-07-05T01:03:00.685460Z",
          "iopub.status.busy": "2022-07-05T01:03:00.684448Z",
          "iopub.status.idle": "2022-07-05T01:03:00.790710Z",
          "shell.execute_reply": "2022-07-05T01:03:00.788824Z",
          "shell.execute_reply.started": "2022-07-05T01:03:00.685404Z"
        },
        "id": "jfhpHY6vc8bL"
      },
      "outputs": [],
      "source": [
        "with open(\"auto_grid_xgbr.pkl\", \"wb\") as f:\n",
        "    pickle.dump(auto_grid_xgbr, f)"
      ]
    },
    {
      "cell_type": "code",
      "execution_count": null,
      "metadata": {
        "id": "sNYrXM8ec8bL"
      },
      "outputs": [],
      "source": [
        "with open(\"auto_grid_xgbr.pkl\", \"rb\") as f:\n",
        "    \n",
        "    auto_grid_xgbr = pickle.load(f)"
      ]
    },
    {
      "cell_type": "code",
      "execution_count": null,
      "metadata": {
        "execution": {
          "iopub.execute_input": "2022-07-05T01:06:24.486935Z",
          "iopub.status.busy": "2022-07-05T01:06:24.485551Z",
          "iopub.status.idle": "2022-07-05T01:06:24.495627Z",
          "shell.execute_reply": "2022-07-05T01:06:24.494426Z",
          "shell.execute_reply.started": "2022-07-05T01:06:24.486869Z"
        },
        "id": "5rebXbdwc8bM"
      },
      "outputs": [],
      "source": [
        "y_pred_test_xgbr"
      ]
    },
    {
      "cell_type": "code",
      "execution_count": null,
      "metadata": {
        "colab": {
          "base_uri": "https://localhost:8080/"
        },
        "execution": {
          "iopub.execute_input": "2022-07-05T01:07:30.826412Z",
          "iopub.status.busy": "2022-07-05T01:07:30.825316Z",
          "iopub.status.idle": "2022-07-05T01:07:30.834027Z",
          "shell.execute_reply": "2022-07-05T01:07:30.832959Z",
          "shell.execute_reply.started": "2022-07-05T01:07:30.826361Z"
        },
        "id": "zEem5V6Wc8bM",
        "outputId": "28e4f977-71ea-4012-c1ec-2e69e59f66b0"
      },
      "outputs": [
        {
          "data": {
            "text/plain": [
              "array([2600000.,  620000., 1000000., ..., 2450000., 1155000., 1040000.])"
            ]
          },
          "execution_count": 68,
          "metadata": {},
          "output_type": "execute_result"
        }
      ],
      "source": [
        "y_test.values"
      ]
    },
    {
      "cell_type": "markdown",
      "metadata": {
        "id": "08Z7JIijkG8F"
      },
      "source": [
        "**Vamos criar uma tabela com a porcentagem de acertos para cada dado**"
      ]
    },
    {
      "cell_type": "code",
      "execution_count": null,
      "metadata": {
        "execution": {
          "iopub.execute_input": "2022-07-05T01:07:40.588922Z",
          "iopub.status.busy": "2022-07-05T01:07:40.588438Z",
          "iopub.status.idle": "2022-07-05T01:07:40.596087Z",
          "shell.execute_reply": "2022-07-05T01:07:40.594620Z",
          "shell.execute_reply.started": "2022-07-05T01:07:40.588882Z"
        },
        "id": "XVSopcR-c8bM"
      },
      "outputs": [],
      "source": [
        "tabela_xgbr = pd.DataFrame()"
      ]
    },
    {
      "cell_type": "code",
      "execution_count": null,
      "metadata": {
        "execution": {
          "iopub.execute_input": "2022-07-05T01:08:00.638005Z",
          "iopub.status.busy": "2022-07-05T01:08:00.637552Z",
          "iopub.status.idle": "2022-07-05T01:08:00.646545Z",
          "shell.execute_reply": "2022-07-05T01:08:00.645413Z",
          "shell.execute_reply.started": "2022-07-05T01:08:00.637972Z"
        },
        "id": "I96XCUNXc8bN"
      },
      "outputs": [],
      "source": [
        "tabela_xgbr[\"valores reais\"] = y_test"
      ]
    },
    {
      "cell_type": "code",
      "execution_count": null,
      "metadata": {
        "execution": {
          "iopub.execute_input": "2022-07-05T01:08:27.467412Z",
          "iopub.status.busy": "2022-07-05T01:08:27.466894Z",
          "iopub.status.idle": "2022-07-05T01:08:27.474561Z",
          "shell.execute_reply": "2022-07-05T01:08:27.473152Z",
          "shell.execute_reply.started": "2022-07-05T01:08:27.467371Z"
        },
        "id": "aLkGND4Lc8bN"
      },
      "outputs": [],
      "source": [
        "tabela_xgbr[\"valores preditos\"] = y_pred_test_xgbr"
      ]
    },
    {
      "cell_type": "code",
      "execution_count": null,
      "metadata": {
        "id": "ySKq7WYj6tuW"
      },
      "outputs": [],
      "source": [
        "tabela_xgbr[\"porcentagem de acerto %\"]= (y_test/y_pred_test_xgbr)*100"
      ]
    },
    {
      "cell_type": "code",
      "execution_count": null,
      "metadata": {
        "id": "xoGWh5876tuW"
      },
      "outputs": [],
      "source": [
        "lista_num = []\n",
        "for c in tabela_xgbr[\"porcentagem de acerto %\"]:\n",
        "  if c > 100:\n",
        "    num = abs(c - 200)\n",
        "    lista_num.append(num)\n",
        "  else:\n",
        "    num = c\n",
        "    lista_num.append(num)\n",
        "  \n",
        "\n",
        "tabela_xgbr[\"porcentagem de acerto %\"]= lista_num"
      ]
    },
    {
      "cell_type": "code",
      "execution_count": null,
      "metadata": {
        "colab": {
          "base_uri": "https://localhost:8080/",
          "height": 424
        },
        "id": "z-k7Efca6tuX",
        "outputId": "90a80727-44f4-42cd-e286-82a6765adef6"
      },
      "outputs": [
        {
          "output_type": "execute_result",
          "data": {
            "text/plain": [
              "        valores reais  valores preditos  porcentagem de acerto %\n",
              "197774           3500       3280.881104                93.321340\n",
              "201204            700        474.646576                52.521848\n",
              "279969           3500       5620.508301                62.271948\n",
              "224886           1400       2500.901855                55.979806\n",
              "128399            150        -84.158684              -178.234727\n",
              "...               ...               ...                      ...\n",
              "229142           2850       4033.769775                70.653512\n",
              "279800          17250      14064.619141                77.351816\n",
              "126485           1500       1760.923584                85.182572\n",
              "130355            500        994.183044                50.292550\n",
              "352514          31300      31220.705078                99.746018\n",
              "\n",
              "[200 rows x 3 columns]"
            ],
            "text/html": [
              "\n",
              "  <div id=\"df-11dde502-f29c-472f-bd45-7052fbab8c49\">\n",
              "    <div class=\"colab-df-container\">\n",
              "      <div>\n",
              "<style scoped>\n",
              "    .dataframe tbody tr th:only-of-type {\n",
              "        vertical-align: middle;\n",
              "    }\n",
              "\n",
              "    .dataframe tbody tr th {\n",
              "        vertical-align: top;\n",
              "    }\n",
              "\n",
              "    .dataframe thead th {\n",
              "        text-align: right;\n",
              "    }\n",
              "</style>\n",
              "<table border=\"1\" class=\"dataframe\">\n",
              "  <thead>\n",
              "    <tr style=\"text-align: right;\">\n",
              "      <th></th>\n",
              "      <th>valores reais</th>\n",
              "      <th>valores preditos</th>\n",
              "      <th>porcentagem de acerto %</th>\n",
              "    </tr>\n",
              "  </thead>\n",
              "  <tbody>\n",
              "    <tr>\n",
              "      <th>197774</th>\n",
              "      <td>3500</td>\n",
              "      <td>3280.881104</td>\n",
              "      <td>93.321340</td>\n",
              "    </tr>\n",
              "    <tr>\n",
              "      <th>201204</th>\n",
              "      <td>700</td>\n",
              "      <td>474.646576</td>\n",
              "      <td>52.521848</td>\n",
              "    </tr>\n",
              "    <tr>\n",
              "      <th>279969</th>\n",
              "      <td>3500</td>\n",
              "      <td>5620.508301</td>\n",
              "      <td>62.271948</td>\n",
              "    </tr>\n",
              "    <tr>\n",
              "      <th>224886</th>\n",
              "      <td>1400</td>\n",
              "      <td>2500.901855</td>\n",
              "      <td>55.979806</td>\n",
              "    </tr>\n",
              "    <tr>\n",
              "      <th>128399</th>\n",
              "      <td>150</td>\n",
              "      <td>-84.158684</td>\n",
              "      <td>-178.234727</td>\n",
              "    </tr>\n",
              "    <tr>\n",
              "      <th>...</th>\n",
              "      <td>...</td>\n",
              "      <td>...</td>\n",
              "      <td>...</td>\n",
              "    </tr>\n",
              "    <tr>\n",
              "      <th>229142</th>\n",
              "      <td>2850</td>\n",
              "      <td>4033.769775</td>\n",
              "      <td>70.653512</td>\n",
              "    </tr>\n",
              "    <tr>\n",
              "      <th>279800</th>\n",
              "      <td>17250</td>\n",
              "      <td>14064.619141</td>\n",
              "      <td>77.351816</td>\n",
              "    </tr>\n",
              "    <tr>\n",
              "      <th>126485</th>\n",
              "      <td>1500</td>\n",
              "      <td>1760.923584</td>\n",
              "      <td>85.182572</td>\n",
              "    </tr>\n",
              "    <tr>\n",
              "      <th>130355</th>\n",
              "      <td>500</td>\n",
              "      <td>994.183044</td>\n",
              "      <td>50.292550</td>\n",
              "    </tr>\n",
              "    <tr>\n",
              "      <th>352514</th>\n",
              "      <td>31300</td>\n",
              "      <td>31220.705078</td>\n",
              "      <td>99.746018</td>\n",
              "    </tr>\n",
              "  </tbody>\n",
              "</table>\n",
              "<p>200 rows × 3 columns</p>\n",
              "</div>\n",
              "      <button class=\"colab-df-convert\" onclick=\"convertToInteractive('df-11dde502-f29c-472f-bd45-7052fbab8c49')\"\n",
              "              title=\"Convert this dataframe to an interactive table.\"\n",
              "              style=\"display:none;\">\n",
              "        \n",
              "  <svg xmlns=\"http://www.w3.org/2000/svg\" height=\"24px\"viewBox=\"0 0 24 24\"\n",
              "       width=\"24px\">\n",
              "    <path d=\"M0 0h24v24H0V0z\" fill=\"none\"/>\n",
              "    <path d=\"M18.56 5.44l.94 2.06.94-2.06 2.06-.94-2.06-.94-.94-2.06-.94 2.06-2.06.94zm-11 1L8.5 8.5l.94-2.06 2.06-.94-2.06-.94L8.5 2.5l-.94 2.06-2.06.94zm10 10l.94 2.06.94-2.06 2.06-.94-2.06-.94-.94-2.06-.94 2.06-2.06.94z\"/><path d=\"M17.41 7.96l-1.37-1.37c-.4-.4-.92-.59-1.43-.59-.52 0-1.04.2-1.43.59L10.3 9.45l-7.72 7.72c-.78.78-.78 2.05 0 2.83L4 21.41c.39.39.9.59 1.41.59.51 0 1.02-.2 1.41-.59l7.78-7.78 2.81-2.81c.8-.78.8-2.07 0-2.86zM5.41 20L4 18.59l7.72-7.72 1.47 1.35L5.41 20z\"/>\n",
              "  </svg>\n",
              "      </button>\n",
              "      \n",
              "  <style>\n",
              "    .colab-df-container {\n",
              "      display:flex;\n",
              "      flex-wrap:wrap;\n",
              "      gap: 12px;\n",
              "    }\n",
              "\n",
              "    .colab-df-convert {\n",
              "      background-color: #E8F0FE;\n",
              "      border: none;\n",
              "      border-radius: 50%;\n",
              "      cursor: pointer;\n",
              "      display: none;\n",
              "      fill: #1967D2;\n",
              "      height: 32px;\n",
              "      padding: 0 0 0 0;\n",
              "      width: 32px;\n",
              "    }\n",
              "\n",
              "    .colab-df-convert:hover {\n",
              "      background-color: #E2EBFA;\n",
              "      box-shadow: 0px 1px 2px rgba(60, 64, 67, 0.3), 0px 1px 3px 1px rgba(60, 64, 67, 0.15);\n",
              "      fill: #174EA6;\n",
              "    }\n",
              "\n",
              "    [theme=dark] .colab-df-convert {\n",
              "      background-color: #3B4455;\n",
              "      fill: #D2E3FC;\n",
              "    }\n",
              "\n",
              "    [theme=dark] .colab-df-convert:hover {\n",
              "      background-color: #434B5C;\n",
              "      box-shadow: 0px 1px 3px 1px rgba(0, 0, 0, 0.15);\n",
              "      filter: drop-shadow(0px 1px 2px rgba(0, 0, 0, 0.3));\n",
              "      fill: #FFFFFF;\n",
              "    }\n",
              "  </style>\n",
              "\n",
              "      <script>\n",
              "        const buttonEl =\n",
              "          document.querySelector('#df-11dde502-f29c-472f-bd45-7052fbab8c49 button.colab-df-convert');\n",
              "        buttonEl.style.display =\n",
              "          google.colab.kernel.accessAllowed ? 'block' : 'none';\n",
              "\n",
              "        async function convertToInteractive(key) {\n",
              "          const element = document.querySelector('#df-11dde502-f29c-472f-bd45-7052fbab8c49');\n",
              "          const dataTable =\n",
              "            await google.colab.kernel.invokeFunction('convertToInteractive',\n",
              "                                                     [key], {});\n",
              "          if (!dataTable) return;\n",
              "\n",
              "          const docLinkHtml = 'Like what you see? Visit the ' +\n",
              "            '<a target=\"_blank\" href=https://colab.research.google.com/notebooks/data_table.ipynb>data table notebook</a>'\n",
              "            + ' to learn more about interactive tables.';\n",
              "          element.innerHTML = '';\n",
              "          dataTable['output_type'] = 'display_data';\n",
              "          await google.colab.output.renderOutput(dataTable, element);\n",
              "          const docLink = document.createElement('div');\n",
              "          docLink.innerHTML = docLinkHtml;\n",
              "          element.appendChild(docLink);\n",
              "        }\n",
              "      </script>\n",
              "    </div>\n",
              "  </div>\n",
              "  "
            ]
          },
          "metadata": {},
          "execution_count": 142
        }
      ],
      "source": [
        "tabela_xgbr"
      ]
    },
    {
      "cell_type": "markdown",
      "metadata": {
        "id": "eJHNWP3kV8iS"
      },
      "source": [
        "#**INTERPRETANDO O MODELO GLOBALMENTE**"
      ]
    },
    {
      "cell_type": "markdown",
      "metadata": {
        "id": "Qp1fQ46lWPTk"
      },
      "source": [
        "**Para a interpretação só podemos considerar as features numéricas, vamos retirar as features categóricas:**"
      ]
    },
    {
      "cell_type": "markdown",
      "metadata": {
        "id": "8Af3Hpzq9URP"
      },
      "source": [
        "**SHAP**"
      ]
    },
    {
      "cell_type": "code",
      "source": [
        "df = pd.read_csv('autos.csv', encoding = 'ISO-8859-1')"
      ],
      "metadata": {
        "id": "0EfO-oxXtSHv"
      },
      "execution_count": null,
      "outputs": []
    },
    {
      "cell_type": "code",
      "execution_count": null,
      "metadata": {
        "colab": {
          "base_uri": "https://localhost:8080/",
          "height": 444
        },
        "id": "Qqhx9dpN-gSF",
        "outputId": "c6cd5bc9-07c5-4c10-bded-aa923e3f9c19"
      },
      "outputs": [
        {
          "output_type": "execute_result",
          "data": {
            "text/plain": [
              "           dateCrawled                            name  seller offerType  \\\n",
              "0  2016-03-24 11:52:17                      Golf_3_1.6  privat   Angebot   \n",
              "1  2016-03-24 10:58:45            A5_Sportback_2.7_Tdi  privat   Angebot   \n",
              "2  2016-03-14 12:52:21  Jeep_Grand_Cherokee_\"Overland\"  privat   Angebot   \n",
              "3  2016-03-17 16:54:04              GOLF_4_1_4__3TÜRER  privat   Angebot   \n",
              "4  2016-03-31 17:25:20  Skoda_Fabia_1.4_TDI_PD_Classic  privat   Angebot   \n",
              "\n",
              "   price abtest vehicleType  yearOfRegistration    gearbox  powerPS  model  \\\n",
              "0    480   test         NaN                1993    manuell        0   golf   \n",
              "1  18300   test       coupe                2011    manuell      190    NaN   \n",
              "2   9800   test         suv                2004  automatik      163  grand   \n",
              "3   1500   test  kleinwagen                2001    manuell       75   golf   \n",
              "4   3600   test  kleinwagen                2008    manuell       69  fabia   \n",
              "\n",
              "   kilometer  monthOfRegistration fuelType       brand notRepairedDamage  \\\n",
              "0     150000                    0   benzin  volkswagen               NaN   \n",
              "1     125000                    5   diesel        audi                ja   \n",
              "2     125000                    8   diesel        jeep               NaN   \n",
              "3     150000                    6   benzin  volkswagen              nein   \n",
              "4      90000                    7   diesel       skoda              nein   \n",
              "\n",
              "           dateCreated  nrOfPictures  postalCode             lastSeen  \n",
              "0  2016-03-24 00:00:00             0       70435  2016-04-07 03:16:57  \n",
              "1  2016-03-24 00:00:00             0       66954  2016-04-07 01:46:50  \n",
              "2  2016-03-14 00:00:00             0       90480  2016-04-05 12:47:46  \n",
              "3  2016-03-17 00:00:00             0       91074  2016-03-17 17:40:17  \n",
              "4  2016-03-31 00:00:00             0       60437  2016-04-06 10:17:21  "
            ],
            "text/html": [
              "\n",
              "  <div id=\"df-a386cd4e-9d19-4552-8e59-644dc39f584f\">\n",
              "    <div class=\"colab-df-container\">\n",
              "      <div>\n",
              "<style scoped>\n",
              "    .dataframe tbody tr th:only-of-type {\n",
              "        vertical-align: middle;\n",
              "    }\n",
              "\n",
              "    .dataframe tbody tr th {\n",
              "        vertical-align: top;\n",
              "    }\n",
              "\n",
              "    .dataframe thead th {\n",
              "        text-align: right;\n",
              "    }\n",
              "</style>\n",
              "<table border=\"1\" class=\"dataframe\">\n",
              "  <thead>\n",
              "    <tr style=\"text-align: right;\">\n",
              "      <th></th>\n",
              "      <th>dateCrawled</th>\n",
              "      <th>name</th>\n",
              "      <th>seller</th>\n",
              "      <th>offerType</th>\n",
              "      <th>price</th>\n",
              "      <th>abtest</th>\n",
              "      <th>vehicleType</th>\n",
              "      <th>yearOfRegistration</th>\n",
              "      <th>gearbox</th>\n",
              "      <th>powerPS</th>\n",
              "      <th>model</th>\n",
              "      <th>kilometer</th>\n",
              "      <th>monthOfRegistration</th>\n",
              "      <th>fuelType</th>\n",
              "      <th>brand</th>\n",
              "      <th>notRepairedDamage</th>\n",
              "      <th>dateCreated</th>\n",
              "      <th>nrOfPictures</th>\n",
              "      <th>postalCode</th>\n",
              "      <th>lastSeen</th>\n",
              "    </tr>\n",
              "  </thead>\n",
              "  <tbody>\n",
              "    <tr>\n",
              "      <th>0</th>\n",
              "      <td>2016-03-24 11:52:17</td>\n",
              "      <td>Golf_3_1.6</td>\n",
              "      <td>privat</td>\n",
              "      <td>Angebot</td>\n",
              "      <td>480</td>\n",
              "      <td>test</td>\n",
              "      <td>NaN</td>\n",
              "      <td>1993</td>\n",
              "      <td>manuell</td>\n",
              "      <td>0</td>\n",
              "      <td>golf</td>\n",
              "      <td>150000</td>\n",
              "      <td>0</td>\n",
              "      <td>benzin</td>\n",
              "      <td>volkswagen</td>\n",
              "      <td>NaN</td>\n",
              "      <td>2016-03-24 00:00:00</td>\n",
              "      <td>0</td>\n",
              "      <td>70435</td>\n",
              "      <td>2016-04-07 03:16:57</td>\n",
              "    </tr>\n",
              "    <tr>\n",
              "      <th>1</th>\n",
              "      <td>2016-03-24 10:58:45</td>\n",
              "      <td>A5_Sportback_2.7_Tdi</td>\n",
              "      <td>privat</td>\n",
              "      <td>Angebot</td>\n",
              "      <td>18300</td>\n",
              "      <td>test</td>\n",
              "      <td>coupe</td>\n",
              "      <td>2011</td>\n",
              "      <td>manuell</td>\n",
              "      <td>190</td>\n",
              "      <td>NaN</td>\n",
              "      <td>125000</td>\n",
              "      <td>5</td>\n",
              "      <td>diesel</td>\n",
              "      <td>audi</td>\n",
              "      <td>ja</td>\n",
              "      <td>2016-03-24 00:00:00</td>\n",
              "      <td>0</td>\n",
              "      <td>66954</td>\n",
              "      <td>2016-04-07 01:46:50</td>\n",
              "    </tr>\n",
              "    <tr>\n",
              "      <th>2</th>\n",
              "      <td>2016-03-14 12:52:21</td>\n",
              "      <td>Jeep_Grand_Cherokee_\"Overland\"</td>\n",
              "      <td>privat</td>\n",
              "      <td>Angebot</td>\n",
              "      <td>9800</td>\n",
              "      <td>test</td>\n",
              "      <td>suv</td>\n",
              "      <td>2004</td>\n",
              "      <td>automatik</td>\n",
              "      <td>163</td>\n",
              "      <td>grand</td>\n",
              "      <td>125000</td>\n",
              "      <td>8</td>\n",
              "      <td>diesel</td>\n",
              "      <td>jeep</td>\n",
              "      <td>NaN</td>\n",
              "      <td>2016-03-14 00:00:00</td>\n",
              "      <td>0</td>\n",
              "      <td>90480</td>\n",
              "      <td>2016-04-05 12:47:46</td>\n",
              "    </tr>\n",
              "    <tr>\n",
              "      <th>3</th>\n",
              "      <td>2016-03-17 16:54:04</td>\n",
              "      <td>GOLF_4_1_4__3TÜRER</td>\n",
              "      <td>privat</td>\n",
              "      <td>Angebot</td>\n",
              "      <td>1500</td>\n",
              "      <td>test</td>\n",
              "      <td>kleinwagen</td>\n",
              "      <td>2001</td>\n",
              "      <td>manuell</td>\n",
              "      <td>75</td>\n",
              "      <td>golf</td>\n",
              "      <td>150000</td>\n",
              "      <td>6</td>\n",
              "      <td>benzin</td>\n",
              "      <td>volkswagen</td>\n",
              "      <td>nein</td>\n",
              "      <td>2016-03-17 00:00:00</td>\n",
              "      <td>0</td>\n",
              "      <td>91074</td>\n",
              "      <td>2016-03-17 17:40:17</td>\n",
              "    </tr>\n",
              "    <tr>\n",
              "      <th>4</th>\n",
              "      <td>2016-03-31 17:25:20</td>\n",
              "      <td>Skoda_Fabia_1.4_TDI_PD_Classic</td>\n",
              "      <td>privat</td>\n",
              "      <td>Angebot</td>\n",
              "      <td>3600</td>\n",
              "      <td>test</td>\n",
              "      <td>kleinwagen</td>\n",
              "      <td>2008</td>\n",
              "      <td>manuell</td>\n",
              "      <td>69</td>\n",
              "      <td>fabia</td>\n",
              "      <td>90000</td>\n",
              "      <td>7</td>\n",
              "      <td>diesel</td>\n",
              "      <td>skoda</td>\n",
              "      <td>nein</td>\n",
              "      <td>2016-03-31 00:00:00</td>\n",
              "      <td>0</td>\n",
              "      <td>60437</td>\n",
              "      <td>2016-04-06 10:17:21</td>\n",
              "    </tr>\n",
              "  </tbody>\n",
              "</table>\n",
              "</div>\n",
              "      <button class=\"colab-df-convert\" onclick=\"convertToInteractive('df-a386cd4e-9d19-4552-8e59-644dc39f584f')\"\n",
              "              title=\"Convert this dataframe to an interactive table.\"\n",
              "              style=\"display:none;\">\n",
              "        \n",
              "  <svg xmlns=\"http://www.w3.org/2000/svg\" height=\"24px\"viewBox=\"0 0 24 24\"\n",
              "       width=\"24px\">\n",
              "    <path d=\"M0 0h24v24H0V0z\" fill=\"none\"/>\n",
              "    <path d=\"M18.56 5.44l.94 2.06.94-2.06 2.06-.94-2.06-.94-.94-2.06-.94 2.06-2.06.94zm-11 1L8.5 8.5l.94-2.06 2.06-.94-2.06-.94L8.5 2.5l-.94 2.06-2.06.94zm10 10l.94 2.06.94-2.06 2.06-.94-2.06-.94-.94-2.06-.94 2.06-2.06.94z\"/><path d=\"M17.41 7.96l-1.37-1.37c-.4-.4-.92-.59-1.43-.59-.52 0-1.04.2-1.43.59L10.3 9.45l-7.72 7.72c-.78.78-.78 2.05 0 2.83L4 21.41c.39.39.9.59 1.41.59.51 0 1.02-.2 1.41-.59l7.78-7.78 2.81-2.81c.8-.78.8-2.07 0-2.86zM5.41 20L4 18.59l7.72-7.72 1.47 1.35L5.41 20z\"/>\n",
              "  </svg>\n",
              "      </button>\n",
              "      \n",
              "  <style>\n",
              "    .colab-df-container {\n",
              "      display:flex;\n",
              "      flex-wrap:wrap;\n",
              "      gap: 12px;\n",
              "    }\n",
              "\n",
              "    .colab-df-convert {\n",
              "      background-color: #E8F0FE;\n",
              "      border: none;\n",
              "      border-radius: 50%;\n",
              "      cursor: pointer;\n",
              "      display: none;\n",
              "      fill: #1967D2;\n",
              "      height: 32px;\n",
              "      padding: 0 0 0 0;\n",
              "      width: 32px;\n",
              "    }\n",
              "\n",
              "    .colab-df-convert:hover {\n",
              "      background-color: #E2EBFA;\n",
              "      box-shadow: 0px 1px 2px rgba(60, 64, 67, 0.3), 0px 1px 3px 1px rgba(60, 64, 67, 0.15);\n",
              "      fill: #174EA6;\n",
              "    }\n",
              "\n",
              "    [theme=dark] .colab-df-convert {\n",
              "      background-color: #3B4455;\n",
              "      fill: #D2E3FC;\n",
              "    }\n",
              "\n",
              "    [theme=dark] .colab-df-convert:hover {\n",
              "      background-color: #434B5C;\n",
              "      box-shadow: 0px 1px 3px 1px rgba(0, 0, 0, 0.15);\n",
              "      filter: drop-shadow(0px 1px 2px rgba(0, 0, 0, 0.3));\n",
              "      fill: #FFFFFF;\n",
              "    }\n",
              "  </style>\n",
              "\n",
              "      <script>\n",
              "        const buttonEl =\n",
              "          document.querySelector('#df-a386cd4e-9d19-4552-8e59-644dc39f584f button.colab-df-convert');\n",
              "        buttonEl.style.display =\n",
              "          google.colab.kernel.accessAllowed ? 'block' : 'none';\n",
              "\n",
              "        async function convertToInteractive(key) {\n",
              "          const element = document.querySelector('#df-a386cd4e-9d19-4552-8e59-644dc39f584f');\n",
              "          const dataTable =\n",
              "            await google.colab.kernel.invokeFunction('convertToInteractive',\n",
              "                                                     [key], {});\n",
              "          if (!dataTable) return;\n",
              "\n",
              "          const docLinkHtml = 'Like what you see? Visit the ' +\n",
              "            '<a target=\"_blank\" href=https://colab.research.google.com/notebooks/data_table.ipynb>data table notebook</a>'\n",
              "            + ' to learn more about interactive tables.';\n",
              "          element.innerHTML = '';\n",
              "          dataTable['output_type'] = 'display_data';\n",
              "          await google.colab.output.renderOutput(dataTable, element);\n",
              "          const docLink = document.createElement('div');\n",
              "          docLink.innerHTML = docLinkHtml;\n",
              "          element.appendChild(docLink);\n",
              "        }\n",
              "      </script>\n",
              "    </div>\n",
              "  </div>\n",
              "  "
            ]
          },
          "metadata": {},
          "execution_count": 160
        }
      ],
      "source": [
        "df.head()"
      ]
    },
    {
      "cell_type": "code",
      "execution_count": null,
      "metadata": {
        "id": "sUabPhTw9Z71"
      },
      "outputs": [],
      "source": [
        "df = pd.read_csv('autos.csv', encoding = 'ISO-8859-1')\n",
        "df = df.select_dtypes(include=np.number)\n",
        "#features_num = X_train.select_dtypes(include=np.number).columns.tolist()\n",
        "X = df.drop(columns=[\"price\"])\n",
        "y = df[\"price\"]\n",
        "\n",
        "X_train, X_test, y_train, y_test = train_test_split(X, y, test_size=0.3, random_state=20)"
      ]
    },
    {
      "cell_type": "code",
      "execution_count": null,
      "metadata": {
        "id": "B8hveFOf2nnI"
      },
      "outputs": [],
      "source": [
        "!pip install shap\n",
        "import shap"
      ]
    },
    {
      "cell_type": "code",
      "execution_count": null,
      "metadata": {
        "colab": {
          "base_uri": "https://localhost:8080/"
        },
        "id": "7tcpqH9D9MnG",
        "outputId": "9a62c239-f69e-4041-ef60-5f814e79407c"
      },
      "outputs": [
        {
          "output_type": "stream",
          "name": "stdout",
          "text": [
            "[05:14:35] WARNING: /workspace/src/objective/regression_obj.cu:152: reg:linear is now deprecated in favor of reg:squarederror.\n"
          ]
        }
      ],
      "source": [
        "xgbr = XGBRegressor().fit(X_train, y_train)"
      ]
    },
    {
      "cell_type": "code",
      "execution_count": null,
      "metadata": {
        "id": "ehtr4Q4U2oZo"
      },
      "outputs": [],
      "source": [
        "explainer = shap.TreeExplainer(xgbr)"
      ]
    },
    {
      "cell_type": "code",
      "execution_count": null,
      "metadata": {
        "id": "W8l_bj9H9ssm"
      },
      "outputs": [],
      "source": [
        "shap_vals = explainer.shap_values(X_train)"
      ]
    },
    {
      "cell_type": "markdown",
      "metadata": {
        "id": "Nf-PPooRRHTd"
      },
      "source": [
        "**Temos abaixo as Features que mais impactaram na escolha dos valores preditivos para todos os dados:**"
      ]
    },
    {
      "cell_type": "code",
      "execution_count": null,
      "metadata": {
        "colab": {
          "base_uri": "https://localhost:8080/",
          "height": 290
        },
        "id": "3yND9xNJ90j_",
        "outputId": "0b25bfc7-59ee-4e50-abe4-c76561efc2dd"
      },
      "outputs": [
        {
          "output_type": "display_data",
          "data": {
            "text/plain": [
              "<Figure size 576x280.8 with 1 Axes>"
            ],
            "image/png": "[encoded data removed]"
          },
          "metadata": {
            "needs_background": "light"
          }
        }
      ],
      "source": [
        "shap.summary_plot(shap_vals, X_train, plot_type=\"bar\")"
      ]
    }
  ]
}