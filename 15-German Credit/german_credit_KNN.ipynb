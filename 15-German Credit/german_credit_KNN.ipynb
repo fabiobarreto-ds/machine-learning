{
  "nbformat": 4,
  "nbformat_minor": 0,
  "metadata": {
    "colab": {
      "provenance": []
    },
    "kernelspec": {
      "name": "python3",
      "display_name": "Python 3"
    },
    "language_info": {
      "name": "python"
    }
  },
  "cells": [
    {
      "cell_type": "markdown",
      "source": [
        "**Objetivo**\n",
        "**O objetivo dos Dados de Crédito Alemães é minimizar as chances de emitir empréstimos arriscados aos solicitantes, maximizando as chances de lucrar com bons empréstimos. Os perfis demográficos e socioeconómicos de um requerente são considerados pelos gestores de crédito antes de ser tomada uma decisão sobre o seu pedido de empréstimo.**\n",
        "\n",
        "**O conjunto de dados German Credit é um conjunto de dados disponível publicamente baixado do UCI Machine Learning Repository. Os dados de crédito alemães contêm dados sobre 10 variáveis ​​e a classificação se um solicitante é considerado um risco de crédito Bom ou Ruim para 1.000 solicitantes de empréstimo. A tarefa requer explorar os dados e construir um modelo preditivo para fornecer orientação ao gerente do banco para tomar uma decisão sobre a aprovação de um empréstimo a um candidato em potencial com base em seu perfil.**\n",
        "\n",
        "\n",
        "\n",
        "Age (numeric)\n",
        "\n",
        "Sex (text: male, female)\n",
        "\n",
        "Job (numeric: 0 - unskilled and non-resident, 1 - unskilled and resident, 2 - skilled, 3 - highly skilled)\n",
        "\n",
        "Housing (text: own, rent, or free)\n",
        "\n",
        "Saving accounts (text - little, moderate, quite rich, rich)\n",
        "\n",
        "Checking account (numeric, in DM - Deutsch Mark)\n",
        "\n",
        "Credit amount (numeric, in DM)\n",
        "\n",
        "Duration (numeric, in month)\n",
        "\n",
        "Purpose (text: car, furniture/equipment, radio/TV, domestic appliances, repairs, education, business, vacation/others)\n",
        "\n",
        "\n"
      ],
      "metadata": {
        "id": "ckMAAxTI6mdM"
      }
    },
    {
      "cell_type": "markdown",
      "source": [
        "**A finalidade é maximizar o Risco \"Bom\" dos clientes.**"
      ],
      "metadata": {
        "id": "inqNJEGQuTEJ"
      }
    },
    {
      "cell_type": "markdown",
      "source": [
        "# **Importando e Analisando os Dados**"
      ],
      "metadata": {
        "id": "kouHyFaSBW-E"
      }
    },
    {
      "cell_type": "code",
      "execution_count": 225,
      "metadata": {
        "id": "T1TvtLjsVs25"
      },
      "outputs": [],
      "source": [
        "import numpy as np\n",
        "import pandas as pd\n",
        "import seaborn as sns\n",
        "import matplotlib.pyplot as plt\n",
        "from sklearn.decomposition import PCA\n",
        "from sklearn.pipeline import Pipeline\n",
        "from sklearn.impute import SimpleImputer\n",
        "from xgboost.sklearn import XGBClassifier\n",
        "from sklearn.metrics import confusion_matrix\n",
        "from sklearn.compose import ColumnTransformer\n",
        "from sklearn.preprocessing import StandardScaler\n",
        "from sklearn.metrics import plot_confusion_matrix\n",
        "from sklearn.metrics import classification_report\n",
        "from sklearn.metrics import make_scorer, recall_score, precision_score\n",
        "from sklearn.preprocessing import OneHotEncoder, OrdinalEncoder\n",
        "from sklearn.model_selection import GridSearchCV, StratifiedKFold\n",
        "from sklearn.model_selection import train_test_split, StratifiedKFold\n",
        "from sklearn.metrics import recall_score, f1_score, precision_score\n",
        "from sklearn.metrics import confusion_matrix, ConfusionMatrixDisplay, classification_report\n",
        "\n",
        "%matplotlib inline\n",
        "\n",
        "import warnings\n",
        "warnings.filterwarnings('always')  # \"error\", \"ignore\", \"always\", \"default\", \"module\""
      ]
    },
    {
      "cell_type": "code",
      "source": [
        "df = pd.read_csv(\"german_credit_data.csv\")\n",
        "df"
      ],
      "metadata": {
        "colab": {
          "base_uri": "https://localhost:8080/",
          "height": 424
        },
        "id": "LQA6k_MpV8bE",
        "outputId": "e9c0c8ec-096c-42a9-ea33-98f87359f931"
      },
      "execution_count": 226,
      "outputs": [
        {
          "output_type": "execute_result",
          "data": {
            "text/plain": [
              "     Unnamed: 0  Age     Sex  Job Housing Saving accounts Checking account  \\\n",
              "0             0   67    male    2     own             NaN           little   \n",
              "1             1   22  female    2     own          little         moderate   \n",
              "2             2   49    male    1     own          little              NaN   \n",
              "3             3   45    male    2    free          little           little   \n",
              "4             4   53    male    2    free          little           little   \n",
              "..          ...  ...     ...  ...     ...             ...              ...   \n",
              "995         995   31  female    1     own          little              NaN   \n",
              "996         996   40    male    3     own          little           little   \n",
              "997         997   38    male    2     own          little              NaN   \n",
              "998         998   23    male    2    free          little           little   \n",
              "999         999   27    male    2     own        moderate         moderate   \n",
              "\n",
              "     Credit amount  Duration              Purpose  Risk  \n",
              "0             1169         6             radio/TV  good  \n",
              "1             5951        48             radio/TV   bad  \n",
              "2             2096        12            education  good  \n",
              "3             7882        42  furniture/equipment  good  \n",
              "4             4870        24                  car   bad  \n",
              "..             ...       ...                  ...   ...  \n",
              "995           1736        12  furniture/equipment  good  \n",
              "996           3857        30                  car  good  \n",
              "997            804        12             radio/TV  good  \n",
              "998           1845        45             radio/TV   bad  \n",
              "999           4576        45                  car  good  \n",
              "\n",
              "[1000 rows x 11 columns]"
            ],
            "text/html": [
              "\n",
              "  <div id=\"df-e90acc42-7780-4563-8874-aea8ee8aa22b\">\n",
              "    <div class=\"colab-df-container\">\n",
              "      <div>\n",
              "<style scoped>\n",
              "    .dataframe tbody tr th:only-of-type {\n",
              "        vertical-align: middle;\n",
              "    }\n",
              "\n",
              "    .dataframe tbody tr th {\n",
              "        vertical-align: top;\n",
              "    }\n",
              "\n",
              "    .dataframe thead th {\n",
              "        text-align: right;\n",
              "    }\n",
              "</style>\n",
              "<table border=\"1\" class=\"dataframe\">\n",
              "  <thead>\n",
              "    <tr style=\"text-align: right;\">\n",
              "      <th></th>\n",
              "      <th>Unnamed: 0</th>\n",
              "      <th>Age</th>\n",
              "      <th>Sex</th>\n",
              "      <th>Job</th>\n",
              "      <th>Housing</th>\n",
              "      <th>Saving accounts</th>\n",
              "      <th>Checking account</th>\n",
              "      <th>Credit amount</th>\n",
              "      <th>Duration</th>\n",
              "      <th>Purpose</th>\n",
              "      <th>Risk</th>\n",
              "    </tr>\n",
              "  </thead>\n",
              "  <tbody>\n",
              "    <tr>\n",
              "      <th>0</th>\n",
              "      <td>0</td>\n",
              "      <td>67</td>\n",
              "      <td>male</td>\n",
              "      <td>2</td>\n",
              "      <td>own</td>\n",
              "      <td>NaN</td>\n",
              "      <td>little</td>\n",
              "      <td>1169</td>\n",
              "      <td>6</td>\n",
              "      <td>radio/TV</td>\n",
              "      <td>good</td>\n",
              "    </tr>\n",
              "    <tr>\n",
              "      <th>1</th>\n",
              "      <td>1</td>\n",
              "      <td>22</td>\n",
              "      <td>female</td>\n",
              "      <td>2</td>\n",
              "      <td>own</td>\n",
              "      <td>little</td>\n",
              "      <td>moderate</td>\n",
              "      <td>5951</td>\n",
              "      <td>48</td>\n",
              "      <td>radio/TV</td>\n",
              "      <td>bad</td>\n",
              "    </tr>\n",
              "    <tr>\n",
              "      <th>2</th>\n",
              "      <td>2</td>\n",
              "      <td>49</td>\n",
              "      <td>male</td>\n",
              "      <td>1</td>\n",
              "      <td>own</td>\n",
              "      <td>little</td>\n",
              "      <td>NaN</td>\n",
              "      <td>2096</td>\n",
              "      <td>12</td>\n",
              "      <td>education</td>\n",
              "      <td>good</td>\n",
              "    </tr>\n",
              "    <tr>\n",
              "      <th>3</th>\n",
              "      <td>3</td>\n",
              "      <td>45</td>\n",
              "      <td>male</td>\n",
              "      <td>2</td>\n",
              "      <td>free</td>\n",
              "      <td>little</td>\n",
              "      <td>little</td>\n",
              "      <td>7882</td>\n",
              "      <td>42</td>\n",
              "      <td>furniture/equipment</td>\n",
              "      <td>good</td>\n",
              "    </tr>\n",
              "    <tr>\n",
              "      <th>4</th>\n",
              "      <td>4</td>\n",
              "      <td>53</td>\n",
              "      <td>male</td>\n",
              "      <td>2</td>\n",
              "      <td>free</td>\n",
              "      <td>little</td>\n",
              "      <td>little</td>\n",
              "      <td>4870</td>\n",
              "      <td>24</td>\n",
              "      <td>car</td>\n",
              "      <td>bad</td>\n",
              "    </tr>\n",
              "    <tr>\n",
              "      <th>...</th>\n",
              "      <td>...</td>\n",
              "      <td>...</td>\n",
              "      <td>...</td>\n",
              "      <td>...</td>\n",
              "      <td>...</td>\n",
              "      <td>...</td>\n",
              "      <td>...</td>\n",
              "      <td>...</td>\n",
              "      <td>...</td>\n",
              "      <td>...</td>\n",
              "      <td>...</td>\n",
              "    </tr>\n",
              "    <tr>\n",
              "      <th>995</th>\n",
              "      <td>995</td>\n",
              "      <td>31</td>\n",
              "      <td>female</td>\n",
              "      <td>1</td>\n",
              "      <td>own</td>\n",
              "      <td>little</td>\n",
              "      <td>NaN</td>\n",
              "      <td>1736</td>\n",
              "      <td>12</td>\n",
              "      <td>furniture/equipment</td>\n",
              "      <td>good</td>\n",
              "    </tr>\n",
              "    <tr>\n",
              "      <th>996</th>\n",
              "      <td>996</td>\n",
              "      <td>40</td>\n",
              "      <td>male</td>\n",
              "      <td>3</td>\n",
              "      <td>own</td>\n",
              "      <td>little</td>\n",
              "      <td>little</td>\n",
              "      <td>3857</td>\n",
              "      <td>30</td>\n",
              "      <td>car</td>\n",
              "      <td>good</td>\n",
              "    </tr>\n",
              "    <tr>\n",
              "      <th>997</th>\n",
              "      <td>997</td>\n",
              "      <td>38</td>\n",
              "      <td>male</td>\n",
              "      <td>2</td>\n",
              "      <td>own</td>\n",
              "      <td>little</td>\n",
              "      <td>NaN</td>\n",
              "      <td>804</td>\n",
              "      <td>12</td>\n",
              "      <td>radio/TV</td>\n",
              "      <td>good</td>\n",
              "    </tr>\n",
              "    <tr>\n",
              "      <th>998</th>\n",
              "      <td>998</td>\n",
              "      <td>23</td>\n",
              "      <td>male</td>\n",
              "      <td>2</td>\n",
              "      <td>free</td>\n",
              "      <td>little</td>\n",
              "      <td>little</td>\n",
              "      <td>1845</td>\n",
              "      <td>45</td>\n",
              "      <td>radio/TV</td>\n",
              "      <td>bad</td>\n",
              "    </tr>\n",
              "    <tr>\n",
              "      <th>999</th>\n",
              "      <td>999</td>\n",
              "      <td>27</td>\n",
              "      <td>male</td>\n",
              "      <td>2</td>\n",
              "      <td>own</td>\n",
              "      <td>moderate</td>\n",
              "      <td>moderate</td>\n",
              "      <td>4576</td>\n",
              "      <td>45</td>\n",
              "      <td>car</td>\n",
              "      <td>good</td>\n",
              "    </tr>\n",
              "  </tbody>\n",
              "</table>\n",
              "<p>1000 rows × 11 columns</p>\n",
              "</div>\n",
              "      <button class=\"colab-df-convert\" onclick=\"convertToInteractive('df-e90acc42-7780-4563-8874-aea8ee8aa22b')\"\n",
              "              title=\"Convert this dataframe to an interactive table.\"\n",
              "              style=\"display:none;\">\n",
              "        \n",
              "  <svg xmlns=\"http://www.w3.org/2000/svg\" height=\"24px\"viewBox=\"0 0 24 24\"\n",
              "       width=\"24px\">\n",
              "    <path d=\"M0 0h24v24H0V0z\" fill=\"none\"/>\n",
              "    <path d=\"M18.56 5.44l.94 2.06.94-2.06 2.06-.94-2.06-.94-.94-2.06-.94 2.06-2.06.94zm-11 1L8.5 8.5l.94-2.06 2.06-.94-2.06-.94L8.5 2.5l-.94 2.06-2.06.94zm10 10l.94 2.06.94-2.06 2.06-.94-2.06-.94-.94-2.06-.94 2.06-2.06.94z\"/><path d=\"M17.41 7.96l-1.37-1.37c-.4-.4-.92-.59-1.43-.59-.52 0-1.04.2-1.43.59L10.3 9.45l-7.72 7.72c-.78.78-.78 2.05 0 2.83L4 21.41c.39.39.9.59 1.41.59.51 0 1.02-.2 1.41-.59l7.78-7.78 2.81-2.81c.8-.78.8-2.07 0-2.86zM5.41 20L4 18.59l7.72-7.72 1.47 1.35L5.41 20z\"/>\n",
              "  </svg>\n",
              "      </button>\n",
              "      \n",
              "  <style>\n",
              "    .colab-df-container {\n",
              "      display:flex;\n",
              "      flex-wrap:wrap;\n",
              "      gap: 12px;\n",
              "    }\n",
              "\n",
              "    .colab-df-convert {\n",
              "      background-color: #E8F0FE;\n",
              "      border: none;\n",
              "      border-radius: 50%;\n",
              "      cursor: pointer;\n",
              "      display: none;\n",
              "      fill: #1967D2;\n",
              "      height: 32px;\n",
              "      padding: 0 0 0 0;\n",
              "      width: 32px;\n",
              "    }\n",
              "\n",
              "    .colab-df-convert:hover {\n",
              "      background-color: #E2EBFA;\n",
              "      box-shadow: 0px 1px 2px rgba(60, 64, 67, 0.3), 0px 1px 3px 1px rgba(60, 64, 67, 0.15);\n",
              "      fill: #174EA6;\n",
              "    }\n",
              "\n",
              "    [theme=dark] .colab-df-convert {\n",
              "      background-color: #3B4455;\n",
              "      fill: #D2E3FC;\n",
              "    }\n",
              "\n",
              "    [theme=dark] .colab-df-convert:hover {\n",
              "      background-color: #434B5C;\n",
              "      box-shadow: 0px 1px 3px 1px rgba(0, 0, 0, 0.15);\n",
              "      filter: drop-shadow(0px 1px 2px rgba(0, 0, 0, 0.3));\n",
              "      fill: #FFFFFF;\n",
              "    }\n",
              "  </style>\n",
              "\n",
              "      <script>\n",
              "        const buttonEl =\n",
              "          document.querySelector('#df-e90acc42-7780-4563-8874-aea8ee8aa22b button.colab-df-convert');\n",
              "        buttonEl.style.display =\n",
              "          google.colab.kernel.accessAllowed ? 'block' : 'none';\n",
              "\n",
              "        async function convertToInteractive(key) {\n",
              "          const element = document.querySelector('#df-e90acc42-7780-4563-8874-aea8ee8aa22b');\n",
              "          const dataTable =\n",
              "            await google.colab.kernel.invokeFunction('convertToInteractive',\n",
              "                                                     [key], {});\n",
              "          if (!dataTable) return;\n",
              "\n",
              "          const docLinkHtml = 'Like what you see? Visit the ' +\n",
              "            '<a target=\"_blank\" href=https://colab.research.google.com/notebooks/data_table.ipynb>data table notebook</a>'\n",
              "            + ' to learn more about interactive tables.';\n",
              "          element.innerHTML = '';\n",
              "          dataTable['output_type'] = 'display_data';\n",
              "          await google.colab.output.renderOutput(dataTable, element);\n",
              "          const docLink = document.createElement('div');\n",
              "          docLink.innerHTML = docLinkHtml;\n",
              "          element.appendChild(docLink);\n",
              "        }\n",
              "      </script>\n",
              "    </div>\n",
              "  </div>\n",
              "  "
            ]
          },
          "metadata": {},
          "execution_count": 226
        }
      ]
    },
    {
      "cell_type": "markdown",
      "source": [
        "**Excluindo a coluna de index extra:**"
      ],
      "metadata": {
        "id": "7Ex9YPt7Cxbl"
      }
    },
    {
      "cell_type": "code",
      "source": [
        "df.drop(columns=[\"Unnamed: 0\"], inplace=True)"
      ],
      "metadata": {
        "id": "vYEsG124C0-O"
      },
      "execution_count": 227,
      "outputs": []
    },
    {
      "cell_type": "markdown",
      "source": [
        "**Verificando se há dados nulos:**"
      ],
      "metadata": {
        "id": "3rehwPxgAuZU"
      }
    },
    {
      "cell_type": "code",
      "source": [
        "df.info()"
      ],
      "metadata": {
        "colab": {
          "base_uri": "https://localhost:8080/"
        },
        "id": "BZ630GNz632e",
        "outputId": "9ba32160-1f0c-4f1f-c249-3793d83e2f86"
      },
      "execution_count": 228,
      "outputs": [
        {
          "output_type": "stream",
          "name": "stdout",
          "text": [
            "<class 'pandas.core.frame.DataFrame'>\n",
            "RangeIndex: 1000 entries, 0 to 999\n",
            "Data columns (total 10 columns):\n",
            " #   Column            Non-Null Count  Dtype \n",
            "---  ------            --------------  ----- \n",
            " 0   Age               1000 non-null   int64 \n",
            " 1   Sex               1000 non-null   object\n",
            " 2   Job               1000 non-null   int64 \n",
            " 3   Housing           1000 non-null   object\n",
            " 4   Saving accounts   817 non-null    object\n",
            " 5   Checking account  606 non-null    object\n",
            " 6   Credit amount     1000 non-null   int64 \n",
            " 7   Duration          1000 non-null   int64 \n",
            " 8   Purpose           1000 non-null   object\n",
            " 9   Risk              1000 non-null   object\n",
            "dtypes: int64(4), object(6)\n",
            "memory usage: 78.2+ KB\n"
          ]
        }
      ]
    },
    {
      "cell_type": "code",
      "source": [
        "df.isna().sum()"
      ],
      "metadata": {
        "colab": {
          "base_uri": "https://localhost:8080/"
        },
        "id": "Zv3vMDhvAyh9",
        "outputId": "8b402f73-3c6e-48c4-f1a8-6f18382d7b2b"
      },
      "execution_count": 229,
      "outputs": [
        {
          "output_type": "execute_result",
          "data": {
            "text/plain": [
              "Age                   0\n",
              "Sex                   0\n",
              "Job                   0\n",
              "Housing               0\n",
              "Saving accounts     183\n",
              "Checking account    394\n",
              "Credit amount         0\n",
              "Duration              0\n",
              "Purpose               0\n",
              "Risk                  0\n",
              "dtype: int64"
            ]
          },
          "metadata": {},
          "execution_count": 229
        }
      ]
    },
    {
      "cell_type": "markdown",
      "source": [
        "**Verificando se há dados duplicados:**"
      ],
      "metadata": {
        "id": "tQEy2da3BR0V"
      }
    },
    {
      "cell_type": "code",
      "source": [
        "df.duplicated().sum()"
      ],
      "metadata": {
        "colab": {
          "base_uri": "https://localhost:8080/"
        },
        "id": "vpsFSFEPA7Z8",
        "outputId": "527afd8f-8fc0-4229-f18d-8dc95832aa7d"
      },
      "execution_count": 230,
      "outputs": [
        {
          "output_type": "execute_result",
          "data": {
            "text/plain": [
              "0"
            ]
          },
          "metadata": {},
          "execution_count": 230
        }
      ]
    },
    {
      "cell_type": "code",
      "source": [
        "df.describe()"
      ],
      "metadata": {
        "colab": {
          "base_uri": "https://localhost:8080/",
          "height": 300
        },
        "id": "IvaAOUcrBPi0",
        "outputId": "c874fbdd-74c5-4ba9-d81c-e6f36b51f2bd"
      },
      "execution_count": 231,
      "outputs": [
        {
          "output_type": "execute_result",
          "data": {
            "text/plain": [
              "               Age          Job  Credit amount     Duration\n",
              "count  1000.000000  1000.000000    1000.000000  1000.000000\n",
              "mean     35.546000     1.904000    3271.258000    20.903000\n",
              "std      11.375469     0.653614    2822.736876    12.058814\n",
              "min      19.000000     0.000000     250.000000     4.000000\n",
              "25%      27.000000     2.000000    1365.500000    12.000000\n",
              "50%      33.000000     2.000000    2319.500000    18.000000\n",
              "75%      42.000000     2.000000    3972.250000    24.000000\n",
              "max      75.000000     3.000000   18424.000000    72.000000"
            ],
            "text/html": [
              "\n",
              "  <div id=\"df-fb82ab06-3ca7-4bb3-9cfc-3cef325b8da3\">\n",
              "    <div class=\"colab-df-container\">\n",
              "      <div>\n",
              "<style scoped>\n",
              "    .dataframe tbody tr th:only-of-type {\n",
              "        vertical-align: middle;\n",
              "    }\n",
              "\n",
              "    .dataframe tbody tr th {\n",
              "        vertical-align: top;\n",
              "    }\n",
              "\n",
              "    .dataframe thead th {\n",
              "        text-align: right;\n",
              "    }\n",
              "</style>\n",
              "<table border=\"1\" class=\"dataframe\">\n",
              "  <thead>\n",
              "    <tr style=\"text-align: right;\">\n",
              "      <th></th>\n",
              "      <th>Age</th>\n",
              "      <th>Job</th>\n",
              "      <th>Credit amount</th>\n",
              "      <th>Duration</th>\n",
              "    </tr>\n",
              "  </thead>\n",
              "  <tbody>\n",
              "    <tr>\n",
              "      <th>count</th>\n",
              "      <td>1000.000000</td>\n",
              "      <td>1000.000000</td>\n",
              "      <td>1000.000000</td>\n",
              "      <td>1000.000000</td>\n",
              "    </tr>\n",
              "    <tr>\n",
              "      <th>mean</th>\n",
              "      <td>35.546000</td>\n",
              "      <td>1.904000</td>\n",
              "      <td>3271.258000</td>\n",
              "      <td>20.903000</td>\n",
              "    </tr>\n",
              "    <tr>\n",
              "      <th>std</th>\n",
              "      <td>11.375469</td>\n",
              "      <td>0.653614</td>\n",
              "      <td>2822.736876</td>\n",
              "      <td>12.058814</td>\n",
              "    </tr>\n",
              "    <tr>\n",
              "      <th>min</th>\n",
              "      <td>19.000000</td>\n",
              "      <td>0.000000</td>\n",
              "      <td>250.000000</td>\n",
              "      <td>4.000000</td>\n",
              "    </tr>\n",
              "    <tr>\n",
              "      <th>25%</th>\n",
              "      <td>27.000000</td>\n",
              "      <td>2.000000</td>\n",
              "      <td>1365.500000</td>\n",
              "      <td>12.000000</td>\n",
              "    </tr>\n",
              "    <tr>\n",
              "      <th>50%</th>\n",
              "      <td>33.000000</td>\n",
              "      <td>2.000000</td>\n",
              "      <td>2319.500000</td>\n",
              "      <td>18.000000</td>\n",
              "    </tr>\n",
              "    <tr>\n",
              "      <th>75%</th>\n",
              "      <td>42.000000</td>\n",
              "      <td>2.000000</td>\n",
              "      <td>3972.250000</td>\n",
              "      <td>24.000000</td>\n",
              "    </tr>\n",
              "    <tr>\n",
              "      <th>max</th>\n",
              "      <td>75.000000</td>\n",
              "      <td>3.000000</td>\n",
              "      <td>18424.000000</td>\n",
              "      <td>72.000000</td>\n",
              "    </tr>\n",
              "  </tbody>\n",
              "</table>\n",
              "</div>\n",
              "      <button class=\"colab-df-convert\" onclick=\"convertToInteractive('df-fb82ab06-3ca7-4bb3-9cfc-3cef325b8da3')\"\n",
              "              title=\"Convert this dataframe to an interactive table.\"\n",
              "              style=\"display:none;\">\n",
              "        \n",
              "  <svg xmlns=\"http://www.w3.org/2000/svg\" height=\"24px\"viewBox=\"0 0 24 24\"\n",
              "       width=\"24px\">\n",
              "    <path d=\"M0 0h24v24H0V0z\" fill=\"none\"/>\n",
              "    <path d=\"M18.56 5.44l.94 2.06.94-2.06 2.06-.94-2.06-.94-.94-2.06-.94 2.06-2.06.94zm-11 1L8.5 8.5l.94-2.06 2.06-.94-2.06-.94L8.5 2.5l-.94 2.06-2.06.94zm10 10l.94 2.06.94-2.06 2.06-.94-2.06-.94-.94-2.06-.94 2.06-2.06.94z\"/><path d=\"M17.41 7.96l-1.37-1.37c-.4-.4-.92-.59-1.43-.59-.52 0-1.04.2-1.43.59L10.3 9.45l-7.72 7.72c-.78.78-.78 2.05 0 2.83L4 21.41c.39.39.9.59 1.41.59.51 0 1.02-.2 1.41-.59l7.78-7.78 2.81-2.81c.8-.78.8-2.07 0-2.86zM5.41 20L4 18.59l7.72-7.72 1.47 1.35L5.41 20z\"/>\n",
              "  </svg>\n",
              "      </button>\n",
              "      \n",
              "  <style>\n",
              "    .colab-df-container {\n",
              "      display:flex;\n",
              "      flex-wrap:wrap;\n",
              "      gap: 12px;\n",
              "    }\n",
              "\n",
              "    .colab-df-convert {\n",
              "      background-color: #E8F0FE;\n",
              "      border: none;\n",
              "      border-radius: 50%;\n",
              "      cursor: pointer;\n",
              "      display: none;\n",
              "      fill: #1967D2;\n",
              "      height: 32px;\n",
              "      padding: 0 0 0 0;\n",
              "      width: 32px;\n",
              "    }\n",
              "\n",
              "    .colab-df-convert:hover {\n",
              "      background-color: #E2EBFA;\n",
              "      box-shadow: 0px 1px 2px rgba(60, 64, 67, 0.3), 0px 1px 3px 1px rgba(60, 64, 67, 0.15);\n",
              "      fill: #174EA6;\n",
              "    }\n",
              "\n",
              "    [theme=dark] .colab-df-convert {\n",
              "      background-color: #3B4455;\n",
              "      fill: #D2E3FC;\n",
              "    }\n",
              "\n",
              "    [theme=dark] .colab-df-convert:hover {\n",
              "      background-color: #434B5C;\n",
              "      box-shadow: 0px 1px 3px 1px rgba(0, 0, 0, 0.15);\n",
              "      filter: drop-shadow(0px 1px 2px rgba(0, 0, 0, 0.3));\n",
              "      fill: #FFFFFF;\n",
              "    }\n",
              "  </style>\n",
              "\n",
              "      <script>\n",
              "        const buttonEl =\n",
              "          document.querySelector('#df-fb82ab06-3ca7-4bb3-9cfc-3cef325b8da3 button.colab-df-convert');\n",
              "        buttonEl.style.display =\n",
              "          google.colab.kernel.accessAllowed ? 'block' : 'none';\n",
              "\n",
              "        async function convertToInteractive(key) {\n",
              "          const element = document.querySelector('#df-fb82ab06-3ca7-4bb3-9cfc-3cef325b8da3');\n",
              "          const dataTable =\n",
              "            await google.colab.kernel.invokeFunction('convertToInteractive',\n",
              "                                                     [key], {});\n",
              "          if (!dataTable) return;\n",
              "\n",
              "          const docLinkHtml = 'Like what you see? Visit the ' +\n",
              "            '<a target=\"_blank\" href=https://colab.research.google.com/notebooks/data_table.ipynb>data table notebook</a>'\n",
              "            + ' to learn more about interactive tables.';\n",
              "          element.innerHTML = '';\n",
              "          dataTable['output_type'] = 'display_data';\n",
              "          await google.colab.output.renderOutput(dataTable, element);\n",
              "          const docLink = document.createElement('div');\n",
              "          docLink.innerHTML = docLinkHtml;\n",
              "          element.appendChild(docLink);\n",
              "        }\n",
              "      </script>\n",
              "    </div>\n",
              "  </div>\n",
              "  "
            ]
          },
          "metadata": {},
          "execution_count": 231
        }
      ]
    },
    {
      "cell_type": "code",
      "source": [
        "sns.heatmap(df.corr(), annot=True);"
      ],
      "metadata": {
        "colab": {
          "base_uri": "https://localhost:8080/",
          "height": 269
        },
        "id": "57v6O80bBhd8",
        "outputId": "5f95c735-c961-4c08-fccc-0083bb772b98"
      },
      "execution_count": 232,
      "outputs": [
        {
          "output_type": "display_data",
          "data": {
            "text/plain": [
              "<Figure size 432x288 with 2 Axes>"
            ],
            "image/png": "[encoded data removed]"
          },
          "metadata": {
            "needs_background": "light"
          }
        }
      ]
    },
    {
      "cell_type": "code",
      "source": [
        "sns.pairplot(df);"
      ],
      "metadata": {
        "colab": {
          "base_uri": "https://localhost:8080/",
          "height": 726
        },
        "id": "ceBxL3e6CtjN",
        "outputId": "478a87d2-ac16-46a1-e03f-3c0d1c6a3f32"
      },
      "execution_count": 233,
      "outputs": [
        {
          "output_type": "display_data",
          "data": {
            "text/plain": [
              "<Figure size 720x720 with 20 Axes>"
            ],
            "image/png": "[encoded data removed]"
          },
          "metadata": {
            "needs_background": "light"
          }
        }
      ]
    },
    {
      "cell_type": "code",
      "source": [],
      "metadata": {
        "id": "e1Ixf-q2FTOl"
      },
      "execution_count": 233,
      "outputs": []
    },
    {
      "cell_type": "markdown",
      "source": [
        "# **KNN Classifier**"
      ],
      "metadata": {
        "id": "kMPjLCwkDMvV"
      }
    },
    {
      "cell_type": "markdown",
      "source": [
        "**Transformando os valores do Target para numéricos:**"
      ],
      "metadata": {
        "id": "TdF0WM0mKJGh"
      }
    },
    {
      "cell_type": "code",
      "source": [
        "df['Risk'] = df['Risk'].map({'bad':0, 'good':1})"
      ],
      "metadata": {
        "id": "K6q2crF8g0ob"
      },
      "execution_count": 234,
      "outputs": []
    },
    {
      "cell_type": "code",
      "source": [
        "from sklearn.neighbors import KNeighborsClassifier"
      ],
      "metadata": {
        "id": "fzoewHE4nFd1"
      },
      "execution_count": 235,
      "outputs": []
    },
    {
      "cell_type": "code",
      "source": [
        "#Separando o que é features e target:\n",
        "X = df.drop(columns=[\"Risk\"])\n",
        "y = df[\"Risk\"]\n",
        "\n",
        "# Dividindo em dados de teste e dados de treino, peguei 30% para dados de teste:\n",
        "X_train, X_test, y_train, y_test = train_test_split(X, y, test_size=0.2, random_state=13, stratify=y)\n",
        "\n",
        "\n",
        "# Iniciando a construção da Pipeline:\n",
        "# ==========================================================\n",
        "#Primeiro vamos tratar as features numéricas.\n",
        "pipe_features_num = Pipeline([(\"std\", StandardScaler())])\n",
        "\n",
        "# Pegando só as features numéricas\n",
        "features_num = X_train.select_dtypes(include=np.number).columns.tolist()\n",
        "\n",
        "# ==========================================================\n",
        "#Vamos tratar as features categóricas.\n",
        "pipe_features_ohe = Pipeline([(\"onehot\", OneHotEncoder(handle_unknown = \"ignore\"))]) # Dados Binários\n",
        "\n",
        "features_ohe = [\"Sex\"]\n",
        "\n",
        "pipe_features_oe = Pipeline([(\"input_cat_oe\", SimpleImputer(strategy=\"constant\", fill_value=\"unknown\")),\n",
        "                             (\"ordinal\", OrdinalEncoder(handle_unknown='use_encoded_value', unknown_value=-1))])\n",
        "\n",
        "features_oe = [\"Housing\", \"Saving accounts\", \"Checking account\", \"Purpose\"]\n",
        "# ==========================================================\n",
        "# Pré-processador => Pegando as pipelines anteriores e unindo-as.\n",
        "pre_processador = ColumnTransformer([(\"transf_num\", pipe_features_num, features_num),\n",
        "                                     (\"transf_cat_ohe\", pipe_features_ohe, features_ohe),\n",
        "                                     (\"transf_cat_oe\", pipe_features_oe, features_oe)])\n",
        "\n",
        "# ==========================================================\n",
        "# Pipeline final, usando o pré-processador e o estimador que queremos utilizar, neste caso o KNN para classificação.\n",
        "pipe_knn = Pipeline([(\"pre_processador\", pre_processador),\n",
        "                      (\"knn\", KNeighborsClassifier())])\n",
        "\n",
        "\n",
        "# ==========================================================\n",
        "#Vamos dividir em splits para ter mais variedade no processamento dos dados.\n",
        "splitter = StratifiedKFold(n_splits=10, random_state=42, shuffle=True)\n",
        "\n",
        "\n",
        "metrica1 = make_scorer(recall_score, pos_label=1)\n",
        "metrica2 = make_scorer(precision_score, pos_label=0)\n",
        "\n",
        "\n",
        "#Montando a grade de parâmetros do estimador (XGBoost)\n",
        "param_grid_knn = {\"knn__weights\" : [\"uniform\", \"distance\"],\n",
        "                 \"knn__metric\" : [\"manhattan\", \"euclidean\"],\n",
        "                 \"knn__n_neighbors\" : range(2, 21)}\n",
        "\n",
        "\n",
        "#Motando a grade geral de parâmetros.\n",
        "model_knn = GridSearchCV(estimator=pipe_knn,\n",
        "                       param_grid=param_grid_knn ,\n",
        "                       scoring={\"recall\": metrica1, \"precision\" : metrica2}, \n",
        "                       cv=splitter,\n",
        "                       verbose=10,\n",
        "                       n_jobs=-1,\n",
        "                       refit=\"recall\")\n",
        "\n",
        "model_knn.fit(X_train, y_train)"
      ],
      "metadata": {
        "colab": {
          "base_uri": "https://localhost:8080/"
        },
        "id": "t40MuBflEUr1",
        "outputId": "539d1054-2c11-4327-8da0-5b6eba1d7a8d"
      },
      "execution_count": 237,
      "outputs": [
        {
          "output_type": "stream",
          "name": "stdout",
          "text": [
            "Fitting 10 folds for each of 76 candidates, totalling 760 fits\n"
          ]
        },
        {
          "output_type": "execute_result",
          "data": {
            "text/plain": [
              "GridSearchCV(cv=StratifiedKFold(n_splits=10, random_state=42, shuffle=True),\n",
              "             estimator=Pipeline(steps=[('pre_processador',\n",
              "                                        ColumnTransformer(transformers=[('transf_num',\n",
              "                                                                         Pipeline(steps=[('std',\n",
              "                                                                                          StandardScaler())]),\n",
              "                                                                         ['Age',\n",
              "                                                                          'Job',\n",
              "                                                                          'Credit '\n",
              "                                                                          'amount',\n",
              "                                                                          'Duration']),\n",
              "                                                                        ('transf_cat_ohe',\n",
              "                                                                         Pipeline(steps=[('onehot',\n",
              "                                                                                          OneHotEncoder(handle_unknown='ignore'))]),\n",
              "                                                                         ['Sex']),\n",
              "                                                                        ('tr...\n",
              "                                                                          'Saving '\n",
              "                                                                          'accounts',\n",
              "                                                                          'Checking '\n",
              "                                                                          'account',\n",
              "                                                                          'Purpose'])])),\n",
              "                                       ('knn', KNeighborsClassifier())]),\n",
              "             n_jobs=-1,\n",
              "             param_grid={'knn__metric': ['manhattan', 'euclidean'],\n",
              "                         'knn__n_neighbors': range(2, 21),\n",
              "                         'knn__weights': ['uniform', 'distance']},\n",
              "             refit='recall',\n",
              "             scoring={'precision': make_scorer(precision_score, pos_label=0),\n",
              "                      'recall': make_scorer(recall_score, pos_label=1)},\n",
              "             verbose=10)"
            ]
          },
          "metadata": {},
          "execution_count": 237
        }
      ]
    },
    {
      "cell_type": "code",
      "source": [
        "model_knn.best_params_"
      ],
      "metadata": {
        "colab": {
          "base_uri": "https://localhost:8080/"
        },
        "id": "jF9Od3LXITqO",
        "outputId": "ba47ae63-2c80-4e0e-b47b-084f6e3127d0"
      },
      "execution_count": 238,
      "outputs": [
        {
          "output_type": "execute_result",
          "data": {
            "text/plain": [
              "{'knn__metric': 'manhattan', 'knn__n_neighbors': 19, 'knn__weights': 'uniform'}"
            ]
          },
          "metadata": {},
          "execution_count": 238
        }
      ]
    },
    {
      "cell_type": "code",
      "source": [
        "model_knn_results = pd.DataFrame(model_knn.cv_results_)\n",
        "model_knn_results.sort_values(by=[\"rank_test_precision\"])"
      ],
      "metadata": {
        "id": "NI7OfZAXIWfm",
        "colab": {
          "base_uri": "https://localhost:8080/",
          "height": 835
        },
        "outputId": "48184516-7b53-464a-8c24-891f53ddde7c"
      },
      "execution_count": 239,
      "outputs": [
        {
          "output_type": "execute_result",
          "data": {
            "text/plain": [
              "    mean_fit_time  std_fit_time  mean_score_time  std_score_time  \\\n",
              "36       0.053645      0.014909         0.051326        0.019630   \n",
              "35       0.044975      0.018893         0.032029        0.011391   \n",
              "53       0.047569      0.013829         0.037221        0.015038   \n",
              "37       0.053775      0.010466         0.045136        0.016784   \n",
              "68       0.047802      0.013804         0.045652        0.018321   \n",
              "..            ...           ...              ...             ...   \n",
              "42       0.073010      0.013712         0.065428        0.012484   \n",
              "39       0.050428      0.016307         0.036830        0.015348   \n",
              "1        0.031573      0.005112         0.021754        0.005048   \n",
              "38       0.046850      0.016590         0.050476        0.016653   \n",
              "0        0.038273      0.010546         0.028174        0.004876   \n",
              "\n",
              "   param_knn__metric param_knn__n_neighbors param_knn__weights  \\\n",
              "36         manhattan                     20            uniform   \n",
              "35         manhattan                     19           distance   \n",
              "53         euclidean                      9           distance   \n",
              "37         manhattan                     20           distance   \n",
              "68         euclidean                     17            uniform   \n",
              "..               ...                    ...                ...   \n",
              "42         euclidean                      4            uniform   \n",
              "39         euclidean                      2           distance   \n",
              "1          manhattan                      2           distance   \n",
              "38         euclidean                      2            uniform   \n",
              "0          manhattan                      2            uniform   \n",
              "\n",
              "                                               params  split0_test_recall  \\\n",
              "36  {'knn__metric': 'manhattan', 'knn__n_neighbors...            0.892857   \n",
              "35  {'knn__metric': 'manhattan', 'knn__n_neighbors...            0.892857   \n",
              "53  {'knn__metric': 'euclidean', 'knn__n_neighbors...            0.803571   \n",
              "37  {'knn__metric': 'manhattan', 'knn__n_neighbors...            0.875000   \n",
              "68  {'knn__metric': 'euclidean', 'knn__n_neighbors...            0.839286   \n",
              "..                                                ...                 ...   \n",
              "42  {'knn__metric': 'euclidean', 'knn__n_neighbors...            0.696429   \n",
              "39  {'knn__metric': 'euclidean', 'knn__n_neighbors...            0.785714   \n",
              "1   {'knn__metric': 'manhattan', 'knn__n_neighbors...            0.750000   \n",
              "38  {'knn__metric': 'euclidean', 'knn__n_neighbors...            0.625000   \n",
              "0   {'knn__metric': 'manhattan', 'knn__n_neighbors...            0.589286   \n",
              "\n",
              "    split1_test_recall  ...  split3_test_precision  split4_test_precision  \\\n",
              "36            0.839286  ...               0.615385               0.555556   \n",
              "35            0.892857  ...               0.533333               0.285714   \n",
              "53            0.910714  ...               0.466667               0.500000   \n",
              "37            0.875000  ...               0.500000               0.333333   \n",
              "68            0.875000  ...               0.500000               0.500000   \n",
              "..                 ...  ...                    ...                    ...   \n",
              "42            0.785714  ...               0.307692               0.285714   \n",
              "39            0.875000  ...               0.448276               0.350000   \n",
              "1             0.821429  ...               0.354839               0.272727   \n",
              "38            0.696429  ...               0.333333               0.428571   \n",
              "0             0.714286  ...               0.317073               0.406250   \n",
              "\n",
              "    split5_test_precision  split6_test_precision  split7_test_precision  \\\n",
              "36               0.705882               0.562500               0.750000   \n",
              "35               0.733333               0.562500               0.600000   \n",
              "53               0.705882               0.650000               0.600000   \n",
              "37               0.800000               0.562500               0.600000   \n",
              "68               0.764706               0.615385               0.666667   \n",
              "..                    ...                    ...                    ...   \n",
              "42               0.516129               0.483871               0.625000   \n",
              "39               0.440000               0.413793               0.571429   \n",
              "1                0.440000               0.444444               0.812500   \n",
              "38               0.384615               0.428571               0.518519   \n",
              "0                0.447368               0.435897               0.640000   \n",
              "\n",
              "    split8_test_precision  split9_test_precision  mean_test_precision  \\\n",
              "36               0.500000               0.615385             0.590211   \n",
              "35               0.500000               0.500000             0.570589   \n",
              "53               0.352941               0.642857             0.568101   \n",
              "37               0.428571               0.555556             0.567996   \n",
              "68               0.400000               0.777778             0.567751   \n",
              "..                    ...                    ...                  ...   \n",
              "42               0.370370               0.428571             0.451747   \n",
              "39               0.409091               0.200000             0.442783   \n",
              "1                0.333333               0.214286             0.430691   \n",
              "38               0.424242               0.375000             0.426879   \n",
              "0                0.406250               0.321429             0.425805   \n",
              "\n",
              "    std_test_precision  rank_test_precision  \n",
              "36            0.083305                    1  \n",
              "35            0.126210                    2  \n",
              "53            0.133349                    3  \n",
              "37            0.133655                    4  \n",
              "68            0.133358                    5  \n",
              "..                 ...                  ...  \n",
              "42            0.121237                   72  \n",
              "39            0.118201                   73  \n",
              "1             0.159681                   74  \n",
              "38            0.052353                   75  \n",
              "0             0.088373                   76  \n",
              "\n",
              "[76 rows x 34 columns]"
            ],
            "text/html": [
              "\n",
              "  <div id=\"df-13011bf4-cda1-4bc1-b4aa-1c713f3df70d\">\n",
              "    <div class=\"colab-df-container\">\n",
              "      <div>\n",
              "<style scoped>\n",
              "    .dataframe tbody tr th:only-of-type {\n",
              "        vertical-align: middle;\n",
              "    }\n",
              "\n",
              "    .dataframe tbody tr th {\n",
              "        vertical-align: top;\n",
              "    }\n",
              "\n",
              "    .dataframe thead th {\n",
              "        text-align: right;\n",
              "    }\n",
              "</style>\n",
              "<table border=\"1\" class=\"dataframe\">\n",
              "  <thead>\n",
              "    <tr style=\"text-align: right;\">\n",
              "      <th></th>\n",
              "      <th>mean_fit_time</th>\n",
              "      <th>std_fit_time</th>\n",
              "      <th>mean_score_time</th>\n",
              "      <th>std_score_time</th>\n",
              "      <th>param_knn__metric</th>\n",
              "      <th>param_knn__n_neighbors</th>\n",
              "      <th>param_knn__weights</th>\n",
              "      <th>params</th>\n",
              "      <th>split0_test_recall</th>\n",
              "      <th>split1_test_recall</th>\n",
              "      <th>...</th>\n",
              "      <th>split3_test_precision</th>\n",
              "      <th>split4_test_precision</th>\n",
              "      <th>split5_test_precision</th>\n",
              "      <th>split6_test_precision</th>\n",
              "      <th>split7_test_precision</th>\n",
              "      <th>split8_test_precision</th>\n",
              "      <th>split9_test_precision</th>\n",
              "      <th>mean_test_precision</th>\n",
              "      <th>std_test_precision</th>\n",
              "      <th>rank_test_precision</th>\n",
              "    </tr>\n",
              "  </thead>\n",
              "  <tbody>\n",
              "    <tr>\n",
              "      <th>36</th>\n",
              "      <td>0.053645</td>\n",
              "      <td>0.014909</td>\n",
              "      <td>0.051326</td>\n",
              "      <td>0.019630</td>\n",
              "      <td>manhattan</td>\n",
              "      <td>20</td>\n",
              "      <td>uniform</td>\n",
              "      <td>{'knn__metric': 'manhattan', 'knn__n_neighbors...</td>\n",
              "      <td>0.892857</td>\n",
              "      <td>0.839286</td>\n",
              "      <td>...</td>\n",
              "      <td>0.615385</td>\n",
              "      <td>0.555556</td>\n",
              "      <td>0.705882</td>\n",
              "      <td>0.562500</td>\n",
              "      <td>0.750000</td>\n",
              "      <td>0.500000</td>\n",
              "      <td>0.615385</td>\n",
              "      <td>0.590211</td>\n",
              "      <td>0.083305</td>\n",
              "      <td>1</td>\n",
              "    </tr>\n",
              "    <tr>\n",
              "      <th>35</th>\n",
              "      <td>0.044975</td>\n",
              "      <td>0.018893</td>\n",
              "      <td>0.032029</td>\n",
              "      <td>0.011391</td>\n",
              "      <td>manhattan</td>\n",
              "      <td>19</td>\n",
              "      <td>distance</td>\n",
              "      <td>{'knn__metric': 'manhattan', 'knn__n_neighbors...</td>\n",
              "      <td>0.892857</td>\n",
              "      <td>0.892857</td>\n",
              "      <td>...</td>\n",
              "      <td>0.533333</td>\n",
              "      <td>0.285714</td>\n",
              "      <td>0.733333</td>\n",
              "      <td>0.562500</td>\n",
              "      <td>0.600000</td>\n",
              "      <td>0.500000</td>\n",
              "      <td>0.500000</td>\n",
              "      <td>0.570589</td>\n",
              "      <td>0.126210</td>\n",
              "      <td>2</td>\n",
              "    </tr>\n",
              "    <tr>\n",
              "      <th>53</th>\n",
              "      <td>0.047569</td>\n",
              "      <td>0.013829</td>\n",
              "      <td>0.037221</td>\n",
              "      <td>0.015038</td>\n",
              "      <td>euclidean</td>\n",
              "      <td>9</td>\n",
              "      <td>distance</td>\n",
              "      <td>{'knn__metric': 'euclidean', 'knn__n_neighbors...</td>\n",
              "      <td>0.803571</td>\n",
              "      <td>0.910714</td>\n",
              "      <td>...</td>\n",
              "      <td>0.466667</td>\n",
              "      <td>0.500000</td>\n",
              "      <td>0.705882</td>\n",
              "      <td>0.650000</td>\n",
              "      <td>0.600000</td>\n",
              "      <td>0.352941</td>\n",
              "      <td>0.642857</td>\n",
              "      <td>0.568101</td>\n",
              "      <td>0.133349</td>\n",
              "      <td>3</td>\n",
              "    </tr>\n",
              "    <tr>\n",
              "      <th>37</th>\n",
              "      <td>0.053775</td>\n",
              "      <td>0.010466</td>\n",
              "      <td>0.045136</td>\n",
              "      <td>0.016784</td>\n",
              "      <td>manhattan</td>\n",
              "      <td>20</td>\n",
              "      <td>distance</td>\n",
              "      <td>{'knn__metric': 'manhattan', 'knn__n_neighbors...</td>\n",
              "      <td>0.875000</td>\n",
              "      <td>0.875000</td>\n",
              "      <td>...</td>\n",
              "      <td>0.500000</td>\n",
              "      <td>0.333333</td>\n",
              "      <td>0.800000</td>\n",
              "      <td>0.562500</td>\n",
              "      <td>0.600000</td>\n",
              "      <td>0.428571</td>\n",
              "      <td>0.555556</td>\n",
              "      <td>0.567996</td>\n",
              "      <td>0.133655</td>\n",
              "      <td>4</td>\n",
              "    </tr>\n",
              "    <tr>\n",
              "      <th>68</th>\n",
              "      <td>0.047802</td>\n",
              "      <td>0.013804</td>\n",
              "      <td>0.045652</td>\n",
              "      <td>0.018321</td>\n",
              "      <td>euclidean</td>\n",
              "      <td>17</td>\n",
              "      <td>uniform</td>\n",
              "      <td>{'knn__metric': 'euclidean', 'knn__n_neighbors...</td>\n",
              "      <td>0.839286</td>\n",
              "      <td>0.875000</td>\n",
              "      <td>...</td>\n",
              "      <td>0.500000</td>\n",
              "      <td>0.500000</td>\n",
              "      <td>0.764706</td>\n",
              "      <td>0.615385</td>\n",
              "      <td>0.666667</td>\n",
              "      <td>0.400000</td>\n",
              "      <td>0.777778</td>\n",
              "      <td>0.567751</td>\n",
              "      <td>0.133358</td>\n",
              "      <td>5</td>\n",
              "    </tr>\n",
              "    <tr>\n",
              "      <th>...</th>\n",
              "      <td>...</td>\n",
              "      <td>...</td>\n",
              "      <td>...</td>\n",
              "      <td>...</td>\n",
              "      <td>...</td>\n",
              "      <td>...</td>\n",
              "      <td>...</td>\n",
              "      <td>...</td>\n",
              "      <td>...</td>\n",
              "      <td>...</td>\n",
              "      <td>...</td>\n",
              "      <td>...</td>\n",
              "      <td>...</td>\n",
              "      <td>...</td>\n",
              "      <td>...</td>\n",
              "      <td>...</td>\n",
              "      <td>...</td>\n",
              "      <td>...</td>\n",
              "      <td>...</td>\n",
              "      <td>...</td>\n",
              "      <td>...</td>\n",
              "    </tr>\n",
              "    <tr>\n",
              "      <th>42</th>\n",
              "      <td>0.073010</td>\n",
              "      <td>0.013712</td>\n",
              "      <td>0.065428</td>\n",
              "      <td>0.012484</td>\n",
              "      <td>euclidean</td>\n",
              "      <td>4</td>\n",
              "      <td>uniform</td>\n",
              "      <td>{'knn__metric': 'euclidean', 'knn__n_neighbors...</td>\n",
              "      <td>0.696429</td>\n",
              "      <td>0.785714</td>\n",
              "      <td>...</td>\n",
              "      <td>0.307692</td>\n",
              "      <td>0.285714</td>\n",
              "      <td>0.516129</td>\n",
              "      <td>0.483871</td>\n",
              "      <td>0.625000</td>\n",
              "      <td>0.370370</td>\n",
              "      <td>0.428571</td>\n",
              "      <td>0.451747</td>\n",
              "      <td>0.121237</td>\n",
              "      <td>72</td>\n",
              "    </tr>\n",
              "    <tr>\n",
              "      <th>39</th>\n",
              "      <td>0.050428</td>\n",
              "      <td>0.016307</td>\n",
              "      <td>0.036830</td>\n",
              "      <td>0.015348</td>\n",
              "      <td>euclidean</td>\n",
              "      <td>2</td>\n",
              "      <td>distance</td>\n",
              "      <td>{'knn__metric': 'euclidean', 'knn__n_neighbors...</td>\n",
              "      <td>0.785714</td>\n",
              "      <td>0.875000</td>\n",
              "      <td>...</td>\n",
              "      <td>0.448276</td>\n",
              "      <td>0.350000</td>\n",
              "      <td>0.440000</td>\n",
              "      <td>0.413793</td>\n",
              "      <td>0.571429</td>\n",
              "      <td>0.409091</td>\n",
              "      <td>0.200000</td>\n",
              "      <td>0.442783</td>\n",
              "      <td>0.118201</td>\n",
              "      <td>73</td>\n",
              "    </tr>\n",
              "    <tr>\n",
              "      <th>1</th>\n",
              "      <td>0.031573</td>\n",
              "      <td>0.005112</td>\n",
              "      <td>0.021754</td>\n",
              "      <td>0.005048</td>\n",
              "      <td>manhattan</td>\n",
              "      <td>2</td>\n",
              "      <td>distance</td>\n",
              "      <td>{'knn__metric': 'manhattan', 'knn__n_neighbors...</td>\n",
              "      <td>0.750000</td>\n",
              "      <td>0.821429</td>\n",
              "      <td>...</td>\n",
              "      <td>0.354839</td>\n",
              "      <td>0.272727</td>\n",
              "      <td>0.440000</td>\n",
              "      <td>0.444444</td>\n",
              "      <td>0.812500</td>\n",
              "      <td>0.333333</td>\n",
              "      <td>0.214286</td>\n",
              "      <td>0.430691</td>\n",
              "      <td>0.159681</td>\n",
              "      <td>74</td>\n",
              "    </tr>\n",
              "    <tr>\n",
              "      <th>38</th>\n",
              "      <td>0.046850</td>\n",
              "      <td>0.016590</td>\n",
              "      <td>0.050476</td>\n",
              "      <td>0.016653</td>\n",
              "      <td>euclidean</td>\n",
              "      <td>2</td>\n",
              "      <td>uniform</td>\n",
              "      <td>{'knn__metric': 'euclidean', 'knn__n_neighbors...</td>\n",
              "      <td>0.625000</td>\n",
              "      <td>0.696429</td>\n",
              "      <td>...</td>\n",
              "      <td>0.333333</td>\n",
              "      <td>0.428571</td>\n",
              "      <td>0.384615</td>\n",
              "      <td>0.428571</td>\n",
              "      <td>0.518519</td>\n",
              "      <td>0.424242</td>\n",
              "      <td>0.375000</td>\n",
              "      <td>0.426879</td>\n",
              "      <td>0.052353</td>\n",
              "      <td>75</td>\n",
              "    </tr>\n",
              "    <tr>\n",
              "      <th>0</th>\n",
              "      <td>0.038273</td>\n",
              "      <td>0.010546</td>\n",
              "      <td>0.028174</td>\n",
              "      <td>0.004876</td>\n",
              "      <td>manhattan</td>\n",
              "      <td>2</td>\n",
              "      <td>uniform</td>\n",
              "      <td>{'knn__metric': 'manhattan', 'knn__n_neighbors...</td>\n",
              "      <td>0.589286</td>\n",
              "      <td>0.714286</td>\n",
              "      <td>...</td>\n",
              "      <td>0.317073</td>\n",
              "      <td>0.406250</td>\n",
              "      <td>0.447368</td>\n",
              "      <td>0.435897</td>\n",
              "      <td>0.640000</td>\n",
              "      <td>0.406250</td>\n",
              "      <td>0.321429</td>\n",
              "      <td>0.425805</td>\n",
              "      <td>0.088373</td>\n",
              "      <td>76</td>\n",
              "    </tr>\n",
              "  </tbody>\n",
              "</table>\n",
              "<p>76 rows × 34 columns</p>\n",
              "</div>\n",
              "      <button class=\"colab-df-convert\" onclick=\"convertToInteractive('df-13011bf4-cda1-4bc1-b4aa-1c713f3df70d')\"\n",
              "              title=\"Convert this dataframe to an interactive table.\"\n",
              "              style=\"display:none;\">\n",
              "        \n",
              "  <svg xmlns=\"http://www.w3.org/2000/svg\" height=\"24px\"viewBox=\"0 0 24 24\"\n",
              "       width=\"24px\">\n",
              "    <path d=\"M0 0h24v24H0V0z\" fill=\"none\"/>\n",
              "    <path d=\"M18.56 5.44l.94 2.06.94-2.06 2.06-.94-2.06-.94-.94-2.06-.94 2.06-2.06.94zm-11 1L8.5 8.5l.94-2.06 2.06-.94-2.06-.94L8.5 2.5l-.94 2.06-2.06.94zm10 10l.94 2.06.94-2.06 2.06-.94-2.06-.94-.94-2.06-.94 2.06-2.06.94z\"/><path d=\"M17.41 7.96l-1.37-1.37c-.4-.4-.92-.59-1.43-.59-.52 0-1.04.2-1.43.59L10.3 9.45l-7.72 7.72c-.78.78-.78 2.05 0 2.83L4 21.41c.39.39.9.59 1.41.59.51 0 1.02-.2 1.41-.59l7.78-7.78 2.81-2.81c.8-.78.8-2.07 0-2.86zM5.41 20L4 18.59l7.72-7.72 1.47 1.35L5.41 20z\"/>\n",
              "  </svg>\n",
              "      </button>\n",
              "      \n",
              "  <style>\n",
              "    .colab-df-container {\n",
              "      display:flex;\n",
              "      flex-wrap:wrap;\n",
              "      gap: 12px;\n",
              "    }\n",
              "\n",
              "    .colab-df-convert {\n",
              "      background-color: #E8F0FE;\n",
              "      border: none;\n",
              "      border-radius: 50%;\n",
              "      cursor: pointer;\n",
              "      display: none;\n",
              "      fill: #1967D2;\n",
              "      height: 32px;\n",
              "      padding: 0 0 0 0;\n",
              "      width: 32px;\n",
              "    }\n",
              "\n",
              "    .colab-df-convert:hover {\n",
              "      background-color: #E2EBFA;\n",
              "      box-shadow: 0px 1px 2px rgba(60, 64, 67, 0.3), 0px 1px 3px 1px rgba(60, 64, 67, 0.15);\n",
              "      fill: #174EA6;\n",
              "    }\n",
              "\n",
              "    [theme=dark] .colab-df-convert {\n",
              "      background-color: #3B4455;\n",
              "      fill: #D2E3FC;\n",
              "    }\n",
              "\n",
              "    [theme=dark] .colab-df-convert:hover {\n",
              "      background-color: #434B5C;\n",
              "      box-shadow: 0px 1px 3px 1px rgba(0, 0, 0, 0.15);\n",
              "      filter: drop-shadow(0px 1px 2px rgba(0, 0, 0, 0.3));\n",
              "      fill: #FFFFFF;\n",
              "    }\n",
              "  </style>\n",
              "\n",
              "      <script>\n",
              "        const buttonEl =\n",
              "          document.querySelector('#df-13011bf4-cda1-4bc1-b4aa-1c713f3df70d button.colab-df-convert');\n",
              "        buttonEl.style.display =\n",
              "          google.colab.kernel.accessAllowed ? 'block' : 'none';\n",
              "\n",
              "        async function convertToInteractive(key) {\n",
              "          const element = document.querySelector('#df-13011bf4-cda1-4bc1-b4aa-1c713f3df70d');\n",
              "          const dataTable =\n",
              "            await google.colab.kernel.invokeFunction('convertToInteractive',\n",
              "                                                     [key], {});\n",
              "          if (!dataTable) return;\n",
              "\n",
              "          const docLinkHtml = 'Like what you see? Visit the ' +\n",
              "            '<a target=\"_blank\" href=https://colab.research.google.com/notebooks/data_table.ipynb>data table notebook</a>'\n",
              "            + ' to learn more about interactive tables.';\n",
              "          element.innerHTML = '';\n",
              "          dataTable['output_type'] = 'display_data';\n",
              "          await google.colab.output.renderOutput(dataTable, element);\n",
              "          const docLink = document.createElement('div');\n",
              "          docLink.innerHTML = docLinkHtml;\n",
              "          element.appendChild(docLink);\n",
              "        }\n",
              "      </script>\n",
              "    </div>\n",
              "  </div>\n",
              "  "
            ]
          },
          "metadata": {},
          "execution_count": 239
        }
      ]
    },
    {
      "cell_type": "code",
      "source": [
        "### ============================================\n",
        "\n",
        "print(\"\\nMétricas de avaliação de treino:\")\n",
        "\n",
        "y_pred_train = model_knn.predict(X_train)\n",
        "\n",
        "print(confusion_matrix(y_train, y_pred_train))\n",
        "\n",
        "ConfusionMatrixDisplay.from_predictions(y_train, y_pred_train)\n",
        "plt.show()\n",
        "\n",
        "print(classification_report(y_train, y_pred_train))\n",
        "\n",
        "# ============================================\n",
        "\n",
        "print(\"\\nMétricas de avaliação de teste:\")\n",
        "\n",
        "y_pred_test = model_knn.predict(X_test)\n",
        "\n",
        "print(confusion_matrix(y_test, y_pred_test))\n",
        "\n",
        "ConfusionMatrixDisplay.from_predictions(y_test, y_pred_test)\n",
        "plt.show()\n",
        "\n",
        "print(classification_report(y_test, y_pred_test))"
      ],
      "metadata": {
        "colab": {
          "base_uri": "https://localhost:8080/",
          "height": 992
        },
        "id": "-9kN5AWIIfvG",
        "outputId": "9ddaffda-f793-4f9f-eb27-37289333626e"
      },
      "execution_count": 240,
      "outputs": [
        {
          "output_type": "stream",
          "name": "stdout",
          "text": [
            "\n",
            "Métricas de avaliação de treino:\n",
            "[[ 88 152]\n",
            " [ 48 512]]\n"
          ]
        },
        {
          "output_type": "display_data",
          "data": {
            "text/plain": [
              "<Figure size 432x288 with 2 Axes>"
            ],
            "image/png": "[encoded data removed]"
          },
          "metadata": {
            "needs_background": "light"
          }
        },
        {
          "output_type": "stream",
          "name": "stdout",
          "text": [
            "              precision    recall  f1-score   support\n",
            "\n",
            "           0       0.65      0.37      0.47       240\n",
            "           1       0.77      0.91      0.84       560\n",
            "\n",
            "    accuracy                           0.75       800\n",
            "   macro avg       0.71      0.64      0.65       800\n",
            "weighted avg       0.73      0.75      0.73       800\n",
            "\n",
            "\n",
            "Métricas de avaliação de teste:\n",
            "[[ 16  44]\n",
            " [ 11 129]]\n"
          ]
        },
        {
          "output_type": "display_data",
          "data": {
            "text/plain": [
              "<Figure size 432x288 with 2 Axes>"
            ],
            "image/png": "[encoded data removed]"
          },
          "metadata": {
            "needs_background": "light"
          }
        },
        {
          "output_type": "stream",
          "name": "stdout",
          "text": [
            "              precision    recall  f1-score   support\n",
            "\n",
            "           0       0.59      0.27      0.37        60\n",
            "           1       0.75      0.92      0.82       140\n",
            "\n",
            "    accuracy                           0.73       200\n",
            "   macro avg       0.67      0.59      0.60       200\n",
            "weighted avg       0.70      0.72      0.69       200\n",
            "\n"
          ]
        }
      ]
    },
    {
      "cell_type": "markdown",
      "source": [
        "**Probabilidade de sair cada diagnóstico:**"
      ],
      "metadata": {
        "id": "r6IsV_JElcnN"
      }
    },
    {
      "cell_type": "code",
      "source": [
        "probas = model_knn.predict_proba(X_test)"
      ],
      "metadata": {
        "id": "IUZ_jRQOgQQ0"
      },
      "execution_count": 261,
      "outputs": []
    },
    {
      "cell_type": "code",
      "source": [
        "tabela_knn_ob = pd.DataFrame()"
      ],
      "metadata": {
        "id": "Ei3jRwBUgQQ0"
      },
      "execution_count": 262,
      "outputs": []
    },
    {
      "cell_type": "code",
      "source": [
        "tabela_knn_ob[\"Amostra existente\"] = y_test"
      ],
      "metadata": {
        "execution": {
          "iopub.status.busy": "2022-07-02T02:11:21.772059Z",
          "iopub.execute_input": "2022-07-02T02:11:21.772902Z",
          "iopub.status.idle": "2022-07-02T02:11:21.779761Z",
          "shell.execute_reply.started": "2022-07-02T02:11:21.772849Z",
          "shell.execute_reply": "2022-07-02T02:11:21.778587Z"
        },
        "trusted": true,
        "id": "MTVCk0pQgQQ1"
      },
      "execution_count": 263,
      "outputs": []
    },
    {
      "cell_type": "code",
      "source": [
        "tabela_knn_ob[\"Predição\"] = y_pred_test"
      ],
      "metadata": {
        "execution": {
          "iopub.status.busy": "2022-07-02T02:11:42.125170Z",
          "iopub.execute_input": "2022-07-02T02:11:42.125656Z",
          "iopub.status.idle": "2022-07-02T02:11:42.132508Z",
          "shell.execute_reply.started": "2022-07-02T02:11:42.125621Z",
          "shell.execute_reply": "2022-07-02T02:11:42.131128Z"
        },
        "trusted": true,
        "id": "LV6QABdbgQQ1"
      },
      "execution_count": 264,
      "outputs": []
    },
    {
      "cell_type": "code",
      "source": [
        "tabela_knn_ob"
      ],
      "metadata": {
        "execution": {
          "iopub.status.busy": "2022-07-02T02:11:46.395518Z",
          "iopub.execute_input": "2022-07-02T02:11:46.396323Z",
          "iopub.status.idle": "2022-07-02T02:11:46.410096Z",
          "shell.execute_reply.started": "2022-07-02T02:11:46.396280Z",
          "shell.execute_reply": "2022-07-02T02:11:46.409070Z"
        },
        "trusted": true,
        "id": "tLeU3BuNgQQ2",
        "colab": {
          "base_uri": "https://localhost:8080/",
          "height": 424
        },
        "outputId": "51d19a87-9eab-45e0-a4ca-5d6a786c9656"
      },
      "execution_count": 265,
      "outputs": [
        {
          "output_type": "execute_result",
          "data": {
            "text/plain": [
              "     Amostra existente  Predição\n",
              "763                  0         1\n",
              "173                  1         1\n",
              "422                  1         1\n",
              "695                  1         1\n",
              "358                  1         1\n",
              "..                 ...       ...\n",
              "157                  1         1\n",
              "206                  1         1\n",
              "452                  1         1\n",
              "789                  0         0\n",
              "325                  1         1\n",
              "\n",
              "[200 rows x 2 columns]"
            ],
            "text/html": [
              "\n",
              "  <div id=\"df-6d9fd9a7-e5f3-42c2-8a95-077f0759901d\">\n",
              "    <div class=\"colab-df-container\">\n",
              "      <div>\n",
              "<style scoped>\n",
              "    .dataframe tbody tr th:only-of-type {\n",
              "        vertical-align: middle;\n",
              "    }\n",
              "\n",
              "    .dataframe tbody tr th {\n",
              "        vertical-align: top;\n",
              "    }\n",
              "\n",
              "    .dataframe thead th {\n",
              "        text-align: right;\n",
              "    }\n",
              "</style>\n",
              "<table border=\"1\" class=\"dataframe\">\n",
              "  <thead>\n",
              "    <tr style=\"text-align: right;\">\n",
              "      <th></th>\n",
              "      <th>Amostra existente</th>\n",
              "      <th>Predição</th>\n",
              "    </tr>\n",
              "  </thead>\n",
              "  <tbody>\n",
              "    <tr>\n",
              "      <th>763</th>\n",
              "      <td>0</td>\n",
              "      <td>1</td>\n",
              "    </tr>\n",
              "    <tr>\n",
              "      <th>173</th>\n",
              "      <td>1</td>\n",
              "      <td>1</td>\n",
              "    </tr>\n",
              "    <tr>\n",
              "      <th>422</th>\n",
              "      <td>1</td>\n",
              "      <td>1</td>\n",
              "    </tr>\n",
              "    <tr>\n",
              "      <th>695</th>\n",
              "      <td>1</td>\n",
              "      <td>1</td>\n",
              "    </tr>\n",
              "    <tr>\n",
              "      <th>358</th>\n",
              "      <td>1</td>\n",
              "      <td>1</td>\n",
              "    </tr>\n",
              "    <tr>\n",
              "      <th>...</th>\n",
              "      <td>...</td>\n",
              "      <td>...</td>\n",
              "    </tr>\n",
              "    <tr>\n",
              "      <th>157</th>\n",
              "      <td>1</td>\n",
              "      <td>1</td>\n",
              "    </tr>\n",
              "    <tr>\n",
              "      <th>206</th>\n",
              "      <td>1</td>\n",
              "      <td>1</td>\n",
              "    </tr>\n",
              "    <tr>\n",
              "      <th>452</th>\n",
              "      <td>1</td>\n",
              "      <td>1</td>\n",
              "    </tr>\n",
              "    <tr>\n",
              "      <th>789</th>\n",
              "      <td>0</td>\n",
              "      <td>0</td>\n",
              "    </tr>\n",
              "    <tr>\n",
              "      <th>325</th>\n",
              "      <td>1</td>\n",
              "      <td>1</td>\n",
              "    </tr>\n",
              "  </tbody>\n",
              "</table>\n",
              "<p>200 rows × 2 columns</p>\n",
              "</div>\n",
              "      <button class=\"colab-df-convert\" onclick=\"convertToInteractive('df-6d9fd9a7-e5f3-42c2-8a95-077f0759901d')\"\n",
              "              title=\"Convert this dataframe to an interactive table.\"\n",
              "              style=\"display:none;\">\n",
              "        \n",
              "  <svg xmlns=\"http://www.w3.org/2000/svg\" height=\"24px\"viewBox=\"0 0 24 24\"\n",
              "       width=\"24px\">\n",
              "    <path d=\"M0 0h24v24H0V0z\" fill=\"none\"/>\n",
              "    <path d=\"M18.56 5.44l.94 2.06.94-2.06 2.06-.94-2.06-.94-.94-2.06-.94 2.06-2.06.94zm-11 1L8.5 8.5l.94-2.06 2.06-.94-2.06-.94L8.5 2.5l-.94 2.06-2.06.94zm10 10l.94 2.06.94-2.06 2.06-.94-2.06-.94-.94-2.06-.94 2.06-2.06.94z\"/><path d=\"M17.41 7.96l-1.37-1.37c-.4-.4-.92-.59-1.43-.59-.52 0-1.04.2-1.43.59L10.3 9.45l-7.72 7.72c-.78.78-.78 2.05 0 2.83L4 21.41c.39.39.9.59 1.41.59.51 0 1.02-.2 1.41-.59l7.78-7.78 2.81-2.81c.8-.78.8-2.07 0-2.86zM5.41 20L4 18.59l7.72-7.72 1.47 1.35L5.41 20z\"/>\n",
              "  </svg>\n",
              "      </button>\n",
              "      \n",
              "  <style>\n",
              "    .colab-df-container {\n",
              "      display:flex;\n",
              "      flex-wrap:wrap;\n",
              "      gap: 12px;\n",
              "    }\n",
              "\n",
              "    .colab-df-convert {\n",
              "      background-color: #E8F0FE;\n",
              "      border: none;\n",
              "      border-radius: 50%;\n",
              "      cursor: pointer;\n",
              "      display: none;\n",
              "      fill: #1967D2;\n",
              "      height: 32px;\n",
              "      padding: 0 0 0 0;\n",
              "      width: 32px;\n",
              "    }\n",
              "\n",
              "    .colab-df-convert:hover {\n",
              "      background-color: #E2EBFA;\n",
              "      box-shadow: 0px 1px 2px rgba(60, 64, 67, 0.3), 0px 1px 3px 1px rgba(60, 64, 67, 0.15);\n",
              "      fill: #174EA6;\n",
              "    }\n",
              "\n",
              "    [theme=dark] .colab-df-convert {\n",
              "      background-color: #3B4455;\n",
              "      fill: #D2E3FC;\n",
              "    }\n",
              "\n",
              "    [theme=dark] .colab-df-convert:hover {\n",
              "      background-color: #434B5C;\n",
              "      box-shadow: 0px 1px 3px 1px rgba(0, 0, 0, 0.15);\n",
              "      filter: drop-shadow(0px 1px 2px rgba(0, 0, 0, 0.3));\n",
              "      fill: #FFFFFF;\n",
              "    }\n",
              "  </style>\n",
              "\n",
              "      <script>\n",
              "        const buttonEl =\n",
              "          document.querySelector('#df-6d9fd9a7-e5f3-42c2-8a95-077f0759901d button.colab-df-convert');\n",
              "        buttonEl.style.display =\n",
              "          google.colab.kernel.accessAllowed ? 'block' : 'none';\n",
              "\n",
              "        async function convertToInteractive(key) {\n",
              "          const element = document.querySelector('#df-6d9fd9a7-e5f3-42c2-8a95-077f0759901d');\n",
              "          const dataTable =\n",
              "            await google.colab.kernel.invokeFunction('convertToInteractive',\n",
              "                                                     [key], {});\n",
              "          if (!dataTable) return;\n",
              "\n",
              "          const docLinkHtml = 'Like what you see? Visit the ' +\n",
              "            '<a target=\"_blank\" href=https://colab.research.google.com/notebooks/data_table.ipynb>data table notebook</a>'\n",
              "            + ' to learn more about interactive tables.';\n",
              "          element.innerHTML = '';\n",
              "          dataTable['output_type'] = 'display_data';\n",
              "          await google.colab.output.renderOutput(dataTable, element);\n",
              "          const docLink = document.createElement('div');\n",
              "          docLink.innerHTML = docLinkHtml;\n",
              "          element.appendChild(docLink);\n",
              "        }\n",
              "      </script>\n",
              "    </div>\n",
              "  </div>\n",
              "  "
            ]
          },
          "metadata": {},
          "execution_count": 265
        }
      ]
    },
    {
      "cell_type": "markdown",
      "source": [
        "Salvando a tabela"
      ],
      "metadata": {
        "id": "QCkmI4IC6whA"
      }
    },
    {
      "cell_type": "code",
      "source": [
        "tabela_knn_ob.to_csv(\"15-german_credit_knn_ob.csv\")"
      ],
      "metadata": {
        "id": "SpuoNd-n6v1u"
      },
      "execution_count": 266,
      "outputs": []
    },
    {
      "cell_type": "markdown",
      "source": [
        "Salvando o estimador..."
      ],
      "metadata": {
        "id": "CeCiHM63NKv1"
      }
    },
    {
      "cell_type": "code",
      "source": [
        "import pickle"
      ],
      "metadata": {
        "execution": {
          "iopub.status.busy": "2022-07-02T02:19:05.371396Z",
          "iopub.execute_input": "2022-07-02T02:19:05.372618Z",
          "iopub.status.idle": "2022-07-02T02:19:05.377481Z",
          "shell.execute_reply.started": "2022-07-02T02:19:05.372572Z",
          "shell.execute_reply": "2022-07-02T02:19:05.376202Z"
        },
        "trusted": true,
        "id": "9h4_8SphgQQ2"
      },
      "execution_count": 247,
      "outputs": []
    },
    {
      "cell_type": "code",
      "source": [
        "with open(\"15-credit_knn.pkl\", \"wb\") as f:\n",
        "    pickle.dump(model_knn, f)"
      ],
      "metadata": {
        "execution": {
          "iopub.status.busy": "2022-07-02T02:19:13.260311Z",
          "iopub.execute_input": "2022-07-02T02:19:13.260705Z",
          "iopub.status.idle": "2022-07-02T02:19:13.268676Z",
          "shell.execute_reply.started": "2022-07-02T02:19:13.260676Z",
          "shell.execute_reply": "2022-07-02T02:19:13.267067Z"
        },
        "trusted": true,
        "id": "w11bl5wegQQ2"
      },
      "execution_count": 268,
      "outputs": []
    },
    {
      "cell_type": "code",
      "source": [
        "with open(\"15-credit_knn.pkl\", \"rb\") as f:\n",
        "    \n",
        "    credit_knn = pickle.load(f)"
      ],
      "metadata": {
        "execution": {
          "iopub.status.busy": "2022-07-02T02:19:27.758117Z",
          "iopub.execute_input": "2022-07-02T02:19:27.758754Z",
          "iopub.status.idle": "2022-07-02T02:19:27.765923Z",
          "shell.execute_reply.started": "2022-07-02T02:19:27.758713Z",
          "shell.execute_reply": "2022-07-02T02:19:27.764747Z"
        },
        "trusted": true,
        "id": "1mwKfgeRgQQ3"
      },
      "execution_count": null,
      "outputs": []
    },
    {
      "cell_type": "markdown",
      "source": [
        "# **Otimização Bayesiana**"
      ],
      "metadata": {
        "id": "8K25HyLq3Aau"
      }
    },
    {
      "cell_type": "markdown",
      "source": [
        "\n",
        "\n",
        "---\n",
        "\n",
        "\n",
        "\n",
        "---\n",
        "\n",
        "\n",
        "\n",
        "---\n",
        "\n"
      ],
      "metadata": {
        "id": "101r2Krlzpwl"
      }
    },
    {
      "cell_type": "code",
      "source": [
        "\n",
        "\n",
        "def pipe_pre_breast_cancer(drop_not_features=[\"Risk\"], col_target=\"Risk\",\n",
        "                             inputer_num_strategy=\"mean\",\n",
        "                             encoding=\"ordinal\"):\n",
        "    '''\n",
        "    - inputer_num_strategy (str): \"mean\", \"median\";\n",
        "    - encoding (str): \"onehot\" para OneHotEncoder; \"ordinal\" OrdinalEncoder;\n",
        "    '''\n",
        "\n",
        "    X = df.drop(columns=drop_not_features)\n",
        "    y = df[col_target]\n",
        "    \n",
        "    X_train_ob, X_test_ob, y_train_ob, y_test_ob = train_test_split(X, y, test_size=0.1, random_state=42, stratify=y)\n",
        "\n",
        "    # ==========================================================\n",
        "\n",
        "    pipe_features_num = Pipeline([(\"input_num\", SimpleImputer(strategy=inputer_num_strategy)),\n",
        "                                  (\"std\", StandardScaler())])\n",
        "\n",
        "    features_num = X_train_ob.select_dtypes(include=np.number).columns.tolist()\n",
        "\n",
        "    # ==========================================================\n",
        "\n",
        "    if encoding == \"onehot\":\n",
        "    \n",
        "        pipe_features_cat = Pipeline([(\"input_cat\", SimpleImputer(strategy=\"constant\", fill_value=\"unknown\")),\n",
        "                                      (\"onehot\", OneHotEncoder(handle_unknown=\"ignore\"))])\n",
        "        \n",
        "    elif encoding == \"ordinal\":\n",
        "        \n",
        "        pipe_features_cat = Pipeline([(\"input_cat\", SimpleImputer(strategy=\"constant\", fill_value=\"unknown\")),\n",
        "                                      (\"ordinal\", OrdinalEncoder(handle_unknown=\"use_encoded_value\",\n",
        "                                                                 unknown_value=-1))])\n",
        "    \n",
        "    else:\n",
        "        \n",
        "        raise ValueError(\"Únicos encodings disponíveis são 'ordinal' e 'onehot'\")\n",
        "        \n",
        "        \n",
        "    features_cat = X_train_ob.select_dtypes(exclude=np.number).columns.tolist()\n",
        "\n",
        "    # ==========================================================\n",
        "\n",
        "    pre_processador = ColumnTransformer([(\"transf_num\", pipe_features_num, features_num),\n",
        "                                         (\"transf_cat\", pipe_features_cat, features_cat)])\n",
        "\n",
        "    return X_train_ob, X_test_ob, y_train_ob, y_test_ob, pre_processador"
      ],
      "metadata": {
        "id": "5iTXwiGcmjf-"
      },
      "execution_count": 249,
      "outputs": []
    },
    {
      "cell_type": "code",
      "source": [
        "X_train_ob, X_test_ob, y_train_ob, y_test_ob, pre_processador = pipe_pre_breast_cancer(drop_not_features=[\"Risk\"], \n",
        "                                                                            col_target=\"Risk\",\n",
        "                                                                            inputer_num_strategy=\"mean\",\n",
        "                                                                            encoding=\"ordinal\")"
      ],
      "metadata": {
        "id": "lt5jOlOSmc6B"
      },
      "execution_count": 250,
      "outputs": []
    },
    {
      "cell_type": "code",
      "source": [
        "from six.moves import collections_abc\n",
        "from hyperopt import hp, tpe, fmin, Trials, space_eval"
      ],
      "metadata": {
        "id": "JaElL_pvk0p9"
      },
      "execution_count": 251,
      "outputs": []
    },
    {
      "cell_type": "code",
      "source": [
        "hps_space = {\"weights\" : hp.choice(\"weights\", [\"uniform\", \"distance\"]),  \n",
        "             \"metric\" : hp.choice(\"metric\", [\"manhattan\", \"euclidean\"]),\n",
        "             \"n_neighbors\" : hp.choice(\"n_neighbors\", range(2, 21))}\n"
      ],
      "metadata": {
        "id": "0fC83a8ak33l"
      },
      "execution_count": 252,
      "outputs": []
    },
    {
      "cell_type": "code",
      "source": [
        "from sklearn.model_selection import cross_validate"
      ],
      "metadata": {
        "id": "FxR2HOCol3ps"
      },
      "execution_count": 253,
      "outputs": []
    },
    {
      "cell_type": "code",
      "source": [
        "def objective(hps_space):\n",
        "    \n",
        "    pipe = Pipeline([(\"pp\", pre_processador),\n",
        "                     (\"knn\", KNeighborsClassifier(**hps_space))])\n",
        "\n",
        "    # =============================================\n",
        "\n",
        "    splitter = StratifiedKFold(n_splits=10, random_state=42, shuffle=True)\n",
        "\n",
        "    results = cross_validate(pipe,\n",
        "                             X_train_ob, y_train_ob, \n",
        "                             cv=splitter,\n",
        "                             scoring=\"f1_weighted\",\n",
        "                             n_jobs=-1)\n",
        "\n",
        "    f1_mean = results[\"test_score\"].mean()\n",
        "\n",
        "    # como o valor vai ser minimizado, mas queremos MAXIMIZAR o f1, colocamos esse sinal negativo\n",
        "    return -f1_mean"
      ],
      "metadata": {
        "id": "hvDye22xl4Kk"
      },
      "execution_count": 254,
      "outputs": []
    },
    {
      "cell_type": "code",
      "source": [
        "ts = Trials()\n",
        "\n",
        "best_hps = fmin(objective,\n",
        "                space=hps_space,\n",
        "                algo=tpe.suggest,\n",
        "                trials=ts,\n",
        "                max_evals=10)"
      ],
      "metadata": {
        "colab": {
          "base_uri": "https://localhost:8080/"
        },
        "id": "tPjHAc4nl6Vk",
        "outputId": "a5704dad-ccc9-4743-e2de-829d793a0170"
      },
      "execution_count": 255,
      "outputs": [
        {
          "output_type": "stream",
          "name": "stdout",
          "text": [
            "100%|██████████| 10/10 [00:02<00:00,  3.41it/s, best loss: -0.7163401602245403]\n"
          ]
        }
      ]
    },
    {
      "cell_type": "code",
      "source": [
        "# pré-resposta da otimização\n",
        "best_hps"
      ],
      "metadata": {
        "colab": {
          "base_uri": "https://localhost:8080/"
        },
        "id": "qSfRtD6QmH40",
        "outputId": "2ebbf7ae-7a54-4b30-ff90-0137dbbfcc81"
      },
      "execution_count": 256,
      "outputs": [
        {
          "output_type": "execute_result",
          "data": {
            "text/plain": [
              "{'metric': 1, 'n_neighbors': 11, 'weights': 1}"
            ]
          },
          "metadata": {},
          "execution_count": 256
        }
      ]
    },
    {
      "cell_type": "code",
      "source": [
        "# a resposta final, vem com o space_eval\n",
        "best_hps = space_eval(hps_space, best_hps)\n",
        "best_hps"
      ],
      "metadata": {
        "id": "cH7wZrtknur5",
        "colab": {
          "base_uri": "https://localhost:8080/"
        },
        "outputId": "806d4593-5332-4471-bd3b-942c743def75"
      },
      "execution_count": 257,
      "outputs": [
        {
          "output_type": "execute_result",
          "data": {
            "text/plain": [
              "{'metric': 'euclidean', 'n_neighbors': 13, 'weights': 'distance'}"
            ]
          },
          "metadata": {},
          "execution_count": 257
        }
      ]
    },
    {
      "cell_type": "code",
      "source": [
        "KNeighborsClassifier(**best_hps)"
      ],
      "metadata": {
        "id": "yLXypClFoGTe",
        "colab": {
          "base_uri": "https://localhost:8080/"
        },
        "outputId": "77177ae8-1211-4895-b5e7-1b9096e15a44"
      },
      "execution_count": 258,
      "outputs": [
        {
          "output_type": "execute_result",
          "data": {
            "text/plain": [
              "KNeighborsClassifier(metric='euclidean', n_neighbors=13, weights='distance')"
            ]
          },
          "metadata": {},
          "execution_count": 258
        }
      ]
    },
    {
      "cell_type": "code",
      "source": [
        "pipe = Pipeline([(\"pp\", pre_processador),\n",
        "                 (\"knn\", KNeighborsClassifier(**best_hps))])\n",
        "\n",
        "pipe.fit(X_train_ob, y_train_ob)"
      ],
      "metadata": {
        "id": "F-JdxcAmoiVd",
        "colab": {
          "base_uri": "https://localhost:8080/"
        },
        "outputId": "3c717073-40a7-42ff-b6f9-41c0798de3ab"
      },
      "execution_count": 259,
      "outputs": [
        {
          "output_type": "execute_result",
          "data": {
            "text/plain": [
              "Pipeline(steps=[('pp',\n",
              "                 ColumnTransformer(transformers=[('transf_num',\n",
              "                                                  Pipeline(steps=[('input_num',\n",
              "                                                                   SimpleImputer()),\n",
              "                                                                  ('std',\n",
              "                                                                   StandardScaler())]),\n",
              "                                                  ['Age', 'Job',\n",
              "                                                   'Credit amount',\n",
              "                                                   'Duration']),\n",
              "                                                 ('transf_cat',\n",
              "                                                  Pipeline(steps=[('input_cat',\n",
              "                                                                   SimpleImputer(fill_value='unknown',\n",
              "                                                                                 strategy='constant')),\n",
              "                                                                  ('ordinal',\n",
              "                                                                   OrdinalEncoder(handle_unknown='use_encoded_value',\n",
              "                                                                                  unknown_value=-1))]),\n",
              "                                                  ['Sex', 'Housing',\n",
              "                                                   'Saving accounts',\n",
              "                                                   'Checking account',\n",
              "                                                   'Purpose'])])),\n",
              "                ('knn',\n",
              "                 KNeighborsClassifier(metric='euclidean', n_neighbors=13,\n",
              "                                      weights='distance'))])"
            ]
          },
          "metadata": {},
          "execution_count": 259
        }
      ]
    },
    {
      "cell_type": "code",
      "source": [
        "from sklearn.metrics import confusion_matrix, classification_report, ConfusionMatrixDisplay\n",
        "\n",
        "# ============================================\n",
        "\n",
        "print(\"\\nMétricas de avaliação de treino:\")\n",
        "\n",
        "y_pred_train_ob = pipe.predict(X_train_ob)\n",
        "\n",
        "print(confusion_matrix(y_train_ob, y_pred_train_ob))\n",
        "\n",
        "ConfusionMatrixDisplay.from_predictions(y_train_ob, y_pred_train_ob)\n",
        "plt.show()\n",
        "\n",
        "print(classification_report(y_train_ob, y_pred_train_ob))\n",
        "\n",
        "# ============================================\n",
        "\n",
        "print(\"\\nMétricas de avaliação de teste:\")\n",
        "\n",
        "y_pred_test_ob = pipe.predict(X_test_ob)\n",
        "\n",
        "print(confusion_matrix(y_test_ob, y_pred_test_ob))\n",
        "\n",
        "ConfusionMatrixDisplay.from_predictions(y_test_ob, y_pred_test_ob)\n",
        "plt.show()\n",
        "\n",
        "print(classification_report(y_test_ob, y_pred_test_ob))"
      ],
      "metadata": {
        "id": "B_dfk77VoynY",
        "colab": {
          "base_uri": "https://localhost:8080/",
          "height": 992
        },
        "outputId": "c07a2ad9-5f58-4642-cd7d-23f58edeb930"
      },
      "execution_count": 260,
      "outputs": [
        {
          "output_type": "stream",
          "name": "stdout",
          "text": [
            "\n",
            "Métricas de avaliação de treino:\n",
            "[[270   0]\n",
            " [  0 630]]\n"
          ]
        },
        {
          "output_type": "display_data",
          "data": {
            "text/plain": [
              "<Figure size 432x288 with 2 Axes>"
            ],
            "image/png": "[encoded data removed]"
          },
          "metadata": {
            "needs_background": "light"
          }
        },
        {
          "output_type": "stream",
          "name": "stdout",
          "text": [
            "              precision    recall  f1-score   support\n",
            "\n",
            "           0       1.00      1.00      1.00       270\n",
            "           1       1.00      1.00      1.00       630\n",
            "\n",
            "    accuracy                           1.00       900\n",
            "   macro avg       1.00      1.00      1.00       900\n",
            "weighted avg       1.00      1.00      1.00       900\n",
            "\n",
            "\n",
            "Métricas de avaliação de teste:\n",
            "[[11 19]\n",
            " [ 7 63]]\n"
          ]
        },
        {
          "output_type": "display_data",
          "data": {
            "text/plain": [
              "<Figure size 432x288 with 2 Axes>"
            ],
            "image/png": "[encoded data removed]"
          },
          "metadata": {
            "needs_background": "light"
          }
        },
        {
          "output_type": "stream",
          "name": "stdout",
          "text": [
            "              precision    recall  f1-score   support\n",
            "\n",
            "           0       0.61      0.37      0.46        30\n",
            "           1       0.77      0.90      0.83        70\n",
            "\n",
            "    accuracy                           0.74       100\n",
            "   macro avg       0.69      0.63      0.64       100\n",
            "weighted avg       0.72      0.74      0.72       100\n",
            "\n"
          ]
        }
      ]
    },
    {
      "cell_type": "markdown",
      "source": [
        "**Já conseguimos equilibrar mais com otimização Bayesiana:**"
      ],
      "metadata": {
        "id": "YI9WBPT_Mae9"
      }
    },
    {
      "cell_type": "code",
      "source": [
        "probas_y_pred_test_ob = pipe.predict_proba(X_test_ob)"
      ],
      "metadata": {
        "id": "PPW_JCxX09Ik"
      },
      "execution_count": null,
      "outputs": []
    },
    {
      "cell_type": "code",
      "source": [
        "tabela_knn_ob = pd.DataFrame()"
      ],
      "metadata": {
        "id": "QHQlWkZA09Il"
      },
      "execution_count": null,
      "outputs": []
    },
    {
      "cell_type": "code",
      "source": [
        "y_test_ob.shape, y_pred_test_ob.shape"
      ],
      "metadata": {
        "colab": {
          "base_uri": "https://localhost:8080/"
        },
        "id": "FNetAQ0S1R4V",
        "outputId": "dfbc09fa-de6f-4214-f423-50660c763260"
      },
      "execution_count": null,
      "outputs": [
        {
          "output_type": "execute_result",
          "data": {
            "text/plain": [
              "((100,), (100,))"
            ]
          },
          "metadata": {},
          "execution_count": 123
        }
      ]
    },
    {
      "cell_type": "code",
      "source": [
        "tabela_knn_ob[\"Amostra existente\"] = y_test_ob"
      ],
      "metadata": {
        "execution": {
          "iopub.status.busy": "2022-07-02T02:11:21.772059Z",
          "iopub.execute_input": "2022-07-02T02:11:21.772902Z",
          "iopub.status.idle": "2022-07-02T02:11:21.779761Z",
          "shell.execute_reply.started": "2022-07-02T02:11:21.772849Z",
          "shell.execute_reply": "2022-07-02T02:11:21.778587Z"
        },
        "trusted": true,
        "id": "8S4aOdJq09Il"
      },
      "execution_count": null,
      "outputs": []
    },
    {
      "cell_type": "code",
      "source": [
        "tabela_knn_ob[\"Predição\"] = y_pred_test_ob"
      ],
      "metadata": {
        "execution": {
          "iopub.status.busy": "2022-07-02T02:11:42.125170Z",
          "iopub.execute_input": "2022-07-02T02:11:42.125656Z",
          "iopub.status.idle": "2022-07-02T02:11:42.132508Z",
          "shell.execute_reply.started": "2022-07-02T02:11:42.125621Z",
          "shell.execute_reply": "2022-07-02T02:11:42.131128Z"
        },
        "trusted": true,
        "id": "JyFr_p9109Il"
      },
      "execution_count": null,
      "outputs": []
    },
    {
      "cell_type": "code",
      "source": [
        "tabela_knn_ob"
      ],
      "metadata": {
        "execution": {
          "iopub.status.busy": "2022-07-02T02:11:46.395518Z",
          "iopub.execute_input": "2022-07-02T02:11:46.396323Z",
          "iopub.status.idle": "2022-07-02T02:11:46.410096Z",
          "shell.execute_reply.started": "2022-07-02T02:11:46.396280Z",
          "shell.execute_reply": "2022-07-02T02:11:46.409070Z"
        },
        "trusted": true,
        "colab": {
          "base_uri": "https://localhost:8080/",
          "height": 424
        },
        "outputId": "24c260a1-b819-4390-e83e-16c9aa06f1a4",
        "id": "misiAysL09Il"
      },
      "execution_count": null,
      "outputs": [
        {
          "output_type": "execute_result",
          "data": {
            "text/plain": [
              "     Amostra existente  Predição\n",
              "440                  1         1\n",
              "561                  0         0\n",
              "220                  1         1\n",
              "696                  1         1\n",
              "810                  1         1\n",
              "..                 ...       ...\n",
              "386                  1         1\n",
              "788                  0         0\n",
              "654                  1         1\n",
              "705                  1         1\n",
              "514                  1         1\n",
              "\n",
              "[100 rows x 2 columns]"
            ],
            "text/html": [
              "\n",
              "  <div id=\"df-e8f628ae-b511-4988-a797-6f73179bc6f2\">\n",
              "    <div class=\"colab-df-container\">\n",
              "      <div>\n",
              "<style scoped>\n",
              "    .dataframe tbody tr th:only-of-type {\n",
              "        vertical-align: middle;\n",
              "    }\n",
              "\n",
              "    .dataframe tbody tr th {\n",
              "        vertical-align: top;\n",
              "    }\n",
              "\n",
              "    .dataframe thead th {\n",
              "        text-align: right;\n",
              "    }\n",
              "</style>\n",
              "<table border=\"1\" class=\"dataframe\">\n",
              "  <thead>\n",
              "    <tr style=\"text-align: right;\">\n",
              "      <th></th>\n",
              "      <th>Amostra existente</th>\n",
              "      <th>Predição</th>\n",
              "    </tr>\n",
              "  </thead>\n",
              "  <tbody>\n",
              "    <tr>\n",
              "      <th>440</th>\n",
              "      <td>1</td>\n",
              "      <td>1</td>\n",
              "    </tr>\n",
              "    <tr>\n",
              "      <th>561</th>\n",
              "      <td>0</td>\n",
              "      <td>0</td>\n",
              "    </tr>\n",
              "    <tr>\n",
              "      <th>220</th>\n",
              "      <td>1</td>\n",
              "      <td>1</td>\n",
              "    </tr>\n",
              "    <tr>\n",
              "      <th>696</th>\n",
              "      <td>1</td>\n",
              "      <td>1</td>\n",
              "    </tr>\n",
              "    <tr>\n",
              "      <th>810</th>\n",
              "      <td>1</td>\n",
              "      <td>1</td>\n",
              "    </tr>\n",
              "    <tr>\n",
              "      <th>...</th>\n",
              "      <td>...</td>\n",
              "      <td>...</td>\n",
              "    </tr>\n",
              "    <tr>\n",
              "      <th>386</th>\n",
              "      <td>1</td>\n",
              "      <td>1</td>\n",
              "    </tr>\n",
              "    <tr>\n",
              "      <th>788</th>\n",
              "      <td>0</td>\n",
              "      <td>0</td>\n",
              "    </tr>\n",
              "    <tr>\n",
              "      <th>654</th>\n",
              "      <td>1</td>\n",
              "      <td>1</td>\n",
              "    </tr>\n",
              "    <tr>\n",
              "      <th>705</th>\n",
              "      <td>1</td>\n",
              "      <td>1</td>\n",
              "    </tr>\n",
              "    <tr>\n",
              "      <th>514</th>\n",
              "      <td>1</td>\n",
              "      <td>1</td>\n",
              "    </tr>\n",
              "  </tbody>\n",
              "</table>\n",
              "<p>100 rows × 2 columns</p>\n",
              "</div>\n",
              "      <button class=\"colab-df-convert\" onclick=\"convertToInteractive('df-e8f628ae-b511-4988-a797-6f73179bc6f2')\"\n",
              "              title=\"Convert this dataframe to an interactive table.\"\n",
              "              style=\"display:none;\">\n",
              "        \n",
              "  <svg xmlns=\"http://www.w3.org/2000/svg\" height=\"24px\"viewBox=\"0 0 24 24\"\n",
              "       width=\"24px\">\n",
              "    <path d=\"M0 0h24v24H0V0z\" fill=\"none\"/>\n",
              "    <path d=\"M18.56 5.44l.94 2.06.94-2.06 2.06-.94-2.06-.94-.94-2.06-.94 2.06-2.06.94zm-11 1L8.5 8.5l.94-2.06 2.06-.94-2.06-.94L8.5 2.5l-.94 2.06-2.06.94zm10 10l.94 2.06.94-2.06 2.06-.94-2.06-.94-.94-2.06-.94 2.06-2.06.94z\"/><path d=\"M17.41 7.96l-1.37-1.37c-.4-.4-.92-.59-1.43-.59-.52 0-1.04.2-1.43.59L10.3 9.45l-7.72 7.72c-.78.78-.78 2.05 0 2.83L4 21.41c.39.39.9.59 1.41.59.51 0 1.02-.2 1.41-.59l7.78-7.78 2.81-2.81c.8-.78.8-2.07 0-2.86zM5.41 20L4 18.59l7.72-7.72 1.47 1.35L5.41 20z\"/>\n",
              "  </svg>\n",
              "      </button>\n",
              "      \n",
              "  <style>\n",
              "    .colab-df-container {\n",
              "      display:flex;\n",
              "      flex-wrap:wrap;\n",
              "      gap: 12px;\n",
              "    }\n",
              "\n",
              "    .colab-df-convert {\n",
              "      background-color: #E8F0FE;\n",
              "      border: none;\n",
              "      border-radius: 50%;\n",
              "      cursor: pointer;\n",
              "      display: none;\n",
              "      fill: #1967D2;\n",
              "      height: 32px;\n",
              "      padding: 0 0 0 0;\n",
              "      width: 32px;\n",
              "    }\n",
              "\n",
              "    .colab-df-convert:hover {\n",
              "      background-color: #E2EBFA;\n",
              "      box-shadow: 0px 1px 2px rgba(60, 64, 67, 0.3), 0px 1px 3px 1px rgba(60, 64, 67, 0.15);\n",
              "      fill: #174EA6;\n",
              "    }\n",
              "\n",
              "    [theme=dark] .colab-df-convert {\n",
              "      background-color: #3B4455;\n",
              "      fill: #D2E3FC;\n",
              "    }\n",
              "\n",
              "    [theme=dark] .colab-df-convert:hover {\n",
              "      background-color: #434B5C;\n",
              "      box-shadow: 0px 1px 3px 1px rgba(0, 0, 0, 0.15);\n",
              "      filter: drop-shadow(0px 1px 2px rgba(0, 0, 0, 0.3));\n",
              "      fill: #FFFFFF;\n",
              "    }\n",
              "  </style>\n",
              "\n",
              "      <script>\n",
              "        const buttonEl =\n",
              "          document.querySelector('#df-e8f628ae-b511-4988-a797-6f73179bc6f2 button.colab-df-convert');\n",
              "        buttonEl.style.display =\n",
              "          google.colab.kernel.accessAllowed ? 'block' : 'none';\n",
              "\n",
              "        async function convertToInteractive(key) {\n",
              "          const element = document.querySelector('#df-e8f628ae-b511-4988-a797-6f73179bc6f2');\n",
              "          const dataTable =\n",
              "            await google.colab.kernel.invokeFunction('convertToInteractive',\n",
              "                                                     [key], {});\n",
              "          if (!dataTable) return;\n",
              "\n",
              "          const docLinkHtml = 'Like what you see? Visit the ' +\n",
              "            '<a target=\"_blank\" href=https://colab.research.google.com/notebooks/data_table.ipynb>data table notebook</a>'\n",
              "            + ' to learn more about interactive tables.';\n",
              "          element.innerHTML = '';\n",
              "          dataTable['output_type'] = 'display_data';\n",
              "          await google.colab.output.renderOutput(dataTable, element);\n",
              "          const docLink = document.createElement('div');\n",
              "          docLink.innerHTML = docLinkHtml;\n",
              "          element.appendChild(docLink);\n",
              "        }\n",
              "      </script>\n",
              "    </div>\n",
              "  </div>\n",
              "  "
            ]
          },
          "metadata": {},
          "execution_count": 126
        }
      ]
    },
    {
      "cell_type": "markdown",
      "source": [
        "Salvando a tabela"
      ],
      "metadata": {
        "id": "B6ERX0sL09Il"
      }
    },
    {
      "cell_type": "code",
      "source": [
        "tabela_knn_ob.to_csv(\"15-german_credit_knn_ob.csv\")"
      ],
      "metadata": {
        "id": "h9jv-1UW09Im"
      },
      "execution_count": 269,
      "outputs": []
    },
    {
      "cell_type": "markdown",
      "source": [
        "Salvando o estimador..."
      ],
      "metadata": {
        "id": "O4pVwQ1-De7T"
      }
    },
    {
      "cell_type": "code",
      "source": [
        "import pickle"
      ],
      "metadata": {
        "execution": {
          "iopub.status.busy": "2022-07-02T02:19:05.371396Z",
          "iopub.execute_input": "2022-07-02T02:19:05.372618Z",
          "iopub.status.idle": "2022-07-02T02:19:05.377481Z",
          "shell.execute_reply.started": "2022-07-02T02:19:05.372572Z",
          "shell.execute_reply": "2022-07-02T02:19:05.376202Z"
        },
        "trusted": true,
        "id": "5O1auclPDe7U"
      },
      "execution_count": 270,
      "outputs": []
    },
    {
      "cell_type": "code",
      "source": [
        "with open(\"tabela_knn.pkl\", \"wb\") as f:\n",
        "    pickle.dump(tabela_knn_ob, f)"
      ],
      "metadata": {
        "execution": {
          "iopub.status.busy": "2022-07-02T02:19:13.260311Z",
          "iopub.execute_input": "2022-07-02T02:19:13.260705Z",
          "iopub.status.idle": "2022-07-02T02:19:13.268676Z",
          "shell.execute_reply.started": "2022-07-02T02:19:13.260676Z",
          "shell.execute_reply": "2022-07-02T02:19:13.267067Z"
        },
        "trusted": true,
        "id": "sIYU2GiZDe7U"
      },
      "execution_count": 271,
      "outputs": []
    },
    {
      "cell_type": "code",
      "source": [
        "with open(\"tabela_knn_ob.pkl\", \"rb\") as f:\n",
        "    \n",
        "    tabela_knn_ob = pickle.load(f)"
      ],
      "metadata": {
        "execution": {
          "iopub.status.busy": "2022-07-02T02:19:27.758117Z",
          "iopub.execute_input": "2022-07-02T02:19:27.758754Z",
          "iopub.status.idle": "2022-07-02T02:19:27.765923Z",
          "shell.execute_reply.started": "2022-07-02T02:19:27.758713Z",
          "shell.execute_reply": "2022-07-02T02:19:27.764747Z"
        },
        "trusted": true,
        "id": "-HALA_-WDe7U"
      },
      "execution_count": null,
      "outputs": []
    },
    {
      "cell_type": "markdown",
      "source": [
        "\n",
        "\n",
        "---\n",
        "\n",
        "\n",
        "\n",
        "---\n",
        "\n",
        "\n",
        "\n",
        "---\n",
        "\n"
      ],
      "metadata": {
        "id": "PP3pUO-9zrKM"
      }
    },
    {
      "cell_type": "markdown",
      "source": [
        "#**INTERPRETABILIDADE DO MODELO GLOBALMENTE**"
      ],
      "metadata": {
        "id": "ITQ8gU-uiEfy"
      }
    },
    {
      "cell_type": "code",
      "source": [
        "df.head()"
      ],
      "metadata": {
        "colab": {
          "base_uri": "https://localhost:8080/",
          "height": 206
        },
        "id": "FcEdv7uuOzFU",
        "outputId": "bfbe0907-d5ff-4138-9e48-112e9d83a09a"
      },
      "execution_count": 212,
      "outputs": [
        {
          "output_type": "execute_result",
          "data": {
            "text/plain": [
              "        Age       Sex       Job   Housing  Saving accounts  Checking account  \\\n",
              "0  2.766456 -0.670280  0.146949 -0.133710         1.833169         -1.254566   \n",
              "1 -1.191404  1.491914  0.146949 -0.133710        -0.699707         -0.459026   \n",
              "2  1.183312 -0.670280 -1.383771 -0.133710        -0.699707          1.132053   \n",
              "3  0.831502 -0.670280  0.146949 -2.016956        -0.699707         -1.254566   \n",
              "4  1.535122 -0.670280  0.146949 -2.016956        -0.699707         -1.254566   \n",
              "\n",
              "   Credit amount  Duration   Purpose  Risk  \n",
              "0      -0.745131 -1.236478  1.073263  good  \n",
              "1       0.949817  2.248194  1.073263   bad  \n",
              "2      -0.416562 -0.738668  0.061705  good  \n",
              "3       1.634247  1.750384  0.567484  good  \n",
              "4       0.566664  0.256953 -0.949853   bad  "
            ],
            "text/html": [
              "\n",
              "  <div id=\"df-c5dc0755-c67c-4187-ae8e-64ec0ae38bd2\">\n",
              "    <div class=\"colab-df-container\">\n",
              "      <div>\n",
              "<style scoped>\n",
              "    .dataframe tbody tr th:only-of-type {\n",
              "        vertical-align: middle;\n",
              "    }\n",
              "\n",
              "    .dataframe tbody tr th {\n",
              "        vertical-align: top;\n",
              "    }\n",
              "\n",
              "    .dataframe thead th {\n",
              "        text-align: right;\n",
              "    }\n",
              "</style>\n",
              "<table border=\"1\" class=\"dataframe\">\n",
              "  <thead>\n",
              "    <tr style=\"text-align: right;\">\n",
              "      <th></th>\n",
              "      <th>Age</th>\n",
              "      <th>Sex</th>\n",
              "      <th>Job</th>\n",
              "      <th>Housing</th>\n",
              "      <th>Saving accounts</th>\n",
              "      <th>Checking account</th>\n",
              "      <th>Credit amount</th>\n",
              "      <th>Duration</th>\n",
              "      <th>Purpose</th>\n",
              "      <th>Risk</th>\n",
              "    </tr>\n",
              "  </thead>\n",
              "  <tbody>\n",
              "    <tr>\n",
              "      <th>0</th>\n",
              "      <td>2.766456</td>\n",
              "      <td>-0.670280</td>\n",
              "      <td>0.146949</td>\n",
              "      <td>-0.133710</td>\n",
              "      <td>1.833169</td>\n",
              "      <td>-1.254566</td>\n",
              "      <td>-0.745131</td>\n",
              "      <td>-1.236478</td>\n",
              "      <td>1.073263</td>\n",
              "      <td>good</td>\n",
              "    </tr>\n",
              "    <tr>\n",
              "      <th>1</th>\n",
              "      <td>-1.191404</td>\n",
              "      <td>1.491914</td>\n",
              "      <td>0.146949</td>\n",
              "      <td>-0.133710</td>\n",
              "      <td>-0.699707</td>\n",
              "      <td>-0.459026</td>\n",
              "      <td>0.949817</td>\n",
              "      <td>2.248194</td>\n",
              "      <td>1.073263</td>\n",
              "      <td>bad</td>\n",
              "    </tr>\n",
              "    <tr>\n",
              "      <th>2</th>\n",
              "      <td>1.183312</td>\n",
              "      <td>-0.670280</td>\n",
              "      <td>-1.383771</td>\n",
              "      <td>-0.133710</td>\n",
              "      <td>-0.699707</td>\n",
              "      <td>1.132053</td>\n",
              "      <td>-0.416562</td>\n",
              "      <td>-0.738668</td>\n",
              "      <td>0.061705</td>\n",
              "      <td>good</td>\n",
              "    </tr>\n",
              "    <tr>\n",
              "      <th>3</th>\n",
              "      <td>0.831502</td>\n",
              "      <td>-0.670280</td>\n",
              "      <td>0.146949</td>\n",
              "      <td>-2.016956</td>\n",
              "      <td>-0.699707</td>\n",
              "      <td>-1.254566</td>\n",
              "      <td>1.634247</td>\n",
              "      <td>1.750384</td>\n",
              "      <td>0.567484</td>\n",
              "      <td>good</td>\n",
              "    </tr>\n",
              "    <tr>\n",
              "      <th>4</th>\n",
              "      <td>1.535122</td>\n",
              "      <td>-0.670280</td>\n",
              "      <td>0.146949</td>\n",
              "      <td>-2.016956</td>\n",
              "      <td>-0.699707</td>\n",
              "      <td>-1.254566</td>\n",
              "      <td>0.566664</td>\n",
              "      <td>0.256953</td>\n",
              "      <td>-0.949853</td>\n",
              "      <td>bad</td>\n",
              "    </tr>\n",
              "  </tbody>\n",
              "</table>\n",
              "</div>\n",
              "      <button class=\"colab-df-convert\" onclick=\"convertToInteractive('df-c5dc0755-c67c-4187-ae8e-64ec0ae38bd2')\"\n",
              "              title=\"Convert this dataframe to an interactive table.\"\n",
              "              style=\"display:none;\">\n",
              "        \n",
              "  <svg xmlns=\"http://www.w3.org/2000/svg\" height=\"24px\"viewBox=\"0 0 24 24\"\n",
              "       width=\"24px\">\n",
              "    <path d=\"M0 0h24v24H0V0z\" fill=\"none\"/>\n",
              "    <path d=\"M18.56 5.44l.94 2.06.94-2.06 2.06-.94-2.06-.94-.94-2.06-.94 2.06-2.06.94zm-11 1L8.5 8.5l.94-2.06 2.06-.94-2.06-.94L8.5 2.5l-.94 2.06-2.06.94zm10 10l.94 2.06.94-2.06 2.06-.94-2.06-.94-.94-2.06-.94 2.06-2.06.94z\"/><path d=\"M17.41 7.96l-1.37-1.37c-.4-.4-.92-.59-1.43-.59-.52 0-1.04.2-1.43.59L10.3 9.45l-7.72 7.72c-.78.78-.78 2.05 0 2.83L4 21.41c.39.39.9.59 1.41.59.51 0 1.02-.2 1.41-.59l7.78-7.78 2.81-2.81c.8-.78.8-2.07 0-2.86zM5.41 20L4 18.59l7.72-7.72 1.47 1.35L5.41 20z\"/>\n",
              "  </svg>\n",
              "      </button>\n",
              "      \n",
              "  <style>\n",
              "    .colab-df-container {\n",
              "      display:flex;\n",
              "      flex-wrap:wrap;\n",
              "      gap: 12px;\n",
              "    }\n",
              "\n",
              "    .colab-df-convert {\n",
              "      background-color: #E8F0FE;\n",
              "      border: none;\n",
              "      border-radius: 50%;\n",
              "      cursor: pointer;\n",
              "      display: none;\n",
              "      fill: #1967D2;\n",
              "      height: 32px;\n",
              "      padding: 0 0 0 0;\n",
              "      width: 32px;\n",
              "    }\n",
              "\n",
              "    .colab-df-convert:hover {\n",
              "      background-color: #E2EBFA;\n",
              "      box-shadow: 0px 1px 2px rgba(60, 64, 67, 0.3), 0px 1px 3px 1px rgba(60, 64, 67, 0.15);\n",
              "      fill: #174EA6;\n",
              "    }\n",
              "\n",
              "    [theme=dark] .colab-df-convert {\n",
              "      background-color: #3B4455;\n",
              "      fill: #D2E3FC;\n",
              "    }\n",
              "\n",
              "    [theme=dark] .colab-df-convert:hover {\n",
              "      background-color: #434B5C;\n",
              "      box-shadow: 0px 1px 3px 1px rgba(0, 0, 0, 0.15);\n",
              "      filter: drop-shadow(0px 1px 2px rgba(0, 0, 0, 0.3));\n",
              "      fill: #FFFFFF;\n",
              "    }\n",
              "  </style>\n",
              "\n",
              "      <script>\n",
              "        const buttonEl =\n",
              "          document.querySelector('#df-c5dc0755-c67c-4187-ae8e-64ec0ae38bd2 button.colab-df-convert');\n",
              "        buttonEl.style.display =\n",
              "          google.colab.kernel.accessAllowed ? 'block' : 'none';\n",
              "\n",
              "        async function convertToInteractive(key) {\n",
              "          const element = document.querySelector('#df-c5dc0755-c67c-4187-ae8e-64ec0ae38bd2');\n",
              "          const dataTable =\n",
              "            await google.colab.kernel.invokeFunction('convertToInteractive',\n",
              "                                                     [key], {});\n",
              "          if (!dataTable) return;\n",
              "\n",
              "          const docLinkHtml = 'Like what you see? Visit the ' +\n",
              "            '<a target=\"_blank\" href=https://colab.research.google.com/notebooks/data_table.ipynb>data table notebook</a>'\n",
              "            + ' to learn more about interactive tables.';\n",
              "          element.innerHTML = '';\n",
              "          dataTable['output_type'] = 'display_data';\n",
              "          await google.colab.output.renderOutput(dataTable, element);\n",
              "          const docLink = document.createElement('div');\n",
              "          docLink.innerHTML = docLinkHtml;\n",
              "          element.appendChild(docLink);\n",
              "        }\n",
              "      </script>\n",
              "    </div>\n",
              "  </div>\n",
              "  "
            ]
          },
          "metadata": {},
          "execution_count": 212
        }
      ]
    },
    {
      "cell_type": "markdown",
      "source": [
        "Vamos tratar os valores nulos:"
      ],
      "metadata": {
        "id": "Q2gMMN4_Vib1"
      }
    },
    {
      "cell_type": "code",
      "source": [
        "\n",
        "si = SimpleImputer(strategy=\"constant\", fill_value=\"unknown\")\n",
        "si.fit(df[[\"Saving accounts\"]])\n",
        "       \n",
        "df[\"Saving accounts\"] = si.transform(df[[\"Saving accounts\"]])"
      ],
      "metadata": {
        "id": "o924EBzmU5PZ"
      },
      "execution_count": 206,
      "outputs": []
    },
    {
      "cell_type": "markdown",
      "metadata": {
        "id": "XlV1Xr6SRkEK"
      },
      "source": [
        "**Transformando as Features categóricas em numéricas - OneHotEnconder - Features de dados binários:**"
      ]
    },
    {
      "cell_type": "code",
      "execution_count": 208,
      "metadata": {
        "id": "n2nsPq95Q6Rx"
      },
      "outputs": [],
      "source": [
        "ohe =  OneHotEncoder(handle_unknown='ignore')\n",
        "ohe.fit(df[[\"Sex\"]])\n",
        "\n",
        "df[\"Sex\"] = ohe.transform(df[[\"Sex\"]]).toarray()"
      ]
    },
    {
      "cell_type": "markdown",
      "metadata": {
        "id": "WdEFqcwsZM1h"
      },
      "source": [
        "**Transformando as Features categóricas em numéricas - OrdinalEncoder() - Feature com mais de 2 dados diferentes.**"
      ]
    },
    {
      "cell_type": "code",
      "execution_count": 209,
      "metadata": {
        "id": "G4fDsjuSVMiJ"
      },
      "outputs": [],
      "source": [
        "oe =  OrdinalEncoder()\n",
        "oe.fit(df[[\"Housing\", \"Saving accounts\", \"Checking account\", \"Purpose\"]])\n",
        "\n",
        "df[[\"Housing\", \"Saving accounts\", \"Checking account\", \"Purpose\"]] = oe.transform(df[[\"Housing\", \"Saving accounts\", \"Checking account\", \"Purpose\"]])"
      ]
    },
    {
      "cell_type": "markdown",
      "metadata": {
        "id": "6yUhfH1Ra1E5"
      },
      "source": [
        "**Vamos escalonar todas as Features, pois a amplitude entre os dados está muito grande, isso pode causar um viés no resultado final:**"
      ]
    },
    {
      "cell_type": "code",
      "source": [
        "df.columns"
      ],
      "metadata": {
        "colab": {
          "base_uri": "https://localhost:8080/"
        },
        "id": "LgdFQFD0_RKP",
        "outputId": "c2defa37-f08f-4bd5-f0de-c4018d507618"
      },
      "execution_count": null,
      "outputs": [
        {
          "output_type": "execute_result",
          "data": {
            "text/plain": [
              "Index(['Age', 'Sex', 'Job', 'Housing', 'Saving accounts', 'Checking account',\n",
              "       'Credit amount', 'Duration', 'Purpose', 'Risk'],\n",
              "      dtype='object')"
            ]
          },
          "metadata": {},
          "execution_count": 78
        }
      ]
    },
    {
      "cell_type": "code",
      "execution_count": 211,
      "metadata": {
        "id": "2HZDW5NwbdoP"
      },
      "outputs": [],
      "source": [
        "ssc = StandardScaler()\n",
        "\n",
        "ssc.fit(df[['Age', 'Sex', 'Job', 'Housing', 'Saving accounts', 'Checking account', 'Credit amount', 'Duration', 'Purpose']])\n",
        "h= ssc.transform(df[['Age', 'Sex', 'Job', 'Housing', 'Saving accounts', 'Checking account', 'Credit amount', 'Duration', 'Purpose']])\n",
        "df[['Age', 'Sex', 'Job', 'Housing', 'Saving accounts', 'Checking account', 'Credit amount', 'Duration', 'Purpose']] = h"
      ]
    },
    {
      "cell_type": "markdown",
      "metadata": {
        "id": "q5N68Lr70Mb3"
      },
      "source": [
        "**Separar em features e target...**"
      ]
    },
    {
      "cell_type": "code",
      "execution_count": 213,
      "metadata": {
        "id": "sUabPhTw9Z71"
      },
      "outputs": [],
      "source": [
        "X = df.drop(columns=[\"Risk\"])\n",
        "y = df[\"Risk\"]\n",
        "\n",
        "X_train, X_test, y_train, y_test = train_test_split(X, y, test_size=0.2, random_state=13, stratify=y)"
      ]
    },
    {
      "cell_type": "code",
      "source": [
        "knn_shap = KNeighborsClassifier()"
      ],
      "metadata": {
        "id": "dip5Jh50iKcL"
      },
      "execution_count": 214,
      "outputs": []
    },
    {
      "cell_type": "code",
      "source": [
        "knn_shap.fit(X_train.values, y_train)"
      ],
      "metadata": {
        "colab": {
          "base_uri": "https://localhost:8080/"
        },
        "id": "N9Wcw4u2gHyA",
        "outputId": "636750fb-478d-43c8-d20e-cdbca1f0d520"
      },
      "execution_count": 215,
      "outputs": [
        {
          "output_type": "execute_result",
          "data": {
            "text/plain": [
              "KNeighborsClassifier()"
            ]
          },
          "metadata": {},
          "execution_count": 215
        }
      ]
    },
    {
      "cell_type": "code",
      "source": [
        "!pip install shap\n",
        "import shap"
      ],
      "metadata": {
        "id": "KbPzIw7uOio9"
      },
      "execution_count": null,
      "outputs": []
    },
    {
      "cell_type": "code",
      "source": [
        "explainer = shap.KernelExplainer(knn_shap.predict_proba, X_train)"
      ],
      "metadata": {
        "id": "aTyb3qxOOi-9",
        "colab": {
          "base_uri": "https://localhost:8080/"
        },
        "outputId": "02bf950d-c09a-477e-d994-ca7d602f65ae"
      },
      "execution_count": 219,
      "outputs": [
        {
          "output_type": "stream",
          "name": "stderr",
          "text": [
            "WARNING:shap:Using 800 background data samples could cause slower run times. Consider using shap.sample(data, K) or shap.kmeans(data, K) to summarize the background as K samples.\n"
          ]
        }
      ]
    },
    {
      "cell_type": "code",
      "source": [
        "shap_vals = explainer.shap_values(X_train)"
      ],
      "metadata": {
        "id": "UeJxDLmPOjBz"
      },
      "execution_count": null,
      "outputs": []
    },
    {
      "cell_type": "code",
      "source": [
        "risk = df[\"Risk\"].unique()\n",
        "print(f\"{risk}\")"
      ],
      "metadata": {
        "colab": {
          "base_uri": "https://localhost:8080/"
        },
        "id": "WOleu46hQGp1",
        "outputId": "106f3ffb-9ddf-42a5-8d46-dd88222ea823"
      },
      "execution_count": 221,
      "outputs": [
        {
          "output_type": "stream",
          "name": "stdout",
          "text": [
            "['good' 'bad']\n"
          ]
        }
      ]
    },
    {
      "cell_type": "markdown",
      "source": [
        "**Features que mais impactaram na escolha das espécies durante a geração do predict:**"
      ],
      "metadata": {
        "id": "FdJHRkbwi1EB"
      }
    },
    {
      "cell_type": "code",
      "source": [
        "shap.summary_plot(shap_vals, X_train, plot_type=\"bar\")"
      ],
      "metadata": {
        "colab": {
          "base_uri": "https://localhost:8080/",
          "height": 376
        },
        "id": "EImvQZUgPols",
        "outputId": "035438f9-d7e9-4898-bcc1-8cfea35cb385"
      },
      "execution_count": 222,
      "outputs": [
        {
          "output_type": "display_data",
          "data": {
            "text/plain": [
              "<Figure size 576x367.2 with 1 Axes>"
            ],
            "image/png": "[encoded data removed]"
          },
          "metadata": {
            "needs_background": "light"
          }
        }
      ]
    }
  ]
}