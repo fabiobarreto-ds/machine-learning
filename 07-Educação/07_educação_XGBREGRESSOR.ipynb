{
  "nbformat": 4,
  "nbformat_minor": 0,
  "metadata": {
    "colab": {
      "name": "07_educação_XGBREGRESSOR.ipynb",
      "provenance": []
    },
    "kernelspec": {
      "name": "python3",
      "display_name": "Python 3"
    },
    "language_info": {
      "name": "python"
    }
  },
  "cells": [
    {
      "cell_type": "markdown",
      "source": [
        "# **IMPORTANDO E ANALISANDO OS DADOS**"
      ],
      "metadata": {
        "id": "lQdu0fP0pV93"
      }
    },
    {
      "cell_type": "code",
      "source": [
        "import numpy as np\n",
        "import pandas as pd\n",
        "import seaborn as sns\n",
        "import matplotlib.pyplot as plt\n",
        "from xgboost import XGBRegressor\n",
        "from sklearn.pipeline import Pipeline\n",
        "from sklearn.impute import SimpleImputer\n",
        "from sklearn.model_selection import KFold\n",
        "from sklearn.compose import ColumnTransformer\n",
        "from sklearn.model_selection import train_test_split\n",
        "from sklearn.metrics import r2_score, mean_absolute_error, mean_squared_error\n",
        "from sklearn.preprocessing import StandardScaler, OneHotEncoder, OrdinalEncoder\n",
        "from sklearn.model_selection import GridSearchCV, StratifiedKFold, train_test_split\n",
        "\n",
        "# desabilita os warnings\n",
        "import warnings\n",
        "warnings.filterwarnings('ignore')"
      ],
      "metadata": {
        "id": "Z4-wh0jUK2cF"
      },
      "execution_count": 26,
      "outputs": []
    },
    {
      "cell_type": "code",
      "source": [
        "df = pd.read_csv(\"StudentsPerformance.csv\")\n",
        "df"
      ],
      "metadata": {
        "colab": {
          "base_uri": "https://localhost:8080/",
          "height": 424
        },
        "id": "-Fon07Qfn4Qm",
        "outputId": "bbf775e3-81ff-4a9d-8c95-67c2fab5598a"
      },
      "execution_count": 11,
      "outputs": [
        {
          "output_type": "execute_result",
          "data": {
            "text/plain": [
              "     gender race/ethnicity parental level of education         lunch  \\\n",
              "0    female        group B           bachelor's degree      standard   \n",
              "1    female        group C                some college      standard   \n",
              "2    female        group B             master's degree      standard   \n",
              "3      male        group A          associate's degree  free/reduced   \n",
              "4      male        group C                some college      standard   \n",
              "..      ...            ...                         ...           ...   \n",
              "995  female        group E             master's degree      standard   \n",
              "996    male        group C                 high school  free/reduced   \n",
              "997  female        group C                 high school  free/reduced   \n",
              "998  female        group D                some college      standard   \n",
              "999  female        group D                some college  free/reduced   \n",
              "\n",
              "    test preparation course  math score  reading score  writing score  \n",
              "0                      none          72             72             74  \n",
              "1                 completed          69             90             88  \n",
              "2                      none          90             95             93  \n",
              "3                      none          47             57             44  \n",
              "4                      none          76             78             75  \n",
              "..                      ...         ...            ...            ...  \n",
              "995               completed          88             99             95  \n",
              "996                    none          62             55             55  \n",
              "997               completed          59             71             65  \n",
              "998               completed          68             78             77  \n",
              "999                    none          77             86             86  \n",
              "\n",
              "[1000 rows x 8 columns]"
            ],
            "text/html": [
              "\n",
              "  <div id=\"df-f683f593-b6c2-4134-b6f2-ff3d2dc0a80e\">\n",
              "    <div class=\"colab-df-container\">\n",
              "      <div>\n",
              "<style scoped>\n",
              "    .dataframe tbody tr th:only-of-type {\n",
              "        vertical-align: middle;\n",
              "    }\n",
              "\n",
              "    .dataframe tbody tr th {\n",
              "        vertical-align: top;\n",
              "    }\n",
              "\n",
              "    .dataframe thead th {\n",
              "        text-align: right;\n",
              "    }\n",
              "</style>\n",
              "<table border=\"1\" class=\"dataframe\">\n",
              "  <thead>\n",
              "    <tr style=\"text-align: right;\">\n",
              "      <th></th>\n",
              "      <th>gender</th>\n",
              "      <th>race/ethnicity</th>\n",
              "      <th>parental level of education</th>\n",
              "      <th>lunch</th>\n",
              "      <th>test preparation course</th>\n",
              "      <th>math score</th>\n",
              "      <th>reading score</th>\n",
              "      <th>writing score</th>\n",
              "    </tr>\n",
              "  </thead>\n",
              "  <tbody>\n",
              "    <tr>\n",
              "      <th>0</th>\n",
              "      <td>female</td>\n",
              "      <td>group B</td>\n",
              "      <td>bachelor's degree</td>\n",
              "      <td>standard</td>\n",
              "      <td>none</td>\n",
              "      <td>72</td>\n",
              "      <td>72</td>\n",
              "      <td>74</td>\n",
              "    </tr>\n",
              "    <tr>\n",
              "      <th>1</th>\n",
              "      <td>female</td>\n",
              "      <td>group C</td>\n",
              "      <td>some college</td>\n",
              "      <td>standard</td>\n",
              "      <td>completed</td>\n",
              "      <td>69</td>\n",
              "      <td>90</td>\n",
              "      <td>88</td>\n",
              "    </tr>\n",
              "    <tr>\n",
              "      <th>2</th>\n",
              "      <td>female</td>\n",
              "      <td>group B</td>\n",
              "      <td>master's degree</td>\n",
              "      <td>standard</td>\n",
              "      <td>none</td>\n",
              "      <td>90</td>\n",
              "      <td>95</td>\n",
              "      <td>93</td>\n",
              "    </tr>\n",
              "    <tr>\n",
              "      <th>3</th>\n",
              "      <td>male</td>\n",
              "      <td>group A</td>\n",
              "      <td>associate's degree</td>\n",
              "      <td>free/reduced</td>\n",
              "      <td>none</td>\n",
              "      <td>47</td>\n",
              "      <td>57</td>\n",
              "      <td>44</td>\n",
              "    </tr>\n",
              "    <tr>\n",
              "      <th>4</th>\n",
              "      <td>male</td>\n",
              "      <td>group C</td>\n",
              "      <td>some college</td>\n",
              "      <td>standard</td>\n",
              "      <td>none</td>\n",
              "      <td>76</td>\n",
              "      <td>78</td>\n",
              "      <td>75</td>\n",
              "    </tr>\n",
              "    <tr>\n",
              "      <th>...</th>\n",
              "      <td>...</td>\n",
              "      <td>...</td>\n",
              "      <td>...</td>\n",
              "      <td>...</td>\n",
              "      <td>...</td>\n",
              "      <td>...</td>\n",
              "      <td>...</td>\n",
              "      <td>...</td>\n",
              "    </tr>\n",
              "    <tr>\n",
              "      <th>995</th>\n",
              "      <td>female</td>\n",
              "      <td>group E</td>\n",
              "      <td>master's degree</td>\n",
              "      <td>standard</td>\n",
              "      <td>completed</td>\n",
              "      <td>88</td>\n",
              "      <td>99</td>\n",
              "      <td>95</td>\n",
              "    </tr>\n",
              "    <tr>\n",
              "      <th>996</th>\n",
              "      <td>male</td>\n",
              "      <td>group C</td>\n",
              "      <td>high school</td>\n",
              "      <td>free/reduced</td>\n",
              "      <td>none</td>\n",
              "      <td>62</td>\n",
              "      <td>55</td>\n",
              "      <td>55</td>\n",
              "    </tr>\n",
              "    <tr>\n",
              "      <th>997</th>\n",
              "      <td>female</td>\n",
              "      <td>group C</td>\n",
              "      <td>high school</td>\n",
              "      <td>free/reduced</td>\n",
              "      <td>completed</td>\n",
              "      <td>59</td>\n",
              "      <td>71</td>\n",
              "      <td>65</td>\n",
              "    </tr>\n",
              "    <tr>\n",
              "      <th>998</th>\n",
              "      <td>female</td>\n",
              "      <td>group D</td>\n",
              "      <td>some college</td>\n",
              "      <td>standard</td>\n",
              "      <td>completed</td>\n",
              "      <td>68</td>\n",
              "      <td>78</td>\n",
              "      <td>77</td>\n",
              "    </tr>\n",
              "    <tr>\n",
              "      <th>999</th>\n",
              "      <td>female</td>\n",
              "      <td>group D</td>\n",
              "      <td>some college</td>\n",
              "      <td>free/reduced</td>\n",
              "      <td>none</td>\n",
              "      <td>77</td>\n",
              "      <td>86</td>\n",
              "      <td>86</td>\n",
              "    </tr>\n",
              "  </tbody>\n",
              "</table>\n",
              "<p>1000 rows × 8 columns</p>\n",
              "</div>\n",
              "      <button class=\"colab-df-convert\" onclick=\"convertToInteractive('df-f683f593-b6c2-4134-b6f2-ff3d2dc0a80e')\"\n",
              "              title=\"Convert this dataframe to an interactive table.\"\n",
              "              style=\"display:none;\">\n",
              "        \n",
              "  <svg xmlns=\"http://www.w3.org/2000/svg\" height=\"24px\"viewBox=\"0 0 24 24\"\n",
              "       width=\"24px\">\n",
              "    <path d=\"M0 0h24v24H0V0z\" fill=\"none\"/>\n",
              "    <path d=\"M18.56 5.44l.94 2.06.94-2.06 2.06-.94-2.06-.94-.94-2.06-.94 2.06-2.06.94zm-11 1L8.5 8.5l.94-2.06 2.06-.94-2.06-.94L8.5 2.5l-.94 2.06-2.06.94zm10 10l.94 2.06.94-2.06 2.06-.94-2.06-.94-.94-2.06-.94 2.06-2.06.94z\"/><path d=\"M17.41 7.96l-1.37-1.37c-.4-.4-.92-.59-1.43-.59-.52 0-1.04.2-1.43.59L10.3 9.45l-7.72 7.72c-.78.78-.78 2.05 0 2.83L4 21.41c.39.39.9.59 1.41.59.51 0 1.02-.2 1.41-.59l7.78-7.78 2.81-2.81c.8-.78.8-2.07 0-2.86zM5.41 20L4 18.59l7.72-7.72 1.47 1.35L5.41 20z\"/>\n",
              "  </svg>\n",
              "      </button>\n",
              "      \n",
              "  <style>\n",
              "    .colab-df-container {\n",
              "      display:flex;\n",
              "      flex-wrap:wrap;\n",
              "      gap: 12px;\n",
              "    }\n",
              "\n",
              "    .colab-df-convert {\n",
              "      background-color: #E8F0FE;\n",
              "      border: none;\n",
              "      border-radius: 50%;\n",
              "      cursor: pointer;\n",
              "      display: none;\n",
              "      fill: #1967D2;\n",
              "      height: 32px;\n",
              "      padding: 0 0 0 0;\n",
              "      width: 32px;\n",
              "    }\n",
              "\n",
              "    .colab-df-convert:hover {\n",
              "      background-color: #E2EBFA;\n",
              "      box-shadow: 0px 1px 2px rgba(60, 64, 67, 0.3), 0px 1px 3px 1px rgba(60, 64, 67, 0.15);\n",
              "      fill: #174EA6;\n",
              "    }\n",
              "\n",
              "    [theme=dark] .colab-df-convert {\n",
              "      background-color: #3B4455;\n",
              "      fill: #D2E3FC;\n",
              "    }\n",
              "\n",
              "    [theme=dark] .colab-df-convert:hover {\n",
              "      background-color: #434B5C;\n",
              "      box-shadow: 0px 1px 3px 1px rgba(0, 0, 0, 0.15);\n",
              "      filter: drop-shadow(0px 1px 2px rgba(0, 0, 0, 0.3));\n",
              "      fill: #FFFFFF;\n",
              "    }\n",
              "  </style>\n",
              "\n",
              "      <script>\n",
              "        const buttonEl =\n",
              "          document.querySelector('#df-f683f593-b6c2-4134-b6f2-ff3d2dc0a80e button.colab-df-convert');\n",
              "        buttonEl.style.display =\n",
              "          google.colab.kernel.accessAllowed ? 'block' : 'none';\n",
              "\n",
              "        async function convertToInteractive(key) {\n",
              "          const element = document.querySelector('#df-f683f593-b6c2-4134-b6f2-ff3d2dc0a80e');\n",
              "          const dataTable =\n",
              "            await google.colab.kernel.invokeFunction('convertToInteractive',\n",
              "                                                     [key], {});\n",
              "          if (!dataTable) return;\n",
              "\n",
              "          const docLinkHtml = 'Like what you see? Visit the ' +\n",
              "            '<a target=\"_blank\" href=https://colab.research.google.com/notebooks/data_table.ipynb>data table notebook</a>'\n",
              "            + ' to learn more about interactive tables.';\n",
              "          element.innerHTML = '';\n",
              "          dataTable['output_type'] = 'display_data';\n",
              "          await google.colab.output.renderOutput(dataTable, element);\n",
              "          const docLink = document.createElement('div');\n",
              "          docLink.innerHTML = docLinkHtml;\n",
              "          element.appendChild(docLink);\n",
              "        }\n",
              "      </script>\n",
              "    </div>\n",
              "  </div>\n",
              "  "
            ]
          },
          "metadata": {},
          "execution_count": 11
        }
      ]
    },
    {
      "cell_type": "markdown",
      "metadata": {
        "id": "_wV3HqV9Pbsm"
      },
      "source": [
        "**Verificando se há dados nulos:**"
      ]
    },
    {
      "cell_type": "code",
      "execution_count": 12,
      "metadata": {
        "colab": {
          "base_uri": "https://localhost:8080/"
        },
        "id": "u1dAvUVcfRUf",
        "outputId": "519c1d6c-7ab0-43c5-de09-8e6f1289df77"
      },
      "outputs": [
        {
          "output_type": "stream",
          "name": "stdout",
          "text": [
            "<class 'pandas.core.frame.DataFrame'>\n",
            "RangeIndex: 1000 entries, 0 to 999\n",
            "Data columns (total 8 columns):\n",
            " #   Column                       Non-Null Count  Dtype \n",
            "---  ------                       --------------  ----- \n",
            " 0   gender                       1000 non-null   object\n",
            " 1   race/ethnicity               1000 non-null   object\n",
            " 2   parental level of education  1000 non-null   object\n",
            " 3   lunch                        1000 non-null   object\n",
            " 4   test preparation course      1000 non-null   object\n",
            " 5   math score                   1000 non-null   int64 \n",
            " 6   reading score                1000 non-null   int64 \n",
            " 7   writing score                1000 non-null   int64 \n",
            "dtypes: int64(3), object(5)\n",
            "memory usage: 62.6+ KB\n"
          ]
        }
      ],
      "source": [
        "df.info()"
      ]
    },
    {
      "cell_type": "code",
      "source": [
        "df.isna().sum()"
      ],
      "metadata": {
        "colab": {
          "base_uri": "https://localhost:8080/"
        },
        "id": "Os_cVjYvARzw",
        "outputId": "c13bdc5f-d297-4123-855a-e5aa967aab7a"
      },
      "execution_count": 13,
      "outputs": [
        {
          "output_type": "execute_result",
          "data": {
            "text/plain": [
              "gender                         0\n",
              "race/ethnicity                 0\n",
              "parental level of education    0\n",
              "lunch                          0\n",
              "test preparation course        0\n",
              "math score                     0\n",
              "reading score                  0\n",
              "writing score                  0\n",
              "dtype: int64"
            ]
          },
          "metadata": {},
          "execution_count": 13
        }
      ]
    },
    {
      "cell_type": "code",
      "source": [
        "df.nunique()"
      ],
      "metadata": {
        "colab": {
          "base_uri": "https://localhost:8080/"
        },
        "id": "_K4M2hArEcGq",
        "outputId": "d9726b2e-2779-4c7e-afb4-e2ad8169c051"
      },
      "execution_count": 14,
      "outputs": [
        {
          "output_type": "execute_result",
          "data": {
            "text/plain": [
              "gender                          2\n",
              "race/ethnicity                  5\n",
              "parental level of education     6\n",
              "lunch                           2\n",
              "test preparation course         2\n",
              "math score                     81\n",
              "reading score                  72\n",
              "writing score                  77\n",
              "dtype: int64"
            ]
          },
          "metadata": {},
          "execution_count": 14
        }
      ]
    },
    {
      "cell_type": "markdown",
      "source": [
        "**Verificando se há dados duplicados:**"
      ],
      "metadata": {
        "id": "ICOO_vTrA_gT"
      }
    },
    {
      "cell_type": "code",
      "source": [
        "df.duplicated().sum()"
      ],
      "metadata": {
        "colab": {
          "base_uri": "https://localhost:8080/"
        },
        "id": "R69cfWseASc1",
        "outputId": "1fe628dd-da3d-4f27-f290-ed7b96bb6760"
      },
      "execution_count": 15,
      "outputs": [
        {
          "output_type": "execute_result",
          "data": {
            "text/plain": [
              "0"
            ]
          },
          "metadata": {},
          "execution_count": 15
        }
      ]
    },
    {
      "cell_type": "markdown",
      "source": [
        "**Vamos criar uma coluna de média das notas que servirá como target:**"
      ],
      "metadata": {
        "id": "MQFp-f7zoW1c"
      }
    },
    {
      "cell_type": "code",
      "source": [
        "curso_notas = df[[\"test preparation course\", \"math score\", \"reading score\", \"writing score\"]]\n",
        "df_notas = df[[\"math score\", \"reading score\", \"writing score\"]]"
      ],
      "metadata": {
        "id": "NdSDMmudoVwd"
      },
      "execution_count": 16,
      "outputs": []
    },
    {
      "cell_type": "code",
      "source": [
        "lista_col = []\n",
        "lista_media = []\n",
        "for col in df_notas:\n",
        "    lista_col.append(col)\n",
        "for num in range(len(df_notas)):\n",
        "  media = (df_notas[lista_col[0]].iloc[num] + df_notas[lista_col[1]].iloc[num] + df_notas[lista_col[2]].iloc[num])/3\n",
        "  lista_media.append(media)\n",
        "curso_notas[\"media\"] = lista_media\n",
        "df[\"media\"] = lista_media\n",
        "df.head()"
      ],
      "metadata": {
        "colab": {
          "base_uri": "https://localhost:8080/",
          "height": 206
        },
        "id": "FLqCKk9zn5BN",
        "outputId": "831c1f02-598d-4a6b-e6bd-5e50ad1dcb3a"
      },
      "execution_count": 17,
      "outputs": [
        {
          "output_type": "execute_result",
          "data": {
            "text/plain": [
              "   gender race/ethnicity parental level of education         lunch  \\\n",
              "0  female        group B           bachelor's degree      standard   \n",
              "1  female        group C                some college      standard   \n",
              "2  female        group B             master's degree      standard   \n",
              "3    male        group A          associate's degree  free/reduced   \n",
              "4    male        group C                some college      standard   \n",
              "\n",
              "  test preparation course  math score  reading score  writing score      media  \n",
              "0                    none          72             72             74  72.666667  \n",
              "1               completed          69             90             88  82.333333  \n",
              "2                    none          90             95             93  92.666667  \n",
              "3                    none          47             57             44  49.333333  \n",
              "4                    none          76             78             75  76.333333  "
            ],
            "text/html": [
              "\n",
              "  <div id=\"df-cc34ea38-bac3-417b-892a-1c1e36de5585\">\n",
              "    <div class=\"colab-df-container\">\n",
              "      <div>\n",
              "<style scoped>\n",
              "    .dataframe tbody tr th:only-of-type {\n",
              "        vertical-align: middle;\n",
              "    }\n",
              "\n",
              "    .dataframe tbody tr th {\n",
              "        vertical-align: top;\n",
              "    }\n",
              "\n",
              "    .dataframe thead th {\n",
              "        text-align: right;\n",
              "    }\n",
              "</style>\n",
              "<table border=\"1\" class=\"dataframe\">\n",
              "  <thead>\n",
              "    <tr style=\"text-align: right;\">\n",
              "      <th></th>\n",
              "      <th>gender</th>\n",
              "      <th>race/ethnicity</th>\n",
              "      <th>parental level of education</th>\n",
              "      <th>lunch</th>\n",
              "      <th>test preparation course</th>\n",
              "      <th>math score</th>\n",
              "      <th>reading score</th>\n",
              "      <th>writing score</th>\n",
              "      <th>media</th>\n",
              "    </tr>\n",
              "  </thead>\n",
              "  <tbody>\n",
              "    <tr>\n",
              "      <th>0</th>\n",
              "      <td>female</td>\n",
              "      <td>group B</td>\n",
              "      <td>bachelor's degree</td>\n",
              "      <td>standard</td>\n",
              "      <td>none</td>\n",
              "      <td>72</td>\n",
              "      <td>72</td>\n",
              "      <td>74</td>\n",
              "      <td>72.666667</td>\n",
              "    </tr>\n",
              "    <tr>\n",
              "      <th>1</th>\n",
              "      <td>female</td>\n",
              "      <td>group C</td>\n",
              "      <td>some college</td>\n",
              "      <td>standard</td>\n",
              "      <td>completed</td>\n",
              "      <td>69</td>\n",
              "      <td>90</td>\n",
              "      <td>88</td>\n",
              "      <td>82.333333</td>\n",
              "    </tr>\n",
              "    <tr>\n",
              "      <th>2</th>\n",
              "      <td>female</td>\n",
              "      <td>group B</td>\n",
              "      <td>master's degree</td>\n",
              "      <td>standard</td>\n",
              "      <td>none</td>\n",
              "      <td>90</td>\n",
              "      <td>95</td>\n",
              "      <td>93</td>\n",
              "      <td>92.666667</td>\n",
              "    </tr>\n",
              "    <tr>\n",
              "      <th>3</th>\n",
              "      <td>male</td>\n",
              "      <td>group A</td>\n",
              "      <td>associate's degree</td>\n",
              "      <td>free/reduced</td>\n",
              "      <td>none</td>\n",
              "      <td>47</td>\n",
              "      <td>57</td>\n",
              "      <td>44</td>\n",
              "      <td>49.333333</td>\n",
              "    </tr>\n",
              "    <tr>\n",
              "      <th>4</th>\n",
              "      <td>male</td>\n",
              "      <td>group C</td>\n",
              "      <td>some college</td>\n",
              "      <td>standard</td>\n",
              "      <td>none</td>\n",
              "      <td>76</td>\n",
              "      <td>78</td>\n",
              "      <td>75</td>\n",
              "      <td>76.333333</td>\n",
              "    </tr>\n",
              "  </tbody>\n",
              "</table>\n",
              "</div>\n",
              "      <button class=\"colab-df-convert\" onclick=\"convertToInteractive('df-cc34ea38-bac3-417b-892a-1c1e36de5585')\"\n",
              "              title=\"Convert this dataframe to an interactive table.\"\n",
              "              style=\"display:none;\">\n",
              "        \n",
              "  <svg xmlns=\"http://www.w3.org/2000/svg\" height=\"24px\"viewBox=\"0 0 24 24\"\n",
              "       width=\"24px\">\n",
              "    <path d=\"M0 0h24v24H0V0z\" fill=\"none\"/>\n",
              "    <path d=\"M18.56 5.44l.94 2.06.94-2.06 2.06-.94-2.06-.94-.94-2.06-.94 2.06-2.06.94zm-11 1L8.5 8.5l.94-2.06 2.06-.94-2.06-.94L8.5 2.5l-.94 2.06-2.06.94zm10 10l.94 2.06.94-2.06 2.06-.94-2.06-.94-.94-2.06-.94 2.06-2.06.94z\"/><path d=\"M17.41 7.96l-1.37-1.37c-.4-.4-.92-.59-1.43-.59-.52 0-1.04.2-1.43.59L10.3 9.45l-7.72 7.72c-.78.78-.78 2.05 0 2.83L4 21.41c.39.39.9.59 1.41.59.51 0 1.02-.2 1.41-.59l7.78-7.78 2.81-2.81c.8-.78.8-2.07 0-2.86zM5.41 20L4 18.59l7.72-7.72 1.47 1.35L5.41 20z\"/>\n",
              "  </svg>\n",
              "      </button>\n",
              "      \n",
              "  <style>\n",
              "    .colab-df-container {\n",
              "      display:flex;\n",
              "      flex-wrap:wrap;\n",
              "      gap: 12px;\n",
              "    }\n",
              "\n",
              "    .colab-df-convert {\n",
              "      background-color: #E8F0FE;\n",
              "      border: none;\n",
              "      border-radius: 50%;\n",
              "      cursor: pointer;\n",
              "      display: none;\n",
              "      fill: #1967D2;\n",
              "      height: 32px;\n",
              "      padding: 0 0 0 0;\n",
              "      width: 32px;\n",
              "    }\n",
              "\n",
              "    .colab-df-convert:hover {\n",
              "      background-color: #E2EBFA;\n",
              "      box-shadow: 0px 1px 2px rgba(60, 64, 67, 0.3), 0px 1px 3px 1px rgba(60, 64, 67, 0.15);\n",
              "      fill: #174EA6;\n",
              "    }\n",
              "\n",
              "    [theme=dark] .colab-df-convert {\n",
              "      background-color: #3B4455;\n",
              "      fill: #D2E3FC;\n",
              "    }\n",
              "\n",
              "    [theme=dark] .colab-df-convert:hover {\n",
              "      background-color: #434B5C;\n",
              "      box-shadow: 0px 1px 3px 1px rgba(0, 0, 0, 0.15);\n",
              "      filter: drop-shadow(0px 1px 2px rgba(0, 0, 0, 0.3));\n",
              "      fill: #FFFFFF;\n",
              "    }\n",
              "  </style>\n",
              "\n",
              "      <script>\n",
              "        const buttonEl =\n",
              "          document.querySelector('#df-cc34ea38-bac3-417b-892a-1c1e36de5585 button.colab-df-convert');\n",
              "        buttonEl.style.display =\n",
              "          google.colab.kernel.accessAllowed ? 'block' : 'none';\n",
              "\n",
              "        async function convertToInteractive(key) {\n",
              "          const element = document.querySelector('#df-cc34ea38-bac3-417b-892a-1c1e36de5585');\n",
              "          const dataTable =\n",
              "            await google.colab.kernel.invokeFunction('convertToInteractive',\n",
              "                                                     [key], {});\n",
              "          if (!dataTable) return;\n",
              "\n",
              "          const docLinkHtml = 'Like what you see? Visit the ' +\n",
              "            '<a target=\"_blank\" href=https://colab.research.google.com/notebooks/data_table.ipynb>data table notebook</a>'\n",
              "            + ' to learn more about interactive tables.';\n",
              "          element.innerHTML = '';\n",
              "          dataTable['output_type'] = 'display_data';\n",
              "          await google.colab.output.renderOutput(dataTable, element);\n",
              "          const docLink = document.createElement('div');\n",
              "          docLink.innerHTML = docLinkHtml;\n",
              "          element.appendChild(docLink);\n",
              "        }\n",
              "      </script>\n",
              "    </div>\n",
              "  </div>\n",
              "  "
            ]
          },
          "metadata": {},
          "execution_count": 17
        }
      ]
    },
    {
      "cell_type": "markdown",
      "metadata": {
        "id": "YYgVyk65c8bH"
      },
      "source": [
        "# **XGBOOST**"
      ]
    },
    {
      "cell_type": "markdown",
      "source": [
        "## **Black Box**"
      ],
      "metadata": {
        "id": "k75emAHwljVf"
      }
    },
    {
      "cell_type": "code",
      "execution_count": 27,
      "metadata": {
        "colab": {
          "base_uri": "https://localhost:8080/"
        },
        "execution": {
          "iopub.execute_input": "2022-07-05T00:58:39.306002Z",
          "iopub.status.busy": "2022-07-05T00:58:39.305542Z",
          "iopub.status.idle": "2022-07-05T01:02:18.329714Z",
          "shell.execute_reply": "2022-07-05T01:02:18.328430Z",
          "shell.execute_reply.started": "2022-07-05T00:58:39.305970Z"
        },
        "id": "e-eFLMGWc8bI",
        "outputId": "0dbeb88e-5594-463b-ef11-aa90b2ca7da7"
      },
      "outputs": [
        {
          "output_type": "stream",
          "name": "stdout",
          "text": [
            "Fitting 5 folds for each of 4 candidates, totalling 20 fits\n",
            "[17:47:25] WARNING: /workspace/src/objective/regression_obj.cu:152: reg:linear is now deprecated in favor of reg:squarederror.\n"
          ]
        },
        {
          "output_type": "execute_result",
          "data": {
            "text/plain": [
              "GridSearchCV(cv=KFold(n_splits=5, random_state=42, shuffle=True),\n",
              "             estimator=Pipeline(steps=[('pre_processador',\n",
              "                                        ColumnTransformer(transformers=[('transf_num',\n",
              "                                                                         Pipeline(steps=[('input_num',\n",
              "                                                                                          SimpleImputer()),\n",
              "                                                                                         ('std',\n",
              "                                                                                          StandardScaler())]),\n",
              "                                                                         ['math '\n",
              "                                                                          'score',\n",
              "                                                                          'reading '\n",
              "                                                                          'score',\n",
              "                                                                          'writing '\n",
              "                                                                          'score']),\n",
              "                                                                        ('transf_cat',\n",
              "                                                                         Pipeline(steps=[('input_cat_oe',\n",
              "                                                                                          SimpleImputer(fill_value='...\n",
              "                                                                                                        strategy='constant')),\n",
              "                                                                                         ('ordinal',\n",
              "                                                                                          OrdinalEncoder())]),\n",
              "                                                                         ['race/ethnicity',\n",
              "                                                                          'parental '\n",
              "                                                                          'level '\n",
              "                                                                          'of '\n",
              "                                                                          'education'])])),\n",
              "                                       ('xgbr',\n",
              "                                        XGBRegressor(eval_metric='logloss',\n",
              "                                                     random_state=42))]),\n",
              "             n_jobs=-1,\n",
              "             param_grid={'xgbr__colsample_bytree': [0.5],\n",
              "                         'xgbr__learning_rate': [0.001, 0.01],\n",
              "                         'xgbr__max_depth': [2, 3],\n",
              "                         'xgbr__n_estimators': [5000],\n",
              "                         'xgbr__subsample': [0.5]},\n",
              "             scoring='r2', verbose=10)"
            ]
          },
          "metadata": {},
          "execution_count": 27
        }
      ],
      "source": [
        "#Separando o que é features e target:\n",
        "X = df.drop(columns=\"media\")\n",
        "y = df[\"media\"]\n",
        "\n",
        "# Dividindo em dados de teste e dados de treino, peguei 20% para dados de teste:\n",
        "X_train, X_test, y_train, y_test = train_test_split(X, y, test_size=0.2, random_state=12)\n",
        "\n",
        "# Iniciando a construção da Pipeline:\n",
        "# ==========================================================\n",
        "#Primeiro vamos tratar as features numéricas. Tratando os valores nulos (NaN) e escalonando já que a variância entre as features é grande.\n",
        "pipe_features_num = Pipeline([(\"input_num\", SimpleImputer(strategy=\"mean\")),\n",
        "                              (\"std\", StandardScaler())])\n",
        "\n",
        "features_num = X_train.select_dtypes(include=np.number).columns.tolist()\n",
        "# ==========================================================\n",
        "# ==========================================================\n",
        "# Tratando as features categóricas. Os valores nulos (NaN) serão preenchidos pelos dados mais constantes e posteriormente codificaremos todas elas com Ordinal Enconder. \n",
        "\n",
        "pipe_features_oe = Pipeline([(\"input_cat_oe\", SimpleImputer(strategy=\"constant\", fill_value=\"unknown\")),\n",
        "                            (\"ordinal\", OrdinalEncoder())])\n",
        "\n",
        "features_oe = [\"race/ethnicity\", \"parental level of education\"]\n",
        "\n",
        "# Tratando as features categóricas. Os valores nulos (NaN) serão preenchidos pelos dados mais constantes e posteriormente codificaremos todas elas com o One Hot Encoder. \n",
        "\n",
        "pipe_features_ohe = Pipeline([(\"input_cat_oe\", SimpleImputer(strategy=\"constant\", fill_value=\"unknown\")),\n",
        "                            (\"onehot\", OneHotEncoder(handle_unknown='ignore'))])\n",
        "\n",
        "features_ohe = [\"gender\", \"lunch\", \"test preparation course\"]\n",
        "# ==========================================================\n",
        "# Pré-processador => Pegando as pipelines anteriores e unindo-as.\n",
        "pre_processador = ColumnTransformer([(\"transf_num\", pipe_features_num, features_num),\n",
        "                                     (\"transf_cat\", pipe_features_oe, features_oe)])\n",
        "\n",
        "# ==========================================================\n",
        "# Pipeline final, usando o pré-processador e o estimador que queremos utilizar, neste caso o XGBoost para regressão.\n",
        "pipe_xgbr = Pipeline([(\"pre_processador\", pre_processador),\n",
        "                     (\"xgbr\", XGBRegressor(eval_metric='logloss', random_state=42))])\n",
        "\n",
        "# ==========================================================\n",
        "#Vamos dividir em splits para ter mais variedade no processamento dos dados.\n",
        "splitter = KFold(n_splits=5, random_state=42, shuffle=True)\n",
        "\n",
        "#Montando a grade de parâmetros do estimador (XGBoost)\n",
        "params_grid_xgbr = {\"xgbr__n_estimators\": [5000],\n",
        "                   \"xgbr__max_depth\": [2, 3],\n",
        "                   \"xgbr__learning_rate\": [0.001, 0.01],\n",
        "                   \"xgbr__colsample_bytree\": [0.5],\n",
        "                   \"xgbr__subsample\": [0.5]}\n",
        "\n",
        "\n",
        "#Motando a grade geral de parâmetros.\n",
        "grid_xgbr_edu = GridSearchCV(estimator=pipe_xgbr,\n",
        "                       param_grid=params_grid_xgbr,\n",
        "                       scoring=\"r2\",\n",
        "                       cv=splitter,\n",
        "                       verbose=10,\n",
        "                       n_jobs=-1)\n",
        "\n",
        "grid_xgbr_edu.fit(X_train, y_train)"
      ]
    },
    {
      "cell_type": "code",
      "execution_count": 29,
      "metadata": {
        "collapsed": true,
        "execution": {
          "iopub.execute_input": "2022-07-04T21:37:34.559124Z",
          "iopub.status.busy": "2022-07-04T21:37:34.558167Z",
          "iopub.status.idle": "2022-07-04T21:37:34.565840Z",
          "shell.execute_reply": "2022-07-04T21:37:34.565007Z",
          "shell.execute_reply.started": "2022-07-04T21:37:34.559057Z"
        },
        "id": "DAKnu8-xc8bI",
        "jupyter": {
          "outputs_hidden": true
        },
        "colab": {
          "base_uri": "https://localhost:8080/"
        },
        "outputId": "0e3e3644-2536-445f-984e-625b75a2e52d"
      },
      "outputs": [
        {
          "output_type": "execute_result",
          "data": {
            "text/plain": [
              "{'xgbr__colsample_bytree': 0.5,\n",
              " 'xgbr__learning_rate': 0.01,\n",
              " 'xgbr__max_depth': 3,\n",
              " 'xgbr__n_estimators': 5000,\n",
              " 'xgbr__subsample': 0.5}"
            ]
          },
          "metadata": {},
          "execution_count": 29
        }
      ],
      "source": [
        "grid_xgbr_edu.best_params_"
      ]
    },
    {
      "cell_type": "code",
      "execution_count": 20,
      "metadata": {
        "collapsed": true,
        "execution": {
          "iopub.execute_input": "2022-07-04T14:20:52.445534Z",
          "iopub.status.busy": "2022-07-04T14:20:52.445074Z",
          "iopub.status.idle": "2022-07-04T14:20:52.487086Z",
          "shell.execute_reply": "2022-07-04T14:20:52.486289Z",
          "shell.execute_reply.started": "2022-07-04T14:20:52.445484Z"
        },
        "id": "Bzqj-9m-c8bJ",
        "jupyter": {
          "outputs_hidden": true
        },
        "colab": {
          "base_uri": "https://localhost:8080/",
          "height": 211
        },
        "outputId": "7061ade9-3c53-424f-b7b8-6451c7b85708"
      },
      "outputs": [
        {
          "output_type": "execute_result",
          "data": {
            "text/plain": [
              "   mean_fit_time  std_fit_time  mean_score_time  std_score_time  \\\n",
              "1       0.347742      0.010735         0.012179        0.001472   \n",
              "0       0.535079      0.170088         0.023484        0.013511   \n",
              "\n",
              "  param_xgbr__colsample_bytree param_xgbr__learning_rate  \\\n",
              "1                          0.5                      0.01   \n",
              "0                          0.5                     0.001   \n",
              "\n",
              "  param_xgbr__max_depth param_xgbr__n_estimators param_xgbr__subsample  \\\n",
              "1                     2                     1000                   0.5   \n",
              "0                     2                     1000                   0.5   \n",
              "\n",
              "                                              params  split0_test_score  \\\n",
              "1  {'xgbr__colsample_bytree': 0.5, 'xgbr__learnin...           0.998586   \n",
              "0  {'xgbr__colsample_bytree': 0.5, 'xgbr__learnin...          -2.201490   \n",
              "\n",
              "   split1_test_score  split2_test_score  split3_test_score  split4_test_score  \\\n",
              "1           0.994605           0.998753           0.998991           0.998737   \n",
              "0          -2.244300          -2.346016          -2.378783          -2.333809   \n",
              "\n",
              "   mean_test_score  std_test_score  rank_test_score  \n",
              "1         0.997934        0.001670                1  \n",
              "0        -2.300879        0.066738                2  "
            ],
            "text/html": [
              "\n",
              "  <div id=\"df-6d54e554-e04f-4908-b98e-24a42adb4632\">\n",
              "    <div class=\"colab-df-container\">\n",
              "      <div>\n",
              "<style scoped>\n",
              "    .dataframe tbody tr th:only-of-type {\n",
              "        vertical-align: middle;\n",
              "    }\n",
              "\n",
              "    .dataframe tbody tr th {\n",
              "        vertical-align: top;\n",
              "    }\n",
              "\n",
              "    .dataframe thead th {\n",
              "        text-align: right;\n",
              "    }\n",
              "</style>\n",
              "<table border=\"1\" class=\"dataframe\">\n",
              "  <thead>\n",
              "    <tr style=\"text-align: right;\">\n",
              "      <th></th>\n",
              "      <th>mean_fit_time</th>\n",
              "      <th>std_fit_time</th>\n",
              "      <th>mean_score_time</th>\n",
              "      <th>std_score_time</th>\n",
              "      <th>param_xgbr__colsample_bytree</th>\n",
              "      <th>param_xgbr__learning_rate</th>\n",
              "      <th>param_xgbr__max_depth</th>\n",
              "      <th>param_xgbr__n_estimators</th>\n",
              "      <th>param_xgbr__subsample</th>\n",
              "      <th>params</th>\n",
              "      <th>split0_test_score</th>\n",
              "      <th>split1_test_score</th>\n",
              "      <th>split2_test_score</th>\n",
              "      <th>split3_test_score</th>\n",
              "      <th>split4_test_score</th>\n",
              "      <th>mean_test_score</th>\n",
              "      <th>std_test_score</th>\n",
              "      <th>rank_test_score</th>\n",
              "    </tr>\n",
              "  </thead>\n",
              "  <tbody>\n",
              "    <tr>\n",
              "      <th>1</th>\n",
              "      <td>0.347742</td>\n",
              "      <td>0.010735</td>\n",
              "      <td>0.012179</td>\n",
              "      <td>0.001472</td>\n",
              "      <td>0.5</td>\n",
              "      <td>0.01</td>\n",
              "      <td>2</td>\n",
              "      <td>1000</td>\n",
              "      <td>0.5</td>\n",
              "      <td>{'xgbr__colsample_bytree': 0.5, 'xgbr__learnin...</td>\n",
              "      <td>0.998586</td>\n",
              "      <td>0.994605</td>\n",
              "      <td>0.998753</td>\n",
              "      <td>0.998991</td>\n",
              "      <td>0.998737</td>\n",
              "      <td>0.997934</td>\n",
              "      <td>0.001670</td>\n",
              "      <td>1</td>\n",
              "    </tr>\n",
              "    <tr>\n",
              "      <th>0</th>\n",
              "      <td>0.535079</td>\n",
              "      <td>0.170088</td>\n",
              "      <td>0.023484</td>\n",
              "      <td>0.013511</td>\n",
              "      <td>0.5</td>\n",
              "      <td>0.001</td>\n",
              "      <td>2</td>\n",
              "      <td>1000</td>\n",
              "      <td>0.5</td>\n",
              "      <td>{'xgbr__colsample_bytree': 0.5, 'xgbr__learnin...</td>\n",
              "      <td>-2.201490</td>\n",
              "      <td>-2.244300</td>\n",
              "      <td>-2.346016</td>\n",
              "      <td>-2.378783</td>\n",
              "      <td>-2.333809</td>\n",
              "      <td>-2.300879</td>\n",
              "      <td>0.066738</td>\n",
              "      <td>2</td>\n",
              "    </tr>\n",
              "  </tbody>\n",
              "</table>\n",
              "</div>\n",
              "      <button class=\"colab-df-convert\" onclick=\"convertToInteractive('df-6d54e554-e04f-4908-b98e-24a42adb4632')\"\n",
              "              title=\"Convert this dataframe to an interactive table.\"\n",
              "              style=\"display:none;\">\n",
              "        \n",
              "  <svg xmlns=\"http://www.w3.org/2000/svg\" height=\"24px\"viewBox=\"0 0 24 24\"\n",
              "       width=\"24px\">\n",
              "    <path d=\"M0 0h24v24H0V0z\" fill=\"none\"/>\n",
              "    <path d=\"M18.56 5.44l.94 2.06.94-2.06 2.06-.94-2.06-.94-.94-2.06-.94 2.06-2.06.94zm-11 1L8.5 8.5l.94-2.06 2.06-.94-2.06-.94L8.5 2.5l-.94 2.06-2.06.94zm10 10l.94 2.06.94-2.06 2.06-.94-2.06-.94-.94-2.06-.94 2.06-2.06.94z\"/><path d=\"M17.41 7.96l-1.37-1.37c-.4-.4-.92-.59-1.43-.59-.52 0-1.04.2-1.43.59L10.3 9.45l-7.72 7.72c-.78.78-.78 2.05 0 2.83L4 21.41c.39.39.9.59 1.41.59.51 0 1.02-.2 1.41-.59l7.78-7.78 2.81-2.81c.8-.78.8-2.07 0-2.86zM5.41 20L4 18.59l7.72-7.72 1.47 1.35L5.41 20z\"/>\n",
              "  </svg>\n",
              "      </button>\n",
              "      \n",
              "  <style>\n",
              "    .colab-df-container {\n",
              "      display:flex;\n",
              "      flex-wrap:wrap;\n",
              "      gap: 12px;\n",
              "    }\n",
              "\n",
              "    .colab-df-convert {\n",
              "      background-color: #E8F0FE;\n",
              "      border: none;\n",
              "      border-radius: 50%;\n",
              "      cursor: pointer;\n",
              "      display: none;\n",
              "      fill: #1967D2;\n",
              "      height: 32px;\n",
              "      padding: 0 0 0 0;\n",
              "      width: 32px;\n",
              "    }\n",
              "\n",
              "    .colab-df-convert:hover {\n",
              "      background-color: #E2EBFA;\n",
              "      box-shadow: 0px 1px 2px rgba(60, 64, 67, 0.3), 0px 1px 3px 1px rgba(60, 64, 67, 0.15);\n",
              "      fill: #174EA6;\n",
              "    }\n",
              "\n",
              "    [theme=dark] .colab-df-convert {\n",
              "      background-color: #3B4455;\n",
              "      fill: #D2E3FC;\n",
              "    }\n",
              "\n",
              "    [theme=dark] .colab-df-convert:hover {\n",
              "      background-color: #434B5C;\n",
              "      box-shadow: 0px 1px 3px 1px rgba(0, 0, 0, 0.15);\n",
              "      filter: drop-shadow(0px 1px 2px rgba(0, 0, 0, 0.3));\n",
              "      fill: #FFFFFF;\n",
              "    }\n",
              "  </style>\n",
              "\n",
              "      <script>\n",
              "        const buttonEl =\n",
              "          document.querySelector('#df-6d54e554-e04f-4908-b98e-24a42adb4632 button.colab-df-convert');\n",
              "        buttonEl.style.display =\n",
              "          google.colab.kernel.accessAllowed ? 'block' : 'none';\n",
              "\n",
              "        async function convertToInteractive(key) {\n",
              "          const element = document.querySelector('#df-6d54e554-e04f-4908-b98e-24a42adb4632');\n",
              "          const dataTable =\n",
              "            await google.colab.kernel.invokeFunction('convertToInteractive',\n",
              "                                                     [key], {});\n",
              "          if (!dataTable) return;\n",
              "\n",
              "          const docLinkHtml = 'Like what you see? Visit the ' +\n",
              "            '<a target=\"_blank\" href=https://colab.research.google.com/notebooks/data_table.ipynb>data table notebook</a>'\n",
              "            + ' to learn more about interactive tables.';\n",
              "          element.innerHTML = '';\n",
              "          dataTable['output_type'] = 'display_data';\n",
              "          await google.colab.output.renderOutput(dataTable, element);\n",
              "          const docLink = document.createElement('div');\n",
              "          docLink.innerHTML = docLinkHtml;\n",
              "          element.appendChild(docLink);\n",
              "        }\n",
              "      </script>\n",
              "    </div>\n",
              "  </div>\n",
              "  "
            ]
          },
          "metadata": {},
          "execution_count": 20
        }
      ],
      "source": [
        "xgbr_results = pd.DataFrame(grid_xgbr_edu.cv_results_)\n",
        "xgbr_results.sort_values(by=[\"rank_test_score\"])"
      ]
    },
    {
      "cell_type": "code",
      "execution_count": 33,
      "metadata": {
        "colab": {
          "base_uri": "https://localhost:8080/"
        },
        "execution": {
          "iopub.execute_input": "2022-07-05T01:02:43.684643Z",
          "iopub.status.busy": "2022-07-05T01:02:43.684163Z",
          "iopub.status.idle": "2022-07-05T01:02:45.252934Z",
          "shell.execute_reply": "2022-07-05T01:02:45.251778Z",
          "shell.execute_reply.started": "2022-07-05T01:02:43.684604Z"
        },
        "id": "uzhLcpnDc8bK",
        "outputId": "fdd79c19-668b-4d7c-f837-716534875e45"
      },
      "outputs": [
        {
          "output_type": "stream",
          "name": "stdout",
          "text": [
            "\n",
            "Métricas de treino:\n",
            "\n",
            "R^2: 1.00\n",
            "MAE: 0.08\n",
            "RMSE: 0.09\n",
            "\n",
            "Métricas de teste:\n",
            "\n",
            "R^2: 1.00\n",
            "MAE: 0.14\n",
            "RMSE: 0.20\n"
          ]
        }
      ],
      "source": [
        "# Predições de treino\n",
        "y_pred_train = grid_xgbr_edu.predict(X_train)\n",
        "\n",
        "print(\"\\nMétricas de treino:\\n\")\n",
        "print(f\"R^2: {r2_score(y_train, y_pred_train):.2f}\")\n",
        "print(f\"MAE: {mean_absolute_error(y_train, y_pred_train):.2f}\")\n",
        "print(f\"RMSE: {np.sqrt(mean_squared_error(y_train, y_pred_train)):.2f}\")\n",
        "\n",
        "# Predições de teste\n",
        "y_pred_test = grid_xgbr_edu.predict(X_test)\n",
        "\n",
        "print(\"\\nMétricas de teste:\\n\")\n",
        "print(f\"R^2: {r2_score(y_test, y_pred_test):.2f}\")\n",
        "print(f\"MAE: {mean_absolute_error(y_test, y_pred_test):.2f}\")\n",
        "print(f\"RMSE: {np.sqrt(mean_squared_error(y_test, y_pred_test)):.2f}\") "
      ]
    },
    {
      "cell_type": "markdown",
      "source": [
        "\n",
        "\n",
        "---\n",
        "\n"
      ],
      "metadata": {
        "id": "eE98RaAaL6wb"
      }
    },
    {
      "cell_type": "markdown",
      "source": [
        "**Nos dois gráficos abaixos percebemos que os dados de treinos não gabaritaram(não gravaram a resposta) e, sim, geraram erros extremamentes pequenos. Isso se dá pela coesão dos dados. Podemos ver pela MAE, se houvesse gabaritado as respostas os dados de treino não gerariam erros.**"
      ],
      "metadata": {
        "id": "Okjod5j2GiQX"
      }
    },
    {
      "cell_type": "markdown",
      "source": [
        "Peguei um exemplo:"
      ],
      "metadata": {
        "id": "jBk1IphLLz1b"
      }
    },
    {
      "cell_type": "code",
      "source": [
        "df.iloc[[0]]"
      ],
      "metadata": {
        "colab": {
          "base_uri": "https://localhost:8080/",
          "height": 81
        },
        "id": "jZkcA3ElKtPM",
        "outputId": "fb7c5ad6-19f8-4691-d7d3-f4495e581833"
      },
      "execution_count": 30,
      "outputs": [
        {
          "output_type": "execute_result",
          "data": {
            "text/plain": [
              "   gender race/ethnicity parental level of education     lunch  \\\n",
              "0  female        group B           bachelor's degree  standard   \n",
              "\n",
              "  test preparation course  math score  reading score  writing score      media  \n",
              "0                    none          72             72             74  72.666667  "
            ],
            "text/html": [
              "\n",
              "  <div id=\"df-6ce6581f-e25a-45b6-a5dc-92a3748efbbb\">\n",
              "    <div class=\"colab-df-container\">\n",
              "      <div>\n",
              "<style scoped>\n",
              "    .dataframe tbody tr th:only-of-type {\n",
              "        vertical-align: middle;\n",
              "    }\n",
              "\n",
              "    .dataframe tbody tr th {\n",
              "        vertical-align: top;\n",
              "    }\n",
              "\n",
              "    .dataframe thead th {\n",
              "        text-align: right;\n",
              "    }\n",
              "</style>\n",
              "<table border=\"1\" class=\"dataframe\">\n",
              "  <thead>\n",
              "    <tr style=\"text-align: right;\">\n",
              "      <th></th>\n",
              "      <th>gender</th>\n",
              "      <th>race/ethnicity</th>\n",
              "      <th>parental level of education</th>\n",
              "      <th>lunch</th>\n",
              "      <th>test preparation course</th>\n",
              "      <th>math score</th>\n",
              "      <th>reading score</th>\n",
              "      <th>writing score</th>\n",
              "      <th>media</th>\n",
              "    </tr>\n",
              "  </thead>\n",
              "  <tbody>\n",
              "    <tr>\n",
              "      <th>0</th>\n",
              "      <td>female</td>\n",
              "      <td>group B</td>\n",
              "      <td>bachelor's degree</td>\n",
              "      <td>standard</td>\n",
              "      <td>none</td>\n",
              "      <td>72</td>\n",
              "      <td>72</td>\n",
              "      <td>74</td>\n",
              "      <td>72.666667</td>\n",
              "    </tr>\n",
              "  </tbody>\n",
              "</table>\n",
              "</div>\n",
              "      <button class=\"colab-df-convert\" onclick=\"convertToInteractive('df-6ce6581f-e25a-45b6-a5dc-92a3748efbbb')\"\n",
              "              title=\"Convert this dataframe to an interactive table.\"\n",
              "              style=\"display:none;\">\n",
              "        \n",
              "  <svg xmlns=\"http://www.w3.org/2000/svg\" height=\"24px\"viewBox=\"0 0 24 24\"\n",
              "       width=\"24px\">\n",
              "    <path d=\"M0 0h24v24H0V0z\" fill=\"none\"/>\n",
              "    <path d=\"M18.56 5.44l.94 2.06.94-2.06 2.06-.94-2.06-.94-.94-2.06-.94 2.06-2.06.94zm-11 1L8.5 8.5l.94-2.06 2.06-.94-2.06-.94L8.5 2.5l-.94 2.06-2.06.94zm10 10l.94 2.06.94-2.06 2.06-.94-2.06-.94-.94-2.06-.94 2.06-2.06.94z\"/><path d=\"M17.41 7.96l-1.37-1.37c-.4-.4-.92-.59-1.43-.59-.52 0-1.04.2-1.43.59L10.3 9.45l-7.72 7.72c-.78.78-.78 2.05 0 2.83L4 21.41c.39.39.9.59 1.41.59.51 0 1.02-.2 1.41-.59l7.78-7.78 2.81-2.81c.8-.78.8-2.07 0-2.86zM5.41 20L4 18.59l7.72-7.72 1.47 1.35L5.41 20z\"/>\n",
              "  </svg>\n",
              "      </button>\n",
              "      \n",
              "  <style>\n",
              "    .colab-df-container {\n",
              "      display:flex;\n",
              "      flex-wrap:wrap;\n",
              "      gap: 12px;\n",
              "    }\n",
              "\n",
              "    .colab-df-convert {\n",
              "      background-color: #E8F0FE;\n",
              "      border: none;\n",
              "      border-radius: 50%;\n",
              "      cursor: pointer;\n",
              "      display: none;\n",
              "      fill: #1967D2;\n",
              "      height: 32px;\n",
              "      padding: 0 0 0 0;\n",
              "      width: 32px;\n",
              "    }\n",
              "\n",
              "    .colab-df-convert:hover {\n",
              "      background-color: #E2EBFA;\n",
              "      box-shadow: 0px 1px 2px rgba(60, 64, 67, 0.3), 0px 1px 3px 1px rgba(60, 64, 67, 0.15);\n",
              "      fill: #174EA6;\n",
              "    }\n",
              "\n",
              "    [theme=dark] .colab-df-convert {\n",
              "      background-color: #3B4455;\n",
              "      fill: #D2E3FC;\n",
              "    }\n",
              "\n",
              "    [theme=dark] .colab-df-convert:hover {\n",
              "      background-color: #434B5C;\n",
              "      box-shadow: 0px 1px 3px 1px rgba(0, 0, 0, 0.15);\n",
              "      filter: drop-shadow(0px 1px 2px rgba(0, 0, 0, 0.3));\n",
              "      fill: #FFFFFF;\n",
              "    }\n",
              "  </style>\n",
              "\n",
              "      <script>\n",
              "        const buttonEl =\n",
              "          document.querySelector('#df-6ce6581f-e25a-45b6-a5dc-92a3748efbbb button.colab-df-convert');\n",
              "        buttonEl.style.display =\n",
              "          google.colab.kernel.accessAllowed ? 'block' : 'none';\n",
              "\n",
              "        async function convertToInteractive(key) {\n",
              "          const element = document.querySelector('#df-6ce6581f-e25a-45b6-a5dc-92a3748efbbb');\n",
              "          const dataTable =\n",
              "            await google.colab.kernel.invokeFunction('convertToInteractive',\n",
              "                                                     [key], {});\n",
              "          if (!dataTable) return;\n",
              "\n",
              "          const docLinkHtml = 'Like what you see? Visit the ' +\n",
              "            '<a target=\"_blank\" href=https://colab.research.google.com/notebooks/data_table.ipynb>data table notebook</a>'\n",
              "            + ' to learn more about interactive tables.';\n",
              "          element.innerHTML = '';\n",
              "          dataTable['output_type'] = 'display_data';\n",
              "          await google.colab.output.renderOutput(dataTable, element);\n",
              "          const docLink = document.createElement('div');\n",
              "          docLink.innerHTML = docLinkHtml;\n",
              "          element.appendChild(docLink);\n",
              "        }\n",
              "      </script>\n",
              "    </div>\n",
              "  </div>\n",
              "  "
            ]
          },
          "metadata": {},
          "execution_count": 30
        }
      ]
    },
    {
      "cell_type": "code",
      "source": [
        "grid_xgbr_edu.predict(df.iloc[[0]])\n"
      ],
      "metadata": {
        "colab": {
          "base_uri": "https://localhost:8080/"
        },
        "id": "ScThpERqIyWU",
        "outputId": "0aacd2bf-fbfd-4f10-fa5e-79c3a3703fa4"
      },
      "execution_count": 32,
      "outputs": [
        {
          "output_type": "execute_result",
          "data": {
            "text/plain": [
              "array([72.60629], dtype=float32)"
            ]
          },
          "metadata": {},
          "execution_count": 32
        }
      ]
    },
    {
      "cell_type": "markdown",
      "source": [
        "\n",
        "\n",
        "---\n",
        "\n"
      ],
      "metadata": {
        "id": "m0eX4o6RL8Qj"
      }
    },
    {
      "cell_type": "code",
      "execution_count": 34,
      "metadata": {
        "colab": {
          "base_uri": "https://localhost:8080/",
          "height": 499
        },
        "execution": {
          "iopub.execute_input": "2022-07-05T01:05:58.697717Z",
          "iopub.status.busy": "2022-07-05T01:05:58.696913Z",
          "iopub.status.idle": "2022-07-05T01:05:59.069653Z",
          "shell.execute_reply": "2022-07-05T01:05:59.068345Z",
          "shell.execute_reply.started": "2022-07-05T01:05:58.697665Z"
        },
        "id": "zH-xPhTkc8bK",
        "outputId": "99f835e1-3654-4357-93c3-926078bcdefc"
      },
      "outputs": [
        {
          "output_type": "display_data",
          "data": {
            "text/plain": [
              "<Figure size 2160x576 with 1 Axes>"
            ],
            "image/png": "[encoded data removed]"
          },
          "metadata": {
            "needs_background": "light"
          }
        }
      ],
      "source": [
        "plt.figure(figsize=(30,8))\n",
        "x_ax = range(len(y_test))\n",
        "plt.plot(x_ax, y_test, label=\"Notas reais\")\n",
        "plt.plot(x_ax, y_pred_test, label=\"Notas preditas\")\n",
        "plt.title(\"Notas reais | Notas preditas\")\n",
        "plt.legend()\n",
        "plt.show();"
      ]
    },
    {
      "cell_type": "code",
      "source": [
        "sns.jointplot(y_test, y_pred_test)\n",
        "plt.xlabel(\"Valores reais\")\n",
        "plt.ylabel(\"Valores preditos\");"
      ],
      "metadata": {
        "colab": {
          "base_uri": "https://localhost:8080/",
          "height": 441
        },
        "id": "E28r74CABIvg",
        "outputId": "98e1457d-1b01-4f9f-e9c3-c29f8c7418b5"
      },
      "execution_count": 35,
      "outputs": [
        {
          "output_type": "display_data",
          "data": {
            "text/plain": [
              "<Figure size 432x432 with 3 Axes>"
            ],
            "image/png": "[encoded data removed]"
          },
          "metadata": {
            "needs_background": "light"
          }
        }
      ]
    },
    {
      "cell_type": "code",
      "execution_count": 36,
      "metadata": {
        "execution": {
          "iopub.execute_input": "2022-07-04T23:50:10.517694Z",
          "iopub.status.busy": "2022-07-04T23:50:10.517196Z",
          "iopub.status.idle": "2022-07-04T23:50:10.524008Z",
          "shell.execute_reply": "2022-07-04T23:50:10.522741Z",
          "shell.execute_reply.started": "2022-07-04T23:50:10.517659Z"
        },
        "id": "0fYoLUssc8bK"
      },
      "outputs": [],
      "source": [
        "import pickle"
      ]
    },
    {
      "cell_type": "code",
      "execution_count": 38,
      "metadata": {
        "execution": {
          "iopub.execute_input": "2022-07-05T01:03:00.685460Z",
          "iopub.status.busy": "2022-07-05T01:03:00.684448Z",
          "iopub.status.idle": "2022-07-05T01:03:00.790710Z",
          "shell.execute_reply": "2022-07-05T01:03:00.788824Z",
          "shell.execute_reply.started": "2022-07-05T01:03:00.685404Z"
        },
        "id": "jfhpHY6vc8bL"
      },
      "outputs": [],
      "source": [
        "with open(\"grid_xgbr_edu.pkl\", \"wb\") as f:\n",
        "    pickle.dump(grid_xgbr_edu, f)"
      ]
    },
    {
      "cell_type": "code",
      "execution_count": null,
      "metadata": {
        "id": "sNYrXM8ec8bL"
      },
      "outputs": [],
      "source": [
        "with open(\"grid_xgbr_edu.pkl\", \"rb\") as f:\n",
        "    \n",
        "    grid_xgbr_edu = pickle.load(f)"
      ]
    },
    {
      "cell_type": "markdown",
      "metadata": {
        "id": "08Z7JIijkG8F"
      },
      "source": [
        "**Vamos criar uma tabela com a porcentagem de acertos para cada dado**"
      ]
    },
    {
      "cell_type": "code",
      "execution_count": 39,
      "metadata": {
        "execution": {
          "iopub.execute_input": "2022-07-05T01:07:40.588922Z",
          "iopub.status.busy": "2022-07-05T01:07:40.588438Z",
          "iopub.status.idle": "2022-07-05T01:07:40.596087Z",
          "shell.execute_reply": "2022-07-05T01:07:40.594620Z",
          "shell.execute_reply.started": "2022-07-05T01:07:40.588882Z"
        },
        "id": "XVSopcR-c8bM"
      },
      "outputs": [],
      "source": [
        "tabela = pd.DataFrame()"
      ]
    },
    {
      "cell_type": "code",
      "execution_count": 40,
      "metadata": {
        "execution": {
          "iopub.execute_input": "2022-07-05T01:08:00.638005Z",
          "iopub.status.busy": "2022-07-05T01:08:00.637552Z",
          "iopub.status.idle": "2022-07-05T01:08:00.646545Z",
          "shell.execute_reply": "2022-07-05T01:08:00.645413Z",
          "shell.execute_reply.started": "2022-07-05T01:08:00.637972Z"
        },
        "id": "I96XCUNXc8bN"
      },
      "outputs": [],
      "source": [
        "tabela[\"valores reais\"] = y_test"
      ]
    },
    {
      "cell_type": "code",
      "execution_count": 41,
      "metadata": {
        "execution": {
          "iopub.execute_input": "2022-07-05T01:08:27.467412Z",
          "iopub.status.busy": "2022-07-05T01:08:27.466894Z",
          "iopub.status.idle": "2022-07-05T01:08:27.474561Z",
          "shell.execute_reply": "2022-07-05T01:08:27.473152Z",
          "shell.execute_reply.started": "2022-07-05T01:08:27.467371Z"
        },
        "id": "aLkGND4Lc8bN"
      },
      "outputs": [],
      "source": [
        "tabela[\"valores preditos\"] = y_pred_test"
      ]
    },
    {
      "cell_type": "code",
      "execution_count": 42,
      "metadata": {
        "colab": {
          "base_uri": "https://localhost:8080/",
          "height": 424
        },
        "id": "z-k7Efca6tuX",
        "outputId": "74ba81b9-5e9c-4c16-8212-dbe2b59f62b2"
      },
      "outputs": [
        {
          "output_type": "execute_result",
          "data": {
            "text/plain": [
              "     valores reais  valores preditos\n",
              "518      74.000000         74.022049\n",
              "871      72.666667         72.554283\n",
              "797      78.333333         78.446815\n",
              "274      83.000000         82.962883\n",
              "325      88.666667         88.579971\n",
              "..             ...               ...\n",
              "909      68.000000         68.002556\n",
              "757      70.000000         70.254868\n",
              "965      68.000000         67.900597\n",
              "4        76.333333         76.378593\n",
              "151      70.666667         70.793442\n",
              "\n",
              "[200 rows x 2 columns]"
            ],
            "text/html": [
              "\n",
              "  <div id=\"df-53bad0be-1e67-4465-98b5-d0cab1323561\">\n",
              "    <div class=\"colab-df-container\">\n",
              "      <div>\n",
              "<style scoped>\n",
              "    .dataframe tbody tr th:only-of-type {\n",
              "        vertical-align: middle;\n",
              "    }\n",
              "\n",
              "    .dataframe tbody tr th {\n",
              "        vertical-align: top;\n",
              "    }\n",
              "\n",
              "    .dataframe thead th {\n",
              "        text-align: right;\n",
              "    }\n",
              "</style>\n",
              "<table border=\"1\" class=\"dataframe\">\n",
              "  <thead>\n",
              "    <tr style=\"text-align: right;\">\n",
              "      <th></th>\n",
              "      <th>valores reais</th>\n",
              "      <th>valores preditos</th>\n",
              "    </tr>\n",
              "  </thead>\n",
              "  <tbody>\n",
              "    <tr>\n",
              "      <th>518</th>\n",
              "      <td>74.000000</td>\n",
              "      <td>74.022049</td>\n",
              "    </tr>\n",
              "    <tr>\n",
              "      <th>871</th>\n",
              "      <td>72.666667</td>\n",
              "      <td>72.554283</td>\n",
              "    </tr>\n",
              "    <tr>\n",
              "      <th>797</th>\n",
              "      <td>78.333333</td>\n",
              "      <td>78.446815</td>\n",
              "    </tr>\n",
              "    <tr>\n",
              "      <th>274</th>\n",
              "      <td>83.000000</td>\n",
              "      <td>82.962883</td>\n",
              "    </tr>\n",
              "    <tr>\n",
              "      <th>325</th>\n",
              "      <td>88.666667</td>\n",
              "      <td>88.579971</td>\n",
              "    </tr>\n",
              "    <tr>\n",
              "      <th>...</th>\n",
              "      <td>...</td>\n",
              "      <td>...</td>\n",
              "    </tr>\n",
              "    <tr>\n",
              "      <th>909</th>\n",
              "      <td>68.000000</td>\n",
              "      <td>68.002556</td>\n",
              "    </tr>\n",
              "    <tr>\n",
              "      <th>757</th>\n",
              "      <td>70.000000</td>\n",
              "      <td>70.254868</td>\n",
              "    </tr>\n",
              "    <tr>\n",
              "      <th>965</th>\n",
              "      <td>68.000000</td>\n",
              "      <td>67.900597</td>\n",
              "    </tr>\n",
              "    <tr>\n",
              "      <th>4</th>\n",
              "      <td>76.333333</td>\n",
              "      <td>76.378593</td>\n",
              "    </tr>\n",
              "    <tr>\n",
              "      <th>151</th>\n",
              "      <td>70.666667</td>\n",
              "      <td>70.793442</td>\n",
              "    </tr>\n",
              "  </tbody>\n",
              "</table>\n",
              "<p>200 rows × 2 columns</p>\n",
              "</div>\n",
              "      <button class=\"colab-df-convert\" onclick=\"convertToInteractive('df-53bad0be-1e67-4465-98b5-d0cab1323561')\"\n",
              "              title=\"Convert this dataframe to an interactive table.\"\n",
              "              style=\"display:none;\">\n",
              "        \n",
              "  <svg xmlns=\"http://www.w3.org/2000/svg\" height=\"24px\"viewBox=\"0 0 24 24\"\n",
              "       width=\"24px\">\n",
              "    <path d=\"M0 0h24v24H0V0z\" fill=\"none\"/>\n",
              "    <path d=\"M18.56 5.44l.94 2.06.94-2.06 2.06-.94-2.06-.94-.94-2.06-.94 2.06-2.06.94zm-11 1L8.5 8.5l.94-2.06 2.06-.94-2.06-.94L8.5 2.5l-.94 2.06-2.06.94zm10 10l.94 2.06.94-2.06 2.06-.94-2.06-.94-.94-2.06-.94 2.06-2.06.94z\"/><path d=\"M17.41 7.96l-1.37-1.37c-.4-.4-.92-.59-1.43-.59-.52 0-1.04.2-1.43.59L10.3 9.45l-7.72 7.72c-.78.78-.78 2.05 0 2.83L4 21.41c.39.39.9.59 1.41.59.51 0 1.02-.2 1.41-.59l7.78-7.78 2.81-2.81c.8-.78.8-2.07 0-2.86zM5.41 20L4 18.59l7.72-7.72 1.47 1.35L5.41 20z\"/>\n",
              "  </svg>\n",
              "      </button>\n",
              "      \n",
              "  <style>\n",
              "    .colab-df-container {\n",
              "      display:flex;\n",
              "      flex-wrap:wrap;\n",
              "      gap: 12px;\n",
              "    }\n",
              "\n",
              "    .colab-df-convert {\n",
              "      background-color: #E8F0FE;\n",
              "      border: none;\n",
              "      border-radius: 50%;\n",
              "      cursor: pointer;\n",
              "      display: none;\n",
              "      fill: #1967D2;\n",
              "      height: 32px;\n",
              "      padding: 0 0 0 0;\n",
              "      width: 32px;\n",
              "    }\n",
              "\n",
              "    .colab-df-convert:hover {\n",
              "      background-color: #E2EBFA;\n",
              "      box-shadow: 0px 1px 2px rgba(60, 64, 67, 0.3), 0px 1px 3px 1px rgba(60, 64, 67, 0.15);\n",
              "      fill: #174EA6;\n",
              "    }\n",
              "\n",
              "    [theme=dark] .colab-df-convert {\n",
              "      background-color: #3B4455;\n",
              "      fill: #D2E3FC;\n",
              "    }\n",
              "\n",
              "    [theme=dark] .colab-df-convert:hover {\n",
              "      background-color: #434B5C;\n",
              "      box-shadow: 0px 1px 3px 1px rgba(0, 0, 0, 0.15);\n",
              "      filter: drop-shadow(0px 1px 2px rgba(0, 0, 0, 0.3));\n",
              "      fill: #FFFFFF;\n",
              "    }\n",
              "  </style>\n",
              "\n",
              "      <script>\n",
              "        const buttonEl =\n",
              "          document.querySelector('#df-53bad0be-1e67-4465-98b5-d0cab1323561 button.colab-df-convert');\n",
              "        buttonEl.style.display =\n",
              "          google.colab.kernel.accessAllowed ? 'block' : 'none';\n",
              "\n",
              "        async function convertToInteractive(key) {\n",
              "          const element = document.querySelector('#df-53bad0be-1e67-4465-98b5-d0cab1323561');\n",
              "          const dataTable =\n",
              "            await google.colab.kernel.invokeFunction('convertToInteractive',\n",
              "                                                     [key], {});\n",
              "          if (!dataTable) return;\n",
              "\n",
              "          const docLinkHtml = 'Like what you see? Visit the ' +\n",
              "            '<a target=\"_blank\" href=https://colab.research.google.com/notebooks/data_table.ipynb>data table notebook</a>'\n",
              "            + ' to learn more about interactive tables.';\n",
              "          element.innerHTML = '';\n",
              "          dataTable['output_type'] = 'display_data';\n",
              "          await google.colab.output.renderOutput(dataTable, element);\n",
              "          const docLink = document.createElement('div');\n",
              "          docLink.innerHTML = docLinkHtml;\n",
              "          element.appendChild(docLink);\n",
              "        }\n",
              "      </script>\n",
              "    </div>\n",
              "  </div>\n",
              "  "
            ]
          },
          "metadata": {},
          "execution_count": 42
        }
      ],
      "source": [
        "tabela"
      ]
    },
    {
      "cell_type": "code",
      "source": [
        "tabela.to_csv(\"07_educacao_xgbr.csv\")"
      ],
      "metadata": {
        "id": "b3eyrvh_7Vor"
      },
      "execution_count": 43,
      "outputs": []
    },
    {
      "cell_type": "markdown",
      "source": [
        "## **Intervalo de confiança do XGBoost - Vamos simular intervalos para amostras com 30 e 100 dados:**"
      ],
      "metadata": {
        "id": "SPNy7bmrlPvy"
      }
    },
    {
      "cell_type": "code",
      "source": [
        "from sklearn.metrics import accuracy_score\n",
        "from sklearn.model_selection import cross_val_score, KFold\n",
        "from scipy.stats import norm\n",
        "from scipy import stats\n",
        "from scipy.stats import t"
      ],
      "metadata": {
        "id": "_q6SjEsglPvy"
      },
      "execution_count": 44,
      "outputs": []
    },
    {
      "cell_type": "code",
      "source": [
        "df = pd.read_csv(\"StudentsPerformance.csv\")"
      ],
      "metadata": {
        "id": "vixTw5DYMlSY"
      },
      "execution_count": 45,
      "outputs": []
    },
    {
      "cell_type": "code",
      "source": [
        "curso_notas = df[[\"test preparation course\", \"math score\", \"reading score\", \"writing score\"]]\n",
        "df_notas = df[[\"math score\", \"reading score\", \"writing score\"]]"
      ],
      "metadata": {
        "id": "Y5mNiEQkMlSZ"
      },
      "execution_count": 46,
      "outputs": []
    },
    {
      "cell_type": "code",
      "source": [
        "lista_col = []\n",
        "lista_media = []\n",
        "for col in df_notas:\n",
        "    lista_col.append(col)\n",
        "for num in range(len(df_notas)):\n",
        "  media = (df_notas[lista_col[0]].iloc[num] + df_notas[lista_col[1]].iloc[num] + df_notas[lista_col[2]].iloc[num])/3\n",
        "  lista_media.append(media)\n",
        "curso_notas[\"media\"] = lista_media\n",
        "df[\"media\"] = lista_media\n",
        "df.head()"
      ],
      "metadata": {
        "colab": {
          "base_uri": "https://localhost:8080/",
          "height": 206
        },
        "outputId": "69e5f05e-e794-4314-c82f-affcec51b9d5",
        "id": "mGXyHRZOMlSZ"
      },
      "execution_count": 47,
      "outputs": [
        {
          "output_type": "execute_result",
          "data": {
            "text/plain": [
              "   gender race/ethnicity parental level of education         lunch  \\\n",
              "0  female        group B           bachelor's degree      standard   \n",
              "1  female        group C                some college      standard   \n",
              "2  female        group B             master's degree      standard   \n",
              "3    male        group A          associate's degree  free/reduced   \n",
              "4    male        group C                some college      standard   \n",
              "\n",
              "  test preparation course  math score  reading score  writing score      media  \n",
              "0                    none          72             72             74  72.666667  \n",
              "1               completed          69             90             88  82.333333  \n",
              "2                    none          90             95             93  92.666667  \n",
              "3                    none          47             57             44  49.333333  \n",
              "4                    none          76             78             75  76.333333  "
            ],
            "text/html": [
              "\n",
              "  <div id=\"df-41b331c0-cf91-41e8-a6dc-0dd63d27ee0c\">\n",
              "    <div class=\"colab-df-container\">\n",
              "      <div>\n",
              "<style scoped>\n",
              "    .dataframe tbody tr th:only-of-type {\n",
              "        vertical-align: middle;\n",
              "    }\n",
              "\n",
              "    .dataframe tbody tr th {\n",
              "        vertical-align: top;\n",
              "    }\n",
              "\n",
              "    .dataframe thead th {\n",
              "        text-align: right;\n",
              "    }\n",
              "</style>\n",
              "<table border=\"1\" class=\"dataframe\">\n",
              "  <thead>\n",
              "    <tr style=\"text-align: right;\">\n",
              "      <th></th>\n",
              "      <th>gender</th>\n",
              "      <th>race/ethnicity</th>\n",
              "      <th>parental level of education</th>\n",
              "      <th>lunch</th>\n",
              "      <th>test preparation course</th>\n",
              "      <th>math score</th>\n",
              "      <th>reading score</th>\n",
              "      <th>writing score</th>\n",
              "      <th>media</th>\n",
              "    </tr>\n",
              "  </thead>\n",
              "  <tbody>\n",
              "    <tr>\n",
              "      <th>0</th>\n",
              "      <td>female</td>\n",
              "      <td>group B</td>\n",
              "      <td>bachelor's degree</td>\n",
              "      <td>standard</td>\n",
              "      <td>none</td>\n",
              "      <td>72</td>\n",
              "      <td>72</td>\n",
              "      <td>74</td>\n",
              "      <td>72.666667</td>\n",
              "    </tr>\n",
              "    <tr>\n",
              "      <th>1</th>\n",
              "      <td>female</td>\n",
              "      <td>group C</td>\n",
              "      <td>some college</td>\n",
              "      <td>standard</td>\n",
              "      <td>completed</td>\n",
              "      <td>69</td>\n",
              "      <td>90</td>\n",
              "      <td>88</td>\n",
              "      <td>82.333333</td>\n",
              "    </tr>\n",
              "    <tr>\n",
              "      <th>2</th>\n",
              "      <td>female</td>\n",
              "      <td>group B</td>\n",
              "      <td>master's degree</td>\n",
              "      <td>standard</td>\n",
              "      <td>none</td>\n",
              "      <td>90</td>\n",
              "      <td>95</td>\n",
              "      <td>93</td>\n",
              "      <td>92.666667</td>\n",
              "    </tr>\n",
              "    <tr>\n",
              "      <th>3</th>\n",
              "      <td>male</td>\n",
              "      <td>group A</td>\n",
              "      <td>associate's degree</td>\n",
              "      <td>free/reduced</td>\n",
              "      <td>none</td>\n",
              "      <td>47</td>\n",
              "      <td>57</td>\n",
              "      <td>44</td>\n",
              "      <td>49.333333</td>\n",
              "    </tr>\n",
              "    <tr>\n",
              "      <th>4</th>\n",
              "      <td>male</td>\n",
              "      <td>group C</td>\n",
              "      <td>some college</td>\n",
              "      <td>standard</td>\n",
              "      <td>none</td>\n",
              "      <td>76</td>\n",
              "      <td>78</td>\n",
              "      <td>75</td>\n",
              "      <td>76.333333</td>\n",
              "    </tr>\n",
              "  </tbody>\n",
              "</table>\n",
              "</div>\n",
              "      <button class=\"colab-df-convert\" onclick=\"convertToInteractive('df-41b331c0-cf91-41e8-a6dc-0dd63d27ee0c')\"\n",
              "              title=\"Convert this dataframe to an interactive table.\"\n",
              "              style=\"display:none;\">\n",
              "        \n",
              "  <svg xmlns=\"http://www.w3.org/2000/svg\" height=\"24px\"viewBox=\"0 0 24 24\"\n",
              "       width=\"24px\">\n",
              "    <path d=\"M0 0h24v24H0V0z\" fill=\"none\"/>\n",
              "    <path d=\"M18.56 5.44l.94 2.06.94-2.06 2.06-.94-2.06-.94-.94-2.06-.94 2.06-2.06.94zm-11 1L8.5 8.5l.94-2.06 2.06-.94-2.06-.94L8.5 2.5l-.94 2.06-2.06.94zm10 10l.94 2.06.94-2.06 2.06-.94-2.06-.94-.94-2.06-.94 2.06-2.06.94z\"/><path d=\"M17.41 7.96l-1.37-1.37c-.4-.4-.92-.59-1.43-.59-.52 0-1.04.2-1.43.59L10.3 9.45l-7.72 7.72c-.78.78-.78 2.05 0 2.83L4 21.41c.39.39.9.59 1.41.59.51 0 1.02-.2 1.41-.59l7.78-7.78 2.81-2.81c.8-.78.8-2.07 0-2.86zM5.41 20L4 18.59l7.72-7.72 1.47 1.35L5.41 20z\"/>\n",
              "  </svg>\n",
              "      </button>\n",
              "      \n",
              "  <style>\n",
              "    .colab-df-container {\n",
              "      display:flex;\n",
              "      flex-wrap:wrap;\n",
              "      gap: 12px;\n",
              "    }\n",
              "\n",
              "    .colab-df-convert {\n",
              "      background-color: #E8F0FE;\n",
              "      border: none;\n",
              "      border-radius: 50%;\n",
              "      cursor: pointer;\n",
              "      display: none;\n",
              "      fill: #1967D2;\n",
              "      height: 32px;\n",
              "      padding: 0 0 0 0;\n",
              "      width: 32px;\n",
              "    }\n",
              "\n",
              "    .colab-df-convert:hover {\n",
              "      background-color: #E2EBFA;\n",
              "      box-shadow: 0px 1px 2px rgba(60, 64, 67, 0.3), 0px 1px 3px 1px rgba(60, 64, 67, 0.15);\n",
              "      fill: #174EA6;\n",
              "    }\n",
              "\n",
              "    [theme=dark] .colab-df-convert {\n",
              "      background-color: #3B4455;\n",
              "      fill: #D2E3FC;\n",
              "    }\n",
              "\n",
              "    [theme=dark] .colab-df-convert:hover {\n",
              "      background-color: #434B5C;\n",
              "      box-shadow: 0px 1px 3px 1px rgba(0, 0, 0, 0.15);\n",
              "      filter: drop-shadow(0px 1px 2px rgba(0, 0, 0, 0.3));\n",
              "      fill: #FFFFFF;\n",
              "    }\n",
              "  </style>\n",
              "\n",
              "      <script>\n",
              "        const buttonEl =\n",
              "          document.querySelector('#df-41b331c0-cf91-41e8-a6dc-0dd63d27ee0c button.colab-df-convert');\n",
              "        buttonEl.style.display =\n",
              "          google.colab.kernel.accessAllowed ? 'block' : 'none';\n",
              "\n",
              "        async function convertToInteractive(key) {\n",
              "          const element = document.querySelector('#df-41b331c0-cf91-41e8-a6dc-0dd63d27ee0c');\n",
              "          const dataTable =\n",
              "            await google.colab.kernel.invokeFunction('convertToInteractive',\n",
              "                                                     [key], {});\n",
              "          if (!dataTable) return;\n",
              "\n",
              "          const docLinkHtml = 'Like what you see? Visit the ' +\n",
              "            '<a target=\"_blank\" href=https://colab.research.google.com/notebooks/data_table.ipynb>data table notebook</a>'\n",
              "            + ' to learn more about interactive tables.';\n",
              "          element.innerHTML = '';\n",
              "          dataTable['output_type'] = 'display_data';\n",
              "          await google.colab.output.renderOutput(dataTable, element);\n",
              "          const docLink = document.createElement('div');\n",
              "          docLink.innerHTML = docLinkHtml;\n",
              "          element.appendChild(docLink);\n",
              "        }\n",
              "      </script>\n",
              "    </div>\n",
              "  </div>\n",
              "  "
            ]
          },
          "metadata": {},
          "execution_count": 47
        }
      ]
    },
    {
      "cell_type": "markdown",
      "source": [
        "**Transformando as Features categóricas em numéricas - OrdinalEncoder() - Feature com mais de 2 dados diferentes.**"
      ],
      "metadata": {
        "id": "GhA18QqjMlSZ"
      }
    },
    {
      "cell_type": "code",
      "source": [
        "oe =  OrdinalEncoder()\n",
        "oe.fit(df[[\"gender\", \"test preparation course\", \"lunch\", \"race/ethnicity\", \"parental level of education\"]])\n",
        "\n",
        "df[[\"gender\", \"test preparation course\", \"lunch\", \"race/ethnicity\", \"parental level of education\"]] = oe.transform(df[[\"gender\", \"test preparation course\", \"lunch\", \"race/ethnicity\", \"parental level of education\"]])"
      ],
      "metadata": {
        "id": "JYQR5ExDMlSa"
      },
      "execution_count": 57,
      "outputs": []
    },
    {
      "cell_type": "markdown",
      "source": [
        "**Vamos escalonar todas as Features, pois a amplitude entre os dados está muito grande, isso pode causar um viés no resultado final:**"
      ],
      "metadata": {
        "id": "1d6HobLBMlSa"
      }
    },
    {
      "cell_type": "code",
      "source": [
        "df.columns"
      ],
      "metadata": {
        "colab": {
          "base_uri": "https://localhost:8080/"
        },
        "outputId": "84a87a95-afdc-462c-ba6a-2129d7be8390",
        "id": "KP543cPAMlSa"
      },
      "execution_count": null,
      "outputs": [
        {
          "output_type": "execute_result",
          "data": {
            "text/plain": [
              "Index(['gender', 'race/ethnicity', 'parental level of education', 'lunch',\n",
              "       'test preparation course', 'math score', 'reading score',\n",
              "       'writing score', 'media'],\n",
              "      dtype='object')"
            ]
          },
          "metadata": {},
          "execution_count": 117
        }
      ]
    },
    {
      "cell_type": "code",
      "source": [
        "ssc = StandardScaler()\n",
        "\n",
        "ssc.fit(df[['gender', 'race/ethnicity', 'parental level of education', 'lunch', 'test preparation course', 'math score', 'reading score','writing score']])\n",
        "h= ssc.transform(df[['gender', 'race/ethnicity', 'parental level of education', 'lunch', 'test preparation course', 'math score', 'reading score', 'writing score']])\n",
        "df[['gender', 'race/ethnicity', 'parental level of education', 'lunch', 'test preparation course', 'math score', 'reading score', 'writing score']] = h"
      ],
      "metadata": {
        "id": "Bj53zT0TMlSa"
      },
      "execution_count": 58,
      "outputs": []
    },
    {
      "cell_type": "code",
      "source": [
        "df"
      ],
      "metadata": {
        "colab": {
          "base_uri": "https://localhost:8080/",
          "height": 424
        },
        "id": "CxD6EaUT7vJr",
        "outputId": "32543b92-873d-4fcb-c15c-2ac2567a41c3"
      },
      "execution_count": 59,
      "outputs": [
        {
          "output_type": "execute_result",
          "data": {
            "text/plain": [
              "       gender  race/ethnicity  parental level of education     lunch  \\\n",
              "0   -0.964625       -1.015044                    -0.812640  0.741881   \n",
              "1   -0.964625       -0.150441                     0.827953  0.741881   \n",
              "2   -0.964625       -1.015044                     0.281088  0.741881   \n",
              "3    1.036672       -1.879647                    -1.359505 -1.347925   \n",
              "4    1.036672       -0.150441                     0.827953  0.741881   \n",
              "..        ...             ...                          ...       ...   \n",
              "995 -0.964625        1.578765                     0.281088  0.741881   \n",
              "996  1.036672       -0.150441                    -0.265776 -1.347925   \n",
              "997 -0.964625       -0.150441                    -0.265776 -1.347925   \n",
              "998 -0.964625        0.714162                     0.827953  0.741881   \n",
              "999 -0.964625        0.714162                     0.827953 -1.347925   \n",
              "\n",
              "     test preparation course  math score  reading score  writing score  \\\n",
              "0                   0.746748    0.390024       0.193999       0.391492   \n",
              "1                  -1.339140    0.192076       1.427476       1.313269   \n",
              "2                   0.746748    1.577711       1.770109       1.642475   \n",
              "3                   0.746748   -1.259543      -0.833899      -1.583744   \n",
              "4                   0.746748    0.653954       0.605158       0.457333   \n",
              "..                       ...         ...            ...            ...   \n",
              "995                -1.339140    1.445746       2.044215       1.774157   \n",
              "996                 0.746748   -0.269803      -0.970952      -0.859491   \n",
              "997                -1.339140   -0.467751       0.125472      -0.201079   \n",
              "998                -1.339140    0.126093       0.605158       0.589015   \n",
              "999                 0.746748    0.719937       1.153370       1.181586   \n",
              "\n",
              "         media  \n",
              "0    72.666667  \n",
              "1    82.333333  \n",
              "2    92.666667  \n",
              "3    49.333333  \n",
              "4    76.333333  \n",
              "..         ...  \n",
              "995  94.000000  \n",
              "996  57.333333  \n",
              "997  65.000000  \n",
              "998  74.333333  \n",
              "999  83.000000  \n",
              "\n",
              "[1000 rows x 9 columns]"
            ],
            "text/html": [
              "\n",
              "  <div id=\"df-0751ff3e-52c9-4a92-8289-3fb8bdb53146\">\n",
              "    <div class=\"colab-df-container\">\n",
              "      <div>\n",
              "<style scoped>\n",
              "    .dataframe tbody tr th:only-of-type {\n",
              "        vertical-align: middle;\n",
              "    }\n",
              "\n",
              "    .dataframe tbody tr th {\n",
              "        vertical-align: top;\n",
              "    }\n",
              "\n",
              "    .dataframe thead th {\n",
              "        text-align: right;\n",
              "    }\n",
              "</style>\n",
              "<table border=\"1\" class=\"dataframe\">\n",
              "  <thead>\n",
              "    <tr style=\"text-align: right;\">\n",
              "      <th></th>\n",
              "      <th>gender</th>\n",
              "      <th>race/ethnicity</th>\n",
              "      <th>parental level of education</th>\n",
              "      <th>lunch</th>\n",
              "      <th>test preparation course</th>\n",
              "      <th>math score</th>\n",
              "      <th>reading score</th>\n",
              "      <th>writing score</th>\n",
              "      <th>media</th>\n",
              "    </tr>\n",
              "  </thead>\n",
              "  <tbody>\n",
              "    <tr>\n",
              "      <th>0</th>\n",
              "      <td>-0.964625</td>\n",
              "      <td>-1.015044</td>\n",
              "      <td>-0.812640</td>\n",
              "      <td>0.741881</td>\n",
              "      <td>0.746748</td>\n",
              "      <td>0.390024</td>\n",
              "      <td>0.193999</td>\n",
              "      <td>0.391492</td>\n",
              "      <td>72.666667</td>\n",
              "    </tr>\n",
              "    <tr>\n",
              "      <th>1</th>\n",
              "      <td>-0.964625</td>\n",
              "      <td>-0.150441</td>\n",
              "      <td>0.827953</td>\n",
              "      <td>0.741881</td>\n",
              "      <td>-1.339140</td>\n",
              "      <td>0.192076</td>\n",
              "      <td>1.427476</td>\n",
              "      <td>1.313269</td>\n",
              "      <td>82.333333</td>\n",
              "    </tr>\n",
              "    <tr>\n",
              "      <th>2</th>\n",
              "      <td>-0.964625</td>\n",
              "      <td>-1.015044</td>\n",
              "      <td>0.281088</td>\n",
              "      <td>0.741881</td>\n",
              "      <td>0.746748</td>\n",
              "      <td>1.577711</td>\n",
              "      <td>1.770109</td>\n",
              "      <td>1.642475</td>\n",
              "      <td>92.666667</td>\n",
              "    </tr>\n",
              "    <tr>\n",
              "      <th>3</th>\n",
              "      <td>1.036672</td>\n",
              "      <td>-1.879647</td>\n",
              "      <td>-1.359505</td>\n",
              "      <td>-1.347925</td>\n",
              "      <td>0.746748</td>\n",
              "      <td>-1.259543</td>\n",
              "      <td>-0.833899</td>\n",
              "      <td>-1.583744</td>\n",
              "      <td>49.333333</td>\n",
              "    </tr>\n",
              "    <tr>\n",
              "      <th>4</th>\n",
              "      <td>1.036672</td>\n",
              "      <td>-0.150441</td>\n",
              "      <td>0.827953</td>\n",
              "      <td>0.741881</td>\n",
              "      <td>0.746748</td>\n",
              "      <td>0.653954</td>\n",
              "      <td>0.605158</td>\n",
              "      <td>0.457333</td>\n",
              "      <td>76.333333</td>\n",
              "    </tr>\n",
              "    <tr>\n",
              "      <th>...</th>\n",
              "      <td>...</td>\n",
              "      <td>...</td>\n",
              "      <td>...</td>\n",
              "      <td>...</td>\n",
              "      <td>...</td>\n",
              "      <td>...</td>\n",
              "      <td>...</td>\n",
              "      <td>...</td>\n",
              "      <td>...</td>\n",
              "    </tr>\n",
              "    <tr>\n",
              "      <th>995</th>\n",
              "      <td>-0.964625</td>\n",
              "      <td>1.578765</td>\n",
              "      <td>0.281088</td>\n",
              "      <td>0.741881</td>\n",
              "      <td>-1.339140</td>\n",
              "      <td>1.445746</td>\n",
              "      <td>2.044215</td>\n",
              "      <td>1.774157</td>\n",
              "      <td>94.000000</td>\n",
              "    </tr>\n",
              "    <tr>\n",
              "      <th>996</th>\n",
              "      <td>1.036672</td>\n",
              "      <td>-0.150441</td>\n",
              "      <td>-0.265776</td>\n",
              "      <td>-1.347925</td>\n",
              "      <td>0.746748</td>\n",
              "      <td>-0.269803</td>\n",
              "      <td>-0.970952</td>\n",
              "      <td>-0.859491</td>\n",
              "      <td>57.333333</td>\n",
              "    </tr>\n",
              "    <tr>\n",
              "      <th>997</th>\n",
              "      <td>-0.964625</td>\n",
              "      <td>-0.150441</td>\n",
              "      <td>-0.265776</td>\n",
              "      <td>-1.347925</td>\n",
              "      <td>-1.339140</td>\n",
              "      <td>-0.467751</td>\n",
              "      <td>0.125472</td>\n",
              "      <td>-0.201079</td>\n",
              "      <td>65.000000</td>\n",
              "    </tr>\n",
              "    <tr>\n",
              "      <th>998</th>\n",
              "      <td>-0.964625</td>\n",
              "      <td>0.714162</td>\n",
              "      <td>0.827953</td>\n",
              "      <td>0.741881</td>\n",
              "      <td>-1.339140</td>\n",
              "      <td>0.126093</td>\n",
              "      <td>0.605158</td>\n",
              "      <td>0.589015</td>\n",
              "      <td>74.333333</td>\n",
              "    </tr>\n",
              "    <tr>\n",
              "      <th>999</th>\n",
              "      <td>-0.964625</td>\n",
              "      <td>0.714162</td>\n",
              "      <td>0.827953</td>\n",
              "      <td>-1.347925</td>\n",
              "      <td>0.746748</td>\n",
              "      <td>0.719937</td>\n",
              "      <td>1.153370</td>\n",
              "      <td>1.181586</td>\n",
              "      <td>83.000000</td>\n",
              "    </tr>\n",
              "  </tbody>\n",
              "</table>\n",
              "<p>1000 rows × 9 columns</p>\n",
              "</div>\n",
              "      <button class=\"colab-df-convert\" onclick=\"convertToInteractive('df-0751ff3e-52c9-4a92-8289-3fb8bdb53146')\"\n",
              "              title=\"Convert this dataframe to an interactive table.\"\n",
              "              style=\"display:none;\">\n",
              "        \n",
              "  <svg xmlns=\"http://www.w3.org/2000/svg\" height=\"24px\"viewBox=\"0 0 24 24\"\n",
              "       width=\"24px\">\n",
              "    <path d=\"M0 0h24v24H0V0z\" fill=\"none\"/>\n",
              "    <path d=\"M18.56 5.44l.94 2.06.94-2.06 2.06-.94-2.06-.94-.94-2.06-.94 2.06-2.06.94zm-11 1L8.5 8.5l.94-2.06 2.06-.94-2.06-.94L8.5 2.5l-.94 2.06-2.06.94zm10 10l.94 2.06.94-2.06 2.06-.94-2.06-.94-.94-2.06-.94 2.06-2.06.94z\"/><path d=\"M17.41 7.96l-1.37-1.37c-.4-.4-.92-.59-1.43-.59-.52 0-1.04.2-1.43.59L10.3 9.45l-7.72 7.72c-.78.78-.78 2.05 0 2.83L4 21.41c.39.39.9.59 1.41.59.51 0 1.02-.2 1.41-.59l7.78-7.78 2.81-2.81c.8-.78.8-2.07 0-2.86zM5.41 20L4 18.59l7.72-7.72 1.47 1.35L5.41 20z\"/>\n",
              "  </svg>\n",
              "      </button>\n",
              "      \n",
              "  <style>\n",
              "    .colab-df-container {\n",
              "      display:flex;\n",
              "      flex-wrap:wrap;\n",
              "      gap: 12px;\n",
              "    }\n",
              "\n",
              "    .colab-df-convert {\n",
              "      background-color: #E8F0FE;\n",
              "      border: none;\n",
              "      border-radius: 50%;\n",
              "      cursor: pointer;\n",
              "      display: none;\n",
              "      fill: #1967D2;\n",
              "      height: 32px;\n",
              "      padding: 0 0 0 0;\n",
              "      width: 32px;\n",
              "    }\n",
              "\n",
              "    .colab-df-convert:hover {\n",
              "      background-color: #E2EBFA;\n",
              "      box-shadow: 0px 1px 2px rgba(60, 64, 67, 0.3), 0px 1px 3px 1px rgba(60, 64, 67, 0.15);\n",
              "      fill: #174EA6;\n",
              "    }\n",
              "\n",
              "    [theme=dark] .colab-df-convert {\n",
              "      background-color: #3B4455;\n",
              "      fill: #D2E3FC;\n",
              "    }\n",
              "\n",
              "    [theme=dark] .colab-df-convert:hover {\n",
              "      background-color: #434B5C;\n",
              "      box-shadow: 0px 1px 3px 1px rgba(0, 0, 0, 0.15);\n",
              "      filter: drop-shadow(0px 1px 2px rgba(0, 0, 0, 0.3));\n",
              "      fill: #FFFFFF;\n",
              "    }\n",
              "  </style>\n",
              "\n",
              "      <script>\n",
              "        const buttonEl =\n",
              "          document.querySelector('#df-0751ff3e-52c9-4a92-8289-3fb8bdb53146 button.colab-df-convert');\n",
              "        buttonEl.style.display =\n",
              "          google.colab.kernel.accessAllowed ? 'block' : 'none';\n",
              "\n",
              "        async function convertToInteractive(key) {\n",
              "          const element = document.querySelector('#df-0751ff3e-52c9-4a92-8289-3fb8bdb53146');\n",
              "          const dataTable =\n",
              "            await google.colab.kernel.invokeFunction('convertToInteractive',\n",
              "                                                     [key], {});\n",
              "          if (!dataTable) return;\n",
              "\n",
              "          const docLinkHtml = 'Like what you see? Visit the ' +\n",
              "            '<a target=\"_blank\" href=https://colab.research.google.com/notebooks/data_table.ipynb>data table notebook</a>'\n",
              "            + ' to learn more about interactive tables.';\n",
              "          element.innerHTML = '';\n",
              "          dataTable['output_type'] = 'display_data';\n",
              "          await google.colab.output.renderOutput(dataTable, element);\n",
              "          const docLink = document.createElement('div');\n",
              "          docLink.innerHTML = docLinkHtml;\n",
              "          element.appendChild(docLink);\n",
              "        }\n",
              "      </script>\n",
              "    </div>\n",
              "  </div>\n",
              "  "
            ]
          },
          "metadata": {},
          "execution_count": 59
        }
      ]
    },
    {
      "cell_type": "code",
      "source": [
        "#Separando o que é features e target:\n",
        "X = df.drop(columns=\"media\")\n",
        "y = df[\"media\"]"
      ],
      "metadata": {
        "id": "cNX3XnJ4MlSb"
      },
      "execution_count": 60,
      "outputs": []
    },
    {
      "cell_type": "code",
      "source": [
        "X = np.array(X)"
      ],
      "metadata": {
        "id": "GzI-sTbDMlSb"
      },
      "execution_count": 61,
      "outputs": []
    },
    {
      "cell_type": "markdown",
      "source": [
        "**Com 30 e 90 amostras**"
      ],
      "metadata": {
        "id": "qlkfq5ohlPv1"
      }
    },
    {
      "cell_type": "code",
      "source": [
        "resultados_xgbr_cv_30 = []\n",
        "resultados_xgbr_cv_100 = []\n",
        "for i in range(10):\n",
        "  kfold = KFold(n_splits = 10, shuffle = True, random_state = i)\n",
        "  \n",
        "  xgbr = XGBRegressor(objective ='reg:squarederror')\n",
        "  scores = cross_val_score(xgbr, X, y, cv = kfold)\n",
        "  resultados_xgbr_cv_100.append(scores)\n",
        "  resultados_xgbr_cv_30.append(scores.mean())"
      ],
      "metadata": {
        "id": "9iqNqU9ilPv1"
      },
      "execution_count": 63,
      "outputs": []
    },
    {
      "cell_type": "code",
      "source": [
        "scores"
      ],
      "metadata": {
        "colab": {
          "base_uri": "https://localhost:8080/"
        },
        "outputId": "b1829007-56cf-4991-de22-4207a30261cf",
        "id": "K203AuAYlPv1"
      },
      "execution_count": 64,
      "outputs": [
        {
          "output_type": "execute_result",
          "data": {
            "text/plain": [
              "array([0.99774387, 0.99846307, 0.99790529, 0.99780912, 0.99820824,\n",
              "       0.99843955, 0.99817466, 0.99177369, 0.99768445, 0.99584223])"
            ]
          },
          "metadata": {},
          "execution_count": 64
        }
      ]
    },
    {
      "cell_type": "code",
      "source": [
        "resultados_xgbr_cv_30 = np.array(resultados_xgbr_cv_30)\n",
        "resultados_xgbr_cv_100 = np.array(np.asarray(resultados_xgbr_cv_100).reshape(-1))"
      ],
      "metadata": {
        "id": "P_g_6aB1lPv2"
      },
      "execution_count": 65,
      "outputs": []
    },
    {
      "cell_type": "markdown",
      "source": [
        "**Para 30 amostras usamos o t-student:**"
      ],
      "metadata": {
        "id": "lUqhGvjslPv2"
      }
    },
    {
      "cell_type": "code",
      "source": [
        "intervalos_xgbr_t = t.interval(0.95, len(resultados_xgbr_cv_30) - 1, \n",
        "                                    resultados_xgbr_cv_30.mean(), \n",
        "                                    stats.sem(resultados_xgbr_cv_30, ddof = 0))\n",
        "intervalos_xgbr_t"
      ],
      "metadata": {
        "colab": {
          "base_uri": "https://localhost:8080/"
        },
        "outputId": "723f06b4-8983-425e-cf1d-03495e4a3071",
        "id": "IKrjcPX9lPv2"
      },
      "execution_count": 67,
      "outputs": [
        {
          "output_type": "execute_result",
          "data": {
            "text/plain": [
              "(0.9973661237090807, 0.9975139670780697)"
            ]
          },
          "metadata": {},
          "execution_count": 67
        }
      ]
    },
    {
      "cell_type": "markdown",
      "source": [
        "**Variação do intervalo:**"
      ],
      "metadata": {
        "id": "n-hM3SlGlPv2"
      }
    },
    {
      "cell_type": "code",
      "source": [
        "abs(resultados_xgbr_cv_30.mean() - intervalos_xgbr_t[1])"
      ],
      "metadata": {
        "colab": {
          "base_uri": "https://localhost:8080/"
        },
        "outputId": "87611c01-ac84-4e1d-941a-3bfbf489a8c6",
        "id": "eLTteWC2lPv3"
      },
      "execution_count": 68,
      "outputs": [
        {
          "output_type": "execute_result",
          "data": {
            "text/plain": [
              "7.392168449449343e-05"
            ]
          },
          "metadata": {},
          "execution_count": 68
        }
      ]
    },
    {
      "cell_type": "code",
      "source": [
        "print(f\"Temos 95% de confiança de que a média de acertos do XGBoost com 30 amostras está no intervalo entre {intervalos_xgbr_t[0]*100:.2f} % e {intervalos_xgbr_t[1]*100:.2f} % com variação de {abs(resultados_xgbr_cv_30.mean() - intervalos_xgbr_t[1])} para mais e para menos\")"
      ],
      "metadata": {
        "colab": {
          "base_uri": "https://localhost:8080/"
        },
        "outputId": "b9f42ae5-26a9-46e1-b606-32d552143330",
        "id": "Yw_oxqB2lPv3"
      },
      "execution_count": 75,
      "outputs": [
        {
          "output_type": "stream",
          "name": "stdout",
          "text": [
            "Temos 95% de confiança de que a média de acertos do XGBoost com 30 amostras está no intervalo entre 99.74 % e 99.75 % com variação de 7.392168449449343e-05 para mais e para menos\n"
          ]
        }
      ]
    },
    {
      "cell_type": "markdown",
      "source": [
        "**Média do score:**"
      ],
      "metadata": {
        "id": "RBBXJalKlPv3"
      }
    },
    {
      "cell_type": "code",
      "source": [
        "pd.DataFrame(resultados_xgbr_cv_30).mean()[0]"
      ],
      "metadata": {
        "colab": {
          "base_uri": "https://localhost:8080/"
        },
        "outputId": "2c262da2-36df-4746-9597-4a844b7b6e0d",
        "id": "Ary20EI4lPv3"
      },
      "execution_count": 70,
      "outputs": [
        {
          "output_type": "execute_result",
          "data": {
            "text/plain": [
              "0.9974400453935752"
            ]
          },
          "metadata": {},
          "execution_count": 70
        }
      ]
    },
    {
      "cell_type": "markdown",
      "source": [
        "\n",
        "\n",
        "---\n",
        "\n"
      ],
      "metadata": {
        "id": "-DbFNZfAlPv3"
      }
    },
    {
      "cell_type": "markdown",
      "source": [
        "**Para 100 amostras**"
      ],
      "metadata": {
        "id": "OUZZtAPxlPv4"
      }
    },
    {
      "cell_type": "code",
      "source": [
        "intervalos_xgbr_n = norm.interval(0.95, resultados_xgbr_cv_100.mean(), \n",
        "                                       stats.sem(resultados_xgbr_cv_100))\n",
        "intervalos_xgbr_n"
      ],
      "metadata": {
        "colab": {
          "base_uri": "https://localhost:8080/"
        },
        "outputId": "58908e47-86f1-4de6-8bc9-2da2530039a8",
        "id": "Di9o-NMGlPv4"
      },
      "execution_count": 76,
      "outputs": [
        {
          "output_type": "execute_result",
          "data": {
            "text/plain": [
              "(0.9971194046112308, 0.9977606861759198)"
            ]
          },
          "metadata": {},
          "execution_count": 76
        }
      ]
    },
    {
      "cell_type": "markdown",
      "source": [
        "**Para 100 amostras ele acabou aumentando a margem de erro em relação ao de 30 amostras, o que é esperado.**"
      ],
      "metadata": {
        "id": "YJq8pi3PlPv4"
      }
    },
    {
      "cell_type": "markdown",
      "source": [
        "**Variação do intervalo:**"
      ],
      "metadata": {
        "id": "ezGtSMmPlPv4"
      }
    },
    {
      "cell_type": "code",
      "source": [
        "abs(resultados_xgbr_cv_100.mean() - intervalos_xgbr_n[1])"
      ],
      "metadata": {
        "colab": {
          "base_uri": "https://localhost:8080/"
        },
        "outputId": "e92d05a9-e79c-45dd-a20e-c54ae097a021",
        "id": "RJHTY32alPv4"
      },
      "execution_count": 77,
      "outputs": [
        {
          "output_type": "execute_result",
          "data": {
            "text/plain": [
              "0.00032064078234450566"
            ]
          },
          "metadata": {},
          "execution_count": 77
        }
      ]
    },
    {
      "cell_type": "code",
      "source": [
        "print(f\"Temos 95% de confiança de que a média de acertos do XGBoost com 90 amostras está no intervalo entre {intervalos_xgbr_n[0]*100:.2f}% e {intervalos_xgbr_n[1]*100:.2f}%\")"
      ],
      "metadata": {
        "colab": {
          "base_uri": "https://localhost:8080/"
        },
        "outputId": "d0d18934-e84a-4d46-b69f-ae918edcaab7",
        "id": "p8b4lNh_lPv5"
      },
      "execution_count": 78,
      "outputs": [
        {
          "output_type": "stream",
          "name": "stdout",
          "text": [
            "Temos 95% de confiança de que a média de acertos do XGBoost com 90 amostras está no intervalo entre 99.71% e 99.78%\n"
          ]
        }
      ]
    },
    {
      "cell_type": "markdown",
      "source": [
        "**Média do score:**"
      ],
      "metadata": {
        "id": "uHHTgNdklPv4"
      }
    },
    {
      "cell_type": "code",
      "source": [
        "resultado_100 = resultados_xgbr_cv_100\n",
        "resultado_100 = (resultado_100[0] + resultado_100[1] + resultado_100[2])/3\n",
        "resultado_100"
      ],
      "metadata": {
        "colab": {
          "base_uri": "https://localhost:8080/"
        },
        "outputId": "18930295-2d2f-43e5-b5e7-3159914ad58e",
        "id": "Z6dVnUQ0lPv5"
      },
      "execution_count": 79,
      "outputs": [
        {
          "output_type": "execute_result",
          "data": {
            "text/plain": [
              "0.9982290689381452"
            ]
          },
          "metadata": {},
          "execution_count": 79
        }
      ]
    },
    {
      "cell_type": "markdown",
      "metadata": {
        "id": "eJHNWP3kV8iS"
      },
      "source": [
        "#**INTERPRETANDO O MODELO GLOBALMENTE**"
      ]
    },
    {
      "cell_type": "markdown",
      "metadata": {
        "id": "8Af3Hpzq9URP"
      },
      "source": [
        "**SHAP**"
      ]
    },
    {
      "cell_type": "code",
      "execution_count": 80,
      "metadata": {
        "colab": {
          "base_uri": "https://localhost:8080/",
          "height": 424
        },
        "id": "Qqhx9dpN-gSF",
        "outputId": "478cfd43-86b6-4520-f172-018cbda5b6a8"
      },
      "outputs": [
        {
          "output_type": "execute_result",
          "data": {
            "text/plain": [
              "       gender  race/ethnicity  parental level of education     lunch  \\\n",
              "0   -0.964625       -1.015044                    -0.812640  0.741881   \n",
              "1   -0.964625       -0.150441                     0.827953  0.741881   \n",
              "2   -0.964625       -1.015044                     0.281088  0.741881   \n",
              "3    1.036672       -1.879647                    -1.359505 -1.347925   \n",
              "4    1.036672       -0.150441                     0.827953  0.741881   \n",
              "..        ...             ...                          ...       ...   \n",
              "995 -0.964625        1.578765                     0.281088  0.741881   \n",
              "996  1.036672       -0.150441                    -0.265776 -1.347925   \n",
              "997 -0.964625       -0.150441                    -0.265776 -1.347925   \n",
              "998 -0.964625        0.714162                     0.827953  0.741881   \n",
              "999 -0.964625        0.714162                     0.827953 -1.347925   \n",
              "\n",
              "     test preparation course  math score  reading score  writing score  \\\n",
              "0                   0.746748    0.390024       0.193999       0.391492   \n",
              "1                  -1.339140    0.192076       1.427476       1.313269   \n",
              "2                   0.746748    1.577711       1.770109       1.642475   \n",
              "3                   0.746748   -1.259543      -0.833899      -1.583744   \n",
              "4                   0.746748    0.653954       0.605158       0.457333   \n",
              "..                       ...         ...            ...            ...   \n",
              "995                -1.339140    1.445746       2.044215       1.774157   \n",
              "996                 0.746748   -0.269803      -0.970952      -0.859491   \n",
              "997                -1.339140   -0.467751       0.125472      -0.201079   \n",
              "998                -1.339140    0.126093       0.605158       0.589015   \n",
              "999                 0.746748    0.719937       1.153370       1.181586   \n",
              "\n",
              "         media  \n",
              "0    72.666667  \n",
              "1    82.333333  \n",
              "2    92.666667  \n",
              "3    49.333333  \n",
              "4    76.333333  \n",
              "..         ...  \n",
              "995  94.000000  \n",
              "996  57.333333  \n",
              "997  65.000000  \n",
              "998  74.333333  \n",
              "999  83.000000  \n",
              "\n",
              "[1000 rows x 9 columns]"
            ],
            "text/html": [
              "\n",
              "  <div id=\"df-0175039d-94af-4732-856b-55b2b656e37a\">\n",
              "    <div class=\"colab-df-container\">\n",
              "      <div>\n",
              "<style scoped>\n",
              "    .dataframe tbody tr th:only-of-type {\n",
              "        vertical-align: middle;\n",
              "    }\n",
              "\n",
              "    .dataframe tbody tr th {\n",
              "        vertical-align: top;\n",
              "    }\n",
              "\n",
              "    .dataframe thead th {\n",
              "        text-align: right;\n",
              "    }\n",
              "</style>\n",
              "<table border=\"1\" class=\"dataframe\">\n",
              "  <thead>\n",
              "    <tr style=\"text-align: right;\">\n",
              "      <th></th>\n",
              "      <th>gender</th>\n",
              "      <th>race/ethnicity</th>\n",
              "      <th>parental level of education</th>\n",
              "      <th>lunch</th>\n",
              "      <th>test preparation course</th>\n",
              "      <th>math score</th>\n",
              "      <th>reading score</th>\n",
              "      <th>writing score</th>\n",
              "      <th>media</th>\n",
              "    </tr>\n",
              "  </thead>\n",
              "  <tbody>\n",
              "    <tr>\n",
              "      <th>0</th>\n",
              "      <td>-0.964625</td>\n",
              "      <td>-1.015044</td>\n",
              "      <td>-0.812640</td>\n",
              "      <td>0.741881</td>\n",
              "      <td>0.746748</td>\n",
              "      <td>0.390024</td>\n",
              "      <td>0.193999</td>\n",
              "      <td>0.391492</td>\n",
              "      <td>72.666667</td>\n",
              "    </tr>\n",
              "    <tr>\n",
              "      <th>1</th>\n",
              "      <td>-0.964625</td>\n",
              "      <td>-0.150441</td>\n",
              "      <td>0.827953</td>\n",
              "      <td>0.741881</td>\n",
              "      <td>-1.339140</td>\n",
              "      <td>0.192076</td>\n",
              "      <td>1.427476</td>\n",
              "      <td>1.313269</td>\n",
              "      <td>82.333333</td>\n",
              "    </tr>\n",
              "    <tr>\n",
              "      <th>2</th>\n",
              "      <td>-0.964625</td>\n",
              "      <td>-1.015044</td>\n",
              "      <td>0.281088</td>\n",
              "      <td>0.741881</td>\n",
              "      <td>0.746748</td>\n",
              "      <td>1.577711</td>\n",
              "      <td>1.770109</td>\n",
              "      <td>1.642475</td>\n",
              "      <td>92.666667</td>\n",
              "    </tr>\n",
              "    <tr>\n",
              "      <th>3</th>\n",
              "      <td>1.036672</td>\n",
              "      <td>-1.879647</td>\n",
              "      <td>-1.359505</td>\n",
              "      <td>-1.347925</td>\n",
              "      <td>0.746748</td>\n",
              "      <td>-1.259543</td>\n",
              "      <td>-0.833899</td>\n",
              "      <td>-1.583744</td>\n",
              "      <td>49.333333</td>\n",
              "    </tr>\n",
              "    <tr>\n",
              "      <th>4</th>\n",
              "      <td>1.036672</td>\n",
              "      <td>-0.150441</td>\n",
              "      <td>0.827953</td>\n",
              "      <td>0.741881</td>\n",
              "      <td>0.746748</td>\n",
              "      <td>0.653954</td>\n",
              "      <td>0.605158</td>\n",
              "      <td>0.457333</td>\n",
              "      <td>76.333333</td>\n",
              "    </tr>\n",
              "    <tr>\n",
              "      <th>...</th>\n",
              "      <td>...</td>\n",
              "      <td>...</td>\n",
              "      <td>...</td>\n",
              "      <td>...</td>\n",
              "      <td>...</td>\n",
              "      <td>...</td>\n",
              "      <td>...</td>\n",
              "      <td>...</td>\n",
              "      <td>...</td>\n",
              "    </tr>\n",
              "    <tr>\n",
              "      <th>995</th>\n",
              "      <td>-0.964625</td>\n",
              "      <td>1.578765</td>\n",
              "      <td>0.281088</td>\n",
              "      <td>0.741881</td>\n",
              "      <td>-1.339140</td>\n",
              "      <td>1.445746</td>\n",
              "      <td>2.044215</td>\n",
              "      <td>1.774157</td>\n",
              "      <td>94.000000</td>\n",
              "    </tr>\n",
              "    <tr>\n",
              "      <th>996</th>\n",
              "      <td>1.036672</td>\n",
              "      <td>-0.150441</td>\n",
              "      <td>-0.265776</td>\n",
              "      <td>-1.347925</td>\n",
              "      <td>0.746748</td>\n",
              "      <td>-0.269803</td>\n",
              "      <td>-0.970952</td>\n",
              "      <td>-0.859491</td>\n",
              "      <td>57.333333</td>\n",
              "    </tr>\n",
              "    <tr>\n",
              "      <th>997</th>\n",
              "      <td>-0.964625</td>\n",
              "      <td>-0.150441</td>\n",
              "      <td>-0.265776</td>\n",
              "      <td>-1.347925</td>\n",
              "      <td>-1.339140</td>\n",
              "      <td>-0.467751</td>\n",
              "      <td>0.125472</td>\n",
              "      <td>-0.201079</td>\n",
              "      <td>65.000000</td>\n",
              "    </tr>\n",
              "    <tr>\n",
              "      <th>998</th>\n",
              "      <td>-0.964625</td>\n",
              "      <td>0.714162</td>\n",
              "      <td>0.827953</td>\n",
              "      <td>0.741881</td>\n",
              "      <td>-1.339140</td>\n",
              "      <td>0.126093</td>\n",
              "      <td>0.605158</td>\n",
              "      <td>0.589015</td>\n",
              "      <td>74.333333</td>\n",
              "    </tr>\n",
              "    <tr>\n",
              "      <th>999</th>\n",
              "      <td>-0.964625</td>\n",
              "      <td>0.714162</td>\n",
              "      <td>0.827953</td>\n",
              "      <td>-1.347925</td>\n",
              "      <td>0.746748</td>\n",
              "      <td>0.719937</td>\n",
              "      <td>1.153370</td>\n",
              "      <td>1.181586</td>\n",
              "      <td>83.000000</td>\n",
              "    </tr>\n",
              "  </tbody>\n",
              "</table>\n",
              "<p>1000 rows × 9 columns</p>\n",
              "</div>\n",
              "      <button class=\"colab-df-convert\" onclick=\"convertToInteractive('df-0175039d-94af-4732-856b-55b2b656e37a')\"\n",
              "              title=\"Convert this dataframe to an interactive table.\"\n",
              "              style=\"display:none;\">\n",
              "        \n",
              "  <svg xmlns=\"http://www.w3.org/2000/svg\" height=\"24px\"viewBox=\"0 0 24 24\"\n",
              "       width=\"24px\">\n",
              "    <path d=\"M0 0h24v24H0V0z\" fill=\"none\"/>\n",
              "    <path d=\"M18.56 5.44l.94 2.06.94-2.06 2.06-.94-2.06-.94-.94-2.06-.94 2.06-2.06.94zm-11 1L8.5 8.5l.94-2.06 2.06-.94-2.06-.94L8.5 2.5l-.94 2.06-2.06.94zm10 10l.94 2.06.94-2.06 2.06-.94-2.06-.94-.94-2.06-.94 2.06-2.06.94z\"/><path d=\"M17.41 7.96l-1.37-1.37c-.4-.4-.92-.59-1.43-.59-.52 0-1.04.2-1.43.59L10.3 9.45l-7.72 7.72c-.78.78-.78 2.05 0 2.83L4 21.41c.39.39.9.59 1.41.59.51 0 1.02-.2 1.41-.59l7.78-7.78 2.81-2.81c.8-.78.8-2.07 0-2.86zM5.41 20L4 18.59l7.72-7.72 1.47 1.35L5.41 20z\"/>\n",
              "  </svg>\n",
              "      </button>\n",
              "      \n",
              "  <style>\n",
              "    .colab-df-container {\n",
              "      display:flex;\n",
              "      flex-wrap:wrap;\n",
              "      gap: 12px;\n",
              "    }\n",
              "\n",
              "    .colab-df-convert {\n",
              "      background-color: #E8F0FE;\n",
              "      border: none;\n",
              "      border-radius: 50%;\n",
              "      cursor: pointer;\n",
              "      display: none;\n",
              "      fill: #1967D2;\n",
              "      height: 32px;\n",
              "      padding: 0 0 0 0;\n",
              "      width: 32px;\n",
              "    }\n",
              "\n",
              "    .colab-df-convert:hover {\n",
              "      background-color: #E2EBFA;\n",
              "      box-shadow: 0px 1px 2px rgba(60, 64, 67, 0.3), 0px 1px 3px 1px rgba(60, 64, 67, 0.15);\n",
              "      fill: #174EA6;\n",
              "    }\n",
              "\n",
              "    [theme=dark] .colab-df-convert {\n",
              "      background-color: #3B4455;\n",
              "      fill: #D2E3FC;\n",
              "    }\n",
              "\n",
              "    [theme=dark] .colab-df-convert:hover {\n",
              "      background-color: #434B5C;\n",
              "      box-shadow: 0px 1px 3px 1px rgba(0, 0, 0, 0.15);\n",
              "      filter: drop-shadow(0px 1px 2px rgba(0, 0, 0, 0.3));\n",
              "      fill: #FFFFFF;\n",
              "    }\n",
              "  </style>\n",
              "\n",
              "      <script>\n",
              "        const buttonEl =\n",
              "          document.querySelector('#df-0175039d-94af-4732-856b-55b2b656e37a button.colab-df-convert');\n",
              "        buttonEl.style.display =\n",
              "          google.colab.kernel.accessAllowed ? 'block' : 'none';\n",
              "\n",
              "        async function convertToInteractive(key) {\n",
              "          const element = document.querySelector('#df-0175039d-94af-4732-856b-55b2b656e37a');\n",
              "          const dataTable =\n",
              "            await google.colab.kernel.invokeFunction('convertToInteractive',\n",
              "                                                     [key], {});\n",
              "          if (!dataTable) return;\n",
              "\n",
              "          const docLinkHtml = 'Like what you see? Visit the ' +\n",
              "            '<a target=\"_blank\" href=https://colab.research.google.com/notebooks/data_table.ipynb>data table notebook</a>'\n",
              "            + ' to learn more about interactive tables.';\n",
              "          element.innerHTML = '';\n",
              "          dataTable['output_type'] = 'display_data';\n",
              "          await google.colab.output.renderOutput(dataTable, element);\n",
              "          const docLink = document.createElement('div');\n",
              "          docLink.innerHTML = docLinkHtml;\n",
              "          element.appendChild(docLink);\n",
              "        }\n",
              "      </script>\n",
              "    </div>\n",
              "  </div>\n",
              "  "
            ]
          },
          "metadata": {},
          "execution_count": 80
        }
      ],
      "source": [
        "df"
      ]
    },
    {
      "cell_type": "code",
      "execution_count": 81,
      "metadata": {
        "id": "sUabPhTw9Z71"
      },
      "outputs": [],
      "source": [
        "X = df.drop(columns=[\"media\"])\n",
        "y = df[\"media\"]\n",
        "\n",
        "X_train, X_test, y_train, y_test = train_test_split(X, y, test_size=0.3, random_state=20)"
      ]
    },
    {
      "cell_type": "code",
      "execution_count": null,
      "metadata": {
        "id": "B8hveFOf2nnI"
      },
      "outputs": [],
      "source": [
        "!pip install shap\n",
        "import shap"
      ]
    },
    {
      "cell_type": "code",
      "execution_count": 83,
      "metadata": {
        "id": "7tcpqH9D9MnG"
      },
      "outputs": [],
      "source": [
        "xgbr = XGBRegressor(objective ='reg:squarederror').fit(X_train, y_train)"
      ]
    },
    {
      "cell_type": "code",
      "execution_count": 84,
      "metadata": {
        "id": "ehtr4Q4U2oZo"
      },
      "outputs": [],
      "source": [
        "explainer = shap.TreeExplainer(xgbr)"
      ]
    },
    {
      "cell_type": "code",
      "execution_count": 85,
      "metadata": {
        "id": "W8l_bj9H9ssm"
      },
      "outputs": [],
      "source": [
        "shap_vals = explainer.shap_values(X_train)"
      ]
    },
    {
      "cell_type": "markdown",
      "metadata": {
        "id": "Nf-PPooRRHTd"
      },
      "source": [
        "**Temos abaixo as Features que mais impactaram na escolha dos valores preditivos para todos os dados:**"
      ]
    },
    {
      "cell_type": "code",
      "execution_count": 86,
      "metadata": {
        "colab": {
          "base_uri": "https://localhost:8080/",
          "height": 348
        },
        "id": "3yND9xNJ90j_",
        "outputId": "22843db0-98e9-4848-f8f2-8b9af7b94c6f"
      },
      "outputs": [
        {
          "output_type": "display_data",
          "data": {
            "text/plain": [
              "<Figure size 576x338.4 with 1 Axes>"
            ],
            "image/png": "[encoded data removed]"
          },
          "metadata": {
            "needs_background": "light"
          }
        }
      ],
      "source": [
        "shap.summary_plot(shap_vals, X_train, plot_type=\"bar\")"
      ]
    }
  ]
}