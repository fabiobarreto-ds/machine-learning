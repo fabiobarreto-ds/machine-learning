{
  "nbformat": 4,
  "nbformat_minor": 0,
  "metadata": {
    "colab": {
      "name": "07_educação_ADABOOSTRegressor.ipynb",
      "provenance": []
    },
    "kernelspec": {
      "name": "python3",
      "display_name": "Python 3"
    },
    "language_info": {
      "name": "python"
    }
  },
  "cells": [
    {
      "cell_type": "markdown",
      "source": [
        "# **IMPORTANDO E ANALISANDO OS DADOS**"
      ],
      "metadata": {
        "id": "lQdu0fP0pV93"
      }
    },
    {
      "cell_type": "code",
      "source": [
        "import numpy as np\n",
        "import pandas as pd\n",
        "import seaborn as sns\n",
        "import matplotlib.pyplot as plt\n",
        "from xgboost import XGBRegressor\n",
        "from sklearn.pipeline import Pipeline\n",
        "from sklearn.impute import SimpleImputer\n",
        "from sklearn.model_selection import KFold\n",
        "from sklearn.compose import ColumnTransformer\n",
        "from sklearn.ensemble import AdaBoostRegressor\n",
        "from sklearn.ensemble import RandomForestRegressor\n",
        "\n",
        "\n",
        "from sklearn.model_selection import train_test_split\n",
        "from sklearn.metrics import r2_score, mean_absolute_error, mean_squared_error\n",
        "from sklearn.preprocessing import StandardScaler, OneHotEncoder, OrdinalEncoder\n",
        "from sklearn.model_selection import GridSearchCV, StratifiedKFold, train_test_split\n",
        "\n",
        "# desabilita os warnings\n",
        "import warnings\n",
        "warnings.filterwarnings('ignore')"
      ],
      "metadata": {
        "id": "Z4-wh0jUK2cF"
      },
      "execution_count": 70,
      "outputs": []
    },
    {
      "cell_type": "code",
      "source": [
        "df = pd.read_csv(\"StudentsPerformance.csv\")\n",
        "df"
      ],
      "metadata": {
        "colab": {
          "base_uri": "https://localhost:8080/",
          "height": 424
        },
        "id": "-Fon07Qfn4Qm",
        "outputId": "20deb7ad-c305-4e29-8d14-1694bf3bf51e"
      },
      "execution_count": 2,
      "outputs": [
        {
          "output_type": "execute_result",
          "data": {
            "text/plain": [
              "     gender race/ethnicity parental level of education         lunch  \\\n",
              "0    female        group B           bachelor's degree      standard   \n",
              "1    female        group C                some college      standard   \n",
              "2    female        group B             master's degree      standard   \n",
              "3      male        group A          associate's degree  free/reduced   \n",
              "4      male        group C                some college      standard   \n",
              "..      ...            ...                         ...           ...   \n",
              "995  female        group E             master's degree      standard   \n",
              "996    male        group C                 high school  free/reduced   \n",
              "997  female        group C                 high school  free/reduced   \n",
              "998  female        group D                some college      standard   \n",
              "999  female        group D                some college  free/reduced   \n",
              "\n",
              "    test preparation course  math score  reading score  writing score  \n",
              "0                      none          72             72             74  \n",
              "1                 completed          69             90             88  \n",
              "2                      none          90             95             93  \n",
              "3                      none          47             57             44  \n",
              "4                      none          76             78             75  \n",
              "..                      ...         ...            ...            ...  \n",
              "995               completed          88             99             95  \n",
              "996                    none          62             55             55  \n",
              "997               completed          59             71             65  \n",
              "998               completed          68             78             77  \n",
              "999                    none          77             86             86  \n",
              "\n",
              "[1000 rows x 8 columns]"
            ],
            "text/html": [
              "\n",
              "  <div id=\"df-72a52e14-b61c-45d2-aea5-ea1d2f3e4e65\">\n",
              "    <div class=\"colab-df-container\">\n",
              "      <div>\n",
              "<style scoped>\n",
              "    .dataframe tbody tr th:only-of-type {\n",
              "        vertical-align: middle;\n",
              "    }\n",
              "\n",
              "    .dataframe tbody tr th {\n",
              "        vertical-align: top;\n",
              "    }\n",
              "\n",
              "    .dataframe thead th {\n",
              "        text-align: right;\n",
              "    }\n",
              "</style>\n",
              "<table border=\"1\" class=\"dataframe\">\n",
              "  <thead>\n",
              "    <tr style=\"text-align: right;\">\n",
              "      <th></th>\n",
              "      <th>gender</th>\n",
              "      <th>race/ethnicity</th>\n",
              "      <th>parental level of education</th>\n",
              "      <th>lunch</th>\n",
              "      <th>test preparation course</th>\n",
              "      <th>math score</th>\n",
              "      <th>reading score</th>\n",
              "      <th>writing score</th>\n",
              "    </tr>\n",
              "  </thead>\n",
              "  <tbody>\n",
              "    <tr>\n",
              "      <th>0</th>\n",
              "      <td>female</td>\n",
              "      <td>group B</td>\n",
              "      <td>bachelor's degree</td>\n",
              "      <td>standard</td>\n",
              "      <td>none</td>\n",
              "      <td>72</td>\n",
              "      <td>72</td>\n",
              "      <td>74</td>\n",
              "    </tr>\n",
              "    <tr>\n",
              "      <th>1</th>\n",
              "      <td>female</td>\n",
              "      <td>group C</td>\n",
              "      <td>some college</td>\n",
              "      <td>standard</td>\n",
              "      <td>completed</td>\n",
              "      <td>69</td>\n",
              "      <td>90</td>\n",
              "      <td>88</td>\n",
              "    </tr>\n",
              "    <tr>\n",
              "      <th>2</th>\n",
              "      <td>female</td>\n",
              "      <td>group B</td>\n",
              "      <td>master's degree</td>\n",
              "      <td>standard</td>\n",
              "      <td>none</td>\n",
              "      <td>90</td>\n",
              "      <td>95</td>\n",
              "      <td>93</td>\n",
              "    </tr>\n",
              "    <tr>\n",
              "      <th>3</th>\n",
              "      <td>male</td>\n",
              "      <td>group A</td>\n",
              "      <td>associate's degree</td>\n",
              "      <td>free/reduced</td>\n",
              "      <td>none</td>\n",
              "      <td>47</td>\n",
              "      <td>57</td>\n",
              "      <td>44</td>\n",
              "    </tr>\n",
              "    <tr>\n",
              "      <th>4</th>\n",
              "      <td>male</td>\n",
              "      <td>group C</td>\n",
              "      <td>some college</td>\n",
              "      <td>standard</td>\n",
              "      <td>none</td>\n",
              "      <td>76</td>\n",
              "      <td>78</td>\n",
              "      <td>75</td>\n",
              "    </tr>\n",
              "    <tr>\n",
              "      <th>...</th>\n",
              "      <td>...</td>\n",
              "      <td>...</td>\n",
              "      <td>...</td>\n",
              "      <td>...</td>\n",
              "      <td>...</td>\n",
              "      <td>...</td>\n",
              "      <td>...</td>\n",
              "      <td>...</td>\n",
              "    </tr>\n",
              "    <tr>\n",
              "      <th>995</th>\n",
              "      <td>female</td>\n",
              "      <td>group E</td>\n",
              "      <td>master's degree</td>\n",
              "      <td>standard</td>\n",
              "      <td>completed</td>\n",
              "      <td>88</td>\n",
              "      <td>99</td>\n",
              "      <td>95</td>\n",
              "    </tr>\n",
              "    <tr>\n",
              "      <th>996</th>\n",
              "      <td>male</td>\n",
              "      <td>group C</td>\n",
              "      <td>high school</td>\n",
              "      <td>free/reduced</td>\n",
              "      <td>none</td>\n",
              "      <td>62</td>\n",
              "      <td>55</td>\n",
              "      <td>55</td>\n",
              "    </tr>\n",
              "    <tr>\n",
              "      <th>997</th>\n",
              "      <td>female</td>\n",
              "      <td>group C</td>\n",
              "      <td>high school</td>\n",
              "      <td>free/reduced</td>\n",
              "      <td>completed</td>\n",
              "      <td>59</td>\n",
              "      <td>71</td>\n",
              "      <td>65</td>\n",
              "    </tr>\n",
              "    <tr>\n",
              "      <th>998</th>\n",
              "      <td>female</td>\n",
              "      <td>group D</td>\n",
              "      <td>some college</td>\n",
              "      <td>standard</td>\n",
              "      <td>completed</td>\n",
              "      <td>68</td>\n",
              "      <td>78</td>\n",
              "      <td>77</td>\n",
              "    </tr>\n",
              "    <tr>\n",
              "      <th>999</th>\n",
              "      <td>female</td>\n",
              "      <td>group D</td>\n",
              "      <td>some college</td>\n",
              "      <td>free/reduced</td>\n",
              "      <td>none</td>\n",
              "      <td>77</td>\n",
              "      <td>86</td>\n",
              "      <td>86</td>\n",
              "    </tr>\n",
              "  </tbody>\n",
              "</table>\n",
              "<p>1000 rows × 8 columns</p>\n",
              "</div>\n",
              "      <button class=\"colab-df-convert\" onclick=\"convertToInteractive('df-72a52e14-b61c-45d2-aea5-ea1d2f3e4e65')\"\n",
              "              title=\"Convert this dataframe to an interactive table.\"\n",
              "              style=\"display:none;\">\n",
              "        \n",
              "  <svg xmlns=\"http://www.w3.org/2000/svg\" height=\"24px\"viewBox=\"0 0 24 24\"\n",
              "       width=\"24px\">\n",
              "    <path d=\"M0 0h24v24H0V0z\" fill=\"none\"/>\n",
              "    <path d=\"M18.56 5.44l.94 2.06.94-2.06 2.06-.94-2.06-.94-.94-2.06-.94 2.06-2.06.94zm-11 1L8.5 8.5l.94-2.06 2.06-.94-2.06-.94L8.5 2.5l-.94 2.06-2.06.94zm10 10l.94 2.06.94-2.06 2.06-.94-2.06-.94-.94-2.06-.94 2.06-2.06.94z\"/><path d=\"M17.41 7.96l-1.37-1.37c-.4-.4-.92-.59-1.43-.59-.52 0-1.04.2-1.43.59L10.3 9.45l-7.72 7.72c-.78.78-.78 2.05 0 2.83L4 21.41c.39.39.9.59 1.41.59.51 0 1.02-.2 1.41-.59l7.78-7.78 2.81-2.81c.8-.78.8-2.07 0-2.86zM5.41 20L4 18.59l7.72-7.72 1.47 1.35L5.41 20z\"/>\n",
              "  </svg>\n",
              "      </button>\n",
              "      \n",
              "  <style>\n",
              "    .colab-df-container {\n",
              "      display:flex;\n",
              "      flex-wrap:wrap;\n",
              "      gap: 12px;\n",
              "    }\n",
              "\n",
              "    .colab-df-convert {\n",
              "      background-color: #E8F0FE;\n",
              "      border: none;\n",
              "      border-radius: 50%;\n",
              "      cursor: pointer;\n",
              "      display: none;\n",
              "      fill: #1967D2;\n",
              "      height: 32px;\n",
              "      padding: 0 0 0 0;\n",
              "      width: 32px;\n",
              "    }\n",
              "\n",
              "    .colab-df-convert:hover {\n",
              "      background-color: #E2EBFA;\n",
              "      box-shadow: 0px 1px 2px rgba(60, 64, 67, 0.3), 0px 1px 3px 1px rgba(60, 64, 67, 0.15);\n",
              "      fill: #174EA6;\n",
              "    }\n",
              "\n",
              "    [theme=dark] .colab-df-convert {\n",
              "      background-color: #3B4455;\n",
              "      fill: #D2E3FC;\n",
              "    }\n",
              "\n",
              "    [theme=dark] .colab-df-convert:hover {\n",
              "      background-color: #434B5C;\n",
              "      box-shadow: 0px 1px 3px 1px rgba(0, 0, 0, 0.15);\n",
              "      filter: drop-shadow(0px 1px 2px rgba(0, 0, 0, 0.3));\n",
              "      fill: #FFFFFF;\n",
              "    }\n",
              "  </style>\n",
              "\n",
              "      <script>\n",
              "        const buttonEl =\n",
              "          document.querySelector('#df-72a52e14-b61c-45d2-aea5-ea1d2f3e4e65 button.colab-df-convert');\n",
              "        buttonEl.style.display =\n",
              "          google.colab.kernel.accessAllowed ? 'block' : 'none';\n",
              "\n",
              "        async function convertToInteractive(key) {\n",
              "          const element = document.querySelector('#df-72a52e14-b61c-45d2-aea5-ea1d2f3e4e65');\n",
              "          const dataTable =\n",
              "            await google.colab.kernel.invokeFunction('convertToInteractive',\n",
              "                                                     [key], {});\n",
              "          if (!dataTable) return;\n",
              "\n",
              "          const docLinkHtml = 'Like what you see? Visit the ' +\n",
              "            '<a target=\"_blank\" href=https://colab.research.google.com/notebooks/data_table.ipynb>data table notebook</a>'\n",
              "            + ' to learn more about interactive tables.';\n",
              "          element.innerHTML = '';\n",
              "          dataTable['output_type'] = 'display_data';\n",
              "          await google.colab.output.renderOutput(dataTable, element);\n",
              "          const docLink = document.createElement('div');\n",
              "          docLink.innerHTML = docLinkHtml;\n",
              "          element.appendChild(docLink);\n",
              "        }\n",
              "      </script>\n",
              "    </div>\n",
              "  </div>\n",
              "  "
            ]
          },
          "metadata": {},
          "execution_count": 2
        }
      ]
    },
    {
      "cell_type": "markdown",
      "metadata": {
        "id": "_wV3HqV9Pbsm"
      },
      "source": [
        "**Verificando se há dados nulos:**"
      ]
    },
    {
      "cell_type": "code",
      "execution_count": 3,
      "metadata": {
        "colab": {
          "base_uri": "https://localhost:8080/"
        },
        "id": "u1dAvUVcfRUf",
        "outputId": "0703d61f-4a51-4ce4-fe92-6c5a2c5fc75f"
      },
      "outputs": [
        {
          "output_type": "stream",
          "name": "stdout",
          "text": [
            "<class 'pandas.core.frame.DataFrame'>\n",
            "RangeIndex: 1000 entries, 0 to 999\n",
            "Data columns (total 8 columns):\n",
            " #   Column                       Non-Null Count  Dtype \n",
            "---  ------                       --------------  ----- \n",
            " 0   gender                       1000 non-null   object\n",
            " 1   race/ethnicity               1000 non-null   object\n",
            " 2   parental level of education  1000 non-null   object\n",
            " 3   lunch                        1000 non-null   object\n",
            " 4   test preparation course      1000 non-null   object\n",
            " 5   math score                   1000 non-null   int64 \n",
            " 6   reading score                1000 non-null   int64 \n",
            " 7   writing score                1000 non-null   int64 \n",
            "dtypes: int64(3), object(5)\n",
            "memory usage: 62.6+ KB\n"
          ]
        }
      ],
      "source": [
        "df.info()"
      ]
    },
    {
      "cell_type": "code",
      "source": [
        "df.isna().sum()"
      ],
      "metadata": {
        "colab": {
          "base_uri": "https://localhost:8080/"
        },
        "id": "Os_cVjYvARzw",
        "outputId": "6754e78e-5d95-4cbb-8264-da6f17e196c3"
      },
      "execution_count": 4,
      "outputs": [
        {
          "output_type": "execute_result",
          "data": {
            "text/plain": [
              "gender                         0\n",
              "race/ethnicity                 0\n",
              "parental level of education    0\n",
              "lunch                          0\n",
              "test preparation course        0\n",
              "math score                     0\n",
              "reading score                  0\n",
              "writing score                  0\n",
              "dtype: int64"
            ]
          },
          "metadata": {},
          "execution_count": 4
        }
      ]
    },
    {
      "cell_type": "code",
      "source": [
        "df.nunique()"
      ],
      "metadata": {
        "colab": {
          "base_uri": "https://localhost:8080/"
        },
        "id": "_K4M2hArEcGq",
        "outputId": "c03bca3c-aa86-4c13-836a-0ac2b5ed3005"
      },
      "execution_count": 5,
      "outputs": [
        {
          "output_type": "execute_result",
          "data": {
            "text/plain": [
              "gender                          2\n",
              "race/ethnicity                  5\n",
              "parental level of education     6\n",
              "lunch                           2\n",
              "test preparation course         2\n",
              "math score                     81\n",
              "reading score                  72\n",
              "writing score                  77\n",
              "dtype: int64"
            ]
          },
          "metadata": {},
          "execution_count": 5
        }
      ]
    },
    {
      "cell_type": "markdown",
      "source": [
        "**Verificando se há dados duplicados:**"
      ],
      "metadata": {
        "id": "ICOO_vTrA_gT"
      }
    },
    {
      "cell_type": "code",
      "source": [
        "df.duplicated().sum()"
      ],
      "metadata": {
        "colab": {
          "base_uri": "https://localhost:8080/"
        },
        "id": "R69cfWseASc1",
        "outputId": "2a1c7814-0878-43d8-852e-999f3c5f787c"
      },
      "execution_count": 6,
      "outputs": [
        {
          "output_type": "execute_result",
          "data": {
            "text/plain": [
              "0"
            ]
          },
          "metadata": {},
          "execution_count": 6
        }
      ]
    },
    {
      "cell_type": "markdown",
      "source": [
        "**Vamos criar uma coluna de média das notas que servirá como target:**"
      ],
      "metadata": {
        "id": "MQFp-f7zoW1c"
      }
    },
    {
      "cell_type": "code",
      "source": [
        "curso_notas = df[[\"test preparation course\", \"math score\", \"reading score\", \"writing score\"]]\n",
        "df_notas = df[[\"math score\", \"reading score\", \"writing score\"]]"
      ],
      "metadata": {
        "id": "NdSDMmudoVwd"
      },
      "execution_count": 7,
      "outputs": []
    },
    {
      "cell_type": "code",
      "source": [
        "lista_col = []\n",
        "lista_media = []\n",
        "for col in df_notas:\n",
        "    lista_col.append(col)\n",
        "for num in range(len(df_notas)):\n",
        "  media = (df_notas[lista_col[0]].iloc[num] + df_notas[lista_col[1]].iloc[num] + df_notas[lista_col[2]].iloc[num])/3\n",
        "  lista_media.append(media)\n",
        "curso_notas[\"media\"] = lista_media\n",
        "df[\"media\"] = lista_media\n",
        "df.head()"
      ],
      "metadata": {
        "colab": {
          "base_uri": "https://localhost:8080/",
          "height": 206
        },
        "id": "FLqCKk9zn5BN",
        "outputId": "6ec57cd3-3c34-471c-9723-0d9cf60b8e2c"
      },
      "execution_count": 8,
      "outputs": [
        {
          "output_type": "execute_result",
          "data": {
            "text/plain": [
              "   gender race/ethnicity parental level of education         lunch  \\\n",
              "0  female        group B           bachelor's degree      standard   \n",
              "1  female        group C                some college      standard   \n",
              "2  female        group B             master's degree      standard   \n",
              "3    male        group A          associate's degree  free/reduced   \n",
              "4    male        group C                some college      standard   \n",
              "\n",
              "  test preparation course  math score  reading score  writing score      media  \n",
              "0                    none          72             72             74  72.666667  \n",
              "1               completed          69             90             88  82.333333  \n",
              "2                    none          90             95             93  92.666667  \n",
              "3                    none          47             57             44  49.333333  \n",
              "4                    none          76             78             75  76.333333  "
            ],
            "text/html": [
              "\n",
              "  <div id=\"df-e886ea58-3a52-4259-ae3d-9b2dea403a23\">\n",
              "    <div class=\"colab-df-container\">\n",
              "      <div>\n",
              "<style scoped>\n",
              "    .dataframe tbody tr th:only-of-type {\n",
              "        vertical-align: middle;\n",
              "    }\n",
              "\n",
              "    .dataframe tbody tr th {\n",
              "        vertical-align: top;\n",
              "    }\n",
              "\n",
              "    .dataframe thead th {\n",
              "        text-align: right;\n",
              "    }\n",
              "</style>\n",
              "<table border=\"1\" class=\"dataframe\">\n",
              "  <thead>\n",
              "    <tr style=\"text-align: right;\">\n",
              "      <th></th>\n",
              "      <th>gender</th>\n",
              "      <th>race/ethnicity</th>\n",
              "      <th>parental level of education</th>\n",
              "      <th>lunch</th>\n",
              "      <th>test preparation course</th>\n",
              "      <th>math score</th>\n",
              "      <th>reading score</th>\n",
              "      <th>writing score</th>\n",
              "      <th>media</th>\n",
              "    </tr>\n",
              "  </thead>\n",
              "  <tbody>\n",
              "    <tr>\n",
              "      <th>0</th>\n",
              "      <td>female</td>\n",
              "      <td>group B</td>\n",
              "      <td>bachelor's degree</td>\n",
              "      <td>standard</td>\n",
              "      <td>none</td>\n",
              "      <td>72</td>\n",
              "      <td>72</td>\n",
              "      <td>74</td>\n",
              "      <td>72.666667</td>\n",
              "    </tr>\n",
              "    <tr>\n",
              "      <th>1</th>\n",
              "      <td>female</td>\n",
              "      <td>group C</td>\n",
              "      <td>some college</td>\n",
              "      <td>standard</td>\n",
              "      <td>completed</td>\n",
              "      <td>69</td>\n",
              "      <td>90</td>\n",
              "      <td>88</td>\n",
              "      <td>82.333333</td>\n",
              "    </tr>\n",
              "    <tr>\n",
              "      <th>2</th>\n",
              "      <td>female</td>\n",
              "      <td>group B</td>\n",
              "      <td>master's degree</td>\n",
              "      <td>standard</td>\n",
              "      <td>none</td>\n",
              "      <td>90</td>\n",
              "      <td>95</td>\n",
              "      <td>93</td>\n",
              "      <td>92.666667</td>\n",
              "    </tr>\n",
              "    <tr>\n",
              "      <th>3</th>\n",
              "      <td>male</td>\n",
              "      <td>group A</td>\n",
              "      <td>associate's degree</td>\n",
              "      <td>free/reduced</td>\n",
              "      <td>none</td>\n",
              "      <td>47</td>\n",
              "      <td>57</td>\n",
              "      <td>44</td>\n",
              "      <td>49.333333</td>\n",
              "    </tr>\n",
              "    <tr>\n",
              "      <th>4</th>\n",
              "      <td>male</td>\n",
              "      <td>group C</td>\n",
              "      <td>some college</td>\n",
              "      <td>standard</td>\n",
              "      <td>none</td>\n",
              "      <td>76</td>\n",
              "      <td>78</td>\n",
              "      <td>75</td>\n",
              "      <td>76.333333</td>\n",
              "    </tr>\n",
              "  </tbody>\n",
              "</table>\n",
              "</div>\n",
              "      <button class=\"colab-df-convert\" onclick=\"convertToInteractive('df-e886ea58-3a52-4259-ae3d-9b2dea403a23')\"\n",
              "              title=\"Convert this dataframe to an interactive table.\"\n",
              "              style=\"display:none;\">\n",
              "        \n",
              "  <svg xmlns=\"http://www.w3.org/2000/svg\" height=\"24px\"viewBox=\"0 0 24 24\"\n",
              "       width=\"24px\">\n",
              "    <path d=\"M0 0h24v24H0V0z\" fill=\"none\"/>\n",
              "    <path d=\"M18.56 5.44l.94 2.06.94-2.06 2.06-.94-2.06-.94-.94-2.06-.94 2.06-2.06.94zm-11 1L8.5 8.5l.94-2.06 2.06-.94-2.06-.94L8.5 2.5l-.94 2.06-2.06.94zm10 10l.94 2.06.94-2.06 2.06-.94-2.06-.94-.94-2.06-.94 2.06-2.06.94z\"/><path d=\"M17.41 7.96l-1.37-1.37c-.4-.4-.92-.59-1.43-.59-.52 0-1.04.2-1.43.59L10.3 9.45l-7.72 7.72c-.78.78-.78 2.05 0 2.83L4 21.41c.39.39.9.59 1.41.59.51 0 1.02-.2 1.41-.59l7.78-7.78 2.81-2.81c.8-.78.8-2.07 0-2.86zM5.41 20L4 18.59l7.72-7.72 1.47 1.35L5.41 20z\"/>\n",
              "  </svg>\n",
              "      </button>\n",
              "      \n",
              "  <style>\n",
              "    .colab-df-container {\n",
              "      display:flex;\n",
              "      flex-wrap:wrap;\n",
              "      gap: 12px;\n",
              "    }\n",
              "\n",
              "    .colab-df-convert {\n",
              "      background-color: #E8F0FE;\n",
              "      border: none;\n",
              "      border-radius: 50%;\n",
              "      cursor: pointer;\n",
              "      display: none;\n",
              "      fill: #1967D2;\n",
              "      height: 32px;\n",
              "      padding: 0 0 0 0;\n",
              "      width: 32px;\n",
              "    }\n",
              "\n",
              "    .colab-df-convert:hover {\n",
              "      background-color: #E2EBFA;\n",
              "      box-shadow: 0px 1px 2px rgba(60, 64, 67, 0.3), 0px 1px 3px 1px rgba(60, 64, 67, 0.15);\n",
              "      fill: #174EA6;\n",
              "    }\n",
              "\n",
              "    [theme=dark] .colab-df-convert {\n",
              "      background-color: #3B4455;\n",
              "      fill: #D2E3FC;\n",
              "    }\n",
              "\n",
              "    [theme=dark] .colab-df-convert:hover {\n",
              "      background-color: #434B5C;\n",
              "      box-shadow: 0px 1px 3px 1px rgba(0, 0, 0, 0.15);\n",
              "      filter: drop-shadow(0px 1px 2px rgba(0, 0, 0, 0.3));\n",
              "      fill: #FFFFFF;\n",
              "    }\n",
              "  </style>\n",
              "\n",
              "      <script>\n",
              "        const buttonEl =\n",
              "          document.querySelector('#df-e886ea58-3a52-4259-ae3d-9b2dea403a23 button.colab-df-convert');\n",
              "        buttonEl.style.display =\n",
              "          google.colab.kernel.accessAllowed ? 'block' : 'none';\n",
              "\n",
              "        async function convertToInteractive(key) {\n",
              "          const element = document.querySelector('#df-e886ea58-3a52-4259-ae3d-9b2dea403a23');\n",
              "          const dataTable =\n",
              "            await google.colab.kernel.invokeFunction('convertToInteractive',\n",
              "                                                     [key], {});\n",
              "          if (!dataTable) return;\n",
              "\n",
              "          const docLinkHtml = 'Like what you see? Visit the ' +\n",
              "            '<a target=\"_blank\" href=https://colab.research.google.com/notebooks/data_table.ipynb>data table notebook</a>'\n",
              "            + ' to learn more about interactive tables.';\n",
              "          element.innerHTML = '';\n",
              "          dataTable['output_type'] = 'display_data';\n",
              "          await google.colab.output.renderOutput(dataTable, element);\n",
              "          const docLink = document.createElement('div');\n",
              "          docLink.innerHTML = docLinkHtml;\n",
              "          element.appendChild(docLink);\n",
              "        }\n",
              "      </script>\n",
              "    </div>\n",
              "  </div>\n",
              "  "
            ]
          },
          "metadata": {},
          "execution_count": 8
        }
      ]
    },
    {
      "cell_type": "code",
      "source": [
        ""
      ],
      "metadata": {
        "id": "PEHSwFwv-2kj"
      },
      "execution_count": null,
      "outputs": []
    },
    {
      "cell_type": "markdown",
      "metadata": {
        "id": "YYgVyk65c8bH"
      },
      "source": [
        "# **ADABOOST**"
      ]
    },
    {
      "cell_type": "markdown",
      "source": [
        "## **Black Box - Usando o Random Forest como estimador**"
      ],
      "metadata": {
        "id": "MCzwdN0P_SUZ"
      }
    },
    {
      "cell_type": "code",
      "execution_count": 74,
      "metadata": {
        "colab": {
          "base_uri": "https://localhost:8080/"
        },
        "execution": {
          "iopub.execute_input": "2022-07-05T00:58:39.306002Z",
          "iopub.status.busy": "2022-07-05T00:58:39.305542Z",
          "iopub.status.idle": "2022-07-05T01:02:18.329714Z",
          "shell.execute_reply": "2022-07-05T01:02:18.328430Z",
          "shell.execute_reply.started": "2022-07-05T00:58:39.305970Z"
        },
        "outputId": "859b3b37-3b61-4634-f3f9-72a8c5dab307",
        "id": "2XArTmBh_SUZ"
      },
      "outputs": [
        {
          "output_type": "stream",
          "name": "stdout",
          "text": [
            "Fitting 5 folds for each of 3 candidates, totalling 15 fits\n"
          ]
        },
        {
          "output_type": "execute_result",
          "data": {
            "text/plain": [
              "GridSearchCV(cv=KFold(n_splits=5, random_state=42, shuffle=True),\n",
              "             estimator=Pipeline(steps=[('pre_processador',\n",
              "                                        ColumnTransformer(transformers=[('transf_num',\n",
              "                                                                         Pipeline(steps=[('input_num',\n",
              "                                                                                          SimpleImputer()),\n",
              "                                                                                         ('std',\n",
              "                                                                                          StandardScaler())]),\n",
              "                                                                         ['math '\n",
              "                                                                          'score',\n",
              "                                                                          'reading '\n",
              "                                                                          'score',\n",
              "                                                                          'writing '\n",
              "                                                                          'score']),\n",
              "                                                                        ('transf_cat',\n",
              "                                                                         Pipeline(steps=[('input_cat_oe',\n",
              "                                                                                          SimpleImputer(fill_value='unknown',\n",
              "                                                                                                        strategy='constant')),\n",
              "                                                                                         ('ordinal',\n",
              "                                                                                          OrdinalEncoder())]),\n",
              "                                                                         ['race/ethnicity',\n",
              "                                                                          'parental '\n",
              "                                                                          'level '\n",
              "                                                                          'of '\n",
              "                                                                          'education'])])),\n",
              "                                       ('ada',\n",
              "                                        AdaBoostRegressor(base_estimator=RandomForestRegressor(max_depth=2)))]),\n",
              "             n_jobs=-1, param_grid={'ada__n_estimators': [1000, 5000, 10000]},\n",
              "             scoring='r2', verbose=10)"
            ]
          },
          "metadata": {},
          "execution_count": 74
        }
      ],
      "source": [
        "from sklearn.ensemble import RandomForestRegressor\n",
        "#Separando o que é features e target:\n",
        "X = df.drop(columns=\"media\")\n",
        "y = df[\"media\"]\n",
        "\n",
        "# Dividindo em dados de teste e dados de treino, peguei 20% para dados de teste:\n",
        "X_train, X_test, y_train, y_test = train_test_split(X, y, test_size=0.2, random_state=12)\n",
        "\n",
        "# Iniciando a construção da Pipeline:\n",
        "# ==========================================================\n",
        "#Primeiro vamos tratar as features numéricas. Tratando os valores nulos (NaN) e escalonando já que a variância entre as features é grande.\n",
        "pipe_features_num = Pipeline([(\"input_num\", SimpleImputer(strategy=\"mean\")),\n",
        "                              (\"std\", StandardScaler())])\n",
        "\n",
        "features_num = X_train.select_dtypes(include=np.number).columns.tolist()\n",
        "# ==========================================================\n",
        "# ==========================================================\n",
        "# Tratando as features categóricas. Os valores nulos (NaN) serão preenchidos pelos dados mais constantes e posteriormente codificaremos todas elas com Ordinal Enconder. \n",
        "\n",
        "pipe_features_oe = Pipeline([(\"input_cat_oe\", SimpleImputer(strategy=\"constant\", fill_value=\"unknown\")),\n",
        "                            (\"ordinal\", OrdinalEncoder())])\n",
        "\n",
        "features_oe = [\"race/ethnicity\", \"parental level of education\"]\n",
        "\n",
        "# Tratando as features categóricas. Os valores nulos (NaN) serão preenchidos pelos dados mais constantes e posteriormente codificaremos todas elas com o One Hot Encoder. \n",
        "\n",
        "pipe_features_ohe = Pipeline([(\"input_cat_oe\", SimpleImputer(strategy=\"constant\", fill_value=\"unknown\")),\n",
        "                            (\"onehot\", OneHotEncoder(handle_unknown='ignore'))])\n",
        "\n",
        "features_ohe = [\"gender\", \"lunch\", \"test preparation course\"]\n",
        "# ==========================================================\n",
        "# Pré-processador => Pegando as pipelines anteriores e unindo-as.\n",
        "pre_processador = ColumnTransformer([(\"transf_num\", pipe_features_num, features_num),\n",
        "                                     (\"transf_cat\", pipe_features_oe, features_oe)])\n",
        "\n",
        "# ==========================================================\n",
        "# pipeline final\n",
        "pipe_ada = Pipeline([(\"pre_processador\", pre_processador),\n",
        "                    (\"ada\", AdaBoostRegressor(base_estimator=RandomForestRegressor(max_depth=2)))])\n",
        "\n",
        "#Vamos dividir em splits para ter mais variedade no processamento dos dados.\n",
        "splitter = KFold(n_splits=5, random_state=42, shuffle=True)\n",
        "# =====================================\n",
        "\n",
        "params_grid_ada = {\"ada__n_estimators\": [1000, 5000,10000]} \n",
        "\n",
        "\n",
        "#Motando a grade geral de parâmetros.\n",
        "grid_ada_rfr = GridSearchCV(estimator=pipe_ada,\n",
        "                       param_grid=params_grid_ada,\n",
        "                       scoring=\"r2\",\n",
        "                       cv=splitter,\n",
        "                       verbose=10,\n",
        "                       n_jobs=-1)\n",
        "\n",
        "grid_ada_rfr.fit(X_train, y_train)"
      ]
    },
    {
      "cell_type": "code",
      "execution_count": 75,
      "metadata": {
        "collapsed": true,
        "execution": {
          "iopub.execute_input": "2022-07-04T21:37:34.559124Z",
          "iopub.status.busy": "2022-07-04T21:37:34.558167Z",
          "iopub.status.idle": "2022-07-04T21:37:34.565840Z",
          "shell.execute_reply": "2022-07-04T21:37:34.565007Z",
          "shell.execute_reply.started": "2022-07-04T21:37:34.559057Z"
        },
        "jupyter": {
          "outputs_hidden": true
        },
        "colab": {
          "base_uri": "https://localhost:8080/"
        },
        "outputId": "86042fd4-4541-4e9b-ea4d-6ad7c277835d",
        "id": "gwTX2cTV_SUa"
      },
      "outputs": [
        {
          "output_type": "execute_result",
          "data": {
            "text/plain": [
              "{'ada__n_estimators': 1000}"
            ]
          },
          "metadata": {},
          "execution_count": 75
        }
      ],
      "source": [
        "grid_ada_rfr.best_params_"
      ]
    },
    {
      "cell_type": "code",
      "execution_count": 76,
      "metadata": {
        "collapsed": true,
        "execution": {
          "iopub.execute_input": "2022-07-04T14:20:52.445534Z",
          "iopub.status.busy": "2022-07-04T14:20:52.445074Z",
          "iopub.status.idle": "2022-07-04T14:20:52.487086Z",
          "shell.execute_reply": "2022-07-04T14:20:52.486289Z",
          "shell.execute_reply.started": "2022-07-04T14:20:52.445484Z"
        },
        "jupyter": {
          "outputs_hidden": true
        },
        "colab": {
          "base_uri": "https://localhost:8080/",
          "height": 260
        },
        "outputId": "2982e704-eb00-41f3-eef2-af32cf5891a3",
        "id": "OBPADsbF_SUa"
      },
      "outputs": [
        {
          "output_type": "execute_result",
          "data": {
            "text/plain": [
              "   mean_fit_time  std_fit_time  mean_score_time  std_score_time  \\\n",
              "0      75.151709     24.514906         4.822580        2.096535   \n",
              "2      90.605288     68.700234         4.987521        3.707045   \n",
              "1     100.952695     71.096071         4.883805        2.667755   \n",
              "\n",
              "  param_ada__n_estimators                        params  split0_test_score  \\\n",
              "0                    1000   {'ada__n_estimators': 1000}           0.968457   \n",
              "2                   10000  {'ada__n_estimators': 10000}           0.972564   \n",
              "1                    5000   {'ada__n_estimators': 5000}           0.969731   \n",
              "\n",
              "   split1_test_score  split2_test_score  split3_test_score  split4_test_score  \\\n",
              "0           0.965115           0.970880           0.976942           0.970477   \n",
              "2           0.958559           0.972264           0.974472           0.971488   \n",
              "1           0.963034           0.971898           0.974217           0.969644   \n",
              "\n",
              "   mean_test_score  std_test_score  rank_test_score  \n",
              "0         0.970374        0.003866                1  \n",
              "2         0.969869        0.005740                2  \n",
              "1         0.969705        0.003733                3  "
            ],
            "text/html": [
              "\n",
              "  <div id=\"df-cd21bba4-6d62-4ce1-ae13-34e0bccff920\">\n",
              "    <div class=\"colab-df-container\">\n",
              "      <div>\n",
              "<style scoped>\n",
              "    .dataframe tbody tr th:only-of-type {\n",
              "        vertical-align: middle;\n",
              "    }\n",
              "\n",
              "    .dataframe tbody tr th {\n",
              "        vertical-align: top;\n",
              "    }\n",
              "\n",
              "    .dataframe thead th {\n",
              "        text-align: right;\n",
              "    }\n",
              "</style>\n",
              "<table border=\"1\" class=\"dataframe\">\n",
              "  <thead>\n",
              "    <tr style=\"text-align: right;\">\n",
              "      <th></th>\n",
              "      <th>mean_fit_time</th>\n",
              "      <th>std_fit_time</th>\n",
              "      <th>mean_score_time</th>\n",
              "      <th>std_score_time</th>\n",
              "      <th>param_ada__n_estimators</th>\n",
              "      <th>params</th>\n",
              "      <th>split0_test_score</th>\n",
              "      <th>split1_test_score</th>\n",
              "      <th>split2_test_score</th>\n",
              "      <th>split3_test_score</th>\n",
              "      <th>split4_test_score</th>\n",
              "      <th>mean_test_score</th>\n",
              "      <th>std_test_score</th>\n",
              "      <th>rank_test_score</th>\n",
              "    </tr>\n",
              "  </thead>\n",
              "  <tbody>\n",
              "    <tr>\n",
              "      <th>0</th>\n",
              "      <td>75.151709</td>\n",
              "      <td>24.514906</td>\n",
              "      <td>4.822580</td>\n",
              "      <td>2.096535</td>\n",
              "      <td>1000</td>\n",
              "      <td>{'ada__n_estimators': 1000}</td>\n",
              "      <td>0.968457</td>\n",
              "      <td>0.965115</td>\n",
              "      <td>0.970880</td>\n",
              "      <td>0.976942</td>\n",
              "      <td>0.970477</td>\n",
              "      <td>0.970374</td>\n",
              "      <td>0.003866</td>\n",
              "      <td>1</td>\n",
              "    </tr>\n",
              "    <tr>\n",
              "      <th>2</th>\n",
              "      <td>90.605288</td>\n",
              "      <td>68.700234</td>\n",
              "      <td>4.987521</td>\n",
              "      <td>3.707045</td>\n",
              "      <td>10000</td>\n",
              "      <td>{'ada__n_estimators': 10000}</td>\n",
              "      <td>0.972564</td>\n",
              "      <td>0.958559</td>\n",
              "      <td>0.972264</td>\n",
              "      <td>0.974472</td>\n",
              "      <td>0.971488</td>\n",
              "      <td>0.969869</td>\n",
              "      <td>0.005740</td>\n",
              "      <td>2</td>\n",
              "    </tr>\n",
              "    <tr>\n",
              "      <th>1</th>\n",
              "      <td>100.952695</td>\n",
              "      <td>71.096071</td>\n",
              "      <td>4.883805</td>\n",
              "      <td>2.667755</td>\n",
              "      <td>5000</td>\n",
              "      <td>{'ada__n_estimators': 5000}</td>\n",
              "      <td>0.969731</td>\n",
              "      <td>0.963034</td>\n",
              "      <td>0.971898</td>\n",
              "      <td>0.974217</td>\n",
              "      <td>0.969644</td>\n",
              "      <td>0.969705</td>\n",
              "      <td>0.003733</td>\n",
              "      <td>3</td>\n",
              "    </tr>\n",
              "  </tbody>\n",
              "</table>\n",
              "</div>\n",
              "      <button class=\"colab-df-convert\" onclick=\"convertToInteractive('df-cd21bba4-6d62-4ce1-ae13-34e0bccff920')\"\n",
              "              title=\"Convert this dataframe to an interactive table.\"\n",
              "              style=\"display:none;\">\n",
              "        \n",
              "  <svg xmlns=\"http://www.w3.org/2000/svg\" height=\"24px\"viewBox=\"0 0 24 24\"\n",
              "       width=\"24px\">\n",
              "    <path d=\"M0 0h24v24H0V0z\" fill=\"none\"/>\n",
              "    <path d=\"M18.56 5.44l.94 2.06.94-2.06 2.06-.94-2.06-.94-.94-2.06-.94 2.06-2.06.94zm-11 1L8.5 8.5l.94-2.06 2.06-.94-2.06-.94L8.5 2.5l-.94 2.06-2.06.94zm10 10l.94 2.06.94-2.06 2.06-.94-2.06-.94-.94-2.06-.94 2.06-2.06.94z\"/><path d=\"M17.41 7.96l-1.37-1.37c-.4-.4-.92-.59-1.43-.59-.52 0-1.04.2-1.43.59L10.3 9.45l-7.72 7.72c-.78.78-.78 2.05 0 2.83L4 21.41c.39.39.9.59 1.41.59.51 0 1.02-.2 1.41-.59l7.78-7.78 2.81-2.81c.8-.78.8-2.07 0-2.86zM5.41 20L4 18.59l7.72-7.72 1.47 1.35L5.41 20z\"/>\n",
              "  </svg>\n",
              "      </button>\n",
              "      \n",
              "  <style>\n",
              "    .colab-df-container {\n",
              "      display:flex;\n",
              "      flex-wrap:wrap;\n",
              "      gap: 12px;\n",
              "    }\n",
              "\n",
              "    .colab-df-convert {\n",
              "      background-color: #E8F0FE;\n",
              "      border: none;\n",
              "      border-radius: 50%;\n",
              "      cursor: pointer;\n",
              "      display: none;\n",
              "      fill: #1967D2;\n",
              "      height: 32px;\n",
              "      padding: 0 0 0 0;\n",
              "      width: 32px;\n",
              "    }\n",
              "\n",
              "    .colab-df-convert:hover {\n",
              "      background-color: #E2EBFA;\n",
              "      box-shadow: 0px 1px 2px rgba(60, 64, 67, 0.3), 0px 1px 3px 1px rgba(60, 64, 67, 0.15);\n",
              "      fill: #174EA6;\n",
              "    }\n",
              "\n",
              "    [theme=dark] .colab-df-convert {\n",
              "      background-color: #3B4455;\n",
              "      fill: #D2E3FC;\n",
              "    }\n",
              "\n",
              "    [theme=dark] .colab-df-convert:hover {\n",
              "      background-color: #434B5C;\n",
              "      box-shadow: 0px 1px 3px 1px rgba(0, 0, 0, 0.15);\n",
              "      filter: drop-shadow(0px 1px 2px rgba(0, 0, 0, 0.3));\n",
              "      fill: #FFFFFF;\n",
              "    }\n",
              "  </style>\n",
              "\n",
              "      <script>\n",
              "        const buttonEl =\n",
              "          document.querySelector('#df-cd21bba4-6d62-4ce1-ae13-34e0bccff920 button.colab-df-convert');\n",
              "        buttonEl.style.display =\n",
              "          google.colab.kernel.accessAllowed ? 'block' : 'none';\n",
              "\n",
              "        async function convertToInteractive(key) {\n",
              "          const element = document.querySelector('#df-cd21bba4-6d62-4ce1-ae13-34e0bccff920');\n",
              "          const dataTable =\n",
              "            await google.colab.kernel.invokeFunction('convertToInteractive',\n",
              "                                                     [key], {});\n",
              "          if (!dataTable) return;\n",
              "\n",
              "          const docLinkHtml = 'Like what you see? Visit the ' +\n",
              "            '<a target=\"_blank\" href=https://colab.research.google.com/notebooks/data_table.ipynb>data table notebook</a>'\n",
              "            + ' to learn more about interactive tables.';\n",
              "          element.innerHTML = '';\n",
              "          dataTable['output_type'] = 'display_data';\n",
              "          await google.colab.output.renderOutput(dataTable, element);\n",
              "          const docLink = document.createElement('div');\n",
              "          docLink.innerHTML = docLinkHtml;\n",
              "          element.appendChild(docLink);\n",
              "        }\n",
              "      </script>\n",
              "    </div>\n",
              "  </div>\n",
              "  "
            ]
          },
          "metadata": {},
          "execution_count": 76
        }
      ],
      "source": [
        "xgbr_results = pd.DataFrame(grid_ada_rfr.cv_results_)\n",
        "xgbr_results.sort_values(by=[\"rank_test_score\"])"
      ]
    },
    {
      "cell_type": "code",
      "execution_count": 77,
      "metadata": {
        "colab": {
          "base_uri": "https://localhost:8080/"
        },
        "execution": {
          "iopub.execute_input": "2022-07-05T01:02:43.684643Z",
          "iopub.status.busy": "2022-07-05T01:02:43.684163Z",
          "iopub.status.idle": "2022-07-05T01:02:45.252934Z",
          "shell.execute_reply": "2022-07-05T01:02:45.251778Z",
          "shell.execute_reply.started": "2022-07-05T01:02:43.684604Z"
        },
        "outputId": "5486bb8d-19a5-4bb0-bb47-92572efcb743",
        "id": "1nw7PmaR_SUa"
      },
      "outputs": [
        {
          "output_type": "stream",
          "name": "stdout",
          "text": [
            "\n",
            "Métricas de treino:\n",
            "\n",
            "R^2: 0.97\n",
            "MAE: 2.20\n",
            "RMSE: 2.59\n",
            "\n",
            "Métricas de teste:\n",
            "\n",
            "R^2: 0.97\n",
            "MAE: 1.97\n",
            "RMSE: 2.38\n"
          ]
        }
      ],
      "source": [
        "# Predições de treino\n",
        "y_pred_train = grid_ada_rfr.predict(X_train)\n",
        "\n",
        "print(\"\\nMétricas de treino:\\n\")\n",
        "print(f\"R^2: {r2_score(y_train, y_pred_train):.2f}\")\n",
        "print(f\"MAE: {mean_absolute_error(y_train, y_pred_train):.2f}\")\n",
        "print(f\"RMSE: {np.sqrt(mean_squared_error(y_train, y_pred_train)):.2f}\")\n",
        "\n",
        "# Predições de teste\n",
        "y_pred_test = grid_ada_rfr.predict(X_test)\n",
        "\n",
        "print(\"\\nMétricas de teste:\\n\")\n",
        "print(f\"R^2: {r2_score(y_test, y_pred_test):.2f}\")\n",
        "print(f\"MAE: {mean_absolute_error(y_test, y_pred_test):.2f}\")\n",
        "print(f\"RMSE: {np.sqrt(mean_squared_error(y_test, y_pred_test)):.2f}\") "
      ]
    },
    {
      "cell_type": "markdown",
      "source": [
        "\n",
        "\n",
        "---\n",
        "\n"
      ],
      "metadata": {
        "id": "IBYYCeqB_SUb"
      }
    },
    {
      "cell_type": "markdown",
      "source": [
        "**Nos dois gráficos abaixos percebemos que os dados de treinos não gabaritaram(não gravaram a resposta) e, sim, geraram erros extremamentes pequenos. Isso se dá pela coesão dos dados. Podemos ver pela MAE que se houvesse gabaritado as respostas (overfitting) os dados de teste não gerariam erros.**"
      ],
      "metadata": {
        "id": "8i-5D86H_SUb"
      }
    },
    {
      "cell_type": "markdown",
      "source": [
        "Peguei um exemplo:"
      ],
      "metadata": {
        "id": "avfzKjO7_SUb"
      }
    },
    {
      "cell_type": "code",
      "source": [
        "df.iloc[[0]]"
      ],
      "metadata": {
        "colab": {
          "base_uri": "https://localhost:8080/",
          "height": 81
        },
        "outputId": "d2089ad4-8371-47fe-9867-190cbe4731d2",
        "id": "XuJbhm8J_SUb"
      },
      "execution_count": 78,
      "outputs": [
        {
          "output_type": "execute_result",
          "data": {
            "text/plain": [
              "   gender race/ethnicity parental level of education     lunch  \\\n",
              "0  female        group B           bachelor's degree  standard   \n",
              "\n",
              "  test preparation course  math score  reading score  writing score      media  \n",
              "0                    none          72             72             74  72.666667  "
            ],
            "text/html": [
              "\n",
              "  <div id=\"df-24968fa8-3e2a-4ebf-8242-95d9754d189c\">\n",
              "    <div class=\"colab-df-container\">\n",
              "      <div>\n",
              "<style scoped>\n",
              "    .dataframe tbody tr th:only-of-type {\n",
              "        vertical-align: middle;\n",
              "    }\n",
              "\n",
              "    .dataframe tbody tr th {\n",
              "        vertical-align: top;\n",
              "    }\n",
              "\n",
              "    .dataframe thead th {\n",
              "        text-align: right;\n",
              "    }\n",
              "</style>\n",
              "<table border=\"1\" class=\"dataframe\">\n",
              "  <thead>\n",
              "    <tr style=\"text-align: right;\">\n",
              "      <th></th>\n",
              "      <th>gender</th>\n",
              "      <th>race/ethnicity</th>\n",
              "      <th>parental level of education</th>\n",
              "      <th>lunch</th>\n",
              "      <th>test preparation course</th>\n",
              "      <th>math score</th>\n",
              "      <th>reading score</th>\n",
              "      <th>writing score</th>\n",
              "      <th>media</th>\n",
              "    </tr>\n",
              "  </thead>\n",
              "  <tbody>\n",
              "    <tr>\n",
              "      <th>0</th>\n",
              "      <td>female</td>\n",
              "      <td>group B</td>\n",
              "      <td>bachelor's degree</td>\n",
              "      <td>standard</td>\n",
              "      <td>none</td>\n",
              "      <td>72</td>\n",
              "      <td>72</td>\n",
              "      <td>74</td>\n",
              "      <td>72.666667</td>\n",
              "    </tr>\n",
              "  </tbody>\n",
              "</table>\n",
              "</div>\n",
              "      <button class=\"colab-df-convert\" onclick=\"convertToInteractive('df-24968fa8-3e2a-4ebf-8242-95d9754d189c')\"\n",
              "              title=\"Convert this dataframe to an interactive table.\"\n",
              "              style=\"display:none;\">\n",
              "        \n",
              "  <svg xmlns=\"http://www.w3.org/2000/svg\" height=\"24px\"viewBox=\"0 0 24 24\"\n",
              "       width=\"24px\">\n",
              "    <path d=\"M0 0h24v24H0V0z\" fill=\"none\"/>\n",
              "    <path d=\"M18.56 5.44l.94 2.06.94-2.06 2.06-.94-2.06-.94-.94-2.06-.94 2.06-2.06.94zm-11 1L8.5 8.5l.94-2.06 2.06-.94-2.06-.94L8.5 2.5l-.94 2.06-2.06.94zm10 10l.94 2.06.94-2.06 2.06-.94-2.06-.94-.94-2.06-.94 2.06-2.06.94z\"/><path d=\"M17.41 7.96l-1.37-1.37c-.4-.4-.92-.59-1.43-.59-.52 0-1.04.2-1.43.59L10.3 9.45l-7.72 7.72c-.78.78-.78 2.05 0 2.83L4 21.41c.39.39.9.59 1.41.59.51 0 1.02-.2 1.41-.59l7.78-7.78 2.81-2.81c.8-.78.8-2.07 0-2.86zM5.41 20L4 18.59l7.72-7.72 1.47 1.35L5.41 20z\"/>\n",
              "  </svg>\n",
              "      </button>\n",
              "      \n",
              "  <style>\n",
              "    .colab-df-container {\n",
              "      display:flex;\n",
              "      flex-wrap:wrap;\n",
              "      gap: 12px;\n",
              "    }\n",
              "\n",
              "    .colab-df-convert {\n",
              "      background-color: #E8F0FE;\n",
              "      border: none;\n",
              "      border-radius: 50%;\n",
              "      cursor: pointer;\n",
              "      display: none;\n",
              "      fill: #1967D2;\n",
              "      height: 32px;\n",
              "      padding: 0 0 0 0;\n",
              "      width: 32px;\n",
              "    }\n",
              "\n",
              "    .colab-df-convert:hover {\n",
              "      background-color: #E2EBFA;\n",
              "      box-shadow: 0px 1px 2px rgba(60, 64, 67, 0.3), 0px 1px 3px 1px rgba(60, 64, 67, 0.15);\n",
              "      fill: #174EA6;\n",
              "    }\n",
              "\n",
              "    [theme=dark] .colab-df-convert {\n",
              "      background-color: #3B4455;\n",
              "      fill: #D2E3FC;\n",
              "    }\n",
              "\n",
              "    [theme=dark] .colab-df-convert:hover {\n",
              "      background-color: #434B5C;\n",
              "      box-shadow: 0px 1px 3px 1px rgba(0, 0, 0, 0.15);\n",
              "      filter: drop-shadow(0px 1px 2px rgba(0, 0, 0, 0.3));\n",
              "      fill: #FFFFFF;\n",
              "    }\n",
              "  </style>\n",
              "\n",
              "      <script>\n",
              "        const buttonEl =\n",
              "          document.querySelector('#df-24968fa8-3e2a-4ebf-8242-95d9754d189c button.colab-df-convert');\n",
              "        buttonEl.style.display =\n",
              "          google.colab.kernel.accessAllowed ? 'block' : 'none';\n",
              "\n",
              "        async function convertToInteractive(key) {\n",
              "          const element = document.querySelector('#df-24968fa8-3e2a-4ebf-8242-95d9754d189c');\n",
              "          const dataTable =\n",
              "            await google.colab.kernel.invokeFunction('convertToInteractive',\n",
              "                                                     [key], {});\n",
              "          if (!dataTable) return;\n",
              "\n",
              "          const docLinkHtml = 'Like what you see? Visit the ' +\n",
              "            '<a target=\"_blank\" href=https://colab.research.google.com/notebooks/data_table.ipynb>data table notebook</a>'\n",
              "            + ' to learn more about interactive tables.';\n",
              "          element.innerHTML = '';\n",
              "          dataTable['output_type'] = 'display_data';\n",
              "          await google.colab.output.renderOutput(dataTable, element);\n",
              "          const docLink = document.createElement('div');\n",
              "          docLink.innerHTML = docLinkHtml;\n",
              "          element.appendChild(docLink);\n",
              "        }\n",
              "      </script>\n",
              "    </div>\n",
              "  </div>\n",
              "  "
            ]
          },
          "metadata": {},
          "execution_count": 78
        }
      ]
    },
    {
      "cell_type": "code",
      "source": [
        "grid_ada_rfr.predict(df.iloc[[0]])\n"
      ],
      "metadata": {
        "colab": {
          "base_uri": "https://localhost:8080/"
        },
        "outputId": "fb7620af-f847-4a5c-e698-8a508cd42e11",
        "id": "oeYf2A3l_SUc"
      },
      "execution_count": 79,
      "outputs": [
        {
          "output_type": "execute_result",
          "data": {
            "text/plain": [
              "array([71.02789965])"
            ]
          },
          "metadata": {},
          "execution_count": 79
        }
      ]
    },
    {
      "cell_type": "markdown",
      "source": [
        "\n",
        "\n",
        "---\n",
        "\n"
      ],
      "metadata": {
        "id": "qjaMkRGM_SUc"
      }
    },
    {
      "cell_type": "code",
      "execution_count": 80,
      "metadata": {
        "colab": {
          "base_uri": "https://localhost:8080/",
          "height": 438
        },
        "execution": {
          "iopub.execute_input": "2022-07-05T01:05:58.697717Z",
          "iopub.status.busy": "2022-07-05T01:05:58.696913Z",
          "iopub.status.idle": "2022-07-05T01:05:59.069653Z",
          "shell.execute_reply": "2022-07-05T01:05:59.068345Z",
          "shell.execute_reply.started": "2022-07-05T01:05:58.697665Z"
        },
        "outputId": "a5b46dd0-97b8-4c69-8e35-1909553af4a9",
        "id": "IMPj7Ej9_SUc"
      },
      "outputs": [
        {
          "output_type": "display_data",
          "data": {
            "text/plain": [
              "<Figure size 2160x576 with 1 Axes>"
            ],
            "image/png": "[encoded data removed]"
          },
          "metadata": {
            "needs_background": "light"
          }
        }
      ],
      "source": [
        "plt.figure(figsize=(30,8))\n",
        "x_ax = range(len(y_test))\n",
        "plt.plot(x_ax, y_test, label=\"Notas reais\")\n",
        "plt.plot(x_ax, y_pred_test, label=\"Notas preditas\")\n",
        "plt.title(\"Notas reais | Notas preditas\")\n",
        "plt.legend()\n",
        "plt.show();"
      ]
    },
    {
      "cell_type": "code",
      "source": [
        "sns.jointplot(y_test, y_pred_test)\n",
        "plt.xlabel(\"Valores reais\")\n",
        "plt.ylabel(\"Valores preditos\");"
      ],
      "metadata": {
        "colab": {
          "base_uri": "https://localhost:8080/",
          "height": 441
        },
        "outputId": "4e8698ec-f4a2-4c62-9f2f-1598595d8495",
        "id": "TSAz_MYl_SUc"
      },
      "execution_count": 81,
      "outputs": [
        {
          "output_type": "display_data",
          "data": {
            "text/plain": [
              "<Figure size 432x432 with 3 Axes>"
            ],
            "image/png": "[encoded data removed]"
          },
          "metadata": {
            "needs_background": "light"
          }
        }
      ]
    },
    {
      "cell_type": "code",
      "execution_count": 82,
      "metadata": {
        "execution": {
          "iopub.execute_input": "2022-07-04T23:50:10.517694Z",
          "iopub.status.busy": "2022-07-04T23:50:10.517196Z",
          "iopub.status.idle": "2022-07-04T23:50:10.524008Z",
          "shell.execute_reply": "2022-07-04T23:50:10.522741Z",
          "shell.execute_reply.started": "2022-07-04T23:50:10.517659Z"
        },
        "id": "N0n4qyhs_SUd"
      },
      "outputs": [],
      "source": [
        "import pickle"
      ]
    },
    {
      "cell_type": "code",
      "execution_count": 83,
      "metadata": {
        "execution": {
          "iopub.execute_input": "2022-07-05T01:03:00.685460Z",
          "iopub.status.busy": "2022-07-05T01:03:00.684448Z",
          "iopub.status.idle": "2022-07-05T01:03:00.790710Z",
          "shell.execute_reply": "2022-07-05T01:03:00.788824Z",
          "shell.execute_reply.started": "2022-07-05T01:03:00.685404Z"
        },
        "id": "FMtAl40h_SUd"
      },
      "outputs": [],
      "source": [
        "with open(\"grid_ada_rfr.pkl\", \"wb\") as f:\n",
        "    pickle.dump(grid_ada_rfr, f)"
      ]
    },
    {
      "cell_type": "code",
      "execution_count": 63,
      "metadata": {
        "id": "hmFJHjYf_SUd"
      },
      "outputs": [],
      "source": [
        "with open(\"grid_ada_rfr.pkl\", \"rb\") as f:\n",
        "    \n",
        "    grid_ada_rfr = pickle.load(f)"
      ]
    },
    {
      "cell_type": "markdown",
      "metadata": {
        "id": "nXJ6R8cN_SUd"
      },
      "source": [
        "**Vamos criar uma tabela com a porcentagem de acertos para cada dado**"
      ]
    },
    {
      "cell_type": "code",
      "execution_count": 84,
      "metadata": {
        "execution": {
          "iopub.execute_input": "2022-07-05T01:07:40.588922Z",
          "iopub.status.busy": "2022-07-05T01:07:40.588438Z",
          "iopub.status.idle": "2022-07-05T01:07:40.596087Z",
          "shell.execute_reply": "2022-07-05T01:07:40.594620Z",
          "shell.execute_reply.started": "2022-07-05T01:07:40.588882Z"
        },
        "id": "mLe9-m2t_SUe"
      },
      "outputs": [],
      "source": [
        "tabela = pd.DataFrame()"
      ]
    },
    {
      "cell_type": "code",
      "execution_count": 85,
      "metadata": {
        "execution": {
          "iopub.execute_input": "2022-07-05T01:08:00.638005Z",
          "iopub.status.busy": "2022-07-05T01:08:00.637552Z",
          "iopub.status.idle": "2022-07-05T01:08:00.646545Z",
          "shell.execute_reply": "2022-07-05T01:08:00.645413Z",
          "shell.execute_reply.started": "2022-07-05T01:08:00.637972Z"
        },
        "id": "88CaGsz5_SUe"
      },
      "outputs": [],
      "source": [
        "tabela[\"valores reais\"] = y_test"
      ]
    },
    {
      "cell_type": "code",
      "execution_count": 86,
      "metadata": {
        "execution": {
          "iopub.execute_input": "2022-07-05T01:08:27.467412Z",
          "iopub.status.busy": "2022-07-05T01:08:27.466894Z",
          "iopub.status.idle": "2022-07-05T01:08:27.474561Z",
          "shell.execute_reply": "2022-07-05T01:08:27.473152Z",
          "shell.execute_reply.started": "2022-07-05T01:08:27.467371Z"
        },
        "id": "WqoxHv76_SUe"
      },
      "outputs": [],
      "source": [
        "tabela[\"valores preditos\"] = y_pred_test"
      ]
    },
    {
      "cell_type": "code",
      "execution_count": 87,
      "metadata": {
        "colab": {
          "base_uri": "https://localhost:8080/",
          "height": 424
        },
        "outputId": "8a681087-459a-47d8-89a3-0e24eec4232d",
        "id": "xE4lan3m_SUe"
      },
      "outputs": [
        {
          "output_type": "execute_result",
          "data": {
            "text/plain": [
              "     valores reais  valores preditos\n",
              "518      74.000000         74.468576\n",
              "871      72.666667         71.524328\n",
              "797      78.333333         77.503036\n",
              "274      83.000000         78.070872\n",
              "325      88.666667         85.771052\n",
              "..             ...               ...\n",
              "909      68.000000         63.985050\n",
              "757      70.000000         68.379815\n",
              "965      68.000000         68.612907\n",
              "4        76.333333         74.667789\n",
              "151      70.666667         67.670674\n",
              "\n",
              "[200 rows x 2 columns]"
            ],
            "text/html": [
              "\n",
              "  <div id=\"df-56f0c4d1-33b1-45f1-a799-e457fed98aa1\">\n",
              "    <div class=\"colab-df-container\">\n",
              "      <div>\n",
              "<style scoped>\n",
              "    .dataframe tbody tr th:only-of-type {\n",
              "        vertical-align: middle;\n",
              "    }\n",
              "\n",
              "    .dataframe tbody tr th {\n",
              "        vertical-align: top;\n",
              "    }\n",
              "\n",
              "    .dataframe thead th {\n",
              "        text-align: right;\n",
              "    }\n",
              "</style>\n",
              "<table border=\"1\" class=\"dataframe\">\n",
              "  <thead>\n",
              "    <tr style=\"text-align: right;\">\n",
              "      <th></th>\n",
              "      <th>valores reais</th>\n",
              "      <th>valores preditos</th>\n",
              "    </tr>\n",
              "  </thead>\n",
              "  <tbody>\n",
              "    <tr>\n",
              "      <th>518</th>\n",
              "      <td>74.000000</td>\n",
              "      <td>74.468576</td>\n",
              "    </tr>\n",
              "    <tr>\n",
              "      <th>871</th>\n",
              "      <td>72.666667</td>\n",
              "      <td>71.524328</td>\n",
              "    </tr>\n",
              "    <tr>\n",
              "      <th>797</th>\n",
              "      <td>78.333333</td>\n",
              "      <td>77.503036</td>\n",
              "    </tr>\n",
              "    <tr>\n",
              "      <th>274</th>\n",
              "      <td>83.000000</td>\n",
              "      <td>78.070872</td>\n",
              "    </tr>\n",
              "    <tr>\n",
              "      <th>325</th>\n",
              "      <td>88.666667</td>\n",
              "      <td>85.771052</td>\n",
              "    </tr>\n",
              "    <tr>\n",
              "      <th>...</th>\n",
              "      <td>...</td>\n",
              "      <td>...</td>\n",
              "    </tr>\n",
              "    <tr>\n",
              "      <th>909</th>\n",
              "      <td>68.000000</td>\n",
              "      <td>63.985050</td>\n",
              "    </tr>\n",
              "    <tr>\n",
              "      <th>757</th>\n",
              "      <td>70.000000</td>\n",
              "      <td>68.379815</td>\n",
              "    </tr>\n",
              "    <tr>\n",
              "      <th>965</th>\n",
              "      <td>68.000000</td>\n",
              "      <td>68.612907</td>\n",
              "    </tr>\n",
              "    <tr>\n",
              "      <th>4</th>\n",
              "      <td>76.333333</td>\n",
              "      <td>74.667789</td>\n",
              "    </tr>\n",
              "    <tr>\n",
              "      <th>151</th>\n",
              "      <td>70.666667</td>\n",
              "      <td>67.670674</td>\n",
              "    </tr>\n",
              "  </tbody>\n",
              "</table>\n",
              "<p>200 rows × 2 columns</p>\n",
              "</div>\n",
              "      <button class=\"colab-df-convert\" onclick=\"convertToInteractive('df-56f0c4d1-33b1-45f1-a799-e457fed98aa1')\"\n",
              "              title=\"Convert this dataframe to an interactive table.\"\n",
              "              style=\"display:none;\">\n",
              "        \n",
              "  <svg xmlns=\"http://www.w3.org/2000/svg\" height=\"24px\"viewBox=\"0 0 24 24\"\n",
              "       width=\"24px\">\n",
              "    <path d=\"M0 0h24v24H0V0z\" fill=\"none\"/>\n",
              "    <path d=\"M18.56 5.44l.94 2.06.94-2.06 2.06-.94-2.06-.94-.94-2.06-.94 2.06-2.06.94zm-11 1L8.5 8.5l.94-2.06 2.06-.94-2.06-.94L8.5 2.5l-.94 2.06-2.06.94zm10 10l.94 2.06.94-2.06 2.06-.94-2.06-.94-.94-2.06-.94 2.06-2.06.94z\"/><path d=\"M17.41 7.96l-1.37-1.37c-.4-.4-.92-.59-1.43-.59-.52 0-1.04.2-1.43.59L10.3 9.45l-7.72 7.72c-.78.78-.78 2.05 0 2.83L4 21.41c.39.39.9.59 1.41.59.51 0 1.02-.2 1.41-.59l7.78-7.78 2.81-2.81c.8-.78.8-2.07 0-2.86zM5.41 20L4 18.59l7.72-7.72 1.47 1.35L5.41 20z\"/>\n",
              "  </svg>\n",
              "      </button>\n",
              "      \n",
              "  <style>\n",
              "    .colab-df-container {\n",
              "      display:flex;\n",
              "      flex-wrap:wrap;\n",
              "      gap: 12px;\n",
              "    }\n",
              "\n",
              "    .colab-df-convert {\n",
              "      background-color: #E8F0FE;\n",
              "      border: none;\n",
              "      border-radius: 50%;\n",
              "      cursor: pointer;\n",
              "      display: none;\n",
              "      fill: #1967D2;\n",
              "      height: 32px;\n",
              "      padding: 0 0 0 0;\n",
              "      width: 32px;\n",
              "    }\n",
              "\n",
              "    .colab-df-convert:hover {\n",
              "      background-color: #E2EBFA;\n",
              "      box-shadow: 0px 1px 2px rgba(60, 64, 67, 0.3), 0px 1px 3px 1px rgba(60, 64, 67, 0.15);\n",
              "      fill: #174EA6;\n",
              "    }\n",
              "\n",
              "    [theme=dark] .colab-df-convert {\n",
              "      background-color: #3B4455;\n",
              "      fill: #D2E3FC;\n",
              "    }\n",
              "\n",
              "    [theme=dark] .colab-df-convert:hover {\n",
              "      background-color: #434B5C;\n",
              "      box-shadow: 0px 1px 3px 1px rgba(0, 0, 0, 0.15);\n",
              "      filter: drop-shadow(0px 1px 2px rgba(0, 0, 0, 0.3));\n",
              "      fill: #FFFFFF;\n",
              "    }\n",
              "  </style>\n",
              "\n",
              "      <script>\n",
              "        const buttonEl =\n",
              "          document.querySelector('#df-56f0c4d1-33b1-45f1-a799-e457fed98aa1 button.colab-df-convert');\n",
              "        buttonEl.style.display =\n",
              "          google.colab.kernel.accessAllowed ? 'block' : 'none';\n",
              "\n",
              "        async function convertToInteractive(key) {\n",
              "          const element = document.querySelector('#df-56f0c4d1-33b1-45f1-a799-e457fed98aa1');\n",
              "          const dataTable =\n",
              "            await google.colab.kernel.invokeFunction('convertToInteractive',\n",
              "                                                     [key], {});\n",
              "          if (!dataTable) return;\n",
              "\n",
              "          const docLinkHtml = 'Like what you see? Visit the ' +\n",
              "            '<a target=\"_blank\" href=https://colab.research.google.com/notebooks/data_table.ipynb>data table notebook</a>'\n",
              "            + ' to learn more about interactive tables.';\n",
              "          element.innerHTML = '';\n",
              "          dataTable['output_type'] = 'display_data';\n",
              "          await google.colab.output.renderOutput(dataTable, element);\n",
              "          const docLink = document.createElement('div');\n",
              "          docLink.innerHTML = docLinkHtml;\n",
              "          element.appendChild(docLink);\n",
              "        }\n",
              "      </script>\n",
              "    </div>\n",
              "  </div>\n",
              "  "
            ]
          },
          "metadata": {},
          "execution_count": 87
        }
      ],
      "source": [
        "tabela"
      ]
    },
    {
      "cell_type": "code",
      "source": [
        "tabela.to_csv(\"07_educacao_rfr.csv\")"
      ],
      "metadata": {
        "id": "MIqTr2op_SUe"
      },
      "execution_count": 88,
      "outputs": []
    },
    {
      "cell_type": "markdown",
      "source": [
        "## **Intervalo de confiança do ADABoost - Vamos simular intervalos para amostras com 30 e 100 dados:**"
      ],
      "metadata": {
        "id": "SPNy7bmrlPvy"
      }
    },
    {
      "cell_type": "code",
      "source": [
        "from sklearn.metrics import accuracy_score\n",
        "from sklearn.model_selection import cross_val_score, KFold\n",
        "from scipy.stats import norm\n",
        "from scipy import stats\n",
        "from scipy.stats import t"
      ],
      "metadata": {
        "id": "_q6SjEsglPvy"
      },
      "execution_count": 89,
      "outputs": []
    },
    {
      "cell_type": "code",
      "source": [
        "df = pd.read_csv(\"StudentsPerformance.csv\")"
      ],
      "metadata": {
        "id": "vixTw5DYMlSY"
      },
      "execution_count": 91,
      "outputs": []
    },
    {
      "cell_type": "code",
      "source": [
        "curso_notas = df[[\"test preparation course\", \"math score\", \"reading score\", \"writing score\"]]\n",
        "df_notas = df[[\"math score\", \"reading score\", \"writing score\"]]"
      ],
      "metadata": {
        "id": "Y5mNiEQkMlSZ"
      },
      "execution_count": 92,
      "outputs": []
    },
    {
      "cell_type": "code",
      "source": [
        "lista_col = []\n",
        "lista_media = []\n",
        "for col in df_notas:\n",
        "    lista_col.append(col)\n",
        "for num in range(len(df_notas)):\n",
        "  media = (df_notas[lista_col[0]].iloc[num] + df_notas[lista_col[1]].iloc[num] + df_notas[lista_col[2]].iloc[num])/3\n",
        "  lista_media.append(media)\n",
        "curso_notas[\"media\"] = lista_media\n",
        "df[\"media\"] = lista_media\n",
        "df.head()"
      ],
      "metadata": {
        "colab": {
          "base_uri": "https://localhost:8080/",
          "height": 206
        },
        "outputId": "550ea40c-7bea-4922-838c-dc3ca0dcb2b7",
        "id": "mGXyHRZOMlSZ"
      },
      "execution_count": 93,
      "outputs": [
        {
          "output_type": "execute_result",
          "data": {
            "text/plain": [
              "   gender race/ethnicity parental level of education         lunch  \\\n",
              "0  female        group B           bachelor's degree      standard   \n",
              "1  female        group C                some college      standard   \n",
              "2  female        group B             master's degree      standard   \n",
              "3    male        group A          associate's degree  free/reduced   \n",
              "4    male        group C                some college      standard   \n",
              "\n",
              "  test preparation course  math score  reading score  writing score      media  \n",
              "0                    none          72             72             74  72.666667  \n",
              "1               completed          69             90             88  82.333333  \n",
              "2                    none          90             95             93  92.666667  \n",
              "3                    none          47             57             44  49.333333  \n",
              "4                    none          76             78             75  76.333333  "
            ],
            "text/html": [
              "\n",
              "  <div id=\"df-ab6acb97-54e6-4ad1-8cf8-115ae8f150dd\">\n",
              "    <div class=\"colab-df-container\">\n",
              "      <div>\n",
              "<style scoped>\n",
              "    .dataframe tbody tr th:only-of-type {\n",
              "        vertical-align: middle;\n",
              "    }\n",
              "\n",
              "    .dataframe tbody tr th {\n",
              "        vertical-align: top;\n",
              "    }\n",
              "\n",
              "    .dataframe thead th {\n",
              "        text-align: right;\n",
              "    }\n",
              "</style>\n",
              "<table border=\"1\" class=\"dataframe\">\n",
              "  <thead>\n",
              "    <tr style=\"text-align: right;\">\n",
              "      <th></th>\n",
              "      <th>gender</th>\n",
              "      <th>race/ethnicity</th>\n",
              "      <th>parental level of education</th>\n",
              "      <th>lunch</th>\n",
              "      <th>test preparation course</th>\n",
              "      <th>math score</th>\n",
              "      <th>reading score</th>\n",
              "      <th>writing score</th>\n",
              "      <th>media</th>\n",
              "    </tr>\n",
              "  </thead>\n",
              "  <tbody>\n",
              "    <tr>\n",
              "      <th>0</th>\n",
              "      <td>female</td>\n",
              "      <td>group B</td>\n",
              "      <td>bachelor's degree</td>\n",
              "      <td>standard</td>\n",
              "      <td>none</td>\n",
              "      <td>72</td>\n",
              "      <td>72</td>\n",
              "      <td>74</td>\n",
              "      <td>72.666667</td>\n",
              "    </tr>\n",
              "    <tr>\n",
              "      <th>1</th>\n",
              "      <td>female</td>\n",
              "      <td>group C</td>\n",
              "      <td>some college</td>\n",
              "      <td>standard</td>\n",
              "      <td>completed</td>\n",
              "      <td>69</td>\n",
              "      <td>90</td>\n",
              "      <td>88</td>\n",
              "      <td>82.333333</td>\n",
              "    </tr>\n",
              "    <tr>\n",
              "      <th>2</th>\n",
              "      <td>female</td>\n",
              "      <td>group B</td>\n",
              "      <td>master's degree</td>\n",
              "      <td>standard</td>\n",
              "      <td>none</td>\n",
              "      <td>90</td>\n",
              "      <td>95</td>\n",
              "      <td>93</td>\n",
              "      <td>92.666667</td>\n",
              "    </tr>\n",
              "    <tr>\n",
              "      <th>3</th>\n",
              "      <td>male</td>\n",
              "      <td>group A</td>\n",
              "      <td>associate's degree</td>\n",
              "      <td>free/reduced</td>\n",
              "      <td>none</td>\n",
              "      <td>47</td>\n",
              "      <td>57</td>\n",
              "      <td>44</td>\n",
              "      <td>49.333333</td>\n",
              "    </tr>\n",
              "    <tr>\n",
              "      <th>4</th>\n",
              "      <td>male</td>\n",
              "      <td>group C</td>\n",
              "      <td>some college</td>\n",
              "      <td>standard</td>\n",
              "      <td>none</td>\n",
              "      <td>76</td>\n",
              "      <td>78</td>\n",
              "      <td>75</td>\n",
              "      <td>76.333333</td>\n",
              "    </tr>\n",
              "  </tbody>\n",
              "</table>\n",
              "</div>\n",
              "      <button class=\"colab-df-convert\" onclick=\"convertToInteractive('df-ab6acb97-54e6-4ad1-8cf8-115ae8f150dd')\"\n",
              "              title=\"Convert this dataframe to an interactive table.\"\n",
              "              style=\"display:none;\">\n",
              "        \n",
              "  <svg xmlns=\"http://www.w3.org/2000/svg\" height=\"24px\"viewBox=\"0 0 24 24\"\n",
              "       width=\"24px\">\n",
              "    <path d=\"M0 0h24v24H0V0z\" fill=\"none\"/>\n",
              "    <path d=\"M18.56 5.44l.94 2.06.94-2.06 2.06-.94-2.06-.94-.94-2.06-.94 2.06-2.06.94zm-11 1L8.5 8.5l.94-2.06 2.06-.94-2.06-.94L8.5 2.5l-.94 2.06-2.06.94zm10 10l.94 2.06.94-2.06 2.06-.94-2.06-.94-.94-2.06-.94 2.06-2.06.94z\"/><path d=\"M17.41 7.96l-1.37-1.37c-.4-.4-.92-.59-1.43-.59-.52 0-1.04.2-1.43.59L10.3 9.45l-7.72 7.72c-.78.78-.78 2.05 0 2.83L4 21.41c.39.39.9.59 1.41.59.51 0 1.02-.2 1.41-.59l7.78-7.78 2.81-2.81c.8-.78.8-2.07 0-2.86zM5.41 20L4 18.59l7.72-7.72 1.47 1.35L5.41 20z\"/>\n",
              "  </svg>\n",
              "      </button>\n",
              "      \n",
              "  <style>\n",
              "    .colab-df-container {\n",
              "      display:flex;\n",
              "      flex-wrap:wrap;\n",
              "      gap: 12px;\n",
              "    }\n",
              "\n",
              "    .colab-df-convert {\n",
              "      background-color: #E8F0FE;\n",
              "      border: none;\n",
              "      border-radius: 50%;\n",
              "      cursor: pointer;\n",
              "      display: none;\n",
              "      fill: #1967D2;\n",
              "      height: 32px;\n",
              "      padding: 0 0 0 0;\n",
              "      width: 32px;\n",
              "    }\n",
              "\n",
              "    .colab-df-convert:hover {\n",
              "      background-color: #E2EBFA;\n",
              "      box-shadow: 0px 1px 2px rgba(60, 64, 67, 0.3), 0px 1px 3px 1px rgba(60, 64, 67, 0.15);\n",
              "      fill: #174EA6;\n",
              "    }\n",
              "\n",
              "    [theme=dark] .colab-df-convert {\n",
              "      background-color: #3B4455;\n",
              "      fill: #D2E3FC;\n",
              "    }\n",
              "\n",
              "    [theme=dark] .colab-df-convert:hover {\n",
              "      background-color: #434B5C;\n",
              "      box-shadow: 0px 1px 3px 1px rgba(0, 0, 0, 0.15);\n",
              "      filter: drop-shadow(0px 1px 2px rgba(0, 0, 0, 0.3));\n",
              "      fill: #FFFFFF;\n",
              "    }\n",
              "  </style>\n",
              "\n",
              "      <script>\n",
              "        const buttonEl =\n",
              "          document.querySelector('#df-ab6acb97-54e6-4ad1-8cf8-115ae8f150dd button.colab-df-convert');\n",
              "        buttonEl.style.display =\n",
              "          google.colab.kernel.accessAllowed ? 'block' : 'none';\n",
              "\n",
              "        async function convertToInteractive(key) {\n",
              "          const element = document.querySelector('#df-ab6acb97-54e6-4ad1-8cf8-115ae8f150dd');\n",
              "          const dataTable =\n",
              "            await google.colab.kernel.invokeFunction('convertToInteractive',\n",
              "                                                     [key], {});\n",
              "          if (!dataTable) return;\n",
              "\n",
              "          const docLinkHtml = 'Like what you see? Visit the ' +\n",
              "            '<a target=\"_blank\" href=https://colab.research.google.com/notebooks/data_table.ipynb>data table notebook</a>'\n",
              "            + ' to learn more about interactive tables.';\n",
              "          element.innerHTML = '';\n",
              "          dataTable['output_type'] = 'display_data';\n",
              "          await google.colab.output.renderOutput(dataTable, element);\n",
              "          const docLink = document.createElement('div');\n",
              "          docLink.innerHTML = docLinkHtml;\n",
              "          element.appendChild(docLink);\n",
              "        }\n",
              "      </script>\n",
              "    </div>\n",
              "  </div>\n",
              "  "
            ]
          },
          "metadata": {},
          "execution_count": 93
        }
      ]
    },
    {
      "cell_type": "markdown",
      "source": [
        "**Transformando as Features categóricas em numéricas - OrdinalEncoder() - Feature com mais de 2 dados diferentes.**"
      ],
      "metadata": {
        "id": "GhA18QqjMlSZ"
      }
    },
    {
      "cell_type": "code",
      "source": [
        "oe =  OrdinalEncoder()\n",
        "oe.fit(df[[\"gender\", \"test preparation course\", \"lunch\", \"race/ethnicity\", \"parental level of education\"]])\n",
        "\n",
        "df[[\"gender\", \"test preparation course\", \"lunch\", \"race/ethnicity\", \"parental level of education\"]] = oe.transform(df[[\"gender\", \"test preparation course\", \"lunch\", \"race/ethnicity\", \"parental level of education\"]])"
      ],
      "metadata": {
        "id": "JYQR5ExDMlSa"
      },
      "execution_count": 94,
      "outputs": []
    },
    {
      "cell_type": "markdown",
      "source": [
        "**Vamos escalonar todas as Features, pois a amplitude entre os dados está muito grande, isso pode causar um viés no resultado final:**"
      ],
      "metadata": {
        "id": "1d6HobLBMlSa"
      }
    },
    {
      "cell_type": "code",
      "source": [
        "df.columns"
      ],
      "metadata": {
        "colab": {
          "base_uri": "https://localhost:8080/"
        },
        "outputId": "84a87a95-afdc-462c-ba6a-2129d7be8390",
        "id": "KP543cPAMlSa"
      },
      "execution_count": null,
      "outputs": [
        {
          "output_type": "execute_result",
          "data": {
            "text/plain": [
              "Index(['gender', 'race/ethnicity', 'parental level of education', 'lunch',\n",
              "       'test preparation course', 'math score', 'reading score',\n",
              "       'writing score', 'media'],\n",
              "      dtype='object')"
            ]
          },
          "metadata": {},
          "execution_count": 117
        }
      ]
    },
    {
      "cell_type": "code",
      "source": [
        "ssc = StandardScaler()\n",
        "\n",
        "ssc.fit(df[['gender', 'race/ethnicity', 'parental level of education', 'lunch', 'test preparation course', 'math score', 'reading score','writing score']])\n",
        "h= ssc.transform(df[['gender', 'race/ethnicity', 'parental level of education', 'lunch', 'test preparation course', 'math score', 'reading score', 'writing score']])\n",
        "df[['gender', 'race/ethnicity', 'parental level of education', 'lunch', 'test preparation course', 'math score', 'reading score', 'writing score']] = h"
      ],
      "metadata": {
        "id": "Bj53zT0TMlSa"
      },
      "execution_count": 95,
      "outputs": []
    },
    {
      "cell_type": "code",
      "source": [
        "df"
      ],
      "metadata": {
        "colab": {
          "base_uri": "https://localhost:8080/",
          "height": 424
        },
        "id": "CxD6EaUT7vJr",
        "outputId": "ce0e9f93-4164-470e-f44e-b2e5697eb612"
      },
      "execution_count": 96,
      "outputs": [
        {
          "output_type": "execute_result",
          "data": {
            "text/plain": [
              "       gender  race/ethnicity  parental level of education     lunch  \\\n",
              "0   -0.964625       -1.015044                    -0.812640  0.741881   \n",
              "1   -0.964625       -0.150441                     0.827953  0.741881   \n",
              "2   -0.964625       -1.015044                     0.281088  0.741881   \n",
              "3    1.036672       -1.879647                    -1.359505 -1.347925   \n",
              "4    1.036672       -0.150441                     0.827953  0.741881   \n",
              "..        ...             ...                          ...       ...   \n",
              "995 -0.964625        1.578765                     0.281088  0.741881   \n",
              "996  1.036672       -0.150441                    -0.265776 -1.347925   \n",
              "997 -0.964625       -0.150441                    -0.265776 -1.347925   \n",
              "998 -0.964625        0.714162                     0.827953  0.741881   \n",
              "999 -0.964625        0.714162                     0.827953 -1.347925   \n",
              "\n",
              "     test preparation course  math score  reading score  writing score  \\\n",
              "0                   0.746748    0.390024       0.193999       0.391492   \n",
              "1                  -1.339140    0.192076       1.427476       1.313269   \n",
              "2                   0.746748    1.577711       1.770109       1.642475   \n",
              "3                   0.746748   -1.259543      -0.833899      -1.583744   \n",
              "4                   0.746748    0.653954       0.605158       0.457333   \n",
              "..                       ...         ...            ...            ...   \n",
              "995                -1.339140    1.445746       2.044215       1.774157   \n",
              "996                 0.746748   -0.269803      -0.970952      -0.859491   \n",
              "997                -1.339140   -0.467751       0.125472      -0.201079   \n",
              "998                -1.339140    0.126093       0.605158       0.589015   \n",
              "999                 0.746748    0.719937       1.153370       1.181586   \n",
              "\n",
              "         media  \n",
              "0    72.666667  \n",
              "1    82.333333  \n",
              "2    92.666667  \n",
              "3    49.333333  \n",
              "4    76.333333  \n",
              "..         ...  \n",
              "995  94.000000  \n",
              "996  57.333333  \n",
              "997  65.000000  \n",
              "998  74.333333  \n",
              "999  83.000000  \n",
              "\n",
              "[1000 rows x 9 columns]"
            ],
            "text/html": [
              "\n",
              "  <div id=\"df-b5ab0931-d33b-450c-9571-159bbddb46e9\">\n",
              "    <div class=\"colab-df-container\">\n",
              "      <div>\n",
              "<style scoped>\n",
              "    .dataframe tbody tr th:only-of-type {\n",
              "        vertical-align: middle;\n",
              "    }\n",
              "\n",
              "    .dataframe tbody tr th {\n",
              "        vertical-align: top;\n",
              "    }\n",
              "\n",
              "    .dataframe thead th {\n",
              "        text-align: right;\n",
              "    }\n",
              "</style>\n",
              "<table border=\"1\" class=\"dataframe\">\n",
              "  <thead>\n",
              "    <tr style=\"text-align: right;\">\n",
              "      <th></th>\n",
              "      <th>gender</th>\n",
              "      <th>race/ethnicity</th>\n",
              "      <th>parental level of education</th>\n",
              "      <th>lunch</th>\n",
              "      <th>test preparation course</th>\n",
              "      <th>math score</th>\n",
              "      <th>reading score</th>\n",
              "      <th>writing score</th>\n",
              "      <th>media</th>\n",
              "    </tr>\n",
              "  </thead>\n",
              "  <tbody>\n",
              "    <tr>\n",
              "      <th>0</th>\n",
              "      <td>-0.964625</td>\n",
              "      <td>-1.015044</td>\n",
              "      <td>-0.812640</td>\n",
              "      <td>0.741881</td>\n",
              "      <td>0.746748</td>\n",
              "      <td>0.390024</td>\n",
              "      <td>0.193999</td>\n",
              "      <td>0.391492</td>\n",
              "      <td>72.666667</td>\n",
              "    </tr>\n",
              "    <tr>\n",
              "      <th>1</th>\n",
              "      <td>-0.964625</td>\n",
              "      <td>-0.150441</td>\n",
              "      <td>0.827953</td>\n",
              "      <td>0.741881</td>\n",
              "      <td>-1.339140</td>\n",
              "      <td>0.192076</td>\n",
              "      <td>1.427476</td>\n",
              "      <td>1.313269</td>\n",
              "      <td>82.333333</td>\n",
              "    </tr>\n",
              "    <tr>\n",
              "      <th>2</th>\n",
              "      <td>-0.964625</td>\n",
              "      <td>-1.015044</td>\n",
              "      <td>0.281088</td>\n",
              "      <td>0.741881</td>\n",
              "      <td>0.746748</td>\n",
              "      <td>1.577711</td>\n",
              "      <td>1.770109</td>\n",
              "      <td>1.642475</td>\n",
              "      <td>92.666667</td>\n",
              "    </tr>\n",
              "    <tr>\n",
              "      <th>3</th>\n",
              "      <td>1.036672</td>\n",
              "      <td>-1.879647</td>\n",
              "      <td>-1.359505</td>\n",
              "      <td>-1.347925</td>\n",
              "      <td>0.746748</td>\n",
              "      <td>-1.259543</td>\n",
              "      <td>-0.833899</td>\n",
              "      <td>-1.583744</td>\n",
              "      <td>49.333333</td>\n",
              "    </tr>\n",
              "    <tr>\n",
              "      <th>4</th>\n",
              "      <td>1.036672</td>\n",
              "      <td>-0.150441</td>\n",
              "      <td>0.827953</td>\n",
              "      <td>0.741881</td>\n",
              "      <td>0.746748</td>\n",
              "      <td>0.653954</td>\n",
              "      <td>0.605158</td>\n",
              "      <td>0.457333</td>\n",
              "      <td>76.333333</td>\n",
              "    </tr>\n",
              "    <tr>\n",
              "      <th>...</th>\n",
              "      <td>...</td>\n",
              "      <td>...</td>\n",
              "      <td>...</td>\n",
              "      <td>...</td>\n",
              "      <td>...</td>\n",
              "      <td>...</td>\n",
              "      <td>...</td>\n",
              "      <td>...</td>\n",
              "      <td>...</td>\n",
              "    </tr>\n",
              "    <tr>\n",
              "      <th>995</th>\n",
              "      <td>-0.964625</td>\n",
              "      <td>1.578765</td>\n",
              "      <td>0.281088</td>\n",
              "      <td>0.741881</td>\n",
              "      <td>-1.339140</td>\n",
              "      <td>1.445746</td>\n",
              "      <td>2.044215</td>\n",
              "      <td>1.774157</td>\n",
              "      <td>94.000000</td>\n",
              "    </tr>\n",
              "    <tr>\n",
              "      <th>996</th>\n",
              "      <td>1.036672</td>\n",
              "      <td>-0.150441</td>\n",
              "      <td>-0.265776</td>\n",
              "      <td>-1.347925</td>\n",
              "      <td>0.746748</td>\n",
              "      <td>-0.269803</td>\n",
              "      <td>-0.970952</td>\n",
              "      <td>-0.859491</td>\n",
              "      <td>57.333333</td>\n",
              "    </tr>\n",
              "    <tr>\n",
              "      <th>997</th>\n",
              "      <td>-0.964625</td>\n",
              "      <td>-0.150441</td>\n",
              "      <td>-0.265776</td>\n",
              "      <td>-1.347925</td>\n",
              "      <td>-1.339140</td>\n",
              "      <td>-0.467751</td>\n",
              "      <td>0.125472</td>\n",
              "      <td>-0.201079</td>\n",
              "      <td>65.000000</td>\n",
              "    </tr>\n",
              "    <tr>\n",
              "      <th>998</th>\n",
              "      <td>-0.964625</td>\n",
              "      <td>0.714162</td>\n",
              "      <td>0.827953</td>\n",
              "      <td>0.741881</td>\n",
              "      <td>-1.339140</td>\n",
              "      <td>0.126093</td>\n",
              "      <td>0.605158</td>\n",
              "      <td>0.589015</td>\n",
              "      <td>74.333333</td>\n",
              "    </tr>\n",
              "    <tr>\n",
              "      <th>999</th>\n",
              "      <td>-0.964625</td>\n",
              "      <td>0.714162</td>\n",
              "      <td>0.827953</td>\n",
              "      <td>-1.347925</td>\n",
              "      <td>0.746748</td>\n",
              "      <td>0.719937</td>\n",
              "      <td>1.153370</td>\n",
              "      <td>1.181586</td>\n",
              "      <td>83.000000</td>\n",
              "    </tr>\n",
              "  </tbody>\n",
              "</table>\n",
              "<p>1000 rows × 9 columns</p>\n",
              "</div>\n",
              "      <button class=\"colab-df-convert\" onclick=\"convertToInteractive('df-b5ab0931-d33b-450c-9571-159bbddb46e9')\"\n",
              "              title=\"Convert this dataframe to an interactive table.\"\n",
              "              style=\"display:none;\">\n",
              "        \n",
              "  <svg xmlns=\"http://www.w3.org/2000/svg\" height=\"24px\"viewBox=\"0 0 24 24\"\n",
              "       width=\"24px\">\n",
              "    <path d=\"M0 0h24v24H0V0z\" fill=\"none\"/>\n",
              "    <path d=\"M18.56 5.44l.94 2.06.94-2.06 2.06-.94-2.06-.94-.94-2.06-.94 2.06-2.06.94zm-11 1L8.5 8.5l.94-2.06 2.06-.94-2.06-.94L8.5 2.5l-.94 2.06-2.06.94zm10 10l.94 2.06.94-2.06 2.06-.94-2.06-.94-.94-2.06-.94 2.06-2.06.94z\"/><path d=\"M17.41 7.96l-1.37-1.37c-.4-.4-.92-.59-1.43-.59-.52 0-1.04.2-1.43.59L10.3 9.45l-7.72 7.72c-.78.78-.78 2.05 0 2.83L4 21.41c.39.39.9.59 1.41.59.51 0 1.02-.2 1.41-.59l7.78-7.78 2.81-2.81c.8-.78.8-2.07 0-2.86zM5.41 20L4 18.59l7.72-7.72 1.47 1.35L5.41 20z\"/>\n",
              "  </svg>\n",
              "      </button>\n",
              "      \n",
              "  <style>\n",
              "    .colab-df-container {\n",
              "      display:flex;\n",
              "      flex-wrap:wrap;\n",
              "      gap: 12px;\n",
              "    }\n",
              "\n",
              "    .colab-df-convert {\n",
              "      background-color: #E8F0FE;\n",
              "      border: none;\n",
              "      border-radius: 50%;\n",
              "      cursor: pointer;\n",
              "      display: none;\n",
              "      fill: #1967D2;\n",
              "      height: 32px;\n",
              "      padding: 0 0 0 0;\n",
              "      width: 32px;\n",
              "    }\n",
              "\n",
              "    .colab-df-convert:hover {\n",
              "      background-color: #E2EBFA;\n",
              "      box-shadow: 0px 1px 2px rgba(60, 64, 67, 0.3), 0px 1px 3px 1px rgba(60, 64, 67, 0.15);\n",
              "      fill: #174EA6;\n",
              "    }\n",
              "\n",
              "    [theme=dark] .colab-df-convert {\n",
              "      background-color: #3B4455;\n",
              "      fill: #D2E3FC;\n",
              "    }\n",
              "\n",
              "    [theme=dark] .colab-df-convert:hover {\n",
              "      background-color: #434B5C;\n",
              "      box-shadow: 0px 1px 3px 1px rgba(0, 0, 0, 0.15);\n",
              "      filter: drop-shadow(0px 1px 2px rgba(0, 0, 0, 0.3));\n",
              "      fill: #FFFFFF;\n",
              "    }\n",
              "  </style>\n",
              "\n",
              "      <script>\n",
              "        const buttonEl =\n",
              "          document.querySelector('#df-b5ab0931-d33b-450c-9571-159bbddb46e9 button.colab-df-convert');\n",
              "        buttonEl.style.display =\n",
              "          google.colab.kernel.accessAllowed ? 'block' : 'none';\n",
              "\n",
              "        async function convertToInteractive(key) {\n",
              "          const element = document.querySelector('#df-b5ab0931-d33b-450c-9571-159bbddb46e9');\n",
              "          const dataTable =\n",
              "            await google.colab.kernel.invokeFunction('convertToInteractive',\n",
              "                                                     [key], {});\n",
              "          if (!dataTable) return;\n",
              "\n",
              "          const docLinkHtml = 'Like what you see? Visit the ' +\n",
              "            '<a target=\"_blank\" href=https://colab.research.google.com/notebooks/data_table.ipynb>data table notebook</a>'\n",
              "            + ' to learn more about interactive tables.';\n",
              "          element.innerHTML = '';\n",
              "          dataTable['output_type'] = 'display_data';\n",
              "          await google.colab.output.renderOutput(dataTable, element);\n",
              "          const docLink = document.createElement('div');\n",
              "          docLink.innerHTML = docLinkHtml;\n",
              "          element.appendChild(docLink);\n",
              "        }\n",
              "      </script>\n",
              "    </div>\n",
              "  </div>\n",
              "  "
            ]
          },
          "metadata": {},
          "execution_count": 96
        }
      ]
    },
    {
      "cell_type": "code",
      "source": [
        "#Separando o que é features e target:\n",
        "X = df.drop(columns=\"media\")\n",
        "y = df[\"media\"]"
      ],
      "metadata": {
        "id": "cNX3XnJ4MlSb"
      },
      "execution_count": 97,
      "outputs": []
    },
    {
      "cell_type": "code",
      "source": [
        "X = np.array(X)"
      ],
      "metadata": {
        "id": "GzI-sTbDMlSb"
      },
      "execution_count": 98,
      "outputs": []
    },
    {
      "cell_type": "markdown",
      "source": [
        "**Com 30 e 90 amostras**"
      ],
      "metadata": {
        "id": "qlkfq5ohlPv1"
      }
    },
    {
      "cell_type": "code",
      "source": [
        "resultados_ada_cv_30 = []\n",
        "resultados_ada_cv_100 = []\n",
        "for i in range(10):\n",
        "  kfold = KFold(n_splits = 10, shuffle = True, random_state = i)\n",
        "  \n",
        "  ada = AdaBoostRegressor()\n",
        "  scores = cross_val_score(ada, X, y, cv = kfold)\n",
        "  resultados_ada_cv_100.append(scores)\n",
        "  resultados_ada_cv_30.append(scores.mean())"
      ],
      "metadata": {
        "id": "9iqNqU9ilPv1"
      },
      "execution_count": 99,
      "outputs": []
    },
    {
      "cell_type": "code",
      "source": [
        "scores"
      ],
      "metadata": {
        "colab": {
          "base_uri": "https://localhost:8080/"
        },
        "outputId": "714dde02-0f42-43f0-d3d5-2979fdcc2b04",
        "id": "K203AuAYlPv1"
      },
      "execution_count": 100,
      "outputs": [
        {
          "output_type": "execute_result",
          "data": {
            "text/plain": [
              "array([0.97162315, 0.98423708, 0.98101606, 0.98019888, 0.985085  ,\n",
              "       0.97641701, 0.9776086 , 0.96925697, 0.98228414, 0.97823262])"
            ]
          },
          "metadata": {},
          "execution_count": 100
        }
      ]
    },
    {
      "cell_type": "code",
      "source": [
        "resultados_ada_cv_30 = np.array(resultados_ada_cv_30)\n",
        "resultados_ada_cv_100 = np.array(np.asarray(resultados_ada_cv_100).reshape(-1))"
      ],
      "metadata": {
        "id": "P_g_6aB1lPv2"
      },
      "execution_count": 101,
      "outputs": []
    },
    {
      "cell_type": "markdown",
      "source": [
        "**Para 30 amostras usamos o t-student:**"
      ],
      "metadata": {
        "id": "lUqhGvjslPv2"
      }
    },
    {
      "cell_type": "code",
      "source": [
        "intervalos_ada_t = t.interval(0.95, len(resultados_ada_cv_30) - 1, \n",
        "                                    resultados_ada_cv_30.mean(), \n",
        "                                    stats.sem(resultados_ada_cv_30, ddof = 0))\n",
        "intervalos_ada_t"
      ],
      "metadata": {
        "colab": {
          "base_uri": "https://localhost:8080/"
        },
        "outputId": "09bebcf9-19ee-4fc7-a1ea-aa40a509f129",
        "id": "IKrjcPX9lPv2"
      },
      "execution_count": 102,
      "outputs": [
        {
          "output_type": "execute_result",
          "data": {
            "text/plain": [
              "(0.9782761586700786, 0.9790311478008882)"
            ]
          },
          "metadata": {},
          "execution_count": 102
        }
      ]
    },
    {
      "cell_type": "markdown",
      "source": [
        "**Variação do intervalo:**"
      ],
      "metadata": {
        "id": "n-hM3SlGlPv2"
      }
    },
    {
      "cell_type": "code",
      "source": [
        "abs(resultados_ada_cv_30.mean() - intervalos_ada_t[1])"
      ],
      "metadata": {
        "colab": {
          "base_uri": "https://localhost:8080/"
        },
        "outputId": "d61b302e-2b4e-455f-ccab-71c9d46ccf26",
        "id": "eLTteWC2lPv3"
      },
      "execution_count": 103,
      "outputs": [
        {
          "output_type": "execute_result",
          "data": {
            "text/plain": [
              "0.0003774945654048123"
            ]
          },
          "metadata": {},
          "execution_count": 103
        }
      ]
    },
    {
      "cell_type": "code",
      "source": [
        "print(f\"Temos 95% de confiança de que a média de acertos do ADABoost Regressor com 30 amostras está no intervalo entre {intervalos_ada_t[0]*100:.2f} % e {intervalos_ada_t[1]*100:.2f} % com variação de {abs(resultados_ada_cv_30.mean() - intervalos_ada_t[1])} para mais e para menos\")"
      ],
      "metadata": {
        "colab": {
          "base_uri": "https://localhost:8080/"
        },
        "outputId": "2a2657de-458f-41ed-9fc6-11aec94961cc",
        "id": "Yw_oxqB2lPv3"
      },
      "execution_count": 104,
      "outputs": [
        {
          "output_type": "stream",
          "name": "stdout",
          "text": [
            "Temos 95% de confiança de que a média de acertos do ADABoost Regressor com 30 amostras está no intervalo entre 97.83 % e 97.90 % com variação de 0.0003774945654048123 para mais e para menos\n"
          ]
        }
      ]
    },
    {
      "cell_type": "markdown",
      "source": [
        "**Média do score:**"
      ],
      "metadata": {
        "id": "RBBXJalKlPv3"
      }
    },
    {
      "cell_type": "code",
      "source": [
        "pd.DataFrame(resultados_ada_cv_30).mean()[0]"
      ],
      "metadata": {
        "colab": {
          "base_uri": "https://localhost:8080/"
        },
        "outputId": "ca3d3179-f80f-4c3a-d4f2-a16f8dd48762",
        "id": "Ary20EI4lPv3"
      },
      "execution_count": 105,
      "outputs": [
        {
          "output_type": "execute_result",
          "data": {
            "text/plain": [
              "0.9786536532354834"
            ]
          },
          "metadata": {},
          "execution_count": 105
        }
      ]
    },
    {
      "cell_type": "markdown",
      "source": [
        "\n",
        "\n",
        "---\n",
        "\n"
      ],
      "metadata": {
        "id": "-DbFNZfAlPv3"
      }
    },
    {
      "cell_type": "markdown",
      "source": [
        "**Para 100 amostras**"
      ],
      "metadata": {
        "id": "OUZZtAPxlPv4"
      }
    },
    {
      "cell_type": "code",
      "source": [
        "intervalos_ada_n = norm.interval(0.95, resultados_ada_cv_100.mean(), \n",
        "                                       stats.sem(resultados_ada_cv_100))\n",
        "intervalos_ada_n"
      ],
      "metadata": {
        "colab": {
          "base_uri": "https://localhost:8080/"
        },
        "outputId": "4542ccdf-8549-4e09-c212-306da96d2e6f",
        "id": "Di9o-NMGlPv4"
      },
      "execution_count": 106,
      "outputs": [
        {
          "output_type": "execute_result",
          "data": {
            "text/plain": [
              "(0.9778580982164905, 0.9794492082544762)"
            ]
          },
          "metadata": {},
          "execution_count": 106
        }
      ]
    },
    {
      "cell_type": "markdown",
      "source": [
        "**Para 100 amostras ele acabou aumentando a margem de erro em relação ao de 30 amostras, o que é esperado.**"
      ],
      "metadata": {
        "id": "YJq8pi3PlPv4"
      }
    },
    {
      "cell_type": "markdown",
      "source": [
        "**Variação do intervalo:**"
      ],
      "metadata": {
        "id": "ezGtSMmPlPv4"
      }
    },
    {
      "cell_type": "code",
      "source": [
        "abs(resultados_ada_cv_100.mean() - intervalos_ada_n[1])"
      ],
      "metadata": {
        "colab": {
          "base_uri": "https://localhost:8080/"
        },
        "outputId": "14ce5830-21ee-4228-b739-39e0d91755d8",
        "id": "RJHTY32alPv4"
      },
      "execution_count": 107,
      "outputs": [
        {
          "output_type": "execute_result",
          "data": {
            "text/plain": [
              "0.0007955550189928662"
            ]
          },
          "metadata": {},
          "execution_count": 107
        }
      ]
    },
    {
      "cell_type": "code",
      "source": [
        "print(f\"Temos 95% de confiança de que a média de acertos do ADAoost Regressor com 90 amostras está no intervalo entre {intervalos_ada_n[0]*100:.2f}% e {intervalos_ada_n[1]*100:.2f}%\")"
      ],
      "metadata": {
        "colab": {
          "base_uri": "https://localhost:8080/"
        },
        "outputId": "0a7a1d85-f635-4b8c-9551-b7669f0191e5",
        "id": "p8b4lNh_lPv5"
      },
      "execution_count": 108,
      "outputs": [
        {
          "output_type": "stream",
          "name": "stdout",
          "text": [
            "Temos 95% de confiança de que a média de acertos do ADAoost Regressor com 90 amostras está no intervalo entre 97.79% e 97.94%\n"
          ]
        }
      ]
    },
    {
      "cell_type": "markdown",
      "source": [
        "**Média do score:**"
      ],
      "metadata": {
        "id": "uHHTgNdklPv4"
      }
    },
    {
      "cell_type": "code",
      "source": [
        "resultado_100 = resultados_ada_cv_100\n",
        "resultado_100 = (resultado_100[0] + resultado_100[1] + resultado_100[2])/3\n",
        "resultado_100"
      ],
      "metadata": {
        "colab": {
          "base_uri": "https://localhost:8080/"
        },
        "outputId": "95779c17-61c5-4812-c707-47fc59accb3d",
        "id": "Z6dVnUQ0lPv5"
      },
      "execution_count": 109,
      "outputs": [
        {
          "output_type": "execute_result",
          "data": {
            "text/plain": [
              "0.9784466772325359"
            ]
          },
          "metadata": {},
          "execution_count": 109
        }
      ]
    },
    {
      "cell_type": "markdown",
      "metadata": {
        "id": "eJHNWP3kV8iS"
      },
      "source": [
        "#**INTERPRETANDO O MODELO GLOBALMENTE**"
      ]
    },
    {
      "cell_type": "markdown",
      "metadata": {
        "id": "8Af3Hpzq9URP"
      },
      "source": [
        "**SHAP**"
      ]
    },
    {
      "cell_type": "code",
      "execution_count": 123,
      "metadata": {
        "colab": {
          "base_uri": "https://localhost:8080/",
          "height": 424
        },
        "id": "Qqhx9dpN-gSF",
        "outputId": "89dd02d1-d9d0-46f6-800e-428541858db4"
      },
      "outputs": [
        {
          "output_type": "execute_result",
          "data": {
            "text/plain": [
              "       gender  race/ethnicity  parental level of education     lunch  \\\n",
              "0   -0.964625       -1.015044                    -0.812640  0.741881   \n",
              "1   -0.964625       -0.150441                     0.827953  0.741881   \n",
              "2   -0.964625       -1.015044                     0.281088  0.741881   \n",
              "3    1.036672       -1.879647                    -1.359505 -1.347925   \n",
              "4    1.036672       -0.150441                     0.827953  0.741881   \n",
              "..        ...             ...                          ...       ...   \n",
              "995 -0.964625        1.578765                     0.281088  0.741881   \n",
              "996  1.036672       -0.150441                    -0.265776 -1.347925   \n",
              "997 -0.964625       -0.150441                    -0.265776 -1.347925   \n",
              "998 -0.964625        0.714162                     0.827953  0.741881   \n",
              "999 -0.964625        0.714162                     0.827953 -1.347925   \n",
              "\n",
              "     test preparation course  math score  reading score  writing score  \\\n",
              "0                   0.746748    0.390024       0.193999       0.391492   \n",
              "1                  -1.339140    0.192076       1.427476       1.313269   \n",
              "2                   0.746748    1.577711       1.770109       1.642475   \n",
              "3                   0.746748   -1.259543      -0.833899      -1.583744   \n",
              "4                   0.746748    0.653954       0.605158       0.457333   \n",
              "..                       ...         ...            ...            ...   \n",
              "995                -1.339140    1.445746       2.044215       1.774157   \n",
              "996                 0.746748   -0.269803      -0.970952      -0.859491   \n",
              "997                -1.339140   -0.467751       0.125472      -0.201079   \n",
              "998                -1.339140    0.126093       0.605158       0.589015   \n",
              "999                 0.746748    0.719937       1.153370       1.181586   \n",
              "\n",
              "         media  \n",
              "0    72.666667  \n",
              "1    82.333333  \n",
              "2    92.666667  \n",
              "3    49.333333  \n",
              "4    76.333333  \n",
              "..         ...  \n",
              "995  94.000000  \n",
              "996  57.333333  \n",
              "997  65.000000  \n",
              "998  74.333333  \n",
              "999  83.000000  \n",
              "\n",
              "[1000 rows x 9 columns]"
            ],
            "text/html": [
              "\n",
              "  <div id=\"df-7b5bb5b8-8211-44b9-bf22-908c0183323b\">\n",
              "    <div class=\"colab-df-container\">\n",
              "      <div>\n",
              "<style scoped>\n",
              "    .dataframe tbody tr th:only-of-type {\n",
              "        vertical-align: middle;\n",
              "    }\n",
              "\n",
              "    .dataframe tbody tr th {\n",
              "        vertical-align: top;\n",
              "    }\n",
              "\n",
              "    .dataframe thead th {\n",
              "        text-align: right;\n",
              "    }\n",
              "</style>\n",
              "<table border=\"1\" class=\"dataframe\">\n",
              "  <thead>\n",
              "    <tr style=\"text-align: right;\">\n",
              "      <th></th>\n",
              "      <th>gender</th>\n",
              "      <th>race/ethnicity</th>\n",
              "      <th>parental level of education</th>\n",
              "      <th>lunch</th>\n",
              "      <th>test preparation course</th>\n",
              "      <th>math score</th>\n",
              "      <th>reading score</th>\n",
              "      <th>writing score</th>\n",
              "      <th>media</th>\n",
              "    </tr>\n",
              "  </thead>\n",
              "  <tbody>\n",
              "    <tr>\n",
              "      <th>0</th>\n",
              "      <td>-0.964625</td>\n",
              "      <td>-1.015044</td>\n",
              "      <td>-0.812640</td>\n",
              "      <td>0.741881</td>\n",
              "      <td>0.746748</td>\n",
              "      <td>0.390024</td>\n",
              "      <td>0.193999</td>\n",
              "      <td>0.391492</td>\n",
              "      <td>72.666667</td>\n",
              "    </tr>\n",
              "    <tr>\n",
              "      <th>1</th>\n",
              "      <td>-0.964625</td>\n",
              "      <td>-0.150441</td>\n",
              "      <td>0.827953</td>\n",
              "      <td>0.741881</td>\n",
              "      <td>-1.339140</td>\n",
              "      <td>0.192076</td>\n",
              "      <td>1.427476</td>\n",
              "      <td>1.313269</td>\n",
              "      <td>82.333333</td>\n",
              "    </tr>\n",
              "    <tr>\n",
              "      <th>2</th>\n",
              "      <td>-0.964625</td>\n",
              "      <td>-1.015044</td>\n",
              "      <td>0.281088</td>\n",
              "      <td>0.741881</td>\n",
              "      <td>0.746748</td>\n",
              "      <td>1.577711</td>\n",
              "      <td>1.770109</td>\n",
              "      <td>1.642475</td>\n",
              "      <td>92.666667</td>\n",
              "    </tr>\n",
              "    <tr>\n",
              "      <th>3</th>\n",
              "      <td>1.036672</td>\n",
              "      <td>-1.879647</td>\n",
              "      <td>-1.359505</td>\n",
              "      <td>-1.347925</td>\n",
              "      <td>0.746748</td>\n",
              "      <td>-1.259543</td>\n",
              "      <td>-0.833899</td>\n",
              "      <td>-1.583744</td>\n",
              "      <td>49.333333</td>\n",
              "    </tr>\n",
              "    <tr>\n",
              "      <th>4</th>\n",
              "      <td>1.036672</td>\n",
              "      <td>-0.150441</td>\n",
              "      <td>0.827953</td>\n",
              "      <td>0.741881</td>\n",
              "      <td>0.746748</td>\n",
              "      <td>0.653954</td>\n",
              "      <td>0.605158</td>\n",
              "      <td>0.457333</td>\n",
              "      <td>76.333333</td>\n",
              "    </tr>\n",
              "    <tr>\n",
              "      <th>...</th>\n",
              "      <td>...</td>\n",
              "      <td>...</td>\n",
              "      <td>...</td>\n",
              "      <td>...</td>\n",
              "      <td>...</td>\n",
              "      <td>...</td>\n",
              "      <td>...</td>\n",
              "      <td>...</td>\n",
              "      <td>...</td>\n",
              "    </tr>\n",
              "    <tr>\n",
              "      <th>995</th>\n",
              "      <td>-0.964625</td>\n",
              "      <td>1.578765</td>\n",
              "      <td>0.281088</td>\n",
              "      <td>0.741881</td>\n",
              "      <td>-1.339140</td>\n",
              "      <td>1.445746</td>\n",
              "      <td>2.044215</td>\n",
              "      <td>1.774157</td>\n",
              "      <td>94.000000</td>\n",
              "    </tr>\n",
              "    <tr>\n",
              "      <th>996</th>\n",
              "      <td>1.036672</td>\n",
              "      <td>-0.150441</td>\n",
              "      <td>-0.265776</td>\n",
              "      <td>-1.347925</td>\n",
              "      <td>0.746748</td>\n",
              "      <td>-0.269803</td>\n",
              "      <td>-0.970952</td>\n",
              "      <td>-0.859491</td>\n",
              "      <td>57.333333</td>\n",
              "    </tr>\n",
              "    <tr>\n",
              "      <th>997</th>\n",
              "      <td>-0.964625</td>\n",
              "      <td>-0.150441</td>\n",
              "      <td>-0.265776</td>\n",
              "      <td>-1.347925</td>\n",
              "      <td>-1.339140</td>\n",
              "      <td>-0.467751</td>\n",
              "      <td>0.125472</td>\n",
              "      <td>-0.201079</td>\n",
              "      <td>65.000000</td>\n",
              "    </tr>\n",
              "    <tr>\n",
              "      <th>998</th>\n",
              "      <td>-0.964625</td>\n",
              "      <td>0.714162</td>\n",
              "      <td>0.827953</td>\n",
              "      <td>0.741881</td>\n",
              "      <td>-1.339140</td>\n",
              "      <td>0.126093</td>\n",
              "      <td>0.605158</td>\n",
              "      <td>0.589015</td>\n",
              "      <td>74.333333</td>\n",
              "    </tr>\n",
              "    <tr>\n",
              "      <th>999</th>\n",
              "      <td>-0.964625</td>\n",
              "      <td>0.714162</td>\n",
              "      <td>0.827953</td>\n",
              "      <td>-1.347925</td>\n",
              "      <td>0.746748</td>\n",
              "      <td>0.719937</td>\n",
              "      <td>1.153370</td>\n",
              "      <td>1.181586</td>\n",
              "      <td>83.000000</td>\n",
              "    </tr>\n",
              "  </tbody>\n",
              "</table>\n",
              "<p>1000 rows × 9 columns</p>\n",
              "</div>\n",
              "      <button class=\"colab-df-convert\" onclick=\"convertToInteractive('df-7b5bb5b8-8211-44b9-bf22-908c0183323b')\"\n",
              "              title=\"Convert this dataframe to an interactive table.\"\n",
              "              style=\"display:none;\">\n",
              "        \n",
              "  <svg xmlns=\"http://www.w3.org/2000/svg\" height=\"24px\"viewBox=\"0 0 24 24\"\n",
              "       width=\"24px\">\n",
              "    <path d=\"M0 0h24v24H0V0z\" fill=\"none\"/>\n",
              "    <path d=\"M18.56 5.44l.94 2.06.94-2.06 2.06-.94-2.06-.94-.94-2.06-.94 2.06-2.06.94zm-11 1L8.5 8.5l.94-2.06 2.06-.94-2.06-.94L8.5 2.5l-.94 2.06-2.06.94zm10 10l.94 2.06.94-2.06 2.06-.94-2.06-.94-.94-2.06-.94 2.06-2.06.94z\"/><path d=\"M17.41 7.96l-1.37-1.37c-.4-.4-.92-.59-1.43-.59-.52 0-1.04.2-1.43.59L10.3 9.45l-7.72 7.72c-.78.78-.78 2.05 0 2.83L4 21.41c.39.39.9.59 1.41.59.51 0 1.02-.2 1.41-.59l7.78-7.78 2.81-2.81c.8-.78.8-2.07 0-2.86zM5.41 20L4 18.59l7.72-7.72 1.47 1.35L5.41 20z\"/>\n",
              "  </svg>\n",
              "      </button>\n",
              "      \n",
              "  <style>\n",
              "    .colab-df-container {\n",
              "      display:flex;\n",
              "      flex-wrap:wrap;\n",
              "      gap: 12px;\n",
              "    }\n",
              "\n",
              "    .colab-df-convert {\n",
              "      background-color: #E8F0FE;\n",
              "      border: none;\n",
              "      border-radius: 50%;\n",
              "      cursor: pointer;\n",
              "      display: none;\n",
              "      fill: #1967D2;\n",
              "      height: 32px;\n",
              "      padding: 0 0 0 0;\n",
              "      width: 32px;\n",
              "    }\n",
              "\n",
              "    .colab-df-convert:hover {\n",
              "      background-color: #E2EBFA;\n",
              "      box-shadow: 0px 1px 2px rgba(60, 64, 67, 0.3), 0px 1px 3px 1px rgba(60, 64, 67, 0.15);\n",
              "      fill: #174EA6;\n",
              "    }\n",
              "\n",
              "    [theme=dark] .colab-df-convert {\n",
              "      background-color: #3B4455;\n",
              "      fill: #D2E3FC;\n",
              "    }\n",
              "\n",
              "    [theme=dark] .colab-df-convert:hover {\n",
              "      background-color: #434B5C;\n",
              "      box-shadow: 0px 1px 3px 1px rgba(0, 0, 0, 0.15);\n",
              "      filter: drop-shadow(0px 1px 2px rgba(0, 0, 0, 0.3));\n",
              "      fill: #FFFFFF;\n",
              "    }\n",
              "  </style>\n",
              "\n",
              "      <script>\n",
              "        const buttonEl =\n",
              "          document.querySelector('#df-7b5bb5b8-8211-44b9-bf22-908c0183323b button.colab-df-convert');\n",
              "        buttonEl.style.display =\n",
              "          google.colab.kernel.accessAllowed ? 'block' : 'none';\n",
              "\n",
              "        async function convertToInteractive(key) {\n",
              "          const element = document.querySelector('#df-7b5bb5b8-8211-44b9-bf22-908c0183323b');\n",
              "          const dataTable =\n",
              "            await google.colab.kernel.invokeFunction('convertToInteractive',\n",
              "                                                     [key], {});\n",
              "          if (!dataTable) return;\n",
              "\n",
              "          const docLinkHtml = 'Like what you see? Visit the ' +\n",
              "            '<a target=\"_blank\" href=https://colab.research.google.com/notebooks/data_table.ipynb>data table notebook</a>'\n",
              "            + ' to learn more about interactive tables.';\n",
              "          element.innerHTML = '';\n",
              "          dataTable['output_type'] = 'display_data';\n",
              "          await google.colab.output.renderOutput(dataTable, element);\n",
              "          const docLink = document.createElement('div');\n",
              "          docLink.innerHTML = docLinkHtml;\n",
              "          element.appendChild(docLink);\n",
              "        }\n",
              "      </script>\n",
              "    </div>\n",
              "  </div>\n",
              "  "
            ]
          },
          "metadata": {},
          "execution_count": 123
        }
      ],
      "source": [
        "df"
      ]
    },
    {
      "cell_type": "code",
      "execution_count": 124,
      "metadata": {
        "id": "sUabPhTw9Z71"
      },
      "outputs": [],
      "source": [
        "X = df.drop(columns=[\"media\"])\n",
        "y = df[\"media\"]\n",
        "\n",
        "X_train, X_test, y_train, y_test = train_test_split(X, y, test_size=0.3, random_state=20)"
      ]
    },
    {
      "cell_type": "code",
      "execution_count": null,
      "metadata": {
        "id": "B8hveFOf2nnI"
      },
      "outputs": [],
      "source": [
        "!pip install shap\n",
        "import shap"
      ]
    },
    {
      "cell_type": "code",
      "execution_count": 139,
      "metadata": {
        "id": "7tcpqH9D9MnG"
      },
      "outputs": [],
      "source": [
        "rfr = RandomForestRegressor().fit(X_train, y_train)"
      ]
    },
    {
      "cell_type": "code",
      "execution_count": 141,
      "metadata": {
        "id": "ehtr4Q4U2oZo"
      },
      "outputs": [],
      "source": [
        "explainer = shap.TreeExplainer(rfr)"
      ]
    },
    {
      "cell_type": "code",
      "execution_count": 142,
      "metadata": {
        "id": "W8l_bj9H9ssm"
      },
      "outputs": [],
      "source": [
        "shap_vals = explainer.shap_values(X_train)"
      ]
    },
    {
      "cell_type": "markdown",
      "metadata": {
        "id": "Nf-PPooRRHTd"
      },
      "source": [
        "**Temos abaixo as Features que mais impactaram na escolha dos valores preditivos para todos os dados:**"
      ]
    },
    {
      "cell_type": "code",
      "execution_count": 143,
      "metadata": {
        "colab": {
          "base_uri": "https://localhost:8080/",
          "height": 348
        },
        "id": "3yND9xNJ90j_",
        "outputId": "64ee177e-dcbd-40c9-e4c9-5b7da007a370"
      },
      "outputs": [
        {
          "output_type": "display_data",
          "data": {
            "text/plain": [
              "<Figure size 576x338.4 with 1 Axes>"
            ],
            "image/png": "[encoded data removed]"
          },
          "metadata": {
            "needs_background": "light"
          }
        }
      ],
      "source": [
        "shap.summary_plot(shap_vals, X_train, plot_type=\"bar\")"
      ]
    }
  ]
}