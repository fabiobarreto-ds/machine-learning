{
  "nbformat": 4,
  "nbformat_minor": 0,
  "metadata": {
    "colab": {
      "name": "07_Educação_ML.ipynb",
      "provenance": []
    },
    "kernelspec": {
      "name": "python3",
      "display_name": "Python 3"
    },
    "language_info": {
      "name": "python"
    }
  },
  "cells": [
    {
      "cell_type": "markdown",
      "source": [
        "# **IMPORTANDO E ANALISANDO OS DADOS**"
      ],
      "metadata": {
        "id": "lQdu0fP0pV93"
      }
    },
    {
      "cell_type": "code",
      "source": [
        "import numpy as np\n",
        "import pandas as pd\n",
        "import matplotlib.pyplot as plt\n",
        "import seaborn as sns\n",
        "\n",
        "# desabilita os warnings\n",
        "import warnings\n",
        "warnings.filterwarnings('ignore')\n",
        "\n",
        "from sklearn.model_selection import train_test_split\n",
        "\n",
        "# desabilita os warnings\n",
        "import warnings\n",
        "warnings.filterwarnings('ignore')"
      ],
      "metadata": {
        "id": "Z4-wh0jUK2cF"
      },
      "execution_count": 252,
      "outputs": []
    },
    {
      "cell_type": "code",
      "source": [
        "df = pd.read_csv(\"StudentsPerformance.csv\")\n",
        "df"
      ],
      "metadata": {
        "colab": {
          "base_uri": "https://localhost:8080/",
          "height": 424
        },
        "id": "-Fon07Qfn4Qm",
        "outputId": "a1b9957e-94e9-485d-e04e-d6becf32b411"
      },
      "execution_count": 253,
      "outputs": [
        {
          "output_type": "execute_result",
          "data": {
            "text/plain": [
              "     gender race/ethnicity parental level of education         lunch  \\\n",
              "0    female        group B           bachelor's degree      standard   \n",
              "1    female        group C                some college      standard   \n",
              "2    female        group B             master's degree      standard   \n",
              "3      male        group A          associate's degree  free/reduced   \n",
              "4      male        group C                some college      standard   \n",
              "..      ...            ...                         ...           ...   \n",
              "995  female        group E             master's degree      standard   \n",
              "996    male        group C                 high school  free/reduced   \n",
              "997  female        group C                 high school  free/reduced   \n",
              "998  female        group D                some college      standard   \n",
              "999  female        group D                some college  free/reduced   \n",
              "\n",
              "    test preparation course  math score  reading score  writing score  \n",
              "0                      none          72             72             74  \n",
              "1                 completed          69             90             88  \n",
              "2                      none          90             95             93  \n",
              "3                      none          47             57             44  \n",
              "4                      none          76             78             75  \n",
              "..                      ...         ...            ...            ...  \n",
              "995               completed          88             99             95  \n",
              "996                    none          62             55             55  \n",
              "997               completed          59             71             65  \n",
              "998               completed          68             78             77  \n",
              "999                    none          77             86             86  \n",
              "\n",
              "[1000 rows x 8 columns]"
            ],
            "text/html": [
              "\n",
              "  <div id=\"df-f4ce2b9c-b5b7-4ed8-9d4c-90491ab257ae\">\n",
              "    <div class=\"colab-df-container\">\n",
              "      <div>\n",
              "<style scoped>\n",
              "    .dataframe tbody tr th:only-of-type {\n",
              "        vertical-align: middle;\n",
              "    }\n",
              "\n",
              "    .dataframe tbody tr th {\n",
              "        vertical-align: top;\n",
              "    }\n",
              "\n",
              "    .dataframe thead th {\n",
              "        text-align: right;\n",
              "    }\n",
              "</style>\n",
              "<table border=\"1\" class=\"dataframe\">\n",
              "  <thead>\n",
              "    <tr style=\"text-align: right;\">\n",
              "      <th></th>\n",
              "      <th>gender</th>\n",
              "      <th>race/ethnicity</th>\n",
              "      <th>parental level of education</th>\n",
              "      <th>lunch</th>\n",
              "      <th>test preparation course</th>\n",
              "      <th>math score</th>\n",
              "      <th>reading score</th>\n",
              "      <th>writing score</th>\n",
              "    </tr>\n",
              "  </thead>\n",
              "  <tbody>\n",
              "    <tr>\n",
              "      <th>0</th>\n",
              "      <td>female</td>\n",
              "      <td>group B</td>\n",
              "      <td>bachelor's degree</td>\n",
              "      <td>standard</td>\n",
              "      <td>none</td>\n",
              "      <td>72</td>\n",
              "      <td>72</td>\n",
              "      <td>74</td>\n",
              "    </tr>\n",
              "    <tr>\n",
              "      <th>1</th>\n",
              "      <td>female</td>\n",
              "      <td>group C</td>\n",
              "      <td>some college</td>\n",
              "      <td>standard</td>\n",
              "      <td>completed</td>\n",
              "      <td>69</td>\n",
              "      <td>90</td>\n",
              "      <td>88</td>\n",
              "    </tr>\n",
              "    <tr>\n",
              "      <th>2</th>\n",
              "      <td>female</td>\n",
              "      <td>group B</td>\n",
              "      <td>master's degree</td>\n",
              "      <td>standard</td>\n",
              "      <td>none</td>\n",
              "      <td>90</td>\n",
              "      <td>95</td>\n",
              "      <td>93</td>\n",
              "    </tr>\n",
              "    <tr>\n",
              "      <th>3</th>\n",
              "      <td>male</td>\n",
              "      <td>group A</td>\n",
              "      <td>associate's degree</td>\n",
              "      <td>free/reduced</td>\n",
              "      <td>none</td>\n",
              "      <td>47</td>\n",
              "      <td>57</td>\n",
              "      <td>44</td>\n",
              "    </tr>\n",
              "    <tr>\n",
              "      <th>4</th>\n",
              "      <td>male</td>\n",
              "      <td>group C</td>\n",
              "      <td>some college</td>\n",
              "      <td>standard</td>\n",
              "      <td>none</td>\n",
              "      <td>76</td>\n",
              "      <td>78</td>\n",
              "      <td>75</td>\n",
              "    </tr>\n",
              "    <tr>\n",
              "      <th>...</th>\n",
              "      <td>...</td>\n",
              "      <td>...</td>\n",
              "      <td>...</td>\n",
              "      <td>...</td>\n",
              "      <td>...</td>\n",
              "      <td>...</td>\n",
              "      <td>...</td>\n",
              "      <td>...</td>\n",
              "    </tr>\n",
              "    <tr>\n",
              "      <th>995</th>\n",
              "      <td>female</td>\n",
              "      <td>group E</td>\n",
              "      <td>master's degree</td>\n",
              "      <td>standard</td>\n",
              "      <td>completed</td>\n",
              "      <td>88</td>\n",
              "      <td>99</td>\n",
              "      <td>95</td>\n",
              "    </tr>\n",
              "    <tr>\n",
              "      <th>996</th>\n",
              "      <td>male</td>\n",
              "      <td>group C</td>\n",
              "      <td>high school</td>\n",
              "      <td>free/reduced</td>\n",
              "      <td>none</td>\n",
              "      <td>62</td>\n",
              "      <td>55</td>\n",
              "      <td>55</td>\n",
              "    </tr>\n",
              "    <tr>\n",
              "      <th>997</th>\n",
              "      <td>female</td>\n",
              "      <td>group C</td>\n",
              "      <td>high school</td>\n",
              "      <td>free/reduced</td>\n",
              "      <td>completed</td>\n",
              "      <td>59</td>\n",
              "      <td>71</td>\n",
              "      <td>65</td>\n",
              "    </tr>\n",
              "    <tr>\n",
              "      <th>998</th>\n",
              "      <td>female</td>\n",
              "      <td>group D</td>\n",
              "      <td>some college</td>\n",
              "      <td>standard</td>\n",
              "      <td>completed</td>\n",
              "      <td>68</td>\n",
              "      <td>78</td>\n",
              "      <td>77</td>\n",
              "    </tr>\n",
              "    <tr>\n",
              "      <th>999</th>\n",
              "      <td>female</td>\n",
              "      <td>group D</td>\n",
              "      <td>some college</td>\n",
              "      <td>free/reduced</td>\n",
              "      <td>none</td>\n",
              "      <td>77</td>\n",
              "      <td>86</td>\n",
              "      <td>86</td>\n",
              "    </tr>\n",
              "  </tbody>\n",
              "</table>\n",
              "<p>1000 rows × 8 columns</p>\n",
              "</div>\n",
              "      <button class=\"colab-df-convert\" onclick=\"convertToInteractive('df-f4ce2b9c-b5b7-4ed8-9d4c-90491ab257ae')\"\n",
              "              title=\"Convert this dataframe to an interactive table.\"\n",
              "              style=\"display:none;\">\n",
              "        \n",
              "  <svg xmlns=\"http://www.w3.org/2000/svg\" height=\"24px\"viewBox=\"0 0 24 24\"\n",
              "       width=\"24px\">\n",
              "    <path d=\"M0 0h24v24H0V0z\" fill=\"none\"/>\n",
              "    <path d=\"M18.56 5.44l.94 2.06.94-2.06 2.06-.94-2.06-.94-.94-2.06-.94 2.06-2.06.94zm-11 1L8.5 8.5l.94-2.06 2.06-.94-2.06-.94L8.5 2.5l-.94 2.06-2.06.94zm10 10l.94 2.06.94-2.06 2.06-.94-2.06-.94-.94-2.06-.94 2.06-2.06.94z\"/><path d=\"M17.41 7.96l-1.37-1.37c-.4-.4-.92-.59-1.43-.59-.52 0-1.04.2-1.43.59L10.3 9.45l-7.72 7.72c-.78.78-.78 2.05 0 2.83L4 21.41c.39.39.9.59 1.41.59.51 0 1.02-.2 1.41-.59l7.78-7.78 2.81-2.81c.8-.78.8-2.07 0-2.86zM5.41 20L4 18.59l7.72-7.72 1.47 1.35L5.41 20z\"/>\n",
              "  </svg>\n",
              "      </button>\n",
              "      \n",
              "  <style>\n",
              "    .colab-df-container {\n",
              "      display:flex;\n",
              "      flex-wrap:wrap;\n",
              "      gap: 12px;\n",
              "    }\n",
              "\n",
              "    .colab-df-convert {\n",
              "      background-color: #E8F0FE;\n",
              "      border: none;\n",
              "      border-radius: 50%;\n",
              "      cursor: pointer;\n",
              "      display: none;\n",
              "      fill: #1967D2;\n",
              "      height: 32px;\n",
              "      padding: 0 0 0 0;\n",
              "      width: 32px;\n",
              "    }\n",
              "\n",
              "    .colab-df-convert:hover {\n",
              "      background-color: #E2EBFA;\n",
              "      box-shadow: 0px 1px 2px rgba(60, 64, 67, 0.3), 0px 1px 3px 1px rgba(60, 64, 67, 0.15);\n",
              "      fill: #174EA6;\n",
              "    }\n",
              "\n",
              "    [theme=dark] .colab-df-convert {\n",
              "      background-color: #3B4455;\n",
              "      fill: #D2E3FC;\n",
              "    }\n",
              "\n",
              "    [theme=dark] .colab-df-convert:hover {\n",
              "      background-color: #434B5C;\n",
              "      box-shadow: 0px 1px 3px 1px rgba(0, 0, 0, 0.15);\n",
              "      filter: drop-shadow(0px 1px 2px rgba(0, 0, 0, 0.3));\n",
              "      fill: #FFFFFF;\n",
              "    }\n",
              "  </style>\n",
              "\n",
              "      <script>\n",
              "        const buttonEl =\n",
              "          document.querySelector('#df-f4ce2b9c-b5b7-4ed8-9d4c-90491ab257ae button.colab-df-convert');\n",
              "        buttonEl.style.display =\n",
              "          google.colab.kernel.accessAllowed ? 'block' : 'none';\n",
              "\n",
              "        async function convertToInteractive(key) {\n",
              "          const element = document.querySelector('#df-f4ce2b9c-b5b7-4ed8-9d4c-90491ab257ae');\n",
              "          const dataTable =\n",
              "            await google.colab.kernel.invokeFunction('convertToInteractive',\n",
              "                                                     [key], {});\n",
              "          if (!dataTable) return;\n",
              "\n",
              "          const docLinkHtml = 'Like what you see? Visit the ' +\n",
              "            '<a target=\"_blank\" href=https://colab.research.google.com/notebooks/data_table.ipynb>data table notebook</a>'\n",
              "            + ' to learn more about interactive tables.';\n",
              "          element.innerHTML = '';\n",
              "          dataTable['output_type'] = 'display_data';\n",
              "          await google.colab.output.renderOutput(dataTable, element);\n",
              "          const docLink = document.createElement('div');\n",
              "          docLink.innerHTML = docLinkHtml;\n",
              "          element.appendChild(docLink);\n",
              "        }\n",
              "      </script>\n",
              "    </div>\n",
              "  </div>\n",
              "  "
            ]
          },
          "metadata": {},
          "execution_count": 253
        }
      ]
    },
    {
      "cell_type": "markdown",
      "metadata": {
        "id": "_wV3HqV9Pbsm"
      },
      "source": [
        "**Verificando se há dados nulos:**"
      ]
    },
    {
      "cell_type": "code",
      "execution_count": 254,
      "metadata": {
        "colab": {
          "base_uri": "https://localhost:8080/"
        },
        "id": "u1dAvUVcfRUf",
        "outputId": "39e01611-9d6a-4b1c-94e8-423e89acd2e3"
      },
      "outputs": [
        {
          "output_type": "stream",
          "name": "stdout",
          "text": [
            "<class 'pandas.core.frame.DataFrame'>\n",
            "RangeIndex: 1000 entries, 0 to 999\n",
            "Data columns (total 8 columns):\n",
            " #   Column                       Non-Null Count  Dtype \n",
            "---  ------                       --------------  ----- \n",
            " 0   gender                       1000 non-null   object\n",
            " 1   race/ethnicity               1000 non-null   object\n",
            " 2   parental level of education  1000 non-null   object\n",
            " 3   lunch                        1000 non-null   object\n",
            " 4   test preparation course      1000 non-null   object\n",
            " 5   math score                   1000 non-null   int64 \n",
            " 6   reading score                1000 non-null   int64 \n",
            " 7   writing score                1000 non-null   int64 \n",
            "dtypes: int64(3), object(5)\n",
            "memory usage: 62.6+ KB\n"
          ]
        }
      ],
      "source": [
        "df.info()"
      ]
    },
    {
      "cell_type": "code",
      "source": [
        "df.isna().sum()"
      ],
      "metadata": {
        "colab": {
          "base_uri": "https://localhost:8080/"
        },
        "id": "Os_cVjYvARzw",
        "outputId": "dda10a1b-3b5b-490b-ddf3-e737aea4ec73"
      },
      "execution_count": 255,
      "outputs": [
        {
          "output_type": "execute_result",
          "data": {
            "text/plain": [
              "gender                         0\n",
              "race/ethnicity                 0\n",
              "parental level of education    0\n",
              "lunch                          0\n",
              "test preparation course        0\n",
              "math score                     0\n",
              "reading score                  0\n",
              "writing score                  0\n",
              "dtype: int64"
            ]
          },
          "metadata": {},
          "execution_count": 255
        }
      ]
    },
    {
      "cell_type": "code",
      "source": [
        "df.nunique()"
      ],
      "metadata": {
        "colab": {
          "base_uri": "https://localhost:8080/"
        },
        "id": "_K4M2hArEcGq",
        "outputId": "0a75ee62-2fe2-4c9f-fb5b-7ee80d55b3ea"
      },
      "execution_count": 256,
      "outputs": [
        {
          "output_type": "execute_result",
          "data": {
            "text/plain": [
              "gender                          2\n",
              "race/ethnicity                  5\n",
              "parental level of education     6\n",
              "lunch                           2\n",
              "test preparation course         2\n",
              "math score                     81\n",
              "reading score                  72\n",
              "writing score                  77\n",
              "dtype: int64"
            ]
          },
          "metadata": {},
          "execution_count": 256
        }
      ]
    },
    {
      "cell_type": "markdown",
      "source": [
        "**Verificando se há dados duplicados:**"
      ],
      "metadata": {
        "id": "ICOO_vTrA_gT"
      }
    },
    {
      "cell_type": "code",
      "source": [
        "df.duplicated().sum()"
      ],
      "metadata": {
        "colab": {
          "base_uri": "https://localhost:8080/"
        },
        "id": "R69cfWseASc1",
        "outputId": "2dfed2b1-2e06-44d2-936f-8dfca1a10b7b"
      },
      "execution_count": 257,
      "outputs": [
        {
          "output_type": "execute_result",
          "data": {
            "text/plain": [
              "0"
            ]
          },
          "metadata": {},
          "execution_count": 257
        }
      ]
    },
    {
      "cell_type": "markdown",
      "source": [
        "**Vamos criar uma coluna de média das notas que servirá como target:**"
      ],
      "metadata": {
        "id": "MQFp-f7zoW1c"
      }
    },
    {
      "cell_type": "code",
      "source": [
        "curso_notas = df[[\"test preparation course\", \"math score\", \"reading score\", \"writing score\"]]\n",
        "df_notas = df[[\"math score\", \"reading score\", \"writing score\"]]"
      ],
      "metadata": {
        "id": "NdSDMmudoVwd"
      },
      "execution_count": 258,
      "outputs": []
    },
    {
      "cell_type": "code",
      "source": [
        "lista_col = []\n",
        "lista_media = []\n",
        "for col in df_notas:\n",
        "    lista_col.append(col)\n",
        "for num in range(len(df_notas)):\n",
        "  media = (df_notas[lista_col[0]].iloc[num] + df_notas[lista_col[1]].iloc[num] + df_notas[lista_col[2]].iloc[num])/3\n",
        "  lista_media.append(media)\n",
        "curso_notas[\"media\"] = lista_media\n",
        "df[\"media\"] = lista_media\n",
        "df.head()"
      ],
      "metadata": {
        "colab": {
          "base_uri": "https://localhost:8080/",
          "height": 206
        },
        "id": "FLqCKk9zn5BN",
        "outputId": "1eb4b795-a87d-4922-a9c3-9f5e21f0098b"
      },
      "execution_count": 259,
      "outputs": [
        {
          "output_type": "execute_result",
          "data": {
            "text/plain": [
              "   gender race/ethnicity parental level of education         lunch  \\\n",
              "0  female        group B           bachelor's degree      standard   \n",
              "1  female        group C                some college      standard   \n",
              "2  female        group B             master's degree      standard   \n",
              "3    male        group A          associate's degree  free/reduced   \n",
              "4    male        group C                some college      standard   \n",
              "\n",
              "  test preparation course  math score  reading score  writing score      media  \n",
              "0                    none          72             72             74  72.666667  \n",
              "1               completed          69             90             88  82.333333  \n",
              "2                    none          90             95             93  92.666667  \n",
              "3                    none          47             57             44  49.333333  \n",
              "4                    none          76             78             75  76.333333  "
            ],
            "text/html": [
              "\n",
              "  <div id=\"df-fe3e97ee-c9b7-43ad-a5b8-f6cf67b419e9\">\n",
              "    <div class=\"colab-df-container\">\n",
              "      <div>\n",
              "<style scoped>\n",
              "    .dataframe tbody tr th:only-of-type {\n",
              "        vertical-align: middle;\n",
              "    }\n",
              "\n",
              "    .dataframe tbody tr th {\n",
              "        vertical-align: top;\n",
              "    }\n",
              "\n",
              "    .dataframe thead th {\n",
              "        text-align: right;\n",
              "    }\n",
              "</style>\n",
              "<table border=\"1\" class=\"dataframe\">\n",
              "  <thead>\n",
              "    <tr style=\"text-align: right;\">\n",
              "      <th></th>\n",
              "      <th>gender</th>\n",
              "      <th>race/ethnicity</th>\n",
              "      <th>parental level of education</th>\n",
              "      <th>lunch</th>\n",
              "      <th>test preparation course</th>\n",
              "      <th>math score</th>\n",
              "      <th>reading score</th>\n",
              "      <th>writing score</th>\n",
              "      <th>media</th>\n",
              "    </tr>\n",
              "  </thead>\n",
              "  <tbody>\n",
              "    <tr>\n",
              "      <th>0</th>\n",
              "      <td>female</td>\n",
              "      <td>group B</td>\n",
              "      <td>bachelor's degree</td>\n",
              "      <td>standard</td>\n",
              "      <td>none</td>\n",
              "      <td>72</td>\n",
              "      <td>72</td>\n",
              "      <td>74</td>\n",
              "      <td>72.666667</td>\n",
              "    </tr>\n",
              "    <tr>\n",
              "      <th>1</th>\n",
              "      <td>female</td>\n",
              "      <td>group C</td>\n",
              "      <td>some college</td>\n",
              "      <td>standard</td>\n",
              "      <td>completed</td>\n",
              "      <td>69</td>\n",
              "      <td>90</td>\n",
              "      <td>88</td>\n",
              "      <td>82.333333</td>\n",
              "    </tr>\n",
              "    <tr>\n",
              "      <th>2</th>\n",
              "      <td>female</td>\n",
              "      <td>group B</td>\n",
              "      <td>master's degree</td>\n",
              "      <td>standard</td>\n",
              "      <td>none</td>\n",
              "      <td>90</td>\n",
              "      <td>95</td>\n",
              "      <td>93</td>\n",
              "      <td>92.666667</td>\n",
              "    </tr>\n",
              "    <tr>\n",
              "      <th>3</th>\n",
              "      <td>male</td>\n",
              "      <td>group A</td>\n",
              "      <td>associate's degree</td>\n",
              "      <td>free/reduced</td>\n",
              "      <td>none</td>\n",
              "      <td>47</td>\n",
              "      <td>57</td>\n",
              "      <td>44</td>\n",
              "      <td>49.333333</td>\n",
              "    </tr>\n",
              "    <tr>\n",
              "      <th>4</th>\n",
              "      <td>male</td>\n",
              "      <td>group C</td>\n",
              "      <td>some college</td>\n",
              "      <td>standard</td>\n",
              "      <td>none</td>\n",
              "      <td>76</td>\n",
              "      <td>78</td>\n",
              "      <td>75</td>\n",
              "      <td>76.333333</td>\n",
              "    </tr>\n",
              "  </tbody>\n",
              "</table>\n",
              "</div>\n",
              "      <button class=\"colab-df-convert\" onclick=\"convertToInteractive('df-fe3e97ee-c9b7-43ad-a5b8-f6cf67b419e9')\"\n",
              "              title=\"Convert this dataframe to an interactive table.\"\n",
              "              style=\"display:none;\">\n",
              "        \n",
              "  <svg xmlns=\"http://www.w3.org/2000/svg\" height=\"24px\"viewBox=\"0 0 24 24\"\n",
              "       width=\"24px\">\n",
              "    <path d=\"M0 0h24v24H0V0z\" fill=\"none\"/>\n",
              "    <path d=\"M18.56 5.44l.94 2.06.94-2.06 2.06-.94-2.06-.94-.94-2.06-.94 2.06-2.06.94zm-11 1L8.5 8.5l.94-2.06 2.06-.94-2.06-.94L8.5 2.5l-.94 2.06-2.06.94zm10 10l.94 2.06.94-2.06 2.06-.94-2.06-.94-.94-2.06-.94 2.06-2.06.94z\"/><path d=\"M17.41 7.96l-1.37-1.37c-.4-.4-.92-.59-1.43-.59-.52 0-1.04.2-1.43.59L10.3 9.45l-7.72 7.72c-.78.78-.78 2.05 0 2.83L4 21.41c.39.39.9.59 1.41.59.51 0 1.02-.2 1.41-.59l7.78-7.78 2.81-2.81c.8-.78.8-2.07 0-2.86zM5.41 20L4 18.59l7.72-7.72 1.47 1.35L5.41 20z\"/>\n",
              "  </svg>\n",
              "      </button>\n",
              "      \n",
              "  <style>\n",
              "    .colab-df-container {\n",
              "      display:flex;\n",
              "      flex-wrap:wrap;\n",
              "      gap: 12px;\n",
              "    }\n",
              "\n",
              "    .colab-df-convert {\n",
              "      background-color: #E8F0FE;\n",
              "      border: none;\n",
              "      border-radius: 50%;\n",
              "      cursor: pointer;\n",
              "      display: none;\n",
              "      fill: #1967D2;\n",
              "      height: 32px;\n",
              "      padding: 0 0 0 0;\n",
              "      width: 32px;\n",
              "    }\n",
              "\n",
              "    .colab-df-convert:hover {\n",
              "      background-color: #E2EBFA;\n",
              "      box-shadow: 0px 1px 2px rgba(60, 64, 67, 0.3), 0px 1px 3px 1px rgba(60, 64, 67, 0.15);\n",
              "      fill: #174EA6;\n",
              "    }\n",
              "\n",
              "    [theme=dark] .colab-df-convert {\n",
              "      background-color: #3B4455;\n",
              "      fill: #D2E3FC;\n",
              "    }\n",
              "\n",
              "    [theme=dark] .colab-df-convert:hover {\n",
              "      background-color: #434B5C;\n",
              "      box-shadow: 0px 1px 3px 1px rgba(0, 0, 0, 0.15);\n",
              "      filter: drop-shadow(0px 1px 2px rgba(0, 0, 0, 0.3));\n",
              "      fill: #FFFFFF;\n",
              "    }\n",
              "  </style>\n",
              "\n",
              "      <script>\n",
              "        const buttonEl =\n",
              "          document.querySelector('#df-fe3e97ee-c9b7-43ad-a5b8-f6cf67b419e9 button.colab-df-convert');\n",
              "        buttonEl.style.display =\n",
              "          google.colab.kernel.accessAllowed ? 'block' : 'none';\n",
              "\n",
              "        async function convertToInteractive(key) {\n",
              "          const element = document.querySelector('#df-fe3e97ee-c9b7-43ad-a5b8-f6cf67b419e9');\n",
              "          const dataTable =\n",
              "            await google.colab.kernel.invokeFunction('convertToInteractive',\n",
              "                                                     [key], {});\n",
              "          if (!dataTable) return;\n",
              "\n",
              "          const docLinkHtml = 'Like what you see? Visit the ' +\n",
              "            '<a target=\"_blank\" href=https://colab.research.google.com/notebooks/data_table.ipynb>data table notebook</a>'\n",
              "            + ' to learn more about interactive tables.';\n",
              "          element.innerHTML = '';\n",
              "          dataTable['output_type'] = 'display_data';\n",
              "          await google.colab.output.renderOutput(dataTable, element);\n",
              "          const docLink = document.createElement('div');\n",
              "          docLink.innerHTML = docLinkHtml;\n",
              "          element.appendChild(docLink);\n",
              "        }\n",
              "      </script>\n",
              "    </div>\n",
              "  </div>\n",
              "  "
            ]
          },
          "metadata": {},
          "execution_count": 259
        }
      ]
    },
    {
      "cell_type": "code",
      "source": [
        ""
      ],
      "metadata": {
        "id": "u6JGAHEbn5Dm"
      },
      "execution_count": 259,
      "outputs": []
    },
    {
      "cell_type": "markdown",
      "metadata": {
        "id": "2fHLB3oNc8a2"
      },
      "source": [
        "# **RANDOM FOREST**"
      ]
    },
    {
      "cell_type": "markdown",
      "source": [
        "## **Black Box**"
      ],
      "metadata": {
        "id": "TDO0tY8o2dmV"
      }
    },
    {
      "cell_type": "code",
      "execution_count": 21,
      "metadata": {
        "execution": {
          "iopub.execute_input": "2022-07-04T23:25:55.433972Z",
          "iopub.status.busy": "2022-07-04T23:25:55.433599Z",
          "iopub.status.idle": "2022-07-04T23:25:55.441830Z",
          "shell.execute_reply": "2022-07-04T23:25:55.440452Z",
          "shell.execute_reply.started": "2022-07-04T23:25:55.433940Z"
        },
        "id": "F5eyU0NVc8a6"
      },
      "outputs": [],
      "source": [
        "from sklearn.compose import ColumnTransformer\n",
        "\n",
        "from sklearn.preprocessing import StandardScaler, OneHotEncoder, OrdinalEncoder\n",
        "\n",
        "from sklearn.impute import SimpleImputer\n",
        "\n",
        "from sklearn.model_selection import GridSearchCV, StratifiedKFold, train_test_split\n",
        "\n",
        "from sklearn.pipeline import Pipeline\n",
        "from sklearn.ensemble import RandomForestRegressor\n",
        "from sklearn.model_selection import KFold\n",
        "\n",
        "from sklearn.metrics import r2_score, mean_absolute_error, mean_squared_error"
      ]
    },
    {
      "cell_type": "code",
      "source": [
        "df.head()"
      ],
      "metadata": {
        "colab": {
          "base_uri": "https://localhost:8080/",
          "height": 206
        },
        "id": "nlZxnvkQpkRl",
        "outputId": "43157f31-54fc-42a3-dc6f-986889c81af9"
      },
      "execution_count": 17,
      "outputs": [
        {
          "output_type": "execute_result",
          "data": {
            "text/plain": [
              "   gender race/ethnicity parental level of education         lunch  \\\n",
              "0  female        group B           bachelor's degree      standard   \n",
              "1  female        group C                some college      standard   \n",
              "2  female        group B             master's degree      standard   \n",
              "3    male        group A          associate's degree  free/reduced   \n",
              "4    male        group C                some college      standard   \n",
              "\n",
              "  test preparation course  math score  reading score  writing score      media  \n",
              "0                    none          72             72             74  72.666667  \n",
              "1               completed          69             90             88  82.333333  \n",
              "2                    none          90             95             93  92.666667  \n",
              "3                    none          47             57             44  49.333333  \n",
              "4                    none          76             78             75  76.333333  "
            ],
            "text/html": [
              "\n",
              "  <div id=\"df-9055a9a8-96c6-46e0-9e52-a87413a2264a\">\n",
              "    <div class=\"colab-df-container\">\n",
              "      <div>\n",
              "<style scoped>\n",
              "    .dataframe tbody tr th:only-of-type {\n",
              "        vertical-align: middle;\n",
              "    }\n",
              "\n",
              "    .dataframe tbody tr th {\n",
              "        vertical-align: top;\n",
              "    }\n",
              "\n",
              "    .dataframe thead th {\n",
              "        text-align: right;\n",
              "    }\n",
              "</style>\n",
              "<table border=\"1\" class=\"dataframe\">\n",
              "  <thead>\n",
              "    <tr style=\"text-align: right;\">\n",
              "      <th></th>\n",
              "      <th>gender</th>\n",
              "      <th>race/ethnicity</th>\n",
              "      <th>parental level of education</th>\n",
              "      <th>lunch</th>\n",
              "      <th>test preparation course</th>\n",
              "      <th>math score</th>\n",
              "      <th>reading score</th>\n",
              "      <th>writing score</th>\n",
              "      <th>media</th>\n",
              "    </tr>\n",
              "  </thead>\n",
              "  <tbody>\n",
              "    <tr>\n",
              "      <th>0</th>\n",
              "      <td>female</td>\n",
              "      <td>group B</td>\n",
              "      <td>bachelor's degree</td>\n",
              "      <td>standard</td>\n",
              "      <td>none</td>\n",
              "      <td>72</td>\n",
              "      <td>72</td>\n",
              "      <td>74</td>\n",
              "      <td>72.666667</td>\n",
              "    </tr>\n",
              "    <tr>\n",
              "      <th>1</th>\n",
              "      <td>female</td>\n",
              "      <td>group C</td>\n",
              "      <td>some college</td>\n",
              "      <td>standard</td>\n",
              "      <td>completed</td>\n",
              "      <td>69</td>\n",
              "      <td>90</td>\n",
              "      <td>88</td>\n",
              "      <td>82.333333</td>\n",
              "    </tr>\n",
              "    <tr>\n",
              "      <th>2</th>\n",
              "      <td>female</td>\n",
              "      <td>group B</td>\n",
              "      <td>master's degree</td>\n",
              "      <td>standard</td>\n",
              "      <td>none</td>\n",
              "      <td>90</td>\n",
              "      <td>95</td>\n",
              "      <td>93</td>\n",
              "      <td>92.666667</td>\n",
              "    </tr>\n",
              "    <tr>\n",
              "      <th>3</th>\n",
              "      <td>male</td>\n",
              "      <td>group A</td>\n",
              "      <td>associate's degree</td>\n",
              "      <td>free/reduced</td>\n",
              "      <td>none</td>\n",
              "      <td>47</td>\n",
              "      <td>57</td>\n",
              "      <td>44</td>\n",
              "      <td>49.333333</td>\n",
              "    </tr>\n",
              "    <tr>\n",
              "      <th>4</th>\n",
              "      <td>male</td>\n",
              "      <td>group C</td>\n",
              "      <td>some college</td>\n",
              "      <td>standard</td>\n",
              "      <td>none</td>\n",
              "      <td>76</td>\n",
              "      <td>78</td>\n",
              "      <td>75</td>\n",
              "      <td>76.333333</td>\n",
              "    </tr>\n",
              "  </tbody>\n",
              "</table>\n",
              "</div>\n",
              "      <button class=\"colab-df-convert\" onclick=\"convertToInteractive('df-9055a9a8-96c6-46e0-9e52-a87413a2264a')\"\n",
              "              title=\"Convert this dataframe to an interactive table.\"\n",
              "              style=\"display:none;\">\n",
              "        \n",
              "  <svg xmlns=\"http://www.w3.org/2000/svg\" height=\"24px\"viewBox=\"0 0 24 24\"\n",
              "       width=\"24px\">\n",
              "    <path d=\"M0 0h24v24H0V0z\" fill=\"none\"/>\n",
              "    <path d=\"M18.56 5.44l.94 2.06.94-2.06 2.06-.94-2.06-.94-.94-2.06-.94 2.06-2.06.94zm-11 1L8.5 8.5l.94-2.06 2.06-.94-2.06-.94L8.5 2.5l-.94 2.06-2.06.94zm10 10l.94 2.06.94-2.06 2.06-.94-2.06-.94-.94-2.06-.94 2.06-2.06.94z\"/><path d=\"M17.41 7.96l-1.37-1.37c-.4-.4-.92-.59-1.43-.59-.52 0-1.04.2-1.43.59L10.3 9.45l-7.72 7.72c-.78.78-.78 2.05 0 2.83L4 21.41c.39.39.9.59 1.41.59.51 0 1.02-.2 1.41-.59l7.78-7.78 2.81-2.81c.8-.78.8-2.07 0-2.86zM5.41 20L4 18.59l7.72-7.72 1.47 1.35L5.41 20z\"/>\n",
              "  </svg>\n",
              "      </button>\n",
              "      \n",
              "  <style>\n",
              "    .colab-df-container {\n",
              "      display:flex;\n",
              "      flex-wrap:wrap;\n",
              "      gap: 12px;\n",
              "    }\n",
              "\n",
              "    .colab-df-convert {\n",
              "      background-color: #E8F0FE;\n",
              "      border: none;\n",
              "      border-radius: 50%;\n",
              "      cursor: pointer;\n",
              "      display: none;\n",
              "      fill: #1967D2;\n",
              "      height: 32px;\n",
              "      padding: 0 0 0 0;\n",
              "      width: 32px;\n",
              "    }\n",
              "\n",
              "    .colab-df-convert:hover {\n",
              "      background-color: #E2EBFA;\n",
              "      box-shadow: 0px 1px 2px rgba(60, 64, 67, 0.3), 0px 1px 3px 1px rgba(60, 64, 67, 0.15);\n",
              "      fill: #174EA6;\n",
              "    }\n",
              "\n",
              "    [theme=dark] .colab-df-convert {\n",
              "      background-color: #3B4455;\n",
              "      fill: #D2E3FC;\n",
              "    }\n",
              "\n",
              "    [theme=dark] .colab-df-convert:hover {\n",
              "      background-color: #434B5C;\n",
              "      box-shadow: 0px 1px 3px 1px rgba(0, 0, 0, 0.15);\n",
              "      filter: drop-shadow(0px 1px 2px rgba(0, 0, 0, 0.3));\n",
              "      fill: #FFFFFF;\n",
              "    }\n",
              "  </style>\n",
              "\n",
              "      <script>\n",
              "        const buttonEl =\n",
              "          document.querySelector('#df-9055a9a8-96c6-46e0-9e52-a87413a2264a button.colab-df-convert');\n",
              "        buttonEl.style.display =\n",
              "          google.colab.kernel.accessAllowed ? 'block' : 'none';\n",
              "\n",
              "        async function convertToInteractive(key) {\n",
              "          const element = document.querySelector('#df-9055a9a8-96c6-46e0-9e52-a87413a2264a');\n",
              "          const dataTable =\n",
              "            await google.colab.kernel.invokeFunction('convertToInteractive',\n",
              "                                                     [key], {});\n",
              "          if (!dataTable) return;\n",
              "\n",
              "          const docLinkHtml = 'Like what you see? Visit the ' +\n",
              "            '<a target=\"_blank\" href=https://colab.research.google.com/notebooks/data_table.ipynb>data table notebook</a>'\n",
              "            + ' to learn more about interactive tables.';\n",
              "          element.innerHTML = '';\n",
              "          dataTable['output_type'] = 'display_data';\n",
              "          await google.colab.output.renderOutput(dataTable, element);\n",
              "          const docLink = document.createElement('div');\n",
              "          docLink.innerHTML = docLinkHtml;\n",
              "          element.appendChild(docLink);\n",
              "        }\n",
              "      </script>\n",
              "    </div>\n",
              "  </div>\n",
              "  "
            ]
          },
          "metadata": {},
          "execution_count": 17
        }
      ]
    },
    {
      "cell_type": "code",
      "execution_count": 31,
      "metadata": {
        "colab": {
          "base_uri": "https://localhost:8080/"
        },
        "execution": {
          "iopub.execute_input": "2022-07-04T19:01:09.689082Z",
          "iopub.status.busy": "2022-07-04T19:01:09.688577Z",
          "iopub.status.idle": "2022-07-04T19:01:12.721821Z",
          "shell.execute_reply": "2022-07-04T19:01:12.719932Z",
          "shell.execute_reply.started": "2022-07-04T19:01:09.689026Z"
        },
        "id": "_Sm3RwZ3c8a9",
        "outputId": "712bcb56-0c5a-421f-d70b-031f49c2b915"
      },
      "outputs": [
        {
          "output_type": "stream",
          "name": "stdout",
          "text": [
            "Fitting 5 folds for each of 36 candidates, totalling 180 fits\n"
          ]
        },
        {
          "output_type": "execute_result",
          "data": {
            "text/plain": [
              "GridSearchCV(cv=KFold(n_splits=5, random_state=42, shuffle=True),\n",
              "             estimator=Pipeline(steps=[('pre_processador',\n",
              "                                        ColumnTransformer(transformers=[('transf_num',\n",
              "                                                                         Pipeline(steps=[('input_num',\n",
              "                                                                                          SimpleImputer(strategy='median')),\n",
              "                                                                                         ('std',\n",
              "                                                                                          StandardScaler())]),\n",
              "                                                                         ['math '\n",
              "                                                                          'score',\n",
              "                                                                          'reading '\n",
              "                                                                          'score',\n",
              "                                                                          'writing '\n",
              "                                                                          'score']),\n",
              "                                                                        ('transf_oe',\n",
              "                                                                         Pipeline(steps=[('input_cat_oe',\n",
              "                                                                                          SimpleImpu...\n",
              "                                                                                         ('onehot',\n",
              "                                                                                          OneHotEncoder(handle_unknown='ignore'))]),\n",
              "                                                                         ['gender',\n",
              "                                                                          'lunch',\n",
              "                                                                          'test '\n",
              "                                                                          'preparation '\n",
              "                                                                          'course'])])),\n",
              "                                       ('rfr',\n",
              "                                        RandomForestRegressor(random_state=42))]),\n",
              "             n_jobs=-1,\n",
              "             param_grid={'rfr__criterion': ['squared_error', 'absolute_error',\n",
              "                                            'poisson'],\n",
              "                         'rfr__max_depth': [2, 3, 5],\n",
              "                         'rfr__max_features': ['sqrt', 'log2'],\n",
              "                         'rfr__n_estimators': [500, 1000]},\n",
              "             scoring='r2', verbose=10)"
            ]
          },
          "metadata": {},
          "execution_count": 31
        }
      ],
      "source": [
        "#Separando o que é features e target:\n",
        "X = df.drop(columns=\"media\")\n",
        "y = df[\"media\"]\n",
        "\n",
        "# Dividindo em dados de teste e dados de treino, peguei 20% para dados de teste:\n",
        "X_train, X_test, y_train, y_test = train_test_split(X, y, test_size=0.2, random_state=42)\n",
        "\n",
        "\n",
        "# ==========================================================\n",
        "# Tratamento das features numéricas\n",
        "pipe_features_num = Pipeline([(\"input_num\", SimpleImputer(strategy=\"median\")),\n",
        "                              (\"std\", StandardScaler())])\n",
        "\n",
        "features_num = X_train.select_dtypes(include=np.number).columns.tolist()\n",
        "\n",
        "# ==========================================================\n",
        "# Tratando as features categóricas. Os valores nulos (NaN) serão preenchidos pelos dados mais constantes e posteriormente codificaremos todas elas com Ordinal Enconder. \n",
        "\n",
        "pipe_features_oe = Pipeline([(\"input_cat_oe\", SimpleImputer(strategy=\"constant\", fill_value=\"unknown\")),\n",
        "                            (\"ordinal\", OrdinalEncoder(handle_unknown='use_encoded_value', unknown_value=-1))])\n",
        "\n",
        "features_oe = [\"race/ethnicity\", \"parental level of education\"]\n",
        "\n",
        "# Tratando as features categóricas. Os valores nulos (NaN) serão preenchidos pelos dados mais constantes e posteriormente codificaremos todas elas com o One Hot Encoder. \n",
        "\n",
        "pipe_features_ohe = Pipeline([(\"input_cat_oe\", SimpleImputer(strategy=\"constant\", fill_value=\"unknown\")),\n",
        "                            (\"onehot\", OneHotEncoder(handle_unknown='ignore'))])\n",
        "\n",
        "features_ohe = [\"gender\", \"lunch\", \"test preparation course\"]\n",
        "\n",
        "# ==========================================================\n",
        "# Pré-processador => Pegando as pipelines anteriores e unindo-as.\n",
        "pre_processador = ColumnTransformer([(\"transf_num\", pipe_features_num, features_num),\n",
        "                                     (\"transf_oe\", pipe_features_oe, features_oe),\n",
        "                                     (\"transf_ohe\", pipe_features_ohe, features_ohe)])\n",
        "\n",
        "# ==========================================================\n",
        "# Pipeline final, usando o pré-processador e o estimador que queremos utilizar, neste caso o XGBoost para regressão.\n",
        "pipe_rfr = Pipeline([(\"pre_processador\", pre_processador),\n",
        "                     (\"rfr\", RandomForestRegressor(random_state=42))])\n",
        "\n",
        "# ==========================================================\n",
        "#Vamos dividir em splits.\n",
        "splitter = KFold(n_splits=5, random_state=42, shuffle=True)\n",
        "\n",
        "#Motando a grade geral de parâmetros.\n",
        "params_grid_rfr = {\"rfr__n_estimators\": [500, 1000],\n",
        "                  \"rfr__max_depth\": [2, 3, 5],\n",
        "                  \"rfr__criterion\": [\"squared_error\", \"absolute_error\", \"poisson\"],\n",
        "                  \"rfr__max_features\": [\"sqrt\", \"log2\",]}\n",
        "\n",
        "grid_rfr_edu = GridSearchCV(estimator=pipe_rfr,\n",
        "                       param_grid=params_grid_rfr,\n",
        "                       scoring=\"r2\",\n",
        "                       cv=splitter,\n",
        "                       verbose=10,\n",
        "                       n_jobs=-1)\n",
        "\n",
        "grid_rfr_edu.fit(X_train, y_train)"
      ]
    },
    {
      "cell_type": "code",
      "execution_count": 32,
      "metadata": {
        "colab": {
          "base_uri": "https://localhost:8080/"
        },
        "id": "19_-HTB0c8bB",
        "outputId": "66926dd3-5412-44bd-c6cb-14b76abcfd86"
      },
      "outputs": [
        {
          "output_type": "execute_result",
          "data": {
            "text/plain": [
              "{'rfr__criterion': 'squared_error',\n",
              " 'rfr__max_depth': 5,\n",
              " 'rfr__max_features': 'sqrt',\n",
              " 'rfr__n_estimators': 1000}"
            ]
          },
          "metadata": {},
          "execution_count": 32
        }
      ],
      "source": [
        "grid_rfr_edu.best_params_"
      ]
    },
    {
      "cell_type": "code",
      "execution_count": 33,
      "metadata": {
        "colab": {
          "base_uri": "https://localhost:8080/",
          "height": 1000
        },
        "id": "ltWuVL5Hc8bC",
        "outputId": "9babc5d2-d8da-46c8-9cbb-9991281327aa"
      },
      "outputs": [
        {
          "output_type": "execute_result",
          "data": {
            "text/plain": [
              "    mean_fit_time  std_fit_time  mean_score_time  std_score_time  \\\n",
              "9        2.219730      0.069684         0.166319        0.001767   \n",
              "11       2.188887      0.025917         0.166386        0.007370   \n",
              "8        1.099720      0.019686         0.092193        0.005568   \n",
              "10       1.121642      0.021111         0.091668        0.004730   \n",
              "23       5.244255      0.106575         0.145425        0.009708   \n",
              "21       5.330561      0.033778         0.160176        0.012279   \n",
              "20       2.649991      0.020169         0.093711        0.003846   \n",
              "22       2.651455      0.058643         0.082168        0.003340   \n",
              "5        2.093416      0.022174         0.159408        0.004721   \n",
              "7        2.062627      0.021500         0.164834        0.006796   \n",
              "4        1.047618      0.008024         0.085726        0.002301   \n",
              "6        1.048456      0.010324         0.088844        0.005495   \n",
              "19       4.396660      0.069511         0.149547        0.008503   \n",
              "17       5.061068      0.424534         0.191227        0.052640   \n",
              "16       2.294109      0.045805         0.085184        0.008004   \n",
              "18       2.312902      0.044496         0.078780        0.003810   \n",
              "3        2.038839      0.020769         0.164032        0.014218   \n",
              "1        2.040945      0.023518         0.155713        0.004257   \n",
              "0        1.053734      0.034168         0.091742        0.007619   \n",
              "2        1.073015      0.026892         0.086899        0.002516   \n",
              "15       4.051142      0.021871         0.154160        0.022625   \n",
              "13       3.827927      0.070770         0.152990        0.010790   \n",
              "14       1.983097      0.040429         0.080588        0.005652   \n",
              "12       2.015719      0.057631         0.085114        0.008373   \n",
              "32       1.184402      0.023408         0.087720        0.004071   \n",
              "34       1.187351      0.015752         0.086082        0.004293   \n",
              "33       2.340045      0.032726         0.161624        0.010465   \n",
              "35       2.267148      0.155319         0.145529        0.025180   \n",
              "29       2.179642      0.028244         0.153459        0.005713   \n",
              "31       2.658515      0.488973         0.174412        0.039784   \n",
              "28       1.107840      0.009204         0.083406        0.002386   \n",
              "30       1.093205      0.014428         0.083350        0.005338   \n",
              "24       1.009697      0.021302         0.078941        0.005094   \n",
              "26       1.016706      0.008245         0.078318        0.003431   \n",
              "25       2.025297      0.023039         0.161007        0.021991   \n",
              "27       2.052863      0.032954         0.143026        0.003235   \n",
              "\n",
              "   param_rfr__criterion param_rfr__max_depth param_rfr__max_features  \\\n",
              "9         squared_error                    5                    sqrt   \n",
              "11        squared_error                    5                    log2   \n",
              "8         squared_error                    5                    sqrt   \n",
              "10        squared_error                    5                    log2   \n",
              "23       absolute_error                    5                    log2   \n",
              "21       absolute_error                    5                    sqrt   \n",
              "20       absolute_error                    5                    sqrt   \n",
              "22       absolute_error                    5                    log2   \n",
              "5         squared_error                    3                    sqrt   \n",
              "7         squared_error                    3                    log2   \n",
              "4         squared_error                    3                    sqrt   \n",
              "6         squared_error                    3                    log2   \n",
              "19       absolute_error                    3                    log2   \n",
              "17       absolute_error                    3                    sqrt   \n",
              "16       absolute_error                    3                    sqrt   \n",
              "18       absolute_error                    3                    log2   \n",
              "3         squared_error                    2                    log2   \n",
              "1         squared_error                    2                    sqrt   \n",
              "0         squared_error                    2                    sqrt   \n",
              "2         squared_error                    2                    log2   \n",
              "15       absolute_error                    2                    log2   \n",
              "13       absolute_error                    2                    sqrt   \n",
              "14       absolute_error                    2                    log2   \n",
              "12       absolute_error                    2                    sqrt   \n",
              "32              poisson                    5                    sqrt   \n",
              "34              poisson                    5                    log2   \n",
              "33              poisson                    5                    sqrt   \n",
              "35              poisson                    5                    log2   \n",
              "29              poisson                    3                    sqrt   \n",
              "31              poisson                    3                    log2   \n",
              "28              poisson                    3                    sqrt   \n",
              "30              poisson                    3                    log2   \n",
              "24              poisson                    2                    sqrt   \n",
              "26              poisson                    2                    log2   \n",
              "25              poisson                    2                    sqrt   \n",
              "27              poisson                    2                    log2   \n",
              "\n",
              "   param_rfr__n_estimators                                             params  \\\n",
              "9                     1000  {'rfr__criterion': 'squared_error', 'rfr__max_...   \n",
              "11                    1000  {'rfr__criterion': 'squared_error', 'rfr__max_...   \n",
              "8                      500  {'rfr__criterion': 'squared_error', 'rfr__max_...   \n",
              "10                     500  {'rfr__criterion': 'squared_error', 'rfr__max_...   \n",
              "23                    1000  {'rfr__criterion': 'absolute_error', 'rfr__max...   \n",
              "21                    1000  {'rfr__criterion': 'absolute_error', 'rfr__max...   \n",
              "20                     500  {'rfr__criterion': 'absolute_error', 'rfr__max...   \n",
              "22                     500  {'rfr__criterion': 'absolute_error', 'rfr__max...   \n",
              "5                     1000  {'rfr__criterion': 'squared_error', 'rfr__max_...   \n",
              "7                     1000  {'rfr__criterion': 'squared_error', 'rfr__max_...   \n",
              "4                      500  {'rfr__criterion': 'squared_error', 'rfr__max_...   \n",
              "6                      500  {'rfr__criterion': 'squared_error', 'rfr__max_...   \n",
              "19                    1000  {'rfr__criterion': 'absolute_error', 'rfr__max...   \n",
              "17                    1000  {'rfr__criterion': 'absolute_error', 'rfr__max...   \n",
              "16                     500  {'rfr__criterion': 'absolute_error', 'rfr__max...   \n",
              "18                     500  {'rfr__criterion': 'absolute_error', 'rfr__max...   \n",
              "3                     1000  {'rfr__criterion': 'squared_error', 'rfr__max_...   \n",
              "1                     1000  {'rfr__criterion': 'squared_error', 'rfr__max_...   \n",
              "0                      500  {'rfr__criterion': 'squared_error', 'rfr__max_...   \n",
              "2                      500  {'rfr__criterion': 'squared_error', 'rfr__max_...   \n",
              "15                    1000  {'rfr__criterion': 'absolute_error', 'rfr__max...   \n",
              "13                    1000  {'rfr__criterion': 'absolute_error', 'rfr__max...   \n",
              "14                     500  {'rfr__criterion': 'absolute_error', 'rfr__max...   \n",
              "12                     500  {'rfr__criterion': 'absolute_error', 'rfr__max...   \n",
              "32                     500  {'rfr__criterion': 'poisson', 'rfr__max_depth'...   \n",
              "34                     500  {'rfr__criterion': 'poisson', 'rfr__max_depth'...   \n",
              "33                    1000  {'rfr__criterion': 'poisson', 'rfr__max_depth'...   \n",
              "35                    1000  {'rfr__criterion': 'poisson', 'rfr__max_depth'...   \n",
              "29                    1000  {'rfr__criterion': 'poisson', 'rfr__max_depth'...   \n",
              "31                    1000  {'rfr__criterion': 'poisson', 'rfr__max_depth'...   \n",
              "28                     500  {'rfr__criterion': 'poisson', 'rfr__max_depth'...   \n",
              "30                     500  {'rfr__criterion': 'poisson', 'rfr__max_depth'...   \n",
              "24                     500  {'rfr__criterion': 'poisson', 'rfr__max_depth'...   \n",
              "26                     500  {'rfr__criterion': 'poisson', 'rfr__max_depth'...   \n",
              "25                    1000  {'rfr__criterion': 'poisson', 'rfr__max_depth'...   \n",
              "27                    1000  {'rfr__criterion': 'poisson', 'rfr__max_depth'...   \n",
              "\n",
              "    split0_test_score  split1_test_score  split2_test_score  \\\n",
              "9            0.983699           0.985858           0.978537   \n",
              "11           0.983699           0.985858           0.978537   \n",
              "8            0.982801           0.985465           0.977047   \n",
              "10           0.982801           0.985465           0.977047   \n",
              "23           0.979782           0.980910           0.972753   \n",
              "21           0.979782           0.980910           0.972753   \n",
              "20           0.978832           0.980788           0.971347   \n",
              "22           0.978832           0.980788           0.971347   \n",
              "5            0.931457           0.939379           0.926772   \n",
              "7            0.931457           0.939379           0.926772   \n",
              "4            0.930937           0.938136           0.924123   \n",
              "6            0.930937           0.938136           0.924123   \n",
              "19           0.910006           0.915101           0.905373   \n",
              "17           0.910006           0.915101           0.905373   \n",
              "16           0.910710           0.913540           0.903042   \n",
              "18           0.910710           0.913540           0.903042   \n",
              "3            0.833157           0.847669           0.838342   \n",
              "1            0.833157           0.847669           0.838342   \n",
              "0            0.826985           0.841178           0.831244   \n",
              "2            0.826985           0.841178           0.831244   \n",
              "15           0.797039           0.800278           0.807640   \n",
              "13           0.797039           0.800278           0.807640   \n",
              "14           0.791355           0.792784           0.800426   \n",
              "12           0.791355           0.792784           0.800426   \n",
              "32           0.273425           0.192334           0.205255   \n",
              "34           0.273425           0.192334           0.205255   \n",
              "33           0.273823           0.192275           0.203111   \n",
              "35           0.273823           0.192275           0.203111   \n",
              "29           0.197646           0.123624           0.143453   \n",
              "31           0.197646           0.123624           0.143453   \n",
              "28           0.196374           0.124453           0.143534   \n",
              "30           0.196374           0.124453           0.143534   \n",
              "24           0.155438           0.096876           0.125602   \n",
              "26           0.155438           0.096876           0.125602   \n",
              "25           0.155844           0.095796           0.125094   \n",
              "27           0.155844           0.095796           0.125094   \n",
              "\n",
              "    split3_test_score  split4_test_score  mean_test_score  std_test_score  \\\n",
              "9            0.979750           0.984830         0.982535        0.002878   \n",
              "11           0.979750           0.984830         0.982535        0.002878   \n",
              "8            0.979324           0.984033         0.981734        0.003102   \n",
              "10           0.979324           0.984033         0.981734        0.003102   \n",
              "23           0.969543           0.982210         0.977040        0.004976   \n",
              "21           0.969543           0.982210         0.977040        0.004976   \n",
              "20           0.969476           0.981509         0.976390        0.004995   \n",
              "22           0.969476           0.981509         0.976390        0.004995   \n",
              "5            0.905755           0.941183         0.928909        0.012708   \n",
              "7            0.905755           0.941183         0.928909        0.012708   \n",
              "4            0.905649           0.940858         0.927941        0.012580   \n",
              "6            0.905649           0.940858         0.927941        0.012580   \n",
              "19           0.877868           0.927924         0.907254        0.016513   \n",
              "17           0.877868           0.927924         0.907254        0.016513   \n",
              "16           0.877514           0.926899         0.906341        0.016343   \n",
              "18           0.877514           0.926899         0.906341        0.016343   \n",
              "3            0.797788           0.859635         0.835318        0.020814   \n",
              "1            0.797788           0.859635         0.835318        0.020814   \n",
              "0            0.791885           0.854672         0.829193        0.020947   \n",
              "2            0.791885           0.854672         0.829193        0.020947   \n",
              "15           0.764492           0.828938         0.799677        0.020808   \n",
              "13           0.764492           0.828938         0.799677        0.020808   \n",
              "14           0.759582           0.823121         0.793454        0.020401   \n",
              "12           0.759582           0.823121         0.793454        0.020401   \n",
              "32           0.277319           0.314521         0.252571        0.046373   \n",
              "34           0.277319           0.314521         0.252571        0.046373   \n",
              "33           0.277595           0.314854         0.252332        0.046986   \n",
              "35           0.277595           0.314854         0.252332        0.046986   \n",
              "29           0.201246           0.227723         0.178738        0.038849   \n",
              "31           0.201246           0.227723         0.178738        0.038849   \n",
              "28           0.201026           0.228149         0.178707        0.038563   \n",
              "30           0.201026           0.228149         0.178707        0.038563   \n",
              "24           0.163671           0.171760         0.142670        0.027708   \n",
              "26           0.163671           0.171760         0.142670        0.027708   \n",
              "25           0.163781           0.170411         0.142185        0.027906   \n",
              "27           0.163781           0.170411         0.142185        0.027906   \n",
              "\n",
              "    rank_test_score  \n",
              "9                 1  \n",
              "11                1  \n",
              "8                 3  \n",
              "10                3  \n",
              "23                5  \n",
              "21                5  \n",
              "20                7  \n",
              "22                7  \n",
              "5                 9  \n",
              "7                 9  \n",
              "4                11  \n",
              "6                11  \n",
              "19               13  \n",
              "17               13  \n",
              "16               15  \n",
              "18               15  \n",
              "3                17  \n",
              "1                17  \n",
              "0                19  \n",
              "2                19  \n",
              "15               21  \n",
              "13               21  \n",
              "14               23  \n",
              "12               23  \n",
              "32               25  \n",
              "34               25  \n",
              "33               27  \n",
              "35               27  \n",
              "29               29  \n",
              "31               29  \n",
              "28               31  \n",
              "30               31  \n",
              "24               33  \n",
              "26               33  \n",
              "25               35  \n",
              "27               35  "
            ],
            "text/html": [
              "\n",
              "  <div id=\"df-771af9df-ac28-4d01-95b0-b3218ed3c07f\">\n",
              "    <div class=\"colab-df-container\">\n",
              "      <div>\n",
              "<style scoped>\n",
              "    .dataframe tbody tr th:only-of-type {\n",
              "        vertical-align: middle;\n",
              "    }\n",
              "\n",
              "    .dataframe tbody tr th {\n",
              "        vertical-align: top;\n",
              "    }\n",
              "\n",
              "    .dataframe thead th {\n",
              "        text-align: right;\n",
              "    }\n",
              "</style>\n",
              "<table border=\"1\" class=\"dataframe\">\n",
              "  <thead>\n",
              "    <tr style=\"text-align: right;\">\n",
              "      <th></th>\n",
              "      <th>mean_fit_time</th>\n",
              "      <th>std_fit_time</th>\n",
              "      <th>mean_score_time</th>\n",
              "      <th>std_score_time</th>\n",
              "      <th>param_rfr__criterion</th>\n",
              "      <th>param_rfr__max_depth</th>\n",
              "      <th>param_rfr__max_features</th>\n",
              "      <th>param_rfr__n_estimators</th>\n",
              "      <th>params</th>\n",
              "      <th>split0_test_score</th>\n",
              "      <th>split1_test_score</th>\n",
              "      <th>split2_test_score</th>\n",
              "      <th>split3_test_score</th>\n",
              "      <th>split4_test_score</th>\n",
              "      <th>mean_test_score</th>\n",
              "      <th>std_test_score</th>\n",
              "      <th>rank_test_score</th>\n",
              "    </tr>\n",
              "  </thead>\n",
              "  <tbody>\n",
              "    <tr>\n",
              "      <th>9</th>\n",
              "      <td>2.219730</td>\n",
              "      <td>0.069684</td>\n",
              "      <td>0.166319</td>\n",
              "      <td>0.001767</td>\n",
              "      <td>squared_error</td>\n",
              "      <td>5</td>\n",
              "      <td>sqrt</td>\n",
              "      <td>1000</td>\n",
              "      <td>{'rfr__criterion': 'squared_error', 'rfr__max_...</td>\n",
              "      <td>0.983699</td>\n",
              "      <td>0.985858</td>\n",
              "      <td>0.978537</td>\n",
              "      <td>0.979750</td>\n",
              "      <td>0.984830</td>\n",
              "      <td>0.982535</td>\n",
              "      <td>0.002878</td>\n",
              "      <td>1</td>\n",
              "    </tr>\n",
              "    <tr>\n",
              "      <th>11</th>\n",
              "      <td>2.188887</td>\n",
              "      <td>0.025917</td>\n",
              "      <td>0.166386</td>\n",
              "      <td>0.007370</td>\n",
              "      <td>squared_error</td>\n",
              "      <td>5</td>\n",
              "      <td>log2</td>\n",
              "      <td>1000</td>\n",
              "      <td>{'rfr__criterion': 'squared_error', 'rfr__max_...</td>\n",
              "      <td>0.983699</td>\n",
              "      <td>0.985858</td>\n",
              "      <td>0.978537</td>\n",
              "      <td>0.979750</td>\n",
              "      <td>0.984830</td>\n",
              "      <td>0.982535</td>\n",
              "      <td>0.002878</td>\n",
              "      <td>1</td>\n",
              "    </tr>\n",
              "    <tr>\n",
              "      <th>8</th>\n",
              "      <td>1.099720</td>\n",
              "      <td>0.019686</td>\n",
              "      <td>0.092193</td>\n",
              "      <td>0.005568</td>\n",
              "      <td>squared_error</td>\n",
              "      <td>5</td>\n",
              "      <td>sqrt</td>\n",
              "      <td>500</td>\n",
              "      <td>{'rfr__criterion': 'squared_error', 'rfr__max_...</td>\n",
              "      <td>0.982801</td>\n",
              "      <td>0.985465</td>\n",
              "      <td>0.977047</td>\n",
              "      <td>0.979324</td>\n",
              "      <td>0.984033</td>\n",
              "      <td>0.981734</td>\n",
              "      <td>0.003102</td>\n",
              "      <td>3</td>\n",
              "    </tr>\n",
              "    <tr>\n",
              "      <th>10</th>\n",
              "      <td>1.121642</td>\n",
              "      <td>0.021111</td>\n",
              "      <td>0.091668</td>\n",
              "      <td>0.004730</td>\n",
              "      <td>squared_error</td>\n",
              "      <td>5</td>\n",
              "      <td>log2</td>\n",
              "      <td>500</td>\n",
              "      <td>{'rfr__criterion': 'squared_error', 'rfr__max_...</td>\n",
              "      <td>0.982801</td>\n",
              "      <td>0.985465</td>\n",
              "      <td>0.977047</td>\n",
              "      <td>0.979324</td>\n",
              "      <td>0.984033</td>\n",
              "      <td>0.981734</td>\n",
              "      <td>0.003102</td>\n",
              "      <td>3</td>\n",
              "    </tr>\n",
              "    <tr>\n",
              "      <th>23</th>\n",
              "      <td>5.244255</td>\n",
              "      <td>0.106575</td>\n",
              "      <td>0.145425</td>\n",
              "      <td>0.009708</td>\n",
              "      <td>absolute_error</td>\n",
              "      <td>5</td>\n",
              "      <td>log2</td>\n",
              "      <td>1000</td>\n",
              "      <td>{'rfr__criterion': 'absolute_error', 'rfr__max...</td>\n",
              "      <td>0.979782</td>\n",
              "      <td>0.980910</td>\n",
              "      <td>0.972753</td>\n",
              "      <td>0.969543</td>\n",
              "      <td>0.982210</td>\n",
              "      <td>0.977040</td>\n",
              "      <td>0.004976</td>\n",
              "      <td>5</td>\n",
              "    </tr>\n",
              "    <tr>\n",
              "      <th>21</th>\n",
              "      <td>5.330561</td>\n",
              "      <td>0.033778</td>\n",
              "      <td>0.160176</td>\n",
              "      <td>0.012279</td>\n",
              "      <td>absolute_error</td>\n",
              "      <td>5</td>\n",
              "      <td>sqrt</td>\n",
              "      <td>1000</td>\n",
              "      <td>{'rfr__criterion': 'absolute_error', 'rfr__max...</td>\n",
              "      <td>0.979782</td>\n",
              "      <td>0.980910</td>\n",
              "      <td>0.972753</td>\n",
              "      <td>0.969543</td>\n",
              "      <td>0.982210</td>\n",
              "      <td>0.977040</td>\n",
              "      <td>0.004976</td>\n",
              "      <td>5</td>\n",
              "    </tr>\n",
              "    <tr>\n",
              "      <th>20</th>\n",
              "      <td>2.649991</td>\n",
              "      <td>0.020169</td>\n",
              "      <td>0.093711</td>\n",
              "      <td>0.003846</td>\n",
              "      <td>absolute_error</td>\n",
              "      <td>5</td>\n",
              "      <td>sqrt</td>\n",
              "      <td>500</td>\n",
              "      <td>{'rfr__criterion': 'absolute_error', 'rfr__max...</td>\n",
              "      <td>0.978832</td>\n",
              "      <td>0.980788</td>\n",
              "      <td>0.971347</td>\n",
              "      <td>0.969476</td>\n",
              "      <td>0.981509</td>\n",
              "      <td>0.976390</td>\n",
              "      <td>0.004995</td>\n",
              "      <td>7</td>\n",
              "    </tr>\n",
              "    <tr>\n",
              "      <th>22</th>\n",
              "      <td>2.651455</td>\n",
              "      <td>0.058643</td>\n",
              "      <td>0.082168</td>\n",
              "      <td>0.003340</td>\n",
              "      <td>absolute_error</td>\n",
              "      <td>5</td>\n",
              "      <td>log2</td>\n",
              "      <td>500</td>\n",
              "      <td>{'rfr__criterion': 'absolute_error', 'rfr__max...</td>\n",
              "      <td>0.978832</td>\n",
              "      <td>0.980788</td>\n",
              "      <td>0.971347</td>\n",
              "      <td>0.969476</td>\n",
              "      <td>0.981509</td>\n",
              "      <td>0.976390</td>\n",
              "      <td>0.004995</td>\n",
              "      <td>7</td>\n",
              "    </tr>\n",
              "    <tr>\n",
              "      <th>5</th>\n",
              "      <td>2.093416</td>\n",
              "      <td>0.022174</td>\n",
              "      <td>0.159408</td>\n",
              "      <td>0.004721</td>\n",
              "      <td>squared_error</td>\n",
              "      <td>3</td>\n",
              "      <td>sqrt</td>\n",
              "      <td>1000</td>\n",
              "      <td>{'rfr__criterion': 'squared_error', 'rfr__max_...</td>\n",
              "      <td>0.931457</td>\n",
              "      <td>0.939379</td>\n",
              "      <td>0.926772</td>\n",
              "      <td>0.905755</td>\n",
              "      <td>0.941183</td>\n",
              "      <td>0.928909</td>\n",
              "      <td>0.012708</td>\n",
              "      <td>9</td>\n",
              "    </tr>\n",
              "    <tr>\n",
              "      <th>7</th>\n",
              "      <td>2.062627</td>\n",
              "      <td>0.021500</td>\n",
              "      <td>0.164834</td>\n",
              "      <td>0.006796</td>\n",
              "      <td>squared_error</td>\n",
              "      <td>3</td>\n",
              "      <td>log2</td>\n",
              "      <td>1000</td>\n",
              "      <td>{'rfr__criterion': 'squared_error', 'rfr__max_...</td>\n",
              "      <td>0.931457</td>\n",
              "      <td>0.939379</td>\n",
              "      <td>0.926772</td>\n",
              "      <td>0.905755</td>\n",
              "      <td>0.941183</td>\n",
              "      <td>0.928909</td>\n",
              "      <td>0.012708</td>\n",
              "      <td>9</td>\n",
              "    </tr>\n",
              "    <tr>\n",
              "      <th>4</th>\n",
              "      <td>1.047618</td>\n",
              "      <td>0.008024</td>\n",
              "      <td>0.085726</td>\n",
              "      <td>0.002301</td>\n",
              "      <td>squared_error</td>\n",
              "      <td>3</td>\n",
              "      <td>sqrt</td>\n",
              "      <td>500</td>\n",
              "      <td>{'rfr__criterion': 'squared_error', 'rfr__max_...</td>\n",
              "      <td>0.930937</td>\n",
              "      <td>0.938136</td>\n",
              "      <td>0.924123</td>\n",
              "      <td>0.905649</td>\n",
              "      <td>0.940858</td>\n",
              "      <td>0.927941</td>\n",
              "      <td>0.012580</td>\n",
              "      <td>11</td>\n",
              "    </tr>\n",
              "    <tr>\n",
              "      <th>6</th>\n",
              "      <td>1.048456</td>\n",
              "      <td>0.010324</td>\n",
              "      <td>0.088844</td>\n",
              "      <td>0.005495</td>\n",
              "      <td>squared_error</td>\n",
              "      <td>3</td>\n",
              "      <td>log2</td>\n",
              "      <td>500</td>\n",
              "      <td>{'rfr__criterion': 'squared_error', 'rfr__max_...</td>\n",
              "      <td>0.930937</td>\n",
              "      <td>0.938136</td>\n",
              "      <td>0.924123</td>\n",
              "      <td>0.905649</td>\n",
              "      <td>0.940858</td>\n",
              "      <td>0.927941</td>\n",
              "      <td>0.012580</td>\n",
              "      <td>11</td>\n",
              "    </tr>\n",
              "    <tr>\n",
              "      <th>19</th>\n",
              "      <td>4.396660</td>\n",
              "      <td>0.069511</td>\n",
              "      <td>0.149547</td>\n",
              "      <td>0.008503</td>\n",
              "      <td>absolute_error</td>\n",
              "      <td>3</td>\n",
              "      <td>log2</td>\n",
              "      <td>1000</td>\n",
              "      <td>{'rfr__criterion': 'absolute_error', 'rfr__max...</td>\n",
              "      <td>0.910006</td>\n",
              "      <td>0.915101</td>\n",
              "      <td>0.905373</td>\n",
              "      <td>0.877868</td>\n",
              "      <td>0.927924</td>\n",
              "      <td>0.907254</td>\n",
              "      <td>0.016513</td>\n",
              "      <td>13</td>\n",
              "    </tr>\n",
              "    <tr>\n",
              "      <th>17</th>\n",
              "      <td>5.061068</td>\n",
              "      <td>0.424534</td>\n",
              "      <td>0.191227</td>\n",
              "      <td>0.052640</td>\n",
              "      <td>absolute_error</td>\n",
              "      <td>3</td>\n",
              "      <td>sqrt</td>\n",
              "      <td>1000</td>\n",
              "      <td>{'rfr__criterion': 'absolute_error', 'rfr__max...</td>\n",
              "      <td>0.910006</td>\n",
              "      <td>0.915101</td>\n",
              "      <td>0.905373</td>\n",
              "      <td>0.877868</td>\n",
              "      <td>0.927924</td>\n",
              "      <td>0.907254</td>\n",
              "      <td>0.016513</td>\n",
              "      <td>13</td>\n",
              "    </tr>\n",
              "    <tr>\n",
              "      <th>16</th>\n",
              "      <td>2.294109</td>\n",
              "      <td>0.045805</td>\n",
              "      <td>0.085184</td>\n",
              "      <td>0.008004</td>\n",
              "      <td>absolute_error</td>\n",
              "      <td>3</td>\n",
              "      <td>sqrt</td>\n",
              "      <td>500</td>\n",
              "      <td>{'rfr__criterion': 'absolute_error', 'rfr__max...</td>\n",
              "      <td>0.910710</td>\n",
              "      <td>0.913540</td>\n",
              "      <td>0.903042</td>\n",
              "      <td>0.877514</td>\n",
              "      <td>0.926899</td>\n",
              "      <td>0.906341</td>\n",
              "      <td>0.016343</td>\n",
              "      <td>15</td>\n",
              "    </tr>\n",
              "    <tr>\n",
              "      <th>18</th>\n",
              "      <td>2.312902</td>\n",
              "      <td>0.044496</td>\n",
              "      <td>0.078780</td>\n",
              "      <td>0.003810</td>\n",
              "      <td>absolute_error</td>\n",
              "      <td>3</td>\n",
              "      <td>log2</td>\n",
              "      <td>500</td>\n",
              "      <td>{'rfr__criterion': 'absolute_error', 'rfr__max...</td>\n",
              "      <td>0.910710</td>\n",
              "      <td>0.913540</td>\n",
              "      <td>0.903042</td>\n",
              "      <td>0.877514</td>\n",
              "      <td>0.926899</td>\n",
              "      <td>0.906341</td>\n",
              "      <td>0.016343</td>\n",
              "      <td>15</td>\n",
              "    </tr>\n",
              "    <tr>\n",
              "      <th>3</th>\n",
              "      <td>2.038839</td>\n",
              "      <td>0.020769</td>\n",
              "      <td>0.164032</td>\n",
              "      <td>0.014218</td>\n",
              "      <td>squared_error</td>\n",
              "      <td>2</td>\n",
              "      <td>log2</td>\n",
              "      <td>1000</td>\n",
              "      <td>{'rfr__criterion': 'squared_error', 'rfr__max_...</td>\n",
              "      <td>0.833157</td>\n",
              "      <td>0.847669</td>\n",
              "      <td>0.838342</td>\n",
              "      <td>0.797788</td>\n",
              "      <td>0.859635</td>\n",
              "      <td>0.835318</td>\n",
              "      <td>0.020814</td>\n",
              "      <td>17</td>\n",
              "    </tr>\n",
              "    <tr>\n",
              "      <th>1</th>\n",
              "      <td>2.040945</td>\n",
              "      <td>0.023518</td>\n",
              "      <td>0.155713</td>\n",
              "      <td>0.004257</td>\n",
              "      <td>squared_error</td>\n",
              "      <td>2</td>\n",
              "      <td>sqrt</td>\n",
              "      <td>1000</td>\n",
              "      <td>{'rfr__criterion': 'squared_error', 'rfr__max_...</td>\n",
              "      <td>0.833157</td>\n",
              "      <td>0.847669</td>\n",
              "      <td>0.838342</td>\n",
              "      <td>0.797788</td>\n",
              "      <td>0.859635</td>\n",
              "      <td>0.835318</td>\n",
              "      <td>0.020814</td>\n",
              "      <td>17</td>\n",
              "    </tr>\n",
              "    <tr>\n",
              "      <th>0</th>\n",
              "      <td>1.053734</td>\n",
              "      <td>0.034168</td>\n",
              "      <td>0.091742</td>\n",
              "      <td>0.007619</td>\n",
              "      <td>squared_error</td>\n",
              "      <td>2</td>\n",
              "      <td>sqrt</td>\n",
              "      <td>500</td>\n",
              "      <td>{'rfr__criterion': 'squared_error', 'rfr__max_...</td>\n",
              "      <td>0.826985</td>\n",
              "      <td>0.841178</td>\n",
              "      <td>0.831244</td>\n",
              "      <td>0.791885</td>\n",
              "      <td>0.854672</td>\n",
              "      <td>0.829193</td>\n",
              "      <td>0.020947</td>\n",
              "      <td>19</td>\n",
              "    </tr>\n",
              "    <tr>\n",
              "      <th>2</th>\n",
              "      <td>1.073015</td>\n",
              "      <td>0.026892</td>\n",
              "      <td>0.086899</td>\n",
              "      <td>0.002516</td>\n",
              "      <td>squared_error</td>\n",
              "      <td>2</td>\n",
              "      <td>log2</td>\n",
              "      <td>500</td>\n",
              "      <td>{'rfr__criterion': 'squared_error', 'rfr__max_...</td>\n",
              "      <td>0.826985</td>\n",
              "      <td>0.841178</td>\n",
              "      <td>0.831244</td>\n",
              "      <td>0.791885</td>\n",
              "      <td>0.854672</td>\n",
              "      <td>0.829193</td>\n",
              "      <td>0.020947</td>\n",
              "      <td>19</td>\n",
              "    </tr>\n",
              "    <tr>\n",
              "      <th>15</th>\n",
              "      <td>4.051142</td>\n",
              "      <td>0.021871</td>\n",
              "      <td>0.154160</td>\n",
              "      <td>0.022625</td>\n",
              "      <td>absolute_error</td>\n",
              "      <td>2</td>\n",
              "      <td>log2</td>\n",
              "      <td>1000</td>\n",
              "      <td>{'rfr__criterion': 'absolute_error', 'rfr__max...</td>\n",
              "      <td>0.797039</td>\n",
              "      <td>0.800278</td>\n",
              "      <td>0.807640</td>\n",
              "      <td>0.764492</td>\n",
              "      <td>0.828938</td>\n",
              "      <td>0.799677</td>\n",
              "      <td>0.020808</td>\n",
              "      <td>21</td>\n",
              "    </tr>\n",
              "    <tr>\n",
              "      <th>13</th>\n",
              "      <td>3.827927</td>\n",
              "      <td>0.070770</td>\n",
              "      <td>0.152990</td>\n",
              "      <td>0.010790</td>\n",
              "      <td>absolute_error</td>\n",
              "      <td>2</td>\n",
              "      <td>sqrt</td>\n",
              "      <td>1000</td>\n",
              "      <td>{'rfr__criterion': 'absolute_error', 'rfr__max...</td>\n",
              "      <td>0.797039</td>\n",
              "      <td>0.800278</td>\n",
              "      <td>0.807640</td>\n",
              "      <td>0.764492</td>\n",
              "      <td>0.828938</td>\n",
              "      <td>0.799677</td>\n",
              "      <td>0.020808</td>\n",
              "      <td>21</td>\n",
              "    </tr>\n",
              "    <tr>\n",
              "      <th>14</th>\n",
              "      <td>1.983097</td>\n",
              "      <td>0.040429</td>\n",
              "      <td>0.080588</td>\n",
              "      <td>0.005652</td>\n",
              "      <td>absolute_error</td>\n",
              "      <td>2</td>\n",
              "      <td>log2</td>\n",
              "      <td>500</td>\n",
              "      <td>{'rfr__criterion': 'absolute_error', 'rfr__max...</td>\n",
              "      <td>0.791355</td>\n",
              "      <td>0.792784</td>\n",
              "      <td>0.800426</td>\n",
              "      <td>0.759582</td>\n",
              "      <td>0.823121</td>\n",
              "      <td>0.793454</td>\n",
              "      <td>0.020401</td>\n",
              "      <td>23</td>\n",
              "    </tr>\n",
              "    <tr>\n",
              "      <th>12</th>\n",
              "      <td>2.015719</td>\n",
              "      <td>0.057631</td>\n",
              "      <td>0.085114</td>\n",
              "      <td>0.008373</td>\n",
              "      <td>absolute_error</td>\n",
              "      <td>2</td>\n",
              "      <td>sqrt</td>\n",
              "      <td>500</td>\n",
              "      <td>{'rfr__criterion': 'absolute_error', 'rfr__max...</td>\n",
              "      <td>0.791355</td>\n",
              "      <td>0.792784</td>\n",
              "      <td>0.800426</td>\n",
              "      <td>0.759582</td>\n",
              "      <td>0.823121</td>\n",
              "      <td>0.793454</td>\n",
              "      <td>0.020401</td>\n",
              "      <td>23</td>\n",
              "    </tr>\n",
              "    <tr>\n",
              "      <th>32</th>\n",
              "      <td>1.184402</td>\n",
              "      <td>0.023408</td>\n",
              "      <td>0.087720</td>\n",
              "      <td>0.004071</td>\n",
              "      <td>poisson</td>\n",
              "      <td>5</td>\n",
              "      <td>sqrt</td>\n",
              "      <td>500</td>\n",
              "      <td>{'rfr__criterion': 'poisson', 'rfr__max_depth'...</td>\n",
              "      <td>0.273425</td>\n",
              "      <td>0.192334</td>\n",
              "      <td>0.205255</td>\n",
              "      <td>0.277319</td>\n",
              "      <td>0.314521</td>\n",
              "      <td>0.252571</td>\n",
              "      <td>0.046373</td>\n",
              "      <td>25</td>\n",
              "    </tr>\n",
              "    <tr>\n",
              "      <th>34</th>\n",
              "      <td>1.187351</td>\n",
              "      <td>0.015752</td>\n",
              "      <td>0.086082</td>\n",
              "      <td>0.004293</td>\n",
              "      <td>poisson</td>\n",
              "      <td>5</td>\n",
              "      <td>log2</td>\n",
              "      <td>500</td>\n",
              "      <td>{'rfr__criterion': 'poisson', 'rfr__max_depth'...</td>\n",
              "      <td>0.273425</td>\n",
              "      <td>0.192334</td>\n",
              "      <td>0.205255</td>\n",
              "      <td>0.277319</td>\n",
              "      <td>0.314521</td>\n",
              "      <td>0.252571</td>\n",
              "      <td>0.046373</td>\n",
              "      <td>25</td>\n",
              "    </tr>\n",
              "    <tr>\n",
              "      <th>33</th>\n",
              "      <td>2.340045</td>\n",
              "      <td>0.032726</td>\n",
              "      <td>0.161624</td>\n",
              "      <td>0.010465</td>\n",
              "      <td>poisson</td>\n",
              "      <td>5</td>\n",
              "      <td>sqrt</td>\n",
              "      <td>1000</td>\n",
              "      <td>{'rfr__criterion': 'poisson', 'rfr__max_depth'...</td>\n",
              "      <td>0.273823</td>\n",
              "      <td>0.192275</td>\n",
              "      <td>0.203111</td>\n",
              "      <td>0.277595</td>\n",
              "      <td>0.314854</td>\n",
              "      <td>0.252332</td>\n",
              "      <td>0.046986</td>\n",
              "      <td>27</td>\n",
              "    </tr>\n",
              "    <tr>\n",
              "      <th>35</th>\n",
              "      <td>2.267148</td>\n",
              "      <td>0.155319</td>\n",
              "      <td>0.145529</td>\n",
              "      <td>0.025180</td>\n",
              "      <td>poisson</td>\n",
              "      <td>5</td>\n",
              "      <td>log2</td>\n",
              "      <td>1000</td>\n",
              "      <td>{'rfr__criterion': 'poisson', 'rfr__max_depth'...</td>\n",
              "      <td>0.273823</td>\n",
              "      <td>0.192275</td>\n",
              "      <td>0.203111</td>\n",
              "      <td>0.277595</td>\n",
              "      <td>0.314854</td>\n",
              "      <td>0.252332</td>\n",
              "      <td>0.046986</td>\n",
              "      <td>27</td>\n",
              "    </tr>\n",
              "    <tr>\n",
              "      <th>29</th>\n",
              "      <td>2.179642</td>\n",
              "      <td>0.028244</td>\n",
              "      <td>0.153459</td>\n",
              "      <td>0.005713</td>\n",
              "      <td>poisson</td>\n",
              "      <td>3</td>\n",
              "      <td>sqrt</td>\n",
              "      <td>1000</td>\n",
              "      <td>{'rfr__criterion': 'poisson', 'rfr__max_depth'...</td>\n",
              "      <td>0.197646</td>\n",
              "      <td>0.123624</td>\n",
              "      <td>0.143453</td>\n",
              "      <td>0.201246</td>\n",
              "      <td>0.227723</td>\n",
              "      <td>0.178738</td>\n",
              "      <td>0.038849</td>\n",
              "      <td>29</td>\n",
              "    </tr>\n",
              "    <tr>\n",
              "      <th>31</th>\n",
              "      <td>2.658515</td>\n",
              "      <td>0.488973</td>\n",
              "      <td>0.174412</td>\n",
              "      <td>0.039784</td>\n",
              "      <td>poisson</td>\n",
              "      <td>3</td>\n",
              "      <td>log2</td>\n",
              "      <td>1000</td>\n",
              "      <td>{'rfr__criterion': 'poisson', 'rfr__max_depth'...</td>\n",
              "      <td>0.197646</td>\n",
              "      <td>0.123624</td>\n",
              "      <td>0.143453</td>\n",
              "      <td>0.201246</td>\n",
              "      <td>0.227723</td>\n",
              "      <td>0.178738</td>\n",
              "      <td>0.038849</td>\n",
              "      <td>29</td>\n",
              "    </tr>\n",
              "    <tr>\n",
              "      <th>28</th>\n",
              "      <td>1.107840</td>\n",
              "      <td>0.009204</td>\n",
              "      <td>0.083406</td>\n",
              "      <td>0.002386</td>\n",
              "      <td>poisson</td>\n",
              "      <td>3</td>\n",
              "      <td>sqrt</td>\n",
              "      <td>500</td>\n",
              "      <td>{'rfr__criterion': 'poisson', 'rfr__max_depth'...</td>\n",
              "      <td>0.196374</td>\n",
              "      <td>0.124453</td>\n",
              "      <td>0.143534</td>\n",
              "      <td>0.201026</td>\n",
              "      <td>0.228149</td>\n",
              "      <td>0.178707</td>\n",
              "      <td>0.038563</td>\n",
              "      <td>31</td>\n",
              "    </tr>\n",
              "    <tr>\n",
              "      <th>30</th>\n",
              "      <td>1.093205</td>\n",
              "      <td>0.014428</td>\n",
              "      <td>0.083350</td>\n",
              "      <td>0.005338</td>\n",
              "      <td>poisson</td>\n",
              "      <td>3</td>\n",
              "      <td>log2</td>\n",
              "      <td>500</td>\n",
              "      <td>{'rfr__criterion': 'poisson', 'rfr__max_depth'...</td>\n",
              "      <td>0.196374</td>\n",
              "      <td>0.124453</td>\n",
              "      <td>0.143534</td>\n",
              "      <td>0.201026</td>\n",
              "      <td>0.228149</td>\n",
              "      <td>0.178707</td>\n",
              "      <td>0.038563</td>\n",
              "      <td>31</td>\n",
              "    </tr>\n",
              "    <tr>\n",
              "      <th>24</th>\n",
              "      <td>1.009697</td>\n",
              "      <td>0.021302</td>\n",
              "      <td>0.078941</td>\n",
              "      <td>0.005094</td>\n",
              "      <td>poisson</td>\n",
              "      <td>2</td>\n",
              "      <td>sqrt</td>\n",
              "      <td>500</td>\n",
              "      <td>{'rfr__criterion': 'poisson', 'rfr__max_depth'...</td>\n",
              "      <td>0.155438</td>\n",
              "      <td>0.096876</td>\n",
              "      <td>0.125602</td>\n",
              "      <td>0.163671</td>\n",
              "      <td>0.171760</td>\n",
              "      <td>0.142670</td>\n",
              "      <td>0.027708</td>\n",
              "      <td>33</td>\n",
              "    </tr>\n",
              "    <tr>\n",
              "      <th>26</th>\n",
              "      <td>1.016706</td>\n",
              "      <td>0.008245</td>\n",
              "      <td>0.078318</td>\n",
              "      <td>0.003431</td>\n",
              "      <td>poisson</td>\n",
              "      <td>2</td>\n",
              "      <td>log2</td>\n",
              "      <td>500</td>\n",
              "      <td>{'rfr__criterion': 'poisson', 'rfr__max_depth'...</td>\n",
              "      <td>0.155438</td>\n",
              "      <td>0.096876</td>\n",
              "      <td>0.125602</td>\n",
              "      <td>0.163671</td>\n",
              "      <td>0.171760</td>\n",
              "      <td>0.142670</td>\n",
              "      <td>0.027708</td>\n",
              "      <td>33</td>\n",
              "    </tr>\n",
              "    <tr>\n",
              "      <th>25</th>\n",
              "      <td>2.025297</td>\n",
              "      <td>0.023039</td>\n",
              "      <td>0.161007</td>\n",
              "      <td>0.021991</td>\n",
              "      <td>poisson</td>\n",
              "      <td>2</td>\n",
              "      <td>sqrt</td>\n",
              "      <td>1000</td>\n",
              "      <td>{'rfr__criterion': 'poisson', 'rfr__max_depth'...</td>\n",
              "      <td>0.155844</td>\n",
              "      <td>0.095796</td>\n",
              "      <td>0.125094</td>\n",
              "      <td>0.163781</td>\n",
              "      <td>0.170411</td>\n",
              "      <td>0.142185</td>\n",
              "      <td>0.027906</td>\n",
              "      <td>35</td>\n",
              "    </tr>\n",
              "    <tr>\n",
              "      <th>27</th>\n",
              "      <td>2.052863</td>\n",
              "      <td>0.032954</td>\n",
              "      <td>0.143026</td>\n",
              "      <td>0.003235</td>\n",
              "      <td>poisson</td>\n",
              "      <td>2</td>\n",
              "      <td>log2</td>\n",
              "      <td>1000</td>\n",
              "      <td>{'rfr__criterion': 'poisson', 'rfr__max_depth'...</td>\n",
              "      <td>0.155844</td>\n",
              "      <td>0.095796</td>\n",
              "      <td>0.125094</td>\n",
              "      <td>0.163781</td>\n",
              "      <td>0.170411</td>\n",
              "      <td>0.142185</td>\n",
              "      <td>0.027906</td>\n",
              "      <td>35</td>\n",
              "    </tr>\n",
              "  </tbody>\n",
              "</table>\n",
              "</div>\n",
              "      <button class=\"colab-df-convert\" onclick=\"convertToInteractive('df-771af9df-ac28-4d01-95b0-b3218ed3c07f')\"\n",
              "              title=\"Convert this dataframe to an interactive table.\"\n",
              "              style=\"display:none;\">\n",
              "        \n",
              "  <svg xmlns=\"http://www.w3.org/2000/svg\" height=\"24px\"viewBox=\"0 0 24 24\"\n",
              "       width=\"24px\">\n",
              "    <path d=\"M0 0h24v24H0V0z\" fill=\"none\"/>\n",
              "    <path d=\"M18.56 5.44l.94 2.06.94-2.06 2.06-.94-2.06-.94-.94-2.06-.94 2.06-2.06.94zm-11 1L8.5 8.5l.94-2.06 2.06-.94-2.06-.94L8.5 2.5l-.94 2.06-2.06.94zm10 10l.94 2.06.94-2.06 2.06-.94-2.06-.94-.94-2.06-.94 2.06-2.06.94z\"/><path d=\"M17.41 7.96l-1.37-1.37c-.4-.4-.92-.59-1.43-.59-.52 0-1.04.2-1.43.59L10.3 9.45l-7.72 7.72c-.78.78-.78 2.05 0 2.83L4 21.41c.39.39.9.59 1.41.59.51 0 1.02-.2 1.41-.59l7.78-7.78 2.81-2.81c.8-.78.8-2.07 0-2.86zM5.41 20L4 18.59l7.72-7.72 1.47 1.35L5.41 20z\"/>\n",
              "  </svg>\n",
              "      </button>\n",
              "      \n",
              "  <style>\n",
              "    .colab-df-container {\n",
              "      display:flex;\n",
              "      flex-wrap:wrap;\n",
              "      gap: 12px;\n",
              "    }\n",
              "\n",
              "    .colab-df-convert {\n",
              "      background-color: #E8F0FE;\n",
              "      border: none;\n",
              "      border-radius: 50%;\n",
              "      cursor: pointer;\n",
              "      display: none;\n",
              "      fill: #1967D2;\n",
              "      height: 32px;\n",
              "      padding: 0 0 0 0;\n",
              "      width: 32px;\n",
              "    }\n",
              "\n",
              "    .colab-df-convert:hover {\n",
              "      background-color: #E2EBFA;\n",
              "      box-shadow: 0px 1px 2px rgba(60, 64, 67, 0.3), 0px 1px 3px 1px rgba(60, 64, 67, 0.15);\n",
              "      fill: #174EA6;\n",
              "    }\n",
              "\n",
              "    [theme=dark] .colab-df-convert {\n",
              "      background-color: #3B4455;\n",
              "      fill: #D2E3FC;\n",
              "    }\n",
              "\n",
              "    [theme=dark] .colab-df-convert:hover {\n",
              "      background-color: #434B5C;\n",
              "      box-shadow: 0px 1px 3px 1px rgba(0, 0, 0, 0.15);\n",
              "      filter: drop-shadow(0px 1px 2px rgba(0, 0, 0, 0.3));\n",
              "      fill: #FFFFFF;\n",
              "    }\n",
              "  </style>\n",
              "\n",
              "      <script>\n",
              "        const buttonEl =\n",
              "          document.querySelector('#df-771af9df-ac28-4d01-95b0-b3218ed3c07f button.colab-df-convert');\n",
              "        buttonEl.style.display =\n",
              "          google.colab.kernel.accessAllowed ? 'block' : 'none';\n",
              "\n",
              "        async function convertToInteractive(key) {\n",
              "          const element = document.querySelector('#df-771af9df-ac28-4d01-95b0-b3218ed3c07f');\n",
              "          const dataTable =\n",
              "            await google.colab.kernel.invokeFunction('convertToInteractive',\n",
              "                                                     [key], {});\n",
              "          if (!dataTable) return;\n",
              "\n",
              "          const docLinkHtml = 'Like what you see? Visit the ' +\n",
              "            '<a target=\"_blank\" href=https://colab.research.google.com/notebooks/data_table.ipynb>data table notebook</a>'\n",
              "            + ' to learn more about interactive tables.';\n",
              "          element.innerHTML = '';\n",
              "          dataTable['output_type'] = 'display_data';\n",
              "          await google.colab.output.renderOutput(dataTable, element);\n",
              "          const docLink = document.createElement('div');\n",
              "          docLink.innerHTML = docLinkHtml;\n",
              "          element.appendChild(docLink);\n",
              "        }\n",
              "      </script>\n",
              "    </div>\n",
              "  </div>\n",
              "  "
            ]
          },
          "metadata": {},
          "execution_count": 33
        }
      ],
      "source": [
        "rfr_results = pd.DataFrame(grid_rfr_edu.cv_results_)\n",
        "rfr_results.sort_values(by=[\"rank_test_score\"])"
      ]
    },
    {
      "cell_type": "code",
      "execution_count": 26,
      "metadata": {
        "id": "05T_N9aQc8bD"
      },
      "outputs": [],
      "source": [
        "from sklearn.metrics import r2_score, mean_absolute_error, mean_squared_error"
      ]
    },
    {
      "cell_type": "code",
      "execution_count": 34,
      "metadata": {
        "colab": {
          "base_uri": "https://localhost:8080/"
        },
        "id": "BCFDmgr8c8bE",
        "outputId": "6f3b445e-0201-4835-f07a-1701262ae887"
      },
      "outputs": [
        {
          "output_type": "stream",
          "name": "stdout",
          "text": [
            "\n",
            "Métricas de treino:\n",
            "\n",
            "R^2: 0.99\n",
            "MAE: 1.06\n",
            "RMSE: 1.56\n",
            "\n",
            "Métricas de teste:\n",
            "\n",
            "R^2: 0.96\n",
            "MAE: 1.40\n",
            "RMSE: 2.77\n"
          ]
        }
      ],
      "source": [
        "# Predições de treino\n",
        "y_pred_train = grid_rfr_edu.predict(X_train)\n",
        "\n",
        "print(\"\\nMétricas de treino:\\n\")\n",
        "print(f\"R^2: {r2_score(y_train, y_pred_train):.2f}\")\n",
        "print(f\"MAE: {mean_absolute_error(y_train, y_pred_train):.2f}\")\n",
        "print(f\"RMSE: {np.sqrt(mean_squared_error(y_train, y_pred_train)):.2f}\")\n",
        "\n",
        "# Predições de teste\n",
        "y_pred_test = grid_rfr_edu.predict(X_test)\n",
        "\n",
        "print(\"\\nMétricas de teste:\\n\")\n",
        "print(f\"R^2: {r2_score(y_test, y_pred_test):.2f}\")\n",
        "print(f\"MAE: {mean_absolute_error(y_test, y_pred_test):.2f}\")\n",
        "print(f\"RMSE: {np.sqrt(mean_squared_error(y_test, y_pred_test)):.2f}\") "
      ]
    },
    {
      "cell_type": "code",
      "execution_count": 35,
      "metadata": {
        "id": "4jYoKqiqc8bF"
      },
      "outputs": [],
      "source": [
        "import pickle"
      ]
    },
    {
      "cell_type": "code",
      "execution_count": 36,
      "metadata": {
        "id": "bw9XnvX5c8bG"
      },
      "outputs": [],
      "source": [
        "with open(\"grid_rfr_edu.pkl\", \"wb\") as f:\n",
        "    pickle.dump(grid_rfr_edu, f)"
      ]
    },
    {
      "cell_type": "code",
      "execution_count": null,
      "metadata": {
        "id": "Q6iGYok8c8bG"
      },
      "outputs": [],
      "source": [
        "with open(\"grid_rfr_edu.pkl\", \"rb\") as f:\n",
        "    \n",
        "    grid_rfr_edu = pickle.load(f)"
      ]
    },
    {
      "cell_type": "code",
      "source": [
        "plt.figure(figsize=(30,8))\n",
        "x_ax = range(len(y_test))\n",
        "plt.plot(x_ax, y_test, label=\"Notas reais\")\n",
        "plt.plot(x_ax, y_pred_test, label=\"Notas preditivas\")\n",
        "plt.title(\"Comparação das notas reais e notas preditivas\")\n",
        "plt.legend()\n",
        "plt.show();"
      ],
      "metadata": {
        "colab": {
          "base_uri": "https://localhost:8080/",
          "height": 499
        },
        "id": "2oJXcdrss20l",
        "outputId": "62651afa-0d03-40cf-9a09-cfae67335ff8"
      },
      "execution_count": 38,
      "outputs": [
        {
          "output_type": "display_data",
          "data": {
            "text/plain": [
              "<Figure size 2160x576 with 1 Axes>"
            ],
            "image/png": "[encoded data removed]"
          },
          "metadata": {
            "needs_background": "light"
          }
        }
      ]
    },
    {
      "cell_type": "markdown",
      "metadata": {
        "id": "ykb1AUy0QFdk"
      },
      "source": [
        "**Vamos criar uma tabela com a porcentagem de acertos para cada dado**"
      ]
    },
    {
      "cell_type": "code",
      "execution_count": 39,
      "metadata": {
        "execution": {
          "iopub.execute_input": "2022-07-05T01:07:40.588922Z",
          "iopub.status.busy": "2022-07-05T01:07:40.588438Z",
          "iopub.status.idle": "2022-07-05T01:07:40.596087Z",
          "shell.execute_reply": "2022-07-05T01:07:40.594620Z",
          "shell.execute_reply.started": "2022-07-05T01:07:40.588882Z"
        },
        "id": "4i_vfUd5io_O"
      },
      "outputs": [],
      "source": [
        "tabela_rfr = pd.DataFrame()"
      ]
    },
    {
      "cell_type": "code",
      "execution_count": 40,
      "metadata": {
        "execution": {
          "iopub.execute_input": "2022-07-05T01:08:00.638005Z",
          "iopub.status.busy": "2022-07-05T01:08:00.637552Z",
          "iopub.status.idle": "2022-07-05T01:08:00.646545Z",
          "shell.execute_reply": "2022-07-05T01:08:00.645413Z",
          "shell.execute_reply.started": "2022-07-05T01:08:00.637972Z"
        },
        "id": "SJvbCHQmio_P"
      },
      "outputs": [],
      "source": [
        "tabela_rfr[\"valores reais\"] = y_test"
      ]
    },
    {
      "cell_type": "code",
      "execution_count": 41,
      "metadata": {
        "execution": {
          "iopub.execute_input": "2022-07-05T01:08:27.467412Z",
          "iopub.status.busy": "2022-07-05T01:08:27.466894Z",
          "iopub.status.idle": "2022-07-05T01:08:27.474561Z",
          "shell.execute_reply": "2022-07-05T01:08:27.473152Z",
          "shell.execute_reply.started": "2022-07-05T01:08:27.467371Z"
        },
        "id": "tibVrpzsio_P"
      },
      "outputs": [],
      "source": [
        "tabela_rfr[\"valores preditos\"] = y_pred_test"
      ]
    },
    {
      "cell_type": "code",
      "execution_count": 42,
      "metadata": {
        "colab": {
          "base_uri": "https://localhost:8080/",
          "height": 424
        },
        "execution": {
          "iopub.execute_input": "2022-07-05T01:08:31.767890Z",
          "iopub.status.busy": "2022-07-05T01:08:31.767415Z",
          "iopub.status.idle": "2022-07-05T01:08:31.785781Z",
          "shell.execute_reply": "2022-07-05T01:08:31.784547Z",
          "shell.execute_reply.started": "2022-07-05T01:08:31.767854Z"
        },
        "id": "RNmtStaHio_Q",
        "outputId": "0519e41e-7731-42ba-bbde-22a0e752c1e2"
      },
      "outputs": [
        {
          "output_type": "execute_result",
          "data": {
            "text/plain": [
              "     valores reais  valores preditos\n",
              "521      87.000000         84.760470\n",
              "737      64.000000         64.386626\n",
              "740      75.000000         75.361089\n",
              "660      74.666667         73.706933\n",
              "411      81.666667         81.348992\n",
              "..             ...               ...\n",
              "408      55.000000         55.677309\n",
              "332      57.000000         58.054657\n",
              "208      77.000000         76.201200\n",
              "613      72.000000         72.805170\n",
              "78       69.000000         70.500444\n",
              "\n",
              "[200 rows x 2 columns]"
            ],
            "text/html": [
              "\n",
              "  <div id=\"df-831e650c-8aaf-47ef-ba05-b640b10e9ae1\">\n",
              "    <div class=\"colab-df-container\">\n",
              "      <div>\n",
              "<style scoped>\n",
              "    .dataframe tbody tr th:only-of-type {\n",
              "        vertical-align: middle;\n",
              "    }\n",
              "\n",
              "    .dataframe tbody tr th {\n",
              "        vertical-align: top;\n",
              "    }\n",
              "\n",
              "    .dataframe thead th {\n",
              "        text-align: right;\n",
              "    }\n",
              "</style>\n",
              "<table border=\"1\" class=\"dataframe\">\n",
              "  <thead>\n",
              "    <tr style=\"text-align: right;\">\n",
              "      <th></th>\n",
              "      <th>valores reais</th>\n",
              "      <th>valores preditos</th>\n",
              "    </tr>\n",
              "  </thead>\n",
              "  <tbody>\n",
              "    <tr>\n",
              "      <th>521</th>\n",
              "      <td>87.000000</td>\n",
              "      <td>84.760470</td>\n",
              "    </tr>\n",
              "    <tr>\n",
              "      <th>737</th>\n",
              "      <td>64.000000</td>\n",
              "      <td>64.386626</td>\n",
              "    </tr>\n",
              "    <tr>\n",
              "      <th>740</th>\n",
              "      <td>75.000000</td>\n",
              "      <td>75.361089</td>\n",
              "    </tr>\n",
              "    <tr>\n",
              "      <th>660</th>\n",
              "      <td>74.666667</td>\n",
              "      <td>73.706933</td>\n",
              "    </tr>\n",
              "    <tr>\n",
              "      <th>411</th>\n",
              "      <td>81.666667</td>\n",
              "      <td>81.348992</td>\n",
              "    </tr>\n",
              "    <tr>\n",
              "      <th>...</th>\n",
              "      <td>...</td>\n",
              "      <td>...</td>\n",
              "    </tr>\n",
              "    <tr>\n",
              "      <th>408</th>\n",
              "      <td>55.000000</td>\n",
              "      <td>55.677309</td>\n",
              "    </tr>\n",
              "    <tr>\n",
              "      <th>332</th>\n",
              "      <td>57.000000</td>\n",
              "      <td>58.054657</td>\n",
              "    </tr>\n",
              "    <tr>\n",
              "      <th>208</th>\n",
              "      <td>77.000000</td>\n",
              "      <td>76.201200</td>\n",
              "    </tr>\n",
              "    <tr>\n",
              "      <th>613</th>\n",
              "      <td>72.000000</td>\n",
              "      <td>72.805170</td>\n",
              "    </tr>\n",
              "    <tr>\n",
              "      <th>78</th>\n",
              "      <td>69.000000</td>\n",
              "      <td>70.500444</td>\n",
              "    </tr>\n",
              "  </tbody>\n",
              "</table>\n",
              "<p>200 rows × 2 columns</p>\n",
              "</div>\n",
              "      <button class=\"colab-df-convert\" onclick=\"convertToInteractive('df-831e650c-8aaf-47ef-ba05-b640b10e9ae1')\"\n",
              "              title=\"Convert this dataframe to an interactive table.\"\n",
              "              style=\"display:none;\">\n",
              "        \n",
              "  <svg xmlns=\"http://www.w3.org/2000/svg\" height=\"24px\"viewBox=\"0 0 24 24\"\n",
              "       width=\"24px\">\n",
              "    <path d=\"M0 0h24v24H0V0z\" fill=\"none\"/>\n",
              "    <path d=\"M18.56 5.44l.94 2.06.94-2.06 2.06-.94-2.06-.94-.94-2.06-.94 2.06-2.06.94zm-11 1L8.5 8.5l.94-2.06 2.06-.94-2.06-.94L8.5 2.5l-.94 2.06-2.06.94zm10 10l.94 2.06.94-2.06 2.06-.94-2.06-.94-.94-2.06-.94 2.06-2.06.94z\"/><path d=\"M17.41 7.96l-1.37-1.37c-.4-.4-.92-.59-1.43-.59-.52 0-1.04.2-1.43.59L10.3 9.45l-7.72 7.72c-.78.78-.78 2.05 0 2.83L4 21.41c.39.39.9.59 1.41.59.51 0 1.02-.2 1.41-.59l7.78-7.78 2.81-2.81c.8-.78.8-2.07 0-2.86zM5.41 20L4 18.59l7.72-7.72 1.47 1.35L5.41 20z\"/>\n",
              "  </svg>\n",
              "      </button>\n",
              "      \n",
              "  <style>\n",
              "    .colab-df-container {\n",
              "      display:flex;\n",
              "      flex-wrap:wrap;\n",
              "      gap: 12px;\n",
              "    }\n",
              "\n",
              "    .colab-df-convert {\n",
              "      background-color: #E8F0FE;\n",
              "      border: none;\n",
              "      border-radius: 50%;\n",
              "      cursor: pointer;\n",
              "      display: none;\n",
              "      fill: #1967D2;\n",
              "      height: 32px;\n",
              "      padding: 0 0 0 0;\n",
              "      width: 32px;\n",
              "    }\n",
              "\n",
              "    .colab-df-convert:hover {\n",
              "      background-color: #E2EBFA;\n",
              "      box-shadow: 0px 1px 2px rgba(60, 64, 67, 0.3), 0px 1px 3px 1px rgba(60, 64, 67, 0.15);\n",
              "      fill: #174EA6;\n",
              "    }\n",
              "\n",
              "    [theme=dark] .colab-df-convert {\n",
              "      background-color: #3B4455;\n",
              "      fill: #D2E3FC;\n",
              "    }\n",
              "\n",
              "    [theme=dark] .colab-df-convert:hover {\n",
              "      background-color: #434B5C;\n",
              "      box-shadow: 0px 1px 3px 1px rgba(0, 0, 0, 0.15);\n",
              "      filter: drop-shadow(0px 1px 2px rgba(0, 0, 0, 0.3));\n",
              "      fill: #FFFFFF;\n",
              "    }\n",
              "  </style>\n",
              "\n",
              "      <script>\n",
              "        const buttonEl =\n",
              "          document.querySelector('#df-831e650c-8aaf-47ef-ba05-b640b10e9ae1 button.colab-df-convert');\n",
              "        buttonEl.style.display =\n",
              "          google.colab.kernel.accessAllowed ? 'block' : 'none';\n",
              "\n",
              "        async function convertToInteractive(key) {\n",
              "          const element = document.querySelector('#df-831e650c-8aaf-47ef-ba05-b640b10e9ae1');\n",
              "          const dataTable =\n",
              "            await google.colab.kernel.invokeFunction('convertToInteractive',\n",
              "                                                     [key], {});\n",
              "          if (!dataTable) return;\n",
              "\n",
              "          const docLinkHtml = 'Like what you see? Visit the ' +\n",
              "            '<a target=\"_blank\" href=https://colab.research.google.com/notebooks/data_table.ipynb>data table notebook</a>'\n",
              "            + ' to learn more about interactive tables.';\n",
              "          element.innerHTML = '';\n",
              "          dataTable['output_type'] = 'display_data';\n",
              "          await google.colab.output.renderOutput(dataTable, element);\n",
              "          const docLink = document.createElement('div');\n",
              "          docLink.innerHTML = docLinkHtml;\n",
              "          element.appendChild(docLink);\n",
              "        }\n",
              "      </script>\n",
              "    </div>\n",
              "  </div>\n",
              "  "
            ]
          },
          "metadata": {},
          "execution_count": 42
        }
      ],
      "source": [
        "tabela_rfr"
      ]
    },
    {
      "cell_type": "markdown",
      "metadata": {
        "id": "pqJXRWe04rwd"
      },
      "source": [
        "**Vamos criar uma tabela com a porcentagem de acertos para cada dado**"
      ]
    },
    {
      "cell_type": "code",
      "execution_count": 43,
      "metadata": {
        "id": "JNL4Doike4PW"
      },
      "outputs": [],
      "source": [
        "tabela_rfr = pd.DataFrame()"
      ]
    },
    {
      "cell_type": "code",
      "execution_count": 44,
      "metadata": {
        "id": "nBArZVvAe4FO"
      },
      "outputs": [],
      "source": [
        "tabela_rfr[\"valores reais\"] = y_test"
      ]
    },
    {
      "cell_type": "code",
      "execution_count": 45,
      "metadata": {
        "id": "Hd55UIdde6yu"
      },
      "outputs": [],
      "source": [
        "tabela_rfr[\"valores preditos\"] = y_pred_test"
      ]
    },
    {
      "cell_type": "code",
      "execution_count": 46,
      "metadata": {
        "id": "egBGyryvgFGK"
      },
      "outputs": [],
      "source": [
        "tabela_rfr[\"porcentagem de acerto %\"]= (y_test/y_pred_test)*100"
      ]
    },
    {
      "cell_type": "code",
      "execution_count": 47,
      "metadata": {
        "id": "hgwAxLyDjE8X"
      },
      "outputs": [],
      "source": [
        "lista_num = []\n",
        "for c in tabela_rfr[\"porcentagem de acerto %\"]:\n",
        "  if c > 100:\n",
        "    num = abs(c - 200)\n",
        "    lista_num.append(num)\n",
        "  else:\n",
        "    num = c\n",
        "    lista_num.append(num)\n",
        "  \n",
        "\n",
        "tabela_rfr[\"porcentagem de acerto %\"]= lista_num"
      ]
    },
    {
      "cell_type": "code",
      "execution_count": 48,
      "metadata": {
        "colab": {
          "base_uri": "https://localhost:8080/",
          "height": 424
        },
        "id": "hlwvK8pne83-",
        "outputId": "68ecbe98-239d-4c9d-d27a-73e56bf454e7"
      },
      "outputs": [
        {
          "output_type": "execute_result",
          "data": {
            "text/plain": [
              "     valores reais  valores preditos  porcentagem de acerto %\n",
              "521      87.000000         84.760470                97.357814\n",
              "737      64.000000         64.386626                99.399524\n",
              "740      75.000000         75.361089                99.520855\n",
              "660      74.666667         73.706933                98.697906\n",
              "411      81.666667         81.348992                99.609492\n",
              "..             ...               ...                      ...\n",
              "408      55.000000         55.677309                98.783510\n",
              "332      57.000000         58.054657                98.183337\n",
              "208      77.000000         76.201200                98.951723\n",
              "613      72.000000         72.805170                98.894076\n",
              "78       69.000000         70.500444                97.871724\n",
              "\n",
              "[200 rows x 3 columns]"
            ],
            "text/html": [
              "\n",
              "  <div id=\"df-ea2f62f8-c959-4967-ba3a-617b98a6c886\">\n",
              "    <div class=\"colab-df-container\">\n",
              "      <div>\n",
              "<style scoped>\n",
              "    .dataframe tbody tr th:only-of-type {\n",
              "        vertical-align: middle;\n",
              "    }\n",
              "\n",
              "    .dataframe tbody tr th {\n",
              "        vertical-align: top;\n",
              "    }\n",
              "\n",
              "    .dataframe thead th {\n",
              "        text-align: right;\n",
              "    }\n",
              "</style>\n",
              "<table border=\"1\" class=\"dataframe\">\n",
              "  <thead>\n",
              "    <tr style=\"text-align: right;\">\n",
              "      <th></th>\n",
              "      <th>valores reais</th>\n",
              "      <th>valores preditos</th>\n",
              "      <th>porcentagem de acerto %</th>\n",
              "    </tr>\n",
              "  </thead>\n",
              "  <tbody>\n",
              "    <tr>\n",
              "      <th>521</th>\n",
              "      <td>87.000000</td>\n",
              "      <td>84.760470</td>\n",
              "      <td>97.357814</td>\n",
              "    </tr>\n",
              "    <tr>\n",
              "      <th>737</th>\n",
              "      <td>64.000000</td>\n",
              "      <td>64.386626</td>\n",
              "      <td>99.399524</td>\n",
              "    </tr>\n",
              "    <tr>\n",
              "      <th>740</th>\n",
              "      <td>75.000000</td>\n",
              "      <td>75.361089</td>\n",
              "      <td>99.520855</td>\n",
              "    </tr>\n",
              "    <tr>\n",
              "      <th>660</th>\n",
              "      <td>74.666667</td>\n",
              "      <td>73.706933</td>\n",
              "      <td>98.697906</td>\n",
              "    </tr>\n",
              "    <tr>\n",
              "      <th>411</th>\n",
              "      <td>81.666667</td>\n",
              "      <td>81.348992</td>\n",
              "      <td>99.609492</td>\n",
              "    </tr>\n",
              "    <tr>\n",
              "      <th>...</th>\n",
              "      <td>...</td>\n",
              "      <td>...</td>\n",
              "      <td>...</td>\n",
              "    </tr>\n",
              "    <tr>\n",
              "      <th>408</th>\n",
              "      <td>55.000000</td>\n",
              "      <td>55.677309</td>\n",
              "      <td>98.783510</td>\n",
              "    </tr>\n",
              "    <tr>\n",
              "      <th>332</th>\n",
              "      <td>57.000000</td>\n",
              "      <td>58.054657</td>\n",
              "      <td>98.183337</td>\n",
              "    </tr>\n",
              "    <tr>\n",
              "      <th>208</th>\n",
              "      <td>77.000000</td>\n",
              "      <td>76.201200</td>\n",
              "      <td>98.951723</td>\n",
              "    </tr>\n",
              "    <tr>\n",
              "      <th>613</th>\n",
              "      <td>72.000000</td>\n",
              "      <td>72.805170</td>\n",
              "      <td>98.894076</td>\n",
              "    </tr>\n",
              "    <tr>\n",
              "      <th>78</th>\n",
              "      <td>69.000000</td>\n",
              "      <td>70.500444</td>\n",
              "      <td>97.871724</td>\n",
              "    </tr>\n",
              "  </tbody>\n",
              "</table>\n",
              "<p>200 rows × 3 columns</p>\n",
              "</div>\n",
              "      <button class=\"colab-df-convert\" onclick=\"convertToInteractive('df-ea2f62f8-c959-4967-ba3a-617b98a6c886')\"\n",
              "              title=\"Convert this dataframe to an interactive table.\"\n",
              "              style=\"display:none;\">\n",
              "        \n",
              "  <svg xmlns=\"http://www.w3.org/2000/svg\" height=\"24px\"viewBox=\"0 0 24 24\"\n",
              "       width=\"24px\">\n",
              "    <path d=\"M0 0h24v24H0V0z\" fill=\"none\"/>\n",
              "    <path d=\"M18.56 5.44l.94 2.06.94-2.06 2.06-.94-2.06-.94-.94-2.06-.94 2.06-2.06.94zm-11 1L8.5 8.5l.94-2.06 2.06-.94-2.06-.94L8.5 2.5l-.94 2.06-2.06.94zm10 10l.94 2.06.94-2.06 2.06-.94-2.06-.94-.94-2.06-.94 2.06-2.06.94z\"/><path d=\"M17.41 7.96l-1.37-1.37c-.4-.4-.92-.59-1.43-.59-.52 0-1.04.2-1.43.59L10.3 9.45l-7.72 7.72c-.78.78-.78 2.05 0 2.83L4 21.41c.39.39.9.59 1.41.59.51 0 1.02-.2 1.41-.59l7.78-7.78 2.81-2.81c.8-.78.8-2.07 0-2.86zM5.41 20L4 18.59l7.72-7.72 1.47 1.35L5.41 20z\"/>\n",
              "  </svg>\n",
              "      </button>\n",
              "      \n",
              "  <style>\n",
              "    .colab-df-container {\n",
              "      display:flex;\n",
              "      flex-wrap:wrap;\n",
              "      gap: 12px;\n",
              "    }\n",
              "\n",
              "    .colab-df-convert {\n",
              "      background-color: #E8F0FE;\n",
              "      border: none;\n",
              "      border-radius: 50%;\n",
              "      cursor: pointer;\n",
              "      display: none;\n",
              "      fill: #1967D2;\n",
              "      height: 32px;\n",
              "      padding: 0 0 0 0;\n",
              "      width: 32px;\n",
              "    }\n",
              "\n",
              "    .colab-df-convert:hover {\n",
              "      background-color: #E2EBFA;\n",
              "      box-shadow: 0px 1px 2px rgba(60, 64, 67, 0.3), 0px 1px 3px 1px rgba(60, 64, 67, 0.15);\n",
              "      fill: #174EA6;\n",
              "    }\n",
              "\n",
              "    [theme=dark] .colab-df-convert {\n",
              "      background-color: #3B4455;\n",
              "      fill: #D2E3FC;\n",
              "    }\n",
              "\n",
              "    [theme=dark] .colab-df-convert:hover {\n",
              "      background-color: #434B5C;\n",
              "      box-shadow: 0px 1px 3px 1px rgba(0, 0, 0, 0.15);\n",
              "      filter: drop-shadow(0px 1px 2px rgba(0, 0, 0, 0.3));\n",
              "      fill: #FFFFFF;\n",
              "    }\n",
              "  </style>\n",
              "\n",
              "      <script>\n",
              "        const buttonEl =\n",
              "          document.querySelector('#df-ea2f62f8-c959-4967-ba3a-617b98a6c886 button.colab-df-convert');\n",
              "        buttonEl.style.display =\n",
              "          google.colab.kernel.accessAllowed ? 'block' : 'none';\n",
              "\n",
              "        async function convertToInteractive(key) {\n",
              "          const element = document.querySelector('#df-ea2f62f8-c959-4967-ba3a-617b98a6c886');\n",
              "          const dataTable =\n",
              "            await google.colab.kernel.invokeFunction('convertToInteractive',\n",
              "                                                     [key], {});\n",
              "          if (!dataTable) return;\n",
              "\n",
              "          const docLinkHtml = 'Like what you see? Visit the ' +\n",
              "            '<a target=\"_blank\" href=https://colab.research.google.com/notebooks/data_table.ipynb>data table notebook</a>'\n",
              "            + ' to learn more about interactive tables.';\n",
              "          element.innerHTML = '';\n",
              "          dataTable['output_type'] = 'display_data';\n",
              "          await google.colab.output.renderOutput(dataTable, element);\n",
              "          const docLink = document.createElement('div');\n",
              "          docLink.innerHTML = docLinkHtml;\n",
              "          element.appendChild(docLink);\n",
              "        }\n",
              "      </script>\n",
              "    </div>\n",
              "  </div>\n",
              "  "
            ]
          },
          "metadata": {},
          "execution_count": 48
        }
      ],
      "source": [
        "tabela_rfr"
      ]
    },
    {
      "cell_type": "markdown",
      "source": [
        "## **Intervalo de confiança do Random Forest - Vamos simular intervalos para amostras com 30 e 100 dados:**"
      ],
      "metadata": {
        "id": "pEOBNqeHS6k_"
      }
    },
    {
      "cell_type": "code",
      "source": [
        "from sklearn.metrics import accuracy_score\n",
        "from sklearn.model_selection import cross_val_score, KFold\n",
        "from scipy.stats import norm\n",
        "from scipy import stats\n",
        "from scipy.stats import t"
      ],
      "metadata": {
        "id": "2i_C24SYUOJO"
      },
      "execution_count": 49,
      "outputs": []
    },
    {
      "cell_type": "code",
      "source": [
        "df = pd.read_csv(\"StudentsPerformance.csv\")"
      ],
      "metadata": {
        "id": "iLSJkmfw5tFC"
      },
      "execution_count": 126,
      "outputs": []
    },
    {
      "cell_type": "code",
      "source": [
        "curso_notas = df[[\"test preparation course\", \"math score\", \"reading score\", \"writing score\"]]\n",
        "df_notas = df[[\"math score\", \"reading score\", \"writing score\"]]"
      ],
      "metadata": {
        "id": "w6ibLydN54pU"
      },
      "execution_count": 127,
      "outputs": []
    },
    {
      "cell_type": "code",
      "source": [
        "lista_col = []\n",
        "lista_media = []\n",
        "for col in df_notas:\n",
        "    lista_col.append(col)\n",
        "for num in range(len(df_notas)):\n",
        "  media = (df_notas[lista_col[0]].iloc[num] + df_notas[lista_col[1]].iloc[num] + df_notas[lista_col[2]].iloc[num])/3\n",
        "  lista_media.append(media)\n",
        "curso_notas[\"media\"] = lista_media\n",
        "df[\"media\"] = lista_media\n",
        "df.head()"
      ],
      "metadata": {
        "colab": {
          "base_uri": "https://localhost:8080/",
          "height": 206
        },
        "outputId": "bda76c49-a31f-4cd7-ae08-4a63469be525",
        "id": "rLDUFUbK54pV"
      },
      "execution_count": 128,
      "outputs": [
        {
          "output_type": "execute_result",
          "data": {
            "text/plain": [
              "   gender race/ethnicity parental level of education         lunch  \\\n",
              "0  female        group B           bachelor's degree      standard   \n",
              "1  female        group C                some college      standard   \n",
              "2  female        group B             master's degree      standard   \n",
              "3    male        group A          associate's degree  free/reduced   \n",
              "4    male        group C                some college      standard   \n",
              "\n",
              "  test preparation course  math score  reading score  writing score      media  \n",
              "0                    none          72             72             74  72.666667  \n",
              "1               completed          69             90             88  82.333333  \n",
              "2                    none          90             95             93  92.666667  \n",
              "3                    none          47             57             44  49.333333  \n",
              "4                    none          76             78             75  76.333333  "
            ],
            "text/html": [
              "\n",
              "  <div id=\"df-93573465-e436-4b3b-b560-58655208fc1b\">\n",
              "    <div class=\"colab-df-container\">\n",
              "      <div>\n",
              "<style scoped>\n",
              "    .dataframe tbody tr th:only-of-type {\n",
              "        vertical-align: middle;\n",
              "    }\n",
              "\n",
              "    .dataframe tbody tr th {\n",
              "        vertical-align: top;\n",
              "    }\n",
              "\n",
              "    .dataframe thead th {\n",
              "        text-align: right;\n",
              "    }\n",
              "</style>\n",
              "<table border=\"1\" class=\"dataframe\">\n",
              "  <thead>\n",
              "    <tr style=\"text-align: right;\">\n",
              "      <th></th>\n",
              "      <th>gender</th>\n",
              "      <th>race/ethnicity</th>\n",
              "      <th>parental level of education</th>\n",
              "      <th>lunch</th>\n",
              "      <th>test preparation course</th>\n",
              "      <th>math score</th>\n",
              "      <th>reading score</th>\n",
              "      <th>writing score</th>\n",
              "      <th>media</th>\n",
              "    </tr>\n",
              "  </thead>\n",
              "  <tbody>\n",
              "    <tr>\n",
              "      <th>0</th>\n",
              "      <td>female</td>\n",
              "      <td>group B</td>\n",
              "      <td>bachelor's degree</td>\n",
              "      <td>standard</td>\n",
              "      <td>none</td>\n",
              "      <td>72</td>\n",
              "      <td>72</td>\n",
              "      <td>74</td>\n",
              "      <td>72.666667</td>\n",
              "    </tr>\n",
              "    <tr>\n",
              "      <th>1</th>\n",
              "      <td>female</td>\n",
              "      <td>group C</td>\n",
              "      <td>some college</td>\n",
              "      <td>standard</td>\n",
              "      <td>completed</td>\n",
              "      <td>69</td>\n",
              "      <td>90</td>\n",
              "      <td>88</td>\n",
              "      <td>82.333333</td>\n",
              "    </tr>\n",
              "    <tr>\n",
              "      <th>2</th>\n",
              "      <td>female</td>\n",
              "      <td>group B</td>\n",
              "      <td>master's degree</td>\n",
              "      <td>standard</td>\n",
              "      <td>none</td>\n",
              "      <td>90</td>\n",
              "      <td>95</td>\n",
              "      <td>93</td>\n",
              "      <td>92.666667</td>\n",
              "    </tr>\n",
              "    <tr>\n",
              "      <th>3</th>\n",
              "      <td>male</td>\n",
              "      <td>group A</td>\n",
              "      <td>associate's degree</td>\n",
              "      <td>free/reduced</td>\n",
              "      <td>none</td>\n",
              "      <td>47</td>\n",
              "      <td>57</td>\n",
              "      <td>44</td>\n",
              "      <td>49.333333</td>\n",
              "    </tr>\n",
              "    <tr>\n",
              "      <th>4</th>\n",
              "      <td>male</td>\n",
              "      <td>group C</td>\n",
              "      <td>some college</td>\n",
              "      <td>standard</td>\n",
              "      <td>none</td>\n",
              "      <td>76</td>\n",
              "      <td>78</td>\n",
              "      <td>75</td>\n",
              "      <td>76.333333</td>\n",
              "    </tr>\n",
              "  </tbody>\n",
              "</table>\n",
              "</div>\n",
              "      <button class=\"colab-df-convert\" onclick=\"convertToInteractive('df-93573465-e436-4b3b-b560-58655208fc1b')\"\n",
              "              title=\"Convert this dataframe to an interactive table.\"\n",
              "              style=\"display:none;\">\n",
              "        \n",
              "  <svg xmlns=\"http://www.w3.org/2000/svg\" height=\"24px\"viewBox=\"0 0 24 24\"\n",
              "       width=\"24px\">\n",
              "    <path d=\"M0 0h24v24H0V0z\" fill=\"none\"/>\n",
              "    <path d=\"M18.56 5.44l.94 2.06.94-2.06 2.06-.94-2.06-.94-.94-2.06-.94 2.06-2.06.94zm-11 1L8.5 8.5l.94-2.06 2.06-.94-2.06-.94L8.5 2.5l-.94 2.06-2.06.94zm10 10l.94 2.06.94-2.06 2.06-.94-2.06-.94-.94-2.06-.94 2.06-2.06.94z\"/><path d=\"M17.41 7.96l-1.37-1.37c-.4-.4-.92-.59-1.43-.59-.52 0-1.04.2-1.43.59L10.3 9.45l-7.72 7.72c-.78.78-.78 2.05 0 2.83L4 21.41c.39.39.9.59 1.41.59.51 0 1.02-.2 1.41-.59l7.78-7.78 2.81-2.81c.8-.78.8-2.07 0-2.86zM5.41 20L4 18.59l7.72-7.72 1.47 1.35L5.41 20z\"/>\n",
              "  </svg>\n",
              "      </button>\n",
              "      \n",
              "  <style>\n",
              "    .colab-df-container {\n",
              "      display:flex;\n",
              "      flex-wrap:wrap;\n",
              "      gap: 12px;\n",
              "    }\n",
              "\n",
              "    .colab-df-convert {\n",
              "      background-color: #E8F0FE;\n",
              "      border: none;\n",
              "      border-radius: 50%;\n",
              "      cursor: pointer;\n",
              "      display: none;\n",
              "      fill: #1967D2;\n",
              "      height: 32px;\n",
              "      padding: 0 0 0 0;\n",
              "      width: 32px;\n",
              "    }\n",
              "\n",
              "    .colab-df-convert:hover {\n",
              "      background-color: #E2EBFA;\n",
              "      box-shadow: 0px 1px 2px rgba(60, 64, 67, 0.3), 0px 1px 3px 1px rgba(60, 64, 67, 0.15);\n",
              "      fill: #174EA6;\n",
              "    }\n",
              "\n",
              "    [theme=dark] .colab-df-convert {\n",
              "      background-color: #3B4455;\n",
              "      fill: #D2E3FC;\n",
              "    }\n",
              "\n",
              "    [theme=dark] .colab-df-convert:hover {\n",
              "      background-color: #434B5C;\n",
              "      box-shadow: 0px 1px 3px 1px rgba(0, 0, 0, 0.15);\n",
              "      filter: drop-shadow(0px 1px 2px rgba(0, 0, 0, 0.3));\n",
              "      fill: #FFFFFF;\n",
              "    }\n",
              "  </style>\n",
              "\n",
              "      <script>\n",
              "        const buttonEl =\n",
              "          document.querySelector('#df-93573465-e436-4b3b-b560-58655208fc1b button.colab-df-convert');\n",
              "        buttonEl.style.display =\n",
              "          google.colab.kernel.accessAllowed ? 'block' : 'none';\n",
              "\n",
              "        async function convertToInteractive(key) {\n",
              "          const element = document.querySelector('#df-93573465-e436-4b3b-b560-58655208fc1b');\n",
              "          const dataTable =\n",
              "            await google.colab.kernel.invokeFunction('convertToInteractive',\n",
              "                                                     [key], {});\n",
              "          if (!dataTable) return;\n",
              "\n",
              "          const docLinkHtml = 'Like what you see? Visit the ' +\n",
              "            '<a target=\"_blank\" href=https://colab.research.google.com/notebooks/data_table.ipynb>data table notebook</a>'\n",
              "            + ' to learn more about interactive tables.';\n",
              "          element.innerHTML = '';\n",
              "          dataTable['output_type'] = 'display_data';\n",
              "          await google.colab.output.renderOutput(dataTable, element);\n",
              "          const docLink = document.createElement('div');\n",
              "          docLink.innerHTML = docLinkHtml;\n",
              "          element.appendChild(docLink);\n",
              "        }\n",
              "      </script>\n",
              "    </div>\n",
              "  </div>\n",
              "  "
            ]
          },
          "metadata": {},
          "execution_count": 128
        }
      ]
    },
    {
      "cell_type": "markdown",
      "source": [
        "**Transformando as Features categóricas em numéricas - OrdinalEncoder() - Feature com mais de 2 dados diferentes.**"
      ],
      "metadata": {
        "id": "WdEFqcwsZM1h"
      }
    },
    {
      "cell_type": "code",
      "source": [
        "# [\"race/ethnicity\", \"parental level of education\"]\n",
        "oe =  OrdinalEncoder()\n",
        "oe.fit(df[[\"gender\"]])\n",
        "\n",
        "\n",
        "df[\"gender\"] = oe.transform(df[[\"gender\"]])"
      ],
      "metadata": {
        "id": "G4fDsjuSVMiJ"
      },
      "execution_count": 140,
      "outputs": []
    },
    {
      "cell_type": "code",
      "source": [
        "df"
      ],
      "metadata": {
        "colab": {
          "base_uri": "https://localhost:8080/",
          "height": 424
        },
        "id": "QvkMuPpM83tQ",
        "outputId": "d03c2ffa-2789-4509-a22e-72cbf7d5a4e6"
      },
      "execution_count": 141,
      "outputs": [
        {
          "output_type": "execute_result",
          "data": {
            "text/plain": [
              "     gender  race/ethnicity  parental level of education  lunch  \\\n",
              "0       0.0             1.0                          1.0    1.0   \n",
              "1       0.0             2.0                          4.0    1.0   \n",
              "2       0.0             1.0                          3.0    1.0   \n",
              "3       1.0             0.0                          0.0    0.0   \n",
              "4       1.0             2.0                          4.0    1.0   \n",
              "..      ...             ...                          ...    ...   \n",
              "995     0.0             4.0                          3.0    1.0   \n",
              "996     1.0             2.0                          2.0    0.0   \n",
              "997     0.0             2.0                          2.0    0.0   \n",
              "998     0.0             3.0                          4.0    1.0   \n",
              "999     0.0             3.0                          4.0    0.0   \n",
              "\n",
              "     test preparation course  math score  reading score  writing score  \\\n",
              "0                        1.0          72             72             74   \n",
              "1                        0.0          69             90             88   \n",
              "2                        1.0          90             95             93   \n",
              "3                        1.0          47             57             44   \n",
              "4                        1.0          76             78             75   \n",
              "..                       ...         ...            ...            ...   \n",
              "995                      0.0          88             99             95   \n",
              "996                      1.0          62             55             55   \n",
              "997                      0.0          59             71             65   \n",
              "998                      0.0          68             78             77   \n",
              "999                      1.0          77             86             86   \n",
              "\n",
              "         media  \n",
              "0    72.666667  \n",
              "1    82.333333  \n",
              "2    92.666667  \n",
              "3    49.333333  \n",
              "4    76.333333  \n",
              "..         ...  \n",
              "995  94.000000  \n",
              "996  57.333333  \n",
              "997  65.000000  \n",
              "998  74.333333  \n",
              "999  83.000000  \n",
              "\n",
              "[1000 rows x 9 columns]"
            ],
            "text/html": [
              "\n",
              "  <div id=\"df-58f174d0-0ce8-48b4-9e8e-9e0c79925767\">\n",
              "    <div class=\"colab-df-container\">\n",
              "      <div>\n",
              "<style scoped>\n",
              "    .dataframe tbody tr th:only-of-type {\n",
              "        vertical-align: middle;\n",
              "    }\n",
              "\n",
              "    .dataframe tbody tr th {\n",
              "        vertical-align: top;\n",
              "    }\n",
              "\n",
              "    .dataframe thead th {\n",
              "        text-align: right;\n",
              "    }\n",
              "</style>\n",
              "<table border=\"1\" class=\"dataframe\">\n",
              "  <thead>\n",
              "    <tr style=\"text-align: right;\">\n",
              "      <th></th>\n",
              "      <th>gender</th>\n",
              "      <th>race/ethnicity</th>\n",
              "      <th>parental level of education</th>\n",
              "      <th>lunch</th>\n",
              "      <th>test preparation course</th>\n",
              "      <th>math score</th>\n",
              "      <th>reading score</th>\n",
              "      <th>writing score</th>\n",
              "      <th>media</th>\n",
              "    </tr>\n",
              "  </thead>\n",
              "  <tbody>\n",
              "    <tr>\n",
              "      <th>0</th>\n",
              "      <td>0.0</td>\n",
              "      <td>1.0</td>\n",
              "      <td>1.0</td>\n",
              "      <td>1.0</td>\n",
              "      <td>1.0</td>\n",
              "      <td>72</td>\n",
              "      <td>72</td>\n",
              "      <td>74</td>\n",
              "      <td>72.666667</td>\n",
              "    </tr>\n",
              "    <tr>\n",
              "      <th>1</th>\n",
              "      <td>0.0</td>\n",
              "      <td>2.0</td>\n",
              "      <td>4.0</td>\n",
              "      <td>1.0</td>\n",
              "      <td>0.0</td>\n",
              "      <td>69</td>\n",
              "      <td>90</td>\n",
              "      <td>88</td>\n",
              "      <td>82.333333</td>\n",
              "    </tr>\n",
              "    <tr>\n",
              "      <th>2</th>\n",
              "      <td>0.0</td>\n",
              "      <td>1.0</td>\n",
              "      <td>3.0</td>\n",
              "      <td>1.0</td>\n",
              "      <td>1.0</td>\n",
              "      <td>90</td>\n",
              "      <td>95</td>\n",
              "      <td>93</td>\n",
              "      <td>92.666667</td>\n",
              "    </tr>\n",
              "    <tr>\n",
              "      <th>3</th>\n",
              "      <td>1.0</td>\n",
              "      <td>0.0</td>\n",
              "      <td>0.0</td>\n",
              "      <td>0.0</td>\n",
              "      <td>1.0</td>\n",
              "      <td>47</td>\n",
              "      <td>57</td>\n",
              "      <td>44</td>\n",
              "      <td>49.333333</td>\n",
              "    </tr>\n",
              "    <tr>\n",
              "      <th>4</th>\n",
              "      <td>1.0</td>\n",
              "      <td>2.0</td>\n",
              "      <td>4.0</td>\n",
              "      <td>1.0</td>\n",
              "      <td>1.0</td>\n",
              "      <td>76</td>\n",
              "      <td>78</td>\n",
              "      <td>75</td>\n",
              "      <td>76.333333</td>\n",
              "    </tr>\n",
              "    <tr>\n",
              "      <th>...</th>\n",
              "      <td>...</td>\n",
              "      <td>...</td>\n",
              "      <td>...</td>\n",
              "      <td>...</td>\n",
              "      <td>...</td>\n",
              "      <td>...</td>\n",
              "      <td>...</td>\n",
              "      <td>...</td>\n",
              "      <td>...</td>\n",
              "    </tr>\n",
              "    <tr>\n",
              "      <th>995</th>\n",
              "      <td>0.0</td>\n",
              "      <td>4.0</td>\n",
              "      <td>3.0</td>\n",
              "      <td>1.0</td>\n",
              "      <td>0.0</td>\n",
              "      <td>88</td>\n",
              "      <td>99</td>\n",
              "      <td>95</td>\n",
              "      <td>94.000000</td>\n",
              "    </tr>\n",
              "    <tr>\n",
              "      <th>996</th>\n",
              "      <td>1.0</td>\n",
              "      <td>2.0</td>\n",
              "      <td>2.0</td>\n",
              "      <td>0.0</td>\n",
              "      <td>1.0</td>\n",
              "      <td>62</td>\n",
              "      <td>55</td>\n",
              "      <td>55</td>\n",
              "      <td>57.333333</td>\n",
              "    </tr>\n",
              "    <tr>\n",
              "      <th>997</th>\n",
              "      <td>0.0</td>\n",
              "      <td>2.0</td>\n",
              "      <td>2.0</td>\n",
              "      <td>0.0</td>\n",
              "      <td>0.0</td>\n",
              "      <td>59</td>\n",
              "      <td>71</td>\n",
              "      <td>65</td>\n",
              "      <td>65.000000</td>\n",
              "    </tr>\n",
              "    <tr>\n",
              "      <th>998</th>\n",
              "      <td>0.0</td>\n",
              "      <td>3.0</td>\n",
              "      <td>4.0</td>\n",
              "      <td>1.0</td>\n",
              "      <td>0.0</td>\n",
              "      <td>68</td>\n",
              "      <td>78</td>\n",
              "      <td>77</td>\n",
              "      <td>74.333333</td>\n",
              "    </tr>\n",
              "    <tr>\n",
              "      <th>999</th>\n",
              "      <td>0.0</td>\n",
              "      <td>3.0</td>\n",
              "      <td>4.0</td>\n",
              "      <td>0.0</td>\n",
              "      <td>1.0</td>\n",
              "      <td>77</td>\n",
              "      <td>86</td>\n",
              "      <td>86</td>\n",
              "      <td>83.000000</td>\n",
              "    </tr>\n",
              "  </tbody>\n",
              "</table>\n",
              "<p>1000 rows × 9 columns</p>\n",
              "</div>\n",
              "      <button class=\"colab-df-convert\" onclick=\"convertToInteractive('df-58f174d0-0ce8-48b4-9e8e-9e0c79925767')\"\n",
              "              title=\"Convert this dataframe to an interactive table.\"\n",
              "              style=\"display:none;\">\n",
              "        \n",
              "  <svg xmlns=\"http://www.w3.org/2000/svg\" height=\"24px\"viewBox=\"0 0 24 24\"\n",
              "       width=\"24px\">\n",
              "    <path d=\"M0 0h24v24H0V0z\" fill=\"none\"/>\n",
              "    <path d=\"M18.56 5.44l.94 2.06.94-2.06 2.06-.94-2.06-.94-.94-2.06-.94 2.06-2.06.94zm-11 1L8.5 8.5l.94-2.06 2.06-.94-2.06-.94L8.5 2.5l-.94 2.06-2.06.94zm10 10l.94 2.06.94-2.06 2.06-.94-2.06-.94-.94-2.06-.94 2.06-2.06.94z\"/><path d=\"M17.41 7.96l-1.37-1.37c-.4-.4-.92-.59-1.43-.59-.52 0-1.04.2-1.43.59L10.3 9.45l-7.72 7.72c-.78.78-.78 2.05 0 2.83L4 21.41c.39.39.9.59 1.41.59.51 0 1.02-.2 1.41-.59l7.78-7.78 2.81-2.81c.8-.78.8-2.07 0-2.86zM5.41 20L4 18.59l7.72-7.72 1.47 1.35L5.41 20z\"/>\n",
              "  </svg>\n",
              "      </button>\n",
              "      \n",
              "  <style>\n",
              "    .colab-df-container {\n",
              "      display:flex;\n",
              "      flex-wrap:wrap;\n",
              "      gap: 12px;\n",
              "    }\n",
              "\n",
              "    .colab-df-convert {\n",
              "      background-color: #E8F0FE;\n",
              "      border: none;\n",
              "      border-radius: 50%;\n",
              "      cursor: pointer;\n",
              "      display: none;\n",
              "      fill: #1967D2;\n",
              "      height: 32px;\n",
              "      padding: 0 0 0 0;\n",
              "      width: 32px;\n",
              "    }\n",
              "\n",
              "    .colab-df-convert:hover {\n",
              "      background-color: #E2EBFA;\n",
              "      box-shadow: 0px 1px 2px rgba(60, 64, 67, 0.3), 0px 1px 3px 1px rgba(60, 64, 67, 0.15);\n",
              "      fill: #174EA6;\n",
              "    }\n",
              "\n",
              "    [theme=dark] .colab-df-convert {\n",
              "      background-color: #3B4455;\n",
              "      fill: #D2E3FC;\n",
              "    }\n",
              "\n",
              "    [theme=dark] .colab-df-convert:hover {\n",
              "      background-color: #434B5C;\n",
              "      box-shadow: 0px 1px 3px 1px rgba(0, 0, 0, 0.15);\n",
              "      filter: drop-shadow(0px 1px 2px rgba(0, 0, 0, 0.3));\n",
              "      fill: #FFFFFF;\n",
              "    }\n",
              "  </style>\n",
              "\n",
              "      <script>\n",
              "        const buttonEl =\n",
              "          document.querySelector('#df-58f174d0-0ce8-48b4-9e8e-9e0c79925767 button.colab-df-convert');\n",
              "        buttonEl.style.display =\n",
              "          google.colab.kernel.accessAllowed ? 'block' : 'none';\n",
              "\n",
              "        async function convertToInteractive(key) {\n",
              "          const element = document.querySelector('#df-58f174d0-0ce8-48b4-9e8e-9e0c79925767');\n",
              "          const dataTable =\n",
              "            await google.colab.kernel.invokeFunction('convertToInteractive',\n",
              "                                                     [key], {});\n",
              "          if (!dataTable) return;\n",
              "\n",
              "          const docLinkHtml = 'Like what you see? Visit the ' +\n",
              "            '<a target=\"_blank\" href=https://colab.research.google.com/notebooks/data_table.ipynb>data table notebook</a>'\n",
              "            + ' to learn more about interactive tables.';\n",
              "          element.innerHTML = '';\n",
              "          dataTable['output_type'] = 'display_data';\n",
              "          await google.colab.output.renderOutput(dataTable, element);\n",
              "          const docLink = document.createElement('div');\n",
              "          docLink.innerHTML = docLinkHtml;\n",
              "          element.appendChild(docLink);\n",
              "        }\n",
              "      </script>\n",
              "    </div>\n",
              "  </div>\n",
              "  "
            ]
          },
          "metadata": {},
          "execution_count": 141
        }
      ]
    },
    {
      "cell_type": "markdown",
      "source": [
        "**Vamos escalonar todas as Features, pois a amplitude entre os dados está muito grande, isso pode causar um viés no resultado final:**"
      ],
      "metadata": {
        "id": "6yUhfH1Ra1E5"
      }
    },
    {
      "cell_type": "code",
      "source": [
        "df.columns"
      ],
      "metadata": {
        "colab": {
          "base_uri": "https://localhost:8080/"
        },
        "id": "ANlyGnZU8N25",
        "outputId": "84a87a95-afdc-462c-ba6a-2129d7be8390"
      },
      "execution_count": 117,
      "outputs": [
        {
          "output_type": "execute_result",
          "data": {
            "text/plain": [
              "Index(['gender', 'race/ethnicity', 'parental level of education', 'lunch',\n",
              "       'test preparation course', 'math score', 'reading score',\n",
              "       'writing score', 'media'],\n",
              "      dtype='object')"
            ]
          },
          "metadata": {},
          "execution_count": 117
        }
      ]
    },
    {
      "cell_type": "code",
      "source": [
        "ssc = StandardScaler()\n",
        "\n",
        "ssc.fit(df[['gender', 'race/ethnicity', 'parental level of education', 'lunch', 'test preparation course', 'math score', 'reading score','writing score']])\n",
        "h= ssc.transform(df[['gender', 'race/ethnicity', 'parental level of education', 'lunch', 'test preparation course', 'math score', 'reading score', 'writing score']])\n",
        "df[['gender', 'race/ethnicity', 'parental level of education', 'lunch', 'test preparation course', 'math score', 'reading score', 'writing score']] = h"
      ],
      "metadata": {
        "id": "lXxx6YFUHIOZ"
      },
      "execution_count": 143,
      "outputs": []
    },
    {
      "cell_type": "code",
      "source": [
        "#Separando o que é features e target:\n",
        "X = df.drop(columns=\"media\")\n",
        "y = df[\"media\"]"
      ],
      "metadata": {
        "id": "sDXjACA33gZs"
      },
      "execution_count": 147,
      "outputs": []
    },
    {
      "cell_type": "code",
      "source": [
        "X = np.array(X)"
      ],
      "metadata": {
        "id": "IFbtdfCy8Ad3"
      },
      "execution_count": 148,
      "outputs": []
    },
    {
      "cell_type": "markdown",
      "source": [
        "**Com 30 e 100 amostras**"
      ],
      "metadata": {
        "id": "a8q4xIIbTH8x"
      }
    },
    {
      "cell_type": "code",
      "source": [
        "resultados_rf_cv_30 = []\n",
        "resultados_rf_cv_100 = []\n",
        "for i in range(10):\n",
        "  kfold = KFold(n_splits = 10, shuffle = True, random_state = i)\n",
        "  \n",
        "  rf = RandomForestRegressor()\n",
        "  scores = cross_val_score(rf, X, y, cv = kfold)\n",
        "  resultados_rf_cv_100.append(scores)\n",
        "  resultados_rf_cv_30.append(scores.mean())"
      ],
      "metadata": {
        "id": "ai5vC9VBTCRF"
      },
      "execution_count": 149,
      "outputs": []
    },
    {
      "cell_type": "code",
      "source": [
        "scores"
      ],
      "metadata": {
        "colab": {
          "base_uri": "https://localhost:8080/"
        },
        "id": "7wgqKSt347_s",
        "outputId": "9d4b6939-9988-43e0-a580-ececa4caf3b9"
      },
      "execution_count": 150,
      "outputs": [
        {
          "output_type": "execute_result",
          "data": {
            "text/plain": [
              "array([0.99766806, 0.99748428, 0.99802622, 0.99734551, 0.99804682,\n",
              "       0.99648377, 0.99606424, 0.98912301, 0.99752889, 0.99768799])"
            ]
          },
          "metadata": {},
          "execution_count": 150
        }
      ]
    },
    {
      "cell_type": "code",
      "source": [
        "resultados_rf_cv_30 = np.array(resultados_rf_cv_30)\n",
        "resultados_rf_cv_100 = np.array(np.asarray(resultados_rf_cv_100).reshape(-1))"
      ],
      "metadata": {
        "id": "R6Fe_OZ-UnxH"
      },
      "execution_count": 151,
      "outputs": []
    },
    {
      "cell_type": "code",
      "source": [
        "len(resultados_rf_cv_30)"
      ],
      "metadata": {
        "colab": {
          "base_uri": "https://localhost:8080/"
        },
        "id": "2wP-tCTm4VUs",
        "outputId": "05d6ca72-5807-4cda-db1e-69d6f286d375"
      },
      "execution_count": 152,
      "outputs": [
        {
          "output_type": "execute_result",
          "data": {
            "text/plain": [
              "10"
            ]
          },
          "metadata": {},
          "execution_count": 152
        }
      ]
    },
    {
      "cell_type": "markdown",
      "source": [
        "**Para 30 amostras usamos o t-student:**"
      ],
      "metadata": {
        "id": "cawKMdjgZFXQ"
      }
    },
    {
      "cell_type": "code",
      "source": [
        "intervalos_rf_t = t.interval(0.95, len(resultados_rf_cv_30) - 1, \n",
        "                                    resultados_rf_cv_30.mean(), \n",
        "                                    stats.sem(resultados_rf_cv_30, ddof = 0))\n",
        "intervalos_rf_t"
      ],
      "metadata": {
        "colab": {
          "base_uri": "https://localhost:8080/"
        },
        "id": "FiOGH9WRZH6z",
        "outputId": "0e1620d6-8d4c-4216-df9a-4346a8e4e148"
      },
      "execution_count": 153,
      "outputs": [
        {
          "output_type": "execute_result",
          "data": {
            "text/plain": [
              "(0.9967359074332951, 0.9969447885358687)"
            ]
          },
          "metadata": {},
          "execution_count": 153
        }
      ]
    },
    {
      "cell_type": "markdown",
      "source": [
        "**Variação do intervalo:**"
      ],
      "metadata": {
        "id": "OTzKOMRKg8rF"
      }
    },
    {
      "cell_type": "code",
      "source": [
        "abs(resultados_rf_cv_30.mean() - intervalos_rf_t[1])"
      ],
      "metadata": {
        "colab": {
          "base_uri": "https://localhost:8080/"
        },
        "id": "RutFiiPga732",
        "outputId": "f94381d7-ef8f-4dc0-db4c-89016a17511d"
      },
      "execution_count": 154,
      "outputs": [
        {
          "output_type": "execute_result",
          "data": {
            "text/plain": [
              "0.00010444055128677743"
            ]
          },
          "metadata": {},
          "execution_count": 154
        }
      ]
    },
    {
      "cell_type": "code",
      "source": [
        "print(f\"Temos 95% de confiança de que a média de acertos do Random Forest com 30 amostras está no intervalo entre {intervalos_rf_t[0]*100:.2f} % e {intervalos_rf_t[1]*100:.2f} %\")"
      ],
      "metadata": {
        "colab": {
          "base_uri": "https://localhost:8080/"
        },
        "id": "LTaiNse7qnmW",
        "outputId": "7fab8982-254f-4e54-9c7f-158eddc9cdf3"
      },
      "execution_count": 156,
      "outputs": [
        {
          "output_type": "stream",
          "name": "stdout",
          "text": [
            "Temos 95% de confiança de que a média de acertos do Random Forest com 30 amostras está no intervalo entre 99.67 % e 99.69 %\n"
          ]
        }
      ]
    },
    {
      "cell_type": "markdown",
      "source": [
        "**Média do score:**"
      ],
      "metadata": {
        "id": "IoTY5wayr1Gl"
      }
    },
    {
      "cell_type": "code",
      "source": [
        "pd.DataFrame(resultados_rf_cv_30).mean()[0]"
      ],
      "metadata": {
        "colab": {
          "base_uri": "https://localhost:8080/"
        },
        "id": "OjVucu55gAuq",
        "outputId": "56c5636c-2705-4e56-81d9-67177bd1e935"
      },
      "execution_count": 155,
      "outputs": [
        {
          "output_type": "execute_result",
          "data": {
            "text/plain": [
              "0.9968403479845819"
            ]
          },
          "metadata": {},
          "execution_count": 155
        }
      ]
    },
    {
      "cell_type": "markdown",
      "source": [
        "\n",
        "\n",
        "---\n",
        "\n"
      ],
      "metadata": {
        "id": "9FAF7KKWqCe4"
      }
    },
    {
      "cell_type": "markdown",
      "source": [
        "**Para 100 amostras**"
      ],
      "metadata": {
        "id": "yqemiy5VbXIm"
      }
    },
    {
      "cell_type": "code",
      "source": [
        "intervalos_rf_n = norm.interval(0.95, resultados_rf_cv_100.mean(), \n",
        "                                       stats.sem(resultados_rf_cv_100))\n",
        "intervalos_rf_n"
      ],
      "metadata": {
        "colab": {
          "base_uri": "https://localhost:8080/"
        },
        "id": "mhYy7_3JZNaU",
        "outputId": "9e222a73-7d5f-4a54-b539-e0ad8af4e16f"
      },
      "execution_count": 162,
      "outputs": [
        {
          "output_type": "execute_result",
          "data": {
            "text/plain": [
              "(0.9964209186957352, 0.9972597772734287)"
            ]
          },
          "metadata": {},
          "execution_count": 162
        }
      ]
    },
    {
      "cell_type": "markdown",
      "source": [
        "**Para 100 amostras ele acabou aumentando a margem de erro em relação ao de 30 amostras, o que é esperado.**"
      ],
      "metadata": {
        "id": "cEXqxJOtcLrz"
      }
    },
    {
      "cell_type": "markdown",
      "source": [
        "**Variação do intervalo:**"
      ],
      "metadata": {
        "id": "Y6dUEgp0pqoQ"
      }
    },
    {
      "cell_type": "code",
      "source": [
        "abs(resultados_rf_cv_100.mean() - intervalos_rf_n[1])"
      ],
      "metadata": {
        "colab": {
          "base_uri": "https://localhost:8080/"
        },
        "id": "OjH5W-0ZZn6b",
        "outputId": "cfc10e66-897a-48bc-9551-cd617736c5d1"
      },
      "execution_count": 158,
      "outputs": [
        {
          "output_type": "execute_result",
          "data": {
            "text/plain": [
              "0.000419429288846751"
            ]
          },
          "metadata": {},
          "execution_count": 158
        }
      ]
    },
    {
      "cell_type": "code",
      "source": [
        "print(f\"Temos 95% de confiança de que a média de acertos do Random Forest com 90 amostras está no intervalo entre {intervalos_rf_n[0]*100:.2f}% e {intervalos_rf_n[1]*100:.2f}%\")"
      ],
      "metadata": {
        "colab": {
          "base_uri": "https://localhost:8080/"
        },
        "id": "IbNo_-GkrYcS",
        "outputId": "aff06f1f-26e3-4492-dce0-745fbb2ccf8b"
      },
      "execution_count": 159,
      "outputs": [
        {
          "output_type": "stream",
          "name": "stdout",
          "text": [
            "Temos 95% de confiança de que a média de acertos do Random Forest com 90 amostras está no intervalo entre 99.64% e 99.73%\n"
          ]
        }
      ]
    },
    {
      "cell_type": "markdown",
      "source": [
        "**Média do score:**"
      ],
      "metadata": {
        "id": "PT44M4ncp5vP"
      }
    },
    {
      "cell_type": "code",
      "source": [
        "resultado_100 = resultados_rf_cv_100\n",
        "resultado_100 = (resultado_100[0] + resultado_100[1] + resultado_100[2])/3\n",
        "resultado_100"
      ],
      "metadata": {
        "colab": {
          "base_uri": "https://localhost:8080/"
        },
        "id": "4gQjWmKub-j8",
        "outputId": "e1c7a40c-1f77-47fa-89a6-e78d2abc86a9"
      },
      "execution_count": 163,
      "outputs": [
        {
          "output_type": "execute_result",
          "data": {
            "text/plain": [
              "0.9980300803467271"
            ]
          },
          "metadata": {},
          "execution_count": 163
        }
      ]
    },
    {
      "cell_type": "markdown",
      "metadata": {
        "id": "YYgVyk65c8bH"
      },
      "source": [
        "# **XGBOOST**"
      ]
    },
    {
      "cell_type": "markdown",
      "source": [
        "## **Black Box**"
      ],
      "metadata": {
        "id": "k75emAHwljVf"
      }
    },
    {
      "cell_type": "code",
      "execution_count": 164,
      "metadata": {
        "execution": {
          "iopub.execute_input": "2022-07-04T19:01:20.649646Z",
          "iopub.status.busy": "2022-07-04T19:01:20.649011Z",
          "iopub.status.idle": "2022-07-04T19:01:20.774769Z",
          "shell.execute_reply": "2022-07-04T19:01:20.773335Z",
          "shell.execute_reply.started": "2022-07-04T19:01:20.649596Z"
        },
        "id": "lmehUk-Fc8bH"
      },
      "outputs": [],
      "source": [
        "from xgboost import XGBRegressor"
      ]
    },
    {
      "cell_type": "code",
      "execution_count": 287,
      "metadata": {
        "colab": {
          "base_uri": "https://localhost:8080/"
        },
        "execution": {
          "iopub.execute_input": "2022-07-05T00:58:39.306002Z",
          "iopub.status.busy": "2022-07-05T00:58:39.305542Z",
          "iopub.status.idle": "2022-07-05T01:02:18.329714Z",
          "shell.execute_reply": "2022-07-05T01:02:18.328430Z",
          "shell.execute_reply.started": "2022-07-05T00:58:39.305970Z"
        },
        "id": "e-eFLMGWc8bI",
        "outputId": "6508a896-b612-4aea-af43-c33bc8c5803d"
      },
      "outputs": [
        {
          "output_type": "stream",
          "name": "stdout",
          "text": [
            "Fitting 5 folds for each of 2 candidates, totalling 10 fits\n",
            "[23:54:35] WARNING: /workspace/src/objective/regression_obj.cu:152: reg:linear is now deprecated in favor of reg:squarederror.\n"
          ]
        },
        {
          "output_type": "execute_result",
          "data": {
            "text/plain": [
              "GridSearchCV(cv=KFold(n_splits=5, random_state=42, shuffle=True),\n",
              "             estimator=Pipeline(steps=[('pre_processador',\n",
              "                                        ColumnTransformer(transformers=[('transf_num',\n",
              "                                                                         Pipeline(steps=[('input_num',\n",
              "                                                                                          SimpleImputer()),\n",
              "                                                                                         ('std',\n",
              "                                                                                          StandardScaler())]),\n",
              "                                                                         ['math '\n",
              "                                                                          'score',\n",
              "                                                                          'reading '\n",
              "                                                                          'score',\n",
              "                                                                          'writing '\n",
              "                                                                          'score']),\n",
              "                                                                        ('transf_cat',\n",
              "                                                                         Pipeline(steps=[('input_cat_oe',\n",
              "                                                                                          SimpleImputer(fill_value='...\n",
              "                                                                                                        strategy='constant')),\n",
              "                                                                                         ('ordinal',\n",
              "                                                                                          OrdinalEncoder())]),\n",
              "                                                                         ['race/ethnicity',\n",
              "                                                                          'parental '\n",
              "                                                                          'level '\n",
              "                                                                          'of '\n",
              "                                                                          'education'])])),\n",
              "                                       ('xgbr',\n",
              "                                        XGBRegressor(eval_metric='logloss',\n",
              "                                                     random_state=42))]),\n",
              "             n_jobs=-1,\n",
              "             param_grid={'xgbr__colsample_bytree': [0.5],\n",
              "                         'xgbr__learning_rate': [0.001, 0.01],\n",
              "                         'xgbr__max_depth': [2], 'xgbr__n_estimators': [1000],\n",
              "                         'xgbr__subsample': [0.5]},\n",
              "             scoring='r2', verbose=10)"
            ]
          },
          "metadata": {},
          "execution_count": 287
        }
      ],
      "source": [
        "#Separando o que é features e target:\n",
        "X = df.drop(columns=\"media\")\n",
        "y = df[\"media\"]\n",
        "\n",
        "# Dividindo em dados de teste e dados de treino, peguei 20% para dados de teste:\n",
        "X_train, X_test, y_train, y_test = train_test_split(X, y, test_size=0.2, random_state=42)\n",
        "\n",
        "# Iniciando a construção da Pipeline:\n",
        "# ==========================================================\n",
        "#Primeiro vamos tratar as features numéricas. Tratando os valores nulos (NaN) e escalonando já que a variância entre as features é grande.\n",
        "pipe_features_num = Pipeline([(\"input_num\", SimpleImputer(strategy=\"mean\")),\n",
        "                              (\"std\", StandardScaler())])\n",
        "\n",
        "features_num = X_train.select_dtypes(include=np.number).columns.tolist()\n",
        "# ==========================================================\n",
        "# ==========================================================\n",
        "# Tratando as features categóricas. Os valores nulos (NaN) serão preenchidos pelos dados mais constantes e posteriormente codificaremos todas elas com Ordinal Enconder. \n",
        "\n",
        "pipe_features_oe = Pipeline([(\"input_cat_oe\", SimpleImputer(strategy=\"constant\", fill_value=\"unknown\")),\n",
        "                            (\"ordinal\", OrdinalEncoder())])\n",
        "\n",
        "features_oe = [\"race/ethnicity\", \"parental level of education\"]\n",
        "\n",
        "# Tratando as features categóricas. Os valores nulos (NaN) serão preenchidos pelos dados mais constantes e posteriormente codificaremos todas elas com o One Hot Encoder. \n",
        "\n",
        "pipe_features_ohe = Pipeline([(\"input_cat_oe\", SimpleImputer(strategy=\"constant\", fill_value=\"unknown\")),\n",
        "                            (\"onehot\", OneHotEncoder(handle_unknown='ignore'))])\n",
        "\n",
        "features_ohe = [\"gender\", \"lunch\", \"test preparation course\"]\n",
        "# ==========================================================\n",
        "# Pré-processador => Pegando as pipelines anteriores e unindo-as.\n",
        "pre_processador = ColumnTransformer([(\"transf_num\", pipe_features_num, features_num),\n",
        "                                     (\"transf_cat\", pipe_features_oe, features_oe)])\n",
        "\n",
        "# ==========================================================\n",
        "# Pipeline final, usando o pré-processador e o estimador que queremos utilizar, neste caso o XGBoost para regressão.\n",
        "pipe_xgbr = Pipeline([(\"pre_processador\", pre_processador),\n",
        "                     (\"xgbr\", XGBRegressor(eval_metric='logloss', random_state=42))])\n",
        "\n",
        "# ==========================================================\n",
        "#Vamos dividir em splits para ter mais variedade no processamento dos dados.\n",
        "splitter = KFold(n_splits=5, random_state=42, shuffle=True)\n",
        "\n",
        "#Montando a grade de parâmetros do estimador (XGBoost)\n",
        "params_grid_xgbr = {\"xgbr__n_estimators\": [1000],\n",
        "                   \"xgbr__max_depth\": [2],\n",
        "                   \"xgbr__learning_rate\": [0.001, 0.01],\n",
        "                   \"xgbr__colsample_bytree\": [0.5],\n",
        "                   \"xgbr__subsample\": [0.5]}\n",
        "\n",
        "\n",
        "#Motando a grade geral de parâmetros.\n",
        "grid_xgbr_edu = GridSearchCV(estimator=pipe_xgbr,\n",
        "                       param_grid=params_grid_xgbr,\n",
        "                       scoring=\"r2\",\n",
        "                       cv=splitter,\n",
        "                       verbose=10,\n",
        "                       n_jobs=-1)\n",
        "\n",
        "grid_xgbr_edu.fit(X_train, y_train)"
      ]
    },
    {
      "cell_type": "code",
      "execution_count": 265,
      "metadata": {
        "collapsed": true,
        "execution": {
          "iopub.execute_input": "2022-07-04T21:37:34.559124Z",
          "iopub.status.busy": "2022-07-04T21:37:34.558167Z",
          "iopub.status.idle": "2022-07-04T21:37:34.565840Z",
          "shell.execute_reply": "2022-07-04T21:37:34.565007Z",
          "shell.execute_reply.started": "2022-07-04T21:37:34.559057Z"
        },
        "id": "DAKnu8-xc8bI",
        "jupyter": {
          "outputs_hidden": true
        },
        "colab": {
          "base_uri": "https://localhost:8080/"
        },
        "outputId": "76f3e64c-8d57-4ef0-940e-5b66243b98e1"
      },
      "outputs": [
        {
          "output_type": "execute_result",
          "data": {
            "text/plain": [
              "{'xgbr__colsample_bytree': 0.5,\n",
              " 'xgbr__learning_rate': 0.01,\n",
              " 'xgbr__max_depth': 2,\n",
              " 'xgbr__n_estimators': 750,\n",
              " 'xgbr__subsample': 0.5}"
            ]
          },
          "metadata": {},
          "execution_count": 265
        }
      ],
      "source": [
        "grid_xgbr_edu.best_params_"
      ]
    },
    {
      "cell_type": "code",
      "execution_count": null,
      "metadata": {
        "collapsed": true,
        "execution": {
          "iopub.execute_input": "2022-07-04T14:20:52.445534Z",
          "iopub.status.busy": "2022-07-04T14:20:52.445074Z",
          "iopub.status.idle": "2022-07-04T14:20:52.487086Z",
          "shell.execute_reply": "2022-07-04T14:20:52.486289Z",
          "shell.execute_reply.started": "2022-07-04T14:20:52.445484Z"
        },
        "id": "Bzqj-9m-c8bJ",
        "jupyter": {
          "outputs_hidden": true
        }
      },
      "outputs": [],
      "source": [
        "xgbr_results = pd.DataFrame(grid_xgbr_edu.cv_results_)\n",
        "xgbr_results.sort_values(by=[\"rank_test_score\"])"
      ]
    },
    {
      "cell_type": "code",
      "execution_count": 288,
      "metadata": {
        "colab": {
          "base_uri": "https://localhost:8080/"
        },
        "execution": {
          "iopub.execute_input": "2022-07-05T01:02:43.684643Z",
          "iopub.status.busy": "2022-07-05T01:02:43.684163Z",
          "iopub.status.idle": "2022-07-05T01:02:45.252934Z",
          "shell.execute_reply": "2022-07-05T01:02:45.251778Z",
          "shell.execute_reply.started": "2022-07-05T01:02:43.684604Z"
        },
        "id": "uzhLcpnDc8bK",
        "outputId": "03d2b4b0-a7b8-43e9-9ddf-8cf3eb2703c3"
      },
      "outputs": [
        {
          "output_type": "stream",
          "name": "stdout",
          "text": [
            "\n",
            "Métricas de treino:\n",
            "\n",
            "R^2: 1.00\n",
            "MAE: 0.28\n",
            "RMSE: 0.36\n",
            "\n",
            "Métricas de teste:\n",
            "\n",
            "R^2: 1.00\n",
            "MAE: 0.37\n",
            "RMSE: 0.98\n"
          ]
        }
      ],
      "source": [
        "# Predições de treino\n",
        "y_pred_train_xgbr = grid_xgbr_edu.predict(X_train)\n",
        "\n",
        "print(\"\\nMétricas de treino:\\n\")\n",
        "print(f\"R^2: {r2_score(y_train, y_pred_train_xgbr):.2f}\")\n",
        "print(f\"MAE: {mean_absolute_error(y_train, y_pred_train_xgbr):.2f}\")\n",
        "print(f\"RMSE: {np.sqrt(mean_squared_error(y_train, y_pred_train_xgbr)):.2f}\")\n",
        "\n",
        "# Predições de teste\n",
        "y_pred_test_xgbr = grid_xgbr_edu.predict(X_test)\n",
        "\n",
        "print(\"\\nMétricas de teste:\\n\")\n",
        "print(f\"R^2: {r2_score(y_test, y_pred_test_xgbr):.2f}\")\n",
        "print(f\"MAE: {mean_absolute_error(y_test, y_pred_test_xgbr):.2f}\")\n",
        "print(f\"RMSE: {np.sqrt(mean_squared_error(y_test, y_pred_test_xgbr)):.2f}\") "
      ]
    },
    {
      "cell_type": "markdown",
      "source": [
        "\n",
        "\n",
        "---\n",
        "\n"
      ],
      "metadata": {
        "id": "eE98RaAaL6wb"
      }
    },
    {
      "cell_type": "markdown",
      "source": [
        "**Nos dois gráficos abaixos percebemos que os dados de treinos não gabaritaram(não gravaram a resposta) e, sim, geraram erros extremamentes pequenos. Isso se dá pela coesão dos dados. Podemos ver pela MAE, se houvesse gabaritado as respostas os dados de treino não gerariam erros.**"
      ],
      "metadata": {
        "id": "Okjod5j2GiQX"
      }
    },
    {
      "cell_type": "markdown",
      "source": [
        "Peguei um exemplo:"
      ],
      "metadata": {
        "id": "jBk1IphLLz1b"
      }
    },
    {
      "cell_type": "code",
      "source": [
        "df.iloc[[0]]"
      ],
      "metadata": {
        "colab": {
          "base_uri": "https://localhost:8080/",
          "height": 81
        },
        "id": "jZkcA3ElKtPM",
        "outputId": "db9c6680-e805-49f4-ada3-584806a8527a"
      },
      "execution_count": 285,
      "outputs": [
        {
          "output_type": "execute_result",
          "data": {
            "text/plain": [
              "   gender race/ethnicity parental level of education     lunch  \\\n",
              "0  female        group B           bachelor's degree  standard   \n",
              "\n",
              "  test preparation course  math score  reading score  writing score      media  \n",
              "0                    none          72             72             74  72.666667  "
            ],
            "text/html": [
              "\n",
              "  <div id=\"df-4bf2f4f1-3b69-46ae-8ac6-b4e8df47f599\">\n",
              "    <div class=\"colab-df-container\">\n",
              "      <div>\n",
              "<style scoped>\n",
              "    .dataframe tbody tr th:only-of-type {\n",
              "        vertical-align: middle;\n",
              "    }\n",
              "\n",
              "    .dataframe tbody tr th {\n",
              "        vertical-align: top;\n",
              "    }\n",
              "\n",
              "    .dataframe thead th {\n",
              "        text-align: right;\n",
              "    }\n",
              "</style>\n",
              "<table border=\"1\" class=\"dataframe\">\n",
              "  <thead>\n",
              "    <tr style=\"text-align: right;\">\n",
              "      <th></th>\n",
              "      <th>gender</th>\n",
              "      <th>race/ethnicity</th>\n",
              "      <th>parental level of education</th>\n",
              "      <th>lunch</th>\n",
              "      <th>test preparation course</th>\n",
              "      <th>math score</th>\n",
              "      <th>reading score</th>\n",
              "      <th>writing score</th>\n",
              "      <th>media</th>\n",
              "    </tr>\n",
              "  </thead>\n",
              "  <tbody>\n",
              "    <tr>\n",
              "      <th>0</th>\n",
              "      <td>female</td>\n",
              "      <td>group B</td>\n",
              "      <td>bachelor's degree</td>\n",
              "      <td>standard</td>\n",
              "      <td>none</td>\n",
              "      <td>72</td>\n",
              "      <td>72</td>\n",
              "      <td>74</td>\n",
              "      <td>72.666667</td>\n",
              "    </tr>\n",
              "  </tbody>\n",
              "</table>\n",
              "</div>\n",
              "      <button class=\"colab-df-convert\" onclick=\"convertToInteractive('df-4bf2f4f1-3b69-46ae-8ac6-b4e8df47f599')\"\n",
              "              title=\"Convert this dataframe to an interactive table.\"\n",
              "              style=\"display:none;\">\n",
              "        \n",
              "  <svg xmlns=\"http://www.w3.org/2000/svg\" height=\"24px\"viewBox=\"0 0 24 24\"\n",
              "       width=\"24px\">\n",
              "    <path d=\"M0 0h24v24H0V0z\" fill=\"none\"/>\n",
              "    <path d=\"M18.56 5.44l.94 2.06.94-2.06 2.06-.94-2.06-.94-.94-2.06-.94 2.06-2.06.94zm-11 1L8.5 8.5l.94-2.06 2.06-.94-2.06-.94L8.5 2.5l-.94 2.06-2.06.94zm10 10l.94 2.06.94-2.06 2.06-.94-2.06-.94-.94-2.06-.94 2.06-2.06.94z\"/><path d=\"M17.41 7.96l-1.37-1.37c-.4-.4-.92-.59-1.43-.59-.52 0-1.04.2-1.43.59L10.3 9.45l-7.72 7.72c-.78.78-.78 2.05 0 2.83L4 21.41c.39.39.9.59 1.41.59.51 0 1.02-.2 1.41-.59l7.78-7.78 2.81-2.81c.8-.78.8-2.07 0-2.86zM5.41 20L4 18.59l7.72-7.72 1.47 1.35L5.41 20z\"/>\n",
              "  </svg>\n",
              "      </button>\n",
              "      \n",
              "  <style>\n",
              "    .colab-df-container {\n",
              "      display:flex;\n",
              "      flex-wrap:wrap;\n",
              "      gap: 12px;\n",
              "    }\n",
              "\n",
              "    .colab-df-convert {\n",
              "      background-color: #E8F0FE;\n",
              "      border: none;\n",
              "      border-radius: 50%;\n",
              "      cursor: pointer;\n",
              "      display: none;\n",
              "      fill: #1967D2;\n",
              "      height: 32px;\n",
              "      padding: 0 0 0 0;\n",
              "      width: 32px;\n",
              "    }\n",
              "\n",
              "    .colab-df-convert:hover {\n",
              "      background-color: #E2EBFA;\n",
              "      box-shadow: 0px 1px 2px rgba(60, 64, 67, 0.3), 0px 1px 3px 1px rgba(60, 64, 67, 0.15);\n",
              "      fill: #174EA6;\n",
              "    }\n",
              "\n",
              "    [theme=dark] .colab-df-convert {\n",
              "      background-color: #3B4455;\n",
              "      fill: #D2E3FC;\n",
              "    }\n",
              "\n",
              "    [theme=dark] .colab-df-convert:hover {\n",
              "      background-color: #434B5C;\n",
              "      box-shadow: 0px 1px 3px 1px rgba(0, 0, 0, 0.15);\n",
              "      filter: drop-shadow(0px 1px 2px rgba(0, 0, 0, 0.3));\n",
              "      fill: #FFFFFF;\n",
              "    }\n",
              "  </style>\n",
              "\n",
              "      <script>\n",
              "        const buttonEl =\n",
              "          document.querySelector('#df-4bf2f4f1-3b69-46ae-8ac6-b4e8df47f599 button.colab-df-convert');\n",
              "        buttonEl.style.display =\n",
              "          google.colab.kernel.accessAllowed ? 'block' : 'none';\n",
              "\n",
              "        async function convertToInteractive(key) {\n",
              "          const element = document.querySelector('#df-4bf2f4f1-3b69-46ae-8ac6-b4e8df47f599');\n",
              "          const dataTable =\n",
              "            await google.colab.kernel.invokeFunction('convertToInteractive',\n",
              "                                                     [key], {});\n",
              "          if (!dataTable) return;\n",
              "\n",
              "          const docLinkHtml = 'Like what you see? Visit the ' +\n",
              "            '<a target=\"_blank\" href=https://colab.research.google.com/notebooks/data_table.ipynb>data table notebook</a>'\n",
              "            + ' to learn more about interactive tables.';\n",
              "          element.innerHTML = '';\n",
              "          dataTable['output_type'] = 'display_data';\n",
              "          await google.colab.output.renderOutput(dataTable, element);\n",
              "          const docLink = document.createElement('div');\n",
              "          docLink.innerHTML = docLinkHtml;\n",
              "          element.appendChild(docLink);\n",
              "        }\n",
              "      </script>\n",
              "    </div>\n",
              "  </div>\n",
              "  "
            ]
          },
          "metadata": {},
          "execution_count": 285
        }
      ]
    },
    {
      "cell_type": "code",
      "source": [
        "grid_xgbr_edu.predict(df.iloc[[0]])\n"
      ],
      "metadata": {
        "colab": {
          "base_uri": "https://localhost:8080/"
        },
        "id": "ScThpERqIyWU",
        "outputId": "0b8896b4-8833-441b-f02e-b8fe725b7283"
      },
      "execution_count": 286,
      "outputs": [
        {
          "output_type": "execute_result",
          "data": {
            "text/plain": [
              "array([72.32931], dtype=float32)"
            ]
          },
          "metadata": {},
          "execution_count": 286
        }
      ]
    },
    {
      "cell_type": "markdown",
      "source": [
        "\n",
        "\n",
        "---\n",
        "\n"
      ],
      "metadata": {
        "id": "m0eX4o6RL8Qj"
      }
    },
    {
      "cell_type": "code",
      "execution_count": 289,
      "metadata": {
        "colab": {
          "base_uri": "https://localhost:8080/",
          "height": 499
        },
        "execution": {
          "iopub.execute_input": "2022-07-05T01:05:58.697717Z",
          "iopub.status.busy": "2022-07-05T01:05:58.696913Z",
          "iopub.status.idle": "2022-07-05T01:05:59.069653Z",
          "shell.execute_reply": "2022-07-05T01:05:59.068345Z",
          "shell.execute_reply.started": "2022-07-05T01:05:58.697665Z"
        },
        "id": "zH-xPhTkc8bK",
        "outputId": "0bca2ec8-16de-40a0-ed31-85a3f1cc51f8"
      },
      "outputs": [
        {
          "output_type": "display_data",
          "data": {
            "text/plain": [
              "<Figure size 2160x576 with 1 Axes>"
            ],
            "image/png": "[encoded data removed]"
          },
          "metadata": {
            "needs_background": "light"
          }
        }
      ],
      "source": [
        "plt.figure(figsize=(30,8))\n",
        "x_ax = range(len(y_test))\n",
        "plt.plot(x_ax, y_test, label=\"Notas reais\")\n",
        "plt.plot(x_ax, y_pred_test_xgbr, label=\"Notas preditas\")\n",
        "plt.title(\"Notas reais | Notas preditas\")\n",
        "plt.legend()\n",
        "plt.show();"
      ]
    },
    {
      "cell_type": "code",
      "source": [
        "sns.jointplot(y_test, y_pred_test_xgbr)\n",
        "plt.xlabel(\"Valores reais\")\n",
        "plt.ylabel(\"Valores preditos\");"
      ],
      "metadata": {
        "colab": {
          "base_uri": "https://localhost:8080/",
          "height": 441
        },
        "id": "E28r74CABIvg",
        "outputId": "bfbee9ef-669e-46a2-a207-d3c25ddbe315"
      },
      "execution_count": 290,
      "outputs": [
        {
          "output_type": "display_data",
          "data": {
            "text/plain": [
              "<Figure size 432x432 with 3 Axes>"
            ],
            "image/png": "[encoded data removed]"
          },
          "metadata": {
            "needs_background": "light"
          }
        }
      ]
    },
    {
      "cell_type": "code",
      "execution_count": 183,
      "metadata": {
        "execution": {
          "iopub.execute_input": "2022-07-04T23:50:10.517694Z",
          "iopub.status.busy": "2022-07-04T23:50:10.517196Z",
          "iopub.status.idle": "2022-07-04T23:50:10.524008Z",
          "shell.execute_reply": "2022-07-04T23:50:10.522741Z",
          "shell.execute_reply.started": "2022-07-04T23:50:10.517659Z"
        },
        "id": "0fYoLUssc8bK"
      },
      "outputs": [],
      "source": [
        "import pickle"
      ]
    },
    {
      "cell_type": "code",
      "execution_count": 291,
      "metadata": {
        "execution": {
          "iopub.execute_input": "2022-07-05T01:03:00.685460Z",
          "iopub.status.busy": "2022-07-05T01:03:00.684448Z",
          "iopub.status.idle": "2022-07-05T01:03:00.790710Z",
          "shell.execute_reply": "2022-07-05T01:03:00.788824Z",
          "shell.execute_reply.started": "2022-07-05T01:03:00.685404Z"
        },
        "id": "jfhpHY6vc8bL"
      },
      "outputs": [],
      "source": [
        "with open(\"grid_xgbr_edu.pkl\", \"wb\") as f:\n",
        "    pickle.dump(grid_xgbr_edu, f)"
      ]
    },
    {
      "cell_type": "code",
      "execution_count": null,
      "metadata": {
        "id": "sNYrXM8ec8bL"
      },
      "outputs": [],
      "source": [
        "with open(\"grid_xgbr_edu.pkl\", \"rb\") as f:\n",
        "    \n",
        "    grid_xgbr_edu = pickle.load(f)"
      ]
    },
    {
      "cell_type": "code",
      "execution_count": 292,
      "metadata": {
        "colab": {
          "base_uri": "https://localhost:8080/"
        },
        "execution": {
          "iopub.execute_input": "2022-07-05T01:06:24.486935Z",
          "iopub.status.busy": "2022-07-05T01:06:24.485551Z",
          "iopub.status.idle": "2022-07-05T01:06:24.495627Z",
          "shell.execute_reply": "2022-07-05T01:06:24.494426Z",
          "shell.execute_reply.started": "2022-07-05T01:06:24.486869Z"
        },
        "id": "5rebXbdwc8bM",
        "outputId": "fbe0c115-7f93-4121-94d9-0cbfaa2da050"
      },
      "outputs": [
        {
          "output_type": "execute_result",
          "data": {
            "text/plain": [
              "array([86.43401 , 63.975212, 74.9161  , 74.1171  , 81.62404 , 77.62861 ,\n",
              "       67.45434 , 58.56926 , 77.37108 , 49.378216, 47.44185 , 25.596128,\n",
              "       76.26674 , 58.205875, 83.57543 , 75.67952 , 49.215237, 47.94231 ,\n",
              "       53.320015, 61.195553, 73.28362 , 49.557243, 63.20088 , 44.039562,\n",
              "       78.80646 , 76.95851 , 72.08979 , 50.24466 , 42.28255 , 55.61765 ,\n",
              "       59.578964, 66.597435, 60.44963 , 73.007416, 77.319824, 50.952896,\n",
              "       75.985985, 74.15617 , 74.77001 , 21.604841, 77.834435, 64.707695,\n",
              "       65.13118 , 61.12859 , 84.56068 , 65.78836 , 71.00157 , 28.853724,\n",
              "       86.76769 , 78.23941 , 71.78814 , 71.06359 , 78.67896 , 53.909847,\n",
              "       71.61463 , 72.51139 , 82.92756 , 54.95746 , 81.48356 , 88.5183  ,\n",
              "       43.48545 , 80.81788 , 78.044464, 61.232388, 87.67673 , 73.92513 ,\n",
              "       65.92124 , 54.473225, 64.423225, 88.68446 , 64.57158 , 86.627144,\n",
              "       56.365288, 51.351177, 59.864357, 76.7633  , 89.44547 , 56.820892,\n",
              "       59.935513, 49.057117, 60.730316, 39.35679 , 77.56906 , 68.60442 ,\n",
              "       68.01488 , 64.329285, 74.167175, 67.826385, 84.3528  , 23.199879,\n",
              "       77.56215 , 95.32636 , 61.53079 , 70.83448 , 30.955639, 68.799034,\n",
              "       60.57357 , 64.880516, 74.06269 , 64.984535, 74.184425, 58.96492 ,\n",
              "       59.005535, 68.36685 , 69.48197 , 64.18473 , 45.878838, 75.941765,\n",
              "       76.244026, 52.41862 , 40.121395, 80.74778 , 53.594006, 55.894302,\n",
              "       81.99569 , 57.07326 , 48.64317 , 48.680355, 69.80184 , 77.68516 ,\n",
              "       63.718513, 63.770977, 81.81203 , 73.201996, 65.42896 , 66.8602  ,\n",
              "       75.372375, 72.69699 , 47.88899 , 69.71014 , 77.07192 , 74.53758 ,\n",
              "       47.706627, 94.43584 , 68.70143 , 40.323063, 86.75875 , 80.53664 ,\n",
              "       72.83702 , 46.858208, 53.805664, 65.37068 , 57.79596 , 46.42582 ,\n",
              "       79.13841 , 53.73948 , 38.602173, 72.66416 , 50.535114, 79.47361 ,\n",
              "       77.42709 , 77.81631 , 61.128048, 61.260612, 88.13673 , 72.23088 ,\n",
              "       53.087112, 67.03848 , 75.337105, 52.45915 , 69.50541 , 65.01522 ,\n",
              "       76.74759 , 53.553192, 84.364876, 69.385   , 45.02008 , 88.740364,\n",
              "       65.89498 , 75.49565 , 81.784515, 71.22758 , 88.60116 , 78.923965,\n",
              "       55.0377  , 31.076641, 52.757107, 76.38036 , 92.051155, 76.37748 ,\n",
              "       61.86529 , 70.18691 , 92.73553 , 58.472202, 86.064995, 60.620716,\n",
              "       67.30426 , 55.514523, 69.51753 , 85.765495, 50.477467, 58.015335,\n",
              "       69.27719 , 77.920944, 55.76352 , 55.749546, 56.988865, 76.928085,\n",
              "       72.30902 , 68.89054 ], dtype=float32)"
            ]
          },
          "metadata": {},
          "execution_count": 292
        }
      ],
      "source": [
        "y_pred_test_xgbr"
      ]
    },
    {
      "cell_type": "code",
      "execution_count": 293,
      "metadata": {
        "colab": {
          "base_uri": "https://localhost:8080/"
        },
        "execution": {
          "iopub.execute_input": "2022-07-05T01:07:30.826412Z",
          "iopub.status.busy": "2022-07-05T01:07:30.825316Z",
          "iopub.status.idle": "2022-07-05T01:07:30.834027Z",
          "shell.execute_reply": "2022-07-05T01:07:30.832959Z",
          "shell.execute_reply.started": "2022-07-05T01:07:30.826361Z"
        },
        "id": "zEem5V6Wc8bM",
        "outputId": "be9dfdf1-4275-48d4-ee46-512f253a77c5"
      },
      "outputs": [
        {
          "output_type": "execute_result",
          "data": {
            "text/plain": [
              "array([87.        , 64.        , 75.        , 74.66666667, 81.66666667,\n",
              "       78.        , 67.33333333, 59.        , 77.33333333, 48.66666667,\n",
              "       47.        , 26.        , 76.        , 58.33333333, 83.66666667,\n",
              "       75.        , 49.        , 48.33333333, 53.33333333, 61.33333333,\n",
              "       73.33333333, 49.33333333, 62.66666667, 44.        , 79.33333333,\n",
              "       77.33333333, 72.        , 50.        , 41.        , 55.66666667,\n",
              "       60.        , 67.        , 60.33333333, 73.        , 77.33333333,\n",
              "       51.        , 76.        , 74.33333333, 75.        ,  9.        ,\n",
              "       78.        , 64.33333333, 65.33333333, 61.33333333, 84.        ,\n",
              "       65.66666667, 71.        , 29.33333333, 86.33333333, 78.66666667,\n",
              "       72.        , 71.33333333, 78.66666667, 54.        , 71.66666667,\n",
              "       72.33333333, 83.        , 54.66666667, 81.66666667, 89.        ,\n",
              "       43.33333333, 80.66666667, 79.        , 61.66666667, 87.66666667,\n",
              "       73.66666667, 65.        , 54.66666667, 64.66666667, 88.66666667,\n",
              "       64.33333333, 86.33333333, 56.33333333, 50.        , 60.        ,\n",
              "       76.66666667, 89.66666667, 56.66666667, 59.66666667, 49.        ,\n",
              "       61.33333333, 39.66666667, 78.        , 68.66666667, 67.66666667,\n",
              "       64.33333333, 74.33333333, 68.        , 84.        , 23.33333333,\n",
              "       77.        , 96.33333333, 61.33333333, 71.        , 29.66666667,\n",
              "       69.        , 60.66666667, 65.        , 73.33333333, 64.66666667,\n",
              "       74.33333333, 58.33333333, 59.        , 68.33333333, 69.66666667,\n",
              "       65.        , 46.        , 75.66666667, 76.33333333, 52.33333333,\n",
              "       39.        , 80.        , 54.        , 56.        , 82.33333333,\n",
              "       57.33333333, 48.66666667, 48.        , 70.        , 78.33333333,\n",
              "       63.33333333, 63.66666667, 82.        , 73.33333333, 66.        ,\n",
              "       67.        , 76.        , 72.66666667, 48.        , 69.33333333,\n",
              "       76.        , 74.66666667, 47.33333333, 94.        , 68.66666667,\n",
              "       39.        , 86.66666667, 80.66666667, 73.        , 46.66666667,\n",
              "       53.33333333, 65.33333333, 57.66666667, 46.33333333, 79.        ,\n",
              "       54.        , 39.33333333, 72.66666667, 50.66666667, 80.        ,\n",
              "       77.66666667, 78.        , 61.66666667, 61.66666667, 88.33333333,\n",
              "       72.33333333, 52.66666667, 67.        , 75.        , 52.        ,\n",
              "       69.        , 66.        , 76.33333333, 53.33333333, 84.        ,\n",
              "       69.33333333, 45.33333333, 88.66666667, 66.        , 76.33333333,\n",
              "       82.33333333, 71.33333333, 88.        , 78.66666667, 54.66666667,\n",
              "       31.        , 52.66666667, 75.66666667, 92.        , 76.        ,\n",
              "       62.        , 70.        , 93.33333333, 59.        , 86.33333333,\n",
              "       60.33333333, 67.66666667, 55.66666667, 70.33333333, 85.66666667,\n",
              "       50.33333333, 58.33333333, 69.33333333, 77.66666667, 55.66666667,\n",
              "       55.        , 57.        , 77.        , 72.        , 69.        ])"
            ]
          },
          "metadata": {},
          "execution_count": 293
        }
      ],
      "source": [
        "y_test.values"
      ]
    },
    {
      "cell_type": "markdown",
      "metadata": {
        "id": "08Z7JIijkG8F"
      },
      "source": [
        "**Vamos criar uma tabela com a porcentagem de acertos para cada dado**"
      ]
    },
    {
      "cell_type": "code",
      "execution_count": 294,
      "metadata": {
        "execution": {
          "iopub.execute_input": "2022-07-05T01:07:40.588922Z",
          "iopub.status.busy": "2022-07-05T01:07:40.588438Z",
          "iopub.status.idle": "2022-07-05T01:07:40.596087Z",
          "shell.execute_reply": "2022-07-05T01:07:40.594620Z",
          "shell.execute_reply.started": "2022-07-05T01:07:40.588882Z"
        },
        "id": "XVSopcR-c8bM"
      },
      "outputs": [],
      "source": [
        "tabela_xgbr = pd.DataFrame()"
      ]
    },
    {
      "cell_type": "code",
      "execution_count": 295,
      "metadata": {
        "execution": {
          "iopub.execute_input": "2022-07-05T01:08:00.638005Z",
          "iopub.status.busy": "2022-07-05T01:08:00.637552Z",
          "iopub.status.idle": "2022-07-05T01:08:00.646545Z",
          "shell.execute_reply": "2022-07-05T01:08:00.645413Z",
          "shell.execute_reply.started": "2022-07-05T01:08:00.637972Z"
        },
        "id": "I96XCUNXc8bN"
      },
      "outputs": [],
      "source": [
        "tabela_xgbr[\"valores reais\"] = y_test"
      ]
    },
    {
      "cell_type": "code",
      "execution_count": 296,
      "metadata": {
        "execution": {
          "iopub.execute_input": "2022-07-05T01:08:27.467412Z",
          "iopub.status.busy": "2022-07-05T01:08:27.466894Z",
          "iopub.status.idle": "2022-07-05T01:08:27.474561Z",
          "shell.execute_reply": "2022-07-05T01:08:27.473152Z",
          "shell.execute_reply.started": "2022-07-05T01:08:27.467371Z"
        },
        "id": "aLkGND4Lc8bN"
      },
      "outputs": [],
      "source": [
        "tabela_xgbr[\"valores preditos\"] = y_pred_test_xgbr"
      ]
    },
    {
      "cell_type": "code",
      "execution_count": 297,
      "metadata": {
        "id": "ySKq7WYj6tuW"
      },
      "outputs": [],
      "source": [
        "tabela_xgbr[\"porcentagem de acerto %\"]= (y_test/y_pred_test_xgbr)*100"
      ]
    },
    {
      "cell_type": "code",
      "execution_count": 298,
      "metadata": {
        "id": "xoGWh5876tuW"
      },
      "outputs": [],
      "source": [
        "lista_num = []\n",
        "for c in tabela_xgbr[\"porcentagem de acerto %\"]:\n",
        "  if c > 100:\n",
        "    num = abs(c - 200)\n",
        "    lista_num.append(num)\n",
        "  else:\n",
        "    num = c\n",
        "    lista_num.append(num)\n",
        "  \n",
        "\n",
        "tabela_xgbr[\"porcentagem de acerto %\"]= lista_num"
      ]
    },
    {
      "cell_type": "code",
      "execution_count": 299,
      "metadata": {
        "colab": {
          "base_uri": "https://localhost:8080/",
          "height": 424
        },
        "id": "z-k7Efca6tuX",
        "outputId": "ada42fa0-d96a-4abe-9d23-7b781ba75dd0"
      },
      "outputs": [
        {
          "output_type": "execute_result",
          "data": {
            "text/plain": [
              "     valores reais  valores preditos  porcentagem de acerto %\n",
              "521      87.000000         86.434013                99.345181\n",
              "737      64.000000         63.975212                99.961254\n",
              "740      75.000000         74.916100                99.888007\n",
              "660      74.666667         74.117104                99.258521\n",
              "411      81.666667         81.624039                99.947775\n",
              "..             ...               ...                      ...\n",
              "408      55.000000         55.749546                98.655512\n",
              "332      57.000000         56.988865                99.980461\n",
              "208      77.000000         76.928085                99.906517\n",
              "613      72.000000         72.309021                99.572638\n",
              "78       69.000000         68.890541                99.841112\n",
              "\n",
              "[200 rows x 3 columns]"
            ],
            "text/html": [
              "\n",
              "  <div id=\"df-3f50a9f6-e336-40d9-8e27-e1f397c916ce\">\n",
              "    <div class=\"colab-df-container\">\n",
              "      <div>\n",
              "<style scoped>\n",
              "    .dataframe tbody tr th:only-of-type {\n",
              "        vertical-align: middle;\n",
              "    }\n",
              "\n",
              "    .dataframe tbody tr th {\n",
              "        vertical-align: top;\n",
              "    }\n",
              "\n",
              "    .dataframe thead th {\n",
              "        text-align: right;\n",
              "    }\n",
              "</style>\n",
              "<table border=\"1\" class=\"dataframe\">\n",
              "  <thead>\n",
              "    <tr style=\"text-align: right;\">\n",
              "      <th></th>\n",
              "      <th>valores reais</th>\n",
              "      <th>valores preditos</th>\n",
              "      <th>porcentagem de acerto %</th>\n",
              "    </tr>\n",
              "  </thead>\n",
              "  <tbody>\n",
              "    <tr>\n",
              "      <th>521</th>\n",
              "      <td>87.000000</td>\n",
              "      <td>86.434013</td>\n",
              "      <td>99.345181</td>\n",
              "    </tr>\n",
              "    <tr>\n",
              "      <th>737</th>\n",
              "      <td>64.000000</td>\n",
              "      <td>63.975212</td>\n",
              "      <td>99.961254</td>\n",
              "    </tr>\n",
              "    <tr>\n",
              "      <th>740</th>\n",
              "      <td>75.000000</td>\n",
              "      <td>74.916100</td>\n",
              "      <td>99.888007</td>\n",
              "    </tr>\n",
              "    <tr>\n",
              "      <th>660</th>\n",
              "      <td>74.666667</td>\n",
              "      <td>74.117104</td>\n",
              "      <td>99.258521</td>\n",
              "    </tr>\n",
              "    <tr>\n",
              "      <th>411</th>\n",
              "      <td>81.666667</td>\n",
              "      <td>81.624039</td>\n",
              "      <td>99.947775</td>\n",
              "    </tr>\n",
              "    <tr>\n",
              "      <th>...</th>\n",
              "      <td>...</td>\n",
              "      <td>...</td>\n",
              "      <td>...</td>\n",
              "    </tr>\n",
              "    <tr>\n",
              "      <th>408</th>\n",
              "      <td>55.000000</td>\n",
              "      <td>55.749546</td>\n",
              "      <td>98.655512</td>\n",
              "    </tr>\n",
              "    <tr>\n",
              "      <th>332</th>\n",
              "      <td>57.000000</td>\n",
              "      <td>56.988865</td>\n",
              "      <td>99.980461</td>\n",
              "    </tr>\n",
              "    <tr>\n",
              "      <th>208</th>\n",
              "      <td>77.000000</td>\n",
              "      <td>76.928085</td>\n",
              "      <td>99.906517</td>\n",
              "    </tr>\n",
              "    <tr>\n",
              "      <th>613</th>\n",
              "      <td>72.000000</td>\n",
              "      <td>72.309021</td>\n",
              "      <td>99.572638</td>\n",
              "    </tr>\n",
              "    <tr>\n",
              "      <th>78</th>\n",
              "      <td>69.000000</td>\n",
              "      <td>68.890541</td>\n",
              "      <td>99.841112</td>\n",
              "    </tr>\n",
              "  </tbody>\n",
              "</table>\n",
              "<p>200 rows × 3 columns</p>\n",
              "</div>\n",
              "      <button class=\"colab-df-convert\" onclick=\"convertToInteractive('df-3f50a9f6-e336-40d9-8e27-e1f397c916ce')\"\n",
              "              title=\"Convert this dataframe to an interactive table.\"\n",
              "              style=\"display:none;\">\n",
              "        \n",
              "  <svg xmlns=\"http://www.w3.org/2000/svg\" height=\"24px\"viewBox=\"0 0 24 24\"\n",
              "       width=\"24px\">\n",
              "    <path d=\"M0 0h24v24H0V0z\" fill=\"none\"/>\n",
              "    <path d=\"M18.56 5.44l.94 2.06.94-2.06 2.06-.94-2.06-.94-.94-2.06-.94 2.06-2.06.94zm-11 1L8.5 8.5l.94-2.06 2.06-.94-2.06-.94L8.5 2.5l-.94 2.06-2.06.94zm10 10l.94 2.06.94-2.06 2.06-.94-2.06-.94-.94-2.06-.94 2.06-2.06.94z\"/><path d=\"M17.41 7.96l-1.37-1.37c-.4-.4-.92-.59-1.43-.59-.52 0-1.04.2-1.43.59L10.3 9.45l-7.72 7.72c-.78.78-.78 2.05 0 2.83L4 21.41c.39.39.9.59 1.41.59.51 0 1.02-.2 1.41-.59l7.78-7.78 2.81-2.81c.8-.78.8-2.07 0-2.86zM5.41 20L4 18.59l7.72-7.72 1.47 1.35L5.41 20z\"/>\n",
              "  </svg>\n",
              "      </button>\n",
              "      \n",
              "  <style>\n",
              "    .colab-df-container {\n",
              "      display:flex;\n",
              "      flex-wrap:wrap;\n",
              "      gap: 12px;\n",
              "    }\n",
              "\n",
              "    .colab-df-convert {\n",
              "      background-color: #E8F0FE;\n",
              "      border: none;\n",
              "      border-radius: 50%;\n",
              "      cursor: pointer;\n",
              "      display: none;\n",
              "      fill: #1967D2;\n",
              "      height: 32px;\n",
              "      padding: 0 0 0 0;\n",
              "      width: 32px;\n",
              "    }\n",
              "\n",
              "    .colab-df-convert:hover {\n",
              "      background-color: #E2EBFA;\n",
              "      box-shadow: 0px 1px 2px rgba(60, 64, 67, 0.3), 0px 1px 3px 1px rgba(60, 64, 67, 0.15);\n",
              "      fill: #174EA6;\n",
              "    }\n",
              "\n",
              "    [theme=dark] .colab-df-convert {\n",
              "      background-color: #3B4455;\n",
              "      fill: #D2E3FC;\n",
              "    }\n",
              "\n",
              "    [theme=dark] .colab-df-convert:hover {\n",
              "      background-color: #434B5C;\n",
              "      box-shadow: 0px 1px 3px 1px rgba(0, 0, 0, 0.15);\n",
              "      filter: drop-shadow(0px 1px 2px rgba(0, 0, 0, 0.3));\n",
              "      fill: #FFFFFF;\n",
              "    }\n",
              "  </style>\n",
              "\n",
              "      <script>\n",
              "        const buttonEl =\n",
              "          document.querySelector('#df-3f50a9f6-e336-40d9-8e27-e1f397c916ce button.colab-df-convert');\n",
              "        buttonEl.style.display =\n",
              "          google.colab.kernel.accessAllowed ? 'block' : 'none';\n",
              "\n",
              "        async function convertToInteractive(key) {\n",
              "          const element = document.querySelector('#df-3f50a9f6-e336-40d9-8e27-e1f397c916ce');\n",
              "          const dataTable =\n",
              "            await google.colab.kernel.invokeFunction('convertToInteractive',\n",
              "                                                     [key], {});\n",
              "          if (!dataTable) return;\n",
              "\n",
              "          const docLinkHtml = 'Like what you see? Visit the ' +\n",
              "            '<a target=\"_blank\" href=https://colab.research.google.com/notebooks/data_table.ipynb>data table notebook</a>'\n",
              "            + ' to learn more about interactive tables.';\n",
              "          element.innerHTML = '';\n",
              "          dataTable['output_type'] = 'display_data';\n",
              "          await google.colab.output.renderOutput(dataTable, element);\n",
              "          const docLink = document.createElement('div');\n",
              "          docLink.innerHTML = docLinkHtml;\n",
              "          element.appendChild(docLink);\n",
              "        }\n",
              "      </script>\n",
              "    </div>\n",
              "  </div>\n",
              "  "
            ]
          },
          "metadata": {},
          "execution_count": 299
        }
      ],
      "source": [
        "tabela_xgbr"
      ]
    },
    {
      "cell_type": "markdown",
      "source": [
        "## **Intervalo de confiança do XGBoost - Vamos simular intervalos para amostras com 30 e 100 dados:**"
      ],
      "metadata": {
        "id": "SPNy7bmrlPvy"
      }
    },
    {
      "cell_type": "code",
      "source": [
        "from sklearn.metrics import accuracy_score\n",
        "from sklearn.model_selection import cross_val_score, KFold\n",
        "from scipy.stats import norm\n",
        "from scipy import stats\n",
        "from scipy.stats import t"
      ],
      "metadata": {
        "id": "_q6SjEsglPvy"
      },
      "execution_count": 300,
      "outputs": []
    },
    {
      "cell_type": "code",
      "source": [
        "df = pd.read_csv(\"StudentsPerformance.csv\")"
      ],
      "metadata": {
        "id": "vixTw5DYMlSY"
      },
      "execution_count": 303,
      "outputs": []
    },
    {
      "cell_type": "code",
      "source": [
        "curso_notas = df[[\"test preparation course\", \"math score\", \"reading score\", \"writing score\"]]\n",
        "df_notas = df[[\"math score\", \"reading score\", \"writing score\"]]"
      ],
      "metadata": {
        "id": "Y5mNiEQkMlSZ"
      },
      "execution_count": 304,
      "outputs": []
    },
    {
      "cell_type": "code",
      "source": [
        "lista_col = []\n",
        "lista_media = []\n",
        "for col in df_notas:\n",
        "    lista_col.append(col)\n",
        "for num in range(len(df_notas)):\n",
        "  media = (df_notas[lista_col[0]].iloc[num] + df_notas[lista_col[1]].iloc[num] + df_notas[lista_col[2]].iloc[num])/3\n",
        "  lista_media.append(media)\n",
        "curso_notas[\"media\"] = lista_media\n",
        "df[\"media\"] = lista_media\n",
        "df.head()"
      ],
      "metadata": {
        "colab": {
          "base_uri": "https://localhost:8080/",
          "height": 206
        },
        "outputId": "f656a20e-59cc-496e-f3dc-7046fd73a54f",
        "id": "mGXyHRZOMlSZ"
      },
      "execution_count": 305,
      "outputs": [
        {
          "output_type": "execute_result",
          "data": {
            "text/plain": [
              "   gender race/ethnicity parental level of education         lunch  \\\n",
              "0  female        group B           bachelor's degree      standard   \n",
              "1  female        group C                some college      standard   \n",
              "2  female        group B             master's degree      standard   \n",
              "3    male        group A          associate's degree  free/reduced   \n",
              "4    male        group C                some college      standard   \n",
              "\n",
              "  test preparation course  math score  reading score  writing score      media  \n",
              "0                    none          72             72             74  72.666667  \n",
              "1               completed          69             90             88  82.333333  \n",
              "2                    none          90             95             93  92.666667  \n",
              "3                    none          47             57             44  49.333333  \n",
              "4                    none          76             78             75  76.333333  "
            ],
            "text/html": [
              "\n",
              "  <div id=\"df-0e60da2f-ae50-4f61-8356-23806954082d\">\n",
              "    <div class=\"colab-df-container\">\n",
              "      <div>\n",
              "<style scoped>\n",
              "    .dataframe tbody tr th:only-of-type {\n",
              "        vertical-align: middle;\n",
              "    }\n",
              "\n",
              "    .dataframe tbody tr th {\n",
              "        vertical-align: top;\n",
              "    }\n",
              "\n",
              "    .dataframe thead th {\n",
              "        text-align: right;\n",
              "    }\n",
              "</style>\n",
              "<table border=\"1\" class=\"dataframe\">\n",
              "  <thead>\n",
              "    <tr style=\"text-align: right;\">\n",
              "      <th></th>\n",
              "      <th>gender</th>\n",
              "      <th>race/ethnicity</th>\n",
              "      <th>parental level of education</th>\n",
              "      <th>lunch</th>\n",
              "      <th>test preparation course</th>\n",
              "      <th>math score</th>\n",
              "      <th>reading score</th>\n",
              "      <th>writing score</th>\n",
              "      <th>media</th>\n",
              "    </tr>\n",
              "  </thead>\n",
              "  <tbody>\n",
              "    <tr>\n",
              "      <th>0</th>\n",
              "      <td>female</td>\n",
              "      <td>group B</td>\n",
              "      <td>bachelor's degree</td>\n",
              "      <td>standard</td>\n",
              "      <td>none</td>\n",
              "      <td>72</td>\n",
              "      <td>72</td>\n",
              "      <td>74</td>\n",
              "      <td>72.666667</td>\n",
              "    </tr>\n",
              "    <tr>\n",
              "      <th>1</th>\n",
              "      <td>female</td>\n",
              "      <td>group C</td>\n",
              "      <td>some college</td>\n",
              "      <td>standard</td>\n",
              "      <td>completed</td>\n",
              "      <td>69</td>\n",
              "      <td>90</td>\n",
              "      <td>88</td>\n",
              "      <td>82.333333</td>\n",
              "    </tr>\n",
              "    <tr>\n",
              "      <th>2</th>\n",
              "      <td>female</td>\n",
              "      <td>group B</td>\n",
              "      <td>master's degree</td>\n",
              "      <td>standard</td>\n",
              "      <td>none</td>\n",
              "      <td>90</td>\n",
              "      <td>95</td>\n",
              "      <td>93</td>\n",
              "      <td>92.666667</td>\n",
              "    </tr>\n",
              "    <tr>\n",
              "      <th>3</th>\n",
              "      <td>male</td>\n",
              "      <td>group A</td>\n",
              "      <td>associate's degree</td>\n",
              "      <td>free/reduced</td>\n",
              "      <td>none</td>\n",
              "      <td>47</td>\n",
              "      <td>57</td>\n",
              "      <td>44</td>\n",
              "      <td>49.333333</td>\n",
              "    </tr>\n",
              "    <tr>\n",
              "      <th>4</th>\n",
              "      <td>male</td>\n",
              "      <td>group C</td>\n",
              "      <td>some college</td>\n",
              "      <td>standard</td>\n",
              "      <td>none</td>\n",
              "      <td>76</td>\n",
              "      <td>78</td>\n",
              "      <td>75</td>\n",
              "      <td>76.333333</td>\n",
              "    </tr>\n",
              "  </tbody>\n",
              "</table>\n",
              "</div>\n",
              "      <button class=\"colab-df-convert\" onclick=\"convertToInteractive('df-0e60da2f-ae50-4f61-8356-23806954082d')\"\n",
              "              title=\"Convert this dataframe to an interactive table.\"\n",
              "              style=\"display:none;\">\n",
              "        \n",
              "  <svg xmlns=\"http://www.w3.org/2000/svg\" height=\"24px\"viewBox=\"0 0 24 24\"\n",
              "       width=\"24px\">\n",
              "    <path d=\"M0 0h24v24H0V0z\" fill=\"none\"/>\n",
              "    <path d=\"M18.56 5.44l.94 2.06.94-2.06 2.06-.94-2.06-.94-.94-2.06-.94 2.06-2.06.94zm-11 1L8.5 8.5l.94-2.06 2.06-.94-2.06-.94L8.5 2.5l-.94 2.06-2.06.94zm10 10l.94 2.06.94-2.06 2.06-.94-2.06-.94-.94-2.06-.94 2.06-2.06.94z\"/><path d=\"M17.41 7.96l-1.37-1.37c-.4-.4-.92-.59-1.43-.59-.52 0-1.04.2-1.43.59L10.3 9.45l-7.72 7.72c-.78.78-.78 2.05 0 2.83L4 21.41c.39.39.9.59 1.41.59.51 0 1.02-.2 1.41-.59l7.78-7.78 2.81-2.81c.8-.78.8-2.07 0-2.86zM5.41 20L4 18.59l7.72-7.72 1.47 1.35L5.41 20z\"/>\n",
              "  </svg>\n",
              "      </button>\n",
              "      \n",
              "  <style>\n",
              "    .colab-df-container {\n",
              "      display:flex;\n",
              "      flex-wrap:wrap;\n",
              "      gap: 12px;\n",
              "    }\n",
              "\n",
              "    .colab-df-convert {\n",
              "      background-color: #E8F0FE;\n",
              "      border: none;\n",
              "      border-radius: 50%;\n",
              "      cursor: pointer;\n",
              "      display: none;\n",
              "      fill: #1967D2;\n",
              "      height: 32px;\n",
              "      padding: 0 0 0 0;\n",
              "      width: 32px;\n",
              "    }\n",
              "\n",
              "    .colab-df-convert:hover {\n",
              "      background-color: #E2EBFA;\n",
              "      box-shadow: 0px 1px 2px rgba(60, 64, 67, 0.3), 0px 1px 3px 1px rgba(60, 64, 67, 0.15);\n",
              "      fill: #174EA6;\n",
              "    }\n",
              "\n",
              "    [theme=dark] .colab-df-convert {\n",
              "      background-color: #3B4455;\n",
              "      fill: #D2E3FC;\n",
              "    }\n",
              "\n",
              "    [theme=dark] .colab-df-convert:hover {\n",
              "      background-color: #434B5C;\n",
              "      box-shadow: 0px 1px 3px 1px rgba(0, 0, 0, 0.15);\n",
              "      filter: drop-shadow(0px 1px 2px rgba(0, 0, 0, 0.3));\n",
              "      fill: #FFFFFF;\n",
              "    }\n",
              "  </style>\n",
              "\n",
              "      <script>\n",
              "        const buttonEl =\n",
              "          document.querySelector('#df-0e60da2f-ae50-4f61-8356-23806954082d button.colab-df-convert');\n",
              "        buttonEl.style.display =\n",
              "          google.colab.kernel.accessAllowed ? 'block' : 'none';\n",
              "\n",
              "        async function convertToInteractive(key) {\n",
              "          const element = document.querySelector('#df-0e60da2f-ae50-4f61-8356-23806954082d');\n",
              "          const dataTable =\n",
              "            await google.colab.kernel.invokeFunction('convertToInteractive',\n",
              "                                                     [key], {});\n",
              "          if (!dataTable) return;\n",
              "\n",
              "          const docLinkHtml = 'Like what you see? Visit the ' +\n",
              "            '<a target=\"_blank\" href=https://colab.research.google.com/notebooks/data_table.ipynb>data table notebook</a>'\n",
              "            + ' to learn more about interactive tables.';\n",
              "          element.innerHTML = '';\n",
              "          dataTable['output_type'] = 'display_data';\n",
              "          await google.colab.output.renderOutput(dataTable, element);\n",
              "          const docLink = document.createElement('div');\n",
              "          docLink.innerHTML = docLinkHtml;\n",
              "          element.appendChild(docLink);\n",
              "        }\n",
              "      </script>\n",
              "    </div>\n",
              "  </div>\n",
              "  "
            ]
          },
          "metadata": {},
          "execution_count": 305
        }
      ]
    },
    {
      "cell_type": "markdown",
      "source": [
        "**Transformando as Features categóricas em numéricas - OrdinalEncoder() - Feature com mais de 2 dados diferentes.**"
      ],
      "metadata": {
        "id": "GhA18QqjMlSZ"
      }
    },
    {
      "cell_type": "code",
      "source": [
        "oe =  OrdinalEncoder()\n",
        "oe.fit(df[[\"test preparation course\"]])\n",
        "\n",
        "df[\"test preparation course\"] = oe.transform(df[[\"test preparation course\"]])"
      ],
      "metadata": {
        "id": "JYQR5ExDMlSa"
      },
      "execution_count": 314,
      "outputs": []
    },
    {
      "cell_type": "markdown",
      "source": [
        "**Vamos escalonar todas as Features, pois a amplitude entre os dados está muito grande, isso pode causar um viés no resultado final:**"
      ],
      "metadata": {
        "id": "1d6HobLBMlSa"
      }
    },
    {
      "cell_type": "code",
      "source": [
        "df.columns"
      ],
      "metadata": {
        "colab": {
          "base_uri": "https://localhost:8080/"
        },
        "outputId": "84a87a95-afdc-462c-ba6a-2129d7be8390",
        "id": "KP543cPAMlSa"
      },
      "execution_count": null,
      "outputs": [
        {
          "output_type": "execute_result",
          "data": {
            "text/plain": [
              "Index(['gender', 'race/ethnicity', 'parental level of education', 'lunch',\n",
              "       'test preparation course', 'math score', 'reading score',\n",
              "       'writing score', 'media'],\n",
              "      dtype='object')"
            ]
          },
          "metadata": {},
          "execution_count": 117
        }
      ]
    },
    {
      "cell_type": "code",
      "source": [
        "ssc = StandardScaler()\n",
        "\n",
        "ssc.fit(df[['gender', 'race/ethnicity', 'parental level of education', 'lunch', 'test preparation course', 'math score', 'reading score','writing score']])\n",
        "h= ssc.transform(df[['gender', 'race/ethnicity', 'parental level of education', 'lunch', 'test preparation course', 'math score', 'reading score', 'writing score']])\n",
        "df[['gender', 'race/ethnicity', 'parental level of education', 'lunch', 'test preparation course', 'math score', 'reading score', 'writing score']] = h"
      ],
      "metadata": {
        "id": "Bj53zT0TMlSa"
      },
      "execution_count": 316,
      "outputs": []
    },
    {
      "cell_type": "code",
      "source": [
        "#Separando o que é features e target:\n",
        "X = df.drop(columns=\"media\")\n",
        "y = df[\"media\"]"
      ],
      "metadata": {
        "id": "cNX3XnJ4MlSb"
      },
      "execution_count": 317,
      "outputs": []
    },
    {
      "cell_type": "code",
      "source": [
        "X = np.array(X)"
      ],
      "metadata": {
        "id": "GzI-sTbDMlSb"
      },
      "execution_count": 318,
      "outputs": []
    },
    {
      "cell_type": "markdown",
      "source": [
        "**Com 30 e 90 amostras**"
      ],
      "metadata": {
        "id": "qlkfq5ohlPv1"
      }
    },
    {
      "cell_type": "code",
      "source": [
        "resultados_xgbr_cv_30 = []\n",
        "resultados_xgbr_cv_100 = []\n",
        "for i in range(10):\n",
        "  kfold = KFold(n_splits = 10, shuffle = True, random_state = i)\n",
        "  \n",
        "  xgbr = XGBRegressor()\n",
        "  scores = cross_val_score(xgbr, X, y, cv = kfold)\n",
        "  resultados_xgbr_cv_100.append(scores)\n",
        "  resultados_xgbr_cv_30.append(scores.mean())"
      ],
      "metadata": {
        "id": "9iqNqU9ilPv1"
      },
      "execution_count": null,
      "outputs": []
    },
    {
      "cell_type": "code",
      "source": [
        "scores"
      ],
      "metadata": {
        "colab": {
          "base_uri": "https://localhost:8080/"
        },
        "outputId": "b9588ddb-fb71-4b71-8821-21b48cb293d1",
        "id": "K203AuAYlPv1"
      },
      "execution_count": 320,
      "outputs": [
        {
          "output_type": "execute_result",
          "data": {
            "text/plain": [
              "array([0.99774387, 0.99846307, 0.99790529, 0.99780912, 0.99820824,\n",
              "       0.99843955, 0.99817466, 0.99177369, 0.99768445, 0.99584223])"
            ]
          },
          "metadata": {},
          "execution_count": 320
        }
      ]
    },
    {
      "cell_type": "code",
      "source": [
        "resultados_xgbr_cv_30 = np.array(resultados_xgbr_cv_30)\n",
        "resultados_xgbr_cv_100 = np.array(np.asarray(resultados_xgbr_cv_100).reshape(-1))"
      ],
      "metadata": {
        "id": "P_g_6aB1lPv2"
      },
      "execution_count": 321,
      "outputs": []
    },
    {
      "cell_type": "code",
      "source": [
        "len(resultados_rf_cv_30)"
      ],
      "metadata": {
        "colab": {
          "base_uri": "https://localhost:8080/"
        },
        "outputId": "ce2a9525-121c-4150-9bb9-2ac53378b57d",
        "id": "Elv2-ug9lPv2"
      },
      "execution_count": 322,
      "outputs": [
        {
          "output_type": "execute_result",
          "data": {
            "text/plain": [
              "10"
            ]
          },
          "metadata": {},
          "execution_count": 322
        }
      ]
    },
    {
      "cell_type": "markdown",
      "source": [
        "**Para 30 amostras usamos o t-student:**"
      ],
      "metadata": {
        "id": "lUqhGvjslPv2"
      }
    },
    {
      "cell_type": "code",
      "source": [
        "intervalos_xgbr_t = t.interval(0.95, len(resultados_xgbr_cv_30) - 1, \n",
        "                                    resultados_xgbr_cv_30.mean(), \n",
        "                                    stats.sem(resultados_xgbr_cv_30, ddof = 0))\n",
        "intervalos_xgbr_t"
      ],
      "metadata": {
        "colab": {
          "base_uri": "https://localhost:8080/"
        },
        "outputId": "a923e584-82a5-4af8-f0d9-3469cffe87a8",
        "id": "IKrjcPX9lPv2"
      },
      "execution_count": 323,
      "outputs": [
        {
          "output_type": "execute_result",
          "data": {
            "text/plain": [
              "(0.9973661237090807, 0.9975139670780697)"
            ]
          },
          "metadata": {},
          "execution_count": 323
        }
      ]
    },
    {
      "cell_type": "markdown",
      "source": [
        "**Variação do intervalo:**"
      ],
      "metadata": {
        "id": "n-hM3SlGlPv2"
      }
    },
    {
      "cell_type": "code",
      "source": [
        "abs(resultados_xgbr_cv_30.mean() - intervalos_xgbr_t[1])"
      ],
      "metadata": {
        "colab": {
          "base_uri": "https://localhost:8080/"
        },
        "outputId": "1f6c8c2d-f281-4aab-cb04-9d31c2f5ed1b",
        "id": "eLTteWC2lPv3"
      },
      "execution_count": 324,
      "outputs": [
        {
          "output_type": "execute_result",
          "data": {
            "text/plain": [
              "7.392168449449343e-05"
            ]
          },
          "metadata": {},
          "execution_count": 324
        }
      ]
    },
    {
      "cell_type": "code",
      "source": [
        "print(f\"Temos 95% de confiança de que a média de acertos do XGBoost com 30 amostras está no intervalo entre {intervalos_xgbr_t[0]*100:.2f} % e {intervalos_xgbr_t[1]*100:.2f} %\")"
      ],
      "metadata": {
        "colab": {
          "base_uri": "https://localhost:8080/"
        },
        "outputId": "337dd6f2-736b-47b8-ad00-0440ae21b1a2",
        "id": "Yw_oxqB2lPv3"
      },
      "execution_count": 325,
      "outputs": [
        {
          "output_type": "stream",
          "name": "stdout",
          "text": [
            "Temos 95% de confiança de que a média de acertos do XGBoost com 30 amostras está no intervalo entre 99.74 % e 99.75 %\n"
          ]
        }
      ]
    },
    {
      "cell_type": "markdown",
      "source": [
        "**Média do score:**"
      ],
      "metadata": {
        "id": "RBBXJalKlPv3"
      }
    },
    {
      "cell_type": "code",
      "source": [
        "pd.DataFrame(resultados_xgbr_cv_30).mean()[0]"
      ],
      "metadata": {
        "colab": {
          "base_uri": "https://localhost:8080/"
        },
        "outputId": "fc542775-6894-47a1-a8ef-be9a001c8ab6",
        "id": "Ary20EI4lPv3"
      },
      "execution_count": 326,
      "outputs": [
        {
          "output_type": "execute_result",
          "data": {
            "text/plain": [
              "0.9974400453935752"
            ]
          },
          "metadata": {},
          "execution_count": 326
        }
      ]
    },
    {
      "cell_type": "markdown",
      "source": [
        "\n",
        "\n",
        "---\n",
        "\n"
      ],
      "metadata": {
        "id": "-DbFNZfAlPv3"
      }
    },
    {
      "cell_type": "markdown",
      "source": [
        "**Para 100 amostras**"
      ],
      "metadata": {
        "id": "OUZZtAPxlPv4"
      }
    },
    {
      "cell_type": "code",
      "source": [
        "intervalos_xgbr_n = norm.interval(0.95, resultados_xgbr_cv_100.mean(), \n",
        "                                       stats.sem(resultados_xgbr_cv_100))\n",
        "intervalos_xgbr_n"
      ],
      "metadata": {
        "colab": {
          "base_uri": "https://localhost:8080/"
        },
        "outputId": "35032fcc-59c0-4335-c904-a7b658957275",
        "id": "Di9o-NMGlPv4"
      },
      "execution_count": 327,
      "outputs": [
        {
          "output_type": "execute_result",
          "data": {
            "text/plain": [
              "(0.9971194046112308, 0.9977606861759198)"
            ]
          },
          "metadata": {},
          "execution_count": 327
        }
      ]
    },
    {
      "cell_type": "markdown",
      "source": [
        "**Para 100 amostras ele acabou aumentando a margem de erro em relação ao de 30 amostras, o que é esperado.**"
      ],
      "metadata": {
        "id": "YJq8pi3PlPv4"
      }
    },
    {
      "cell_type": "markdown",
      "source": [
        "**Variação do intervalo:**"
      ],
      "metadata": {
        "id": "ezGtSMmPlPv4"
      }
    },
    {
      "cell_type": "code",
      "source": [
        "abs(resultados_xgbr_cv_100.mean() - intervalos_xgbr_n[1])"
      ],
      "metadata": {
        "colab": {
          "base_uri": "https://localhost:8080/"
        },
        "outputId": "6f903d36-c1d8-4aad-9a9a-d471335b9f5f",
        "id": "RJHTY32alPv4"
      },
      "execution_count": 328,
      "outputs": [
        {
          "output_type": "execute_result",
          "data": {
            "text/plain": [
              "0.00032064078234450566"
            ]
          },
          "metadata": {},
          "execution_count": 328
        }
      ]
    },
    {
      "cell_type": "code",
      "source": [
        "print(f\"Temos 95% de confiança de que a média de acertos do XGBoost com 90 amostras está no intervalo entre {intervalos_xgbr_n[0]*100:.2f}% e {intervalos_xgbr_n[1]*100:.2f}%\")"
      ],
      "metadata": {
        "colab": {
          "base_uri": "https://localhost:8080/"
        },
        "outputId": "27446e91-9b4e-4ffe-ccb4-ad02ee9203ce",
        "id": "p8b4lNh_lPv5"
      },
      "execution_count": 329,
      "outputs": [
        {
          "output_type": "stream",
          "name": "stdout",
          "text": [
            "Temos 95% de confiança de que a média de acertos do XGBoost com 90 amostras está no intervalo entre 99.71% e 99.78%\n"
          ]
        }
      ]
    },
    {
      "cell_type": "markdown",
      "source": [
        "**Média do score:**"
      ],
      "metadata": {
        "id": "uHHTgNdklPv4"
      }
    },
    {
      "cell_type": "code",
      "source": [
        "resultado_100 = resultados_xgbr_cv_100\n",
        "resultado_100 = (resultado_100[0] + resultado_100[1] + resultado_100[2])/3\n",
        "resultado_100"
      ],
      "metadata": {
        "colab": {
          "base_uri": "https://localhost:8080/"
        },
        "outputId": "2ffc1d41-391f-4d4a-ba1e-22eb19ddc0d5",
        "id": "Z6dVnUQ0lPv5"
      },
      "execution_count": 330,
      "outputs": [
        {
          "output_type": "execute_result",
          "data": {
            "text/plain": [
              "0.9982290689381452"
            ]
          },
          "metadata": {},
          "execution_count": 330
        }
      ]
    },
    {
      "cell_type": "code",
      "source": [
        ""
      ],
      "metadata": {
        "id": "MmfVcjQyr-IE"
      },
      "execution_count": null,
      "outputs": []
    },
    {
      "cell_type": "markdown",
      "metadata": {
        "id": "eJHNWP3kV8iS"
      },
      "source": [
        "#**INTERPRETANDO O MODELO GLOBALMENTE**"
      ]
    },
    {
      "cell_type": "markdown",
      "metadata": {
        "id": "Qp1fQ46lWPTk"
      },
      "source": [
        "**Para a interpretação só podemos considerar as features numéricas, vamos retirar as features categóricas:**"
      ]
    },
    {
      "cell_type": "markdown",
      "metadata": {
        "id": "8Af3Hpzq9URP"
      },
      "source": [
        "**SHAP**"
      ]
    },
    {
      "cell_type": "code",
      "execution_count": null,
      "metadata": {
        "colab": {
          "base_uri": "https://localhost:8080/",
          "height": 236
        },
        "id": "Qqhx9dpN-gSF",
        "outputId": "d4980a26-30a4-4461-f50a-4da15ae6ff71"
      },
      "outputs": [
        {
          "data": {
            "text/html": [
              "\n",
              "  <div id=\"df-0ae7290b-7e89-43ca-b779-fbb4911eae57\">\n",
              "    <div class=\"colab-df-container\">\n",
              "      <div>\n",
              "<style scoped>\n",
              "    .dataframe tbody tr th:only-of-type {\n",
              "        vertical-align: middle;\n",
              "    }\n",
              "\n",
              "    .dataframe tbody tr th {\n",
              "        vertical-align: top;\n",
              "    }\n",
              "\n",
              "    .dataframe thead th {\n",
              "        text-align: right;\n",
              "    }\n",
              "</style>\n",
              "<table border=\"1\" class=\"dataframe\">\n",
              "  <thead>\n",
              "    <tr style=\"text-align: right;\">\n",
              "      <th></th>\n",
              "      <th>Suburb</th>\n",
              "      <th>Address</th>\n",
              "      <th>Rooms</th>\n",
              "      <th>Type</th>\n",
              "      <th>Price</th>\n",
              "      <th>Method</th>\n",
              "      <th>SellerG</th>\n",
              "      <th>Date</th>\n",
              "      <th>Distance</th>\n",
              "      <th>Postcode</th>\n",
              "      <th>...</th>\n",
              "      <th>Bathroom</th>\n",
              "      <th>Car</th>\n",
              "      <th>Landsize</th>\n",
              "      <th>BuildingArea</th>\n",
              "      <th>YearBuilt</th>\n",
              "      <th>CouncilArea</th>\n",
              "      <th>Lattitude</th>\n",
              "      <th>Longtitude</th>\n",
              "      <th>Regionname</th>\n",
              "      <th>Propertycount</th>\n",
              "    </tr>\n",
              "  </thead>\n",
              "  <tbody>\n",
              "    <tr>\n",
              "      <th>0</th>\n",
              "      <td>Abbotsford</td>\n",
              "      <td>85 Turner St</td>\n",
              "      <td>2</td>\n",
              "      <td>h</td>\n",
              "      <td>1480000.0</td>\n",
              "      <td>S</td>\n",
              "      <td>Biggin</td>\n",
              "      <td>3/12/2016</td>\n",
              "      <td>2.5</td>\n",
              "      <td>3067.0</td>\n",
              "      <td>...</td>\n",
              "      <td>1.0</td>\n",
              "      <td>1.0</td>\n",
              "      <td>202.0</td>\n",
              "      <td>NaN</td>\n",
              "      <td>NaN</td>\n",
              "      <td>Yarra</td>\n",
              "      <td>-37.7996</td>\n",
              "      <td>144.9984</td>\n",
              "      <td>Northern Metropolitan</td>\n",
              "      <td>4019.0</td>\n",
              "    </tr>\n",
              "    <tr>\n",
              "      <th>1</th>\n",
              "      <td>Abbotsford</td>\n",
              "      <td>25 Bloomburg St</td>\n",
              "      <td>2</td>\n",
              "      <td>h</td>\n",
              "      <td>1035000.0</td>\n",
              "      <td>S</td>\n",
              "      <td>Biggin</td>\n",
              "      <td>4/02/2016</td>\n",
              "      <td>2.5</td>\n",
              "      <td>3067.0</td>\n",
              "      <td>...</td>\n",
              "      <td>1.0</td>\n",
              "      <td>0.0</td>\n",
              "      <td>156.0</td>\n",
              "      <td>79.0</td>\n",
              "      <td>1900.0</td>\n",
              "      <td>Yarra</td>\n",
              "      <td>-37.8079</td>\n",
              "      <td>144.9934</td>\n",
              "      <td>Northern Metropolitan</td>\n",
              "      <td>4019.0</td>\n",
              "    </tr>\n",
              "    <tr>\n",
              "      <th>2</th>\n",
              "      <td>Abbotsford</td>\n",
              "      <td>5 Charles St</td>\n",
              "      <td>3</td>\n",
              "      <td>h</td>\n",
              "      <td>1465000.0</td>\n",
              "      <td>SP</td>\n",
              "      <td>Biggin</td>\n",
              "      <td>4/03/2017</td>\n",
              "      <td>2.5</td>\n",
              "      <td>3067.0</td>\n",
              "      <td>...</td>\n",
              "      <td>2.0</td>\n",
              "      <td>0.0</td>\n",
              "      <td>134.0</td>\n",
              "      <td>150.0</td>\n",
              "      <td>1900.0</td>\n",
              "      <td>Yarra</td>\n",
              "      <td>-37.8093</td>\n",
              "      <td>144.9944</td>\n",
              "      <td>Northern Metropolitan</td>\n",
              "      <td>4019.0</td>\n",
              "    </tr>\n",
              "    <tr>\n",
              "      <th>3</th>\n",
              "      <td>Abbotsford</td>\n",
              "      <td>40 Federation La</td>\n",
              "      <td>3</td>\n",
              "      <td>h</td>\n",
              "      <td>850000.0</td>\n",
              "      <td>PI</td>\n",
              "      <td>Biggin</td>\n",
              "      <td>4/03/2017</td>\n",
              "      <td>2.5</td>\n",
              "      <td>3067.0</td>\n",
              "      <td>...</td>\n",
              "      <td>2.0</td>\n",
              "      <td>1.0</td>\n",
              "      <td>94.0</td>\n",
              "      <td>NaN</td>\n",
              "      <td>NaN</td>\n",
              "      <td>Yarra</td>\n",
              "      <td>-37.7969</td>\n",
              "      <td>144.9969</td>\n",
              "      <td>Northern Metropolitan</td>\n",
              "      <td>4019.0</td>\n",
              "    </tr>\n",
              "    <tr>\n",
              "      <th>4</th>\n",
              "      <td>Abbotsford</td>\n",
              "      <td>55a Park St</td>\n",
              "      <td>4</td>\n",
              "      <td>h</td>\n",
              "      <td>1600000.0</td>\n",
              "      <td>VB</td>\n",
              "      <td>Nelson</td>\n",
              "      <td>4/06/2016</td>\n",
              "      <td>2.5</td>\n",
              "      <td>3067.0</td>\n",
              "      <td>...</td>\n",
              "      <td>1.0</td>\n",
              "      <td>2.0</td>\n",
              "      <td>120.0</td>\n",
              "      <td>142.0</td>\n",
              "      <td>2014.0</td>\n",
              "      <td>Yarra</td>\n",
              "      <td>-37.8072</td>\n",
              "      <td>144.9941</td>\n",
              "      <td>Northern Metropolitan</td>\n",
              "      <td>4019.0</td>\n",
              "    </tr>\n",
              "  </tbody>\n",
              "</table>\n",
              "<p>5 rows × 21 columns</p>\n",
              "</div>\n",
              "      <button class=\"colab-df-convert\" onclick=\"convertToInteractive('df-0ae7290b-7e89-43ca-b779-fbb4911eae57')\"\n",
              "              title=\"Convert this dataframe to an interactive table.\"\n",
              "              style=\"display:none;\">\n",
              "        \n",
              "  <svg xmlns=\"http://www.w3.org/2000/svg\" height=\"24px\"viewBox=\"0 0 24 24\"\n",
              "       width=\"24px\">\n",
              "    <path d=\"M0 0h24v24H0V0z\" fill=\"none\"/>\n",
              "    <path d=\"M18.56 5.44l.94 2.06.94-2.06 2.06-.94-2.06-.94-.94-2.06-.94 2.06-2.06.94zm-11 1L8.5 8.5l.94-2.06 2.06-.94-2.06-.94L8.5 2.5l-.94 2.06-2.06.94zm10 10l.94 2.06.94-2.06 2.06-.94-2.06-.94-.94-2.06-.94 2.06-2.06.94z\"/><path d=\"M17.41 7.96l-1.37-1.37c-.4-.4-.92-.59-1.43-.59-.52 0-1.04.2-1.43.59L10.3 9.45l-7.72 7.72c-.78.78-.78 2.05 0 2.83L4 21.41c.39.39.9.59 1.41.59.51 0 1.02-.2 1.41-.59l7.78-7.78 2.81-2.81c.8-.78.8-2.07 0-2.86zM5.41 20L4 18.59l7.72-7.72 1.47 1.35L5.41 20z\"/>\n",
              "  </svg>\n",
              "      </button>\n",
              "      \n",
              "  <style>\n",
              "    .colab-df-container {\n",
              "      display:flex;\n",
              "      flex-wrap:wrap;\n",
              "      gap: 12px;\n",
              "    }\n",
              "\n",
              "    .colab-df-convert {\n",
              "      background-color: #E8F0FE;\n",
              "      border: none;\n",
              "      border-radius: 50%;\n",
              "      cursor: pointer;\n",
              "      display: none;\n",
              "      fill: #1967D2;\n",
              "      height: 32px;\n",
              "      padding: 0 0 0 0;\n",
              "      width: 32px;\n",
              "    }\n",
              "\n",
              "    .colab-df-convert:hover {\n",
              "      background-color: #E2EBFA;\n",
              "      box-shadow: 0px 1px 2px rgba(60, 64, 67, 0.3), 0px 1px 3px 1px rgba(60, 64, 67, 0.15);\n",
              "      fill: #174EA6;\n",
              "    }\n",
              "\n",
              "    [theme=dark] .colab-df-convert {\n",
              "      background-color: #3B4455;\n",
              "      fill: #D2E3FC;\n",
              "    }\n",
              "\n",
              "    [theme=dark] .colab-df-convert:hover {\n",
              "      background-color: #434B5C;\n",
              "      box-shadow: 0px 1px 3px 1px rgba(0, 0, 0, 0.15);\n",
              "      filter: drop-shadow(0px 1px 2px rgba(0, 0, 0, 0.3));\n",
              "      fill: #FFFFFF;\n",
              "    }\n",
              "  </style>\n",
              "\n",
              "      <script>\n",
              "        const buttonEl =\n",
              "          document.querySelector('#df-0ae7290b-7e89-43ca-b779-fbb4911eae57 button.colab-df-convert');\n",
              "        buttonEl.style.display =\n",
              "          google.colab.kernel.accessAllowed ? 'block' : 'none';\n",
              "\n",
              "        async function convertToInteractive(key) {\n",
              "          const element = document.querySelector('#df-0ae7290b-7e89-43ca-b779-fbb4911eae57');\n",
              "          const dataTable =\n",
              "            await google.colab.kernel.invokeFunction('convertToInteractive',\n",
              "                                                     [key], {});\n",
              "          if (!dataTable) return;\n",
              "\n",
              "          const docLinkHtml = 'Like what you see? Visit the ' +\n",
              "            '<a target=\"_blank\" href=https://colab.research.google.com/notebooks/data_table.ipynb>data table notebook</a>'\n",
              "            + ' to learn more about interactive tables.';\n",
              "          element.innerHTML = '';\n",
              "          dataTable['output_type'] = 'display_data';\n",
              "          await google.colab.output.renderOutput(dataTable, element);\n",
              "          const docLink = document.createElement('div');\n",
              "          docLink.innerHTML = docLinkHtml;\n",
              "          element.appendChild(docLink);\n",
              "        }\n",
              "      </script>\n",
              "    </div>\n",
              "  </div>\n",
              "  "
            ],
            "text/plain": [
              "       Suburb           Address  Rooms Type      Price Method SellerG  \\\n",
              "0  Abbotsford      85 Turner St      2    h  1480000.0      S  Biggin   \n",
              "1  Abbotsford   25 Bloomburg St      2    h  1035000.0      S  Biggin   \n",
              "2  Abbotsford      5 Charles St      3    h  1465000.0     SP  Biggin   \n",
              "3  Abbotsford  40 Federation La      3    h   850000.0     PI  Biggin   \n",
              "4  Abbotsford       55a Park St      4    h  1600000.0     VB  Nelson   \n",
              "\n",
              "        Date  Distance  Postcode  ...  Bathroom  Car  Landsize  BuildingArea  \\\n",
              "0  3/12/2016       2.5    3067.0  ...       1.0  1.0     202.0           NaN   \n",
              "1  4/02/2016       2.5    3067.0  ...       1.0  0.0     156.0          79.0   \n",
              "2  4/03/2017       2.5    3067.0  ...       2.0  0.0     134.0         150.0   \n",
              "3  4/03/2017       2.5    3067.0  ...       2.0  1.0      94.0           NaN   \n",
              "4  4/06/2016       2.5    3067.0  ...       1.0  2.0     120.0         142.0   \n",
              "\n",
              "   YearBuilt  CouncilArea Lattitude  Longtitude             Regionname  \\\n",
              "0        NaN        Yarra  -37.7996    144.9984  Northern Metropolitan   \n",
              "1     1900.0        Yarra  -37.8079    144.9934  Northern Metropolitan   \n",
              "2     1900.0        Yarra  -37.8093    144.9944  Northern Metropolitan   \n",
              "3        NaN        Yarra  -37.7969    144.9969  Northern Metropolitan   \n",
              "4     2014.0        Yarra  -37.8072    144.9941  Northern Metropolitan   \n",
              "\n",
              "  Propertycount  \n",
              "0        4019.0  \n",
              "1        4019.0  \n",
              "2        4019.0  \n",
              "3        4019.0  \n",
              "4        4019.0  \n",
              "\n",
              "[5 rows x 21 columns]"
            ]
          },
          "execution_count": 124,
          "metadata": {},
          "output_type": "execute_result"
        }
      ],
      "source": [
        "df"
      ]
    },
    {
      "cell_type": "code",
      "execution_count": 337,
      "metadata": {
        "id": "S50sBRDIPYbo",
        "colab": {
          "base_uri": "https://localhost:8080/"
        },
        "outputId": "1511966a-15c2-4281-99bc-2d99eee3c64c"
      },
      "outputs": [
        {
          "output_type": "execute_result",
          "data": {
            "text/plain": [
              "Index(['gender', 'race/ethnicity', 'parental level of education', 'lunch',\n",
              "       'test preparation course', 'math score', 'reading score',\n",
              "       'writing score'],\n",
              "      dtype='object')"
            ]
          },
          "metadata": {},
          "execution_count": 337
        }
      ],
      "source": [
        "df = pd.read_csv(\"StudentsPerformance.csv\")\n",
        "df.columns"
      ]
    },
    {
      "cell_type": "code",
      "source": [
        "curso_notas = df[[\"test preparation course\", \"math score\", \"reading score\", \"writing score\"]]\n",
        "df_notas = df[[\"math score\", \"reading score\", \"writing score\"]]"
      ],
      "metadata": {
        "id": "UsHJmU4oN-m5"
      },
      "execution_count": 338,
      "outputs": []
    },
    {
      "cell_type": "code",
      "source": [
        "lista_col = []\n",
        "lista_media = []\n",
        "for col in df_notas:\n",
        "    lista_col.append(col)\n",
        "for num in range(len(df_notas)):\n",
        "  media = (df_notas[lista_col[0]].iloc[num] + df_notas[lista_col[1]].iloc[num] + df_notas[lista_col[2]].iloc[num])/3\n",
        "  lista_media.append(media)\n",
        "curso_notas[\"media\"] = lista_media\n",
        "df[\"media\"] = lista_media\n",
        "df.head()"
      ],
      "metadata": {
        "colab": {
          "base_uri": "https://localhost:8080/",
          "height": 206
        },
        "outputId": "6a7fbacb-0a4f-4cf0-cef5-b1c4fe91a2ac",
        "id": "_Ltf4demN-m6"
      },
      "execution_count": 339,
      "outputs": [
        {
          "output_type": "execute_result",
          "data": {
            "text/plain": [
              "   gender race/ethnicity parental level of education         lunch  \\\n",
              "0  female        group B           bachelor's degree      standard   \n",
              "1  female        group C                some college      standard   \n",
              "2  female        group B             master's degree      standard   \n",
              "3    male        group A          associate's degree  free/reduced   \n",
              "4    male        group C                some college      standard   \n",
              "\n",
              "  test preparation course  math score  reading score  writing score      media  \n",
              "0                    none          72             72             74  72.666667  \n",
              "1               completed          69             90             88  82.333333  \n",
              "2                    none          90             95             93  92.666667  \n",
              "3                    none          47             57             44  49.333333  \n",
              "4                    none          76             78             75  76.333333  "
            ],
            "text/html": [
              "\n",
              "  <div id=\"df-dacfd30c-5c06-4184-8039-e13c21de4a22\">\n",
              "    <div class=\"colab-df-container\">\n",
              "      <div>\n",
              "<style scoped>\n",
              "    .dataframe tbody tr th:only-of-type {\n",
              "        vertical-align: middle;\n",
              "    }\n",
              "\n",
              "    .dataframe tbody tr th {\n",
              "        vertical-align: top;\n",
              "    }\n",
              "\n",
              "    .dataframe thead th {\n",
              "        text-align: right;\n",
              "    }\n",
              "</style>\n",
              "<table border=\"1\" class=\"dataframe\">\n",
              "  <thead>\n",
              "    <tr style=\"text-align: right;\">\n",
              "      <th></th>\n",
              "      <th>gender</th>\n",
              "      <th>race/ethnicity</th>\n",
              "      <th>parental level of education</th>\n",
              "      <th>lunch</th>\n",
              "      <th>test preparation course</th>\n",
              "      <th>math score</th>\n",
              "      <th>reading score</th>\n",
              "      <th>writing score</th>\n",
              "      <th>media</th>\n",
              "    </tr>\n",
              "  </thead>\n",
              "  <tbody>\n",
              "    <tr>\n",
              "      <th>0</th>\n",
              "      <td>female</td>\n",
              "      <td>group B</td>\n",
              "      <td>bachelor's degree</td>\n",
              "      <td>standard</td>\n",
              "      <td>none</td>\n",
              "      <td>72</td>\n",
              "      <td>72</td>\n",
              "      <td>74</td>\n",
              "      <td>72.666667</td>\n",
              "    </tr>\n",
              "    <tr>\n",
              "      <th>1</th>\n",
              "      <td>female</td>\n",
              "      <td>group C</td>\n",
              "      <td>some college</td>\n",
              "      <td>standard</td>\n",
              "      <td>completed</td>\n",
              "      <td>69</td>\n",
              "      <td>90</td>\n",
              "      <td>88</td>\n",
              "      <td>82.333333</td>\n",
              "    </tr>\n",
              "    <tr>\n",
              "      <th>2</th>\n",
              "      <td>female</td>\n",
              "      <td>group B</td>\n",
              "      <td>master's degree</td>\n",
              "      <td>standard</td>\n",
              "      <td>none</td>\n",
              "      <td>90</td>\n",
              "      <td>95</td>\n",
              "      <td>93</td>\n",
              "      <td>92.666667</td>\n",
              "    </tr>\n",
              "    <tr>\n",
              "      <th>3</th>\n",
              "      <td>male</td>\n",
              "      <td>group A</td>\n",
              "      <td>associate's degree</td>\n",
              "      <td>free/reduced</td>\n",
              "      <td>none</td>\n",
              "      <td>47</td>\n",
              "      <td>57</td>\n",
              "      <td>44</td>\n",
              "      <td>49.333333</td>\n",
              "    </tr>\n",
              "    <tr>\n",
              "      <th>4</th>\n",
              "      <td>male</td>\n",
              "      <td>group C</td>\n",
              "      <td>some college</td>\n",
              "      <td>standard</td>\n",
              "      <td>none</td>\n",
              "      <td>76</td>\n",
              "      <td>78</td>\n",
              "      <td>75</td>\n",
              "      <td>76.333333</td>\n",
              "    </tr>\n",
              "  </tbody>\n",
              "</table>\n",
              "</div>\n",
              "      <button class=\"colab-df-convert\" onclick=\"convertToInteractive('df-dacfd30c-5c06-4184-8039-e13c21de4a22')\"\n",
              "              title=\"Convert this dataframe to an interactive table.\"\n",
              "              style=\"display:none;\">\n",
              "        \n",
              "  <svg xmlns=\"http://www.w3.org/2000/svg\" height=\"24px\"viewBox=\"0 0 24 24\"\n",
              "       width=\"24px\">\n",
              "    <path d=\"M0 0h24v24H0V0z\" fill=\"none\"/>\n",
              "    <path d=\"M18.56 5.44l.94 2.06.94-2.06 2.06-.94-2.06-.94-.94-2.06-.94 2.06-2.06.94zm-11 1L8.5 8.5l.94-2.06 2.06-.94-2.06-.94L8.5 2.5l-.94 2.06-2.06.94zm10 10l.94 2.06.94-2.06 2.06-.94-2.06-.94-.94-2.06-.94 2.06-2.06.94z\"/><path d=\"M17.41 7.96l-1.37-1.37c-.4-.4-.92-.59-1.43-.59-.52 0-1.04.2-1.43.59L10.3 9.45l-7.72 7.72c-.78.78-.78 2.05 0 2.83L4 21.41c.39.39.9.59 1.41.59.51 0 1.02-.2 1.41-.59l7.78-7.78 2.81-2.81c.8-.78.8-2.07 0-2.86zM5.41 20L4 18.59l7.72-7.72 1.47 1.35L5.41 20z\"/>\n",
              "  </svg>\n",
              "      </button>\n",
              "      \n",
              "  <style>\n",
              "    .colab-df-container {\n",
              "      display:flex;\n",
              "      flex-wrap:wrap;\n",
              "      gap: 12px;\n",
              "    }\n",
              "\n",
              "    .colab-df-convert {\n",
              "      background-color: #E8F0FE;\n",
              "      border: none;\n",
              "      border-radius: 50%;\n",
              "      cursor: pointer;\n",
              "      display: none;\n",
              "      fill: #1967D2;\n",
              "      height: 32px;\n",
              "      padding: 0 0 0 0;\n",
              "      width: 32px;\n",
              "    }\n",
              "\n",
              "    .colab-df-convert:hover {\n",
              "      background-color: #E2EBFA;\n",
              "      box-shadow: 0px 1px 2px rgba(60, 64, 67, 0.3), 0px 1px 3px 1px rgba(60, 64, 67, 0.15);\n",
              "      fill: #174EA6;\n",
              "    }\n",
              "\n",
              "    [theme=dark] .colab-df-convert {\n",
              "      background-color: #3B4455;\n",
              "      fill: #D2E3FC;\n",
              "    }\n",
              "\n",
              "    [theme=dark] .colab-df-convert:hover {\n",
              "      background-color: #434B5C;\n",
              "      box-shadow: 0px 1px 3px 1px rgba(0, 0, 0, 0.15);\n",
              "      filter: drop-shadow(0px 1px 2px rgba(0, 0, 0, 0.3));\n",
              "      fill: #FFFFFF;\n",
              "    }\n",
              "  </style>\n",
              "\n",
              "      <script>\n",
              "        const buttonEl =\n",
              "          document.querySelector('#df-dacfd30c-5c06-4184-8039-e13c21de4a22 button.colab-df-convert');\n",
              "        buttonEl.style.display =\n",
              "          google.colab.kernel.accessAllowed ? 'block' : 'none';\n",
              "\n",
              "        async function convertToInteractive(key) {\n",
              "          const element = document.querySelector('#df-dacfd30c-5c06-4184-8039-e13c21de4a22');\n",
              "          const dataTable =\n",
              "            await google.colab.kernel.invokeFunction('convertToInteractive',\n",
              "                                                     [key], {});\n",
              "          if (!dataTable) return;\n",
              "\n",
              "          const docLinkHtml = 'Like what you see? Visit the ' +\n",
              "            '<a target=\"_blank\" href=https://colab.research.google.com/notebooks/data_table.ipynb>data table notebook</a>'\n",
              "            + ' to learn more about interactive tables.';\n",
              "          element.innerHTML = '';\n",
              "          dataTable['output_type'] = 'display_data';\n",
              "          await google.colab.output.renderOutput(dataTable, element);\n",
              "          const docLink = document.createElement('div');\n",
              "          docLink.innerHTML = docLinkHtml;\n",
              "          element.appendChild(docLink);\n",
              "        }\n",
              "      </script>\n",
              "    </div>\n",
              "  </div>\n",
              "  "
            ]
          },
          "metadata": {},
          "execution_count": 339
        }
      ]
    },
    {
      "cell_type": "markdown",
      "source": [
        "**Transformando as Features categóricas em numéricas - OrdinalEncoder() - Feature com mais de 2 dados diferentes.**"
      ],
      "metadata": {
        "id": "nKf5ZDwyOvP-"
      }
    },
    {
      "cell_type": "code",
      "source": [
        "oe =  OrdinalEncoder()\n",
        "oe.fit(df[[\"gender\"]])\n",
        "\n",
        "df[\"gender\"] = oe.transform(df[[\"gender\"]])"
      ],
      "metadata": {
        "id": "0nikMxK-OvP-"
      },
      "execution_count": 356,
      "outputs": []
    },
    {
      "cell_type": "code",
      "source": [
        "df.head(2)"
      ],
      "metadata": {
        "colab": {
          "base_uri": "https://localhost:8080/",
          "height": 112
        },
        "id": "MItZ0NpzOzKl",
        "outputId": "4db32f64-c3bd-450e-d26c-3924a500fa03"
      },
      "execution_count": 355,
      "outputs": [
        {
          "output_type": "execute_result",
          "data": {
            "text/plain": [
              "   gender  race/ethnicity  parental level of education  lunch  \\\n",
              "0  female             1.0                          1.0    1.0   \n",
              "1  female             2.0                          4.0    1.0   \n",
              "\n",
              "   test preparation course  math score  reading score  writing score  \\\n",
              "0                      1.0          72             72             74   \n",
              "1                      0.0          69             90             88   \n",
              "\n",
              "       media  \n",
              "0  72.666667  \n",
              "1  82.333333  "
            ],
            "text/html": [
              "\n",
              "  <div id=\"df-f3eb8b37-bfd1-4449-8b55-20763ea8a420\">\n",
              "    <div class=\"colab-df-container\">\n",
              "      <div>\n",
              "<style scoped>\n",
              "    .dataframe tbody tr th:only-of-type {\n",
              "        vertical-align: middle;\n",
              "    }\n",
              "\n",
              "    .dataframe tbody tr th {\n",
              "        vertical-align: top;\n",
              "    }\n",
              "\n",
              "    .dataframe thead th {\n",
              "        text-align: right;\n",
              "    }\n",
              "</style>\n",
              "<table border=\"1\" class=\"dataframe\">\n",
              "  <thead>\n",
              "    <tr style=\"text-align: right;\">\n",
              "      <th></th>\n",
              "      <th>gender</th>\n",
              "      <th>race/ethnicity</th>\n",
              "      <th>parental level of education</th>\n",
              "      <th>lunch</th>\n",
              "      <th>test preparation course</th>\n",
              "      <th>math score</th>\n",
              "      <th>reading score</th>\n",
              "      <th>writing score</th>\n",
              "      <th>media</th>\n",
              "    </tr>\n",
              "  </thead>\n",
              "  <tbody>\n",
              "    <tr>\n",
              "      <th>0</th>\n",
              "      <td>female</td>\n",
              "      <td>1.0</td>\n",
              "      <td>1.0</td>\n",
              "      <td>1.0</td>\n",
              "      <td>1.0</td>\n",
              "      <td>72</td>\n",
              "      <td>72</td>\n",
              "      <td>74</td>\n",
              "      <td>72.666667</td>\n",
              "    </tr>\n",
              "    <tr>\n",
              "      <th>1</th>\n",
              "      <td>female</td>\n",
              "      <td>2.0</td>\n",
              "      <td>4.0</td>\n",
              "      <td>1.0</td>\n",
              "      <td>0.0</td>\n",
              "      <td>69</td>\n",
              "      <td>90</td>\n",
              "      <td>88</td>\n",
              "      <td>82.333333</td>\n",
              "    </tr>\n",
              "  </tbody>\n",
              "</table>\n",
              "</div>\n",
              "      <button class=\"colab-df-convert\" onclick=\"convertToInteractive('df-f3eb8b37-bfd1-4449-8b55-20763ea8a420')\"\n",
              "              title=\"Convert this dataframe to an interactive table.\"\n",
              "              style=\"display:none;\">\n",
              "        \n",
              "  <svg xmlns=\"http://www.w3.org/2000/svg\" height=\"24px\"viewBox=\"0 0 24 24\"\n",
              "       width=\"24px\">\n",
              "    <path d=\"M0 0h24v24H0V0z\" fill=\"none\"/>\n",
              "    <path d=\"M18.56 5.44l.94 2.06.94-2.06 2.06-.94-2.06-.94-.94-2.06-.94 2.06-2.06.94zm-11 1L8.5 8.5l.94-2.06 2.06-.94-2.06-.94L8.5 2.5l-.94 2.06-2.06.94zm10 10l.94 2.06.94-2.06 2.06-.94-2.06-.94-.94-2.06-.94 2.06-2.06.94z\"/><path d=\"M17.41 7.96l-1.37-1.37c-.4-.4-.92-.59-1.43-.59-.52 0-1.04.2-1.43.59L10.3 9.45l-7.72 7.72c-.78.78-.78 2.05 0 2.83L4 21.41c.39.39.9.59 1.41.59.51 0 1.02-.2 1.41-.59l7.78-7.78 2.81-2.81c.8-.78.8-2.07 0-2.86zM5.41 20L4 18.59l7.72-7.72 1.47 1.35L5.41 20z\"/>\n",
              "  </svg>\n",
              "      </button>\n",
              "      \n",
              "  <style>\n",
              "    .colab-df-container {\n",
              "      display:flex;\n",
              "      flex-wrap:wrap;\n",
              "      gap: 12px;\n",
              "    }\n",
              "\n",
              "    .colab-df-convert {\n",
              "      background-color: #E8F0FE;\n",
              "      border: none;\n",
              "      border-radius: 50%;\n",
              "      cursor: pointer;\n",
              "      display: none;\n",
              "      fill: #1967D2;\n",
              "      height: 32px;\n",
              "      padding: 0 0 0 0;\n",
              "      width: 32px;\n",
              "    }\n",
              "\n",
              "    .colab-df-convert:hover {\n",
              "      background-color: #E2EBFA;\n",
              "      box-shadow: 0px 1px 2px rgba(60, 64, 67, 0.3), 0px 1px 3px 1px rgba(60, 64, 67, 0.15);\n",
              "      fill: #174EA6;\n",
              "    }\n",
              "\n",
              "    [theme=dark] .colab-df-convert {\n",
              "      background-color: #3B4455;\n",
              "      fill: #D2E3FC;\n",
              "    }\n",
              "\n",
              "    [theme=dark] .colab-df-convert:hover {\n",
              "      background-color: #434B5C;\n",
              "      box-shadow: 0px 1px 3px 1px rgba(0, 0, 0, 0.15);\n",
              "      filter: drop-shadow(0px 1px 2px rgba(0, 0, 0, 0.3));\n",
              "      fill: #FFFFFF;\n",
              "    }\n",
              "  </style>\n",
              "\n",
              "      <script>\n",
              "        const buttonEl =\n",
              "          document.querySelector('#df-f3eb8b37-bfd1-4449-8b55-20763ea8a420 button.colab-df-convert');\n",
              "        buttonEl.style.display =\n",
              "          google.colab.kernel.accessAllowed ? 'block' : 'none';\n",
              "\n",
              "        async function convertToInteractive(key) {\n",
              "          const element = document.querySelector('#df-f3eb8b37-bfd1-4449-8b55-20763ea8a420');\n",
              "          const dataTable =\n",
              "            await google.colab.kernel.invokeFunction('convertToInteractive',\n",
              "                                                     [key], {});\n",
              "          if (!dataTable) return;\n",
              "\n",
              "          const docLinkHtml = 'Like what you see? Visit the ' +\n",
              "            '<a target=\"_blank\" href=https://colab.research.google.com/notebooks/data_table.ipynb>data table notebook</a>'\n",
              "            + ' to learn more about interactive tables.';\n",
              "          element.innerHTML = '';\n",
              "          dataTable['output_type'] = 'display_data';\n",
              "          await google.colab.output.renderOutput(dataTable, element);\n",
              "          const docLink = document.createElement('div');\n",
              "          docLink.innerHTML = docLinkHtml;\n",
              "          element.appendChild(docLink);\n",
              "        }\n",
              "      </script>\n",
              "    </div>\n",
              "  </div>\n",
              "  "
            ]
          },
          "metadata": {},
          "execution_count": 355
        }
      ]
    },
    {
      "cell_type": "code",
      "execution_count": 357,
      "metadata": {
        "id": "sUabPhTw9Z71"
      },
      "outputs": [],
      "source": [
        "X = df.drop(columns=[\"media\"])\n",
        "y = df[\"media\"]\n",
        "\n",
        "X_train, X_test, y_train, y_test = train_test_split(X, y, test_size=0.3, random_state=20)"
      ]
    },
    {
      "cell_type": "code",
      "execution_count": null,
      "metadata": {
        "id": "B8hveFOf2nnI"
      },
      "outputs": [],
      "source": [
        "!pip install shap\n",
        "import shap"
      ]
    },
    {
      "cell_type": "code",
      "execution_count": 358,
      "metadata": {
        "colab": {
          "base_uri": "https://localhost:8080/"
        },
        "id": "7tcpqH9D9MnG",
        "outputId": "36004a2f-d40c-4228-c181-13dfa0bba6fc"
      },
      "outputs": [
        {
          "output_type": "stream",
          "name": "stdout",
          "text": [
            "[00:10:18] WARNING: /workspace/src/objective/regression_obj.cu:152: reg:linear is now deprecated in favor of reg:squarederror.\n"
          ]
        }
      ],
      "source": [
        "xgbr = XGBRegressor().fit(X_train, y_train)"
      ]
    },
    {
      "cell_type": "code",
      "execution_count": 359,
      "metadata": {
        "id": "ehtr4Q4U2oZo"
      },
      "outputs": [],
      "source": [
        "explainer = shap.TreeExplainer(xgbr)"
      ]
    },
    {
      "cell_type": "code",
      "execution_count": 360,
      "metadata": {
        "id": "W8l_bj9H9ssm"
      },
      "outputs": [],
      "source": [
        "shap_vals = explainer.shap_values(X_train)"
      ]
    },
    {
      "cell_type": "markdown",
      "metadata": {
        "id": "Nf-PPooRRHTd"
      },
      "source": [
        "**Temos abaixo as Features que mais impactaram na escolha dos valores preditivos para todos os dados:**"
      ]
    },
    {
      "cell_type": "code",
      "execution_count": 361,
      "metadata": {
        "colab": {
          "base_uri": "https://localhost:8080/",
          "height": 348
        },
        "id": "3yND9xNJ90j_",
        "outputId": "d6a8e9ed-b50a-419c-fc91-6c783ec8b815"
      },
      "outputs": [
        {
          "output_type": "display_data",
          "data": {
            "text/plain": [
              "<Figure size 576x338.4 with 1 Axes>"
            ],
            "image/png": "[encoded data removed]"
          },
          "metadata": {
            "needs_background": "light"
          }
        }
      ],
      "source": [
        "shap.summary_plot(shap_vals, X_train, plot_type=\"bar\")"
      ]
    }
  ]
}