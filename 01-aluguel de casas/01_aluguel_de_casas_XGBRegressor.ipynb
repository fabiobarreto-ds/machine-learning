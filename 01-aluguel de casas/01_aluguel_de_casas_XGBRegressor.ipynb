{
  "cells": [
    {
      "cell_type": "markdown",
      "source": [
        "Banco de dados com valores de alugueis de imóveis de 5 cidades brasileiras: São Paulo, Rio de Janeiro, Belo Horizonte, Porto Alegre e Campinas.\n",
        "\n",
        "Fazer a predição dos valores através de modelos que utilizam regressão."
      ],
      "metadata": {
        "id": "Ax6v5GAx4Ye4"
      }
    },
    {
      "cell_type": "markdown",
      "source": [
        "Fonte: https://www.kaggle.com/datasets/fabiobarreto/imoveis-aluguel"
      ],
      "metadata": {
        "id": "xr0mVU-I4RmT"
      }
    },
    {
      "cell_type": "markdown",
      "metadata": {
        "id": "WxI7h9VJcjS1"
      },
      "source": [
        "## **Importando os dados e fazendo breve análise**"
      ]
    },
    {
      "cell_type": "code",
      "source": [
        "import pandas as pd\n",
        "import numpy as np\n",
        "import matplotlib.pyplot as plt\n",
        "from xgboost import XGBRegressor\n",
        "from sklearn.pipeline import Pipeline\n",
        "from sklearn.impute import SimpleImputer\n",
        "from sklearn.compose import ColumnTransformer\n",
        "from sklearn.ensemble import RandomForestRegressor\n",
        "from sklearn.model_selection import StratifiedKFold\n",
        "from sklearn.metrics import r2_score, mean_absolute_error, mean_squared_error\n",
        "from sklearn.preprocessing import StandardScaler, OneHotEncoder, OrdinalEncoder\n",
        "from sklearn.model_selection import GridSearchCV, StratifiedKFold, train_test_split\n",
        "\n",
        "%matplotlib inline"
      ],
      "metadata": {
        "id": "L6WgLmH_O_z0"
      },
      "execution_count": null,
      "outputs": []
    },
    {
      "cell_type": "code",
      "execution_count": null,
      "metadata": {
        "id": "oeFxBqKAPE3B"
      },
      "outputs": [],
      "source": [
        "df = pd.read_csv(\"casas_aluguel.csv\")"
      ]
    },
    {
      "cell_type": "code",
      "source": [
        "df"
      ],
      "metadata": {
        "id": "Cp4xnYzn5V9I"
      },
      "execution_count": null,
      "outputs": []
    },
    {
      "cell_type": "markdown",
      "source": [
        "**Verificando se há dados nulos**"
      ],
      "metadata": {
        "id": "_T_fyUdMv3wG"
      }
    },
    {
      "cell_type": "code",
      "source": [
        "df.info()"
      ],
      "metadata": {
        "colab": {
          "base_uri": "https://localhost:8080/"
        },
        "id": "i2OIW_6iPmus",
        "outputId": "d7433cc4-128f-4385-e199-a68d37d5341e"
      },
      "execution_count": null,
      "outputs": [
        {
          "output_type": "stream",
          "name": "stdout",
          "text": [
            "<class 'pandas.core.frame.DataFrame'>\n",
            "RangeIndex: 10692 entries, 0 to 10691\n",
            "Data columns (total 13 columns):\n",
            " #   Column               Non-Null Count  Dtype \n",
            "---  ------               --------------  ----- \n",
            " 0   city                 10692 non-null  object\n",
            " 1   area                 10692 non-null  int64 \n",
            " 2   rooms                10692 non-null  int64 \n",
            " 3   bathroom             10692 non-null  int64 \n",
            " 4   parking spaces       10692 non-null  int64 \n",
            " 5   floor                10692 non-null  object\n",
            " 6   animal               10692 non-null  object\n",
            " 7   furniture            10692 non-null  object\n",
            " 8   hoa (R$)             10692 non-null  int64 \n",
            " 9   rent amount (R$)     10692 non-null  int64 \n",
            " 10  property tax (R$)    10692 non-null  int64 \n",
            " 11  fire insurance (R$)  10692 non-null  int64 \n",
            " 12  total (R$)           10692 non-null  int64 \n",
            "dtypes: int64(9), object(4)\n",
            "memory usage: 1.1+ MB\n"
          ]
        }
      ]
    },
    {
      "cell_type": "markdown",
      "source": [
        "**Verificando se há dados duplicados**"
      ],
      "metadata": {
        "id": "NPg4CSODwHFe"
      }
    },
    {
      "cell_type": "code",
      "source": [
        "df.duplicated().sum()"
      ],
      "metadata": {
        "colab": {
          "base_uri": "https://localhost:8080/"
        },
        "id": "N5SHkN5Tv8XG",
        "outputId": "9d51d365-5260-4a3f-fc1c-4cdc1f4d9889"
      },
      "execution_count": null,
      "outputs": [
        {
          "output_type": "execute_result",
          "data": {
            "text/plain": [
              "358"
            ]
          },
          "metadata": {},
          "execution_count": 3
        }
      ]
    },
    {
      "cell_type": "markdown",
      "source": [
        "Excluindo..."
      ],
      "metadata": {
        "id": "ybnvMXbqwNU2"
      }
    },
    {
      "cell_type": "code",
      "source": [
        "df.drop_duplicates()"
      ],
      "metadata": {
        "colab": {
          "base_uri": "https://localhost:8080/",
          "height": 424
        },
        "id": "72uSOAzZwBds",
        "outputId": "29d2e335-8fe0-46d7-ef34-808225ba3626"
      },
      "execution_count": null,
      "outputs": [
        {
          "output_type": "execute_result",
          "data": {
            "text/plain": [
              "                 city  area  rooms  bathroom  parking spaces floor     animal  \\\n",
              "0           São Paulo    70      2         1               1     7      acept   \n",
              "1           São Paulo   320      4         4               0    20      acept   \n",
              "2        Porto Alegre    80      1         1               1     6      acept   \n",
              "3        Porto Alegre    51      2         1               0     2      acept   \n",
              "4           São Paulo    25      1         1               0     1  not acept   \n",
              "...               ...   ...    ...       ...             ...   ...        ...   \n",
              "10687    Porto Alegre    63      2         1               1     5  not acept   \n",
              "10688       São Paulo   285      4         4               4    17      acept   \n",
              "10689  Rio de Janeiro    70      3         3               0     8  not acept   \n",
              "10690  Rio de Janeiro   120      2         2               2     8      acept   \n",
              "10691       São Paulo    80      2         1               0     -      acept   \n",
              "\n",
              "           furniture  hoa (R$)  rent amount (R$)  property tax (R$)  \\\n",
              "0          furnished      2065              3300                211   \n",
              "1      not furnished      1200              4960               1750   \n",
              "2      not furnished      1000              2800                  0   \n",
              "3      not furnished       270              1112                 22   \n",
              "4      not furnished         0               800                 25   \n",
              "...              ...       ...               ...                ...   \n",
              "10687      furnished       402              1478                 24   \n",
              "10688  not furnished      3100             15000                973   \n",
              "10689      furnished       980              6000                332   \n",
              "10690      furnished      1585             12000                279   \n",
              "10691  not furnished         0              1400                165   \n",
              "\n",
              "       fire insurance (R$)  total (R$)  \n",
              "0                       42        5618  \n",
              "1                       63        7973  \n",
              "2                       41        3841  \n",
              "3                       17        1421  \n",
              "4                       11         836  \n",
              "...                    ...         ...  \n",
              "10687                   22        1926  \n",
              "10688                  191       19260  \n",
              "10689                   78        7390  \n",
              "10690                  155       14020  \n",
              "10691                   22        1587  \n",
              "\n",
              "[10334 rows x 13 columns]"
            ],
            "text/html": [
              "\n",
              "  <div id=\"df-566fea96-9dc2-42c8-8938-b6054cdabadb\">\n",
              "    <div class=\"colab-df-container\">\n",
              "      <div>\n",
              "<style scoped>\n",
              "    .dataframe tbody tr th:only-of-type {\n",
              "        vertical-align: middle;\n",
              "    }\n",
              "\n",
              "    .dataframe tbody tr th {\n",
              "        vertical-align: top;\n",
              "    }\n",
              "\n",
              "    .dataframe thead th {\n",
              "        text-align: right;\n",
              "    }\n",
              "</style>\n",
              "<table border=\"1\" class=\"dataframe\">\n",
              "  <thead>\n",
              "    <tr style=\"text-align: right;\">\n",
              "      <th></th>\n",
              "      <th>city</th>\n",
              "      <th>area</th>\n",
              "      <th>rooms</th>\n",
              "      <th>bathroom</th>\n",
              "      <th>parking spaces</th>\n",
              "      <th>floor</th>\n",
              "      <th>animal</th>\n",
              "      <th>furniture</th>\n",
              "      <th>hoa (R$)</th>\n",
              "      <th>rent amount (R$)</th>\n",
              "      <th>property tax (R$)</th>\n",
              "      <th>fire insurance (R$)</th>\n",
              "      <th>total (R$)</th>\n",
              "    </tr>\n",
              "  </thead>\n",
              "  <tbody>\n",
              "    <tr>\n",
              "      <th>0</th>\n",
              "      <td>São Paulo</td>\n",
              "      <td>70</td>\n",
              "      <td>2</td>\n",
              "      <td>1</td>\n",
              "      <td>1</td>\n",
              "      <td>7</td>\n",
              "      <td>acept</td>\n",
              "      <td>furnished</td>\n",
              "      <td>2065</td>\n",
              "      <td>3300</td>\n",
              "      <td>211</td>\n",
              "      <td>42</td>\n",
              "      <td>5618</td>\n",
              "    </tr>\n",
              "    <tr>\n",
              "      <th>1</th>\n",
              "      <td>São Paulo</td>\n",
              "      <td>320</td>\n",
              "      <td>4</td>\n",
              "      <td>4</td>\n",
              "      <td>0</td>\n",
              "      <td>20</td>\n",
              "      <td>acept</td>\n",
              "      <td>not furnished</td>\n",
              "      <td>1200</td>\n",
              "      <td>4960</td>\n",
              "      <td>1750</td>\n",
              "      <td>63</td>\n",
              "      <td>7973</td>\n",
              "    </tr>\n",
              "    <tr>\n",
              "      <th>2</th>\n",
              "      <td>Porto Alegre</td>\n",
              "      <td>80</td>\n",
              "      <td>1</td>\n",
              "      <td>1</td>\n",
              "      <td>1</td>\n",
              "      <td>6</td>\n",
              "      <td>acept</td>\n",
              "      <td>not furnished</td>\n",
              "      <td>1000</td>\n",
              "      <td>2800</td>\n",
              "      <td>0</td>\n",
              "      <td>41</td>\n",
              "      <td>3841</td>\n",
              "    </tr>\n",
              "    <tr>\n",
              "      <th>3</th>\n",
              "      <td>Porto Alegre</td>\n",
              "      <td>51</td>\n",
              "      <td>2</td>\n",
              "      <td>1</td>\n",
              "      <td>0</td>\n",
              "      <td>2</td>\n",
              "      <td>acept</td>\n",
              "      <td>not furnished</td>\n",
              "      <td>270</td>\n",
              "      <td>1112</td>\n",
              "      <td>22</td>\n",
              "      <td>17</td>\n",
              "      <td>1421</td>\n",
              "    </tr>\n",
              "    <tr>\n",
              "      <th>4</th>\n",
              "      <td>São Paulo</td>\n",
              "      <td>25</td>\n",
              "      <td>1</td>\n",
              "      <td>1</td>\n",
              "      <td>0</td>\n",
              "      <td>1</td>\n",
              "      <td>not acept</td>\n",
              "      <td>not furnished</td>\n",
              "      <td>0</td>\n",
              "      <td>800</td>\n",
              "      <td>25</td>\n",
              "      <td>11</td>\n",
              "      <td>836</td>\n",
              "    </tr>\n",
              "    <tr>\n",
              "      <th>...</th>\n",
              "      <td>...</td>\n",
              "      <td>...</td>\n",
              "      <td>...</td>\n",
              "      <td>...</td>\n",
              "      <td>...</td>\n",
              "      <td>...</td>\n",
              "      <td>...</td>\n",
              "      <td>...</td>\n",
              "      <td>...</td>\n",
              "      <td>...</td>\n",
              "      <td>...</td>\n",
              "      <td>...</td>\n",
              "      <td>...</td>\n",
              "    </tr>\n",
              "    <tr>\n",
              "      <th>10687</th>\n",
              "      <td>Porto Alegre</td>\n",
              "      <td>63</td>\n",
              "      <td>2</td>\n",
              "      <td>1</td>\n",
              "      <td>1</td>\n",
              "      <td>5</td>\n",
              "      <td>not acept</td>\n",
              "      <td>furnished</td>\n",
              "      <td>402</td>\n",
              "      <td>1478</td>\n",
              "      <td>24</td>\n",
              "      <td>22</td>\n",
              "      <td>1926</td>\n",
              "    </tr>\n",
              "    <tr>\n",
              "      <th>10688</th>\n",
              "      <td>São Paulo</td>\n",
              "      <td>285</td>\n",
              "      <td>4</td>\n",
              "      <td>4</td>\n",
              "      <td>4</td>\n",
              "      <td>17</td>\n",
              "      <td>acept</td>\n",
              "      <td>not furnished</td>\n",
              "      <td>3100</td>\n",
              "      <td>15000</td>\n",
              "      <td>973</td>\n",
              "      <td>191</td>\n",
              "      <td>19260</td>\n",
              "    </tr>\n",
              "    <tr>\n",
              "      <th>10689</th>\n",
              "      <td>Rio de Janeiro</td>\n",
              "      <td>70</td>\n",
              "      <td>3</td>\n",
              "      <td>3</td>\n",
              "      <td>0</td>\n",
              "      <td>8</td>\n",
              "      <td>not acept</td>\n",
              "      <td>furnished</td>\n",
              "      <td>980</td>\n",
              "      <td>6000</td>\n",
              "      <td>332</td>\n",
              "      <td>78</td>\n",
              "      <td>7390</td>\n",
              "    </tr>\n",
              "    <tr>\n",
              "      <th>10690</th>\n",
              "      <td>Rio de Janeiro</td>\n",
              "      <td>120</td>\n",
              "      <td>2</td>\n",
              "      <td>2</td>\n",
              "      <td>2</td>\n",
              "      <td>8</td>\n",
              "      <td>acept</td>\n",
              "      <td>furnished</td>\n",
              "      <td>1585</td>\n",
              "      <td>12000</td>\n",
              "      <td>279</td>\n",
              "      <td>155</td>\n",
              "      <td>14020</td>\n",
              "    </tr>\n",
              "    <tr>\n",
              "      <th>10691</th>\n",
              "      <td>São Paulo</td>\n",
              "      <td>80</td>\n",
              "      <td>2</td>\n",
              "      <td>1</td>\n",
              "      <td>0</td>\n",
              "      <td>-</td>\n",
              "      <td>acept</td>\n",
              "      <td>not furnished</td>\n",
              "      <td>0</td>\n",
              "      <td>1400</td>\n",
              "      <td>165</td>\n",
              "      <td>22</td>\n",
              "      <td>1587</td>\n",
              "    </tr>\n",
              "  </tbody>\n",
              "</table>\n",
              "<p>10334 rows × 13 columns</p>\n",
              "</div>\n",
              "      <button class=\"colab-df-convert\" onclick=\"convertToInteractive('df-566fea96-9dc2-42c8-8938-b6054cdabadb')\"\n",
              "              title=\"Convert this dataframe to an interactive table.\"\n",
              "              style=\"display:none;\">\n",
              "        \n",
              "  <svg xmlns=\"http://www.w3.org/2000/svg\" height=\"24px\"viewBox=\"0 0 24 24\"\n",
              "       width=\"24px\">\n",
              "    <path d=\"M0 0h24v24H0V0z\" fill=\"none\"/>\n",
              "    <path d=\"M18.56 5.44l.94 2.06.94-2.06 2.06-.94-2.06-.94-.94-2.06-.94 2.06-2.06.94zm-11 1L8.5 8.5l.94-2.06 2.06-.94-2.06-.94L8.5 2.5l-.94 2.06-2.06.94zm10 10l.94 2.06.94-2.06 2.06-.94-2.06-.94-.94-2.06-.94 2.06-2.06.94z\"/><path d=\"M17.41 7.96l-1.37-1.37c-.4-.4-.92-.59-1.43-.59-.52 0-1.04.2-1.43.59L10.3 9.45l-7.72 7.72c-.78.78-.78 2.05 0 2.83L4 21.41c.39.39.9.59 1.41.59.51 0 1.02-.2 1.41-.59l7.78-7.78 2.81-2.81c.8-.78.8-2.07 0-2.86zM5.41 20L4 18.59l7.72-7.72 1.47 1.35L5.41 20z\"/>\n",
              "  </svg>\n",
              "      </button>\n",
              "      \n",
              "  <style>\n",
              "    .colab-df-container {\n",
              "      display:flex;\n",
              "      flex-wrap:wrap;\n",
              "      gap: 12px;\n",
              "    }\n",
              "\n",
              "    .colab-df-convert {\n",
              "      background-color: #E8F0FE;\n",
              "      border: none;\n",
              "      border-radius: 50%;\n",
              "      cursor: pointer;\n",
              "      display: none;\n",
              "      fill: #1967D2;\n",
              "      height: 32px;\n",
              "      padding: 0 0 0 0;\n",
              "      width: 32px;\n",
              "    }\n",
              "\n",
              "    .colab-df-convert:hover {\n",
              "      background-color: #E2EBFA;\n",
              "      box-shadow: 0px 1px 2px rgba(60, 64, 67, 0.3), 0px 1px 3px 1px rgba(60, 64, 67, 0.15);\n",
              "      fill: #174EA6;\n",
              "    }\n",
              "\n",
              "    [theme=dark] .colab-df-convert {\n",
              "      background-color: #3B4455;\n",
              "      fill: #D2E3FC;\n",
              "    }\n",
              "\n",
              "    [theme=dark] .colab-df-convert:hover {\n",
              "      background-color: #434B5C;\n",
              "      box-shadow: 0px 1px 3px 1px rgba(0, 0, 0, 0.15);\n",
              "      filter: drop-shadow(0px 1px 2px rgba(0, 0, 0, 0.3));\n",
              "      fill: #FFFFFF;\n",
              "    }\n",
              "  </style>\n",
              "\n",
              "      <script>\n",
              "        const buttonEl =\n",
              "          document.querySelector('#df-566fea96-9dc2-42c8-8938-b6054cdabadb button.colab-df-convert');\n",
              "        buttonEl.style.display =\n",
              "          google.colab.kernel.accessAllowed ? 'block' : 'none';\n",
              "\n",
              "        async function convertToInteractive(key) {\n",
              "          const element = document.querySelector('#df-566fea96-9dc2-42c8-8938-b6054cdabadb');\n",
              "          const dataTable =\n",
              "            await google.colab.kernel.invokeFunction('convertToInteractive',\n",
              "                                                     [key], {});\n",
              "          if (!dataTable) return;\n",
              "\n",
              "          const docLinkHtml = 'Like what you see? Visit the ' +\n",
              "            '<a target=\"_blank\" href=https://colab.research.google.com/notebooks/data_table.ipynb>data table notebook</a>'\n",
              "            + ' to learn more about interactive tables.';\n",
              "          element.innerHTML = '';\n",
              "          dataTable['output_type'] = 'display_data';\n",
              "          await google.colab.output.renderOutput(dataTable, element);\n",
              "          const docLink = document.createElement('div');\n",
              "          docLink.innerHTML = docLinkHtml;\n",
              "          element.appendChild(docLink);\n",
              "        }\n",
              "      </script>\n",
              "    </div>\n",
              "  </div>\n",
              "  "
            ]
          },
          "metadata": {},
          "execution_count": 4
        }
      ]
    },
    {
      "cell_type": "markdown",
      "source": [
        "**Como visto na análise dos dataset, há dados preenchidos por \"-\" no lugar dos valores não preenchidos, vamos preencher por NaN para tratamento dentro do modelo.**"
      ],
      "metadata": {
        "id": "_u8OkzJIPSNx"
      }
    },
    {
      "cell_type": "code",
      "execution_count": null,
      "metadata": {
        "id": "db3wOmadPOZq"
      },
      "outputs": [],
      "source": [
        "df[\"floor\"].replace(\"-\", np.nan, inplace=True)"
      ]
    },
    {
      "cell_type": "markdown",
      "source": [
        "**Verificando...**"
      ],
      "metadata": {
        "id": "l3sFnurC5cNn"
      }
    },
    {
      "cell_type": "code",
      "source": [
        "df[\"floor\"].value_counts()"
      ],
      "metadata": {
        "id": "owD34qfy5ehC"
      },
      "execution_count": null,
      "outputs": []
    },
    {
      "cell_type": "markdown",
      "metadata": {
        "id": "a2Y8WNPRky3y"
      },
      "source": [
        "##**Black box - XGBoost**"
      ]
    },
    {
      "cell_type": "markdown",
      "source": [
        "Motando nossa Pipeline:"
      ],
      "metadata": {
        "id": "DBITOQrlRbq_"
      }
    },
    {
      "cell_type": "code",
      "execution_count": null,
      "metadata": {
        "colab": {
          "base_uri": "https://localhost:8080/"
        },
        "id": "Hbu1-YTWd_69",
        "outputId": "85695570-b4f0-4769-f686-62dfc58504df"
      },
      "outputs": [
        {
          "output_type": "stream",
          "name": "stdout",
          "text": [
            "Fitting 5 folds for each of 1 candidates, totalling 5 fits\n"
          ]
        },
        {
          "output_type": "stream",
          "name": "stderr",
          "text": [
            "/usr/local/lib/python3.7/dist-packages/sklearn/model_selection/_split.py:680: UserWarning: The least populated class in y has only 1 members, which is less than n_splits=5.\n",
            "  UserWarning,\n"
          ]
        },
        {
          "output_type": "stream",
          "name": "stdout",
          "text": [
            "[15:16:09] WARNING: /workspace/src/objective/regression_obj.cu:152: reg:linear is now deprecated in favor of reg:squarederror.\n"
          ]
        },
        {
          "output_type": "execute_result",
          "data": {
            "text/plain": [
              "GridSearchCV(cv=StratifiedKFold(n_splits=5, random_state=42, shuffle=True),\n",
              "             estimator=Pipeline(steps=[('pre_processador',\n",
              "                                        ColumnTransformer(transformers=[('transf_num',\n",
              "                                                                         Pipeline(steps=[('input_num',\n",
              "                                                                                          SimpleImputer()),\n",
              "                                                                                         ('std',\n",
              "                                                                                          StandardScaler())]),\n",
              "                                                                         ['area',\n",
              "                                                                          'rooms',\n",
              "                                                                          'bathroom',\n",
              "                                                                          'parking '\n",
              "                                                                          'spaces',\n",
              "                                                                          'hoa '\n",
              "                                                                          '(R$)',\n",
              "                                                                          'rent '\n",
              "                                                                          'amount '\n",
              "                                                                          '(R$)',\n",
              "                                                                          'property '\n",
              "                                                                          'tax '\n",
              "                                                                          '(R$)',\n",
              "                                                                          'fire '\n",
              "                                                                          'insura...\n",
              "                                                                                                        strategy='constant')),\n",
              "                                                                                         ('ordinal',\n",
              "                                                                                          OrdinalEncoder())]),\n",
              "                                                                         ['city'])])),\n",
              "                                       ('xgbr',\n",
              "                                        XGBRegressor(eval_metric='logloss',\n",
              "                                                     random_state=42))]),\n",
              "             n_jobs=-1,\n",
              "             param_grid={'xgbr__booster': ['gbtree'],\n",
              "                         'xgbr__colsample_bytree': [0.5],\n",
              "                         'xgbr__learning_rate': [0.01], 'xgbr__max_depth': [2],\n",
              "                         'xgbr__n_estimators': [1000], 'xgbr__reg_alpha': [0.9],\n",
              "                         'xgbr__subsample': [0.5]},\n",
              "             scoring='r2', verbose=10)"
            ]
          },
          "metadata": {},
          "execution_count": 7
        }
      ],
      "source": [
        "#Separando o que é features e target:\n",
        "X = df.drop(columns=\"total (R$)\")\n",
        "y = df[\"total (R$)\"]\n",
        "\n",
        "# Dividindo em dados de teste e dados de treino, peguei 20% para dados de teste:\n",
        "X_train, X_test, y_train, y_test = train_test_split(X, y, test_size=0.2, random_state=13)\n",
        "\n",
        "# ==========================================================\n",
        "#Primeiro vamos tratar as features numéricas. Tratando os valores nulos (NaN) e escalonando já que a variância entre as features é grande.\n",
        "pipe_features_num = Pipeline([(\"input_num\", SimpleImputer(strategy=\"mean\")),\n",
        "                              (\"std\", StandardScaler())])\n",
        "\n",
        "# Pegando só as features numéricas\n",
        "features_num = X_train.select_dtypes(include=np.number).columns.tolist()\n",
        "\n",
        "# ==========================================================\n",
        "# Tratando as features categóricas. Os valores nulos (NaN) serão preenchidos por \"unknown\"  e posteriormente codificaremos todas elas com o Encoders\n",
        "pipe_features_oh = Pipeline([(\"input_cat_oh\", SimpleImputer(strategy=\"constant\", fill_value=\"unknown\")),\n",
        "                             (\"onehot\", OneHotEncoder(handle_unknown = \"ignore\"))])\n",
        "\n",
        "features_oh = [\"animal\", \"furniture\"]\n",
        "# ==========================================================\n",
        "pipe_features_oe = Pipeline([(\"input_cat_oe\", SimpleImputer(strategy=\"constant\", fill_value=\"unknown\")),\n",
        "                             (\"ordinal\", OrdinalEncoder())])\n",
        "\n",
        "features_oe = [\"city\"]\n",
        "# ==========================================================\n",
        "# Pré-processador => Pegando as pipelines anteriores e unindo-as.\n",
        "pre_processador = ColumnTransformer([(\"transf_num\", pipe_features_num, features_num),\n",
        "                                     (\"transf_cat_oh\", pipe_features_oh, features_oh),\n",
        "                                     (\"transf_cat_oe\", pipe_features_oe, features_oe)])\n",
        "\n",
        "# ==========================================================\n",
        "# Pipeline final, usando o pré-processador e o estimador que queremos utilizar, neste caso o XGBoost para regressão.\n",
        "pipe_xgbr = Pipeline([(\"pre_processador\", pre_processador),\n",
        "                     (\"xgbr\", XGBRegressor(eval_metric='logloss', random_state=42))])\n",
        "\n",
        "\n",
        "# ==========================================================\n",
        "#Vamos dividir em splits para ter maior variedade de resultados.\n",
        "splitter = StratifiedKFold(n_splits=5, random_state=42, shuffle=True)\n",
        "\n",
        "#Montando a grade de parâmetros do estimador (XGBoost)\n",
        "params_grid_xgbr = {\"xgbr__n_estimators\": [500, 1000, 5000],\n",
        "                   \"xgbr__max_depth\": [2, 3],\n",
        "                   \"xgbr__learning_rate\": [0.001, 0.01],\n",
        "                   \"xgbr__colsample_bytree\": [0.5],\n",
        "                   \"xgbr__subsample\": [0.5],\n",
        "                   \"xgbr__booster\": [\"gbtree\"],\n",
        "                   \"xgbr__reg_alpha\": [0.9]} \n",
        "\n",
        "#Motando a grade geral de parâmetros.\n",
        "aluguelDeCasas_01_xgbr = GridSearchCV(estimator=pipe_xgbr,\n",
        "                       param_grid=params_grid_xgbr,\n",
        "                       scoring=\"r2\",\n",
        "                       cv=splitter,\n",
        "                       verbose=10,\n",
        "                       n_jobs=-1)\n",
        "\n",
        "aluguelDeCasas_01_xgbr.fit(X_train, y_train)"
      ]
    },
    {
      "cell_type": "code",
      "source": [
        "# Predições de treino\n",
        "y_pred_train = aluguelDeCasas_01_xgbr.predict(X_train)\n",
        "\n",
        "print(\"\\nMétricas de treino:\\n\")\n",
        "print(f\"R^2: {r2_score(y_train, y_pred_train):.2f}\")\n",
        "print(f\"MAE: {mean_absolute_error(y_train, y_pred_train):.2f}\")\n",
        "print(f\"RMSE: {np.sqrt(mean_squared_error(y_train, y_pred_train)):.2f}\")\n",
        "\n",
        "# Predições de teste\n",
        "y_pred_test = aluguelDeCasas_01_xgbr.predict(X_test)\n",
        "\n",
        "print(\"\\nMétricas de teste:\\n\")\n",
        "print(f\"R^2: {r2_score(y_test, y_pred_test):.2f}\")\n",
        "print(f\"MAE: {mean_absolute_error(y_test, y_pred_test):.2f}\")\n",
        "print(f\"RMSE: {np.sqrt(mean_squared_error(y_test, y_pred_test)):.2f}\") "
      ],
      "metadata": {
        "colab": {
          "base_uri": "https://localhost:8080/"
        },
        "id": "fFtqxtspc_DK",
        "outputId": "4268a3eb-115d-4c12-b9e6-b25af346d8ad"
      },
      "execution_count": null,
      "outputs": [
        {
          "output_type": "stream",
          "name": "stdout",
          "text": [
            "\n",
            "Métricas de treino:\n",
            "\n",
            "R^2: 0.98\n",
            "MAE: 521.00\n",
            "RMSE: 2625.13\n",
            "\n",
            "Métricas de teste:\n",
            "\n",
            "R^2: 0.95\n",
            "MAE: 521.54\n",
            "RMSE: 1463.21\n"
          ]
        }
      ]
    },
    {
      "cell_type": "code",
      "source": [
        "aluguelDeCasas_01_xgbr.best_params_"
      ],
      "metadata": {
        "colab": {
          "base_uri": "https://localhost:8080/"
        },
        "id": "8JZa23X5b6Gg",
        "outputId": "7b0f3f52-08bd-47cc-927d-81ef0c1c85e0"
      },
      "execution_count": null,
      "outputs": [
        {
          "output_type": "execute_result",
          "data": {
            "text/plain": [
              "{'xgbr__booster': 'gbtree',\n",
              " 'xgbr__colsample_bytree': 0.5,\n",
              " 'xgbr__learning_rate': 0.01,\n",
              " 'xgbr__max_depth': 2,\n",
              " 'xgbr__n_estimators': 1000,\n",
              " 'xgbr__reg_alpha': 0.9,\n",
              " 'xgbr__subsample': 0.5}"
            ]
          },
          "metadata": {},
          "execution_count": 9
        }
      ]
    },
    {
      "cell_type": "code",
      "execution_count": null,
      "metadata": {
        "colab": {
          "base_uri": "https://localhost:8080/",
          "height": 179
        },
        "id": "JQhS5dx9eghm",
        "outputId": "5cc06887-456b-4f25-8ded-c2ffe28fc3c4"
      },
      "outputs": [
        {
          "output_type": "execute_result",
          "data": {
            "text/plain": [
              "   mean_fit_time  std_fit_time  mean_score_time  std_score_time  \\\n",
              "0       3.693615      0.563168         0.047238        0.005185   \n",
              "\n",
              "  param_xgbr__booster param_xgbr__colsample_bytree param_xgbr__learning_rate  \\\n",
              "0              gbtree                          0.5                      0.01   \n",
              "\n",
              "  param_xgbr__max_depth param_xgbr__n_estimators param_xgbr__reg_alpha  \\\n",
              "0                     2                     1000                   0.9   \n",
              "\n",
              "  param_xgbr__subsample                                             params  \\\n",
              "0                   0.5  {'xgbr__booster': 'gbtree', 'xgbr__colsample_b...   \n",
              "\n",
              "   split0_test_score  split1_test_score  split2_test_score  split3_test_score  \\\n",
              "0            0.47811           0.879811           0.875552           0.942794   \n",
              "\n",
              "   split4_test_score  mean_test_score  std_test_score  rank_test_score  \n",
              "0           0.889313         0.813116        0.169232                1  "
            ],
            "text/html": [
              "\n",
              "  <div id=\"df-e3342fa0-eae2-4553-8187-9e5e14b283c1\">\n",
              "    <div class=\"colab-df-container\">\n",
              "      <div>\n",
              "<style scoped>\n",
              "    .dataframe tbody tr th:only-of-type {\n",
              "        vertical-align: middle;\n",
              "    }\n",
              "\n",
              "    .dataframe tbody tr th {\n",
              "        vertical-align: top;\n",
              "    }\n",
              "\n",
              "    .dataframe thead th {\n",
              "        text-align: right;\n",
              "    }\n",
              "</style>\n",
              "<table border=\"1\" class=\"dataframe\">\n",
              "  <thead>\n",
              "    <tr style=\"text-align: right;\">\n",
              "      <th></th>\n",
              "      <th>mean_fit_time</th>\n",
              "      <th>std_fit_time</th>\n",
              "      <th>mean_score_time</th>\n",
              "      <th>std_score_time</th>\n",
              "      <th>param_xgbr__booster</th>\n",
              "      <th>param_xgbr__colsample_bytree</th>\n",
              "      <th>param_xgbr__learning_rate</th>\n",
              "      <th>param_xgbr__max_depth</th>\n",
              "      <th>param_xgbr__n_estimators</th>\n",
              "      <th>param_xgbr__reg_alpha</th>\n",
              "      <th>param_xgbr__subsample</th>\n",
              "      <th>params</th>\n",
              "      <th>split0_test_score</th>\n",
              "      <th>split1_test_score</th>\n",
              "      <th>split2_test_score</th>\n",
              "      <th>split3_test_score</th>\n",
              "      <th>split4_test_score</th>\n",
              "      <th>mean_test_score</th>\n",
              "      <th>std_test_score</th>\n",
              "      <th>rank_test_score</th>\n",
              "    </tr>\n",
              "  </thead>\n",
              "  <tbody>\n",
              "    <tr>\n",
              "      <th>0</th>\n",
              "      <td>3.693615</td>\n",
              "      <td>0.563168</td>\n",
              "      <td>0.047238</td>\n",
              "      <td>0.005185</td>\n",
              "      <td>gbtree</td>\n",
              "      <td>0.5</td>\n",
              "      <td>0.01</td>\n",
              "      <td>2</td>\n",
              "      <td>1000</td>\n",
              "      <td>0.9</td>\n",
              "      <td>0.5</td>\n",
              "      <td>{'xgbr__booster': 'gbtree', 'xgbr__colsample_b...</td>\n",
              "      <td>0.47811</td>\n",
              "      <td>0.879811</td>\n",
              "      <td>0.875552</td>\n",
              "      <td>0.942794</td>\n",
              "      <td>0.889313</td>\n",
              "      <td>0.813116</td>\n",
              "      <td>0.169232</td>\n",
              "      <td>1</td>\n",
              "    </tr>\n",
              "  </tbody>\n",
              "</table>\n",
              "</div>\n",
              "      <button class=\"colab-df-convert\" onclick=\"convertToInteractive('df-e3342fa0-eae2-4553-8187-9e5e14b283c1')\"\n",
              "              title=\"Convert this dataframe to an interactive table.\"\n",
              "              style=\"display:none;\">\n",
              "        \n",
              "  <svg xmlns=\"http://www.w3.org/2000/svg\" height=\"24px\"viewBox=\"0 0 24 24\"\n",
              "       width=\"24px\">\n",
              "    <path d=\"M0 0h24v24H0V0z\" fill=\"none\"/>\n",
              "    <path d=\"M18.56 5.44l.94 2.06.94-2.06 2.06-.94-2.06-.94-.94-2.06-.94 2.06-2.06.94zm-11 1L8.5 8.5l.94-2.06 2.06-.94-2.06-.94L8.5 2.5l-.94 2.06-2.06.94zm10 10l.94 2.06.94-2.06 2.06-.94-2.06-.94-.94-2.06-.94 2.06-2.06.94z\"/><path d=\"M17.41 7.96l-1.37-1.37c-.4-.4-.92-.59-1.43-.59-.52 0-1.04.2-1.43.59L10.3 9.45l-7.72 7.72c-.78.78-.78 2.05 0 2.83L4 21.41c.39.39.9.59 1.41.59.51 0 1.02-.2 1.41-.59l7.78-7.78 2.81-2.81c.8-.78.8-2.07 0-2.86zM5.41 20L4 18.59l7.72-7.72 1.47 1.35L5.41 20z\"/>\n",
              "  </svg>\n",
              "      </button>\n",
              "      \n",
              "  <style>\n",
              "    .colab-df-container {\n",
              "      display:flex;\n",
              "      flex-wrap:wrap;\n",
              "      gap: 12px;\n",
              "    }\n",
              "\n",
              "    .colab-df-convert {\n",
              "      background-color: #E8F0FE;\n",
              "      border: none;\n",
              "      border-radius: 50%;\n",
              "      cursor: pointer;\n",
              "      display: none;\n",
              "      fill: #1967D2;\n",
              "      height: 32px;\n",
              "      padding: 0 0 0 0;\n",
              "      width: 32px;\n",
              "    }\n",
              "\n",
              "    .colab-df-convert:hover {\n",
              "      background-color: #E2EBFA;\n",
              "      box-shadow: 0px 1px 2px rgba(60, 64, 67, 0.3), 0px 1px 3px 1px rgba(60, 64, 67, 0.15);\n",
              "      fill: #174EA6;\n",
              "    }\n",
              "\n",
              "    [theme=dark] .colab-df-convert {\n",
              "      background-color: #3B4455;\n",
              "      fill: #D2E3FC;\n",
              "    }\n",
              "\n",
              "    [theme=dark] .colab-df-convert:hover {\n",
              "      background-color: #434B5C;\n",
              "      box-shadow: 0px 1px 3px 1px rgba(0, 0, 0, 0.15);\n",
              "      filter: drop-shadow(0px 1px 2px rgba(0, 0, 0, 0.3));\n",
              "      fill: #FFFFFF;\n",
              "    }\n",
              "  </style>\n",
              "\n",
              "      <script>\n",
              "        const buttonEl =\n",
              "          document.querySelector('#df-e3342fa0-eae2-4553-8187-9e5e14b283c1 button.colab-df-convert');\n",
              "        buttonEl.style.display =\n",
              "          google.colab.kernel.accessAllowed ? 'block' : 'none';\n",
              "\n",
              "        async function convertToInteractive(key) {\n",
              "          const element = document.querySelector('#df-e3342fa0-eae2-4553-8187-9e5e14b283c1');\n",
              "          const dataTable =\n",
              "            await google.colab.kernel.invokeFunction('convertToInteractive',\n",
              "                                                     [key], {});\n",
              "          if (!dataTable) return;\n",
              "\n",
              "          const docLinkHtml = 'Like what you see? Visit the ' +\n",
              "            '<a target=\"_blank\" href=https://colab.research.google.com/notebooks/data_table.ipynb>data table notebook</a>'\n",
              "            + ' to learn more about interactive tables.';\n",
              "          element.innerHTML = '';\n",
              "          dataTable['output_type'] = 'display_data';\n",
              "          await google.colab.output.renderOutput(dataTable, element);\n",
              "          const docLink = document.createElement('div');\n",
              "          docLink.innerHTML = docLinkHtml;\n",
              "          element.appendChild(docLink);\n",
              "        }\n",
              "      </script>\n",
              "    </div>\n",
              "  </div>\n",
              "  "
            ]
          },
          "metadata": {},
          "execution_count": 10
        }
      ],
      "source": [
        "xgbr_results = pd.DataFrame(aluguelDeCasas_01_xgbr.cv_results_)\n",
        "xgbr_results.sort_values(by=[\"rank_test_score\"])"
      ]
    },
    {
      "cell_type": "markdown",
      "source": [
        "**Salvando o estimador...**"
      ],
      "metadata": {
        "id": "MdGbxIe4yDDC"
      }
    },
    {
      "cell_type": "code",
      "execution_count": null,
      "metadata": {
        "id": "_S4g9v-jeqIu"
      },
      "outputs": [],
      "source": [
        "import pickle"
      ]
    },
    {
      "cell_type": "code",
      "execution_count": null,
      "metadata": {
        "id": "zBCg1oreesSG"
      },
      "outputs": [],
      "source": [
        "with open(\"aluguelDeCasas_01_xgbr.pkl\", \"wb\") as f:\n",
        "    pickle.dump(aluguelDeCasas_01_xgbr, f)"
      ]
    },
    {
      "cell_type": "code",
      "execution_count": null,
      "metadata": {
        "id": "htnL5nQVeu8G",
        "colab": {
          "base_uri": "https://localhost:8080/"
        },
        "outputId": "2086b4d3-d7b1-4e6a-f318-12fca02d573d"
      },
      "outputs": [
        {
          "output_type": "stream",
          "name": "stdout",
          "text": [
            "[19:26:48] WARNING: /workspace/src/objective/regression_obj.cu:152: reg:linear is now deprecated in favor of reg:squarederror.\n"
          ]
        }
      ],
      "source": [
        "with open(\"aluguelDeCasas_01_xgbr.pkl\", \"rb\") as f:\n",
        "    \n",
        "    aluguelDeCasas_01_xgbr = pickle.load(f)"
      ]
    },
    {
      "cell_type": "markdown",
      "source": [
        "**Vamos agora fazer uma breve comparação entre os dados originais e os preditos.**"
      ],
      "metadata": {
        "id": "yozzzuNvyG65"
      }
    },
    {
      "cell_type": "code",
      "source": [
        "plt.figure(figsize=(40,8))\n",
        "x_ax = range(len(y_test))\n",
        "plt.plot(x_ax, y_test, label=\"Valores originais\")\n",
        "plt.plot(x_ax, y_pred_test, label=\"Valores preditos\")\n",
        "plt.title(\"Aluguel de imóveis\")\n",
        "plt.legend()\n",
        "plt.show();"
      ],
      "metadata": {
        "colab": {
          "base_uri": "https://localhost:8080/",
          "height": 395
        },
        "id": "UK_moJtunbfM",
        "outputId": "bfc47b10-89d2-4675-b0ad-afc7b415ad0e"
      },
      "execution_count": null,
      "outputs": [
        {
          "output_type": "display_data",
          "data": {
            "text/plain": [
              "<Figure size 2880x576 with 1 Axes>"
            ],
            "image/png": "[encoded data removed]"
          },
          "metadata": {
            "needs_background": "light"
          }
        }
      ]
    },
    {
      "cell_type": "markdown",
      "source": [
        "**Vamos criar uma tabela com a porcentagem de acertos para cada dado**"
      ],
      "metadata": {
        "id": "ykb1AUy0QFdk"
      }
    },
    {
      "cell_type": "code",
      "execution_count": null,
      "metadata": {
        "id": "JNL4Doike4PW"
      },
      "outputs": [],
      "source": [
        "tabela = pd.DataFrame()"
      ]
    },
    {
      "cell_type": "code",
      "execution_count": null,
      "metadata": {
        "id": "nBArZVvAe4FO"
      },
      "outputs": [],
      "source": [
        "tabela[\"valores reais\"] = y_test"
      ]
    },
    {
      "cell_type": "code",
      "execution_count": null,
      "metadata": {
        "id": "Hd55UIdde6yu"
      },
      "outputs": [],
      "source": [
        "tabela[\"valores preditos\"] = y_pred_test"
      ]
    },
    {
      "cell_type": "code",
      "execution_count": null,
      "metadata": {
        "id": "egBGyryvgFGK"
      },
      "outputs": [],
      "source": [
        "tabela[\"porcentagem de acerto %\"]= (y_test/y_pred_test)*100"
      ]
    },
    {
      "cell_type": "code",
      "execution_count": null,
      "metadata": {
        "id": "hgwAxLyDjE8X"
      },
      "outputs": [],
      "source": [
        "lista_num = []\n",
        "for c in tabela[\"porcentagem de acerto %\"]:\n",
        "  if c > 100:\n",
        "    num = abs(c - 200)\n",
        "    lista_num.append(num)\n",
        "  else:\n",
        "    num = c\n",
        "    lista_num.append(num)\n",
        "  \n",
        "\n",
        "tabela[\"porcentagem de acerto %\"]= lista_num"
      ]
    },
    {
      "cell_type": "code",
      "execution_count": null,
      "metadata": {
        "colab": {
          "base_uri": "https://localhost:8080/",
          "height": 424
        },
        "id": "hlwvK8pne83-",
        "outputId": "4e9fd655-c079-4c7f-ffab-b13d98da19e3"
      },
      "outputs": [
        {
          "output_type": "execute_result",
          "data": {
            "text/plain": [
              "       valores reais  valores preditos  porcentagem de acerto %\n",
              "3165            2134       2473.410645                86.277627\n",
              "9265            3345       3462.752686                96.599449\n",
              "1940            4226       4515.419922                93.590410\n",
              "10439           3474       3126.400146                88.881786\n",
              "395             2760       2511.424805                90.102224\n",
              "...              ...               ...                      ...\n",
              "5633           10670      10128.360352                94.652247\n",
              "3951           11550      11585.111328                99.696927\n",
              "3970            3279       4818.633301                68.048341\n",
              "2571            1929       1859.332031                96.253065\n",
              "5335           16240      16131.108398                99.324959\n",
              "\n",
              "[2139 rows x 3 columns]"
            ],
            "text/html": [
              "\n",
              "  <div id=\"df-9c786fcf-d218-481d-a5e6-4f1d0f6c9f93\">\n",
              "    <div class=\"colab-df-container\">\n",
              "      <div>\n",
              "<style scoped>\n",
              "    .dataframe tbody tr th:only-of-type {\n",
              "        vertical-align: middle;\n",
              "    }\n",
              "\n",
              "    .dataframe tbody tr th {\n",
              "        vertical-align: top;\n",
              "    }\n",
              "\n",
              "    .dataframe thead th {\n",
              "        text-align: right;\n",
              "    }\n",
              "</style>\n",
              "<table border=\"1\" class=\"dataframe\">\n",
              "  <thead>\n",
              "    <tr style=\"text-align: right;\">\n",
              "      <th></th>\n",
              "      <th>valores reais</th>\n",
              "      <th>valores preditos</th>\n",
              "      <th>porcentagem de acerto %</th>\n",
              "    </tr>\n",
              "  </thead>\n",
              "  <tbody>\n",
              "    <tr>\n",
              "      <th>3165</th>\n",
              "      <td>2134</td>\n",
              "      <td>2473.410645</td>\n",
              "      <td>86.277627</td>\n",
              "    </tr>\n",
              "    <tr>\n",
              "      <th>9265</th>\n",
              "      <td>3345</td>\n",
              "      <td>3462.752686</td>\n",
              "      <td>96.599449</td>\n",
              "    </tr>\n",
              "    <tr>\n",
              "      <th>1940</th>\n",
              "      <td>4226</td>\n",
              "      <td>4515.419922</td>\n",
              "      <td>93.590410</td>\n",
              "    </tr>\n",
              "    <tr>\n",
              "      <th>10439</th>\n",
              "      <td>3474</td>\n",
              "      <td>3126.400146</td>\n",
              "      <td>88.881786</td>\n",
              "    </tr>\n",
              "    <tr>\n",
              "      <th>395</th>\n",
              "      <td>2760</td>\n",
              "      <td>2511.424805</td>\n",
              "      <td>90.102224</td>\n",
              "    </tr>\n",
              "    <tr>\n",
              "      <th>...</th>\n",
              "      <td>...</td>\n",
              "      <td>...</td>\n",
              "      <td>...</td>\n",
              "    </tr>\n",
              "    <tr>\n",
              "      <th>5633</th>\n",
              "      <td>10670</td>\n",
              "      <td>10128.360352</td>\n",
              "      <td>94.652247</td>\n",
              "    </tr>\n",
              "    <tr>\n",
              "      <th>3951</th>\n",
              "      <td>11550</td>\n",
              "      <td>11585.111328</td>\n",
              "      <td>99.696927</td>\n",
              "    </tr>\n",
              "    <tr>\n",
              "      <th>3970</th>\n",
              "      <td>3279</td>\n",
              "      <td>4818.633301</td>\n",
              "      <td>68.048341</td>\n",
              "    </tr>\n",
              "    <tr>\n",
              "      <th>2571</th>\n",
              "      <td>1929</td>\n",
              "      <td>1859.332031</td>\n",
              "      <td>96.253065</td>\n",
              "    </tr>\n",
              "    <tr>\n",
              "      <th>5335</th>\n",
              "      <td>16240</td>\n",
              "      <td>16131.108398</td>\n",
              "      <td>99.324959</td>\n",
              "    </tr>\n",
              "  </tbody>\n",
              "</table>\n",
              "<p>2139 rows × 3 columns</p>\n",
              "</div>\n",
              "      <button class=\"colab-df-convert\" onclick=\"convertToInteractive('df-9c786fcf-d218-481d-a5e6-4f1d0f6c9f93')\"\n",
              "              title=\"Convert this dataframe to an interactive table.\"\n",
              "              style=\"display:none;\">\n",
              "        \n",
              "  <svg xmlns=\"http://www.w3.org/2000/svg\" height=\"24px\"viewBox=\"0 0 24 24\"\n",
              "       width=\"24px\">\n",
              "    <path d=\"M0 0h24v24H0V0z\" fill=\"none\"/>\n",
              "    <path d=\"M18.56 5.44l.94 2.06.94-2.06 2.06-.94-2.06-.94-.94-2.06-.94 2.06-2.06.94zm-11 1L8.5 8.5l.94-2.06 2.06-.94-2.06-.94L8.5 2.5l-.94 2.06-2.06.94zm10 10l.94 2.06.94-2.06 2.06-.94-2.06-.94-.94-2.06-.94 2.06-2.06.94z\"/><path d=\"M17.41 7.96l-1.37-1.37c-.4-.4-.92-.59-1.43-.59-.52 0-1.04.2-1.43.59L10.3 9.45l-7.72 7.72c-.78.78-.78 2.05 0 2.83L4 21.41c.39.39.9.59 1.41.59.51 0 1.02-.2 1.41-.59l7.78-7.78 2.81-2.81c.8-.78.8-2.07 0-2.86zM5.41 20L4 18.59l7.72-7.72 1.47 1.35L5.41 20z\"/>\n",
              "  </svg>\n",
              "      </button>\n",
              "      \n",
              "  <style>\n",
              "    .colab-df-container {\n",
              "      display:flex;\n",
              "      flex-wrap:wrap;\n",
              "      gap: 12px;\n",
              "    }\n",
              "\n",
              "    .colab-df-convert {\n",
              "      background-color: #E8F0FE;\n",
              "      border: none;\n",
              "      border-radius: 50%;\n",
              "      cursor: pointer;\n",
              "      display: none;\n",
              "      fill: #1967D2;\n",
              "      height: 32px;\n",
              "      padding: 0 0 0 0;\n",
              "      width: 32px;\n",
              "    }\n",
              "\n",
              "    .colab-df-convert:hover {\n",
              "      background-color: #E2EBFA;\n",
              "      box-shadow: 0px 1px 2px rgba(60, 64, 67, 0.3), 0px 1px 3px 1px rgba(60, 64, 67, 0.15);\n",
              "      fill: #174EA6;\n",
              "    }\n",
              "\n",
              "    [theme=dark] .colab-df-convert {\n",
              "      background-color: #3B4455;\n",
              "      fill: #D2E3FC;\n",
              "    }\n",
              "\n",
              "    [theme=dark] .colab-df-convert:hover {\n",
              "      background-color: #434B5C;\n",
              "      box-shadow: 0px 1px 3px 1px rgba(0, 0, 0, 0.15);\n",
              "      filter: drop-shadow(0px 1px 2px rgba(0, 0, 0, 0.3));\n",
              "      fill: #FFFFFF;\n",
              "    }\n",
              "  </style>\n",
              "\n",
              "      <script>\n",
              "        const buttonEl =\n",
              "          document.querySelector('#df-9c786fcf-d218-481d-a5e6-4f1d0f6c9f93 button.colab-df-convert');\n",
              "        buttonEl.style.display =\n",
              "          google.colab.kernel.accessAllowed ? 'block' : 'none';\n",
              "\n",
              "        async function convertToInteractive(key) {\n",
              "          const element = document.querySelector('#df-9c786fcf-d218-481d-a5e6-4f1d0f6c9f93');\n",
              "          const dataTable =\n",
              "            await google.colab.kernel.invokeFunction('convertToInteractive',\n",
              "                                                     [key], {});\n",
              "          if (!dataTable) return;\n",
              "\n",
              "          const docLinkHtml = 'Like what you see? Visit the ' +\n",
              "            '<a target=\"_blank\" href=https://colab.research.google.com/notebooks/data_table.ipynb>data table notebook</a>'\n",
              "            + ' to learn more about interactive tables.';\n",
              "          element.innerHTML = '';\n",
              "          dataTable['output_type'] = 'display_data';\n",
              "          await google.colab.output.renderOutput(dataTable, element);\n",
              "          const docLink = document.createElement('div');\n",
              "          docLink.innerHTML = docLinkHtml;\n",
              "          element.appendChild(docLink);\n",
              "        }\n",
              "      </script>\n",
              "    </div>\n",
              "  </div>\n",
              "  "
            ]
          },
          "metadata": {},
          "execution_count": 22
        }
      ],
      "source": [
        "tabela"
      ]
    },
    {
      "cell_type": "code",
      "source": [
        "tabela.to_csv(\"01-aluguelDeCasas_resultado.csv\")"
      ],
      "metadata": {
        "id": "RpiD9MZP1J4N"
      },
      "execution_count": null,
      "outputs": []
    },
    {
      "cell_type": "markdown",
      "metadata": {
        "id": "eJHNWP3kV8iS"
      },
      "source": [
        "##**Interpretando o modelo globalmente**"
      ]
    },
    {
      "cell_type": "markdown",
      "metadata": {
        "id": "Qp1fQ46lWPTk"
      },
      "source": [
        "**Para a interpretação só podemos considerar as features numéricas, vamos retirar as features categóricas:**"
      ]
    },
    {
      "cell_type": "markdown",
      "metadata": {
        "id": "j7jxqycZIK7_"
      },
      "source": [
        "Percebemos que as features que tem dados como números contínuos tem um maior impacto na interpretação do que as features com dados como números discretos e as features com os maiores valores pesam mais na saída final, se analisarmos no dataset veremos que os valores da feature 'rent amount' são maiores que 'hoa' e assim sucessivamente como vemos no gráfico final:"
      ]
    },
    {
      "cell_type": "markdown",
      "metadata": {
        "id": "8Af3Hpzq9URP"
      },
      "source": [
        "**SHAP**"
      ]
    },
    {
      "cell_type": "code",
      "execution_count": null,
      "metadata": {
        "id": "B8hveFOf2nnI"
      },
      "outputs": [],
      "source": [
        "!pip install shap\n",
        "import shap"
      ]
    },
    {
      "cell_type": "code",
      "execution_count": null,
      "metadata": {
        "id": "S50sBRDIPYbo",
        "colab": {
          "base_uri": "https://localhost:8080/",
          "height": 206
        },
        "outputId": "b007c8ae-b709-48b6-fc07-7cd963741f28"
      },
      "outputs": [
        {
          "output_type": "execute_result",
          "data": {
            "text/plain": [
              "           city  area  rooms  bathroom  parking spaces floor     animal  \\\n",
              "0     São Paulo    70      2         1               1     7      acept   \n",
              "1     São Paulo   320      4         4               0    20      acept   \n",
              "2  Porto Alegre    80      1         1               1     6      acept   \n",
              "3  Porto Alegre    51      2         1               0     2      acept   \n",
              "4     São Paulo    25      1         1               0     1  not acept   \n",
              "\n",
              "       furniture  hoa (R$)  rent amount (R$)  property tax (R$)  \\\n",
              "0      furnished      2065              3300                211   \n",
              "1  not furnished      1200              4960               1750   \n",
              "2  not furnished      1000              2800                  0   \n",
              "3  not furnished       270              1112                 22   \n",
              "4  not furnished         0               800                 25   \n",
              "\n",
              "   fire insurance (R$)  total (R$)  \n",
              "0                   42        5618  \n",
              "1                   63        7973  \n",
              "2                   41        3841  \n",
              "3                   17        1421  \n",
              "4                   11         836  "
            ],
            "text/html": [
              "\n",
              "  <div id=\"df-28c0a849-948c-4555-b9e7-6b98e2958dcd\">\n",
              "    <div class=\"colab-df-container\">\n",
              "      <div>\n",
              "<style scoped>\n",
              "    .dataframe tbody tr th:only-of-type {\n",
              "        vertical-align: middle;\n",
              "    }\n",
              "\n",
              "    .dataframe tbody tr th {\n",
              "        vertical-align: top;\n",
              "    }\n",
              "\n",
              "    .dataframe thead th {\n",
              "        text-align: right;\n",
              "    }\n",
              "</style>\n",
              "<table border=\"1\" class=\"dataframe\">\n",
              "  <thead>\n",
              "    <tr style=\"text-align: right;\">\n",
              "      <th></th>\n",
              "      <th>city</th>\n",
              "      <th>area</th>\n",
              "      <th>rooms</th>\n",
              "      <th>bathroom</th>\n",
              "      <th>parking spaces</th>\n",
              "      <th>floor</th>\n",
              "      <th>animal</th>\n",
              "      <th>furniture</th>\n",
              "      <th>hoa (R$)</th>\n",
              "      <th>rent amount (R$)</th>\n",
              "      <th>property tax (R$)</th>\n",
              "      <th>fire insurance (R$)</th>\n",
              "      <th>total (R$)</th>\n",
              "    </tr>\n",
              "  </thead>\n",
              "  <tbody>\n",
              "    <tr>\n",
              "      <th>0</th>\n",
              "      <td>São Paulo</td>\n",
              "      <td>70</td>\n",
              "      <td>2</td>\n",
              "      <td>1</td>\n",
              "      <td>1</td>\n",
              "      <td>7</td>\n",
              "      <td>acept</td>\n",
              "      <td>furnished</td>\n",
              "      <td>2065</td>\n",
              "      <td>3300</td>\n",
              "      <td>211</td>\n",
              "      <td>42</td>\n",
              "      <td>5618</td>\n",
              "    </tr>\n",
              "    <tr>\n",
              "      <th>1</th>\n",
              "      <td>São Paulo</td>\n",
              "      <td>320</td>\n",
              "      <td>4</td>\n",
              "      <td>4</td>\n",
              "      <td>0</td>\n",
              "      <td>20</td>\n",
              "      <td>acept</td>\n",
              "      <td>not furnished</td>\n",
              "      <td>1200</td>\n",
              "      <td>4960</td>\n",
              "      <td>1750</td>\n",
              "      <td>63</td>\n",
              "      <td>7973</td>\n",
              "    </tr>\n",
              "    <tr>\n",
              "      <th>2</th>\n",
              "      <td>Porto Alegre</td>\n",
              "      <td>80</td>\n",
              "      <td>1</td>\n",
              "      <td>1</td>\n",
              "      <td>1</td>\n",
              "      <td>6</td>\n",
              "      <td>acept</td>\n",
              "      <td>not furnished</td>\n",
              "      <td>1000</td>\n",
              "      <td>2800</td>\n",
              "      <td>0</td>\n",
              "      <td>41</td>\n",
              "      <td>3841</td>\n",
              "    </tr>\n",
              "    <tr>\n",
              "      <th>3</th>\n",
              "      <td>Porto Alegre</td>\n",
              "      <td>51</td>\n",
              "      <td>2</td>\n",
              "      <td>1</td>\n",
              "      <td>0</td>\n",
              "      <td>2</td>\n",
              "      <td>acept</td>\n",
              "      <td>not furnished</td>\n",
              "      <td>270</td>\n",
              "      <td>1112</td>\n",
              "      <td>22</td>\n",
              "      <td>17</td>\n",
              "      <td>1421</td>\n",
              "    </tr>\n",
              "    <tr>\n",
              "      <th>4</th>\n",
              "      <td>São Paulo</td>\n",
              "      <td>25</td>\n",
              "      <td>1</td>\n",
              "      <td>1</td>\n",
              "      <td>0</td>\n",
              "      <td>1</td>\n",
              "      <td>not acept</td>\n",
              "      <td>not furnished</td>\n",
              "      <td>0</td>\n",
              "      <td>800</td>\n",
              "      <td>25</td>\n",
              "      <td>11</td>\n",
              "      <td>836</td>\n",
              "    </tr>\n",
              "  </tbody>\n",
              "</table>\n",
              "</div>\n",
              "      <button class=\"colab-df-convert\" onclick=\"convertToInteractive('df-28c0a849-948c-4555-b9e7-6b98e2958dcd')\"\n",
              "              title=\"Convert this dataframe to an interactive table.\"\n",
              "              style=\"display:none;\">\n",
              "        \n",
              "  <svg xmlns=\"http://www.w3.org/2000/svg\" height=\"24px\"viewBox=\"0 0 24 24\"\n",
              "       width=\"24px\">\n",
              "    <path d=\"M0 0h24v24H0V0z\" fill=\"none\"/>\n",
              "    <path d=\"M18.56 5.44l.94 2.06.94-2.06 2.06-.94-2.06-.94-.94-2.06-.94 2.06-2.06.94zm-11 1L8.5 8.5l.94-2.06 2.06-.94-2.06-.94L8.5 2.5l-.94 2.06-2.06.94zm10 10l.94 2.06.94-2.06 2.06-.94-2.06-.94-.94-2.06-.94 2.06-2.06.94z\"/><path d=\"M17.41 7.96l-1.37-1.37c-.4-.4-.92-.59-1.43-.59-.52 0-1.04.2-1.43.59L10.3 9.45l-7.72 7.72c-.78.78-.78 2.05 0 2.83L4 21.41c.39.39.9.59 1.41.59.51 0 1.02-.2 1.41-.59l7.78-7.78 2.81-2.81c.8-.78.8-2.07 0-2.86zM5.41 20L4 18.59l7.72-7.72 1.47 1.35L5.41 20z\"/>\n",
              "  </svg>\n",
              "      </button>\n",
              "      \n",
              "  <style>\n",
              "    .colab-df-container {\n",
              "      display:flex;\n",
              "      flex-wrap:wrap;\n",
              "      gap: 12px;\n",
              "    }\n",
              "\n",
              "    .colab-df-convert {\n",
              "      background-color: #E8F0FE;\n",
              "      border: none;\n",
              "      border-radius: 50%;\n",
              "      cursor: pointer;\n",
              "      display: none;\n",
              "      fill: #1967D2;\n",
              "      height: 32px;\n",
              "      padding: 0 0 0 0;\n",
              "      width: 32px;\n",
              "    }\n",
              "\n",
              "    .colab-df-convert:hover {\n",
              "      background-color: #E2EBFA;\n",
              "      box-shadow: 0px 1px 2px rgba(60, 64, 67, 0.3), 0px 1px 3px 1px rgba(60, 64, 67, 0.15);\n",
              "      fill: #174EA6;\n",
              "    }\n",
              "\n",
              "    [theme=dark] .colab-df-convert {\n",
              "      background-color: #3B4455;\n",
              "      fill: #D2E3FC;\n",
              "    }\n",
              "\n",
              "    [theme=dark] .colab-df-convert:hover {\n",
              "      background-color: #434B5C;\n",
              "      box-shadow: 0px 1px 3px 1px rgba(0, 0, 0, 0.15);\n",
              "      filter: drop-shadow(0px 1px 2px rgba(0, 0, 0, 0.3));\n",
              "      fill: #FFFFFF;\n",
              "    }\n",
              "  </style>\n",
              "\n",
              "      <script>\n",
              "        const buttonEl =\n",
              "          document.querySelector('#df-28c0a849-948c-4555-b9e7-6b98e2958dcd button.colab-df-convert');\n",
              "        buttonEl.style.display =\n",
              "          google.colab.kernel.accessAllowed ? 'block' : 'none';\n",
              "\n",
              "        async function convertToInteractive(key) {\n",
              "          const element = document.querySelector('#df-28c0a849-948c-4555-b9e7-6b98e2958dcd');\n",
              "          const dataTable =\n",
              "            await google.colab.kernel.invokeFunction('convertToInteractive',\n",
              "                                                     [key], {});\n",
              "          if (!dataTable) return;\n",
              "\n",
              "          const docLinkHtml = 'Like what you see? Visit the ' +\n",
              "            '<a target=\"_blank\" href=https://colab.research.google.com/notebooks/data_table.ipynb>data table notebook</a>'\n",
              "            + ' to learn more about interactive tables.';\n",
              "          element.innerHTML = '';\n",
              "          dataTable['output_type'] = 'display_data';\n",
              "          await google.colab.output.renderOutput(dataTable, element);\n",
              "          const docLink = document.createElement('div');\n",
              "          docLink.innerHTML = docLinkHtml;\n",
              "          element.appendChild(docLink);\n",
              "        }\n",
              "      </script>\n",
              "    </div>\n",
              "  </div>\n",
              "  "
            ]
          },
          "metadata": {},
          "execution_count": 24
        }
      ],
      "source": [
        "df = pd.read_csv(\"casas_aluguel.csv\")\n",
        "df.head()"
      ]
    },
    {
      "cell_type": "markdown",
      "source": [
        "**Agora vamos tratar o NaN dentro da coluna \"floor\":**"
      ],
      "metadata": {
        "id": "i7VgjIAj2u_c"
      }
    },
    {
      "cell_type": "code",
      "source": [
        "df[\"floor\"].replace(\"-\", np.nan, inplace=True)"
      ],
      "metadata": {
        "id": "y67folYIzjQB"
      },
      "execution_count": null,
      "outputs": []
    },
    {
      "cell_type": "code",
      "source": [
        "ss = SimpleImputer(missing_values=np.nan, strategy=\"median\")\n",
        "ss.fit(df[[\"floor\"]])\n",
        "\n",
        "m = ss.transform(df[[\"floor\"]])\n",
        "df[[\"floor\"]] = m"
      ],
      "metadata": {
        "id": "3hNBggoV21Ys"
      },
      "execution_count": null,
      "outputs": []
    },
    {
      "cell_type": "markdown",
      "source": [
        "**O Shap só aceita dados numéricos, vamos transformar as Features categóricas em numéricas.**"
      ],
      "metadata": {
        "id": "K2NOE9BUypiy"
      }
    },
    {
      "cell_type": "markdown",
      "source": [
        "**Transformando as Features categóricas em numéricas - OneHotEnconder - Features de dados binários:**"
      ],
      "metadata": {
        "id": "XlV1Xr6SRkEK"
      }
    },
    {
      "cell_type": "code",
      "source": [
        "#\"animal\", \"furniture\"\n",
        "ohe =  OneHotEncoder(handle_unknown='ignore')\n",
        "ohe.fit(df[[\"furniture\"]])\n",
        "\n",
        "\n",
        "df[\"furniture\"] = ohe.transform(df[[\"furniture\"]]).toarray()"
      ],
      "metadata": {
        "id": "n2nsPq95Q6Rx"
      },
      "execution_count": null,
      "outputs": []
    },
    {
      "cell_type": "markdown",
      "source": [
        "**Transformando as Features categóricas em numéricas - OrdinalEncoder() - Feature com mais de 2 dados diferentes.**"
      ],
      "metadata": {
        "id": "WdEFqcwsZM1h"
      }
    },
    {
      "cell_type": "code",
      "source": [
        "# \"city\"\n",
        "oe =  OrdinalEncoder()\n",
        "oe.fit(df[[\"city\"]])\n",
        "\n",
        "\n",
        "df[\"city\"] = oe.transform(df[[\"city\"]])"
      ],
      "metadata": {
        "id": "G4fDsjuSVMiJ"
      },
      "execution_count": null,
      "outputs": []
    },
    {
      "cell_type": "markdown",
      "source": [
        "**Vamos escalonar todas as Features, pois a amplitude entre os dados está muito grande, isso pode causar um viés no resultado final:**"
      ],
      "metadata": {
        "id": "6yUhfH1Ra1E5"
      }
    },
    {
      "cell_type": "code",
      "source": [
        "ssc = StandardScaler()\n",
        "\n",
        "ssc.fit(df[['city', 'area', 'rooms', 'bathroom', 'parking spaces', 'floor','animal', 'furniture', 'hoa (R$)', 'rent amount (R$)','property tax (R$)', 'fire insurance (R$)']])\n",
        "h= ssc.transform(df[['city', 'area', 'rooms', 'bathroom', 'parking spaces', 'floor','animal', 'furniture', 'hoa (R$)', 'rent amount (R$)','property tax (R$)', 'fire insurance (R$)']])\n",
        "df[['city', 'area', 'rooms', 'bathroom', 'parking spaces', 'floor','animal', 'furniture', 'hoa (R$)', 'rent amount (R$)','property tax (R$)', 'fire insurance (R$)']] = h"
      ],
      "metadata": {
        "id": "2HZDW5NwbdoP"
      },
      "execution_count": null,
      "outputs": []
    },
    {
      "cell_type": "code",
      "source": [
        "df"
      ],
      "metadata": {
        "colab": {
          "base_uri": "https://localhost:8080/",
          "height": 424
        },
        "id": "fgUpGAtlz13P",
        "outputId": "4c44667a-85a9-4808-ad0c-965c7bc7da31"
      },
      "execution_count": null,
      "outputs": [
        {
          "output_type": "execute_result",
          "data": {
            "text/plain": [
              "           city      area     rooms  bathroom  parking spaces     floor  \\\n",
              "0      0.752567 -0.147522 -0.432099 -0.878960       -0.383245  0.143590   \n",
              "1      0.752567  0.318035  1.275535  1.253036       -1.012395  2.533254   \n",
              "2     -0.649497 -0.128899 -1.285916 -0.878960       -0.383245 -0.040230   \n",
              "3     -0.649497 -0.182904 -0.432099 -0.878960       -1.012395 -0.775511   \n",
              "4      0.752567 -0.231322 -1.285916 -0.878960       -1.012395 -0.959332   \n",
              "...         ...       ...       ...       ...             ...       ...   \n",
              "10687 -0.649497 -0.160557 -0.432099 -0.878960       -0.383245 -0.224050   \n",
              "10688  0.752567  0.252857  1.275535  1.253036        1.504205  1.981793   \n",
              "10689  0.051535 -0.147522  0.421718  0.542371       -1.012395  0.327411   \n",
              "10690  0.051535 -0.054410 -0.432099 -0.168294        0.245905  0.327411   \n",
              "10691  0.752567 -0.128899 -0.432099 -0.878960       -1.012395 -0.224050   \n",
              "\n",
              "         animal  furniture  hoa (R$)  rent amount (R$)  property tax (R$)  \\\n",
              "0      0.534522   1.761488  0.057145         -0.174935          -0.050103   \n",
              "1      0.534522  -0.567702  0.001666          0.312099           0.445121   \n",
              "2      0.534522  -0.567702 -0.011161         -0.321632          -0.117999   \n",
              "3      0.534522  -0.567702 -0.057981         -0.816881          -0.110920   \n",
              "4     -1.870829  -0.567702 -0.075298         -0.908420          -0.109955   \n",
              "...         ...        ...       ...               ...                ...   \n",
              "10687 -1.870829   1.761488 -0.049515         -0.709499          -0.110276   \n",
              "10688  0.534522  -0.567702  0.123527          3.257774           0.195095   \n",
              "10689 -1.870829   1.761488 -0.012444          0.617228          -0.011167   \n",
              "10690  0.534522   1.761488  0.026359          2.377592          -0.028222   \n",
              "10691  0.534522  -0.567702 -0.075298         -0.732384          -0.064905   \n",
              "\n",
              "       fire insurance (R$)  total (R$)  \n",
              "0                -0.236589        5618  \n",
              "1                 0.203056        7973  \n",
              "2                -0.257525        3841  \n",
              "3                -0.759976        1421  \n",
              "4                -0.885589         836  \n",
              "...                    ...         ...  \n",
              "10687            -0.655299        1926  \n",
              "10688             2.882798       19260  \n",
              "10689             0.517088        7390  \n",
              "10690             2.129120       14020  \n",
              "10691            -0.655299        1587  \n",
              "\n",
              "[10692 rows x 13 columns]"
            ],
            "text/html": [
              "\n",
              "  <div id=\"df-40e29ca4-f14f-4abe-9452-c4c6a9190b98\">\n",
              "    <div class=\"colab-df-container\">\n",
              "      <div>\n",
              "<style scoped>\n",
              "    .dataframe tbody tr th:only-of-type {\n",
              "        vertical-align: middle;\n",
              "    }\n",
              "\n",
              "    .dataframe tbody tr th {\n",
              "        vertical-align: top;\n",
              "    }\n",
              "\n",
              "    .dataframe thead th {\n",
              "        text-align: right;\n",
              "    }\n",
              "</style>\n",
              "<table border=\"1\" class=\"dataframe\">\n",
              "  <thead>\n",
              "    <tr style=\"text-align: right;\">\n",
              "      <th></th>\n",
              "      <th>city</th>\n",
              "      <th>area</th>\n",
              "      <th>rooms</th>\n",
              "      <th>bathroom</th>\n",
              "      <th>parking spaces</th>\n",
              "      <th>floor</th>\n",
              "      <th>animal</th>\n",
              "      <th>furniture</th>\n",
              "      <th>hoa (R$)</th>\n",
              "      <th>rent amount (R$)</th>\n",
              "      <th>property tax (R$)</th>\n",
              "      <th>fire insurance (R$)</th>\n",
              "      <th>total (R$)</th>\n",
              "    </tr>\n",
              "  </thead>\n",
              "  <tbody>\n",
              "    <tr>\n",
              "      <th>0</th>\n",
              "      <td>0.752567</td>\n",
              "      <td>-0.147522</td>\n",
              "      <td>-0.432099</td>\n",
              "      <td>-0.878960</td>\n",
              "      <td>-0.383245</td>\n",
              "      <td>0.143590</td>\n",
              "      <td>0.534522</td>\n",
              "      <td>1.761488</td>\n",
              "      <td>0.057145</td>\n",
              "      <td>-0.174935</td>\n",
              "      <td>-0.050103</td>\n",
              "      <td>-0.236589</td>\n",
              "      <td>5618</td>\n",
              "    </tr>\n",
              "    <tr>\n",
              "      <th>1</th>\n",
              "      <td>0.752567</td>\n",
              "      <td>0.318035</td>\n",
              "      <td>1.275535</td>\n",
              "      <td>1.253036</td>\n",
              "      <td>-1.012395</td>\n",
              "      <td>2.533254</td>\n",
              "      <td>0.534522</td>\n",
              "      <td>-0.567702</td>\n",
              "      <td>0.001666</td>\n",
              "      <td>0.312099</td>\n",
              "      <td>0.445121</td>\n",
              "      <td>0.203056</td>\n",
              "      <td>7973</td>\n",
              "    </tr>\n",
              "    <tr>\n",
              "      <th>2</th>\n",
              "      <td>-0.649497</td>\n",
              "      <td>-0.128899</td>\n",
              "      <td>-1.285916</td>\n",
              "      <td>-0.878960</td>\n",
              "      <td>-0.383245</td>\n",
              "      <td>-0.040230</td>\n",
              "      <td>0.534522</td>\n",
              "      <td>-0.567702</td>\n",
              "      <td>-0.011161</td>\n",
              "      <td>-0.321632</td>\n",
              "      <td>-0.117999</td>\n",
              "      <td>-0.257525</td>\n",
              "      <td>3841</td>\n",
              "    </tr>\n",
              "    <tr>\n",
              "      <th>3</th>\n",
              "      <td>-0.649497</td>\n",
              "      <td>-0.182904</td>\n",
              "      <td>-0.432099</td>\n",
              "      <td>-0.878960</td>\n",
              "      <td>-1.012395</td>\n",
              "      <td>-0.775511</td>\n",
              "      <td>0.534522</td>\n",
              "      <td>-0.567702</td>\n",
              "      <td>-0.057981</td>\n",
              "      <td>-0.816881</td>\n",
              "      <td>-0.110920</td>\n",
              "      <td>-0.759976</td>\n",
              "      <td>1421</td>\n",
              "    </tr>\n",
              "    <tr>\n",
              "      <th>4</th>\n",
              "      <td>0.752567</td>\n",
              "      <td>-0.231322</td>\n",
              "      <td>-1.285916</td>\n",
              "      <td>-0.878960</td>\n",
              "      <td>-1.012395</td>\n",
              "      <td>-0.959332</td>\n",
              "      <td>-1.870829</td>\n",
              "      <td>-0.567702</td>\n",
              "      <td>-0.075298</td>\n",
              "      <td>-0.908420</td>\n",
              "      <td>-0.109955</td>\n",
              "      <td>-0.885589</td>\n",
              "      <td>836</td>\n",
              "    </tr>\n",
              "    <tr>\n",
              "      <th>...</th>\n",
              "      <td>...</td>\n",
              "      <td>...</td>\n",
              "      <td>...</td>\n",
              "      <td>...</td>\n",
              "      <td>...</td>\n",
              "      <td>...</td>\n",
              "      <td>...</td>\n",
              "      <td>...</td>\n",
              "      <td>...</td>\n",
              "      <td>...</td>\n",
              "      <td>...</td>\n",
              "      <td>...</td>\n",
              "      <td>...</td>\n",
              "    </tr>\n",
              "    <tr>\n",
              "      <th>10687</th>\n",
              "      <td>-0.649497</td>\n",
              "      <td>-0.160557</td>\n",
              "      <td>-0.432099</td>\n",
              "      <td>-0.878960</td>\n",
              "      <td>-0.383245</td>\n",
              "      <td>-0.224050</td>\n",
              "      <td>-1.870829</td>\n",
              "      <td>1.761488</td>\n",
              "      <td>-0.049515</td>\n",
              "      <td>-0.709499</td>\n",
              "      <td>-0.110276</td>\n",
              "      <td>-0.655299</td>\n",
              "      <td>1926</td>\n",
              "    </tr>\n",
              "    <tr>\n",
              "      <th>10688</th>\n",
              "      <td>0.752567</td>\n",
              "      <td>0.252857</td>\n",
              "      <td>1.275535</td>\n",
              "      <td>1.253036</td>\n",
              "      <td>1.504205</td>\n",
              "      <td>1.981793</td>\n",
              "      <td>0.534522</td>\n",
              "      <td>-0.567702</td>\n",
              "      <td>0.123527</td>\n",
              "      <td>3.257774</td>\n",
              "      <td>0.195095</td>\n",
              "      <td>2.882798</td>\n",
              "      <td>19260</td>\n",
              "    </tr>\n",
              "    <tr>\n",
              "      <th>10689</th>\n",
              "      <td>0.051535</td>\n",
              "      <td>-0.147522</td>\n",
              "      <td>0.421718</td>\n",
              "      <td>0.542371</td>\n",
              "      <td>-1.012395</td>\n",
              "      <td>0.327411</td>\n",
              "      <td>-1.870829</td>\n",
              "      <td>1.761488</td>\n",
              "      <td>-0.012444</td>\n",
              "      <td>0.617228</td>\n",
              "      <td>-0.011167</td>\n",
              "      <td>0.517088</td>\n",
              "      <td>7390</td>\n",
              "    </tr>\n",
              "    <tr>\n",
              "      <th>10690</th>\n",
              "      <td>0.051535</td>\n",
              "      <td>-0.054410</td>\n",
              "      <td>-0.432099</td>\n",
              "      <td>-0.168294</td>\n",
              "      <td>0.245905</td>\n",
              "      <td>0.327411</td>\n",
              "      <td>0.534522</td>\n",
              "      <td>1.761488</td>\n",
              "      <td>0.026359</td>\n",
              "      <td>2.377592</td>\n",
              "      <td>-0.028222</td>\n",
              "      <td>2.129120</td>\n",
              "      <td>14020</td>\n",
              "    </tr>\n",
              "    <tr>\n",
              "      <th>10691</th>\n",
              "      <td>0.752567</td>\n",
              "      <td>-0.128899</td>\n",
              "      <td>-0.432099</td>\n",
              "      <td>-0.878960</td>\n",
              "      <td>-1.012395</td>\n",
              "      <td>-0.224050</td>\n",
              "      <td>0.534522</td>\n",
              "      <td>-0.567702</td>\n",
              "      <td>-0.075298</td>\n",
              "      <td>-0.732384</td>\n",
              "      <td>-0.064905</td>\n",
              "      <td>-0.655299</td>\n",
              "      <td>1587</td>\n",
              "    </tr>\n",
              "  </tbody>\n",
              "</table>\n",
              "<p>10692 rows × 13 columns</p>\n",
              "</div>\n",
              "      <button class=\"colab-df-convert\" onclick=\"convertToInteractive('df-40e29ca4-f14f-4abe-9452-c4c6a9190b98')\"\n",
              "              title=\"Convert this dataframe to an interactive table.\"\n",
              "              style=\"display:none;\">\n",
              "        \n",
              "  <svg xmlns=\"http://www.w3.org/2000/svg\" height=\"24px\"viewBox=\"0 0 24 24\"\n",
              "       width=\"24px\">\n",
              "    <path d=\"M0 0h24v24H0V0z\" fill=\"none\"/>\n",
              "    <path d=\"M18.56 5.44l.94 2.06.94-2.06 2.06-.94-2.06-.94-.94-2.06-.94 2.06-2.06.94zm-11 1L8.5 8.5l.94-2.06 2.06-.94-2.06-.94L8.5 2.5l-.94 2.06-2.06.94zm10 10l.94 2.06.94-2.06 2.06-.94-2.06-.94-.94-2.06-.94 2.06-2.06.94z\"/><path d=\"M17.41 7.96l-1.37-1.37c-.4-.4-.92-.59-1.43-.59-.52 0-1.04.2-1.43.59L10.3 9.45l-7.72 7.72c-.78.78-.78 2.05 0 2.83L4 21.41c.39.39.9.59 1.41.59.51 0 1.02-.2 1.41-.59l7.78-7.78 2.81-2.81c.8-.78.8-2.07 0-2.86zM5.41 20L4 18.59l7.72-7.72 1.47 1.35L5.41 20z\"/>\n",
              "  </svg>\n",
              "      </button>\n",
              "      \n",
              "  <style>\n",
              "    .colab-df-container {\n",
              "      display:flex;\n",
              "      flex-wrap:wrap;\n",
              "      gap: 12px;\n",
              "    }\n",
              "\n",
              "    .colab-df-convert {\n",
              "      background-color: #E8F0FE;\n",
              "      border: none;\n",
              "      border-radius: 50%;\n",
              "      cursor: pointer;\n",
              "      display: none;\n",
              "      fill: #1967D2;\n",
              "      height: 32px;\n",
              "      padding: 0 0 0 0;\n",
              "      width: 32px;\n",
              "    }\n",
              "\n",
              "    .colab-df-convert:hover {\n",
              "      background-color: #E2EBFA;\n",
              "      box-shadow: 0px 1px 2px rgba(60, 64, 67, 0.3), 0px 1px 3px 1px rgba(60, 64, 67, 0.15);\n",
              "      fill: #174EA6;\n",
              "    }\n",
              "\n",
              "    [theme=dark] .colab-df-convert {\n",
              "      background-color: #3B4455;\n",
              "      fill: #D2E3FC;\n",
              "    }\n",
              "\n",
              "    [theme=dark] .colab-df-convert:hover {\n",
              "      background-color: #434B5C;\n",
              "      box-shadow: 0px 1px 3px 1px rgba(0, 0, 0, 0.15);\n",
              "      filter: drop-shadow(0px 1px 2px rgba(0, 0, 0, 0.3));\n",
              "      fill: #FFFFFF;\n",
              "    }\n",
              "  </style>\n",
              "\n",
              "      <script>\n",
              "        const buttonEl =\n",
              "          document.querySelector('#df-40e29ca4-f14f-4abe-9452-c4c6a9190b98 button.colab-df-convert');\n",
              "        buttonEl.style.display =\n",
              "          google.colab.kernel.accessAllowed ? 'block' : 'none';\n",
              "\n",
              "        async function convertToInteractive(key) {\n",
              "          const element = document.querySelector('#df-40e29ca4-f14f-4abe-9452-c4c6a9190b98');\n",
              "          const dataTable =\n",
              "            await google.colab.kernel.invokeFunction('convertToInteractive',\n",
              "                                                     [key], {});\n",
              "          if (!dataTable) return;\n",
              "\n",
              "          const docLinkHtml = 'Like what you see? Visit the ' +\n",
              "            '<a target=\"_blank\" href=https://colab.research.google.com/notebooks/data_table.ipynb>data table notebook</a>'\n",
              "            + ' to learn more about interactive tables.';\n",
              "          element.innerHTML = '';\n",
              "          dataTable['output_type'] = 'display_data';\n",
              "          await google.colab.output.renderOutput(dataTable, element);\n",
              "          const docLink = document.createElement('div');\n",
              "          docLink.innerHTML = docLinkHtml;\n",
              "          element.appendChild(docLink);\n",
              "        }\n",
              "      </script>\n",
              "    </div>\n",
              "  </div>\n",
              "  "
            ]
          },
          "metadata": {},
          "execution_count": 35
        }
      ]
    },
    {
      "cell_type": "markdown",
      "source": [
        "**Separar em features e target...**"
      ],
      "metadata": {
        "id": "q5N68Lr70Mb3"
      }
    },
    {
      "cell_type": "code",
      "execution_count": null,
      "metadata": {
        "id": "sUabPhTw9Z71"
      },
      "outputs": [],
      "source": [
        "X = df[[\"hoa (R$)\", \"rent amount (R$)\", \"parking spaces\", \"bathroom\", \"property tax (R$)\", \"fire insurance (R$)\", \"rooms\", \"area\"]]\n",
        "y = df[\"total (R$)\"]\n",
        "\n",
        "X_train, X_test, y_train, y_test = train_test_split(X, y, test_size=0.3, random_state=20)"
      ]
    },
    {
      "cell_type": "code",
      "execution_count": null,
      "metadata": {
        "colab": {
          "base_uri": "https://localhost:8080/"
        },
        "id": "7tcpqH9D9MnG",
        "outputId": "81332268-e052-4221-f4c5-4e0fd3211015"
      },
      "outputs": [
        {
          "output_type": "stream",
          "name": "stdout",
          "text": [
            "[15:27:27] WARNING: /workspace/src/objective/regression_obj.cu:152: reg:linear is now deprecated in favor of reg:squarederror.\n"
          ]
        }
      ],
      "source": [
        "xgbr = XGBRegressor().fit(X_train, y_train)"
      ]
    },
    {
      "cell_type": "code",
      "execution_count": null,
      "metadata": {
        "id": "ehtr4Q4U2oZo"
      },
      "outputs": [],
      "source": [
        "explainer = shap.TreeExplainer(xgbr)"
      ]
    },
    {
      "cell_type": "code",
      "execution_count": null,
      "metadata": {
        "id": "W8l_bj9H9ssm"
      },
      "outputs": [],
      "source": [
        "shap_vals = explainer.shap_values(X_train)"
      ]
    },
    {
      "cell_type": "markdown",
      "source": [
        "**Temos abaixo as Features que mais impactaram na escolha dos valores preditivos para todos os dados:**"
      ],
      "metadata": {
        "id": "Nf-PPooRRHTd"
      }
    },
    {
      "cell_type": "code",
      "execution_count": null,
      "metadata": {
        "colab": {
          "base_uri": "https://localhost:8080/",
          "height": 348
        },
        "id": "3yND9xNJ90j_",
        "outputId": "bb4ac201-9dc6-4d4d-f8cc-ca33be0c85f0"
      },
      "outputs": [
        {
          "output_type": "display_data",
          "data": {
            "text/plain": [
              "<Figure size 576x338.4 with 1 Axes>"
            ],
            "image/png": "[encoded data removed]"
          },
          "metadata": {
            "needs_background": "light"
          }
        }
      ],
      "source": [
        "shap.summary_plot(shap_vals, X_train, plot_type=\"bar\")"
      ]
    }
  ],
  "metadata": {
    "colab": {
      "collapsed_sections": [
        "Jx1F-yLSYRSt",
        "nGcmL_t6XxEx",
        "t_WUQliY9qM6",
        "DVTUJyqVANJ2",
        "erA5w6mumDJS",
        "fyz6ahjOODjX",
        "EjX1qhPV_p2O",
        "wXNQXcTpY9e7",
        "cLLZsUMcr2fx",
        "EARPFk6UtLUk",
        "ooK-JuMlvG1_",
        "T_mPOWiDqlIJ",
        "IcRhMPgUHctW",
        "m54CpmHqVjOE"
      ],
      "name": "01_aluguel_de_casas_XGBRegressor.ipynb",
      "provenance": []
    },
    "kernelspec": {
      "display_name": "Python 3 (ipykernel)",
      "language": "python",
      "name": "python3"
    },
    "language_info": {
      "codemirror_mode": {
        "name": "ipython",
        "version": 3
      },
      "file_extension": ".py",
      "mimetype": "text/x-python",
      "name": "python",
      "nbconvert_exporter": "python",
      "pygments_lexer": "ipython3",
      "version": "3.9.12"
    }
  },
  "nbformat": 4,
  "nbformat_minor": 0
}