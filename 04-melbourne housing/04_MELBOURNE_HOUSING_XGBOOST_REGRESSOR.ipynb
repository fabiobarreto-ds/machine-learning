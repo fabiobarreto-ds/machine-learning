{
  "nbformat": 4,
  "nbformat_minor": 0,
  "metadata": {
    "colab": {
      "name": "04_MELBOURNE_HOUSING_XGBOOST_REGRESSOR.ipynb",
      "provenance": []
    },
    "kernelspec": {
      "name": "python3",
      "display_name": "Python 3"
    },
    "language_info": {
      "name": "python"
    }
  },
  "cells": [
    {
      "cell_type": "markdown",
      "metadata": {
        "id": "8b03f9FugpWJ"
      },
      "source": [
        "Alguns detalhes importantes\n",
        "**Subúrbio** : Subúrbio\n",
        "\n",
        "**Endereço** : Endereço\n",
        "\n",
        "**Quartos** : Número de quartos\n",
        "\n",
        "**Preço** : Preço em dólares australianos\n",
        "\n",
        "**Método :**\n",
        "\n",
        "S - imóvel vendido;\n",
        "\n",
        "SP - imóvel vendido anteriormente;\n",
        "\n",
        "PI - imóvel repassado;\n",
        "\n",
        "VB - oferta de fornecedor;\n",
        "\n",
        "SA - vendido após leilão;\n",
        "\n",
        "**Tipo :**\n",
        "\n",
        "h - casa, chalé, vila, semi, terraço;\n",
        "\n",
        "u - unidade, duplex;\n",
        "\n",
        "t - casa geminada;\n",
        "\n",
        "\n",
        "**VendedorG** : Agente Imobiliário\n",
        "\n",
        "**Data** : Data de venda\n",
        "\n",
        "**Distância** : Distância do CBD em quilômetros\n",
        "\n",
        "Nome da região: Região geral (Oeste, Noroeste, Norte, Nordeste...etc)\n",
        "\n",
        "Propertycount : Número de propriedades que existem no subúrbio.\n",
        "\n",
        "Banheiro : Número de Banheiros\n",
        "\n",
        "Carro : Número de vagas\n",
        "\n",
        "Tamanho do terreno : Tamanho do terreno em metros\n",
        "\n",
        "CouncilArea : Conselho de administração para a área\n"
      ]
    },
    {
      "cell_type": "markdown",
      "metadata": {
        "id": "OwXbVRSXjsES"
      },
      "source": [
        "# **Importando os dados:**"
      ]
    },
    {
      "cell_type": "code",
      "execution_count": 1,
      "metadata": {
        "_cell_guid": "b1076dfc-b9ad-4769-8c92-a6c4dae69d19",
        "_uuid": "8f2839f25d086af736a60e9eeb907d3b93b6e0e5",
        "execution": {
          "iopub.execute_input": "2022-07-05T01:03:50.047458Z",
          "iopub.status.busy": "2022-07-05T01:03:50.046986Z",
          "iopub.status.idle": "2022-07-05T01:03:50.055763Z",
          "shell.execute_reply": "2022-07-05T01:03:50.054032Z",
          "shell.execute_reply.started": "2022-07-05T01:03:50.047422Z"
        },
        "id": "9eS2aK0cc8ah"
      },
      "outputs": [],
      "source": [
        "import numpy as np\n",
        "import pandas as pd\n",
        "import matplotlib.pyplot as plt\n",
        "from xgboost import XGBRegressor\n",
        "from sklearn.pipeline import Pipeline\n",
        "from sklearn.impute import SimpleImputer\n",
        "from sklearn.compose import ColumnTransformer\n",
        "from sklearn.model_selection import StratifiedKFold\n",
        "from sklearn.model_selection import train_test_split\n",
        "from sklearn.metrics import r2_score, mean_absolute_error, mean_squared_error\n",
        "from sklearn.preprocessing import StandardScaler, OneHotEncoder, OrdinalEncoder\n",
        "from sklearn.model_selection import GridSearchCV, StratifiedKFold, train_test_split\n",
        "\n",
        "\n",
        "\n",
        "# desabilita os warnings\n",
        "import warnings\n",
        "warnings.filterwarnings('ignore')"
      ]
    },
    {
      "cell_type": "code",
      "execution_count": 2,
      "metadata": {
        "execution": {
          "iopub.execute_input": "2022-07-04T19:00:50.351976Z",
          "iopub.status.busy": "2022-07-04T19:00:50.351543Z",
          "iopub.status.idle": "2022-07-04T19:00:50.483842Z",
          "shell.execute_reply": "2022-07-04T19:00:50.482794Z",
          "shell.execute_reply.started": "2022-07-04T19:00:50.351944Z"
        },
        "id": "VLlTKVwCc8au"
      },
      "outputs": [],
      "source": [
        "df = pd.read_csv(\"MELBOURNE_HOUSE_PRICES_LESS.csv\")"
      ]
    },
    {
      "cell_type": "code",
      "execution_count": 3,
      "metadata": {
        "colab": {
          "base_uri": "https://localhost:8080/",
          "height": 424
        },
        "execution": {
          "iopub.execute_input": "2022-07-04T23:21:40.534140Z",
          "iopub.status.busy": "2022-07-04T23:21:40.532921Z",
          "iopub.status.idle": "2022-07-04T23:21:40.593476Z",
          "shell.execute_reply": "2022-07-04T23:21:40.592247Z",
          "shell.execute_reply.started": "2022-07-04T23:21:40.534090Z"
        },
        "id": "iu3RkSRbc8az",
        "outputId": "452d471a-04ce-471e-a1b7-654b2594a437"
      },
      "outputs": [
        {
          "output_type": "execute_result",
          "data": {
            "text/plain": [
              "                 Suburb           Address  Rooms Type      Price Method  \\\n",
              "0            Abbotsford     49 Lithgow St      3    h  1490000.0      S   \n",
              "1            Abbotsford     59A Turner St      3    h  1220000.0      S   \n",
              "2            Abbotsford     119B Yarra St      3    h  1420000.0      S   \n",
              "3            Aberfeldie        68 Vida St      3    h  1515000.0      S   \n",
              "4          Airport West  92 Clydesdale Rd      2    h   670000.0      S   \n",
              "...                 ...               ...    ...  ...        ...    ...   \n",
              "63018     Roxburgh Park         3 Carr Pl      3    h   566000.0      S   \n",
              "63019     Roxburgh Park       9 Parker Ct      3    h   500000.0      S   \n",
              "63020     Roxburgh Park    5 Parkinson Wy      3    h   545000.0      S   \n",
              "63021        Thomastown    3/1 Travers St      3    u        NaN     PI   \n",
              "63022  Williams Landing       1 Diadem Wy      4    h        NaN     SP   \n",
              "\n",
              "        SellerG        Date  Postcode             Regionname  Propertycount  \\\n",
              "0        Jellis   1/04/2017      3067  Northern Metropolitan           4019   \n",
              "1      Marshall   1/04/2017      3067  Northern Metropolitan           4019   \n",
              "2        Nelson   1/04/2017      3067  Northern Metropolitan           4019   \n",
              "3         Barry   1/04/2017      3040   Western Metropolitan           1543   \n",
              "4        Nelson   1/04/2017      3042   Western Metropolitan           3464   \n",
              "...         ...         ...       ...                    ...            ...   \n",
              "63018     Raine  31/03/2018      3064  Northern Metropolitan           5833   \n",
              "63019     Raine  31/03/2018      3064  Northern Metropolitan           5833   \n",
              "63020     Raine  31/03/2018      3064  Northern Metropolitan           5833   \n",
              "63021     Barry  31/03/2018      3074  Northern Metropolitan           7955   \n",
              "63022    Aussie  31/03/2018      3027   Western Metropolitan           1999   \n",
              "\n",
              "       Distance                 CouncilArea  \n",
              "0           3.0          Yarra City Council  \n",
              "1           3.0          Yarra City Council  \n",
              "2           3.0          Yarra City Council  \n",
              "3           7.5  Moonee Valley City Council  \n",
              "4          10.4  Moonee Valley City Council  \n",
              "...         ...                         ...  \n",
              "63018      20.6           Hume City Council  \n",
              "63019      20.6           Hume City Council  \n",
              "63020      20.6           Hume City Council  \n",
              "63021      15.3     Whittlesea City Council  \n",
              "63022      17.6        Wyndham City Council  \n",
              "\n",
              "[63023 rows x 13 columns]"
            ],
            "text/html": [
              "\n",
              "  <div id=\"df-89327b38-bd1a-4733-b3c3-a3bb36a4fc80\">\n",
              "    <div class=\"colab-df-container\">\n",
              "      <div>\n",
              "<style scoped>\n",
              "    .dataframe tbody tr th:only-of-type {\n",
              "        vertical-align: middle;\n",
              "    }\n",
              "\n",
              "    .dataframe tbody tr th {\n",
              "        vertical-align: top;\n",
              "    }\n",
              "\n",
              "    .dataframe thead th {\n",
              "        text-align: right;\n",
              "    }\n",
              "</style>\n",
              "<table border=\"1\" class=\"dataframe\">\n",
              "  <thead>\n",
              "    <tr style=\"text-align: right;\">\n",
              "      <th></th>\n",
              "      <th>Suburb</th>\n",
              "      <th>Address</th>\n",
              "      <th>Rooms</th>\n",
              "      <th>Type</th>\n",
              "      <th>Price</th>\n",
              "      <th>Method</th>\n",
              "      <th>SellerG</th>\n",
              "      <th>Date</th>\n",
              "      <th>Postcode</th>\n",
              "      <th>Regionname</th>\n",
              "      <th>Propertycount</th>\n",
              "      <th>Distance</th>\n",
              "      <th>CouncilArea</th>\n",
              "    </tr>\n",
              "  </thead>\n",
              "  <tbody>\n",
              "    <tr>\n",
              "      <th>0</th>\n",
              "      <td>Abbotsford</td>\n",
              "      <td>49 Lithgow St</td>\n",
              "      <td>3</td>\n",
              "      <td>h</td>\n",
              "      <td>1490000.0</td>\n",
              "      <td>S</td>\n",
              "      <td>Jellis</td>\n",
              "      <td>1/04/2017</td>\n",
              "      <td>3067</td>\n",
              "      <td>Northern Metropolitan</td>\n",
              "      <td>4019</td>\n",
              "      <td>3.0</td>\n",
              "      <td>Yarra City Council</td>\n",
              "    </tr>\n",
              "    <tr>\n",
              "      <th>1</th>\n",
              "      <td>Abbotsford</td>\n",
              "      <td>59A Turner St</td>\n",
              "      <td>3</td>\n",
              "      <td>h</td>\n",
              "      <td>1220000.0</td>\n",
              "      <td>S</td>\n",
              "      <td>Marshall</td>\n",
              "      <td>1/04/2017</td>\n",
              "      <td>3067</td>\n",
              "      <td>Northern Metropolitan</td>\n",
              "      <td>4019</td>\n",
              "      <td>3.0</td>\n",
              "      <td>Yarra City Council</td>\n",
              "    </tr>\n",
              "    <tr>\n",
              "      <th>2</th>\n",
              "      <td>Abbotsford</td>\n",
              "      <td>119B Yarra St</td>\n",
              "      <td>3</td>\n",
              "      <td>h</td>\n",
              "      <td>1420000.0</td>\n",
              "      <td>S</td>\n",
              "      <td>Nelson</td>\n",
              "      <td>1/04/2017</td>\n",
              "      <td>3067</td>\n",
              "      <td>Northern Metropolitan</td>\n",
              "      <td>4019</td>\n",
              "      <td>3.0</td>\n",
              "      <td>Yarra City Council</td>\n",
              "    </tr>\n",
              "    <tr>\n",
              "      <th>3</th>\n",
              "      <td>Aberfeldie</td>\n",
              "      <td>68 Vida St</td>\n",
              "      <td>3</td>\n",
              "      <td>h</td>\n",
              "      <td>1515000.0</td>\n",
              "      <td>S</td>\n",
              "      <td>Barry</td>\n",
              "      <td>1/04/2017</td>\n",
              "      <td>3040</td>\n",
              "      <td>Western Metropolitan</td>\n",
              "      <td>1543</td>\n",
              "      <td>7.5</td>\n",
              "      <td>Moonee Valley City Council</td>\n",
              "    </tr>\n",
              "    <tr>\n",
              "      <th>4</th>\n",
              "      <td>Airport West</td>\n",
              "      <td>92 Clydesdale Rd</td>\n",
              "      <td>2</td>\n",
              "      <td>h</td>\n",
              "      <td>670000.0</td>\n",
              "      <td>S</td>\n",
              "      <td>Nelson</td>\n",
              "      <td>1/04/2017</td>\n",
              "      <td>3042</td>\n",
              "      <td>Western Metropolitan</td>\n",
              "      <td>3464</td>\n",
              "      <td>10.4</td>\n",
              "      <td>Moonee Valley City Council</td>\n",
              "    </tr>\n",
              "    <tr>\n",
              "      <th>...</th>\n",
              "      <td>...</td>\n",
              "      <td>...</td>\n",
              "      <td>...</td>\n",
              "      <td>...</td>\n",
              "      <td>...</td>\n",
              "      <td>...</td>\n",
              "      <td>...</td>\n",
              "      <td>...</td>\n",
              "      <td>...</td>\n",
              "      <td>...</td>\n",
              "      <td>...</td>\n",
              "      <td>...</td>\n",
              "      <td>...</td>\n",
              "    </tr>\n",
              "    <tr>\n",
              "      <th>63018</th>\n",
              "      <td>Roxburgh Park</td>\n",
              "      <td>3 Carr Pl</td>\n",
              "      <td>3</td>\n",
              "      <td>h</td>\n",
              "      <td>566000.0</td>\n",
              "      <td>S</td>\n",
              "      <td>Raine</td>\n",
              "      <td>31/03/2018</td>\n",
              "      <td>3064</td>\n",
              "      <td>Northern Metropolitan</td>\n",
              "      <td>5833</td>\n",
              "      <td>20.6</td>\n",
              "      <td>Hume City Council</td>\n",
              "    </tr>\n",
              "    <tr>\n",
              "      <th>63019</th>\n",
              "      <td>Roxburgh Park</td>\n",
              "      <td>9 Parker Ct</td>\n",
              "      <td>3</td>\n",
              "      <td>h</td>\n",
              "      <td>500000.0</td>\n",
              "      <td>S</td>\n",
              "      <td>Raine</td>\n",
              "      <td>31/03/2018</td>\n",
              "      <td>3064</td>\n",
              "      <td>Northern Metropolitan</td>\n",
              "      <td>5833</td>\n",
              "      <td>20.6</td>\n",
              "      <td>Hume City Council</td>\n",
              "    </tr>\n",
              "    <tr>\n",
              "      <th>63020</th>\n",
              "      <td>Roxburgh Park</td>\n",
              "      <td>5 Parkinson Wy</td>\n",
              "      <td>3</td>\n",
              "      <td>h</td>\n",
              "      <td>545000.0</td>\n",
              "      <td>S</td>\n",
              "      <td>Raine</td>\n",
              "      <td>31/03/2018</td>\n",
              "      <td>3064</td>\n",
              "      <td>Northern Metropolitan</td>\n",
              "      <td>5833</td>\n",
              "      <td>20.6</td>\n",
              "      <td>Hume City Council</td>\n",
              "    </tr>\n",
              "    <tr>\n",
              "      <th>63021</th>\n",
              "      <td>Thomastown</td>\n",
              "      <td>3/1 Travers St</td>\n",
              "      <td>3</td>\n",
              "      <td>u</td>\n",
              "      <td>NaN</td>\n",
              "      <td>PI</td>\n",
              "      <td>Barry</td>\n",
              "      <td>31/03/2018</td>\n",
              "      <td>3074</td>\n",
              "      <td>Northern Metropolitan</td>\n",
              "      <td>7955</td>\n",
              "      <td>15.3</td>\n",
              "      <td>Whittlesea City Council</td>\n",
              "    </tr>\n",
              "    <tr>\n",
              "      <th>63022</th>\n",
              "      <td>Williams Landing</td>\n",
              "      <td>1 Diadem Wy</td>\n",
              "      <td>4</td>\n",
              "      <td>h</td>\n",
              "      <td>NaN</td>\n",
              "      <td>SP</td>\n",
              "      <td>Aussie</td>\n",
              "      <td>31/03/2018</td>\n",
              "      <td>3027</td>\n",
              "      <td>Western Metropolitan</td>\n",
              "      <td>1999</td>\n",
              "      <td>17.6</td>\n",
              "      <td>Wyndham City Council</td>\n",
              "    </tr>\n",
              "  </tbody>\n",
              "</table>\n",
              "<p>63023 rows × 13 columns</p>\n",
              "</div>\n",
              "      <button class=\"colab-df-convert\" onclick=\"convertToInteractive('df-89327b38-bd1a-4733-b3c3-a3bb36a4fc80')\"\n",
              "              title=\"Convert this dataframe to an interactive table.\"\n",
              "              style=\"display:none;\">\n",
              "        \n",
              "  <svg xmlns=\"http://www.w3.org/2000/svg\" height=\"24px\"viewBox=\"0 0 24 24\"\n",
              "       width=\"24px\">\n",
              "    <path d=\"M0 0h24v24H0V0z\" fill=\"none\"/>\n",
              "    <path d=\"M18.56 5.44l.94 2.06.94-2.06 2.06-.94-2.06-.94-.94-2.06-.94 2.06-2.06.94zm-11 1L8.5 8.5l.94-2.06 2.06-.94-2.06-.94L8.5 2.5l-.94 2.06-2.06.94zm10 10l.94 2.06.94-2.06 2.06-.94-2.06-.94-.94-2.06-.94 2.06-2.06.94z\"/><path d=\"M17.41 7.96l-1.37-1.37c-.4-.4-.92-.59-1.43-.59-.52 0-1.04.2-1.43.59L10.3 9.45l-7.72 7.72c-.78.78-.78 2.05 0 2.83L4 21.41c.39.39.9.59 1.41.59.51 0 1.02-.2 1.41-.59l7.78-7.78 2.81-2.81c.8-.78.8-2.07 0-2.86zM5.41 20L4 18.59l7.72-7.72 1.47 1.35L5.41 20z\"/>\n",
              "  </svg>\n",
              "      </button>\n",
              "      \n",
              "  <style>\n",
              "    .colab-df-container {\n",
              "      display:flex;\n",
              "      flex-wrap:wrap;\n",
              "      gap: 12px;\n",
              "    }\n",
              "\n",
              "    .colab-df-convert {\n",
              "      background-color: #E8F0FE;\n",
              "      border: none;\n",
              "      border-radius: 50%;\n",
              "      cursor: pointer;\n",
              "      display: none;\n",
              "      fill: #1967D2;\n",
              "      height: 32px;\n",
              "      padding: 0 0 0 0;\n",
              "      width: 32px;\n",
              "    }\n",
              "\n",
              "    .colab-df-convert:hover {\n",
              "      background-color: #E2EBFA;\n",
              "      box-shadow: 0px 1px 2px rgba(60, 64, 67, 0.3), 0px 1px 3px 1px rgba(60, 64, 67, 0.15);\n",
              "      fill: #174EA6;\n",
              "    }\n",
              "\n",
              "    [theme=dark] .colab-df-convert {\n",
              "      background-color: #3B4455;\n",
              "      fill: #D2E3FC;\n",
              "    }\n",
              "\n",
              "    [theme=dark] .colab-df-convert:hover {\n",
              "      background-color: #434B5C;\n",
              "      box-shadow: 0px 1px 3px 1px rgba(0, 0, 0, 0.15);\n",
              "      filter: drop-shadow(0px 1px 2px rgba(0, 0, 0, 0.3));\n",
              "      fill: #FFFFFF;\n",
              "    }\n",
              "  </style>\n",
              "\n",
              "      <script>\n",
              "        const buttonEl =\n",
              "          document.querySelector('#df-89327b38-bd1a-4733-b3c3-a3bb36a4fc80 button.colab-df-convert');\n",
              "        buttonEl.style.display =\n",
              "          google.colab.kernel.accessAllowed ? 'block' : 'none';\n",
              "\n",
              "        async function convertToInteractive(key) {\n",
              "          const element = document.querySelector('#df-89327b38-bd1a-4733-b3c3-a3bb36a4fc80');\n",
              "          const dataTable =\n",
              "            await google.colab.kernel.invokeFunction('convertToInteractive',\n",
              "                                                     [key], {});\n",
              "          if (!dataTable) return;\n",
              "\n",
              "          const docLinkHtml = 'Like what you see? Visit the ' +\n",
              "            '<a target=\"_blank\" href=https://colab.research.google.com/notebooks/data_table.ipynb>data table notebook</a>'\n",
              "            + ' to learn more about interactive tables.';\n",
              "          element.innerHTML = '';\n",
              "          dataTable['output_type'] = 'display_data';\n",
              "          await google.colab.output.renderOutput(dataTable, element);\n",
              "          const docLink = document.createElement('div');\n",
              "          docLink.innerHTML = docLinkHtml;\n",
              "          element.appendChild(docLink);\n",
              "        }\n",
              "      </script>\n",
              "    </div>\n",
              "  </div>\n",
              "  "
            ]
          },
          "metadata": {},
          "execution_count": 3
        }
      ],
      "source": [
        "df"
      ]
    },
    {
      "cell_type": "markdown",
      "metadata": {
        "id": "_wV3HqV9Pbsm"
      },
      "source": [
        "**Verificando se há dados nulos:**"
      ]
    },
    {
      "cell_type": "code",
      "execution_count": 4,
      "metadata": {
        "colab": {
          "base_uri": "https://localhost:8080/"
        },
        "id": "u1dAvUVcfRUf",
        "outputId": "77ce7a45-5ec0-462f-8ab0-c780ef8db3e0"
      },
      "outputs": [
        {
          "output_type": "stream",
          "name": "stdout",
          "text": [
            "<class 'pandas.core.frame.DataFrame'>\n",
            "RangeIndex: 63023 entries, 0 to 63022\n",
            "Data columns (total 13 columns):\n",
            " #   Column         Non-Null Count  Dtype  \n",
            "---  ------         --------------  -----  \n",
            " 0   Suburb         63023 non-null  object \n",
            " 1   Address        63023 non-null  object \n",
            " 2   Rooms          63023 non-null  int64  \n",
            " 3   Type           63023 non-null  object \n",
            " 4   Price          48433 non-null  float64\n",
            " 5   Method         63023 non-null  object \n",
            " 6   SellerG        63023 non-null  object \n",
            " 7   Date           63023 non-null  object \n",
            " 8   Postcode       63023 non-null  int64  \n",
            " 9   Regionname     63023 non-null  object \n",
            " 10  Propertycount  63023 non-null  int64  \n",
            " 11  Distance       63023 non-null  float64\n",
            " 12  CouncilArea    63023 non-null  object \n",
            "dtypes: float64(2), int64(3), object(8)\n",
            "memory usage: 6.3+ MB\n"
          ]
        }
      ],
      "source": [
        "df.info()"
      ]
    },
    {
      "cell_type": "code",
      "execution_count": 5,
      "metadata": {
        "colab": {
          "base_uri": "https://localhost:8080/"
        },
        "id": "AhHkZMxsPgx-",
        "outputId": "a3b85970-39b5-4c34-846e-4ea5c28c66ea"
      },
      "outputs": [
        {
          "output_type": "execute_result",
          "data": {
            "text/plain": [
              "Suburb               0\n",
              "Address              0\n",
              "Rooms                0\n",
              "Type                 0\n",
              "Price            14590\n",
              "Method               0\n",
              "SellerG              0\n",
              "Date                 0\n",
              "Postcode             0\n",
              "Regionname           0\n",
              "Propertycount        0\n",
              "Distance             0\n",
              "CouncilArea          0\n",
              "dtype: int64"
            ]
          },
          "metadata": {},
          "execution_count": 5
        }
      ],
      "source": [
        "df.isna().sum()"
      ]
    },
    {
      "cell_type": "markdown",
      "metadata": {
        "id": "a0J6Ge3ep52f"
      },
      "source": [
        "**A coluna \"Price\" é o Target, como há alguns valores nulos vamos retira-los pois o algoritmo não irá aprender se não há referência.**"
      ]
    },
    {
      "cell_type": "code",
      "execution_count": 6,
      "metadata": {
        "id": "Wl1lGUYVqHU2"
      },
      "outputs": [],
      "source": [
        "df.dropna(inplace=True)"
      ]
    },
    {
      "cell_type": "code",
      "execution_count": 7,
      "metadata": {
        "colab": {
          "base_uri": "https://localhost:8080/"
        },
        "id": "hXbt_ysJqM6-",
        "outputId": "96b6426e-9d90-4b19-ad93-0baf2e498e95"
      },
      "outputs": [
        {
          "output_type": "stream",
          "name": "stdout",
          "text": [
            "<class 'pandas.core.frame.DataFrame'>\n",
            "Int64Index: 48433 entries, 0 to 63020\n",
            "Data columns (total 13 columns):\n",
            " #   Column         Non-Null Count  Dtype  \n",
            "---  ------         --------------  -----  \n",
            " 0   Suburb         48433 non-null  object \n",
            " 1   Address        48433 non-null  object \n",
            " 2   Rooms          48433 non-null  int64  \n",
            " 3   Type           48433 non-null  object \n",
            " 4   Price          48433 non-null  float64\n",
            " 5   Method         48433 non-null  object \n",
            " 6   SellerG        48433 non-null  object \n",
            " 7   Date           48433 non-null  object \n",
            " 8   Postcode       48433 non-null  int64  \n",
            " 9   Regionname     48433 non-null  object \n",
            " 10  Propertycount  48433 non-null  int64  \n",
            " 11  Distance       48433 non-null  float64\n",
            " 12  CouncilArea    48433 non-null  object \n",
            "dtypes: float64(2), int64(3), object(8)\n",
            "memory usage: 5.2+ MB\n"
          ]
        }
      ],
      "source": [
        "df.info()"
      ]
    },
    {
      "cell_type": "markdown",
      "source": [
        "**Vimos que na coluna \"Address\" há o número de cada imóvel, vamos retirar pois os valores não são impactantes para o resultado de predição.**"
      ],
      "metadata": {
        "id": "2I7fvAjN_9WJ"
      }
    },
    {
      "cell_type": "code",
      "source": [
        "lista = []\n",
        "for c in df[\"Address\"]:\n",
        "   lista.append(c.split(\" \", 1)[1])\n",
        "df[\"Address\"] = lista"
      ],
      "metadata": {
        "id": "81ATBHw6_9WK"
      },
      "execution_count": 8,
      "outputs": []
    },
    {
      "cell_type": "code",
      "source": [
        "df[\"Address\"]"
      ],
      "metadata": {
        "colab": {
          "base_uri": "https://localhost:8080/"
        },
        "id": "T5WHik5zA3kY",
        "outputId": "7a096ef8-513e-40e9-cab4-80b009f53f23"
      },
      "execution_count": 9,
      "outputs": [
        {
          "output_type": "execute_result",
          "data": {
            "text/plain": [
              "0           Lithgow St\n",
              "1            Turner St\n",
              "2             Yarra St\n",
              "3              Vida St\n",
              "4        Clydesdale Rd\n",
              "             ...      \n",
              "63016        Petrie St\n",
              "63017        Murray Rd\n",
              "63018          Carr Pl\n",
              "63019        Parker Ct\n",
              "63020     Parkinson Wy\n",
              "Name: Address, Length: 48433, dtype: object"
            ]
          },
          "metadata": {},
          "execution_count": 9
        }
      ]
    },
    {
      "cell_type": "code",
      "source": [
        "df.describe()"
      ],
      "metadata": {
        "colab": {
          "base_uri": "https://localhost:8080/",
          "height": 300
        },
        "id": "M-7vnS6XnvQ8",
        "outputId": "2e85ab28-2270-4c74-da7b-02c67716191e"
      },
      "execution_count": 10,
      "outputs": [
        {
          "output_type": "execute_result",
          "data": {
            "text/plain": [
              "              Rooms         Price      Postcode  Propertycount      Distance\n",
              "count  48433.000000  4.843300e+04  48433.000000   48433.000000  48433.000000\n",
              "mean       3.071666  9.978982e+05   3123.210332    7566.399913     12.702761\n",
              "std        0.944708  5.934989e+05    125.534940    4457.405884      7.550030\n",
              "min        1.000000  8.500000e+04   3000.000000      39.000000      0.000000\n",
              "25%        2.000000  6.200000e+05   3051.000000    4280.000000      7.000000\n",
              "50%        3.000000  8.300000e+05   3103.000000    6567.000000     11.700000\n",
              "75%        4.000000  1.220000e+06   3163.000000   10412.000000     16.700000\n",
              "max       31.000000  1.120000e+07   3980.000000   21650.000000     55.800000"
            ],
            "text/html": [
              "\n",
              "  <div id=\"df-502d8350-a06d-4b4b-b41d-f056c16d159e\">\n",
              "    <div class=\"colab-df-container\">\n",
              "      <div>\n",
              "<style scoped>\n",
              "    .dataframe tbody tr th:only-of-type {\n",
              "        vertical-align: middle;\n",
              "    }\n",
              "\n",
              "    .dataframe tbody tr th {\n",
              "        vertical-align: top;\n",
              "    }\n",
              "\n",
              "    .dataframe thead th {\n",
              "        text-align: right;\n",
              "    }\n",
              "</style>\n",
              "<table border=\"1\" class=\"dataframe\">\n",
              "  <thead>\n",
              "    <tr style=\"text-align: right;\">\n",
              "      <th></th>\n",
              "      <th>Rooms</th>\n",
              "      <th>Price</th>\n",
              "      <th>Postcode</th>\n",
              "      <th>Propertycount</th>\n",
              "      <th>Distance</th>\n",
              "    </tr>\n",
              "  </thead>\n",
              "  <tbody>\n",
              "    <tr>\n",
              "      <th>count</th>\n",
              "      <td>48433.000000</td>\n",
              "      <td>4.843300e+04</td>\n",
              "      <td>48433.000000</td>\n",
              "      <td>48433.000000</td>\n",
              "      <td>48433.000000</td>\n",
              "    </tr>\n",
              "    <tr>\n",
              "      <th>mean</th>\n",
              "      <td>3.071666</td>\n",
              "      <td>9.978982e+05</td>\n",
              "      <td>3123.210332</td>\n",
              "      <td>7566.399913</td>\n",
              "      <td>12.702761</td>\n",
              "    </tr>\n",
              "    <tr>\n",
              "      <th>std</th>\n",
              "      <td>0.944708</td>\n",
              "      <td>5.934989e+05</td>\n",
              "      <td>125.534940</td>\n",
              "      <td>4457.405884</td>\n",
              "      <td>7.550030</td>\n",
              "    </tr>\n",
              "    <tr>\n",
              "      <th>min</th>\n",
              "      <td>1.000000</td>\n",
              "      <td>8.500000e+04</td>\n",
              "      <td>3000.000000</td>\n",
              "      <td>39.000000</td>\n",
              "      <td>0.000000</td>\n",
              "    </tr>\n",
              "    <tr>\n",
              "      <th>25%</th>\n",
              "      <td>2.000000</td>\n",
              "      <td>6.200000e+05</td>\n",
              "      <td>3051.000000</td>\n",
              "      <td>4280.000000</td>\n",
              "      <td>7.000000</td>\n",
              "    </tr>\n",
              "    <tr>\n",
              "      <th>50%</th>\n",
              "      <td>3.000000</td>\n",
              "      <td>8.300000e+05</td>\n",
              "      <td>3103.000000</td>\n",
              "      <td>6567.000000</td>\n",
              "      <td>11.700000</td>\n",
              "    </tr>\n",
              "    <tr>\n",
              "      <th>75%</th>\n",
              "      <td>4.000000</td>\n",
              "      <td>1.220000e+06</td>\n",
              "      <td>3163.000000</td>\n",
              "      <td>10412.000000</td>\n",
              "      <td>16.700000</td>\n",
              "    </tr>\n",
              "    <tr>\n",
              "      <th>max</th>\n",
              "      <td>31.000000</td>\n",
              "      <td>1.120000e+07</td>\n",
              "      <td>3980.000000</td>\n",
              "      <td>21650.000000</td>\n",
              "      <td>55.800000</td>\n",
              "    </tr>\n",
              "  </tbody>\n",
              "</table>\n",
              "</div>\n",
              "      <button class=\"colab-df-convert\" onclick=\"convertToInteractive('df-502d8350-a06d-4b4b-b41d-f056c16d159e')\"\n",
              "              title=\"Convert this dataframe to an interactive table.\"\n",
              "              style=\"display:none;\">\n",
              "        \n",
              "  <svg xmlns=\"http://www.w3.org/2000/svg\" height=\"24px\"viewBox=\"0 0 24 24\"\n",
              "       width=\"24px\">\n",
              "    <path d=\"M0 0h24v24H0V0z\" fill=\"none\"/>\n",
              "    <path d=\"M18.56 5.44l.94 2.06.94-2.06 2.06-.94-2.06-.94-.94-2.06-.94 2.06-2.06.94zm-11 1L8.5 8.5l.94-2.06 2.06-.94-2.06-.94L8.5 2.5l-.94 2.06-2.06.94zm10 10l.94 2.06.94-2.06 2.06-.94-2.06-.94-.94-2.06-.94 2.06-2.06.94z\"/><path d=\"M17.41 7.96l-1.37-1.37c-.4-.4-.92-.59-1.43-.59-.52 0-1.04.2-1.43.59L10.3 9.45l-7.72 7.72c-.78.78-.78 2.05 0 2.83L4 21.41c.39.39.9.59 1.41.59.51 0 1.02-.2 1.41-.59l7.78-7.78 2.81-2.81c.8-.78.8-2.07 0-2.86zM5.41 20L4 18.59l7.72-7.72 1.47 1.35L5.41 20z\"/>\n",
              "  </svg>\n",
              "      </button>\n",
              "      \n",
              "  <style>\n",
              "    .colab-df-container {\n",
              "      display:flex;\n",
              "      flex-wrap:wrap;\n",
              "      gap: 12px;\n",
              "    }\n",
              "\n",
              "    .colab-df-convert {\n",
              "      background-color: #E8F0FE;\n",
              "      border: none;\n",
              "      border-radius: 50%;\n",
              "      cursor: pointer;\n",
              "      display: none;\n",
              "      fill: #1967D2;\n",
              "      height: 32px;\n",
              "      padding: 0 0 0 0;\n",
              "      width: 32px;\n",
              "    }\n",
              "\n",
              "    .colab-df-convert:hover {\n",
              "      background-color: #E2EBFA;\n",
              "      box-shadow: 0px 1px 2px rgba(60, 64, 67, 0.3), 0px 1px 3px 1px rgba(60, 64, 67, 0.15);\n",
              "      fill: #174EA6;\n",
              "    }\n",
              "\n",
              "    [theme=dark] .colab-df-convert {\n",
              "      background-color: #3B4455;\n",
              "      fill: #D2E3FC;\n",
              "    }\n",
              "\n",
              "    [theme=dark] .colab-df-convert:hover {\n",
              "      background-color: #434B5C;\n",
              "      box-shadow: 0px 1px 3px 1px rgba(0, 0, 0, 0.15);\n",
              "      filter: drop-shadow(0px 1px 2px rgba(0, 0, 0, 0.3));\n",
              "      fill: #FFFFFF;\n",
              "    }\n",
              "  </style>\n",
              "\n",
              "      <script>\n",
              "        const buttonEl =\n",
              "          document.querySelector('#df-502d8350-a06d-4b4b-b41d-f056c16d159e button.colab-df-convert');\n",
              "        buttonEl.style.display =\n",
              "          google.colab.kernel.accessAllowed ? 'block' : 'none';\n",
              "\n",
              "        async function convertToInteractive(key) {\n",
              "          const element = document.querySelector('#df-502d8350-a06d-4b4b-b41d-f056c16d159e');\n",
              "          const dataTable =\n",
              "            await google.colab.kernel.invokeFunction('convertToInteractive',\n",
              "                                                     [key], {});\n",
              "          if (!dataTable) return;\n",
              "\n",
              "          const docLinkHtml = 'Like what you see? Visit the ' +\n",
              "            '<a target=\"_blank\" href=https://colab.research.google.com/notebooks/data_table.ipynb>data table notebook</a>'\n",
              "            + ' to learn more about interactive tables.';\n",
              "          element.innerHTML = '';\n",
              "          dataTable['output_type'] = 'display_data';\n",
              "          await google.colab.output.renderOutput(dataTable, element);\n",
              "          const docLink = document.createElement('div');\n",
              "          docLink.innerHTML = docLinkHtml;\n",
              "          element.appendChild(docLink);\n",
              "        }\n",
              "      </script>\n",
              "    </div>\n",
              "  </div>\n",
              "  "
            ]
          },
          "metadata": {},
          "execution_count": 10
        }
      ]
    },
    {
      "cell_type": "markdown",
      "metadata": {
        "id": "YYgVyk65c8bH"
      },
      "source": [
        "# **XGBOOST**"
      ]
    },
    {
      "cell_type": "markdown",
      "source": [
        "## **Black Box**"
      ],
      "metadata": {
        "id": "k75emAHwljVf"
      }
    },
    {
      "cell_type": "code",
      "execution_count": 11,
      "metadata": {
        "colab": {
          "base_uri": "https://localhost:8080/"
        },
        "execution": {
          "iopub.execute_input": "2022-07-05T00:58:39.306002Z",
          "iopub.status.busy": "2022-07-05T00:58:39.305542Z",
          "iopub.status.idle": "2022-07-05T01:02:18.329714Z",
          "shell.execute_reply": "2022-07-05T01:02:18.328430Z",
          "shell.execute_reply.started": "2022-07-05T00:58:39.305970Z"
        },
        "id": "e-eFLMGWc8bI",
        "outputId": "65e2cb70-ed36-4ca0-e35a-411dcc6f98bc"
      },
      "outputs": [
        {
          "output_type": "stream",
          "name": "stdout",
          "text": [
            "Fitting 5 folds for each of 1 candidates, totalling 5 fits\n",
            "[21:35:04] WARNING: /workspace/src/objective/regression_obj.cu:152: reg:linear is now deprecated in favor of reg:squarederror.\n"
          ]
        },
        {
          "output_type": "execute_result",
          "data": {
            "text/plain": [
              "GridSearchCV(cv=StratifiedKFold(n_splits=5, random_state=42, shuffle=True),\n",
              "             estimator=Pipeline(steps=[('pre_processador',\n",
              "                                        ColumnTransformer(transformers=[('transf_num',\n",
              "                                                                         Pipeline(steps=[('input_num',\n",
              "                                                                                          SimpleImputer()),\n",
              "                                                                                         ('std',\n",
              "                                                                                          StandardScaler())]),\n",
              "                                                                         ['Rooms',\n",
              "                                                                          'Postcode',\n",
              "                                                                          'Propertycount',\n",
              "                                                                          'Distance']),\n",
              "                                                                        ('transf_cat',\n",
              "                                                                         Pipeline(steps=[('input_cat_oe',\n",
              "                                                                                          SimpleImputer(fill...\n",
              "                                                                                                         unknown_value=-1))]),\n",
              "                                                                         ['Suburb',\n",
              "                                                                          'Address',\n",
              "                                                                          'Type',\n",
              "                                                                          'Method',\n",
              "                                                                          'SellerG',\n",
              "                                                                          'Date',\n",
              "                                                                          'CouncilArea',\n",
              "                                                                          'Regionname'])])),\n",
              "                                       ('xgbr',\n",
              "                                        XGBRegressor(eval_metric='logloss',\n",
              "                                                     random_state=42))]),\n",
              "             n_jobs=-1,\n",
              "             param_grid={'xgbr__colsample_bytree': [0.5],\n",
              "                         'xgbr__learning_rate': [0.01], 'xgbr__max_depth': [3],\n",
              "                         'xgbr__n_estimators': [5000],\n",
              "                         'xgbr__subsample': [0.5]},\n",
              "             scoring='r2', verbose=10)"
            ]
          },
          "metadata": {},
          "execution_count": 11
        }
      ],
      "source": [
        "#Separando o que é features e target:\n",
        "X = df.drop(columns=\"Price\")\n",
        "y = df[\"Price\"]\n",
        "\n",
        "# Dividindo em dados de teste e dados de treino, peguei 20% para dados de teste:\n",
        "X_train, X_test, y_train, y_test = train_test_split(X, y, test_size=0.2, random_state=42)\n",
        "\n",
        "# Iniciando a construção da Pipeline:\n",
        "# ==========================================================\n",
        "#Primeiro vamos tratar as features numéricas. Tratando os valores nulos (NaN) e escalonando já que a variância entre as features é grande.\n",
        "pipe_features_num = Pipeline([(\"input_num\", SimpleImputer(strategy=\"mean\")),\n",
        "                              (\"std\", StandardScaler())])\n",
        "\n",
        "features_num = X_train.select_dtypes(include=np.number).columns.tolist()\n",
        "# ==========================================================\n",
        "# Tratando as features categóricas. Os valores nulos (NaN) serão preenchidos pelos dados mais constantes e posteriormente codificaremos todas elas com o One Hot Encoder e Ordinal Enconder. Percebemos que o One Hot Encoder \n",
        "# é para features categóricas binárias e o Ordinal Enconder para features categóricas ordinais (não binários)\n",
        "\n",
        "pipe_features_oe = Pipeline([(\"input_cat_oe\", SimpleImputer(strategy=\"constant\", fill_value=\"unknown\")),\n",
        "                             (\"ordinal\", OrdinalEncoder(handle_unknown='use_encoded_value', unknown_value=-1))])\n",
        "\n",
        "features_oe = [\"Suburb\", \"Address\", \"Type\", \"Method\", \"SellerG\", \"Date\", \"CouncilArea\", \"Regionname\"]\n",
        "\n",
        "# ==========================================================\n",
        "# Pré-processador => Pegando as pipelines anteriores e unindo-as.\n",
        "pre_processador = ColumnTransformer([(\"transf_num\", pipe_features_num, features_num),\n",
        "                                     (\"transf_cat\", pipe_features_oe, features_oe)])\n",
        "\n",
        "# ==========================================================\n",
        "# Pipeline final, usando o pré-processador e o estimador que queremos utilizar, neste caso o XGBoost para regressão.\n",
        "pipe_xgbr = Pipeline([(\"pre_processador\", pre_processador),\n",
        "                     (\"xgbr\", XGBRegressor(eval_metric='logloss', random_state=42))])\n",
        "\n",
        "# ==========================================================\n",
        "#Vamos dividir em splits para ter mais variedade no processamento dos dados.\n",
        "splitter = StratifiedKFold(n_splits=5, random_state=42, shuffle=True)\n",
        "\n",
        "#Montando a grade de parâmetros do estimador (XGBoost)\n",
        "params_grid_xgbr = {\"xgbr__n_estimators\": [5000],\n",
        "                   \"xgbr__max_depth\": [3],\n",
        "                   \"xgbr__learning_rate\": [0.01],\n",
        "                   \"xgbr__colsample_bytree\": [0.5],\n",
        "                   \"xgbr__subsample\": [0.5]}\n",
        "\n",
        "\n",
        "#Motando a grade geral de parâmetros.\n",
        "grid_xgbr = GridSearchCV(estimator=pipe_xgbr,\n",
        "                       param_grid=params_grid_xgbr,\n",
        "                       scoring=\"r2\",\n",
        "                       cv=splitter,\n",
        "                       verbose=10,\n",
        "                       n_jobs=-1)\n",
        "\n",
        "grid_xgbr.fit(X_train, y_train)"
      ]
    },
    {
      "cell_type": "code",
      "execution_count": 12,
      "metadata": {
        "collapsed": true,
        "execution": {
          "iopub.execute_input": "2022-07-04T21:37:34.559124Z",
          "iopub.status.busy": "2022-07-04T21:37:34.558167Z",
          "iopub.status.idle": "2022-07-04T21:37:34.565840Z",
          "shell.execute_reply": "2022-07-04T21:37:34.565007Z",
          "shell.execute_reply.started": "2022-07-04T21:37:34.559057Z"
        },
        "id": "DAKnu8-xc8bI",
        "jupyter": {
          "outputs_hidden": true
        },
        "colab": {
          "base_uri": "https://localhost:8080/"
        },
        "outputId": "ecd563ca-153a-4002-a8ea-adb8e131f619"
      },
      "outputs": [
        {
          "output_type": "execute_result",
          "data": {
            "text/plain": [
              "{'xgbr__colsample_bytree': 0.5,\n",
              " 'xgbr__learning_rate': 0.01,\n",
              " 'xgbr__max_depth': 3,\n",
              " 'xgbr__n_estimators': 5000,\n",
              " 'xgbr__subsample': 0.5}"
            ]
          },
          "metadata": {},
          "execution_count": 12
        }
      ],
      "source": [
        "grid_xgbr.best_params_"
      ]
    },
    {
      "cell_type": "code",
      "execution_count": 13,
      "metadata": {
        "collapsed": true,
        "execution": {
          "iopub.execute_input": "2022-07-04T14:20:52.445534Z",
          "iopub.status.busy": "2022-07-04T14:20:52.445074Z",
          "iopub.status.idle": "2022-07-04T14:20:52.487086Z",
          "shell.execute_reply": "2022-07-04T14:20:52.486289Z",
          "shell.execute_reply.started": "2022-07-04T14:20:52.445484Z"
        },
        "id": "Bzqj-9m-c8bJ",
        "jupyter": {
          "outputs_hidden": true
        },
        "colab": {
          "base_uri": "https://localhost:8080/",
          "height": 162
        },
        "outputId": "0a03270b-b931-4f42-e62c-be2b8d279ada"
      },
      "outputs": [
        {
          "output_type": "execute_result",
          "data": {
            "text/plain": [
              "   mean_fit_time  std_fit_time  mean_score_time  std_score_time  \\\n",
              "0     115.839672     19.135122          2.15685        0.250625   \n",
              "\n",
              "  param_xgbr__colsample_bytree param_xgbr__learning_rate  \\\n",
              "0                          0.5                      0.01   \n",
              "\n",
              "  param_xgbr__max_depth param_xgbr__n_estimators param_xgbr__subsample  \\\n",
              "0                     3                     5000                   0.5   \n",
              "\n",
              "                                              params  split0_test_score  \\\n",
              "0  {'xgbr__colsample_bytree': 0.5, 'xgbr__learnin...           0.716487   \n",
              "\n",
              "   split1_test_score  split2_test_score  split3_test_score  split4_test_score  \\\n",
              "0           0.743208            0.72705           0.687525           0.714969   \n",
              "\n",
              "   mean_test_score  std_test_score  rank_test_score  \n",
              "0         0.717848        0.018207                1  "
            ],
            "text/html": [
              "\n",
              "  <div id=\"df-c4998d1b-87a8-4054-a300-6999683f9b49\">\n",
              "    <div class=\"colab-df-container\">\n",
              "      <div>\n",
              "<style scoped>\n",
              "    .dataframe tbody tr th:only-of-type {\n",
              "        vertical-align: middle;\n",
              "    }\n",
              "\n",
              "    .dataframe tbody tr th {\n",
              "        vertical-align: top;\n",
              "    }\n",
              "\n",
              "    .dataframe thead th {\n",
              "        text-align: right;\n",
              "    }\n",
              "</style>\n",
              "<table border=\"1\" class=\"dataframe\">\n",
              "  <thead>\n",
              "    <tr style=\"text-align: right;\">\n",
              "      <th></th>\n",
              "      <th>mean_fit_time</th>\n",
              "      <th>std_fit_time</th>\n",
              "      <th>mean_score_time</th>\n",
              "      <th>std_score_time</th>\n",
              "      <th>param_xgbr__colsample_bytree</th>\n",
              "      <th>param_xgbr__learning_rate</th>\n",
              "      <th>param_xgbr__max_depth</th>\n",
              "      <th>param_xgbr__n_estimators</th>\n",
              "      <th>param_xgbr__subsample</th>\n",
              "      <th>params</th>\n",
              "      <th>split0_test_score</th>\n",
              "      <th>split1_test_score</th>\n",
              "      <th>split2_test_score</th>\n",
              "      <th>split3_test_score</th>\n",
              "      <th>split4_test_score</th>\n",
              "      <th>mean_test_score</th>\n",
              "      <th>std_test_score</th>\n",
              "      <th>rank_test_score</th>\n",
              "    </tr>\n",
              "  </thead>\n",
              "  <tbody>\n",
              "    <tr>\n",
              "      <th>0</th>\n",
              "      <td>115.839672</td>\n",
              "      <td>19.135122</td>\n",
              "      <td>2.15685</td>\n",
              "      <td>0.250625</td>\n",
              "      <td>0.5</td>\n",
              "      <td>0.01</td>\n",
              "      <td>3</td>\n",
              "      <td>5000</td>\n",
              "      <td>0.5</td>\n",
              "      <td>{'xgbr__colsample_bytree': 0.5, 'xgbr__learnin...</td>\n",
              "      <td>0.716487</td>\n",
              "      <td>0.743208</td>\n",
              "      <td>0.72705</td>\n",
              "      <td>0.687525</td>\n",
              "      <td>0.714969</td>\n",
              "      <td>0.717848</td>\n",
              "      <td>0.018207</td>\n",
              "      <td>1</td>\n",
              "    </tr>\n",
              "  </tbody>\n",
              "</table>\n",
              "</div>\n",
              "      <button class=\"colab-df-convert\" onclick=\"convertToInteractive('df-c4998d1b-87a8-4054-a300-6999683f9b49')\"\n",
              "              title=\"Convert this dataframe to an interactive table.\"\n",
              "              style=\"display:none;\">\n",
              "        \n",
              "  <svg xmlns=\"http://www.w3.org/2000/svg\" height=\"24px\"viewBox=\"0 0 24 24\"\n",
              "       width=\"24px\">\n",
              "    <path d=\"M0 0h24v24H0V0z\" fill=\"none\"/>\n",
              "    <path d=\"M18.56 5.44l.94 2.06.94-2.06 2.06-.94-2.06-.94-.94-2.06-.94 2.06-2.06.94zm-11 1L8.5 8.5l.94-2.06 2.06-.94-2.06-.94L8.5 2.5l-.94 2.06-2.06.94zm10 10l.94 2.06.94-2.06 2.06-.94-2.06-.94-.94-2.06-.94 2.06-2.06.94z\"/><path d=\"M17.41 7.96l-1.37-1.37c-.4-.4-.92-.59-1.43-.59-.52 0-1.04.2-1.43.59L10.3 9.45l-7.72 7.72c-.78.78-.78 2.05 0 2.83L4 21.41c.39.39.9.59 1.41.59.51 0 1.02-.2 1.41-.59l7.78-7.78 2.81-2.81c.8-.78.8-2.07 0-2.86zM5.41 20L4 18.59l7.72-7.72 1.47 1.35L5.41 20z\"/>\n",
              "  </svg>\n",
              "      </button>\n",
              "      \n",
              "  <style>\n",
              "    .colab-df-container {\n",
              "      display:flex;\n",
              "      flex-wrap:wrap;\n",
              "      gap: 12px;\n",
              "    }\n",
              "\n",
              "    .colab-df-convert {\n",
              "      background-color: #E8F0FE;\n",
              "      border: none;\n",
              "      border-radius: 50%;\n",
              "      cursor: pointer;\n",
              "      display: none;\n",
              "      fill: #1967D2;\n",
              "      height: 32px;\n",
              "      padding: 0 0 0 0;\n",
              "      width: 32px;\n",
              "    }\n",
              "\n",
              "    .colab-df-convert:hover {\n",
              "      background-color: #E2EBFA;\n",
              "      box-shadow: 0px 1px 2px rgba(60, 64, 67, 0.3), 0px 1px 3px 1px rgba(60, 64, 67, 0.15);\n",
              "      fill: #174EA6;\n",
              "    }\n",
              "\n",
              "    [theme=dark] .colab-df-convert {\n",
              "      background-color: #3B4455;\n",
              "      fill: #D2E3FC;\n",
              "    }\n",
              "\n",
              "    [theme=dark] .colab-df-convert:hover {\n",
              "      background-color: #434B5C;\n",
              "      box-shadow: 0px 1px 3px 1px rgba(0, 0, 0, 0.15);\n",
              "      filter: drop-shadow(0px 1px 2px rgba(0, 0, 0, 0.3));\n",
              "      fill: #FFFFFF;\n",
              "    }\n",
              "  </style>\n",
              "\n",
              "      <script>\n",
              "        const buttonEl =\n",
              "          document.querySelector('#df-c4998d1b-87a8-4054-a300-6999683f9b49 button.colab-df-convert');\n",
              "        buttonEl.style.display =\n",
              "          google.colab.kernel.accessAllowed ? 'block' : 'none';\n",
              "\n",
              "        async function convertToInteractive(key) {\n",
              "          const element = document.querySelector('#df-c4998d1b-87a8-4054-a300-6999683f9b49');\n",
              "          const dataTable =\n",
              "            await google.colab.kernel.invokeFunction('convertToInteractive',\n",
              "                                                     [key], {});\n",
              "          if (!dataTable) return;\n",
              "\n",
              "          const docLinkHtml = 'Like what you see? Visit the ' +\n",
              "            '<a target=\"_blank\" href=https://colab.research.google.com/notebooks/data_table.ipynb>data table notebook</a>'\n",
              "            + ' to learn more about interactive tables.';\n",
              "          element.innerHTML = '';\n",
              "          dataTable['output_type'] = 'display_data';\n",
              "          await google.colab.output.renderOutput(dataTable, element);\n",
              "          const docLink = document.createElement('div');\n",
              "          docLink.innerHTML = docLinkHtml;\n",
              "          element.appendChild(docLink);\n",
              "        }\n",
              "      </script>\n",
              "    </div>\n",
              "  </div>\n",
              "  "
            ]
          },
          "metadata": {},
          "execution_count": 13
        }
      ],
      "source": [
        "xgbr_results = pd.DataFrame(grid_xgbr.cv_results_)\n",
        "xgbr_results.sort_values(by=[\"rank_test_score\"])"
      ]
    },
    {
      "cell_type": "code",
      "execution_count": 14,
      "metadata": {
        "colab": {
          "base_uri": "https://localhost:8080/"
        },
        "execution": {
          "iopub.execute_input": "2022-07-05T01:02:43.684643Z",
          "iopub.status.busy": "2022-07-05T01:02:43.684163Z",
          "iopub.status.idle": "2022-07-05T01:02:45.252934Z",
          "shell.execute_reply": "2022-07-05T01:02:45.251778Z",
          "shell.execute_reply.started": "2022-07-05T01:02:43.684604Z"
        },
        "id": "uzhLcpnDc8bK",
        "outputId": "e71f2b23-3ee2-46c6-ffe1-cdfca7c39c68"
      },
      "outputs": [
        {
          "output_type": "stream",
          "name": "stdout",
          "text": [
            "\n",
            "Métricas de treino:\n",
            "\n",
            "R^2: 0.76\n",
            "MAE: 175601.22\n",
            "RMSE: 290896.04\n",
            "\n",
            "Métricas de teste:\n",
            "\n",
            "R^2: 0.72\n",
            "MAE: 192911.63\n",
            "RMSE: 309916.26\n"
          ]
        }
      ],
      "source": [
        "# Predições de treino\n",
        "y_pred_train_xgbr = grid_xgbr.predict(X_train)\n",
        "\n",
        "print(\"\\nMétricas de treino:\\n\")\n",
        "print(f\"R^2: {r2_score(y_train, y_pred_train_xgbr):.2f}\")\n",
        "print(f\"MAE: {mean_absolute_error(y_train, y_pred_train_xgbr):.2f}\")\n",
        "print(f\"RMSE: {np.sqrt(mean_squared_error(y_train, y_pred_train_xgbr)):.2f}\")\n",
        "\n",
        "# Predições de teste\n",
        "y_pred_test_xgbr = grid_xgbr.predict(X_test)\n",
        "\n",
        "print(\"\\nMétricas de teste:\\n\")\n",
        "print(f\"R^2: {r2_score(y_test, y_pred_test_xgbr):.2f}\")\n",
        "print(f\"MAE: {mean_absolute_error(y_test, y_pred_test_xgbr):.2f}\")\n",
        "print(f\"RMSE: {np.sqrt(mean_squared_error(y_test, y_pred_test_xgbr)):.2f}\") "
      ]
    },
    {
      "cell_type": "code",
      "execution_count": 15,
      "metadata": {
        "colab": {
          "base_uri": "https://localhost:8080/",
          "height": 499
        },
        "execution": {
          "iopub.execute_input": "2022-07-05T01:05:58.697717Z",
          "iopub.status.busy": "2022-07-05T01:05:58.696913Z",
          "iopub.status.idle": "2022-07-05T01:05:59.069653Z",
          "shell.execute_reply": "2022-07-05T01:05:59.068345Z",
          "shell.execute_reply.started": "2022-07-05T01:05:58.697665Z"
        },
        "id": "zH-xPhTkc8bK",
        "outputId": "bad66bc3-20cb-42d6-e936-b57ba4993275"
      },
      "outputs": [
        {
          "output_type": "display_data",
          "data": {
            "text/plain": [
              "<Figure size 2160x576 with 1 Axes>"
            ],
            "image/png": "[encoded data removed]"
          },
          "metadata": {
            "needs_background": "light"
          }
        }
      ],
      "source": [
        "plt.figure(figsize=(30,8))\n",
        "x_ax = range(len(y_test))\n",
        "plt.plot(x_ax, y_test, label=\"original\")\n",
        "plt.plot(x_ax, y_pred_test_xgbr, label=\"predicted\")\n",
        "plt.title(\"mMelbourne test and predicted data\")\n",
        "plt.legend()\n",
        "plt.show();"
      ]
    },
    {
      "cell_type": "code",
      "execution_count": 16,
      "metadata": {
        "execution": {
          "iopub.execute_input": "2022-07-04T23:50:10.517694Z",
          "iopub.status.busy": "2022-07-04T23:50:10.517196Z",
          "iopub.status.idle": "2022-07-04T23:50:10.524008Z",
          "shell.execute_reply": "2022-07-04T23:50:10.522741Z",
          "shell.execute_reply.started": "2022-07-04T23:50:10.517659Z"
        },
        "id": "0fYoLUssc8bK"
      },
      "outputs": [],
      "source": [
        "import pickle"
      ]
    },
    {
      "cell_type": "code",
      "execution_count": 17,
      "metadata": {
        "execution": {
          "iopub.execute_input": "2022-07-05T01:03:00.685460Z",
          "iopub.status.busy": "2022-07-05T01:03:00.684448Z",
          "iopub.status.idle": "2022-07-05T01:03:00.790710Z",
          "shell.execute_reply": "2022-07-05T01:03:00.788824Z",
          "shell.execute_reply.started": "2022-07-05T01:03:00.685404Z"
        },
        "id": "jfhpHY6vc8bL"
      },
      "outputs": [],
      "source": [
        "with open(\"grid_xgbr.pkl\", \"wb\") as f:\n",
        "    pickle.dump(grid_xgbr, f)"
      ]
    },
    {
      "cell_type": "code",
      "execution_count": 18,
      "metadata": {
        "id": "sNYrXM8ec8bL",
        "colab": {
          "base_uri": "https://localhost:8080/"
        },
        "outputId": "1f8f072f-9b05-49a8-d1a8-889005c01613"
      },
      "outputs": [
        {
          "output_type": "stream",
          "name": "stdout",
          "text": [
            "[21:36:51] WARNING: /workspace/src/objective/regression_obj.cu:152: reg:linear is now deprecated in favor of reg:squarederror.\n"
          ]
        }
      ],
      "source": [
        "with open(\"grid_xgbr.pkl\", \"rb\") as f:\n",
        "    \n",
        "    grid_xgbr = pickle.load(f)"
      ]
    },
    {
      "cell_type": "code",
      "execution_count": 19,
      "metadata": {
        "colab": {
          "base_uri": "https://localhost:8080/"
        },
        "execution": {
          "iopub.execute_input": "2022-07-05T01:06:24.486935Z",
          "iopub.status.busy": "2022-07-05T01:06:24.485551Z",
          "iopub.status.idle": "2022-07-05T01:06:24.495627Z",
          "shell.execute_reply": "2022-07-05T01:06:24.494426Z",
          "shell.execute_reply.started": "2022-07-05T01:06:24.486869Z"
        },
        "id": "5rebXbdwc8bM",
        "outputId": "c893ac39-4e72-43ab-9f78-190b53d2ffb9"
      },
      "outputs": [
        {
          "output_type": "execute_result",
          "data": {
            "text/plain": [
              "array([ 976776.94,  918176.9 ,  602512.4 , ...,  897571.56,  601055.44,\n",
              "       1038958.9 ], dtype=float32)"
            ]
          },
          "metadata": {},
          "execution_count": 19
        }
      ],
      "source": [
        "y_pred_test_xgbr"
      ]
    },
    {
      "cell_type": "code",
      "execution_count": 20,
      "metadata": {
        "colab": {
          "base_uri": "https://localhost:8080/"
        },
        "execution": {
          "iopub.execute_input": "2022-07-05T01:07:30.826412Z",
          "iopub.status.busy": "2022-07-05T01:07:30.825316Z",
          "iopub.status.idle": "2022-07-05T01:07:30.834027Z",
          "shell.execute_reply": "2022-07-05T01:07:30.832959Z",
          "shell.execute_reply.started": "2022-07-05T01:07:30.826361Z"
        },
        "id": "zEem5V6Wc8bM",
        "outputId": "08555b15-f852-4ced-affc-f5602ffc03ad"
      },
      "outputs": [
        {
          "output_type": "execute_result",
          "data": {
            "text/plain": [
              "array([885000., 640000., 572000., ..., 901000., 522000., 955000.])"
            ]
          },
          "metadata": {},
          "execution_count": 20
        }
      ],
      "source": [
        "y_test.values"
      ]
    },
    {
      "cell_type": "markdown",
      "metadata": {
        "id": "08Z7JIijkG8F"
      },
      "source": [
        "**Vamos criar uma tabela com a porcentagem de acertos para cada dado**"
      ]
    },
    {
      "cell_type": "code",
      "execution_count": 21,
      "metadata": {
        "execution": {
          "iopub.execute_input": "2022-07-05T01:07:40.588922Z",
          "iopub.status.busy": "2022-07-05T01:07:40.588438Z",
          "iopub.status.idle": "2022-07-05T01:07:40.596087Z",
          "shell.execute_reply": "2022-07-05T01:07:40.594620Z",
          "shell.execute_reply.started": "2022-07-05T01:07:40.588882Z"
        },
        "id": "XVSopcR-c8bM"
      },
      "outputs": [],
      "source": [
        "tabela_xgbr = pd.DataFrame()"
      ]
    },
    {
      "cell_type": "code",
      "execution_count": 22,
      "metadata": {
        "execution": {
          "iopub.execute_input": "2022-07-05T01:08:00.638005Z",
          "iopub.status.busy": "2022-07-05T01:08:00.637552Z",
          "iopub.status.idle": "2022-07-05T01:08:00.646545Z",
          "shell.execute_reply": "2022-07-05T01:08:00.645413Z",
          "shell.execute_reply.started": "2022-07-05T01:08:00.637972Z"
        },
        "id": "I96XCUNXc8bN"
      },
      "outputs": [],
      "source": [
        "tabela_xgbr[\"valores reais\"] = y_test"
      ]
    },
    {
      "cell_type": "code",
      "execution_count": 23,
      "metadata": {
        "execution": {
          "iopub.execute_input": "2022-07-05T01:08:27.467412Z",
          "iopub.status.busy": "2022-07-05T01:08:27.466894Z",
          "iopub.status.idle": "2022-07-05T01:08:27.474561Z",
          "shell.execute_reply": "2022-07-05T01:08:27.473152Z",
          "shell.execute_reply.started": "2022-07-05T01:08:27.467371Z"
        },
        "id": "aLkGND4Lc8bN"
      },
      "outputs": [],
      "source": [
        "tabela_xgbr[\"valores preditos\"] = y_pred_test_xgbr"
      ]
    },
    {
      "cell_type": "code",
      "execution_count": 24,
      "metadata": {
        "id": "ySKq7WYj6tuW"
      },
      "outputs": [],
      "source": [
        "tabela_xgbr[\"porcentagem de acerto %\"]= (y_test/y_pred_test_xgbr)*100"
      ]
    },
    {
      "cell_type": "code",
      "execution_count": 25,
      "metadata": {
        "id": "xoGWh5876tuW"
      },
      "outputs": [],
      "source": [
        "lista_num = []\n",
        "for c in tabela_xgbr[\"porcentagem de acerto %\"]:\n",
        "  if c > 100:\n",
        "    num = abs(c - 200)\n",
        "    lista_num.append(num)\n",
        "  else:\n",
        "    num = c\n",
        "    lista_num.append(num)\n",
        "  \n",
        "\n",
        "tabela_xgbr[\"porcentagem de acerto %\"]= lista_num"
      ]
    },
    {
      "cell_type": "code",
      "execution_count": 26,
      "metadata": {
        "colab": {
          "base_uri": "https://localhost:8080/",
          "height": 424
        },
        "id": "z-k7Efca6tuX",
        "outputId": "f00cbf6f-294c-4cfb-a226-1cdccf7f52ea"
      },
      "outputs": [
        {
          "output_type": "execute_result",
          "data": {
            "text/plain": [
              "       valores reais  valores preditos  porcentagem de acerto %\n",
              "37778       885000.0      9.767769e+05                90.604105\n",
              "43001       640000.0      9.181769e+05                69.703346\n",
              "38183       572000.0      6.025124e+05                94.935809\n",
              "1578       1810000.0      1.390415e+06                69.823050\n",
              "8416       1630000.0      1.699573e+06                95.906421\n",
              "...              ...               ...                      ...\n",
              "23803       981000.0      8.653992e+05                86.641917\n",
              "6051       1050000.0      9.761660e+05                92.436327\n",
              "44110       901000.0      8.975716e+05                99.618032\n",
              "35171       522000.0      6.010554e+05                86.847230\n",
              "35280       955000.0      1.038959e+06                91.918941\n",
              "\n",
              "[9687 rows x 3 columns]"
            ],
            "text/html": [
              "\n",
              "  <div id=\"df-974f62c3-c286-437d-9a6f-3e2faac4a41c\">\n",
              "    <div class=\"colab-df-container\">\n",
              "      <div>\n",
              "<style scoped>\n",
              "    .dataframe tbody tr th:only-of-type {\n",
              "        vertical-align: middle;\n",
              "    }\n",
              "\n",
              "    .dataframe tbody tr th {\n",
              "        vertical-align: top;\n",
              "    }\n",
              "\n",
              "    .dataframe thead th {\n",
              "        text-align: right;\n",
              "    }\n",
              "</style>\n",
              "<table border=\"1\" class=\"dataframe\">\n",
              "  <thead>\n",
              "    <tr style=\"text-align: right;\">\n",
              "      <th></th>\n",
              "      <th>valores reais</th>\n",
              "      <th>valores preditos</th>\n",
              "      <th>porcentagem de acerto %</th>\n",
              "    </tr>\n",
              "  </thead>\n",
              "  <tbody>\n",
              "    <tr>\n",
              "      <th>37778</th>\n",
              "      <td>885000.0</td>\n",
              "      <td>9.767769e+05</td>\n",
              "      <td>90.604105</td>\n",
              "    </tr>\n",
              "    <tr>\n",
              "      <th>43001</th>\n",
              "      <td>640000.0</td>\n",
              "      <td>9.181769e+05</td>\n",
              "      <td>69.703346</td>\n",
              "    </tr>\n",
              "    <tr>\n",
              "      <th>38183</th>\n",
              "      <td>572000.0</td>\n",
              "      <td>6.025124e+05</td>\n",
              "      <td>94.935809</td>\n",
              "    </tr>\n",
              "    <tr>\n",
              "      <th>1578</th>\n",
              "      <td>1810000.0</td>\n",
              "      <td>1.390415e+06</td>\n",
              "      <td>69.823050</td>\n",
              "    </tr>\n",
              "    <tr>\n",
              "      <th>8416</th>\n",
              "      <td>1630000.0</td>\n",
              "      <td>1.699573e+06</td>\n",
              "      <td>95.906421</td>\n",
              "    </tr>\n",
              "    <tr>\n",
              "      <th>...</th>\n",
              "      <td>...</td>\n",
              "      <td>...</td>\n",
              "      <td>...</td>\n",
              "    </tr>\n",
              "    <tr>\n",
              "      <th>23803</th>\n",
              "      <td>981000.0</td>\n",
              "      <td>8.653992e+05</td>\n",
              "      <td>86.641917</td>\n",
              "    </tr>\n",
              "    <tr>\n",
              "      <th>6051</th>\n",
              "      <td>1050000.0</td>\n",
              "      <td>9.761660e+05</td>\n",
              "      <td>92.436327</td>\n",
              "    </tr>\n",
              "    <tr>\n",
              "      <th>44110</th>\n",
              "      <td>901000.0</td>\n",
              "      <td>8.975716e+05</td>\n",
              "      <td>99.618032</td>\n",
              "    </tr>\n",
              "    <tr>\n",
              "      <th>35171</th>\n",
              "      <td>522000.0</td>\n",
              "      <td>6.010554e+05</td>\n",
              "      <td>86.847230</td>\n",
              "    </tr>\n",
              "    <tr>\n",
              "      <th>35280</th>\n",
              "      <td>955000.0</td>\n",
              "      <td>1.038959e+06</td>\n",
              "      <td>91.918941</td>\n",
              "    </tr>\n",
              "  </tbody>\n",
              "</table>\n",
              "<p>9687 rows × 3 columns</p>\n",
              "</div>\n",
              "      <button class=\"colab-df-convert\" onclick=\"convertToInteractive('df-974f62c3-c286-437d-9a6f-3e2faac4a41c')\"\n",
              "              title=\"Convert this dataframe to an interactive table.\"\n",
              "              style=\"display:none;\">\n",
              "        \n",
              "  <svg xmlns=\"http://www.w3.org/2000/svg\" height=\"24px\"viewBox=\"0 0 24 24\"\n",
              "       width=\"24px\">\n",
              "    <path d=\"M0 0h24v24H0V0z\" fill=\"none\"/>\n",
              "    <path d=\"M18.56 5.44l.94 2.06.94-2.06 2.06-.94-2.06-.94-.94-2.06-.94 2.06-2.06.94zm-11 1L8.5 8.5l.94-2.06 2.06-.94-2.06-.94L8.5 2.5l-.94 2.06-2.06.94zm10 10l.94 2.06.94-2.06 2.06-.94-2.06-.94-.94-2.06-.94 2.06-2.06.94z\"/><path d=\"M17.41 7.96l-1.37-1.37c-.4-.4-.92-.59-1.43-.59-.52 0-1.04.2-1.43.59L10.3 9.45l-7.72 7.72c-.78.78-.78 2.05 0 2.83L4 21.41c.39.39.9.59 1.41.59.51 0 1.02-.2 1.41-.59l7.78-7.78 2.81-2.81c.8-.78.8-2.07 0-2.86zM5.41 20L4 18.59l7.72-7.72 1.47 1.35L5.41 20z\"/>\n",
              "  </svg>\n",
              "      </button>\n",
              "      \n",
              "  <style>\n",
              "    .colab-df-container {\n",
              "      display:flex;\n",
              "      flex-wrap:wrap;\n",
              "      gap: 12px;\n",
              "    }\n",
              "\n",
              "    .colab-df-convert {\n",
              "      background-color: #E8F0FE;\n",
              "      border: none;\n",
              "      border-radius: 50%;\n",
              "      cursor: pointer;\n",
              "      display: none;\n",
              "      fill: #1967D2;\n",
              "      height: 32px;\n",
              "      padding: 0 0 0 0;\n",
              "      width: 32px;\n",
              "    }\n",
              "\n",
              "    .colab-df-convert:hover {\n",
              "      background-color: #E2EBFA;\n",
              "      box-shadow: 0px 1px 2px rgba(60, 64, 67, 0.3), 0px 1px 3px 1px rgba(60, 64, 67, 0.15);\n",
              "      fill: #174EA6;\n",
              "    }\n",
              "\n",
              "    [theme=dark] .colab-df-convert {\n",
              "      background-color: #3B4455;\n",
              "      fill: #D2E3FC;\n",
              "    }\n",
              "\n",
              "    [theme=dark] .colab-df-convert:hover {\n",
              "      background-color: #434B5C;\n",
              "      box-shadow: 0px 1px 3px 1px rgba(0, 0, 0, 0.15);\n",
              "      filter: drop-shadow(0px 1px 2px rgba(0, 0, 0, 0.3));\n",
              "      fill: #FFFFFF;\n",
              "    }\n",
              "  </style>\n",
              "\n",
              "      <script>\n",
              "        const buttonEl =\n",
              "          document.querySelector('#df-974f62c3-c286-437d-9a6f-3e2faac4a41c button.colab-df-convert');\n",
              "        buttonEl.style.display =\n",
              "          google.colab.kernel.accessAllowed ? 'block' : 'none';\n",
              "\n",
              "        async function convertToInteractive(key) {\n",
              "          const element = document.querySelector('#df-974f62c3-c286-437d-9a6f-3e2faac4a41c');\n",
              "          const dataTable =\n",
              "            await google.colab.kernel.invokeFunction('convertToInteractive',\n",
              "                                                     [key], {});\n",
              "          if (!dataTable) return;\n",
              "\n",
              "          const docLinkHtml = 'Like what you see? Visit the ' +\n",
              "            '<a target=\"_blank\" href=https://colab.research.google.com/notebooks/data_table.ipynb>data table notebook</a>'\n",
              "            + ' to learn more about interactive tables.';\n",
              "          element.innerHTML = '';\n",
              "          dataTable['output_type'] = 'display_data';\n",
              "          await google.colab.output.renderOutput(dataTable, element);\n",
              "          const docLink = document.createElement('div');\n",
              "          docLink.innerHTML = docLinkHtml;\n",
              "          element.appendChild(docLink);\n",
              "        }\n",
              "      </script>\n",
              "    </div>\n",
              "  </div>\n",
              "  "
            ]
          },
          "metadata": {},
          "execution_count": 26
        }
      ],
      "source": [
        "tabela_xgbr"
      ]
    },
    {
      "cell_type": "markdown",
      "source": [
        "# **Intervalo de confiança do XGBoost - Vamos simular intervalos para amostras com 29 e 90 dados:**"
      ],
      "metadata": {
        "id": "SPNy7bmrlPvy"
      }
    },
    {
      "cell_type": "code",
      "source": [
        "df = pd.read_csv(\"MELBOURNE_HOUSE_PRICES_LESS.csv\")"
      ],
      "metadata": {
        "id": "dgKqxDxQhYen"
      },
      "execution_count": 35,
      "outputs": []
    },
    {
      "cell_type": "code",
      "execution_count": 36,
      "metadata": {
        "id": "YyX37S1HhjnO"
      },
      "outputs": [],
      "source": [
        "df.dropna(inplace=True)"
      ]
    },
    {
      "cell_type": "markdown",
      "source": [
        "**Vimos que na coluna \"Address\" há o número de cada imóvel, vamos retirar pois os valores não são impactantes para o resultado de predição.**"
      ],
      "metadata": {
        "id": "X4Zymv-phjnP"
      }
    },
    {
      "cell_type": "code",
      "source": [
        "lista = []\n",
        "for c in df[\"Address\"]:\n",
        "   lista.append(c.split(\" \", 1)[1])\n",
        "df[\"Address\"] = lista"
      ],
      "metadata": {
        "id": "5HPX--m5hjnP"
      },
      "execution_count": 38,
      "outputs": []
    },
    {
      "cell_type": "code",
      "source": [
        "from sklearn.metrics import accuracy_score\n",
        "from sklearn.model_selection import cross_val_score, KFold\n",
        "from scipy.stats import norm\n",
        "from scipy import stats\n",
        "from scipy.stats import t"
      ],
      "metadata": {
        "id": "_q6SjEsglPvy"
      },
      "execution_count": 40,
      "outputs": []
    },
    {
      "cell_type": "code",
      "source": [
        "df"
      ],
      "metadata": {
        "colab": {
          "base_uri": "https://localhost:8080/",
          "height": 424
        },
        "id": "EeADlXl6hsTc",
        "outputId": "fe2fe17b-aa4f-4b99-de1e-6399b10cb63b"
      },
      "execution_count": 45,
      "outputs": [
        {
          "output_type": "execute_result",
          "data": {
            "text/plain": [
              "       Suburb  Address  Rooms  Type      Price  Method  SellerG  Date  \\\n",
              "0         0.0   7735.0      3   0.0  1490000.0     1.0    180.0   0.0   \n",
              "1         0.0  12829.0      3   0.0  1220000.0     1.0    225.0   0.0   \n",
              "2         0.0  13930.0      3   0.0  1420000.0     1.0    253.0   0.0   \n",
              "3         1.0  13039.0      3   0.0  1515000.0     1.0     28.0   0.0   \n",
              "4         2.0   2776.0      2   0.0   670000.0     1.0    253.0   0.0   \n",
              "...       ...      ...    ...   ...        ...     ...      ...   ...   \n",
              "63016   147.0  10212.0      2   2.0   347700.0     3.0     14.0  88.0   \n",
              "63017   275.0   9254.0      3   0.0   808000.0     1.0    305.0  88.0   \n",
              "63018   288.0   2283.0      3   0.0   566000.0     1.0    306.0  88.0   \n",
              "63019   288.0   9991.0      3   0.0   500000.0     1.0    306.0  88.0   \n",
              "63020   288.0  10001.0      3   0.0   545000.0     1.0    306.0  88.0   \n",
              "\n",
              "       Postcode  Regionname  Propertycount  Distance  CouncilArea  \n",
              "0          3067         2.0           4019       3.0         32.0  \n",
              "1          3067         2.0           4019       3.0         32.0  \n",
              "2          3067         2.0           4019       3.0         32.0  \n",
              "3          3040         6.0           1543       7.5         22.0  \n",
              "4          3042         6.0           3464      10.4         22.0  \n",
              "...         ...         ...            ...       ...          ...  \n",
              "63016      3199         4.0          17055      38.0          7.0  \n",
              "63017      3072         2.0          14577       8.4          6.0  \n",
              "63018      3064         2.0           5833      20.6         11.0  \n",
              "63019      3064         2.0           5833      20.6         11.0  \n",
              "63020      3064         2.0           5833      20.6         11.0  \n",
              "\n",
              "[48433 rows x 13 columns]"
            ],
            "text/html": [
              "\n",
              "  <div id=\"df-0c9015b9-68d9-4333-bcc0-681c1cf1425c\">\n",
              "    <div class=\"colab-df-container\">\n",
              "      <div>\n",
              "<style scoped>\n",
              "    .dataframe tbody tr th:only-of-type {\n",
              "        vertical-align: middle;\n",
              "    }\n",
              "\n",
              "    .dataframe tbody tr th {\n",
              "        vertical-align: top;\n",
              "    }\n",
              "\n",
              "    .dataframe thead th {\n",
              "        text-align: right;\n",
              "    }\n",
              "</style>\n",
              "<table border=\"1\" class=\"dataframe\">\n",
              "  <thead>\n",
              "    <tr style=\"text-align: right;\">\n",
              "      <th></th>\n",
              "      <th>Suburb</th>\n",
              "      <th>Address</th>\n",
              "      <th>Rooms</th>\n",
              "      <th>Type</th>\n",
              "      <th>Price</th>\n",
              "      <th>Method</th>\n",
              "      <th>SellerG</th>\n",
              "      <th>Date</th>\n",
              "      <th>Postcode</th>\n",
              "      <th>Regionname</th>\n",
              "      <th>Propertycount</th>\n",
              "      <th>Distance</th>\n",
              "      <th>CouncilArea</th>\n",
              "    </tr>\n",
              "  </thead>\n",
              "  <tbody>\n",
              "    <tr>\n",
              "      <th>0</th>\n",
              "      <td>0.0</td>\n",
              "      <td>7735.0</td>\n",
              "      <td>3</td>\n",
              "      <td>0.0</td>\n",
              "      <td>1490000.0</td>\n",
              "      <td>1.0</td>\n",
              "      <td>180.0</td>\n",
              "      <td>0.0</td>\n",
              "      <td>3067</td>\n",
              "      <td>2.0</td>\n",
              "      <td>4019</td>\n",
              "      <td>3.0</td>\n",
              "      <td>32.0</td>\n",
              "    </tr>\n",
              "    <tr>\n",
              "      <th>1</th>\n",
              "      <td>0.0</td>\n",
              "      <td>12829.0</td>\n",
              "      <td>3</td>\n",
              "      <td>0.0</td>\n",
              "      <td>1220000.0</td>\n",
              "      <td>1.0</td>\n",
              "      <td>225.0</td>\n",
              "      <td>0.0</td>\n",
              "      <td>3067</td>\n",
              "      <td>2.0</td>\n",
              "      <td>4019</td>\n",
              "      <td>3.0</td>\n",
              "      <td>32.0</td>\n",
              "    </tr>\n",
              "    <tr>\n",
              "      <th>2</th>\n",
              "      <td>0.0</td>\n",
              "      <td>13930.0</td>\n",
              "      <td>3</td>\n",
              "      <td>0.0</td>\n",
              "      <td>1420000.0</td>\n",
              "      <td>1.0</td>\n",
              "      <td>253.0</td>\n",
              "      <td>0.0</td>\n",
              "      <td>3067</td>\n",
              "      <td>2.0</td>\n",
              "      <td>4019</td>\n",
              "      <td>3.0</td>\n",
              "      <td>32.0</td>\n",
              "    </tr>\n",
              "    <tr>\n",
              "      <th>3</th>\n",
              "      <td>1.0</td>\n",
              "      <td>13039.0</td>\n",
              "      <td>3</td>\n",
              "      <td>0.0</td>\n",
              "      <td>1515000.0</td>\n",
              "      <td>1.0</td>\n",
              "      <td>28.0</td>\n",
              "      <td>0.0</td>\n",
              "      <td>3040</td>\n",
              "      <td>6.0</td>\n",
              "      <td>1543</td>\n",
              "      <td>7.5</td>\n",
              "      <td>22.0</td>\n",
              "    </tr>\n",
              "    <tr>\n",
              "      <th>4</th>\n",
              "      <td>2.0</td>\n",
              "      <td>2776.0</td>\n",
              "      <td>2</td>\n",
              "      <td>0.0</td>\n",
              "      <td>670000.0</td>\n",
              "      <td>1.0</td>\n",
              "      <td>253.0</td>\n",
              "      <td>0.0</td>\n",
              "      <td>3042</td>\n",
              "      <td>6.0</td>\n",
              "      <td>3464</td>\n",
              "      <td>10.4</td>\n",
              "      <td>22.0</td>\n",
              "    </tr>\n",
              "    <tr>\n",
              "      <th>...</th>\n",
              "      <td>...</td>\n",
              "      <td>...</td>\n",
              "      <td>...</td>\n",
              "      <td>...</td>\n",
              "      <td>...</td>\n",
              "      <td>...</td>\n",
              "      <td>...</td>\n",
              "      <td>...</td>\n",
              "      <td>...</td>\n",
              "      <td>...</td>\n",
              "      <td>...</td>\n",
              "      <td>...</td>\n",
              "      <td>...</td>\n",
              "    </tr>\n",
              "    <tr>\n",
              "      <th>63016</th>\n",
              "      <td>147.0</td>\n",
              "      <td>10212.0</td>\n",
              "      <td>2</td>\n",
              "      <td>2.0</td>\n",
              "      <td>347700.0</td>\n",
              "      <td>3.0</td>\n",
              "      <td>14.0</td>\n",
              "      <td>88.0</td>\n",
              "      <td>3199</td>\n",
              "      <td>4.0</td>\n",
              "      <td>17055</td>\n",
              "      <td>38.0</td>\n",
              "      <td>7.0</td>\n",
              "    </tr>\n",
              "    <tr>\n",
              "      <th>63017</th>\n",
              "      <td>275.0</td>\n",
              "      <td>9254.0</td>\n",
              "      <td>3</td>\n",
              "      <td>0.0</td>\n",
              "      <td>808000.0</td>\n",
              "      <td>1.0</td>\n",
              "      <td>305.0</td>\n",
              "      <td>88.0</td>\n",
              "      <td>3072</td>\n",
              "      <td>2.0</td>\n",
              "      <td>14577</td>\n",
              "      <td>8.4</td>\n",
              "      <td>6.0</td>\n",
              "    </tr>\n",
              "    <tr>\n",
              "      <th>63018</th>\n",
              "      <td>288.0</td>\n",
              "      <td>2283.0</td>\n",
              "      <td>3</td>\n",
              "      <td>0.0</td>\n",
              "      <td>566000.0</td>\n",
              "      <td>1.0</td>\n",
              "      <td>306.0</td>\n",
              "      <td>88.0</td>\n",
              "      <td>3064</td>\n",
              "      <td>2.0</td>\n",
              "      <td>5833</td>\n",
              "      <td>20.6</td>\n",
              "      <td>11.0</td>\n",
              "    </tr>\n",
              "    <tr>\n",
              "      <th>63019</th>\n",
              "      <td>288.0</td>\n",
              "      <td>9991.0</td>\n",
              "      <td>3</td>\n",
              "      <td>0.0</td>\n",
              "      <td>500000.0</td>\n",
              "      <td>1.0</td>\n",
              "      <td>306.0</td>\n",
              "      <td>88.0</td>\n",
              "      <td>3064</td>\n",
              "      <td>2.0</td>\n",
              "      <td>5833</td>\n",
              "      <td>20.6</td>\n",
              "      <td>11.0</td>\n",
              "    </tr>\n",
              "    <tr>\n",
              "      <th>63020</th>\n",
              "      <td>288.0</td>\n",
              "      <td>10001.0</td>\n",
              "      <td>3</td>\n",
              "      <td>0.0</td>\n",
              "      <td>545000.0</td>\n",
              "      <td>1.0</td>\n",
              "      <td>306.0</td>\n",
              "      <td>88.0</td>\n",
              "      <td>3064</td>\n",
              "      <td>2.0</td>\n",
              "      <td>5833</td>\n",
              "      <td>20.6</td>\n",
              "      <td>11.0</td>\n",
              "    </tr>\n",
              "  </tbody>\n",
              "</table>\n",
              "<p>48433 rows × 13 columns</p>\n",
              "</div>\n",
              "      <button class=\"colab-df-convert\" onclick=\"convertToInteractive('df-0c9015b9-68d9-4333-bcc0-681c1cf1425c')\"\n",
              "              title=\"Convert this dataframe to an interactive table.\"\n",
              "              style=\"display:none;\">\n",
              "        \n",
              "  <svg xmlns=\"http://www.w3.org/2000/svg\" height=\"24px\"viewBox=\"0 0 24 24\"\n",
              "       width=\"24px\">\n",
              "    <path d=\"M0 0h24v24H0V0z\" fill=\"none\"/>\n",
              "    <path d=\"M18.56 5.44l.94 2.06.94-2.06 2.06-.94-2.06-.94-.94-2.06-.94 2.06-2.06.94zm-11 1L8.5 8.5l.94-2.06 2.06-.94-2.06-.94L8.5 2.5l-.94 2.06-2.06.94zm10 10l.94 2.06.94-2.06 2.06-.94-2.06-.94-.94-2.06-.94 2.06-2.06.94z\"/><path d=\"M17.41 7.96l-1.37-1.37c-.4-.4-.92-.59-1.43-.59-.52 0-1.04.2-1.43.59L10.3 9.45l-7.72 7.72c-.78.78-.78 2.05 0 2.83L4 21.41c.39.39.9.59 1.41.59.51 0 1.02-.2 1.41-.59l7.78-7.78 2.81-2.81c.8-.78.8-2.07 0-2.86zM5.41 20L4 18.59l7.72-7.72 1.47 1.35L5.41 20z\"/>\n",
              "  </svg>\n",
              "      </button>\n",
              "      \n",
              "  <style>\n",
              "    .colab-df-container {\n",
              "      display:flex;\n",
              "      flex-wrap:wrap;\n",
              "      gap: 12px;\n",
              "    }\n",
              "\n",
              "    .colab-df-convert {\n",
              "      background-color: #E8F0FE;\n",
              "      border: none;\n",
              "      border-radius: 50%;\n",
              "      cursor: pointer;\n",
              "      display: none;\n",
              "      fill: #1967D2;\n",
              "      height: 32px;\n",
              "      padding: 0 0 0 0;\n",
              "      width: 32px;\n",
              "    }\n",
              "\n",
              "    .colab-df-convert:hover {\n",
              "      background-color: #E2EBFA;\n",
              "      box-shadow: 0px 1px 2px rgba(60, 64, 67, 0.3), 0px 1px 3px 1px rgba(60, 64, 67, 0.15);\n",
              "      fill: #174EA6;\n",
              "    }\n",
              "\n",
              "    [theme=dark] .colab-df-convert {\n",
              "      background-color: #3B4455;\n",
              "      fill: #D2E3FC;\n",
              "    }\n",
              "\n",
              "    [theme=dark] .colab-df-convert:hover {\n",
              "      background-color: #434B5C;\n",
              "      box-shadow: 0px 1px 3px 1px rgba(0, 0, 0, 0.15);\n",
              "      filter: drop-shadow(0px 1px 2px rgba(0, 0, 0, 0.3));\n",
              "      fill: #FFFFFF;\n",
              "    }\n",
              "  </style>\n",
              "\n",
              "      <script>\n",
              "        const buttonEl =\n",
              "          document.querySelector('#df-0c9015b9-68d9-4333-bcc0-681c1cf1425c button.colab-df-convert');\n",
              "        buttonEl.style.display =\n",
              "          google.colab.kernel.accessAllowed ? 'block' : 'none';\n",
              "\n",
              "        async function convertToInteractive(key) {\n",
              "          const element = document.querySelector('#df-0c9015b9-68d9-4333-bcc0-681c1cf1425c');\n",
              "          const dataTable =\n",
              "            await google.colab.kernel.invokeFunction('convertToInteractive',\n",
              "                                                     [key], {});\n",
              "          if (!dataTable) return;\n",
              "\n",
              "          const docLinkHtml = 'Like what you see? Visit the ' +\n",
              "            '<a target=\"_blank\" href=https://colab.research.google.com/notebooks/data_table.ipynb>data table notebook</a>'\n",
              "            + ' to learn more about interactive tables.';\n",
              "          element.innerHTML = '';\n",
              "          dataTable['output_type'] = 'display_data';\n",
              "          await google.colab.output.renderOutput(dataTable, element);\n",
              "          const docLink = document.createElement('div');\n",
              "          docLink.innerHTML = docLinkHtml;\n",
              "          element.appendChild(docLink);\n",
              "        }\n",
              "      </script>\n",
              "    </div>\n",
              "  </div>\n",
              "  "
            ]
          },
          "metadata": {},
          "execution_count": 45
        }
      ]
    },
    {
      "cell_type": "markdown",
      "source": [
        "**Transformando as Features categóricas em numéricas - OrdinalEncoder() - Feature com mais de 2 dados diferentes.**"
      ],
      "metadata": {
        "id": "QlXofqDslPvz"
      }
    },
    {
      "cell_type": "code",
      "source": [
        "# \"Suburb\", \"Address\", \"Type\" \"Method\", \"SellerG\", \"Regionname\", \"CouncilArea\", \"Date\"\n",
        "oe =  OrdinalEncoder()\n",
        "oe.fit(df[[\"Suburb\", \"Address\", \"Type\", \"Method\", \"SellerG\", \"Regionname\", \"CouncilArea\", \"Date\"]])\n",
        "\n",
        "df[[\"Suburb\", \"Address\", \"Type\", \"Method\", \"SellerG\", \"Regionname\", \"CouncilArea\", \"Date\"]] = oe.transform(df[[\"Suburb\", \"Address\", \"Type\", \"Method\", \"SellerG\", \"Regionname\", \"CouncilArea\", \"Date\"]])"
      ],
      "metadata": {
        "id": "eP7KoB8UlPvz"
      },
      "execution_count": 44,
      "outputs": []
    },
    {
      "cell_type": "markdown",
      "source": [
        "**Vamos escalonar todas as Features, pois a amplitude entre os dados está muito grande, isso pode causar um viés no resultado final:**"
      ],
      "metadata": {
        "id": "NYzRLpVxlPvz"
      }
    },
    {
      "cell_type": "code",
      "source": [
        "ssc = StandardScaler()\n",
        "\n",
        "ssc.fit(df[['Suburb', 'Address', 'Rooms', 'Type', 'Method', 'SellerG', \"Date\", 'Postcode', 'Regionname', 'Propertycount', 'Distance', 'CouncilArea' ]])\n",
        "h= ssc.transform(df[['Suburb', 'Address', 'Rooms', 'Type', 'Method', 'SellerG', \"Date\", 'Postcode', 'Regionname', 'Propertycount', 'Distance', 'CouncilArea']])\n",
        "df[['Suburb', 'Address', 'Rooms', 'Type', 'Method', 'SellerG',\"Date\", 'Postcode', 'Regionname', 'Propertycount', 'Distance', 'CouncilArea']] = h"
      ],
      "metadata": {
        "id": "unntvMbilPv0"
      },
      "execution_count": 46,
      "outputs": []
    },
    {
      "cell_type": "code",
      "source": [
        "df"
      ],
      "metadata": {
        "colab": {
          "base_uri": "https://localhost:8080/",
          "height": 424
        },
        "id": "uHm5orqEf5Ce",
        "outputId": "82247fcc-b162-4964-ba4f-c9f5e10fb810"
      },
      "execution_count": 47,
      "outputs": [
        {
          "output_type": "execute_result",
          "data": {
            "text/plain": [
              "         Suburb   Address     Rooms      Type      Price    Method   SellerG  \\\n",
              "0     -1.743259  0.160389 -0.075861 -0.611260  1490000.0 -0.394141 -0.218651   \n",
              "1     -1.743259  1.409837 -0.075861 -0.611260  1220000.0 -0.394141  0.152343   \n",
              "2     -1.743259  1.679888 -0.075861 -0.611260  1420000.0 -0.394141  0.383185   \n",
              "3     -1.733626  1.461345 -0.075861 -0.611260  1515000.0 -0.394141 -1.471789   \n",
              "4     -1.723993 -1.055945 -1.134401 -0.611260   670000.0 -0.394141  0.383185   \n",
              "...         ...       ...       ...       ...        ...       ...       ...   \n",
              "63016 -0.327250  0.767944 -1.134401  1.901485   347700.0  1.305947 -1.587210   \n",
              "63017  0.905737  0.532967 -0.075861 -0.611260   808000.0 -0.394141  0.811890   \n",
              "63018  1.030962 -1.176868 -0.075861 -0.611260   566000.0 -0.394141  0.820134   \n",
              "63019  1.030962  0.713737 -0.075861 -0.611260   500000.0 -0.394141  0.820134   \n",
              "63020  1.030962  0.716190 -0.075861 -0.611260   545000.0 -0.394141  0.820134   \n",
              "\n",
              "           Date  Postcode  Regionname  Propertycount  Distance  CouncilArea  \n",
              "0     -1.777147 -0.447771   -0.683565      -0.795852 -1.285142     1.773861  \n",
              "1     -1.777147 -0.447771   -0.683565      -0.795852 -1.285142     1.773861  \n",
              "2     -1.777147 -0.447771   -0.683565      -0.795852 -1.285142     1.773861  \n",
              "3     -1.777147 -0.662853    1.202665      -1.351338 -0.689112     0.786622  \n",
              "4     -1.777147 -0.646921    1.202665      -0.920365 -0.305003     0.786622  \n",
              "...         ...       ...         ...            ...       ...          ...  \n",
              "63016  1.028760  0.603740    0.259550       2.128749  3.350649    -0.694237  \n",
              "63017  1.028760 -0.407941   -0.683565       1.572814 -0.569906    -0.792961  \n",
              "63018  1.028760 -0.471669   -0.683565      -0.388885  1.045999    -0.299341  \n",
              "63019  1.028760 -0.471669   -0.683565      -0.388885  1.045999    -0.299341  \n",
              "63020  1.028760 -0.471669   -0.683565      -0.388885  1.045999    -0.299341  \n",
              "\n",
              "[48433 rows x 13 columns]"
            ],
            "text/html": [
              "\n",
              "  <div id=\"df-c73939b6-e27e-4e27-9d9f-5c5446ef8d2b\">\n",
              "    <div class=\"colab-df-container\">\n",
              "      <div>\n",
              "<style scoped>\n",
              "    .dataframe tbody tr th:only-of-type {\n",
              "        vertical-align: middle;\n",
              "    }\n",
              "\n",
              "    .dataframe tbody tr th {\n",
              "        vertical-align: top;\n",
              "    }\n",
              "\n",
              "    .dataframe thead th {\n",
              "        text-align: right;\n",
              "    }\n",
              "</style>\n",
              "<table border=\"1\" class=\"dataframe\">\n",
              "  <thead>\n",
              "    <tr style=\"text-align: right;\">\n",
              "      <th></th>\n",
              "      <th>Suburb</th>\n",
              "      <th>Address</th>\n",
              "      <th>Rooms</th>\n",
              "      <th>Type</th>\n",
              "      <th>Price</th>\n",
              "      <th>Method</th>\n",
              "      <th>SellerG</th>\n",
              "      <th>Date</th>\n",
              "      <th>Postcode</th>\n",
              "      <th>Regionname</th>\n",
              "      <th>Propertycount</th>\n",
              "      <th>Distance</th>\n",
              "      <th>CouncilArea</th>\n",
              "    </tr>\n",
              "  </thead>\n",
              "  <tbody>\n",
              "    <tr>\n",
              "      <th>0</th>\n",
              "      <td>-1.743259</td>\n",
              "      <td>0.160389</td>\n",
              "      <td>-0.075861</td>\n",
              "      <td>-0.611260</td>\n",
              "      <td>1490000.0</td>\n",
              "      <td>-0.394141</td>\n",
              "      <td>-0.218651</td>\n",
              "      <td>-1.777147</td>\n",
              "      <td>-0.447771</td>\n",
              "      <td>-0.683565</td>\n",
              "      <td>-0.795852</td>\n",
              "      <td>-1.285142</td>\n",
              "      <td>1.773861</td>\n",
              "    </tr>\n",
              "    <tr>\n",
              "      <th>1</th>\n",
              "      <td>-1.743259</td>\n",
              "      <td>1.409837</td>\n",
              "      <td>-0.075861</td>\n",
              "      <td>-0.611260</td>\n",
              "      <td>1220000.0</td>\n",
              "      <td>-0.394141</td>\n",
              "      <td>0.152343</td>\n",
              "      <td>-1.777147</td>\n",
              "      <td>-0.447771</td>\n",
              "      <td>-0.683565</td>\n",
              "      <td>-0.795852</td>\n",
              "      <td>-1.285142</td>\n",
              "      <td>1.773861</td>\n",
              "    </tr>\n",
              "    <tr>\n",
              "      <th>2</th>\n",
              "      <td>-1.743259</td>\n",
              "      <td>1.679888</td>\n",
              "      <td>-0.075861</td>\n",
              "      <td>-0.611260</td>\n",
              "      <td>1420000.0</td>\n",
              "      <td>-0.394141</td>\n",
              "      <td>0.383185</td>\n",
              "      <td>-1.777147</td>\n",
              "      <td>-0.447771</td>\n",
              "      <td>-0.683565</td>\n",
              "      <td>-0.795852</td>\n",
              "      <td>-1.285142</td>\n",
              "      <td>1.773861</td>\n",
              "    </tr>\n",
              "    <tr>\n",
              "      <th>3</th>\n",
              "      <td>-1.733626</td>\n",
              "      <td>1.461345</td>\n",
              "      <td>-0.075861</td>\n",
              "      <td>-0.611260</td>\n",
              "      <td>1515000.0</td>\n",
              "      <td>-0.394141</td>\n",
              "      <td>-1.471789</td>\n",
              "      <td>-1.777147</td>\n",
              "      <td>-0.662853</td>\n",
              "      <td>1.202665</td>\n",
              "      <td>-1.351338</td>\n",
              "      <td>-0.689112</td>\n",
              "      <td>0.786622</td>\n",
              "    </tr>\n",
              "    <tr>\n",
              "      <th>4</th>\n",
              "      <td>-1.723993</td>\n",
              "      <td>-1.055945</td>\n",
              "      <td>-1.134401</td>\n",
              "      <td>-0.611260</td>\n",
              "      <td>670000.0</td>\n",
              "      <td>-0.394141</td>\n",
              "      <td>0.383185</td>\n",
              "      <td>-1.777147</td>\n",
              "      <td>-0.646921</td>\n",
              "      <td>1.202665</td>\n",
              "      <td>-0.920365</td>\n",
              "      <td>-0.305003</td>\n",
              "      <td>0.786622</td>\n",
              "    </tr>\n",
              "    <tr>\n",
              "      <th>...</th>\n",
              "      <td>...</td>\n",
              "      <td>...</td>\n",
              "      <td>...</td>\n",
              "      <td>...</td>\n",
              "      <td>...</td>\n",
              "      <td>...</td>\n",
              "      <td>...</td>\n",
              "      <td>...</td>\n",
              "      <td>...</td>\n",
              "      <td>...</td>\n",
              "      <td>...</td>\n",
              "      <td>...</td>\n",
              "      <td>...</td>\n",
              "    </tr>\n",
              "    <tr>\n",
              "      <th>63016</th>\n",
              "      <td>-0.327250</td>\n",
              "      <td>0.767944</td>\n",
              "      <td>-1.134401</td>\n",
              "      <td>1.901485</td>\n",
              "      <td>347700.0</td>\n",
              "      <td>1.305947</td>\n",
              "      <td>-1.587210</td>\n",
              "      <td>1.028760</td>\n",
              "      <td>0.603740</td>\n",
              "      <td>0.259550</td>\n",
              "      <td>2.128749</td>\n",
              "      <td>3.350649</td>\n",
              "      <td>-0.694237</td>\n",
              "    </tr>\n",
              "    <tr>\n",
              "      <th>63017</th>\n",
              "      <td>0.905737</td>\n",
              "      <td>0.532967</td>\n",
              "      <td>-0.075861</td>\n",
              "      <td>-0.611260</td>\n",
              "      <td>808000.0</td>\n",
              "      <td>-0.394141</td>\n",
              "      <td>0.811890</td>\n",
              "      <td>1.028760</td>\n",
              "      <td>-0.407941</td>\n",
              "      <td>-0.683565</td>\n",
              "      <td>1.572814</td>\n",
              "      <td>-0.569906</td>\n",
              "      <td>-0.792961</td>\n",
              "    </tr>\n",
              "    <tr>\n",
              "      <th>63018</th>\n",
              "      <td>1.030962</td>\n",
              "      <td>-1.176868</td>\n",
              "      <td>-0.075861</td>\n",
              "      <td>-0.611260</td>\n",
              "      <td>566000.0</td>\n",
              "      <td>-0.394141</td>\n",
              "      <td>0.820134</td>\n",
              "      <td>1.028760</td>\n",
              "      <td>-0.471669</td>\n",
              "      <td>-0.683565</td>\n",
              "      <td>-0.388885</td>\n",
              "      <td>1.045999</td>\n",
              "      <td>-0.299341</td>\n",
              "    </tr>\n",
              "    <tr>\n",
              "      <th>63019</th>\n",
              "      <td>1.030962</td>\n",
              "      <td>0.713737</td>\n",
              "      <td>-0.075861</td>\n",
              "      <td>-0.611260</td>\n",
              "      <td>500000.0</td>\n",
              "      <td>-0.394141</td>\n",
              "      <td>0.820134</td>\n",
              "      <td>1.028760</td>\n",
              "      <td>-0.471669</td>\n",
              "      <td>-0.683565</td>\n",
              "      <td>-0.388885</td>\n",
              "      <td>1.045999</td>\n",
              "      <td>-0.299341</td>\n",
              "    </tr>\n",
              "    <tr>\n",
              "      <th>63020</th>\n",
              "      <td>1.030962</td>\n",
              "      <td>0.716190</td>\n",
              "      <td>-0.075861</td>\n",
              "      <td>-0.611260</td>\n",
              "      <td>545000.0</td>\n",
              "      <td>-0.394141</td>\n",
              "      <td>0.820134</td>\n",
              "      <td>1.028760</td>\n",
              "      <td>-0.471669</td>\n",
              "      <td>-0.683565</td>\n",
              "      <td>-0.388885</td>\n",
              "      <td>1.045999</td>\n",
              "      <td>-0.299341</td>\n",
              "    </tr>\n",
              "  </tbody>\n",
              "</table>\n",
              "<p>48433 rows × 13 columns</p>\n",
              "</div>\n",
              "      <button class=\"colab-df-convert\" onclick=\"convertToInteractive('df-c73939b6-e27e-4e27-9d9f-5c5446ef8d2b')\"\n",
              "              title=\"Convert this dataframe to an interactive table.\"\n",
              "              style=\"display:none;\">\n",
              "        \n",
              "  <svg xmlns=\"http://www.w3.org/2000/svg\" height=\"24px\"viewBox=\"0 0 24 24\"\n",
              "       width=\"24px\">\n",
              "    <path d=\"M0 0h24v24H0V0z\" fill=\"none\"/>\n",
              "    <path d=\"M18.56 5.44l.94 2.06.94-2.06 2.06-.94-2.06-.94-.94-2.06-.94 2.06-2.06.94zm-11 1L8.5 8.5l.94-2.06 2.06-.94-2.06-.94L8.5 2.5l-.94 2.06-2.06.94zm10 10l.94 2.06.94-2.06 2.06-.94-2.06-.94-.94-2.06-.94 2.06-2.06.94z\"/><path d=\"M17.41 7.96l-1.37-1.37c-.4-.4-.92-.59-1.43-.59-.52 0-1.04.2-1.43.59L10.3 9.45l-7.72 7.72c-.78.78-.78 2.05 0 2.83L4 21.41c.39.39.9.59 1.41.59.51 0 1.02-.2 1.41-.59l7.78-7.78 2.81-2.81c.8-.78.8-2.07 0-2.86zM5.41 20L4 18.59l7.72-7.72 1.47 1.35L5.41 20z\"/>\n",
              "  </svg>\n",
              "      </button>\n",
              "      \n",
              "  <style>\n",
              "    .colab-df-container {\n",
              "      display:flex;\n",
              "      flex-wrap:wrap;\n",
              "      gap: 12px;\n",
              "    }\n",
              "\n",
              "    .colab-df-convert {\n",
              "      background-color: #E8F0FE;\n",
              "      border: none;\n",
              "      border-radius: 50%;\n",
              "      cursor: pointer;\n",
              "      display: none;\n",
              "      fill: #1967D2;\n",
              "      height: 32px;\n",
              "      padding: 0 0 0 0;\n",
              "      width: 32px;\n",
              "    }\n",
              "\n",
              "    .colab-df-convert:hover {\n",
              "      background-color: #E2EBFA;\n",
              "      box-shadow: 0px 1px 2px rgba(60, 64, 67, 0.3), 0px 1px 3px 1px rgba(60, 64, 67, 0.15);\n",
              "      fill: #174EA6;\n",
              "    }\n",
              "\n",
              "    [theme=dark] .colab-df-convert {\n",
              "      background-color: #3B4455;\n",
              "      fill: #D2E3FC;\n",
              "    }\n",
              "\n",
              "    [theme=dark] .colab-df-convert:hover {\n",
              "      background-color: #434B5C;\n",
              "      box-shadow: 0px 1px 3px 1px rgba(0, 0, 0, 0.15);\n",
              "      filter: drop-shadow(0px 1px 2px rgba(0, 0, 0, 0.3));\n",
              "      fill: #FFFFFF;\n",
              "    }\n",
              "  </style>\n",
              "\n",
              "      <script>\n",
              "        const buttonEl =\n",
              "          document.querySelector('#df-c73939b6-e27e-4e27-9d9f-5c5446ef8d2b button.colab-df-convert');\n",
              "        buttonEl.style.display =\n",
              "          google.colab.kernel.accessAllowed ? 'block' : 'none';\n",
              "\n",
              "        async function convertToInteractive(key) {\n",
              "          const element = document.querySelector('#df-c73939b6-e27e-4e27-9d9f-5c5446ef8d2b');\n",
              "          const dataTable =\n",
              "            await google.colab.kernel.invokeFunction('convertToInteractive',\n",
              "                                                     [key], {});\n",
              "          if (!dataTable) return;\n",
              "\n",
              "          const docLinkHtml = 'Like what you see? Visit the ' +\n",
              "            '<a target=\"_blank\" href=https://colab.research.google.com/notebooks/data_table.ipynb>data table notebook</a>'\n",
              "            + ' to learn more about interactive tables.';\n",
              "          element.innerHTML = '';\n",
              "          dataTable['output_type'] = 'display_data';\n",
              "          await google.colab.output.renderOutput(dataTable, element);\n",
              "          const docLink = document.createElement('div');\n",
              "          docLink.innerHTML = docLinkHtml;\n",
              "          element.appendChild(docLink);\n",
              "        }\n",
              "      </script>\n",
              "    </div>\n",
              "  </div>\n",
              "  "
            ]
          },
          "metadata": {},
          "execution_count": 47
        }
      ]
    },
    {
      "cell_type": "code",
      "source": [
        "#Separando o que é features e target:\n",
        "X = df.drop(columns=\"Price\")\n",
        "y = df[\"Price\"]"
      ],
      "metadata": {
        "id": "ZBSuqYDBlPv0"
      },
      "execution_count": 48,
      "outputs": []
    },
    {
      "cell_type": "code",
      "source": [
        "X = np.array(X)"
      ],
      "metadata": {
        "id": "RzfyV8imlPv0"
      },
      "execution_count": 49,
      "outputs": []
    },
    {
      "cell_type": "markdown",
      "source": [
        "**Com 30 e 90 amostras**"
      ],
      "metadata": {
        "id": "qlkfq5ohlPv1"
      }
    },
    {
      "cell_type": "code",
      "source": [
        "resultados_xgbr_cv_30 = []\n",
        "resultados_xgbr_cv_90 = []\n",
        "for i in range(10):\n",
        "  kfold = KFold(n_splits = 9, shuffle = True, random_state = i)\n",
        "  \n",
        "  xgbr = XGBRegressor(objective ='reg:squarederror')\n",
        "  scores = cross_val_score(xgbr , X, y, cv = kfold)\n",
        "  resultados_xgbr_cv_90.append(scores)\n",
        "  resultados_xgbr_cv_30.append(scores.mean())"
      ],
      "metadata": {
        "id": "9iqNqU9ilPv1"
      },
      "execution_count": 55,
      "outputs": []
    },
    {
      "cell_type": "code",
      "source": [
        "scores"
      ],
      "metadata": {
        "colab": {
          "base_uri": "https://localhost:8080/"
        },
        "outputId": "f3093cd0-7f16-4d69-cafd-c597e2a4647f",
        "id": "K203AuAYlPv1"
      },
      "execution_count": 56,
      "outputs": [
        {
          "output_type": "execute_result",
          "data": {
            "text/plain": [
              "array([0.69573918, 0.69854252, 0.72685067, 0.73114142, 0.71401819,\n",
              "       0.67548813, 0.70703346, 0.68521908, 0.71898755])"
            ]
          },
          "metadata": {},
          "execution_count": 56
        }
      ]
    },
    {
      "cell_type": "code",
      "source": [
        "resultados_xgbr_cv_30 = np.array(resultados_xgbr_cv_30)\n",
        "resultados_xgbr_cv_90 = np.array(np.asarray(resultados_xgbr_cv_90).reshape(-1))"
      ],
      "metadata": {
        "id": "P_g_6aB1lPv2"
      },
      "execution_count": 57,
      "outputs": []
    },
    {
      "cell_type": "markdown",
      "source": [
        "**Para 30 amostras usamos o t-student:**"
      ],
      "metadata": {
        "id": "lUqhGvjslPv2"
      }
    },
    {
      "cell_type": "code",
      "source": [
        "intervalos_xgbr_t = t.interval(0.95, len(resultados_xgbr_cv_30) - 1, \n",
        "                                    resultados_xgbr_cv_30.mean(), \n",
        "                                    stats.sem(resultados_xgbr_cv_30, ddof = 0))\n",
        "intervalos_xgbr_t"
      ],
      "metadata": {
        "colab": {
          "base_uri": "https://localhost:8080/"
        },
        "outputId": "f961842f-1694-4ba3-efa5-4cb870228b37",
        "id": "IKrjcPX9lPv2"
      },
      "execution_count": 59,
      "outputs": [
        {
          "output_type": "execute_result",
          "data": {
            "text/plain": [
              "(0.7051951545145555, 0.7059941716402834)"
            ]
          },
          "metadata": {},
          "execution_count": 59
        }
      ]
    },
    {
      "cell_type": "markdown",
      "source": [
        "**Variação do intervalo:**"
      ],
      "metadata": {
        "id": "n-hM3SlGlPv2"
      }
    },
    {
      "cell_type": "code",
      "source": [
        "abs(resultados_xgbr_cv_30.mean() - intervalos_xgbr_t[1])"
      ],
      "metadata": {
        "colab": {
          "base_uri": "https://localhost:8080/"
        },
        "outputId": "a0005cb0-f7b5-4221-9d52-d618cdbe14c9",
        "id": "eLTteWC2lPv3"
      },
      "execution_count": 60,
      "outputs": [
        {
          "output_type": "execute_result",
          "data": {
            "text/plain": [
              "0.0003995085628639705"
            ]
          },
          "metadata": {},
          "execution_count": 60
        }
      ]
    },
    {
      "cell_type": "code",
      "source": [
        "print(f\"Temos 95% de confiança de que a média de acertos do XGBoost com 30 amostras está no intervalo entre {intervalos_xgbr_t[0]*100:.2f} % e {intervalos_xgbr_t[1]*100:.2f} %\")"
      ],
      "metadata": {
        "colab": {
          "base_uri": "https://localhost:8080/"
        },
        "outputId": "93894ae4-f2dc-4a10-9a0b-7b373b2157a3",
        "id": "Yw_oxqB2lPv3"
      },
      "execution_count": 61,
      "outputs": [
        {
          "output_type": "stream",
          "name": "stdout",
          "text": [
            "Temos 95% de confiança de que a média de acertos do XGBoost com 30 amostras está no intervalo entre 70.52 % e 70.60 %\n"
          ]
        }
      ]
    },
    {
      "cell_type": "markdown",
      "source": [
        "**Média do score:**"
      ],
      "metadata": {
        "id": "RBBXJalKlPv3"
      }
    },
    {
      "cell_type": "code",
      "source": [
        "pd.DataFrame(resultados_xgbr_cv_30).mean()[0]"
      ],
      "metadata": {
        "colab": {
          "base_uri": "https://localhost:8080/"
        },
        "outputId": "da7a8d96-f8e4-4349-8df7-d0e05cc49e03",
        "id": "Ary20EI4lPv3"
      },
      "execution_count": 62,
      "outputs": [
        {
          "output_type": "execute_result",
          "data": {
            "text/plain": [
              "0.7055946630774195"
            ]
          },
          "metadata": {},
          "execution_count": 62
        }
      ]
    },
    {
      "cell_type": "markdown",
      "source": [
        "\n",
        "\n",
        "---\n",
        "\n"
      ],
      "metadata": {
        "id": "-DbFNZfAlPv3"
      }
    },
    {
      "cell_type": "markdown",
      "source": [
        "**Para 90 amostras**"
      ],
      "metadata": {
        "id": "OUZZtAPxlPv4"
      }
    },
    {
      "cell_type": "code",
      "source": [
        "intervalos_xgbr_n = norm.interval(0.95, resultados_xgbr_cv_90.mean(), \n",
        "                                       stats.sem(resultados_xgbr_cv_90))\n",
        "intervalos_xgbr_n"
      ],
      "metadata": {
        "colab": {
          "base_uri": "https://localhost:8080/"
        },
        "outputId": "70e83475-04b8-4c40-e739-84fcce1a0c36",
        "id": "Di9o-NMGlPv4"
      },
      "execution_count": 63,
      "outputs": [
        {
          "output_type": "execute_result",
          "data": {
            "text/plain": [
              "(0.7018419471296703, 0.7093473790251684)"
            ]
          },
          "metadata": {},
          "execution_count": 63
        }
      ]
    },
    {
      "cell_type": "markdown",
      "source": [
        "**Para 90 amostras ele acabou aumentando a margem de erro em relação ao de 29 amostras, o que é esperado.**"
      ],
      "metadata": {
        "id": "YJq8pi3PlPv4"
      }
    },
    {
      "cell_type": "markdown",
      "source": [
        "**Variação do intervalo:**"
      ],
      "metadata": {
        "id": "ezGtSMmPlPv4"
      }
    },
    {
      "cell_type": "code",
      "source": [
        "abs(resultados_xgbr_cv_90.mean() - intervalos_xgbr_n[1])"
      ],
      "metadata": {
        "colab": {
          "base_uri": "https://localhost:8080/"
        },
        "outputId": "ddef5202-f3e2-4b7f-b11e-53d03733349d",
        "id": "RJHTY32alPv4"
      },
      "execution_count": 64,
      "outputs": [
        {
          "output_type": "execute_result",
          "data": {
            "text/plain": [
              "0.0037527159477490635"
            ]
          },
          "metadata": {},
          "execution_count": 64
        }
      ]
    },
    {
      "cell_type": "code",
      "source": [
        "print(f\"Temos 95% de confiança de que a média de acertos do XGBoost com 90 amostras está no intervalo entre {intervalos_xgbr_n[0]*100:.2f}% e {intervalos_xgbr_n[1]*100:.2f}%\")"
      ],
      "metadata": {
        "colab": {
          "base_uri": "https://localhost:8080/"
        },
        "outputId": "98a676c8-ad74-41af-86a5-13a0694b28c1",
        "id": "p8b4lNh_lPv5"
      },
      "execution_count": 65,
      "outputs": [
        {
          "output_type": "stream",
          "name": "stdout",
          "text": [
            "Temos 95% de confiança de que a média de acertos do XGBoost com 90 amostras está no intervalo entre 70.18% e 70.93%\n"
          ]
        }
      ]
    },
    {
      "cell_type": "markdown",
      "source": [
        "**Média do score:**"
      ],
      "metadata": {
        "id": "uHHTgNdklPv4"
      }
    },
    {
      "cell_type": "code",
      "source": [
        "resultado_90 = resultados_xgbr_cv_90\n",
        "resultado_90 = (resultado_90[0] + resultado_90[1] + resultado_90[2])/3\n",
        "resultado_90"
      ],
      "metadata": {
        "colab": {
          "base_uri": "https://localhost:8080/"
        },
        "outputId": "3932bcb8-df39-44fd-dba0-783432cfe2ff",
        "id": "Z6dVnUQ0lPv5"
      },
      "execution_count": 66,
      "outputs": [
        {
          "output_type": "execute_result",
          "data": {
            "text/plain": [
              "0.7122879283364901"
            ]
          },
          "metadata": {},
          "execution_count": 66
        }
      ]
    },
    {
      "cell_type": "markdown",
      "metadata": {
        "id": "eJHNWP3kV8iS"
      },
      "source": [
        "#**INTERPRETANDO O MODELO GLOBALMENTE**"
      ]
    },
    {
      "cell_type": "markdown",
      "metadata": {
        "id": "Qp1fQ46lWPTk"
      },
      "source": [
        "**Para a interpretação só podemos considerar as features numéricas, vamos retirar as features categóricas:**"
      ]
    },
    {
      "cell_type": "markdown",
      "metadata": {
        "id": "8Af3Hpzq9URP"
      },
      "source": [
        "**SHAP**"
      ]
    },
    {
      "cell_type": "code",
      "execution_count": 67,
      "metadata": {
        "colab": {
          "base_uri": "https://localhost:8080/",
          "height": 206
        },
        "id": "Qqhx9dpN-gSF",
        "outputId": "44ab9876-1b3f-411a-cb09-020f6adbaa6e"
      },
      "outputs": [
        {
          "output_type": "execute_result",
          "data": {
            "text/plain": [
              "     Suburb   Address     Rooms     Type      Price    Method   SellerG  \\\n",
              "0 -1.743259  0.160389 -0.075861 -0.61126  1490000.0 -0.394141 -0.218651   \n",
              "1 -1.743259  1.409837 -0.075861 -0.61126  1220000.0 -0.394141  0.152343   \n",
              "2 -1.743259  1.679888 -0.075861 -0.61126  1420000.0 -0.394141  0.383185   \n",
              "3 -1.733626  1.461345 -0.075861 -0.61126  1515000.0 -0.394141 -1.471789   \n",
              "4 -1.723993 -1.055945 -1.134401 -0.61126   670000.0 -0.394141  0.383185   \n",
              "\n",
              "       Date  Postcode  Regionname  Propertycount  Distance  CouncilArea  \n",
              "0 -1.777147 -0.447771   -0.683565      -0.795852 -1.285142     1.773861  \n",
              "1 -1.777147 -0.447771   -0.683565      -0.795852 -1.285142     1.773861  \n",
              "2 -1.777147 -0.447771   -0.683565      -0.795852 -1.285142     1.773861  \n",
              "3 -1.777147 -0.662853    1.202665      -1.351338 -0.689112     0.786622  \n",
              "4 -1.777147 -0.646921    1.202665      -0.920365 -0.305003     0.786622  "
            ],
            "text/html": [
              "\n",
              "  <div id=\"df-4882fc90-9a0d-4d94-a073-2000ef35bbb4\">\n",
              "    <div class=\"colab-df-container\">\n",
              "      <div>\n",
              "<style scoped>\n",
              "    .dataframe tbody tr th:only-of-type {\n",
              "        vertical-align: middle;\n",
              "    }\n",
              "\n",
              "    .dataframe tbody tr th {\n",
              "        vertical-align: top;\n",
              "    }\n",
              "\n",
              "    .dataframe thead th {\n",
              "        text-align: right;\n",
              "    }\n",
              "</style>\n",
              "<table border=\"1\" class=\"dataframe\">\n",
              "  <thead>\n",
              "    <tr style=\"text-align: right;\">\n",
              "      <th></th>\n",
              "      <th>Suburb</th>\n",
              "      <th>Address</th>\n",
              "      <th>Rooms</th>\n",
              "      <th>Type</th>\n",
              "      <th>Price</th>\n",
              "      <th>Method</th>\n",
              "      <th>SellerG</th>\n",
              "      <th>Date</th>\n",
              "      <th>Postcode</th>\n",
              "      <th>Regionname</th>\n",
              "      <th>Propertycount</th>\n",
              "      <th>Distance</th>\n",
              "      <th>CouncilArea</th>\n",
              "    </tr>\n",
              "  </thead>\n",
              "  <tbody>\n",
              "    <tr>\n",
              "      <th>0</th>\n",
              "      <td>-1.743259</td>\n",
              "      <td>0.160389</td>\n",
              "      <td>-0.075861</td>\n",
              "      <td>-0.61126</td>\n",
              "      <td>1490000.0</td>\n",
              "      <td>-0.394141</td>\n",
              "      <td>-0.218651</td>\n",
              "      <td>-1.777147</td>\n",
              "      <td>-0.447771</td>\n",
              "      <td>-0.683565</td>\n",
              "      <td>-0.795852</td>\n",
              "      <td>-1.285142</td>\n",
              "      <td>1.773861</td>\n",
              "    </tr>\n",
              "    <tr>\n",
              "      <th>1</th>\n",
              "      <td>-1.743259</td>\n",
              "      <td>1.409837</td>\n",
              "      <td>-0.075861</td>\n",
              "      <td>-0.61126</td>\n",
              "      <td>1220000.0</td>\n",
              "      <td>-0.394141</td>\n",
              "      <td>0.152343</td>\n",
              "      <td>-1.777147</td>\n",
              "      <td>-0.447771</td>\n",
              "      <td>-0.683565</td>\n",
              "      <td>-0.795852</td>\n",
              "      <td>-1.285142</td>\n",
              "      <td>1.773861</td>\n",
              "    </tr>\n",
              "    <tr>\n",
              "      <th>2</th>\n",
              "      <td>-1.743259</td>\n",
              "      <td>1.679888</td>\n",
              "      <td>-0.075861</td>\n",
              "      <td>-0.61126</td>\n",
              "      <td>1420000.0</td>\n",
              "      <td>-0.394141</td>\n",
              "      <td>0.383185</td>\n",
              "      <td>-1.777147</td>\n",
              "      <td>-0.447771</td>\n",
              "      <td>-0.683565</td>\n",
              "      <td>-0.795852</td>\n",
              "      <td>-1.285142</td>\n",
              "      <td>1.773861</td>\n",
              "    </tr>\n",
              "    <tr>\n",
              "      <th>3</th>\n",
              "      <td>-1.733626</td>\n",
              "      <td>1.461345</td>\n",
              "      <td>-0.075861</td>\n",
              "      <td>-0.61126</td>\n",
              "      <td>1515000.0</td>\n",
              "      <td>-0.394141</td>\n",
              "      <td>-1.471789</td>\n",
              "      <td>-1.777147</td>\n",
              "      <td>-0.662853</td>\n",
              "      <td>1.202665</td>\n",
              "      <td>-1.351338</td>\n",
              "      <td>-0.689112</td>\n",
              "      <td>0.786622</td>\n",
              "    </tr>\n",
              "    <tr>\n",
              "      <th>4</th>\n",
              "      <td>-1.723993</td>\n",
              "      <td>-1.055945</td>\n",
              "      <td>-1.134401</td>\n",
              "      <td>-0.61126</td>\n",
              "      <td>670000.0</td>\n",
              "      <td>-0.394141</td>\n",
              "      <td>0.383185</td>\n",
              "      <td>-1.777147</td>\n",
              "      <td>-0.646921</td>\n",
              "      <td>1.202665</td>\n",
              "      <td>-0.920365</td>\n",
              "      <td>-0.305003</td>\n",
              "      <td>0.786622</td>\n",
              "    </tr>\n",
              "  </tbody>\n",
              "</table>\n",
              "</div>\n",
              "      <button class=\"colab-df-convert\" onclick=\"convertToInteractive('df-4882fc90-9a0d-4d94-a073-2000ef35bbb4')\"\n",
              "              title=\"Convert this dataframe to an interactive table.\"\n",
              "              style=\"display:none;\">\n",
              "        \n",
              "  <svg xmlns=\"http://www.w3.org/2000/svg\" height=\"24px\"viewBox=\"0 0 24 24\"\n",
              "       width=\"24px\">\n",
              "    <path d=\"M0 0h24v24H0V0z\" fill=\"none\"/>\n",
              "    <path d=\"M18.56 5.44l.94 2.06.94-2.06 2.06-.94-2.06-.94-.94-2.06-.94 2.06-2.06.94zm-11 1L8.5 8.5l.94-2.06 2.06-.94-2.06-.94L8.5 2.5l-.94 2.06-2.06.94zm10 10l.94 2.06.94-2.06 2.06-.94-2.06-.94-.94-2.06-.94 2.06-2.06.94z\"/><path d=\"M17.41 7.96l-1.37-1.37c-.4-.4-.92-.59-1.43-.59-.52 0-1.04.2-1.43.59L10.3 9.45l-7.72 7.72c-.78.78-.78 2.05 0 2.83L4 21.41c.39.39.9.59 1.41.59.51 0 1.02-.2 1.41-.59l7.78-7.78 2.81-2.81c.8-.78.8-2.07 0-2.86zM5.41 20L4 18.59l7.72-7.72 1.47 1.35L5.41 20z\"/>\n",
              "  </svg>\n",
              "      </button>\n",
              "      \n",
              "  <style>\n",
              "    .colab-df-container {\n",
              "      display:flex;\n",
              "      flex-wrap:wrap;\n",
              "      gap: 12px;\n",
              "    }\n",
              "\n",
              "    .colab-df-convert {\n",
              "      background-color: #E8F0FE;\n",
              "      border: none;\n",
              "      border-radius: 50%;\n",
              "      cursor: pointer;\n",
              "      display: none;\n",
              "      fill: #1967D2;\n",
              "      height: 32px;\n",
              "      padding: 0 0 0 0;\n",
              "      width: 32px;\n",
              "    }\n",
              "\n",
              "    .colab-df-convert:hover {\n",
              "      background-color: #E2EBFA;\n",
              "      box-shadow: 0px 1px 2px rgba(60, 64, 67, 0.3), 0px 1px 3px 1px rgba(60, 64, 67, 0.15);\n",
              "      fill: #174EA6;\n",
              "    }\n",
              "\n",
              "    [theme=dark] .colab-df-convert {\n",
              "      background-color: #3B4455;\n",
              "      fill: #D2E3FC;\n",
              "    }\n",
              "\n",
              "    [theme=dark] .colab-df-convert:hover {\n",
              "      background-color: #434B5C;\n",
              "      box-shadow: 0px 1px 3px 1px rgba(0, 0, 0, 0.15);\n",
              "      filter: drop-shadow(0px 1px 2px rgba(0, 0, 0, 0.3));\n",
              "      fill: #FFFFFF;\n",
              "    }\n",
              "  </style>\n",
              "\n",
              "      <script>\n",
              "        const buttonEl =\n",
              "          document.querySelector('#df-4882fc90-9a0d-4d94-a073-2000ef35bbb4 button.colab-df-convert');\n",
              "        buttonEl.style.display =\n",
              "          google.colab.kernel.accessAllowed ? 'block' : 'none';\n",
              "\n",
              "        async function convertToInteractive(key) {\n",
              "          const element = document.querySelector('#df-4882fc90-9a0d-4d94-a073-2000ef35bbb4');\n",
              "          const dataTable =\n",
              "            await google.colab.kernel.invokeFunction('convertToInteractive',\n",
              "                                                     [key], {});\n",
              "          if (!dataTable) return;\n",
              "\n",
              "          const docLinkHtml = 'Like what you see? Visit the ' +\n",
              "            '<a target=\"_blank\" href=https://colab.research.google.com/notebooks/data_table.ipynb>data table notebook</a>'\n",
              "            + ' to learn more about interactive tables.';\n",
              "          element.innerHTML = '';\n",
              "          dataTable['output_type'] = 'display_data';\n",
              "          await google.colab.output.renderOutput(dataTable, element);\n",
              "          const docLink = document.createElement('div');\n",
              "          docLink.innerHTML = docLinkHtml;\n",
              "          element.appendChild(docLink);\n",
              "        }\n",
              "      </script>\n",
              "    </div>\n",
              "  </div>\n",
              "  "
            ]
          },
          "metadata": {},
          "execution_count": 67
        }
      ],
      "source": [
        "df.head()"
      ]
    },
    {
      "cell_type": "code",
      "execution_count": 68,
      "metadata": {
        "id": "sUabPhTw9Z71"
      },
      "outputs": [],
      "source": [
        "X = df.drop(columns=[\"Price\"])\n",
        "y = df[\"Price\"]\n",
        "\n",
        "X_train, X_test, y_train, y_test = train_test_split(X, y, test_size=0.3, random_state=20)"
      ]
    },
    {
      "cell_type": "code",
      "execution_count": null,
      "metadata": {
        "id": "B8hveFOf2nnI"
      },
      "outputs": [],
      "source": [
        "!pip install shap\n",
        "import shap"
      ]
    },
    {
      "cell_type": "code",
      "execution_count": 71,
      "metadata": {
        "colab": {
          "base_uri": "https://localhost:8080/"
        },
        "id": "7tcpqH9D9MnG",
        "outputId": "79d0418d-c887-4abd-d6e3-f69eb080b04c"
      },
      "outputs": [
        {
          "output_type": "stream",
          "name": "stdout",
          "text": [
            "[22:19:04] WARNING: /workspace/src/objective/regression_obj.cu:152: reg:linear is now deprecated in favor of reg:squarederror.\n"
          ]
        }
      ],
      "source": [
        "xgbr = XGBRegressor(bjective ='reg:squarederror').fit(X_train, y_train)"
      ]
    },
    {
      "cell_type": "code",
      "execution_count": 72,
      "metadata": {
        "id": "ehtr4Q4U2oZo"
      },
      "outputs": [],
      "source": [
        "explainer = shap.TreeExplainer(xgbr)"
      ]
    },
    {
      "cell_type": "code",
      "execution_count": 73,
      "metadata": {
        "id": "W8l_bj9H9ssm"
      },
      "outputs": [],
      "source": [
        "shap_vals = explainer.shap_values(X_train)"
      ]
    },
    {
      "cell_type": "markdown",
      "metadata": {
        "id": "Nf-PPooRRHTd"
      },
      "source": [
        "**Temos abaixo as Features que mais impactaram na escolha dos valores preditivos para todos os dados:**"
      ]
    },
    {
      "cell_type": "code",
      "execution_count": 74,
      "metadata": {
        "colab": {
          "base_uri": "https://localhost:8080/",
          "height": 463
        },
        "id": "3yND9xNJ90j_",
        "outputId": "625576ab-f573-4dfd-9f9c-67023a716d3f"
      },
      "outputs": [
        {
          "output_type": "display_data",
          "data": {
            "text/plain": [
              "<Figure size 576x453.6 with 1 Axes>"
            ],
            "image/png": "[encoded data removed]"
          },
          "metadata": {
            "needs_background": "light"
          }
        }
      ],
      "source": [
        "shap.summary_plot(shap_vals, X_train, plot_type=\"bar\")"
      ]
    }
  ]
}