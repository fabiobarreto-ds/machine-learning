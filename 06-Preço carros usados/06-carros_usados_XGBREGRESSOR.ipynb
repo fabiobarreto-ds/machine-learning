{
  "nbformat": 4,
  "nbformat_minor": 0,
  "metadata": {
    "colab": {
      "name": "06_carros_usados_XGBREGRESSOR.ipynb",
      "provenance": []
    },
    "kernelspec": {
      "name": "python3",
      "display_name": "Python 3"
    },
    "language_info": {
      "name": "python"
    }
  },
  "cells": [
    {
      "cell_type": "markdown",
      "metadata": {
        "id": "OwXbVRSXjsES"
      },
      "source": [
        "#**Importando os dados:**"
      ]
    },
    {
      "cell_type": "code",
      "execution_count": 50,
      "metadata": {
        "_cell_guid": "b1076dfc-b9ad-4769-8c92-a6c4dae69d19",
        "_uuid": "8f2839f25d086af736a60e9eeb907d3b93b6e0e5",
        "execution": {
          "iopub.execute_input": "2022-07-05T01:03:50.047458Z",
          "iopub.status.busy": "2022-07-05T01:03:50.046986Z",
          "iopub.status.idle": "2022-07-05T01:03:50.055763Z",
          "shell.execute_reply": "2022-07-05T01:03:50.054032Z",
          "shell.execute_reply.started": "2022-07-05T01:03:50.047422Z"
        },
        "id": "9eS2aK0cc8ah"
      },
      "outputs": [],
      "source": [
        "import numpy as np\n",
        "import pandas as pd\n",
        "import seaborn as sns\n",
        "import matplotlib.pyplot as plt\n",
        "from xgboost import XGBRegressor\n",
        "from sklearn.pipeline import Pipeline\n",
        "from sklearn.impute import SimpleImputer\n",
        "from sklearn.model_selection import KFold\n",
        "from sklearn.compose import ColumnTransformer\n",
        "from sklearn.model_selection import train_test_split\n",
        "from sklearn.metrics import r2_score, mean_absolute_error, mean_squared_error\n",
        "from sklearn.preprocessing import StandardScaler, OneHotEncoder, OrdinalEncoder\n",
        "from sklearn.model_selection import GridSearchCV, StratifiedKFold, train_test_split\n",
        "\n",
        "# desabilita os warnings\n",
        "import warnings\n",
        "warnings.filterwarnings('ignore')\n"
      ]
    },
    {
      "cell_type": "code",
      "execution_count": 120,
      "metadata": {
        "execution": {
          "iopub.execute_input": "2022-07-04T19:00:50.351976Z",
          "iopub.status.busy": "2022-07-04T19:00:50.351543Z",
          "iopub.status.idle": "2022-07-04T19:00:50.483842Z",
          "shell.execute_reply": "2022-07-04T19:00:50.482794Z",
          "shell.execute_reply.started": "2022-07-04T19:00:50.351944Z"
        },
        "id": "VLlTKVwCc8au"
      },
      "outputs": [],
      "source": [
        "df = pd.read_csv('autos.csv', encoding = 'ISO-8859-1')"
      ]
    },
    {
      "cell_type": "code",
      "execution_count": 55,
      "metadata": {
        "colab": {
          "base_uri": "https://localhost:8080/",
          "height": 835
        },
        "execution": {
          "iopub.execute_input": "2022-07-04T23:21:40.534140Z",
          "iopub.status.busy": "2022-07-04T23:21:40.532921Z",
          "iopub.status.idle": "2022-07-04T23:21:40.593476Z",
          "shell.execute_reply": "2022-07-04T23:21:40.592247Z",
          "shell.execute_reply.started": "2022-07-04T23:21:40.534090Z"
        },
        "id": "iu3RkSRbc8az",
        "outputId": "4041920a-85ab-4b30-9ba2-ae763f647cb7"
      },
      "outputs": [
        {
          "output_type": "execute_result",
          "data": {
            "text/plain": [
              "                dateCrawled                                          name  \\\n",
              "0       2016-03-24 11:52:17                                    Golf_3_1.6   \n",
              "1       2016-03-24 10:58:45                          A5_Sportback_2.7_Tdi   \n",
              "2       2016-03-14 12:52:21                Jeep_Grand_Cherokee_\"Overland\"   \n",
              "3       2016-03-17 16:54:04                            GOLF_4_1_4__3TÜRER   \n",
              "4       2016-03-31 17:25:20                Skoda_Fabia_1.4_TDI_PD_Classic   \n",
              "...                     ...                                           ...   \n",
              "371523  2016-03-14 17:48:27                    Suche_t4___vito_ab_6_sitze   \n",
              "371524  2016-03-05 19:56:21         Smart_smart_leistungssteigerung_100ps   \n",
              "371525  2016-03-19 18:57:12            Volkswagen_Multivan_T4_TDI_7DC_UY2   \n",
              "371526  2016-03-20 19:41:08                        VW_Golf_Kombi_1_9l_TDI   \n",
              "371527  2016-03-07 19:39:19  BMW_M135i_vollausgestattet_NP_52.720____Euro   \n",
              "\n",
              "        seller offerType  price   abtest vehicleType  yearOfRegistration  \\\n",
              "0       privat   Angebot    480     test         NaN                1993   \n",
              "1       privat   Angebot  18300     test       coupe                2011   \n",
              "2       privat   Angebot   9800     test         suv                2004   \n",
              "3       privat   Angebot   1500     test  kleinwagen                2001   \n",
              "4       privat   Angebot   3600     test  kleinwagen                2008   \n",
              "...        ...       ...    ...      ...         ...                 ...   \n",
              "371523  privat   Angebot   2200     test         NaN                2005   \n",
              "371524  privat   Angebot   1199     test      cabrio                2000   \n",
              "371525  privat   Angebot   9200     test         bus                1996   \n",
              "371526  privat   Angebot   3400     test       kombi                2002   \n",
              "371527  privat   Angebot  28990  control   limousine                2013   \n",
              "\n",
              "          gearbox  powerPS        model  kilometer  monthOfRegistration  \\\n",
              "0         manuell        0         golf     150000                    0   \n",
              "1         manuell      190          NaN     125000                    5   \n",
              "2       automatik      163        grand     125000                    8   \n",
              "3         manuell       75         golf     150000                    6   \n",
              "4         manuell       69        fabia      90000                    7   \n",
              "...           ...      ...          ...        ...                  ...   \n",
              "371523        NaN        0          NaN      20000                    1   \n",
              "371524  automatik      101       fortwo     125000                    3   \n",
              "371525    manuell      102  transporter     150000                    3   \n",
              "371526    manuell      100         golf     150000                    6   \n",
              "371527    manuell      320      m_reihe      50000                    8   \n",
              "\n",
              "       fuelType           brand notRepairedDamage          dateCreated  \\\n",
              "0        benzin      volkswagen               NaN  2016-03-24 00:00:00   \n",
              "1        diesel            audi                ja  2016-03-24 00:00:00   \n",
              "2        diesel            jeep               NaN  2016-03-14 00:00:00   \n",
              "3        benzin      volkswagen              nein  2016-03-17 00:00:00   \n",
              "4        diesel           skoda              nein  2016-03-31 00:00:00   \n",
              "...         ...             ...               ...                  ...   \n",
              "371523      NaN  sonstige_autos               NaN  2016-03-14 00:00:00   \n",
              "371524   benzin           smart              nein  2016-03-05 00:00:00   \n",
              "371525   diesel      volkswagen              nein  2016-03-19 00:00:00   \n",
              "371526   diesel      volkswagen               NaN  2016-03-20 00:00:00   \n",
              "371527   benzin             bmw              nein  2016-03-07 00:00:00   \n",
              "\n",
              "        nrOfPictures  postalCode             lastSeen  \n",
              "0                  0       70435  2016-04-07 03:16:57  \n",
              "1                  0       66954  2016-04-07 01:46:50  \n",
              "2                  0       90480  2016-04-05 12:47:46  \n",
              "3                  0       91074  2016-03-17 17:40:17  \n",
              "4                  0       60437  2016-04-06 10:17:21  \n",
              "...              ...         ...                  ...  \n",
              "371523             0       39576  2016-04-06 00:46:52  \n",
              "371524             0       26135  2016-03-11 18:17:12  \n",
              "371525             0       87439  2016-04-07 07:15:26  \n",
              "371526             0       40764  2016-03-24 12:45:21  \n",
              "371527             0       73326  2016-03-22 03:17:10  \n",
              "\n",
              "[371528 rows x 20 columns]"
            ],
            "text/html": [
              "\n",
              "  <div id=\"df-2dff7e1e-e0fd-46c8-8242-e7e8e5ad5ef5\">\n",
              "    <div class=\"colab-df-container\">\n",
              "      <div>\n",
              "<style scoped>\n",
              "    .dataframe tbody tr th:only-of-type {\n",
              "        vertical-align: middle;\n",
              "    }\n",
              "\n",
              "    .dataframe tbody tr th {\n",
              "        vertical-align: top;\n",
              "    }\n",
              "\n",
              "    .dataframe thead th {\n",
              "        text-align: right;\n",
              "    }\n",
              "</style>\n",
              "<table border=\"1\" class=\"dataframe\">\n",
              "  <thead>\n",
              "    <tr style=\"text-align: right;\">\n",
              "      <th></th>\n",
              "      <th>dateCrawled</th>\n",
              "      <th>name</th>\n",
              "      <th>seller</th>\n",
              "      <th>offerType</th>\n",
              "      <th>price</th>\n",
              "      <th>abtest</th>\n",
              "      <th>vehicleType</th>\n",
              "      <th>yearOfRegistration</th>\n",
              "      <th>gearbox</th>\n",
              "      <th>powerPS</th>\n",
              "      <th>model</th>\n",
              "      <th>kilometer</th>\n",
              "      <th>monthOfRegistration</th>\n",
              "      <th>fuelType</th>\n",
              "      <th>brand</th>\n",
              "      <th>notRepairedDamage</th>\n",
              "      <th>dateCreated</th>\n",
              "      <th>nrOfPictures</th>\n",
              "      <th>postalCode</th>\n",
              "      <th>lastSeen</th>\n",
              "    </tr>\n",
              "  </thead>\n",
              "  <tbody>\n",
              "    <tr>\n",
              "      <th>0</th>\n",
              "      <td>2016-03-24 11:52:17</td>\n",
              "      <td>Golf_3_1.6</td>\n",
              "      <td>privat</td>\n",
              "      <td>Angebot</td>\n",
              "      <td>480</td>\n",
              "      <td>test</td>\n",
              "      <td>NaN</td>\n",
              "      <td>1993</td>\n",
              "      <td>manuell</td>\n",
              "      <td>0</td>\n",
              "      <td>golf</td>\n",
              "      <td>150000</td>\n",
              "      <td>0</td>\n",
              "      <td>benzin</td>\n",
              "      <td>volkswagen</td>\n",
              "      <td>NaN</td>\n",
              "      <td>2016-03-24 00:00:00</td>\n",
              "      <td>0</td>\n",
              "      <td>70435</td>\n",
              "      <td>2016-04-07 03:16:57</td>\n",
              "    </tr>\n",
              "    <tr>\n",
              "      <th>1</th>\n",
              "      <td>2016-03-24 10:58:45</td>\n",
              "      <td>A5_Sportback_2.7_Tdi</td>\n",
              "      <td>privat</td>\n",
              "      <td>Angebot</td>\n",
              "      <td>18300</td>\n",
              "      <td>test</td>\n",
              "      <td>coupe</td>\n",
              "      <td>2011</td>\n",
              "      <td>manuell</td>\n",
              "      <td>190</td>\n",
              "      <td>NaN</td>\n",
              "      <td>125000</td>\n",
              "      <td>5</td>\n",
              "      <td>diesel</td>\n",
              "      <td>audi</td>\n",
              "      <td>ja</td>\n",
              "      <td>2016-03-24 00:00:00</td>\n",
              "      <td>0</td>\n",
              "      <td>66954</td>\n",
              "      <td>2016-04-07 01:46:50</td>\n",
              "    </tr>\n",
              "    <tr>\n",
              "      <th>2</th>\n",
              "      <td>2016-03-14 12:52:21</td>\n",
              "      <td>Jeep_Grand_Cherokee_\"Overland\"</td>\n",
              "      <td>privat</td>\n",
              "      <td>Angebot</td>\n",
              "      <td>9800</td>\n",
              "      <td>test</td>\n",
              "      <td>suv</td>\n",
              "      <td>2004</td>\n",
              "      <td>automatik</td>\n",
              "      <td>163</td>\n",
              "      <td>grand</td>\n",
              "      <td>125000</td>\n",
              "      <td>8</td>\n",
              "      <td>diesel</td>\n",
              "      <td>jeep</td>\n",
              "      <td>NaN</td>\n",
              "      <td>2016-03-14 00:00:00</td>\n",
              "      <td>0</td>\n",
              "      <td>90480</td>\n",
              "      <td>2016-04-05 12:47:46</td>\n",
              "    </tr>\n",
              "    <tr>\n",
              "      <th>3</th>\n",
              "      <td>2016-03-17 16:54:04</td>\n",
              "      <td>GOLF_4_1_4__3TÜRER</td>\n",
              "      <td>privat</td>\n",
              "      <td>Angebot</td>\n",
              "      <td>1500</td>\n",
              "      <td>test</td>\n",
              "      <td>kleinwagen</td>\n",
              "      <td>2001</td>\n",
              "      <td>manuell</td>\n",
              "      <td>75</td>\n",
              "      <td>golf</td>\n",
              "      <td>150000</td>\n",
              "      <td>6</td>\n",
              "      <td>benzin</td>\n",
              "      <td>volkswagen</td>\n",
              "      <td>nein</td>\n",
              "      <td>2016-03-17 00:00:00</td>\n",
              "      <td>0</td>\n",
              "      <td>91074</td>\n",
              "      <td>2016-03-17 17:40:17</td>\n",
              "    </tr>\n",
              "    <tr>\n",
              "      <th>4</th>\n",
              "      <td>2016-03-31 17:25:20</td>\n",
              "      <td>Skoda_Fabia_1.4_TDI_PD_Classic</td>\n",
              "      <td>privat</td>\n",
              "      <td>Angebot</td>\n",
              "      <td>3600</td>\n",
              "      <td>test</td>\n",
              "      <td>kleinwagen</td>\n",
              "      <td>2008</td>\n",
              "      <td>manuell</td>\n",
              "      <td>69</td>\n",
              "      <td>fabia</td>\n",
              "      <td>90000</td>\n",
              "      <td>7</td>\n",
              "      <td>diesel</td>\n",
              "      <td>skoda</td>\n",
              "      <td>nein</td>\n",
              "      <td>2016-03-31 00:00:00</td>\n",
              "      <td>0</td>\n",
              "      <td>60437</td>\n",
              "      <td>2016-04-06 10:17:21</td>\n",
              "    </tr>\n",
              "    <tr>\n",
              "      <th>...</th>\n",
              "      <td>...</td>\n",
              "      <td>...</td>\n",
              "      <td>...</td>\n",
              "      <td>...</td>\n",
              "      <td>...</td>\n",
              "      <td>...</td>\n",
              "      <td>...</td>\n",
              "      <td>...</td>\n",
              "      <td>...</td>\n",
              "      <td>...</td>\n",
              "      <td>...</td>\n",
              "      <td>...</td>\n",
              "      <td>...</td>\n",
              "      <td>...</td>\n",
              "      <td>...</td>\n",
              "      <td>...</td>\n",
              "      <td>...</td>\n",
              "      <td>...</td>\n",
              "      <td>...</td>\n",
              "      <td>...</td>\n",
              "    </tr>\n",
              "    <tr>\n",
              "      <th>371523</th>\n",
              "      <td>2016-03-14 17:48:27</td>\n",
              "      <td>Suche_t4___vito_ab_6_sitze</td>\n",
              "      <td>privat</td>\n",
              "      <td>Angebot</td>\n",
              "      <td>2200</td>\n",
              "      <td>test</td>\n",
              "      <td>NaN</td>\n",
              "      <td>2005</td>\n",
              "      <td>NaN</td>\n",
              "      <td>0</td>\n",
              "      <td>NaN</td>\n",
              "      <td>20000</td>\n",
              "      <td>1</td>\n",
              "      <td>NaN</td>\n",
              "      <td>sonstige_autos</td>\n",
              "      <td>NaN</td>\n",
              "      <td>2016-03-14 00:00:00</td>\n",
              "      <td>0</td>\n",
              "      <td>39576</td>\n",
              "      <td>2016-04-06 00:46:52</td>\n",
              "    </tr>\n",
              "    <tr>\n",
              "      <th>371524</th>\n",
              "      <td>2016-03-05 19:56:21</td>\n",
              "      <td>Smart_smart_leistungssteigerung_100ps</td>\n",
              "      <td>privat</td>\n",
              "      <td>Angebot</td>\n",
              "      <td>1199</td>\n",
              "      <td>test</td>\n",
              "      <td>cabrio</td>\n",
              "      <td>2000</td>\n",
              "      <td>automatik</td>\n",
              "      <td>101</td>\n",
              "      <td>fortwo</td>\n",
              "      <td>125000</td>\n",
              "      <td>3</td>\n",
              "      <td>benzin</td>\n",
              "      <td>smart</td>\n",
              "      <td>nein</td>\n",
              "      <td>2016-03-05 00:00:00</td>\n",
              "      <td>0</td>\n",
              "      <td>26135</td>\n",
              "      <td>2016-03-11 18:17:12</td>\n",
              "    </tr>\n",
              "    <tr>\n",
              "      <th>371525</th>\n",
              "      <td>2016-03-19 18:57:12</td>\n",
              "      <td>Volkswagen_Multivan_T4_TDI_7DC_UY2</td>\n",
              "      <td>privat</td>\n",
              "      <td>Angebot</td>\n",
              "      <td>9200</td>\n",
              "      <td>test</td>\n",
              "      <td>bus</td>\n",
              "      <td>1996</td>\n",
              "      <td>manuell</td>\n",
              "      <td>102</td>\n",
              "      <td>transporter</td>\n",
              "      <td>150000</td>\n",
              "      <td>3</td>\n",
              "      <td>diesel</td>\n",
              "      <td>volkswagen</td>\n",
              "      <td>nein</td>\n",
              "      <td>2016-03-19 00:00:00</td>\n",
              "      <td>0</td>\n",
              "      <td>87439</td>\n",
              "      <td>2016-04-07 07:15:26</td>\n",
              "    </tr>\n",
              "    <tr>\n",
              "      <th>371526</th>\n",
              "      <td>2016-03-20 19:41:08</td>\n",
              "      <td>VW_Golf_Kombi_1_9l_TDI</td>\n",
              "      <td>privat</td>\n",
              "      <td>Angebot</td>\n",
              "      <td>3400</td>\n",
              "      <td>test</td>\n",
              "      <td>kombi</td>\n",
              "      <td>2002</td>\n",
              "      <td>manuell</td>\n",
              "      <td>100</td>\n",
              "      <td>golf</td>\n",
              "      <td>150000</td>\n",
              "      <td>6</td>\n",
              "      <td>diesel</td>\n",
              "      <td>volkswagen</td>\n",
              "      <td>NaN</td>\n",
              "      <td>2016-03-20 00:00:00</td>\n",
              "      <td>0</td>\n",
              "      <td>40764</td>\n",
              "      <td>2016-03-24 12:45:21</td>\n",
              "    </tr>\n",
              "    <tr>\n",
              "      <th>371527</th>\n",
              "      <td>2016-03-07 19:39:19</td>\n",
              "      <td>BMW_M135i_vollausgestattet_NP_52.720____Euro</td>\n",
              "      <td>privat</td>\n",
              "      <td>Angebot</td>\n",
              "      <td>28990</td>\n",
              "      <td>control</td>\n",
              "      <td>limousine</td>\n",
              "      <td>2013</td>\n",
              "      <td>manuell</td>\n",
              "      <td>320</td>\n",
              "      <td>m_reihe</td>\n",
              "      <td>50000</td>\n",
              "      <td>8</td>\n",
              "      <td>benzin</td>\n",
              "      <td>bmw</td>\n",
              "      <td>nein</td>\n",
              "      <td>2016-03-07 00:00:00</td>\n",
              "      <td>0</td>\n",
              "      <td>73326</td>\n",
              "      <td>2016-03-22 03:17:10</td>\n",
              "    </tr>\n",
              "  </tbody>\n",
              "</table>\n",
              "<p>371528 rows × 20 columns</p>\n",
              "</div>\n",
              "      <button class=\"colab-df-convert\" onclick=\"convertToInteractive('df-2dff7e1e-e0fd-46c8-8242-e7e8e5ad5ef5')\"\n",
              "              title=\"Convert this dataframe to an interactive table.\"\n",
              "              style=\"display:none;\">\n",
              "        \n",
              "  <svg xmlns=\"http://www.w3.org/2000/svg\" height=\"24px\"viewBox=\"0 0 24 24\"\n",
              "       width=\"24px\">\n",
              "    <path d=\"M0 0h24v24H0V0z\" fill=\"none\"/>\n",
              "    <path d=\"M18.56 5.44l.94 2.06.94-2.06 2.06-.94-2.06-.94-.94-2.06-.94 2.06-2.06.94zm-11 1L8.5 8.5l.94-2.06 2.06-.94-2.06-.94L8.5 2.5l-.94 2.06-2.06.94zm10 10l.94 2.06.94-2.06 2.06-.94-2.06-.94-.94-2.06-.94 2.06-2.06.94z\"/><path d=\"M17.41 7.96l-1.37-1.37c-.4-.4-.92-.59-1.43-.59-.52 0-1.04.2-1.43.59L10.3 9.45l-7.72 7.72c-.78.78-.78 2.05 0 2.83L4 21.41c.39.39.9.59 1.41.59.51 0 1.02-.2 1.41-.59l7.78-7.78 2.81-2.81c.8-.78.8-2.07 0-2.86zM5.41 20L4 18.59l7.72-7.72 1.47 1.35L5.41 20z\"/>\n",
              "  </svg>\n",
              "      </button>\n",
              "      \n",
              "  <style>\n",
              "    .colab-df-container {\n",
              "      display:flex;\n",
              "      flex-wrap:wrap;\n",
              "      gap: 12px;\n",
              "    }\n",
              "\n",
              "    .colab-df-convert {\n",
              "      background-color: #E8F0FE;\n",
              "      border: none;\n",
              "      border-radius: 50%;\n",
              "      cursor: pointer;\n",
              "      display: none;\n",
              "      fill: #1967D2;\n",
              "      height: 32px;\n",
              "      padding: 0 0 0 0;\n",
              "      width: 32px;\n",
              "    }\n",
              "\n",
              "    .colab-df-convert:hover {\n",
              "      background-color: #E2EBFA;\n",
              "      box-shadow: 0px 1px 2px rgba(60, 64, 67, 0.3), 0px 1px 3px 1px rgba(60, 64, 67, 0.15);\n",
              "      fill: #174EA6;\n",
              "    }\n",
              "\n",
              "    [theme=dark] .colab-df-convert {\n",
              "      background-color: #3B4455;\n",
              "      fill: #D2E3FC;\n",
              "    }\n",
              "\n",
              "    [theme=dark] .colab-df-convert:hover {\n",
              "      background-color: #434B5C;\n",
              "      box-shadow: 0px 1px 3px 1px rgba(0, 0, 0, 0.15);\n",
              "      filter: drop-shadow(0px 1px 2px rgba(0, 0, 0, 0.3));\n",
              "      fill: #FFFFFF;\n",
              "    }\n",
              "  </style>\n",
              "\n",
              "      <script>\n",
              "        const buttonEl =\n",
              "          document.querySelector('#df-2dff7e1e-e0fd-46c8-8242-e7e8e5ad5ef5 button.colab-df-convert');\n",
              "        buttonEl.style.display =\n",
              "          google.colab.kernel.accessAllowed ? 'block' : 'none';\n",
              "\n",
              "        async function convertToInteractive(key) {\n",
              "          const element = document.querySelector('#df-2dff7e1e-e0fd-46c8-8242-e7e8e5ad5ef5');\n",
              "          const dataTable =\n",
              "            await google.colab.kernel.invokeFunction('convertToInteractive',\n",
              "                                                     [key], {});\n",
              "          if (!dataTable) return;\n",
              "\n",
              "          const docLinkHtml = 'Like what you see? Visit the ' +\n",
              "            '<a target=\"_blank\" href=https://colab.research.google.com/notebooks/data_table.ipynb>data table notebook</a>'\n",
              "            + ' to learn more about interactive tables.';\n",
              "          element.innerHTML = '';\n",
              "          dataTable['output_type'] = 'display_data';\n",
              "          await google.colab.output.renderOutput(dataTable, element);\n",
              "          const docLink = document.createElement('div');\n",
              "          docLink.innerHTML = docLinkHtml;\n",
              "          element.appendChild(docLink);\n",
              "        }\n",
              "      </script>\n",
              "    </div>\n",
              "  </div>\n",
              "  "
            ]
          },
          "metadata": {},
          "execution_count": 55
        }
      ],
      "source": [
        "df"
      ]
    },
    {
      "cell_type": "code",
      "execution_count": 56,
      "metadata": {
        "colab": {
          "base_uri": "https://localhost:8080/"
        },
        "id": "u1dAvUVcfRUf",
        "outputId": "fd303bfa-8020-42b7-d13a-78adad519cad"
      },
      "outputs": [
        {
          "output_type": "stream",
          "name": "stdout",
          "text": [
            "<class 'pandas.core.frame.DataFrame'>\n",
            "RangeIndex: 371528 entries, 0 to 371527\n",
            "Data columns (total 20 columns):\n",
            " #   Column               Non-Null Count   Dtype \n",
            "---  ------               --------------   ----- \n",
            " 0   dateCrawled          371528 non-null  object\n",
            " 1   name                 371528 non-null  object\n",
            " 2   seller               371528 non-null  object\n",
            " 3   offerType            371528 non-null  object\n",
            " 4   price                371528 non-null  int64 \n",
            " 5   abtest               371528 non-null  object\n",
            " 6   vehicleType          333659 non-null  object\n",
            " 7   yearOfRegistration   371528 non-null  int64 \n",
            " 8   gearbox              351319 non-null  object\n",
            " 9   powerPS              371528 non-null  int64 \n",
            " 10  model                351044 non-null  object\n",
            " 11  kilometer            371528 non-null  int64 \n",
            " 12  monthOfRegistration  371528 non-null  int64 \n",
            " 13  fuelType             338142 non-null  object\n",
            " 14  brand                371528 non-null  object\n",
            " 15  notRepairedDamage    299468 non-null  object\n",
            " 16  dateCreated          371528 non-null  object\n",
            " 17  nrOfPictures         371528 non-null  int64 \n",
            " 18  postalCode           371528 non-null  int64 \n",
            " 19  lastSeen             371528 non-null  object\n",
            "dtypes: int64(7), object(13)\n",
            "memory usage: 56.7+ MB\n"
          ]
        }
      ],
      "source": [
        "df.info()"
      ]
    },
    {
      "cell_type": "markdown",
      "source": [
        "**Retirei algumas outliers, pois alguns dados estão desconexos, exemplo, veículos de 11 milhões de Euros, 99 milhões de Euros, preço abaixo dos 10 Euros, etc.**"
      ],
      "metadata": {
        "id": "TbRXVfY-CQGK"
      }
    },
    {
      "cell_type": "code",
      "execution_count": 121,
      "metadata": {
        "id": "RA1EqT1XuAYA"
      },
      "outputs": [],
      "source": [
        "df = df[df[\"price\"] > 10]\n",
        "df = df[df[\"price\"]< 30000]"
      ]
    },
    {
      "cell_type": "code",
      "execution_count": 122,
      "metadata": {
        "id": "daFpjDYg66HF"
      },
      "outputs": [],
      "source": [
        "df = df.sample(10000)"
      ]
    },
    {
      "cell_type": "markdown",
      "metadata": {
        "id": "UqUIogveKMSh"
      },
      "source": [
        "**Vamos retirar algumas Features, algumas delas contém 2 tipos de amostras, sendo que um dos tipos só tem 3 amostra, não será válido, por exemplo, a \"seller\" é dividida em privada e comercial, só existe 3 amostras como comercial. e 371.525 privadas.**"
      ]
    },
    {
      "cell_type": "code",
      "execution_count": 123,
      "metadata": {
        "id": "kk1FEwyvKqv7"
      },
      "outputs": [],
      "source": [
        "df.drop(columns=[\"name\", \"seller\", \"offerType\", \"nrOfPictures\", \"dateCreated\", \"postalCode\"], inplace=True)"
      ]
    },
    {
      "cell_type": "code",
      "execution_count": 124,
      "metadata": {
        "colab": {
          "base_uri": "https://localhost:8080/",
          "height": 424
        },
        "id": "H5EC9tSu_cf5",
        "outputId": "5fb537e4-634b-462b-b40a-34853aa176fc"
      },
      "outputs": [
        {
          "output_type": "execute_result",
          "data": {
            "text/plain": [
              "                dateCrawled  price   abtest vehicleType  yearOfRegistration  \\\n",
              "334824  2016-03-26 17:51:14   2290  control  kleinwagen                2007   \n",
              "10135   2016-03-20 11:48:28   4790     test  kleinwagen                2004   \n",
              "53115   2016-04-02 13:40:51   1450     test       kombi                1999   \n",
              "141371  2016-03-05 16:50:26   5750  control         NaN                2017   \n",
              "74316   2016-03-28 21:53:07   3000  control  kleinwagen                2008   \n",
              "...                     ...    ...      ...         ...                 ...   \n",
              "91802   2016-03-30 22:37:39   1950  control         NaN                2016   \n",
              "190564  2016-03-22 14:45:30    250  control   limousine                1997   \n",
              "279369  2016-03-16 07:51:36   1600     test  kleinwagen                2002   \n",
              "21441   2016-03-11 14:38:55   2500  control         bus                2005   \n",
              "41322   2016-03-07 16:45:01   1190  control  kleinwagen                2001   \n",
              "\n",
              "          gearbox  powerPS   model  kilometer  monthOfRegistration fuelType  \\\n",
              "334824    manuell       54     fox     150000                    4   benzin   \n",
              "10135     manuell      116  cooper     150000                    8   benzin   \n",
              "53115   automatik        0  galant     150000                    4   benzin   \n",
              "141371    manuell      105    golf     150000                    2   diesel   \n",
              "74316   automatik        0    clio     100000                    0   benzin   \n",
              "...           ...      ...     ...        ...                  ...      ...   \n",
              "91802     manuell        0    polo     150000                    1   benzin   \n",
              "190564  automatik        0  vectra     150000                    0      NaN   \n",
              "279369    manuell       65   corsa     150000                    6   diesel   \n",
              "21441     manuell      114  andere     150000                    5   diesel   \n",
              "41322     manuell       58   corsa     150000                   11   benzin   \n",
              "\n",
              "             brand notRepairedDamage             lastSeen  \n",
              "334824  volkswagen              nein  2016-04-06 06:46:06  \n",
              "10135         mini              nein  2016-04-06 10:15:31  \n",
              "53115   mitsubishi               NaN  2016-04-06 11:45:01  \n",
              "141371  volkswagen              nein  2016-03-09 18:46:58  \n",
              "74316      renault                ja  2016-03-28 21:53:07  \n",
              "...            ...               ...                  ...  \n",
              "91802   volkswagen               NaN  2016-04-05 15:46:33  \n",
              "190564        opel                ja  2016-03-22 14:45:30  \n",
              "279369        opel              nein  2016-04-07 08:15:49  \n",
              "21441         opel              nein  2016-03-11 14:38:55  \n",
              "41322         opel              nein  2016-03-20 02:45:39  \n",
              "\n",
              "[10000 rows x 14 columns]"
            ],
            "text/html": [
              "\n",
              "  <div id=\"df-966847dd-226b-4aaa-a3fc-8a908babcab6\">\n",
              "    <div class=\"colab-df-container\">\n",
              "      <div>\n",
              "<style scoped>\n",
              "    .dataframe tbody tr th:only-of-type {\n",
              "        vertical-align: middle;\n",
              "    }\n",
              "\n",
              "    .dataframe tbody tr th {\n",
              "        vertical-align: top;\n",
              "    }\n",
              "\n",
              "    .dataframe thead th {\n",
              "        text-align: right;\n",
              "    }\n",
              "</style>\n",
              "<table border=\"1\" class=\"dataframe\">\n",
              "  <thead>\n",
              "    <tr style=\"text-align: right;\">\n",
              "      <th></th>\n",
              "      <th>dateCrawled</th>\n",
              "      <th>price</th>\n",
              "      <th>abtest</th>\n",
              "      <th>vehicleType</th>\n",
              "      <th>yearOfRegistration</th>\n",
              "      <th>gearbox</th>\n",
              "      <th>powerPS</th>\n",
              "      <th>model</th>\n",
              "      <th>kilometer</th>\n",
              "      <th>monthOfRegistration</th>\n",
              "      <th>fuelType</th>\n",
              "      <th>brand</th>\n",
              "      <th>notRepairedDamage</th>\n",
              "      <th>lastSeen</th>\n",
              "    </tr>\n",
              "  </thead>\n",
              "  <tbody>\n",
              "    <tr>\n",
              "      <th>334824</th>\n",
              "      <td>2016-03-26 17:51:14</td>\n",
              "      <td>2290</td>\n",
              "      <td>control</td>\n",
              "      <td>kleinwagen</td>\n",
              "      <td>2007</td>\n",
              "      <td>manuell</td>\n",
              "      <td>54</td>\n",
              "      <td>fox</td>\n",
              "      <td>150000</td>\n",
              "      <td>4</td>\n",
              "      <td>benzin</td>\n",
              "      <td>volkswagen</td>\n",
              "      <td>nein</td>\n",
              "      <td>2016-04-06 06:46:06</td>\n",
              "    </tr>\n",
              "    <tr>\n",
              "      <th>10135</th>\n",
              "      <td>2016-03-20 11:48:28</td>\n",
              "      <td>4790</td>\n",
              "      <td>test</td>\n",
              "      <td>kleinwagen</td>\n",
              "      <td>2004</td>\n",
              "      <td>manuell</td>\n",
              "      <td>116</td>\n",
              "      <td>cooper</td>\n",
              "      <td>150000</td>\n",
              "      <td>8</td>\n",
              "      <td>benzin</td>\n",
              "      <td>mini</td>\n",
              "      <td>nein</td>\n",
              "      <td>2016-04-06 10:15:31</td>\n",
              "    </tr>\n",
              "    <tr>\n",
              "      <th>53115</th>\n",
              "      <td>2016-04-02 13:40:51</td>\n",
              "      <td>1450</td>\n",
              "      <td>test</td>\n",
              "      <td>kombi</td>\n",
              "      <td>1999</td>\n",
              "      <td>automatik</td>\n",
              "      <td>0</td>\n",
              "      <td>galant</td>\n",
              "      <td>150000</td>\n",
              "      <td>4</td>\n",
              "      <td>benzin</td>\n",
              "      <td>mitsubishi</td>\n",
              "      <td>NaN</td>\n",
              "      <td>2016-04-06 11:45:01</td>\n",
              "    </tr>\n",
              "    <tr>\n",
              "      <th>141371</th>\n",
              "      <td>2016-03-05 16:50:26</td>\n",
              "      <td>5750</td>\n",
              "      <td>control</td>\n",
              "      <td>NaN</td>\n",
              "      <td>2017</td>\n",
              "      <td>manuell</td>\n",
              "      <td>105</td>\n",
              "      <td>golf</td>\n",
              "      <td>150000</td>\n",
              "      <td>2</td>\n",
              "      <td>diesel</td>\n",
              "      <td>volkswagen</td>\n",
              "      <td>nein</td>\n",
              "      <td>2016-03-09 18:46:58</td>\n",
              "    </tr>\n",
              "    <tr>\n",
              "      <th>74316</th>\n",
              "      <td>2016-03-28 21:53:07</td>\n",
              "      <td>3000</td>\n",
              "      <td>control</td>\n",
              "      <td>kleinwagen</td>\n",
              "      <td>2008</td>\n",
              "      <td>automatik</td>\n",
              "      <td>0</td>\n",
              "      <td>clio</td>\n",
              "      <td>100000</td>\n",
              "      <td>0</td>\n",
              "      <td>benzin</td>\n",
              "      <td>renault</td>\n",
              "      <td>ja</td>\n",
              "      <td>2016-03-28 21:53:07</td>\n",
              "    </tr>\n",
              "    <tr>\n",
              "      <th>...</th>\n",
              "      <td>...</td>\n",
              "      <td>...</td>\n",
              "      <td>...</td>\n",
              "      <td>...</td>\n",
              "      <td>...</td>\n",
              "      <td>...</td>\n",
              "      <td>...</td>\n",
              "      <td>...</td>\n",
              "      <td>...</td>\n",
              "      <td>...</td>\n",
              "      <td>...</td>\n",
              "      <td>...</td>\n",
              "      <td>...</td>\n",
              "      <td>...</td>\n",
              "    </tr>\n",
              "    <tr>\n",
              "      <th>91802</th>\n",
              "      <td>2016-03-30 22:37:39</td>\n",
              "      <td>1950</td>\n",
              "      <td>control</td>\n",
              "      <td>NaN</td>\n",
              "      <td>2016</td>\n",
              "      <td>manuell</td>\n",
              "      <td>0</td>\n",
              "      <td>polo</td>\n",
              "      <td>150000</td>\n",
              "      <td>1</td>\n",
              "      <td>benzin</td>\n",
              "      <td>volkswagen</td>\n",
              "      <td>NaN</td>\n",
              "      <td>2016-04-05 15:46:33</td>\n",
              "    </tr>\n",
              "    <tr>\n",
              "      <th>190564</th>\n",
              "      <td>2016-03-22 14:45:30</td>\n",
              "      <td>250</td>\n",
              "      <td>control</td>\n",
              "      <td>limousine</td>\n",
              "      <td>1997</td>\n",
              "      <td>automatik</td>\n",
              "      <td>0</td>\n",
              "      <td>vectra</td>\n",
              "      <td>150000</td>\n",
              "      <td>0</td>\n",
              "      <td>NaN</td>\n",
              "      <td>opel</td>\n",
              "      <td>ja</td>\n",
              "      <td>2016-03-22 14:45:30</td>\n",
              "    </tr>\n",
              "    <tr>\n",
              "      <th>279369</th>\n",
              "      <td>2016-03-16 07:51:36</td>\n",
              "      <td>1600</td>\n",
              "      <td>test</td>\n",
              "      <td>kleinwagen</td>\n",
              "      <td>2002</td>\n",
              "      <td>manuell</td>\n",
              "      <td>65</td>\n",
              "      <td>corsa</td>\n",
              "      <td>150000</td>\n",
              "      <td>6</td>\n",
              "      <td>diesel</td>\n",
              "      <td>opel</td>\n",
              "      <td>nein</td>\n",
              "      <td>2016-04-07 08:15:49</td>\n",
              "    </tr>\n",
              "    <tr>\n",
              "      <th>21441</th>\n",
              "      <td>2016-03-11 14:38:55</td>\n",
              "      <td>2500</td>\n",
              "      <td>control</td>\n",
              "      <td>bus</td>\n",
              "      <td>2005</td>\n",
              "      <td>manuell</td>\n",
              "      <td>114</td>\n",
              "      <td>andere</td>\n",
              "      <td>150000</td>\n",
              "      <td>5</td>\n",
              "      <td>diesel</td>\n",
              "      <td>opel</td>\n",
              "      <td>nein</td>\n",
              "      <td>2016-03-11 14:38:55</td>\n",
              "    </tr>\n",
              "    <tr>\n",
              "      <th>41322</th>\n",
              "      <td>2016-03-07 16:45:01</td>\n",
              "      <td>1190</td>\n",
              "      <td>control</td>\n",
              "      <td>kleinwagen</td>\n",
              "      <td>2001</td>\n",
              "      <td>manuell</td>\n",
              "      <td>58</td>\n",
              "      <td>corsa</td>\n",
              "      <td>150000</td>\n",
              "      <td>11</td>\n",
              "      <td>benzin</td>\n",
              "      <td>opel</td>\n",
              "      <td>nein</td>\n",
              "      <td>2016-03-20 02:45:39</td>\n",
              "    </tr>\n",
              "  </tbody>\n",
              "</table>\n",
              "<p>10000 rows × 14 columns</p>\n",
              "</div>\n",
              "      <button class=\"colab-df-convert\" onclick=\"convertToInteractive('df-966847dd-226b-4aaa-a3fc-8a908babcab6')\"\n",
              "              title=\"Convert this dataframe to an interactive table.\"\n",
              "              style=\"display:none;\">\n",
              "        \n",
              "  <svg xmlns=\"http://www.w3.org/2000/svg\" height=\"24px\"viewBox=\"0 0 24 24\"\n",
              "       width=\"24px\">\n",
              "    <path d=\"M0 0h24v24H0V0z\" fill=\"none\"/>\n",
              "    <path d=\"M18.56 5.44l.94 2.06.94-2.06 2.06-.94-2.06-.94-.94-2.06-.94 2.06-2.06.94zm-11 1L8.5 8.5l.94-2.06 2.06-.94-2.06-.94L8.5 2.5l-.94 2.06-2.06.94zm10 10l.94 2.06.94-2.06 2.06-.94-2.06-.94-.94-2.06-.94 2.06-2.06.94z\"/><path d=\"M17.41 7.96l-1.37-1.37c-.4-.4-.92-.59-1.43-.59-.52 0-1.04.2-1.43.59L10.3 9.45l-7.72 7.72c-.78.78-.78 2.05 0 2.83L4 21.41c.39.39.9.59 1.41.59.51 0 1.02-.2 1.41-.59l7.78-7.78 2.81-2.81c.8-.78.8-2.07 0-2.86zM5.41 20L4 18.59l7.72-7.72 1.47 1.35L5.41 20z\"/>\n",
              "  </svg>\n",
              "      </button>\n",
              "      \n",
              "  <style>\n",
              "    .colab-df-container {\n",
              "      display:flex;\n",
              "      flex-wrap:wrap;\n",
              "      gap: 12px;\n",
              "    }\n",
              "\n",
              "    .colab-df-convert {\n",
              "      background-color: #E8F0FE;\n",
              "      border: none;\n",
              "      border-radius: 50%;\n",
              "      cursor: pointer;\n",
              "      display: none;\n",
              "      fill: #1967D2;\n",
              "      height: 32px;\n",
              "      padding: 0 0 0 0;\n",
              "      width: 32px;\n",
              "    }\n",
              "\n",
              "    .colab-df-convert:hover {\n",
              "      background-color: #E2EBFA;\n",
              "      box-shadow: 0px 1px 2px rgba(60, 64, 67, 0.3), 0px 1px 3px 1px rgba(60, 64, 67, 0.15);\n",
              "      fill: #174EA6;\n",
              "    }\n",
              "\n",
              "    [theme=dark] .colab-df-convert {\n",
              "      background-color: #3B4455;\n",
              "      fill: #D2E3FC;\n",
              "    }\n",
              "\n",
              "    [theme=dark] .colab-df-convert:hover {\n",
              "      background-color: #434B5C;\n",
              "      box-shadow: 0px 1px 3px 1px rgba(0, 0, 0, 0.15);\n",
              "      filter: drop-shadow(0px 1px 2px rgba(0, 0, 0, 0.3));\n",
              "      fill: #FFFFFF;\n",
              "    }\n",
              "  </style>\n",
              "\n",
              "      <script>\n",
              "        const buttonEl =\n",
              "          document.querySelector('#df-966847dd-226b-4aaa-a3fc-8a908babcab6 button.colab-df-convert');\n",
              "        buttonEl.style.display =\n",
              "          google.colab.kernel.accessAllowed ? 'block' : 'none';\n",
              "\n",
              "        async function convertToInteractive(key) {\n",
              "          const element = document.querySelector('#df-966847dd-226b-4aaa-a3fc-8a908babcab6');\n",
              "          const dataTable =\n",
              "            await google.colab.kernel.invokeFunction('convertToInteractive',\n",
              "                                                     [key], {});\n",
              "          if (!dataTable) return;\n",
              "\n",
              "          const docLinkHtml = 'Like what you see? Visit the ' +\n",
              "            '<a target=\"_blank\" href=https://colab.research.google.com/notebooks/data_table.ipynb>data table notebook</a>'\n",
              "            + ' to learn more about interactive tables.';\n",
              "          element.innerHTML = '';\n",
              "          dataTable['output_type'] = 'display_data';\n",
              "          await google.colab.output.renderOutput(dataTable, element);\n",
              "          const docLink = document.createElement('div');\n",
              "          docLink.innerHTML = docLinkHtml;\n",
              "          element.appendChild(docLink);\n",
              "        }\n",
              "      </script>\n",
              "    </div>\n",
              "  </div>\n",
              "  "
            ]
          },
          "metadata": {},
          "execution_count": 124
        }
      ],
      "source": [
        "df"
      ]
    },
    {
      "cell_type": "code",
      "source": [
        "df.isna().sum()"
      ],
      "metadata": {
        "colab": {
          "base_uri": "https://localhost:8080/"
        },
        "id": "w-cFwzJLd7n6",
        "outputId": "473c8941-7601-4836-8a5d-0672b73a353b"
      },
      "execution_count": 152,
      "outputs": [
        {
          "output_type": "execute_result",
          "data": {
            "text/plain": [
              "dateCrawled               0\n",
              "price                     0\n",
              "abtest                    0\n",
              "vehicleType             911\n",
              "yearOfRegistration        0\n",
              "gearbox                 494\n",
              "powerPS                   0\n",
              "model                   494\n",
              "kilometer                 0\n",
              "monthOfRegistration       0\n",
              "fuelType                823\n",
              "brand                     0\n",
              "notRepairedDamage      1847\n",
              "lastSeen                  0\n",
              "dtype: int64"
            ]
          },
          "metadata": {},
          "execution_count": 152
        }
      ]
    },
    {
      "cell_type": "markdown",
      "metadata": {
        "id": "YYgVyk65c8bH"
      },
      "source": [
        "#**XGBOOST**"
      ]
    },
    {
      "cell_type": "code",
      "execution_count": 125,
      "metadata": {
        "colab": {
          "base_uri": "https://localhost:8080/"
        },
        "execution": {
          "iopub.execute_input": "2022-07-05T00:58:39.306002Z",
          "iopub.status.busy": "2022-07-05T00:58:39.305542Z",
          "iopub.status.idle": "2022-07-05T01:02:18.329714Z",
          "shell.execute_reply": "2022-07-05T01:02:18.328430Z",
          "shell.execute_reply.started": "2022-07-05T00:58:39.305970Z"
        },
        "id": "e-eFLMGWc8bI",
        "outputId": "e9505ab9-3cd5-498a-d0e2-4873353df8e5"
      },
      "outputs": [
        {
          "output_type": "stream",
          "name": "stdout",
          "text": [
            "Fitting 5 folds for each of 1 candidates, totalling 5 fits\n",
            "[20:45:33] WARNING: /workspace/src/objective/regression_obj.cu:152: reg:linear is now deprecated in favor of reg:squarederror.\n"
          ]
        },
        {
          "output_type": "execute_result",
          "data": {
            "text/plain": [
              "GridSearchCV(cv=KFold(n_splits=5, random_state=42, shuffle=True),\n",
              "             estimator=Pipeline(steps=[('pre_processador',\n",
              "                                        ColumnTransformer(transformers=[('transf_num',\n",
              "                                                                         Pipeline(steps=[('input_num',\n",
              "                                                                                          SimpleImputer()),\n",
              "                                                                                         ('std',\n",
              "                                                                                          StandardScaler())]),\n",
              "                                                                         ['yearOfRegistration',\n",
              "                                                                          'powerPS',\n",
              "                                                                          'kilometer',\n",
              "                                                                          'monthOfRegistration']),\n",
              "                                                                        ('transf_cat_oe',\n",
              "                                                                         Pipeline(steps=[('input_cat_oe',\n",
              "                                                                                          Simple...\n",
              "                                                                                                        strategy='constant')),\n",
              "                                                                                         ('OneHot',\n",
              "                                                                                          OneHotEncoder(handle_unknown='ignore'))]),\n",
              "                                                                         ['abtest',\n",
              "                                                                          'gearbox',\n",
              "                                                                          'notRepairedDamage'])])),\n",
              "                                       ('xgbr',\n",
              "                                        XGBRegressor(eval_metric='logloss',\n",
              "                                                     random_state=42))]),\n",
              "             n_jobs=-1,\n",
              "             param_grid={'xgbr__colsample_bytree': [0.5],\n",
              "                         'xgbr__learning_rate': [0.001],\n",
              "                         'xgbr__max_depth': [10], 'xgbr__n_estimators': [10000],\n",
              "                         'xgbr__subsample': [0.5]},\n",
              "             scoring='r2', verbose=10)"
            ]
          },
          "metadata": {},
          "execution_count": 125
        }
      ],
      "source": [
        "#Separando o que é features e target:\n",
        "X = df.drop(columns=\"price\")\n",
        "y = df[\"price\"]\n",
        "\n",
        "# Dividindo em dados de teste e dados de treino, peguei 20% para dados de teste:\n",
        "X_train, X_test, y_train, y_test = train_test_split(X, y, test_size=0.2, random_state=13)\n",
        "\n",
        "# Iniciando a construção da Pipeline:\n",
        "# ==========================================================\n",
        "#Primeiro vamos tratar as features numéricas. Tratando os valores nulos (NaN) e escalonando já que a variância entre as features é grande.\n",
        "pipe_features_num = Pipeline([(\"input_num\", SimpleImputer(strategy=\"mean\")),\n",
        "                              (\"std\", StandardScaler())])\n",
        "\n",
        "features_num = X_train.select_dtypes(include=np.number).columns.tolist()\n",
        "# ==========================================================\n",
        "# Tratando as features categóricas. Os valores nulos (NaN) serão preenchidos pelos dados mais constantes e posteriormente codificaremos todas elas com o One Hot Encoder e Ordinal Enconder. Percebemos que o One Hot Encoder \n",
        "# é para features categóricas binárias e o Ordinal Enconder para features categóricas ordinais (não binários)\n",
        "\n",
        "pipe_features_oe = Pipeline([(\"input_cat_oe\", SimpleImputer(strategy=\"constant\", fill_value=\"unknown\")),\n",
        "                             (\"ordinal\", OrdinalEncoder(handle_unknown='use_encoded_value', unknown_value=-1))])\n",
        "\n",
        "features_oe = [\"vehicleType\", \"model\", \"fuelType\", \"brand\"]\n",
        "\n",
        "# ==========================================================\n",
        "# Tratando as features categóricas. Os valores nulos (NaN) serão preenchidos pelos dados por \"unknown\" e posteriormente codificaremos todas elas com o One Hot Encoder.\n",
        "\n",
        "pipe_features_ohe = Pipeline([(\"input_cat_ohe\", SimpleImputer(strategy=\"constant\", fill_value=\"unknown\")),\n",
        "                            (\"OneHot\", OneHotEncoder(handle_unknown='ignore'))])\n",
        "\n",
        "features_ohe = [\"abtest\", \"gearbox\", \"notRepairedDamage\"]\n",
        "\n",
        "# ==========================================================\n",
        "# Pré-processador => Pegando as pipelines anteriores e unindo-as.\n",
        "pre_processador = ColumnTransformer([(\"transf_num\", pipe_features_num, features_num),\n",
        "                                     (\"transf_cat_oe\", pipe_features_oe, features_oe),\n",
        "                                     (\"transf_cat_ohe\", pipe_features_ohe, features_ohe)])\n",
        "\n",
        "# ==========================================================\n",
        "# Pipeline final, usando o pré-processador e o estimador que queremos utilizar, neste caso o XGBoost para regressão.\n",
        "pipe_xgbr = Pipeline([(\"pre_processador\", pre_processador),\n",
        "                     (\"xgbr\", XGBRegressor(eval_metric='logloss', random_state=42))])\n",
        "\n",
        "# ==========================================================\n",
        "#Vamos dividir em splits para ter mais variedade no processamento dos dados.\n",
        "splitter = KFold(n_splits=5, random_state=42, shuffle=True)\n",
        "\n",
        "#Montando a grade de parâmetros do estimador (XGBoost)\n",
        "params_grid_xgbr = {\"xgbr__n_estimators\": [1000, 5000, 10000],\n",
        "                   \"xgbr__max_depth\": [2, 3, 8, 10],\n",
        "                   \"xgbr__learning_rate\": [0.1, 0.01, 0.001],\n",
        "                   \"xgbr__colsample_bytree\": [0.5],\n",
        "                   \"xgbr__subsample\": [0.5]}\n",
        "\n",
        "\n",
        "#Motando a grade geral de parâmetros.\n",
        "auto_grid_xgbr = GridSearchCV(estimator=pipe_xgbr,\n",
        "                       param_grid=params_grid_xgbr,\n",
        "                       scoring=\"r2\",\n",
        "                       cv=splitter,\n",
        "                       verbose=10,\n",
        "                       n_jobs=-1)\n",
        "\n",
        "auto_grid_xgbr.fit(X_train, y_train)"
      ]
    },
    {
      "cell_type": "code",
      "execution_count": 87,
      "metadata": {
        "colab": {
          "base_uri": "https://localhost:8080/"
        },
        "collapsed": true,
        "execution": {
          "iopub.execute_input": "2022-07-04T21:37:34.559124Z",
          "iopub.status.busy": "2022-07-04T21:37:34.558167Z",
          "iopub.status.idle": "2022-07-04T21:37:34.565840Z",
          "shell.execute_reply": "2022-07-04T21:37:34.565007Z",
          "shell.execute_reply.started": "2022-07-04T21:37:34.559057Z"
        },
        "id": "DAKnu8-xc8bI",
        "jupyter": {
          "outputs_hidden": true
        },
        "outputId": "e00ea3fe-ebb1-4889-da40-b11ab6f575b0"
      },
      "outputs": [
        {
          "output_type": "execute_result",
          "data": {
            "text/plain": [
              "{'xgbr__colsample_bytree': 0.5,\n",
              " 'xgbr__learning_rate': 0.001,\n",
              " 'xgbr__max_depth': 5,\n",
              " 'xgbr__n_estimators': 5000,\n",
              " 'xgbr__subsample': 0.5}"
            ]
          },
          "metadata": {},
          "execution_count": 87
        }
      ],
      "source": [
        "auto_grid_xgbr.best_params_"
      ]
    },
    {
      "cell_type": "code",
      "execution_count": null,
      "metadata": {
        "collapsed": true,
        "execution": {
          "iopub.execute_input": "2022-07-04T14:20:52.445534Z",
          "iopub.status.busy": "2022-07-04T14:20:52.445074Z",
          "iopub.status.idle": "2022-07-04T14:20:52.487086Z",
          "shell.execute_reply": "2022-07-04T14:20:52.486289Z",
          "shell.execute_reply.started": "2022-07-04T14:20:52.445484Z"
        },
        "id": "Bzqj-9m-c8bJ",
        "jupyter": {
          "outputs_hidden": true
        }
      },
      "outputs": [],
      "source": [
        "xgbr_results = pd.DataFrame(auto_grid_xgbr.cv_results_)\n",
        "xgbr_results.sort_values(by=[\"rank_test_score\"])"
      ]
    },
    {
      "cell_type": "code",
      "execution_count": 126,
      "metadata": {
        "colab": {
          "base_uri": "https://localhost:8080/"
        },
        "execution": {
          "iopub.execute_input": "2022-07-05T01:02:43.684643Z",
          "iopub.status.busy": "2022-07-05T01:02:43.684163Z",
          "iopub.status.idle": "2022-07-05T01:02:45.252934Z",
          "shell.execute_reply": "2022-07-05T01:02:45.251778Z",
          "shell.execute_reply.started": "2022-07-05T01:02:43.684604Z"
        },
        "id": "uzhLcpnDc8bK",
        "outputId": "2d12cf52-c883-4682-81f9-ee3e5599fcb7"
      },
      "outputs": [
        {
          "output_type": "stream",
          "name": "stdout",
          "text": [
            "\n",
            "Métricas de treino:\n",
            "\n",
            "R^2: 0.98\n",
            "MAE: 549.56\n",
            "RMSE: 805.30\n",
            "\n",
            "Métricas de teste:\n",
            "\n",
            "R^2: 0.85\n",
            "MAE: 1318.65\n",
            "RMSE: 2181.57\n"
          ]
        }
      ],
      "source": [
        "# Predições de treino\n",
        "y_pred_train_xgbr = auto_grid_xgbr.predict(X_train)\n",
        "\n",
        "print(\"\\nMétricas de treino:\\n\")\n",
        "print(f\"R^2: {r2_score(y_train, y_pred_train_xgbr):.2f}\")\n",
        "print(f\"MAE: {mean_absolute_error(y_train, y_pred_train_xgbr):.2f}\")\n",
        "print(f\"RMSE: {np.sqrt(mean_squared_error(y_train, y_pred_train_xgbr)):.2f}\")\n",
        "\n",
        "# Predições de teste\n",
        "y_pred_test_xgbr = auto_grid_xgbr.predict(X_test)\n",
        "\n",
        "print(\"\\nMétricas de teste:\\n\")\n",
        "print(f\"R^2: {r2_score(y_test, y_pred_test_xgbr):.2f}\")\n",
        "print(f\"MAE: {mean_absolute_error(y_test, y_pred_test_xgbr):.2f}\")\n",
        "print(f\"RMSE: {np.sqrt(mean_squared_error(y_test, y_pred_test_xgbr)):.2f}\") "
      ]
    },
    {
      "cell_type": "code",
      "execution_count": 127,
      "metadata": {
        "colab": {
          "base_uri": "https://localhost:8080/",
          "height": 499
        },
        "execution": {
          "iopub.execute_input": "2022-07-05T01:05:58.697717Z",
          "iopub.status.busy": "2022-07-05T01:05:58.696913Z",
          "iopub.status.idle": "2022-07-05T01:05:59.069653Z",
          "shell.execute_reply": "2022-07-05T01:05:59.068345Z",
          "shell.execute_reply.started": "2022-07-05T01:05:58.697665Z"
        },
        "id": "zH-xPhTkc8bK",
        "outputId": "4c805450-cb6e-4a95-a218-bcd4c631d26b"
      },
      "outputs": [
        {
          "output_type": "display_data",
          "data": {
            "text/plain": [
              "<Figure size 2160x576 with 1 Axes>"
            ],
            "image/png": "[encoded data removed]"
          },
          "metadata": {
            "needs_background": "light"
          }
        }
      ],
      "source": [
        "plt.figure(figsize=(30,8))\n",
        "x_ax = range(len(y_test))\n",
        "plt.plot(x_ax, y_test, label=\"original\")\n",
        "plt.plot(x_ax, y_pred_test_xgbr, label=\"predito\")\n",
        "plt.title(\"Comparação dos valores reais e preditos\")\n",
        "plt.legend()\n",
        "plt.show();"
      ]
    },
    {
      "cell_type": "markdown",
      "source": [
        "Salvado o estimador..."
      ],
      "metadata": {
        "id": "EJ-STtudhW2Q"
      }
    },
    {
      "cell_type": "code",
      "execution_count": 85,
      "metadata": {
        "execution": {
          "iopub.execute_input": "2022-07-04T23:50:10.517694Z",
          "iopub.status.busy": "2022-07-04T23:50:10.517196Z",
          "iopub.status.idle": "2022-07-04T23:50:10.524008Z",
          "shell.execute_reply": "2022-07-04T23:50:10.522741Z",
          "shell.execute_reply.started": "2022-07-04T23:50:10.517659Z"
        },
        "id": "0fYoLUssc8bK"
      },
      "outputs": [],
      "source": [
        "import pickle"
      ]
    },
    {
      "cell_type": "code",
      "execution_count": 128,
      "metadata": {
        "execution": {
          "iopub.execute_input": "2022-07-05T01:03:00.685460Z",
          "iopub.status.busy": "2022-07-05T01:03:00.684448Z",
          "iopub.status.idle": "2022-07-05T01:03:00.790710Z",
          "shell.execute_reply": "2022-07-05T01:03:00.788824Z",
          "shell.execute_reply.started": "2022-07-05T01:03:00.685404Z"
        },
        "id": "jfhpHY6vc8bL"
      },
      "outputs": [],
      "source": [
        "with open(\"auto_grid_xgbr.pkl\", \"wb\") as f:\n",
        "    pickle.dump(auto_grid_xgbr, f)"
      ]
    },
    {
      "cell_type": "code",
      "execution_count": 86,
      "metadata": {
        "id": "sNYrXM8ec8bL",
        "colab": {
          "base_uri": "https://localhost:8080/"
        },
        "outputId": "1208ae1a-066c-4ada-8f75-152182231018"
      },
      "outputs": [
        {
          "output_type": "stream",
          "name": "stdout",
          "text": [
            "[19:54:20] WARNING: /workspace/src/objective/regression_obj.cu:152: reg:linear is now deprecated in favor of reg:squarederror.\n"
          ]
        }
      ],
      "source": [
        "with open(\"auto_grid_xgbr.pkl\", \"rb\") as f:\n",
        "    \n",
        "    auto_grid_xgbr = pickle.load(f)"
      ]
    },
    {
      "cell_type": "code",
      "execution_count": 129,
      "metadata": {
        "execution": {
          "iopub.execute_input": "2022-07-05T01:06:24.486935Z",
          "iopub.status.busy": "2022-07-05T01:06:24.485551Z",
          "iopub.status.idle": "2022-07-05T01:06:24.495627Z",
          "shell.execute_reply": "2022-07-05T01:06:24.494426Z",
          "shell.execute_reply.started": "2022-07-05T01:06:24.486869Z"
        },
        "id": "5rebXbdwc8bM",
        "colab": {
          "base_uri": "https://localhost:8080/"
        },
        "outputId": "1db5bdb3-d0b6-450c-eddc-69540752e213"
      },
      "outputs": [
        {
          "output_type": "execute_result",
          "data": {
            "text/plain": [
              "array([  666.6399,   997.2858,  9302.802 , ..., 20447.01  ,  1944.2072,\n",
              "        1061.5059], dtype=float32)"
            ]
          },
          "metadata": {},
          "execution_count": 129
        }
      ],
      "source": [
        "y_pred_test_xgbr"
      ]
    },
    {
      "cell_type": "code",
      "execution_count": 130,
      "metadata": {
        "colab": {
          "base_uri": "https://localhost:8080/"
        },
        "execution": {
          "iopub.execute_input": "2022-07-05T01:07:30.826412Z",
          "iopub.status.busy": "2022-07-05T01:07:30.825316Z",
          "iopub.status.idle": "2022-07-05T01:07:30.834027Z",
          "shell.execute_reply": "2022-07-05T01:07:30.832959Z",
          "shell.execute_reply.started": "2022-07-05T01:07:30.826361Z"
        },
        "id": "zEem5V6Wc8bM",
        "outputId": "308a835e-a6fb-469a-e69d-4d8e3b9cccb0"
      },
      "outputs": [
        {
          "output_type": "execute_result",
          "data": {
            "text/plain": [
              "array([  299,  1650, 10998, ..., 21000,   500,   999])"
            ]
          },
          "metadata": {},
          "execution_count": 130
        }
      ],
      "source": [
        "y_test.values"
      ]
    },
    {
      "cell_type": "markdown",
      "metadata": {
        "id": "08Z7JIijkG8F"
      },
      "source": [
        "**Vamos criar uma tabela com a porcentagem de acertos para cada dado**"
      ]
    },
    {
      "cell_type": "code",
      "execution_count": 131,
      "metadata": {
        "execution": {
          "iopub.execute_input": "2022-07-05T01:07:40.588922Z",
          "iopub.status.busy": "2022-07-05T01:07:40.588438Z",
          "iopub.status.idle": "2022-07-05T01:07:40.596087Z",
          "shell.execute_reply": "2022-07-05T01:07:40.594620Z",
          "shell.execute_reply.started": "2022-07-05T01:07:40.588882Z"
        },
        "id": "XVSopcR-c8bM"
      },
      "outputs": [],
      "source": [
        "tabela_xgbr = pd.DataFrame()"
      ]
    },
    {
      "cell_type": "code",
      "execution_count": 132,
      "metadata": {
        "execution": {
          "iopub.execute_input": "2022-07-05T01:08:00.638005Z",
          "iopub.status.busy": "2022-07-05T01:08:00.637552Z",
          "iopub.status.idle": "2022-07-05T01:08:00.646545Z",
          "shell.execute_reply": "2022-07-05T01:08:00.645413Z",
          "shell.execute_reply.started": "2022-07-05T01:08:00.637972Z"
        },
        "id": "I96XCUNXc8bN"
      },
      "outputs": [],
      "source": [
        "tabela_xgbr[\"valores reais\"] = y_test"
      ]
    },
    {
      "cell_type": "code",
      "execution_count": 133,
      "metadata": {
        "execution": {
          "iopub.execute_input": "2022-07-05T01:08:27.467412Z",
          "iopub.status.busy": "2022-07-05T01:08:27.466894Z",
          "iopub.status.idle": "2022-07-05T01:08:27.474561Z",
          "shell.execute_reply": "2022-07-05T01:08:27.473152Z",
          "shell.execute_reply.started": "2022-07-05T01:08:27.467371Z"
        },
        "id": "aLkGND4Lc8bN"
      },
      "outputs": [],
      "source": [
        "tabela_xgbr[\"valores preditos\"] = y_pred_test_xgbr"
      ]
    },
    {
      "cell_type": "code",
      "execution_count": 134,
      "metadata": {
        "id": "ySKq7WYj6tuW"
      },
      "outputs": [],
      "source": [
        "tabela_xgbr[\"porcentagem de acerto %\"]= (y_test/y_pred_test_xgbr)*100"
      ]
    },
    {
      "cell_type": "code",
      "execution_count": 135,
      "metadata": {
        "id": "xoGWh5876tuW"
      },
      "outputs": [],
      "source": [
        "lista_num = []\n",
        "for c in tabela_xgbr[\"porcentagem de acerto %\"]:\n",
        "  if c > 100:\n",
        "    num = abs(c - 200)\n",
        "    lista_num.append(num)\n",
        "  else:\n",
        "    num = c\n",
        "    lista_num.append(num)\n",
        "  \n",
        "\n",
        "tabela_xgbr[\"porcentagem de acerto %\"]= lista_num"
      ]
    },
    {
      "cell_type": "code",
      "execution_count": 136,
      "metadata": {
        "colab": {
          "base_uri": "https://localhost:8080/",
          "height": 424
        },
        "id": "z-k7Efca6tuX",
        "outputId": "bd7bfbf2-60c1-4c0f-f34b-a33734e2f5ac"
      },
      "outputs": [
        {
          "output_type": "execute_result",
          "data": {
            "text/plain": [
              "        valores reais  valores preditos  porcentagem de acerto %\n",
              "227024            299        666.639893                44.851801\n",
              "235861           1650        997.285828                34.550943\n",
              "59304           10998       9302.801758                81.777552\n",
              "40096             300        468.644775                64.014370\n",
              "192567           3750       5035.664551                74.468821\n",
              "...               ...               ...                      ...\n",
              "34380            4400       4405.408203                99.877237\n",
              "73071             300       1755.465942                17.089480\n",
              "354136          21000      20447.009766                97.295496\n",
              "76638             500       1944.207153                25.717424\n",
              "313447            999       1061.505859                94.111586\n",
              "\n",
              "[2000 rows x 3 columns]"
            ],
            "text/html": [
              "\n",
              "  <div id=\"df-e7f3b0a8-1113-4823-a8a3-aa7f7651835e\">\n",
              "    <div class=\"colab-df-container\">\n",
              "      <div>\n",
              "<style scoped>\n",
              "    .dataframe tbody tr th:only-of-type {\n",
              "        vertical-align: middle;\n",
              "    }\n",
              "\n",
              "    .dataframe tbody tr th {\n",
              "        vertical-align: top;\n",
              "    }\n",
              "\n",
              "    .dataframe thead th {\n",
              "        text-align: right;\n",
              "    }\n",
              "</style>\n",
              "<table border=\"1\" class=\"dataframe\">\n",
              "  <thead>\n",
              "    <tr style=\"text-align: right;\">\n",
              "      <th></th>\n",
              "      <th>valores reais</th>\n",
              "      <th>valores preditos</th>\n",
              "      <th>porcentagem de acerto %</th>\n",
              "    </tr>\n",
              "  </thead>\n",
              "  <tbody>\n",
              "    <tr>\n",
              "      <th>227024</th>\n",
              "      <td>299</td>\n",
              "      <td>666.639893</td>\n",
              "      <td>44.851801</td>\n",
              "    </tr>\n",
              "    <tr>\n",
              "      <th>235861</th>\n",
              "      <td>1650</td>\n",
              "      <td>997.285828</td>\n",
              "      <td>34.550943</td>\n",
              "    </tr>\n",
              "    <tr>\n",
              "      <th>59304</th>\n",
              "      <td>10998</td>\n",
              "      <td>9302.801758</td>\n",
              "      <td>81.777552</td>\n",
              "    </tr>\n",
              "    <tr>\n",
              "      <th>40096</th>\n",
              "      <td>300</td>\n",
              "      <td>468.644775</td>\n",
              "      <td>64.014370</td>\n",
              "    </tr>\n",
              "    <tr>\n",
              "      <th>192567</th>\n",
              "      <td>3750</td>\n",
              "      <td>5035.664551</td>\n",
              "      <td>74.468821</td>\n",
              "    </tr>\n",
              "    <tr>\n",
              "      <th>...</th>\n",
              "      <td>...</td>\n",
              "      <td>...</td>\n",
              "      <td>...</td>\n",
              "    </tr>\n",
              "    <tr>\n",
              "      <th>34380</th>\n",
              "      <td>4400</td>\n",
              "      <td>4405.408203</td>\n",
              "      <td>99.877237</td>\n",
              "    </tr>\n",
              "    <tr>\n",
              "      <th>73071</th>\n",
              "      <td>300</td>\n",
              "      <td>1755.465942</td>\n",
              "      <td>17.089480</td>\n",
              "    </tr>\n",
              "    <tr>\n",
              "      <th>354136</th>\n",
              "      <td>21000</td>\n",
              "      <td>20447.009766</td>\n",
              "      <td>97.295496</td>\n",
              "    </tr>\n",
              "    <tr>\n",
              "      <th>76638</th>\n",
              "      <td>500</td>\n",
              "      <td>1944.207153</td>\n",
              "      <td>25.717424</td>\n",
              "    </tr>\n",
              "    <tr>\n",
              "      <th>313447</th>\n",
              "      <td>999</td>\n",
              "      <td>1061.505859</td>\n",
              "      <td>94.111586</td>\n",
              "    </tr>\n",
              "  </tbody>\n",
              "</table>\n",
              "<p>2000 rows × 3 columns</p>\n",
              "</div>\n",
              "      <button class=\"colab-df-convert\" onclick=\"convertToInteractive('df-e7f3b0a8-1113-4823-a8a3-aa7f7651835e')\"\n",
              "              title=\"Convert this dataframe to an interactive table.\"\n",
              "              style=\"display:none;\">\n",
              "        \n",
              "  <svg xmlns=\"http://www.w3.org/2000/svg\" height=\"24px\"viewBox=\"0 0 24 24\"\n",
              "       width=\"24px\">\n",
              "    <path d=\"M0 0h24v24H0V0z\" fill=\"none\"/>\n",
              "    <path d=\"M18.56 5.44l.94 2.06.94-2.06 2.06-.94-2.06-.94-.94-2.06-.94 2.06-2.06.94zm-11 1L8.5 8.5l.94-2.06 2.06-.94-2.06-.94L8.5 2.5l-.94 2.06-2.06.94zm10 10l.94 2.06.94-2.06 2.06-.94-2.06-.94-.94-2.06-.94 2.06-2.06.94z\"/><path d=\"M17.41 7.96l-1.37-1.37c-.4-.4-.92-.59-1.43-.59-.52 0-1.04.2-1.43.59L10.3 9.45l-7.72 7.72c-.78.78-.78 2.05 0 2.83L4 21.41c.39.39.9.59 1.41.59.51 0 1.02-.2 1.41-.59l7.78-7.78 2.81-2.81c.8-.78.8-2.07 0-2.86zM5.41 20L4 18.59l7.72-7.72 1.47 1.35L5.41 20z\"/>\n",
              "  </svg>\n",
              "      </button>\n",
              "      \n",
              "  <style>\n",
              "    .colab-df-container {\n",
              "      display:flex;\n",
              "      flex-wrap:wrap;\n",
              "      gap: 12px;\n",
              "    }\n",
              "\n",
              "    .colab-df-convert {\n",
              "      background-color: #E8F0FE;\n",
              "      border: none;\n",
              "      border-radius: 50%;\n",
              "      cursor: pointer;\n",
              "      display: none;\n",
              "      fill: #1967D2;\n",
              "      height: 32px;\n",
              "      padding: 0 0 0 0;\n",
              "      width: 32px;\n",
              "    }\n",
              "\n",
              "    .colab-df-convert:hover {\n",
              "      background-color: #E2EBFA;\n",
              "      box-shadow: 0px 1px 2px rgba(60, 64, 67, 0.3), 0px 1px 3px 1px rgba(60, 64, 67, 0.15);\n",
              "      fill: #174EA6;\n",
              "    }\n",
              "\n",
              "    [theme=dark] .colab-df-convert {\n",
              "      background-color: #3B4455;\n",
              "      fill: #D2E3FC;\n",
              "    }\n",
              "\n",
              "    [theme=dark] .colab-df-convert:hover {\n",
              "      background-color: #434B5C;\n",
              "      box-shadow: 0px 1px 3px 1px rgba(0, 0, 0, 0.15);\n",
              "      filter: drop-shadow(0px 1px 2px rgba(0, 0, 0, 0.3));\n",
              "      fill: #FFFFFF;\n",
              "    }\n",
              "  </style>\n",
              "\n",
              "      <script>\n",
              "        const buttonEl =\n",
              "          document.querySelector('#df-e7f3b0a8-1113-4823-a8a3-aa7f7651835e button.colab-df-convert');\n",
              "        buttonEl.style.display =\n",
              "          google.colab.kernel.accessAllowed ? 'block' : 'none';\n",
              "\n",
              "        async function convertToInteractive(key) {\n",
              "          const element = document.querySelector('#df-e7f3b0a8-1113-4823-a8a3-aa7f7651835e');\n",
              "          const dataTable =\n",
              "            await google.colab.kernel.invokeFunction('convertToInteractive',\n",
              "                                                     [key], {});\n",
              "          if (!dataTable) return;\n",
              "\n",
              "          const docLinkHtml = 'Like what you see? Visit the ' +\n",
              "            '<a target=\"_blank\" href=https://colab.research.google.com/notebooks/data_table.ipynb>data table notebook</a>'\n",
              "            + ' to learn more about interactive tables.';\n",
              "          element.innerHTML = '';\n",
              "          dataTable['output_type'] = 'display_data';\n",
              "          await google.colab.output.renderOutput(dataTable, element);\n",
              "          const docLink = document.createElement('div');\n",
              "          docLink.innerHTML = docLinkHtml;\n",
              "          element.appendChild(docLink);\n",
              "        }\n",
              "      </script>\n",
              "    </div>\n",
              "  </div>\n",
              "  "
            ]
          },
          "metadata": {},
          "execution_count": 136
        }
      ],
      "source": [
        "tabela_xgbr"
      ]
    },
    {
      "cell_type": "markdown",
      "source": [
        "Salvando a tabela..."
      ],
      "metadata": {
        "id": "GlVzhQiqiqFX"
      }
    },
    {
      "cell_type": "code",
      "source": [
        "tabela_xgbr.to_csv(\"06-carros_usados_xgbr.csv\")"
      ],
      "metadata": {
        "id": "ln6ipo5SisZm"
      },
      "execution_count": 137,
      "outputs": []
    },
    {
      "cell_type": "markdown",
      "metadata": {
        "id": "eJHNWP3kV8iS"
      },
      "source": [
        "#**Interpretando o modelo globalmente**"
      ]
    },
    {
      "cell_type": "markdown",
      "metadata": {
        "id": "Qp1fQ46lWPTk"
      },
      "source": [
        "**Para a interpretação só podemos considerar as features numéricas, vamos retirar as features categóricas:**"
      ]
    },
    {
      "cell_type": "markdown",
      "metadata": {
        "id": "j7jxqycZIK7_"
      },
      "source": [
        "Percebemos que as features que tem dados como números contínuos tem um maior impacto na interpretação do que as features com dados como números discretos e as features com os maiores valores pesam mais na saída final, se analisarmos no dataset veremos que os valores da feature 'rent amount' são maiores que 'hoa' e assim sucessivamente como vemos no gráfico final:"
      ]
    },
    {
      "cell_type": "markdown",
      "metadata": {
        "id": "8Af3Hpzq9URP"
      },
      "source": [
        "**SHAP**"
      ]
    },
    {
      "cell_type": "code",
      "execution_count": null,
      "metadata": {
        "id": "B8hveFOf2nnI"
      },
      "outputs": [],
      "source": [
        "!pip install shap\n",
        "import shap"
      ]
    },
    {
      "cell_type": "markdown",
      "source": [
        "**Agora vamos tratar o NaN nas Features categóricas**"
      ],
      "metadata": {
        "id": "GKr0Ep8JWQdU"
      }
    },
    {
      "cell_type": "code",
      "source": [
        "#\"User_Score\", \"Publisher\", \"Rating\"\n",
        "ss = SimpleImputer(strategy=\"constant\", fill_value=\"unknown\")\n",
        "ss.fit(df[[\"vehicleType\", \"gearbox\", \"model\", \"notRepairedDamage\"]])\n",
        "\n",
        "m = ss.transform(df[[\"vehicleType\", \"gearbox\", \"model\", \"notRepairedDamage\"]])\n",
        "df[[\"vehicleType\", \"gearbox\", \"model\", \"notRepairedDamage\"]] = m"
      ],
      "metadata": {
        "id": "UEcfCz-tWQdV"
      },
      "execution_count": null,
      "outputs": []
    },
    {
      "cell_type": "markdown",
      "source": [
        "**O Shap só aceita dados numéricos, vamos transformar as Features categóricas em numéricas.**"
      ],
      "metadata": {
        "id": "K2NOE9BUypiy"
      }
    },
    {
      "cell_type": "markdown",
      "source": [
        "**Transformando as Features categóricas em numéricas - OneHotEnconder - Features de dados binários:**"
      ],
      "metadata": {
        "id": "XlV1Xr6SRkEK"
      }
    },
    {
      "cell_type": "code",
      "source": [
        "# \"abtest\"\n",
        "ohe =  OneHotEncoder(handle_unknown='ignore')\n",
        "ohe.fit(df[[\"abtest\"]])\n",
        "\n",
        "df[\"abtest\"] = ohe.transform(df[[\"abtest\"]]).toarray()"
      ],
      "metadata": {
        "id": "n2nsPq95Q6Rx"
      },
      "execution_count": 168,
      "outputs": []
    },
    {
      "cell_type": "markdown",
      "source": [
        "**Transformando as Features categóricas em numéricas - OrdinalEncoder() - Feature com mais de 2 dados diferentes.**"
      ],
      "metadata": {
        "id": "WdEFqcwsZM1h"
      }
    },
    {
      "cell_type": "code",
      "source": [
        "# \"dateCrawled\", \"vehicleType\", \"lastSeen\", \"brand\", \"model\",  \"fuelType\", \"notRepairedDamage\", \"gearbox\"\n",
        "oe =  OrdinalEncoder()\n",
        "oe.fit(df[[\"dateCrawled\", \"vehicleType\", \"lastSeen\", \"brand\", \"model\",  \"fuelType\", \"notRepairedDamage\", \"gearbox\"]])\n",
        "df[[\"dateCrawled\", \"vehicleType\", \"lastSeen\", \"brand\", \"model\",  \"fuelType\", \"notRepairedDamage\", \"gearbox\"]] = oe.transform(df[[\"dateCrawled\", \"vehicleType\", \"lastSeen\", \"brand\", \"model\",  \"fuelType\", \"notRepairedDamage\", \"gearbox\"]])"
      ],
      "metadata": {
        "id": "G4fDsjuSVMiJ"
      },
      "execution_count": 170,
      "outputs": []
    },
    {
      "cell_type": "markdown",
      "source": [
        "**Vamos escalonar todas as Features, pois a amplitude entre os dados está muito grande, isso pode causar um viés no resultado final:**"
      ],
      "metadata": {
        "id": "6yUhfH1Ra1E5"
      }
    },
    {
      "cell_type": "code",
      "source": [
        "df.columns"
      ],
      "metadata": {
        "colab": {
          "base_uri": "https://localhost:8080/"
        },
        "id": "kGLqmqXSgb7h",
        "outputId": "d997097b-f120-4a7d-b194-02e4734a47e5"
      },
      "execution_count": 172,
      "outputs": [
        {
          "output_type": "execute_result",
          "data": {
            "text/plain": [
              "Index(['dateCrawled', 'price', 'abtest', 'vehicleType', 'yearOfRegistration',\n",
              "       'gearbox', 'powerPS', 'model', 'kilometer', 'monthOfRegistration',\n",
              "       'fuelType', 'brand', 'notRepairedDamage', 'lastSeen'],\n",
              "      dtype='object')"
            ]
          },
          "metadata": {},
          "execution_count": 172
        }
      ]
    },
    {
      "cell_type": "code",
      "source": [
        "ssc = StandardScaler()\n",
        "\n",
        "ssc.fit(df[['dateCrawled','abtest', 'vehicleType', 'yearOfRegistration','gearbox', 'powerPS', 'model', 'kilometer', 'monthOfRegistration','fuelType', 'brand', 'notRepairedDamage', 'lastSeen']])\n",
        "h= ssc.transform(df[['dateCrawled','abtest', 'vehicleType', 'yearOfRegistration','gearbox', 'powerPS', 'model', 'kilometer', 'monthOfRegistration','fuelType', 'brand', 'notRepairedDamage', 'lastSeen']])\n",
        "df[['dateCrawled','abtest', 'vehicleType', 'yearOfRegistration','gearbox', 'powerPS', 'model', 'kilometer', 'monthOfRegistration','fuelType', 'brand', 'notRepairedDamage', 'lastSeen']] = h"
      ],
      "metadata": {
        "id": "2HZDW5NwbdoP"
      },
      "execution_count": 173,
      "outputs": []
    },
    {
      "cell_type": "code",
      "source": [
        "df"
      ],
      "metadata": {
        "colab": {
          "base_uri": "https://localhost:8080/",
          "height": 424
        },
        "id": "fgUpGAtlz13P",
        "outputId": "6efdd991-4f99-4096-d4c0-5d2a4964e5c2"
      },
      "execution_count": 175,
      "outputs": [
        {
          "output_type": "execute_result",
          "data": {
            "text/plain": [
              "        dateCrawled  price    abtest  vehicleType  yearOfRegistration  \\\n",
              "334824     0.532332   2290  1.037087    -0.396942            0.036760   \n",
              "10135     -0.207942   4790 -0.964239    -0.396942           -0.009674   \n",
              "53115      1.313809   1450 -0.964239     0.126383           -0.087062   \n",
              "141371    -1.688489   5750  1.037087     1.696359            0.191537   \n",
              "74316      0.783047   3000  1.037087    -0.396942            0.052237   \n",
              "...             ...    ...       ...          ...                 ...   \n",
              "91802      1.027128   1950  1.037087     1.696359            0.176060   \n",
              "190564     0.053598    250  1.037087     0.649708           -0.118018   \n",
              "279369    -0.602173   1600 -0.964239    -0.396942           -0.040629   \n",
              "21441     -1.091032   2500  1.037087    -1.966918            0.005804   \n",
              "41322     -1.531006   1190  1.037087    -0.396942           -0.056107   \n",
              "\n",
              "         gearbox   powerPS     model  kilometer  monthOfRegistration  \\\n",
              "334824  0.326232 -0.271415  0.006530   0.603178            -0.477248   \n",
              "10135   0.326232  0.003921 -0.325958   0.603178             0.601401   \n",
              "53115  -1.754332 -0.511223  0.064354   0.603178            -0.477248   \n",
              "141371  0.326232 -0.044929  0.136634   0.603178            -1.016573   \n",
              "74316  -1.754332 -0.511223 -0.398238  -0.685801            -1.555897   \n",
              "...          ...       ...       ...        ...                  ...   \n",
              "91802   0.326232 -0.511223  0.888345   0.603178            -1.286235   \n",
              "190564 -1.754332 -0.511223  1.697880   0.603178            -1.555897   \n",
              "279369  0.326232 -0.222565 -0.282590   0.603178             0.062076   \n",
              "21441   0.326232 -0.004961 -0.904198   0.603178            -0.207586   \n",
              "41322   0.326232 -0.253651 -0.282590   0.603178             1.410387   \n",
              "\n",
              "        fuelType     brand  notRepairedDamage  lastSeen  \n",
              "334824 -0.687138  1.274655          -0.167086  0.756968  \n",
              "10135  -0.687138  0.002372          -0.167086  0.845919  \n",
              "53115  -0.687138  0.077213           1.742467  0.896592  \n",
              "141371  1.246582  1.274655          -0.167086 -1.669497  \n",
              "74316  -0.687138  0.451413          -2.076638 -0.520061  \n",
              "...          ...       ...                ...       ...  \n",
              "91802  -0.687138  1.274655           1.742467  0.322785  \n",
              "190564       NaN  0.226893          -2.076638 -0.945495  \n",
              "279369  1.246582  0.226893          -0.167086  1.497740  \n",
              "21441   1.246582  0.226893          -0.167086 -1.610439  \n",
              "41322  -0.687138  0.226893          -0.167086 -1.122303  \n",
              "\n",
              "[10000 rows x 14 columns]"
            ],
            "text/html": [
              "\n",
              "  <div id=\"df-9014256b-84a7-46cd-ae6d-6c68e1fe2af9\">\n",
              "    <div class=\"colab-df-container\">\n",
              "      <div>\n",
              "<style scoped>\n",
              "    .dataframe tbody tr th:only-of-type {\n",
              "        vertical-align: middle;\n",
              "    }\n",
              "\n",
              "    .dataframe tbody tr th {\n",
              "        vertical-align: top;\n",
              "    }\n",
              "\n",
              "    .dataframe thead th {\n",
              "        text-align: right;\n",
              "    }\n",
              "</style>\n",
              "<table border=\"1\" class=\"dataframe\">\n",
              "  <thead>\n",
              "    <tr style=\"text-align: right;\">\n",
              "      <th></th>\n",
              "      <th>dateCrawled</th>\n",
              "      <th>price</th>\n",
              "      <th>abtest</th>\n",
              "      <th>vehicleType</th>\n",
              "      <th>yearOfRegistration</th>\n",
              "      <th>gearbox</th>\n",
              "      <th>powerPS</th>\n",
              "      <th>model</th>\n",
              "      <th>kilometer</th>\n",
              "      <th>monthOfRegistration</th>\n",
              "      <th>fuelType</th>\n",
              "      <th>brand</th>\n",
              "      <th>notRepairedDamage</th>\n",
              "      <th>lastSeen</th>\n",
              "    </tr>\n",
              "  </thead>\n",
              "  <tbody>\n",
              "    <tr>\n",
              "      <th>334824</th>\n",
              "      <td>0.532332</td>\n",
              "      <td>2290</td>\n",
              "      <td>1.037087</td>\n",
              "      <td>-0.396942</td>\n",
              "      <td>0.036760</td>\n",
              "      <td>0.326232</td>\n",
              "      <td>-0.271415</td>\n",
              "      <td>0.006530</td>\n",
              "      <td>0.603178</td>\n",
              "      <td>-0.477248</td>\n",
              "      <td>-0.687138</td>\n",
              "      <td>1.274655</td>\n",
              "      <td>-0.167086</td>\n",
              "      <td>0.756968</td>\n",
              "    </tr>\n",
              "    <tr>\n",
              "      <th>10135</th>\n",
              "      <td>-0.207942</td>\n",
              "      <td>4790</td>\n",
              "      <td>-0.964239</td>\n",
              "      <td>-0.396942</td>\n",
              "      <td>-0.009674</td>\n",
              "      <td>0.326232</td>\n",
              "      <td>0.003921</td>\n",
              "      <td>-0.325958</td>\n",
              "      <td>0.603178</td>\n",
              "      <td>0.601401</td>\n",
              "      <td>-0.687138</td>\n",
              "      <td>0.002372</td>\n",
              "      <td>-0.167086</td>\n",
              "      <td>0.845919</td>\n",
              "    </tr>\n",
              "    <tr>\n",
              "      <th>53115</th>\n",
              "      <td>1.313809</td>\n",
              "      <td>1450</td>\n",
              "      <td>-0.964239</td>\n",
              "      <td>0.126383</td>\n",
              "      <td>-0.087062</td>\n",
              "      <td>-1.754332</td>\n",
              "      <td>-0.511223</td>\n",
              "      <td>0.064354</td>\n",
              "      <td>0.603178</td>\n",
              "      <td>-0.477248</td>\n",
              "      <td>-0.687138</td>\n",
              "      <td>0.077213</td>\n",
              "      <td>1.742467</td>\n",
              "      <td>0.896592</td>\n",
              "    </tr>\n",
              "    <tr>\n",
              "      <th>141371</th>\n",
              "      <td>-1.688489</td>\n",
              "      <td>5750</td>\n",
              "      <td>1.037087</td>\n",
              "      <td>1.696359</td>\n",
              "      <td>0.191537</td>\n",
              "      <td>0.326232</td>\n",
              "      <td>-0.044929</td>\n",
              "      <td>0.136634</td>\n",
              "      <td>0.603178</td>\n",
              "      <td>-1.016573</td>\n",
              "      <td>1.246582</td>\n",
              "      <td>1.274655</td>\n",
              "      <td>-0.167086</td>\n",
              "      <td>-1.669497</td>\n",
              "    </tr>\n",
              "    <tr>\n",
              "      <th>74316</th>\n",
              "      <td>0.783047</td>\n",
              "      <td>3000</td>\n",
              "      <td>1.037087</td>\n",
              "      <td>-0.396942</td>\n",
              "      <td>0.052237</td>\n",
              "      <td>-1.754332</td>\n",
              "      <td>-0.511223</td>\n",
              "      <td>-0.398238</td>\n",
              "      <td>-0.685801</td>\n",
              "      <td>-1.555897</td>\n",
              "      <td>-0.687138</td>\n",
              "      <td>0.451413</td>\n",
              "      <td>-2.076638</td>\n",
              "      <td>-0.520061</td>\n",
              "    </tr>\n",
              "    <tr>\n",
              "      <th>...</th>\n",
              "      <td>...</td>\n",
              "      <td>...</td>\n",
              "      <td>...</td>\n",
              "      <td>...</td>\n",
              "      <td>...</td>\n",
              "      <td>...</td>\n",
              "      <td>...</td>\n",
              "      <td>...</td>\n",
              "      <td>...</td>\n",
              "      <td>...</td>\n",
              "      <td>...</td>\n",
              "      <td>...</td>\n",
              "      <td>...</td>\n",
              "      <td>...</td>\n",
              "    </tr>\n",
              "    <tr>\n",
              "      <th>91802</th>\n",
              "      <td>1.027128</td>\n",
              "      <td>1950</td>\n",
              "      <td>1.037087</td>\n",
              "      <td>1.696359</td>\n",
              "      <td>0.176060</td>\n",
              "      <td>0.326232</td>\n",
              "      <td>-0.511223</td>\n",
              "      <td>0.888345</td>\n",
              "      <td>0.603178</td>\n",
              "      <td>-1.286235</td>\n",
              "      <td>-0.687138</td>\n",
              "      <td>1.274655</td>\n",
              "      <td>1.742467</td>\n",
              "      <td>0.322785</td>\n",
              "    </tr>\n",
              "    <tr>\n",
              "      <th>190564</th>\n",
              "      <td>0.053598</td>\n",
              "      <td>250</td>\n",
              "      <td>1.037087</td>\n",
              "      <td>0.649708</td>\n",
              "      <td>-0.118018</td>\n",
              "      <td>-1.754332</td>\n",
              "      <td>-0.511223</td>\n",
              "      <td>1.697880</td>\n",
              "      <td>0.603178</td>\n",
              "      <td>-1.555897</td>\n",
              "      <td>NaN</td>\n",
              "      <td>0.226893</td>\n",
              "      <td>-2.076638</td>\n",
              "      <td>-0.945495</td>\n",
              "    </tr>\n",
              "    <tr>\n",
              "      <th>279369</th>\n",
              "      <td>-0.602173</td>\n",
              "      <td>1600</td>\n",
              "      <td>-0.964239</td>\n",
              "      <td>-0.396942</td>\n",
              "      <td>-0.040629</td>\n",
              "      <td>0.326232</td>\n",
              "      <td>-0.222565</td>\n",
              "      <td>-0.282590</td>\n",
              "      <td>0.603178</td>\n",
              "      <td>0.062076</td>\n",
              "      <td>1.246582</td>\n",
              "      <td>0.226893</td>\n",
              "      <td>-0.167086</td>\n",
              "      <td>1.497740</td>\n",
              "    </tr>\n",
              "    <tr>\n",
              "      <th>21441</th>\n",
              "      <td>-1.091032</td>\n",
              "      <td>2500</td>\n",
              "      <td>1.037087</td>\n",
              "      <td>-1.966918</td>\n",
              "      <td>0.005804</td>\n",
              "      <td>0.326232</td>\n",
              "      <td>-0.004961</td>\n",
              "      <td>-0.904198</td>\n",
              "      <td>0.603178</td>\n",
              "      <td>-0.207586</td>\n",
              "      <td>1.246582</td>\n",
              "      <td>0.226893</td>\n",
              "      <td>-0.167086</td>\n",
              "      <td>-1.610439</td>\n",
              "    </tr>\n",
              "    <tr>\n",
              "      <th>41322</th>\n",
              "      <td>-1.531006</td>\n",
              "      <td>1190</td>\n",
              "      <td>1.037087</td>\n",
              "      <td>-0.396942</td>\n",
              "      <td>-0.056107</td>\n",
              "      <td>0.326232</td>\n",
              "      <td>-0.253651</td>\n",
              "      <td>-0.282590</td>\n",
              "      <td>0.603178</td>\n",
              "      <td>1.410387</td>\n",
              "      <td>-0.687138</td>\n",
              "      <td>0.226893</td>\n",
              "      <td>-0.167086</td>\n",
              "      <td>-1.122303</td>\n",
              "    </tr>\n",
              "  </tbody>\n",
              "</table>\n",
              "<p>10000 rows × 14 columns</p>\n",
              "</div>\n",
              "      <button class=\"colab-df-convert\" onclick=\"convertToInteractive('df-9014256b-84a7-46cd-ae6d-6c68e1fe2af9')\"\n",
              "              title=\"Convert this dataframe to an interactive table.\"\n",
              "              style=\"display:none;\">\n",
              "        \n",
              "  <svg xmlns=\"http://www.w3.org/2000/svg\" height=\"24px\"viewBox=\"0 0 24 24\"\n",
              "       width=\"24px\">\n",
              "    <path d=\"M0 0h24v24H0V0z\" fill=\"none\"/>\n",
              "    <path d=\"M18.56 5.44l.94 2.06.94-2.06 2.06-.94-2.06-.94-.94-2.06-.94 2.06-2.06.94zm-11 1L8.5 8.5l.94-2.06 2.06-.94-2.06-.94L8.5 2.5l-.94 2.06-2.06.94zm10 10l.94 2.06.94-2.06 2.06-.94-2.06-.94-.94-2.06-.94 2.06-2.06.94z\"/><path d=\"M17.41 7.96l-1.37-1.37c-.4-.4-.92-.59-1.43-.59-.52 0-1.04.2-1.43.59L10.3 9.45l-7.72 7.72c-.78.78-.78 2.05 0 2.83L4 21.41c.39.39.9.59 1.41.59.51 0 1.02-.2 1.41-.59l7.78-7.78 2.81-2.81c.8-.78.8-2.07 0-2.86zM5.41 20L4 18.59l7.72-7.72 1.47 1.35L5.41 20z\"/>\n",
              "  </svg>\n",
              "      </button>\n",
              "      \n",
              "  <style>\n",
              "    .colab-df-container {\n",
              "      display:flex;\n",
              "      flex-wrap:wrap;\n",
              "      gap: 12px;\n",
              "    }\n",
              "\n",
              "    .colab-df-convert {\n",
              "      background-color: #E8F0FE;\n",
              "      border: none;\n",
              "      border-radius: 50%;\n",
              "      cursor: pointer;\n",
              "      display: none;\n",
              "      fill: #1967D2;\n",
              "      height: 32px;\n",
              "      padding: 0 0 0 0;\n",
              "      width: 32px;\n",
              "    }\n",
              "\n",
              "    .colab-df-convert:hover {\n",
              "      background-color: #E2EBFA;\n",
              "      box-shadow: 0px 1px 2px rgba(60, 64, 67, 0.3), 0px 1px 3px 1px rgba(60, 64, 67, 0.15);\n",
              "      fill: #174EA6;\n",
              "    }\n",
              "\n",
              "    [theme=dark] .colab-df-convert {\n",
              "      background-color: #3B4455;\n",
              "      fill: #D2E3FC;\n",
              "    }\n",
              "\n",
              "    [theme=dark] .colab-df-convert:hover {\n",
              "      background-color: #434B5C;\n",
              "      box-shadow: 0px 1px 3px 1px rgba(0, 0, 0, 0.15);\n",
              "      filter: drop-shadow(0px 1px 2px rgba(0, 0, 0, 0.3));\n",
              "      fill: #FFFFFF;\n",
              "    }\n",
              "  </style>\n",
              "\n",
              "      <script>\n",
              "        const buttonEl =\n",
              "          document.querySelector('#df-9014256b-84a7-46cd-ae6d-6c68e1fe2af9 button.colab-df-convert');\n",
              "        buttonEl.style.display =\n",
              "          google.colab.kernel.accessAllowed ? 'block' : 'none';\n",
              "\n",
              "        async function convertToInteractive(key) {\n",
              "          const element = document.querySelector('#df-9014256b-84a7-46cd-ae6d-6c68e1fe2af9');\n",
              "          const dataTable =\n",
              "            await google.colab.kernel.invokeFunction('convertToInteractive',\n",
              "                                                     [key], {});\n",
              "          if (!dataTable) return;\n",
              "\n",
              "          const docLinkHtml = 'Like what you see? Visit the ' +\n",
              "            '<a target=\"_blank\" href=https://colab.research.google.com/notebooks/data_table.ipynb>data table notebook</a>'\n",
              "            + ' to learn more about interactive tables.';\n",
              "          element.innerHTML = '';\n",
              "          dataTable['output_type'] = 'display_data';\n",
              "          await google.colab.output.renderOutput(dataTable, element);\n",
              "          const docLink = document.createElement('div');\n",
              "          docLink.innerHTML = docLinkHtml;\n",
              "          element.appendChild(docLink);\n",
              "        }\n",
              "      </script>\n",
              "    </div>\n",
              "  </div>\n",
              "  "
            ]
          },
          "metadata": {},
          "execution_count": 175
        }
      ]
    },
    {
      "cell_type": "markdown",
      "source": [
        "**Separar em features e target...**"
      ],
      "metadata": {
        "id": "q5N68Lr70Mb3"
      }
    },
    {
      "cell_type": "code",
      "execution_count": 178,
      "metadata": {
        "id": "sUabPhTw9Z71"
      },
      "outputs": [],
      "source": [
        "X = df.drop(columns=\"price\")\n",
        "y = df[\"price\"]\n",
        "\n",
        "X_train, X_test, y_train, y_test = train_test_split(X, y, test_size=0.3, random_state=20)"
      ]
    },
    {
      "cell_type": "code",
      "execution_count": 179,
      "metadata": {
        "colab": {
          "base_uri": "https://localhost:8080/"
        },
        "id": "7tcpqH9D9MnG",
        "outputId": "44e084a5-646f-4c09-9b14-2be364b93b71"
      },
      "outputs": [
        {
          "output_type": "stream",
          "name": "stdout",
          "text": [
            "[21:16:32] WARNING: /workspace/src/objective/regression_obj.cu:152: reg:linear is now deprecated in favor of reg:squarederror.\n"
          ]
        }
      ],
      "source": [
        "xgbr = XGBRegressor().fit(X_train, y_train)"
      ]
    },
    {
      "cell_type": "code",
      "execution_count": 180,
      "metadata": {
        "id": "ehtr4Q4U2oZo"
      },
      "outputs": [],
      "source": [
        "explainer = shap.TreeExplainer(xgbr)"
      ]
    },
    {
      "cell_type": "code",
      "execution_count": 181,
      "metadata": {
        "id": "W8l_bj9H9ssm"
      },
      "outputs": [],
      "source": [
        "shap_vals = explainer.shap_values(X_train)"
      ]
    },
    {
      "cell_type": "markdown",
      "source": [
        "**Temos abaixo as Features que mais impactaram na escolha dos valores preditivos para todos os dados:**"
      ],
      "metadata": {
        "id": "Nf-PPooRRHTd"
      }
    },
    {
      "cell_type": "code",
      "execution_count": 182,
      "metadata": {
        "colab": {
          "base_uri": "https://localhost:8080/",
          "height": 492
        },
        "id": "3yND9xNJ90j_",
        "outputId": "f8b9f72b-1193-4e79-d0ec-3f8d626425e9"
      },
      "outputs": [
        {
          "output_type": "display_data",
          "data": {
            "text/plain": [
              "<Figure size 576x482.4 with 1 Axes>"
            ],
            "image/png": "[encoded data removed]"
          },
          "metadata": {
            "needs_background": "light"
          }
        }
      ],
      "source": [
        "shap.summary_plot(shap_vals, X_train, plot_type=\"bar\")"
      ]
    }
  ]
}