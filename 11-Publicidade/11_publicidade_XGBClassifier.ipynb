{
  "nbformat": 4,
  "nbformat_minor": 0,
  "metadata": {
    "colab": {
      "name": "11-publicidade-XGBClassifier.ipynb",
      "provenance": []
    },
    "kernelspec": {
      "name": "python3",
      "display_name": "Python 3"
    },
    "language_info": {
      "name": "python"
    }
  },
  "cells": [
    {
      "cell_type": "markdown",
      "source": [
        "**Sobre o conjunto de dados**\n",
        "Este conjunto de dados contém os seguintes recursos:\n",
        "\n",
        "'Tempo diário gasto no site': tempo do consumidor no site em minutos\n",
        "\n",
        "'Age': idade do cliente em anos\n",
        "\n",
        "'Area Income': Avg. Renda da área geográfica do consumidor\n",
        "\n",
        "'Uso Diário da Internet': Avg. minutos por dia o consumidor está na internet\n",
        "\n",
        "'Ad Topic Line': Título do anúncio\n",
        "\n",
        "'City': Cidade do consumidor\n",
        "\n",
        "'Masculino': Se o consumidor era ou não do sexo masculino\n",
        "\n",
        "'País': País do consumidor\n",
        "\n",
        "'Timestamp': Hora em que consumidor clicou no anúncio ou fechou a janela\n",
        "\n",
        "'Clicou no anúncio': 0 ou 1 indicou clicar no anúncio"
      ],
      "metadata": {
        "id": "uafg7PfpQmad"
      }
    },
    {
      "cell_type": "markdown",
      "source": [
        "# **Importando os dados:**"
      ],
      "metadata": {
        "id": "8VOu8937SV9S"
      }
    },
    {
      "cell_type": "code",
      "execution_count": 334,
      "metadata": {
        "id": "xRWWyQvZKod3"
      },
      "outputs": [],
      "source": [
        "import numpy as np\n",
        "import pandas as pd\n",
        "import seaborn as sns\n",
        "import matplotlib.pyplot as plt\n",
        "from datetime import date, datetime\n",
        "from sklearn.decomposition import PCA\n",
        "from sklearn.pipeline import Pipeline\n",
        "from sklearn.impute import SimpleImputer\n",
        "from xgboost.sklearn import XGBClassifier\n",
        "from sklearn.compose import ColumnTransformer\n",
        "from sklearn.preprocessing import StandardScaler\n",
        "from sklearn.model_selection import train_test_split, StratifiedKFold\n",
        "from sklearn.metrics import make_scorer, recall_score\n",
        "from sklearn.preprocessing import OneHotEncoder, OrdinalEncoder\n",
        "from sklearn.model_selection import GridSearchCV, StratifiedKFold\n",
        "from sklearn.metrics import confusion_matrix, ConfusionMatrixDisplay, classification_report\n",
        "\n",
        "%matplotlib inline\n",
        "\n",
        "# desabilita os warnings\n",
        "import warnings\n",
        "warnings.filterwarnings('ignore')"
      ]
    },
    {
      "cell_type": "code",
      "source": [
        "df = pd.read_csv(\"advertising.csv\")\n",
        "df"
      ],
      "metadata": {
        "colab": {
          "base_uri": "https://localhost:8080/",
          "height": 0
        },
        "id": "OCCHO7UHKsku",
        "outputId": "8f145699-e9d4-4485-b2ee-d933005412ee"
      },
      "execution_count": 335,
      "outputs": [
        {
          "output_type": "execute_result",
          "data": {
            "text/plain": [
              "     Daily Time Spent on Site  Age  Area Income  Daily Internet Usage  \\\n",
              "0                       68.95   35     61833.90                256.09   \n",
              "1                       80.23   31     68441.85                193.77   \n",
              "2                       69.47   26     59785.94                236.50   \n",
              "3                       74.15   29     54806.18                245.89   \n",
              "4                       68.37   35     73889.99                225.58   \n",
              "..                        ...  ...          ...                   ...   \n",
              "995                     72.97   30     71384.57                208.58   \n",
              "996                     51.30   45     67782.17                134.42   \n",
              "997                     51.63   51     42415.72                120.37   \n",
              "998                     55.55   19     41920.79                187.95   \n",
              "999                     45.01   26     29875.80                178.35   \n",
              "\n",
              "                             Ad Topic Line            City  Male  \\\n",
              "0       Cloned 5thgeneration orchestration     Wrightburgh     0   \n",
              "1       Monitored national standardization       West Jodi     1   \n",
              "2         Organic bottom-line service-desk        Davidton     0   \n",
              "3    Triple-buffered reciprocal time-frame  West Terrifurt     1   \n",
              "4            Robust logistical utilization    South Manuel     0   \n",
              "..                                     ...             ...   ...   \n",
              "995          Fundamental modular algorithm       Duffystad     1   \n",
              "996        Grass-roots cohesive monitoring     New Darlene     1   \n",
              "997           Expanded intangible solution   South Jessica     1   \n",
              "998   Proactive bandwidth-monitored policy     West Steven     0   \n",
              "999        Virtual 5thgeneration emulation     Ronniemouth     0   \n",
              "\n",
              "                    Country            Timestamp  Clicked on Ad  \n",
              "0                   Tunisia  2016-03-27 00:53:11              0  \n",
              "1                     Nauru  2016-04-04 01:39:02              0  \n",
              "2                San Marino  2016-03-13 20:35:42              0  \n",
              "3                     Italy  2016-01-10 02:31:19              0  \n",
              "4                   Iceland  2016-06-03 03:36:18              0  \n",
              "..                      ...                  ...            ...  \n",
              "995                 Lebanon  2016-02-11 21:49:00              1  \n",
              "996  Bosnia and Herzegovina  2016-04-22 02:07:01              1  \n",
              "997                Mongolia  2016-02-01 17:24:57              1  \n",
              "998               Guatemala  2016-03-24 02:35:54              0  \n",
              "999                  Brazil  2016-06-03 21:43:21              1  \n",
              "\n",
              "[1000 rows x 10 columns]"
            ],
            "text/html": [
              "\n",
              "  <div id=\"df-d3f2f234-adf1-4170-8a25-591a1ab3779a\">\n",
              "    <div class=\"colab-df-container\">\n",
              "      <div>\n",
              "<style scoped>\n",
              "    .dataframe tbody tr th:only-of-type {\n",
              "        vertical-align: middle;\n",
              "    }\n",
              "\n",
              "    .dataframe tbody tr th {\n",
              "        vertical-align: top;\n",
              "    }\n",
              "\n",
              "    .dataframe thead th {\n",
              "        text-align: right;\n",
              "    }\n",
              "</style>\n",
              "<table border=\"1\" class=\"dataframe\">\n",
              "  <thead>\n",
              "    <tr style=\"text-align: right;\">\n",
              "      <th></th>\n",
              "      <th>Daily Time Spent on Site</th>\n",
              "      <th>Age</th>\n",
              "      <th>Area Income</th>\n",
              "      <th>Daily Internet Usage</th>\n",
              "      <th>Ad Topic Line</th>\n",
              "      <th>City</th>\n",
              "      <th>Male</th>\n",
              "      <th>Country</th>\n",
              "      <th>Timestamp</th>\n",
              "      <th>Clicked on Ad</th>\n",
              "    </tr>\n",
              "  </thead>\n",
              "  <tbody>\n",
              "    <tr>\n",
              "      <th>0</th>\n",
              "      <td>68.95</td>\n",
              "      <td>35</td>\n",
              "      <td>61833.90</td>\n",
              "      <td>256.09</td>\n",
              "      <td>Cloned 5thgeneration orchestration</td>\n",
              "      <td>Wrightburgh</td>\n",
              "      <td>0</td>\n",
              "      <td>Tunisia</td>\n",
              "      <td>2016-03-27 00:53:11</td>\n",
              "      <td>0</td>\n",
              "    </tr>\n",
              "    <tr>\n",
              "      <th>1</th>\n",
              "      <td>80.23</td>\n",
              "      <td>31</td>\n",
              "      <td>68441.85</td>\n",
              "      <td>193.77</td>\n",
              "      <td>Monitored national standardization</td>\n",
              "      <td>West Jodi</td>\n",
              "      <td>1</td>\n",
              "      <td>Nauru</td>\n",
              "      <td>2016-04-04 01:39:02</td>\n",
              "      <td>0</td>\n",
              "    </tr>\n",
              "    <tr>\n",
              "      <th>2</th>\n",
              "      <td>69.47</td>\n",
              "      <td>26</td>\n",
              "      <td>59785.94</td>\n",
              "      <td>236.50</td>\n",
              "      <td>Organic bottom-line service-desk</td>\n",
              "      <td>Davidton</td>\n",
              "      <td>0</td>\n",
              "      <td>San Marino</td>\n",
              "      <td>2016-03-13 20:35:42</td>\n",
              "      <td>0</td>\n",
              "    </tr>\n",
              "    <tr>\n",
              "      <th>3</th>\n",
              "      <td>74.15</td>\n",
              "      <td>29</td>\n",
              "      <td>54806.18</td>\n",
              "      <td>245.89</td>\n",
              "      <td>Triple-buffered reciprocal time-frame</td>\n",
              "      <td>West Terrifurt</td>\n",
              "      <td>1</td>\n",
              "      <td>Italy</td>\n",
              "      <td>2016-01-10 02:31:19</td>\n",
              "      <td>0</td>\n",
              "    </tr>\n",
              "    <tr>\n",
              "      <th>4</th>\n",
              "      <td>68.37</td>\n",
              "      <td>35</td>\n",
              "      <td>73889.99</td>\n",
              "      <td>225.58</td>\n",
              "      <td>Robust logistical utilization</td>\n",
              "      <td>South Manuel</td>\n",
              "      <td>0</td>\n",
              "      <td>Iceland</td>\n",
              "      <td>2016-06-03 03:36:18</td>\n",
              "      <td>0</td>\n",
              "    </tr>\n",
              "    <tr>\n",
              "      <th>...</th>\n",
              "      <td>...</td>\n",
              "      <td>...</td>\n",
              "      <td>...</td>\n",
              "      <td>...</td>\n",
              "      <td>...</td>\n",
              "      <td>...</td>\n",
              "      <td>...</td>\n",
              "      <td>...</td>\n",
              "      <td>...</td>\n",
              "      <td>...</td>\n",
              "    </tr>\n",
              "    <tr>\n",
              "      <th>995</th>\n",
              "      <td>72.97</td>\n",
              "      <td>30</td>\n",
              "      <td>71384.57</td>\n",
              "      <td>208.58</td>\n",
              "      <td>Fundamental modular algorithm</td>\n",
              "      <td>Duffystad</td>\n",
              "      <td>1</td>\n",
              "      <td>Lebanon</td>\n",
              "      <td>2016-02-11 21:49:00</td>\n",
              "      <td>1</td>\n",
              "    </tr>\n",
              "    <tr>\n",
              "      <th>996</th>\n",
              "      <td>51.30</td>\n",
              "      <td>45</td>\n",
              "      <td>67782.17</td>\n",
              "      <td>134.42</td>\n",
              "      <td>Grass-roots cohesive monitoring</td>\n",
              "      <td>New Darlene</td>\n",
              "      <td>1</td>\n",
              "      <td>Bosnia and Herzegovina</td>\n",
              "      <td>2016-04-22 02:07:01</td>\n",
              "      <td>1</td>\n",
              "    </tr>\n",
              "    <tr>\n",
              "      <th>997</th>\n",
              "      <td>51.63</td>\n",
              "      <td>51</td>\n",
              "      <td>42415.72</td>\n",
              "      <td>120.37</td>\n",
              "      <td>Expanded intangible solution</td>\n",
              "      <td>South Jessica</td>\n",
              "      <td>1</td>\n",
              "      <td>Mongolia</td>\n",
              "      <td>2016-02-01 17:24:57</td>\n",
              "      <td>1</td>\n",
              "    </tr>\n",
              "    <tr>\n",
              "      <th>998</th>\n",
              "      <td>55.55</td>\n",
              "      <td>19</td>\n",
              "      <td>41920.79</td>\n",
              "      <td>187.95</td>\n",
              "      <td>Proactive bandwidth-monitored policy</td>\n",
              "      <td>West Steven</td>\n",
              "      <td>0</td>\n",
              "      <td>Guatemala</td>\n",
              "      <td>2016-03-24 02:35:54</td>\n",
              "      <td>0</td>\n",
              "    </tr>\n",
              "    <tr>\n",
              "      <th>999</th>\n",
              "      <td>45.01</td>\n",
              "      <td>26</td>\n",
              "      <td>29875.80</td>\n",
              "      <td>178.35</td>\n",
              "      <td>Virtual 5thgeneration emulation</td>\n",
              "      <td>Ronniemouth</td>\n",
              "      <td>0</td>\n",
              "      <td>Brazil</td>\n",
              "      <td>2016-06-03 21:43:21</td>\n",
              "      <td>1</td>\n",
              "    </tr>\n",
              "  </tbody>\n",
              "</table>\n",
              "<p>1000 rows × 10 columns</p>\n",
              "</div>\n",
              "      <button class=\"colab-df-convert\" onclick=\"convertToInteractive('df-d3f2f234-adf1-4170-8a25-591a1ab3779a')\"\n",
              "              title=\"Convert this dataframe to an interactive table.\"\n",
              "              style=\"display:none;\">\n",
              "        \n",
              "  <svg xmlns=\"http://www.w3.org/2000/svg\" height=\"24px\"viewBox=\"0 0 24 24\"\n",
              "       width=\"24px\">\n",
              "    <path d=\"M0 0h24v24H0V0z\" fill=\"none\"/>\n",
              "    <path d=\"M18.56 5.44l.94 2.06.94-2.06 2.06-.94-2.06-.94-.94-2.06-.94 2.06-2.06.94zm-11 1L8.5 8.5l.94-2.06 2.06-.94-2.06-.94L8.5 2.5l-.94 2.06-2.06.94zm10 10l.94 2.06.94-2.06 2.06-.94-2.06-.94-.94-2.06-.94 2.06-2.06.94z\"/><path d=\"M17.41 7.96l-1.37-1.37c-.4-.4-.92-.59-1.43-.59-.52 0-1.04.2-1.43.59L10.3 9.45l-7.72 7.72c-.78.78-.78 2.05 0 2.83L4 21.41c.39.39.9.59 1.41.59.51 0 1.02-.2 1.41-.59l7.78-7.78 2.81-2.81c.8-.78.8-2.07 0-2.86zM5.41 20L4 18.59l7.72-7.72 1.47 1.35L5.41 20z\"/>\n",
              "  </svg>\n",
              "      </button>\n",
              "      \n",
              "  <style>\n",
              "    .colab-df-container {\n",
              "      display:flex;\n",
              "      flex-wrap:wrap;\n",
              "      gap: 12px;\n",
              "    }\n",
              "\n",
              "    .colab-df-convert {\n",
              "      background-color: #E8F0FE;\n",
              "      border: none;\n",
              "      border-radius: 50%;\n",
              "      cursor: pointer;\n",
              "      display: none;\n",
              "      fill: #1967D2;\n",
              "      height: 32px;\n",
              "      padding: 0 0 0 0;\n",
              "      width: 32px;\n",
              "    }\n",
              "\n",
              "    .colab-df-convert:hover {\n",
              "      background-color: #E2EBFA;\n",
              "      box-shadow: 0px 1px 2px rgba(60, 64, 67, 0.3), 0px 1px 3px 1px rgba(60, 64, 67, 0.15);\n",
              "      fill: #174EA6;\n",
              "    }\n",
              "\n",
              "    [theme=dark] .colab-df-convert {\n",
              "      background-color: #3B4455;\n",
              "      fill: #D2E3FC;\n",
              "    }\n",
              "\n",
              "    [theme=dark] .colab-df-convert:hover {\n",
              "      background-color: #434B5C;\n",
              "      box-shadow: 0px 1px 3px 1px rgba(0, 0, 0, 0.15);\n",
              "      filter: drop-shadow(0px 1px 2px rgba(0, 0, 0, 0.3));\n",
              "      fill: #FFFFFF;\n",
              "    }\n",
              "  </style>\n",
              "\n",
              "      <script>\n",
              "        const buttonEl =\n",
              "          document.querySelector('#df-d3f2f234-adf1-4170-8a25-591a1ab3779a button.colab-df-convert');\n",
              "        buttonEl.style.display =\n",
              "          google.colab.kernel.accessAllowed ? 'block' : 'none';\n",
              "\n",
              "        async function convertToInteractive(key) {\n",
              "          const element = document.querySelector('#df-d3f2f234-adf1-4170-8a25-591a1ab3779a');\n",
              "          const dataTable =\n",
              "            await google.colab.kernel.invokeFunction('convertToInteractive',\n",
              "                                                     [key], {});\n",
              "          if (!dataTable) return;\n",
              "\n",
              "          const docLinkHtml = 'Like what you see? Visit the ' +\n",
              "            '<a target=\"_blank\" href=https://colab.research.google.com/notebooks/data_table.ipynb>data table notebook</a>'\n",
              "            + ' to learn more about interactive tables.';\n",
              "          element.innerHTML = '';\n",
              "          dataTable['output_type'] = 'display_data';\n",
              "          await google.colab.output.renderOutput(dataTable, element);\n",
              "          const docLink = document.createElement('div');\n",
              "          docLink.innerHTML = docLinkHtml;\n",
              "          element.appendChild(docLink);\n",
              "        }\n",
              "      </script>\n",
              "    </div>\n",
              "  </div>\n",
              "  "
            ]
          },
          "metadata": {},
          "execution_count": 335
        }
      ]
    },
    {
      "cell_type": "markdown",
      "source": [
        "**Vamos dividir a coluna de tempo para Data e Hora:**"
      ],
      "metadata": {
        "id": "EHsyeuQ4XbkO"
      }
    },
    {
      "cell_type": "code",
      "source": [
        "lista_tempo = []\n",
        "lista_data = []\n",
        "lista_hora = []\n",
        "for i in range(0, len(df[\"Timestamp\"])):\n",
        "  lista_data.append(df[\"Timestamp\"][i].split(\",\")[0].split(\" \")[0])\n",
        "  lista_hora.append(df[\"Timestamp\"][i].split(\",\")[0].split(\" \")[1])\n",
        "df[\"Date\"] = lista_data\n",
        "df[\"Hour\"] = lista_hora\n",
        "df"
      ],
      "metadata": {
        "colab": {
          "base_uri": "https://localhost:8080/",
          "height": 0
        },
        "id": "iTqvh8gzX7lq",
        "outputId": "be4ee3cf-a33f-4a1e-f65f-54d1eb4b38c7"
      },
      "execution_count": 336,
      "outputs": [
        {
          "output_type": "execute_result",
          "data": {
            "text/plain": [
              "     Daily Time Spent on Site  Age  Area Income  Daily Internet Usage  \\\n",
              "0                       68.95   35     61833.90                256.09   \n",
              "1                       80.23   31     68441.85                193.77   \n",
              "2                       69.47   26     59785.94                236.50   \n",
              "3                       74.15   29     54806.18                245.89   \n",
              "4                       68.37   35     73889.99                225.58   \n",
              "..                        ...  ...          ...                   ...   \n",
              "995                     72.97   30     71384.57                208.58   \n",
              "996                     51.30   45     67782.17                134.42   \n",
              "997                     51.63   51     42415.72                120.37   \n",
              "998                     55.55   19     41920.79                187.95   \n",
              "999                     45.01   26     29875.80                178.35   \n",
              "\n",
              "                             Ad Topic Line            City  Male  \\\n",
              "0       Cloned 5thgeneration orchestration     Wrightburgh     0   \n",
              "1       Monitored national standardization       West Jodi     1   \n",
              "2         Organic bottom-line service-desk        Davidton     0   \n",
              "3    Triple-buffered reciprocal time-frame  West Terrifurt     1   \n",
              "4            Robust logistical utilization    South Manuel     0   \n",
              "..                                     ...             ...   ...   \n",
              "995          Fundamental modular algorithm       Duffystad     1   \n",
              "996        Grass-roots cohesive monitoring     New Darlene     1   \n",
              "997           Expanded intangible solution   South Jessica     1   \n",
              "998   Proactive bandwidth-monitored policy     West Steven     0   \n",
              "999        Virtual 5thgeneration emulation     Ronniemouth     0   \n",
              "\n",
              "                    Country            Timestamp  Clicked on Ad        Date  \\\n",
              "0                   Tunisia  2016-03-27 00:53:11              0  2016-03-27   \n",
              "1                     Nauru  2016-04-04 01:39:02              0  2016-04-04   \n",
              "2                San Marino  2016-03-13 20:35:42              0  2016-03-13   \n",
              "3                     Italy  2016-01-10 02:31:19              0  2016-01-10   \n",
              "4                   Iceland  2016-06-03 03:36:18              0  2016-06-03   \n",
              "..                      ...                  ...            ...         ...   \n",
              "995                 Lebanon  2016-02-11 21:49:00              1  2016-02-11   \n",
              "996  Bosnia and Herzegovina  2016-04-22 02:07:01              1  2016-04-22   \n",
              "997                Mongolia  2016-02-01 17:24:57              1  2016-02-01   \n",
              "998               Guatemala  2016-03-24 02:35:54              0  2016-03-24   \n",
              "999                  Brazil  2016-06-03 21:43:21              1  2016-06-03   \n",
              "\n",
              "         Hour  \n",
              "0    00:53:11  \n",
              "1    01:39:02  \n",
              "2    20:35:42  \n",
              "3    02:31:19  \n",
              "4    03:36:18  \n",
              "..        ...  \n",
              "995  21:49:00  \n",
              "996  02:07:01  \n",
              "997  17:24:57  \n",
              "998  02:35:54  \n",
              "999  21:43:21  \n",
              "\n",
              "[1000 rows x 12 columns]"
            ],
            "text/html": [
              "\n",
              "  <div id=\"df-af2d71e5-bc64-4ba4-a4ef-0866b12c5be7\">\n",
              "    <div class=\"colab-df-container\">\n",
              "      <div>\n",
              "<style scoped>\n",
              "    .dataframe tbody tr th:only-of-type {\n",
              "        vertical-align: middle;\n",
              "    }\n",
              "\n",
              "    .dataframe tbody tr th {\n",
              "        vertical-align: top;\n",
              "    }\n",
              "\n",
              "    .dataframe thead th {\n",
              "        text-align: right;\n",
              "    }\n",
              "</style>\n",
              "<table border=\"1\" class=\"dataframe\">\n",
              "  <thead>\n",
              "    <tr style=\"text-align: right;\">\n",
              "      <th></th>\n",
              "      <th>Daily Time Spent on Site</th>\n",
              "      <th>Age</th>\n",
              "      <th>Area Income</th>\n",
              "      <th>Daily Internet Usage</th>\n",
              "      <th>Ad Topic Line</th>\n",
              "      <th>City</th>\n",
              "      <th>Male</th>\n",
              "      <th>Country</th>\n",
              "      <th>Timestamp</th>\n",
              "      <th>Clicked on Ad</th>\n",
              "      <th>Date</th>\n",
              "      <th>Hour</th>\n",
              "    </tr>\n",
              "  </thead>\n",
              "  <tbody>\n",
              "    <tr>\n",
              "      <th>0</th>\n",
              "      <td>68.95</td>\n",
              "      <td>35</td>\n",
              "      <td>61833.90</td>\n",
              "      <td>256.09</td>\n",
              "      <td>Cloned 5thgeneration orchestration</td>\n",
              "      <td>Wrightburgh</td>\n",
              "      <td>0</td>\n",
              "      <td>Tunisia</td>\n",
              "      <td>2016-03-27 00:53:11</td>\n",
              "      <td>0</td>\n",
              "      <td>2016-03-27</td>\n",
              "      <td>00:53:11</td>\n",
              "    </tr>\n",
              "    <tr>\n",
              "      <th>1</th>\n",
              "      <td>80.23</td>\n",
              "      <td>31</td>\n",
              "      <td>68441.85</td>\n",
              "      <td>193.77</td>\n",
              "      <td>Monitored national standardization</td>\n",
              "      <td>West Jodi</td>\n",
              "      <td>1</td>\n",
              "      <td>Nauru</td>\n",
              "      <td>2016-04-04 01:39:02</td>\n",
              "      <td>0</td>\n",
              "      <td>2016-04-04</td>\n",
              "      <td>01:39:02</td>\n",
              "    </tr>\n",
              "    <tr>\n",
              "      <th>2</th>\n",
              "      <td>69.47</td>\n",
              "      <td>26</td>\n",
              "      <td>59785.94</td>\n",
              "      <td>236.50</td>\n",
              "      <td>Organic bottom-line service-desk</td>\n",
              "      <td>Davidton</td>\n",
              "      <td>0</td>\n",
              "      <td>San Marino</td>\n",
              "      <td>2016-03-13 20:35:42</td>\n",
              "      <td>0</td>\n",
              "      <td>2016-03-13</td>\n",
              "      <td>20:35:42</td>\n",
              "    </tr>\n",
              "    <tr>\n",
              "      <th>3</th>\n",
              "      <td>74.15</td>\n",
              "      <td>29</td>\n",
              "      <td>54806.18</td>\n",
              "      <td>245.89</td>\n",
              "      <td>Triple-buffered reciprocal time-frame</td>\n",
              "      <td>West Terrifurt</td>\n",
              "      <td>1</td>\n",
              "      <td>Italy</td>\n",
              "      <td>2016-01-10 02:31:19</td>\n",
              "      <td>0</td>\n",
              "      <td>2016-01-10</td>\n",
              "      <td>02:31:19</td>\n",
              "    </tr>\n",
              "    <tr>\n",
              "      <th>4</th>\n",
              "      <td>68.37</td>\n",
              "      <td>35</td>\n",
              "      <td>73889.99</td>\n",
              "      <td>225.58</td>\n",
              "      <td>Robust logistical utilization</td>\n",
              "      <td>South Manuel</td>\n",
              "      <td>0</td>\n",
              "      <td>Iceland</td>\n",
              "      <td>2016-06-03 03:36:18</td>\n",
              "      <td>0</td>\n",
              "      <td>2016-06-03</td>\n",
              "      <td>03:36:18</td>\n",
              "    </tr>\n",
              "    <tr>\n",
              "      <th>...</th>\n",
              "      <td>...</td>\n",
              "      <td>...</td>\n",
              "      <td>...</td>\n",
              "      <td>...</td>\n",
              "      <td>...</td>\n",
              "      <td>...</td>\n",
              "      <td>...</td>\n",
              "      <td>...</td>\n",
              "      <td>...</td>\n",
              "      <td>...</td>\n",
              "      <td>...</td>\n",
              "      <td>...</td>\n",
              "    </tr>\n",
              "    <tr>\n",
              "      <th>995</th>\n",
              "      <td>72.97</td>\n",
              "      <td>30</td>\n",
              "      <td>71384.57</td>\n",
              "      <td>208.58</td>\n",
              "      <td>Fundamental modular algorithm</td>\n",
              "      <td>Duffystad</td>\n",
              "      <td>1</td>\n",
              "      <td>Lebanon</td>\n",
              "      <td>2016-02-11 21:49:00</td>\n",
              "      <td>1</td>\n",
              "      <td>2016-02-11</td>\n",
              "      <td>21:49:00</td>\n",
              "    </tr>\n",
              "    <tr>\n",
              "      <th>996</th>\n",
              "      <td>51.30</td>\n",
              "      <td>45</td>\n",
              "      <td>67782.17</td>\n",
              "      <td>134.42</td>\n",
              "      <td>Grass-roots cohesive monitoring</td>\n",
              "      <td>New Darlene</td>\n",
              "      <td>1</td>\n",
              "      <td>Bosnia and Herzegovina</td>\n",
              "      <td>2016-04-22 02:07:01</td>\n",
              "      <td>1</td>\n",
              "      <td>2016-04-22</td>\n",
              "      <td>02:07:01</td>\n",
              "    </tr>\n",
              "    <tr>\n",
              "      <th>997</th>\n",
              "      <td>51.63</td>\n",
              "      <td>51</td>\n",
              "      <td>42415.72</td>\n",
              "      <td>120.37</td>\n",
              "      <td>Expanded intangible solution</td>\n",
              "      <td>South Jessica</td>\n",
              "      <td>1</td>\n",
              "      <td>Mongolia</td>\n",
              "      <td>2016-02-01 17:24:57</td>\n",
              "      <td>1</td>\n",
              "      <td>2016-02-01</td>\n",
              "      <td>17:24:57</td>\n",
              "    </tr>\n",
              "    <tr>\n",
              "      <th>998</th>\n",
              "      <td>55.55</td>\n",
              "      <td>19</td>\n",
              "      <td>41920.79</td>\n",
              "      <td>187.95</td>\n",
              "      <td>Proactive bandwidth-monitored policy</td>\n",
              "      <td>West Steven</td>\n",
              "      <td>0</td>\n",
              "      <td>Guatemala</td>\n",
              "      <td>2016-03-24 02:35:54</td>\n",
              "      <td>0</td>\n",
              "      <td>2016-03-24</td>\n",
              "      <td>02:35:54</td>\n",
              "    </tr>\n",
              "    <tr>\n",
              "      <th>999</th>\n",
              "      <td>45.01</td>\n",
              "      <td>26</td>\n",
              "      <td>29875.80</td>\n",
              "      <td>178.35</td>\n",
              "      <td>Virtual 5thgeneration emulation</td>\n",
              "      <td>Ronniemouth</td>\n",
              "      <td>0</td>\n",
              "      <td>Brazil</td>\n",
              "      <td>2016-06-03 21:43:21</td>\n",
              "      <td>1</td>\n",
              "      <td>2016-06-03</td>\n",
              "      <td>21:43:21</td>\n",
              "    </tr>\n",
              "  </tbody>\n",
              "</table>\n",
              "<p>1000 rows × 12 columns</p>\n",
              "</div>\n",
              "      <button class=\"colab-df-convert\" onclick=\"convertToInteractive('df-af2d71e5-bc64-4ba4-a4ef-0866b12c5be7')\"\n",
              "              title=\"Convert this dataframe to an interactive table.\"\n",
              "              style=\"display:none;\">\n",
              "        \n",
              "  <svg xmlns=\"http://www.w3.org/2000/svg\" height=\"24px\"viewBox=\"0 0 24 24\"\n",
              "       width=\"24px\">\n",
              "    <path d=\"M0 0h24v24H0V0z\" fill=\"none\"/>\n",
              "    <path d=\"M18.56 5.44l.94 2.06.94-2.06 2.06-.94-2.06-.94-.94-2.06-.94 2.06-2.06.94zm-11 1L8.5 8.5l.94-2.06 2.06-.94-2.06-.94L8.5 2.5l-.94 2.06-2.06.94zm10 10l.94 2.06.94-2.06 2.06-.94-2.06-.94-.94-2.06-.94 2.06-2.06.94z\"/><path d=\"M17.41 7.96l-1.37-1.37c-.4-.4-.92-.59-1.43-.59-.52 0-1.04.2-1.43.59L10.3 9.45l-7.72 7.72c-.78.78-.78 2.05 0 2.83L4 21.41c.39.39.9.59 1.41.59.51 0 1.02-.2 1.41-.59l7.78-7.78 2.81-2.81c.8-.78.8-2.07 0-2.86zM5.41 20L4 18.59l7.72-7.72 1.47 1.35L5.41 20z\"/>\n",
              "  </svg>\n",
              "      </button>\n",
              "      \n",
              "  <style>\n",
              "    .colab-df-container {\n",
              "      display:flex;\n",
              "      flex-wrap:wrap;\n",
              "      gap: 12px;\n",
              "    }\n",
              "\n",
              "    .colab-df-convert {\n",
              "      background-color: #E8F0FE;\n",
              "      border: none;\n",
              "      border-radius: 50%;\n",
              "      cursor: pointer;\n",
              "      display: none;\n",
              "      fill: #1967D2;\n",
              "      height: 32px;\n",
              "      padding: 0 0 0 0;\n",
              "      width: 32px;\n",
              "    }\n",
              "\n",
              "    .colab-df-convert:hover {\n",
              "      background-color: #E2EBFA;\n",
              "      box-shadow: 0px 1px 2px rgba(60, 64, 67, 0.3), 0px 1px 3px 1px rgba(60, 64, 67, 0.15);\n",
              "      fill: #174EA6;\n",
              "    }\n",
              "\n",
              "    [theme=dark] .colab-df-convert {\n",
              "      background-color: #3B4455;\n",
              "      fill: #D2E3FC;\n",
              "    }\n",
              "\n",
              "    [theme=dark] .colab-df-convert:hover {\n",
              "      background-color: #434B5C;\n",
              "      box-shadow: 0px 1px 3px 1px rgba(0, 0, 0, 0.15);\n",
              "      filter: drop-shadow(0px 1px 2px rgba(0, 0, 0, 0.3));\n",
              "      fill: #FFFFFF;\n",
              "    }\n",
              "  </style>\n",
              "\n",
              "      <script>\n",
              "        const buttonEl =\n",
              "          document.querySelector('#df-af2d71e5-bc64-4ba4-a4ef-0866b12c5be7 button.colab-df-convert');\n",
              "        buttonEl.style.display =\n",
              "          google.colab.kernel.accessAllowed ? 'block' : 'none';\n",
              "\n",
              "        async function convertToInteractive(key) {\n",
              "          const element = document.querySelector('#df-af2d71e5-bc64-4ba4-a4ef-0866b12c5be7');\n",
              "          const dataTable =\n",
              "            await google.colab.kernel.invokeFunction('convertToInteractive',\n",
              "                                                     [key], {});\n",
              "          if (!dataTable) return;\n",
              "\n",
              "          const docLinkHtml = 'Like what you see? Visit the ' +\n",
              "            '<a target=\"_blank\" href=https://colab.research.google.com/notebooks/data_table.ipynb>data table notebook</a>'\n",
              "            + ' to learn more about interactive tables.';\n",
              "          element.innerHTML = '';\n",
              "          dataTable['output_type'] = 'display_data';\n",
              "          await google.colab.output.renderOutput(dataTable, element);\n",
              "          const docLink = document.createElement('div');\n",
              "          docLink.innerHTML = docLinkHtml;\n",
              "          element.appendChild(docLink);\n",
              "        }\n",
              "      </script>\n",
              "    </div>\n",
              "  </div>\n",
              "  "
            ]
          },
          "metadata": {},
          "execution_count": 336
        }
      ]
    },
    {
      "cell_type": "markdown",
      "source": [
        "**Vamos transformar todas as colunas que contenham data em datetime:**"
      ],
      "metadata": {
        "id": "ksDLHufwkGdR"
      }
    },
    {
      "cell_type": "code",
      "source": [
        "df[\"Date\"] = pd.to_datetime(df[\"Date\"])\n",
        "df[\"Hour\"] = pd.to_datetime(df[\"Hour\"])\n",
        "df[\"Timestamp\"] = pd.to_datetime(df[\"Timestamp\"])"
      ],
      "metadata": {
        "id": "9f0o_Vrxhusq"
      },
      "execution_count": 337,
      "outputs": []
    },
    {
      "cell_type": "code",
      "source": [
        "df.dtypes"
      ],
      "metadata": {
        "colab": {
          "base_uri": "https://localhost:8080/"
        },
        "id": "tQZEtS9ChMfL",
        "outputId": "10c69dcf-104a-40e7-c046-c2c3f592104a"
      },
      "execution_count": 338,
      "outputs": [
        {
          "output_type": "execute_result",
          "data": {
            "text/plain": [
              "Daily Time Spent on Site           float64\n",
              "Age                                  int64\n",
              "Area Income                        float64\n",
              "Daily Internet Usage               float64\n",
              "Ad Topic Line                       object\n",
              "City                                object\n",
              "Male                                 int64\n",
              "Country                             object\n",
              "Timestamp                   datetime64[ns]\n",
              "Clicked on Ad                        int64\n",
              "Date                        datetime64[ns]\n",
              "Hour                        datetime64[ns]\n",
              "dtype: object"
            ]
          },
          "metadata": {},
          "execution_count": 338
        }
      ]
    },
    {
      "cell_type": "markdown",
      "source": [
        "Percebe-se que não há dados nulos"
      ],
      "metadata": {
        "id": "B7eOAJBjSExk"
      }
    },
    {
      "cell_type": "code",
      "source": [
        "df.info()"
      ],
      "metadata": {
        "colab": {
          "base_uri": "https://localhost:8080/"
        },
        "id": "dwRNGcrqOgMZ",
        "outputId": "c44e9838-d17c-4afa-9b64-7e02a03b5a4c"
      },
      "execution_count": 339,
      "outputs": [
        {
          "output_type": "stream",
          "name": "stdout",
          "text": [
            "<class 'pandas.core.frame.DataFrame'>\n",
            "RangeIndex: 1000 entries, 0 to 999\n",
            "Data columns (total 12 columns):\n",
            " #   Column                    Non-Null Count  Dtype         \n",
            "---  ------                    --------------  -----         \n",
            " 0   Daily Time Spent on Site  1000 non-null   float64       \n",
            " 1   Age                       1000 non-null   int64         \n",
            " 2   Area Income               1000 non-null   float64       \n",
            " 3   Daily Internet Usage      1000 non-null   float64       \n",
            " 4   Ad Topic Line             1000 non-null   object        \n",
            " 5   City                      1000 non-null   object        \n",
            " 6   Male                      1000 non-null   int64         \n",
            " 7   Country                   1000 non-null   object        \n",
            " 8   Timestamp                 1000 non-null   datetime64[ns]\n",
            " 9   Clicked on Ad             1000 non-null   int64         \n",
            " 10  Date                      1000 non-null   datetime64[ns]\n",
            " 11  Hour                      1000 non-null   datetime64[ns]\n",
            "dtypes: datetime64[ns](3), float64(3), int64(3), object(3)\n",
            "memory usage: 93.9+ KB\n"
          ]
        }
      ]
    },
    {
      "cell_type": "code",
      "source": [
        "df.describe()"
      ],
      "metadata": {
        "colab": {
          "base_uri": "https://localhost:8080/",
          "height": 0
        },
        "id": "qdU_kUIBOiCg",
        "outputId": "b6240504-2222-4057-e630-6b28c6bb0e77"
      },
      "execution_count": 340,
      "outputs": [
        {
          "output_type": "execute_result",
          "data": {
            "text/plain": [
              "       Daily Time Spent on Site          Age   Area Income  \\\n",
              "count               1000.000000  1000.000000   1000.000000   \n",
              "mean                  65.000200    36.009000  55000.000080   \n",
              "std                   15.853615     8.785562  13414.634022   \n",
              "min                   32.600000    19.000000  13996.500000   \n",
              "25%                   51.360000    29.000000  47031.802500   \n",
              "50%                   68.215000    35.000000  57012.300000   \n",
              "75%                   78.547500    42.000000  65470.635000   \n",
              "max                   91.430000    61.000000  79484.800000   \n",
              "\n",
              "       Daily Internet Usage         Male  Clicked on Ad  \n",
              "count           1000.000000  1000.000000     1000.00000  \n",
              "mean             180.000100     0.481000        0.50000  \n",
              "std               43.902339     0.499889        0.50025  \n",
              "min              104.780000     0.000000        0.00000  \n",
              "25%              138.830000     0.000000        0.00000  \n",
              "50%              183.130000     0.000000        0.50000  \n",
              "75%              218.792500     1.000000        1.00000  \n",
              "max              269.960000     1.000000        1.00000  "
            ],
            "text/html": [
              "\n",
              "  <div id=\"df-915ba661-1f00-44a0-98c8-40dd66a76b1d\">\n",
              "    <div class=\"colab-df-container\">\n",
              "      <div>\n",
              "<style scoped>\n",
              "    .dataframe tbody tr th:only-of-type {\n",
              "        vertical-align: middle;\n",
              "    }\n",
              "\n",
              "    .dataframe tbody tr th {\n",
              "        vertical-align: top;\n",
              "    }\n",
              "\n",
              "    .dataframe thead th {\n",
              "        text-align: right;\n",
              "    }\n",
              "</style>\n",
              "<table border=\"1\" class=\"dataframe\">\n",
              "  <thead>\n",
              "    <tr style=\"text-align: right;\">\n",
              "      <th></th>\n",
              "      <th>Daily Time Spent on Site</th>\n",
              "      <th>Age</th>\n",
              "      <th>Area Income</th>\n",
              "      <th>Daily Internet Usage</th>\n",
              "      <th>Male</th>\n",
              "      <th>Clicked on Ad</th>\n",
              "    </tr>\n",
              "  </thead>\n",
              "  <tbody>\n",
              "    <tr>\n",
              "      <th>count</th>\n",
              "      <td>1000.000000</td>\n",
              "      <td>1000.000000</td>\n",
              "      <td>1000.000000</td>\n",
              "      <td>1000.000000</td>\n",
              "      <td>1000.000000</td>\n",
              "      <td>1000.00000</td>\n",
              "    </tr>\n",
              "    <tr>\n",
              "      <th>mean</th>\n",
              "      <td>65.000200</td>\n",
              "      <td>36.009000</td>\n",
              "      <td>55000.000080</td>\n",
              "      <td>180.000100</td>\n",
              "      <td>0.481000</td>\n",
              "      <td>0.50000</td>\n",
              "    </tr>\n",
              "    <tr>\n",
              "      <th>std</th>\n",
              "      <td>15.853615</td>\n",
              "      <td>8.785562</td>\n",
              "      <td>13414.634022</td>\n",
              "      <td>43.902339</td>\n",
              "      <td>0.499889</td>\n",
              "      <td>0.50025</td>\n",
              "    </tr>\n",
              "    <tr>\n",
              "      <th>min</th>\n",
              "      <td>32.600000</td>\n",
              "      <td>19.000000</td>\n",
              "      <td>13996.500000</td>\n",
              "      <td>104.780000</td>\n",
              "      <td>0.000000</td>\n",
              "      <td>0.00000</td>\n",
              "    </tr>\n",
              "    <tr>\n",
              "      <th>25%</th>\n",
              "      <td>51.360000</td>\n",
              "      <td>29.000000</td>\n",
              "      <td>47031.802500</td>\n",
              "      <td>138.830000</td>\n",
              "      <td>0.000000</td>\n",
              "      <td>0.00000</td>\n",
              "    </tr>\n",
              "    <tr>\n",
              "      <th>50%</th>\n",
              "      <td>68.215000</td>\n",
              "      <td>35.000000</td>\n",
              "      <td>57012.300000</td>\n",
              "      <td>183.130000</td>\n",
              "      <td>0.000000</td>\n",
              "      <td>0.50000</td>\n",
              "    </tr>\n",
              "    <tr>\n",
              "      <th>75%</th>\n",
              "      <td>78.547500</td>\n",
              "      <td>42.000000</td>\n",
              "      <td>65470.635000</td>\n",
              "      <td>218.792500</td>\n",
              "      <td>1.000000</td>\n",
              "      <td>1.00000</td>\n",
              "    </tr>\n",
              "    <tr>\n",
              "      <th>max</th>\n",
              "      <td>91.430000</td>\n",
              "      <td>61.000000</td>\n",
              "      <td>79484.800000</td>\n",
              "      <td>269.960000</td>\n",
              "      <td>1.000000</td>\n",
              "      <td>1.00000</td>\n",
              "    </tr>\n",
              "  </tbody>\n",
              "</table>\n",
              "</div>\n",
              "      <button class=\"colab-df-convert\" onclick=\"convertToInteractive('df-915ba661-1f00-44a0-98c8-40dd66a76b1d')\"\n",
              "              title=\"Convert this dataframe to an interactive table.\"\n",
              "              style=\"display:none;\">\n",
              "        \n",
              "  <svg xmlns=\"http://www.w3.org/2000/svg\" height=\"24px\"viewBox=\"0 0 24 24\"\n",
              "       width=\"24px\">\n",
              "    <path d=\"M0 0h24v24H0V0z\" fill=\"none\"/>\n",
              "    <path d=\"M18.56 5.44l.94 2.06.94-2.06 2.06-.94-2.06-.94-.94-2.06-.94 2.06-2.06.94zm-11 1L8.5 8.5l.94-2.06 2.06-.94-2.06-.94L8.5 2.5l-.94 2.06-2.06.94zm10 10l.94 2.06.94-2.06 2.06-.94-2.06-.94-.94-2.06-.94 2.06-2.06.94z\"/><path d=\"M17.41 7.96l-1.37-1.37c-.4-.4-.92-.59-1.43-.59-.52 0-1.04.2-1.43.59L10.3 9.45l-7.72 7.72c-.78.78-.78 2.05 0 2.83L4 21.41c.39.39.9.59 1.41.59.51 0 1.02-.2 1.41-.59l7.78-7.78 2.81-2.81c.8-.78.8-2.07 0-2.86zM5.41 20L4 18.59l7.72-7.72 1.47 1.35L5.41 20z\"/>\n",
              "  </svg>\n",
              "      </button>\n",
              "      \n",
              "  <style>\n",
              "    .colab-df-container {\n",
              "      display:flex;\n",
              "      flex-wrap:wrap;\n",
              "      gap: 12px;\n",
              "    }\n",
              "\n",
              "    .colab-df-convert {\n",
              "      background-color: #E8F0FE;\n",
              "      border: none;\n",
              "      border-radius: 50%;\n",
              "      cursor: pointer;\n",
              "      display: none;\n",
              "      fill: #1967D2;\n",
              "      height: 32px;\n",
              "      padding: 0 0 0 0;\n",
              "      width: 32px;\n",
              "    }\n",
              "\n",
              "    .colab-df-convert:hover {\n",
              "      background-color: #E2EBFA;\n",
              "      box-shadow: 0px 1px 2px rgba(60, 64, 67, 0.3), 0px 1px 3px 1px rgba(60, 64, 67, 0.15);\n",
              "      fill: #174EA6;\n",
              "    }\n",
              "\n",
              "    [theme=dark] .colab-df-convert {\n",
              "      background-color: #3B4455;\n",
              "      fill: #D2E3FC;\n",
              "    }\n",
              "\n",
              "    [theme=dark] .colab-df-convert:hover {\n",
              "      background-color: #434B5C;\n",
              "      box-shadow: 0px 1px 3px 1px rgba(0, 0, 0, 0.15);\n",
              "      filter: drop-shadow(0px 1px 2px rgba(0, 0, 0, 0.3));\n",
              "      fill: #FFFFFF;\n",
              "    }\n",
              "  </style>\n",
              "\n",
              "      <script>\n",
              "        const buttonEl =\n",
              "          document.querySelector('#df-915ba661-1f00-44a0-98c8-40dd66a76b1d button.colab-df-convert');\n",
              "        buttonEl.style.display =\n",
              "          google.colab.kernel.accessAllowed ? 'block' : 'none';\n",
              "\n",
              "        async function convertToInteractive(key) {\n",
              "          const element = document.querySelector('#df-915ba661-1f00-44a0-98c8-40dd66a76b1d');\n",
              "          const dataTable =\n",
              "            await google.colab.kernel.invokeFunction('convertToInteractive',\n",
              "                                                     [key], {});\n",
              "          if (!dataTable) return;\n",
              "\n",
              "          const docLinkHtml = 'Like what you see? Visit the ' +\n",
              "            '<a target=\"_blank\" href=https://colab.research.google.com/notebooks/data_table.ipynb>data table notebook</a>'\n",
              "            + ' to learn more about interactive tables.';\n",
              "          element.innerHTML = '';\n",
              "          dataTable['output_type'] = 'display_data';\n",
              "          await google.colab.output.renderOutput(dataTable, element);\n",
              "          const docLink = document.createElement('div');\n",
              "          docLink.innerHTML = docLinkHtml;\n",
              "          element.appendChild(docLink);\n",
              "        }\n",
              "      </script>\n",
              "    </div>\n",
              "  </div>\n",
              "  "
            ]
          },
          "metadata": {},
          "execution_count": 340
        }
      ]
    },
    {
      "cell_type": "code",
      "source": [
        "df.corr()"
      ],
      "metadata": {
        "colab": {
          "base_uri": "https://localhost:8080/",
          "height": 0
        },
        "id": "shfeVq9cSpR1",
        "outputId": "9898e5d6-f47d-493e-99ba-bd71eb573119"
      },
      "execution_count": 341,
      "outputs": [
        {
          "output_type": "execute_result",
          "data": {
            "text/plain": [
              "                          Daily Time Spent on Site       Age  Area Income  \\\n",
              "Daily Time Spent on Site                  1.000000 -0.331513     0.310954   \n",
              "Age                                      -0.331513  1.000000    -0.182605   \n",
              "Area Income                               0.310954 -0.182605     1.000000   \n",
              "Daily Internet Usage                      0.518658 -0.367209     0.337496   \n",
              "Male                                     -0.018951 -0.021044     0.001322   \n",
              "Clicked on Ad                            -0.748117  0.492531    -0.476255   \n",
              "\n",
              "                          Daily Internet Usage      Male  Clicked on Ad  \n",
              "Daily Time Spent on Site              0.518658 -0.018951      -0.748117  \n",
              "Age                                  -0.367209 -0.021044       0.492531  \n",
              "Area Income                           0.337496  0.001322      -0.476255  \n",
              "Daily Internet Usage                  1.000000  0.028012      -0.786539  \n",
              "Male                                  0.028012  1.000000      -0.038027  \n",
              "Clicked on Ad                        -0.786539 -0.038027       1.000000  "
            ],
            "text/html": [
              "\n",
              "  <div id=\"df-b129a86f-5f1d-4844-8407-f735ea33db05\">\n",
              "    <div class=\"colab-df-container\">\n",
              "      <div>\n",
              "<style scoped>\n",
              "    .dataframe tbody tr th:only-of-type {\n",
              "        vertical-align: middle;\n",
              "    }\n",
              "\n",
              "    .dataframe tbody tr th {\n",
              "        vertical-align: top;\n",
              "    }\n",
              "\n",
              "    .dataframe thead th {\n",
              "        text-align: right;\n",
              "    }\n",
              "</style>\n",
              "<table border=\"1\" class=\"dataframe\">\n",
              "  <thead>\n",
              "    <tr style=\"text-align: right;\">\n",
              "      <th></th>\n",
              "      <th>Daily Time Spent on Site</th>\n",
              "      <th>Age</th>\n",
              "      <th>Area Income</th>\n",
              "      <th>Daily Internet Usage</th>\n",
              "      <th>Male</th>\n",
              "      <th>Clicked on Ad</th>\n",
              "    </tr>\n",
              "  </thead>\n",
              "  <tbody>\n",
              "    <tr>\n",
              "      <th>Daily Time Spent on Site</th>\n",
              "      <td>1.000000</td>\n",
              "      <td>-0.331513</td>\n",
              "      <td>0.310954</td>\n",
              "      <td>0.518658</td>\n",
              "      <td>-0.018951</td>\n",
              "      <td>-0.748117</td>\n",
              "    </tr>\n",
              "    <tr>\n",
              "      <th>Age</th>\n",
              "      <td>-0.331513</td>\n",
              "      <td>1.000000</td>\n",
              "      <td>-0.182605</td>\n",
              "      <td>-0.367209</td>\n",
              "      <td>-0.021044</td>\n",
              "      <td>0.492531</td>\n",
              "    </tr>\n",
              "    <tr>\n",
              "      <th>Area Income</th>\n",
              "      <td>0.310954</td>\n",
              "      <td>-0.182605</td>\n",
              "      <td>1.000000</td>\n",
              "      <td>0.337496</td>\n",
              "      <td>0.001322</td>\n",
              "      <td>-0.476255</td>\n",
              "    </tr>\n",
              "    <tr>\n",
              "      <th>Daily Internet Usage</th>\n",
              "      <td>0.518658</td>\n",
              "      <td>-0.367209</td>\n",
              "      <td>0.337496</td>\n",
              "      <td>1.000000</td>\n",
              "      <td>0.028012</td>\n",
              "      <td>-0.786539</td>\n",
              "    </tr>\n",
              "    <tr>\n",
              "      <th>Male</th>\n",
              "      <td>-0.018951</td>\n",
              "      <td>-0.021044</td>\n",
              "      <td>0.001322</td>\n",
              "      <td>0.028012</td>\n",
              "      <td>1.000000</td>\n",
              "      <td>-0.038027</td>\n",
              "    </tr>\n",
              "    <tr>\n",
              "      <th>Clicked on Ad</th>\n",
              "      <td>-0.748117</td>\n",
              "      <td>0.492531</td>\n",
              "      <td>-0.476255</td>\n",
              "      <td>-0.786539</td>\n",
              "      <td>-0.038027</td>\n",
              "      <td>1.000000</td>\n",
              "    </tr>\n",
              "  </tbody>\n",
              "</table>\n",
              "</div>\n",
              "      <button class=\"colab-df-convert\" onclick=\"convertToInteractive('df-b129a86f-5f1d-4844-8407-f735ea33db05')\"\n",
              "              title=\"Convert this dataframe to an interactive table.\"\n",
              "              style=\"display:none;\">\n",
              "        \n",
              "  <svg xmlns=\"http://www.w3.org/2000/svg\" height=\"24px\"viewBox=\"0 0 24 24\"\n",
              "       width=\"24px\">\n",
              "    <path d=\"M0 0h24v24H0V0z\" fill=\"none\"/>\n",
              "    <path d=\"M18.56 5.44l.94 2.06.94-2.06 2.06-.94-2.06-.94-.94-2.06-.94 2.06-2.06.94zm-11 1L8.5 8.5l.94-2.06 2.06-.94-2.06-.94L8.5 2.5l-.94 2.06-2.06.94zm10 10l.94 2.06.94-2.06 2.06-.94-2.06-.94-.94-2.06-.94 2.06-2.06.94z\"/><path d=\"M17.41 7.96l-1.37-1.37c-.4-.4-.92-.59-1.43-.59-.52 0-1.04.2-1.43.59L10.3 9.45l-7.72 7.72c-.78.78-.78 2.05 0 2.83L4 21.41c.39.39.9.59 1.41.59.51 0 1.02-.2 1.41-.59l7.78-7.78 2.81-2.81c.8-.78.8-2.07 0-2.86zM5.41 20L4 18.59l7.72-7.72 1.47 1.35L5.41 20z\"/>\n",
              "  </svg>\n",
              "      </button>\n",
              "      \n",
              "  <style>\n",
              "    .colab-df-container {\n",
              "      display:flex;\n",
              "      flex-wrap:wrap;\n",
              "      gap: 12px;\n",
              "    }\n",
              "\n",
              "    .colab-df-convert {\n",
              "      background-color: #E8F0FE;\n",
              "      border: none;\n",
              "      border-radius: 50%;\n",
              "      cursor: pointer;\n",
              "      display: none;\n",
              "      fill: #1967D2;\n",
              "      height: 32px;\n",
              "      padding: 0 0 0 0;\n",
              "      width: 32px;\n",
              "    }\n",
              "\n",
              "    .colab-df-convert:hover {\n",
              "      background-color: #E2EBFA;\n",
              "      box-shadow: 0px 1px 2px rgba(60, 64, 67, 0.3), 0px 1px 3px 1px rgba(60, 64, 67, 0.15);\n",
              "      fill: #174EA6;\n",
              "    }\n",
              "\n",
              "    [theme=dark] .colab-df-convert {\n",
              "      background-color: #3B4455;\n",
              "      fill: #D2E3FC;\n",
              "    }\n",
              "\n",
              "    [theme=dark] .colab-df-convert:hover {\n",
              "      background-color: #434B5C;\n",
              "      box-shadow: 0px 1px 3px 1px rgba(0, 0, 0, 0.15);\n",
              "      filter: drop-shadow(0px 1px 2px rgba(0, 0, 0, 0.3));\n",
              "      fill: #FFFFFF;\n",
              "    }\n",
              "  </style>\n",
              "\n",
              "      <script>\n",
              "        const buttonEl =\n",
              "          document.querySelector('#df-b129a86f-5f1d-4844-8407-f735ea33db05 button.colab-df-convert');\n",
              "        buttonEl.style.display =\n",
              "          google.colab.kernel.accessAllowed ? 'block' : 'none';\n",
              "\n",
              "        async function convertToInteractive(key) {\n",
              "          const element = document.querySelector('#df-b129a86f-5f1d-4844-8407-f735ea33db05');\n",
              "          const dataTable =\n",
              "            await google.colab.kernel.invokeFunction('convertToInteractive',\n",
              "                                                     [key], {});\n",
              "          if (!dataTable) return;\n",
              "\n",
              "          const docLinkHtml = 'Like what you see? Visit the ' +\n",
              "            '<a target=\"_blank\" href=https://colab.research.google.com/notebooks/data_table.ipynb>data table notebook</a>'\n",
              "            + ' to learn more about interactive tables.';\n",
              "          element.innerHTML = '';\n",
              "          dataTable['output_type'] = 'display_data';\n",
              "          await google.colab.output.renderOutput(dataTable, element);\n",
              "          const docLink = document.createElement('div');\n",
              "          docLink.innerHTML = docLinkHtml;\n",
              "          element.appendChild(docLink);\n",
              "        }\n",
              "      </script>\n",
              "    </div>\n",
              "  </div>\n",
              "  "
            ]
          },
          "metadata": {},
          "execution_count": 341
        }
      ]
    },
    {
      "cell_type": "code",
      "source": [
        "sns.heatmap(df.corr(), annot=True);"
      ],
      "metadata": {
        "colab": {
          "base_uri": "https://localhost:8080/",
          "height": 0
        },
        "id": "3iIIsIV1SLJs",
        "outputId": "7b652a50-c0d3-47fe-acc7-5c984e16b6d5"
      },
      "execution_count": 342,
      "outputs": [
        {
          "output_type": "display_data",
          "data": {
            "text/plain": [
              "<Figure size 432x288 with 2 Axes>"
            ],
            "image/png": "[encoded data removed]"
          },
          "metadata": {
            "needs_background": "light"
          }
        }
      ]
    },
    {
      "cell_type": "markdown",
      "source": [
        "**Verificação de outliers**"
      ],
      "metadata": {
        "id": "bOjJYoqHypsV"
      }
    },
    {
      "cell_type": "code",
      "source": [
        "plt.figure(figsize=(10,8))\n",
        "sns.boxplot(data=df)"
      ],
      "metadata": {
        "colab": {
          "base_uri": "https://localhost:8080/",
          "height": 0
        },
        "id": "s0j3efxMyRF1",
        "outputId": "ab2d8135-f15f-4e5b-ea22-e198f6de5190"
      },
      "execution_count": 343,
      "outputs": [
        {
          "output_type": "execute_result",
          "data": {
            "text/plain": [
              "<matplotlib.axes._subplots.AxesSubplot at 0x7f8a52d669d0>"
            ]
          },
          "metadata": {},
          "execution_count": 343
        },
        {
          "output_type": "display_data",
          "data": {
            "text/plain": [
              "<Figure size 720x576 with 1 Axes>"
            ],
            "image/png": "[encoded data removed]"
          },
          "metadata": {
            "needs_background": "light"
          }
        }
      ]
    },
    {
      "cell_type": "markdown",
      "source": [
        "# **XGBOOST CLASSIFIER**"
      ],
      "metadata": {
        "id": "vH8g9178TEOJ"
      }
    },
    {
      "cell_type": "code",
      "source": [
        "#Separando o que é features e target:\n",
        "X = df.drop(columns=[\"Clicked on Ad\"])\n",
        "y = df[\"Clicked on Ad\"]\n",
        "\n",
        "# Dividindo em dados de teste e dados de treino, peguei 30% para dados de teste:\n",
        "X_train, X_test, y_train, y_test = train_test_split(X, y, test_size=0.1, random_state=12, stratify=y)\n",
        "\n",
        "\n",
        "# Iniciando a construção da Pipeline:\n",
        "# ==========================================================\n",
        "#Primeiro vamos tratar as features numéricas.\n",
        "pipe_features_num = Pipeline([(\"std\", StandardScaler())])\n",
        "\n",
        "# Pegando só as features numéricas\n",
        "features_num = X_train.select_dtypes(include=np.number).columns.tolist()\n",
        "\n",
        "# ==========================================================\n",
        "#Vamos tratar as features categóricas.\n",
        "pipe_features_ohe = Pipeline([(\"onehot\", OneHotEncoder(handle_unknown = \"ignore\"))])\n",
        "\n",
        "features_ohe = [\"Male\"]\n",
        "\n",
        "pipe_features_oe = Pipeline([(\"input_cat_oe\", SimpleImputer(strategy=\"constant\", fill_value=\"unknown\")),\n",
        "                             (\"ordinal\", OrdinalEncoder(handle_unknown='use_encoded_value', unknown_value=-1))])\n",
        "\n",
        "features_oe = [\"Ad Topic Line\", \"City\", \"Country\"]\n",
        "# ==========================================================\n",
        "# Pré-processador => Pegando as pipelines anteriores e unindo-as.\n",
        "pre_processador = ColumnTransformer([(\"transf_num\", pipe_features_num, features_num),\n",
        "                                     (\"transf_cat_ohe\", pipe_features_ohe, features_ohe),\n",
        "                                     (\"transf_cat_oe\", pipe_features_oe, features_oe)])\n",
        "\n",
        "# ==========================================================\n",
        "# Pipeline final, usando o pré-processador e o estimador que queremos utilizar, neste caso o XGBoost para regressão.\n",
        "pipe_xgbr = Pipeline([(\"pre_processador\", pre_processador),\n",
        "                      (\"pca\", PCA(n_components=2)),\n",
        "                      (\"xgbr\", XGBClassifier(eval_metric='logloss', random_state=42))])\n",
        "\n",
        "\n",
        "# ==========================================================\n",
        "#Vamos dividir em splits para ter mais variedade no processamento dos dados.\n",
        "splitter = StratifiedKFold(n_splits=5, random_state=42, shuffle=True)\n",
        "\n",
        "#Montando a grade de parâmetros do estimador (XGBoost)\n",
        "params_grid_xgbr = {\"xgbr__n_estimators\": [500, 1000, 2000],\n",
        "                   \"xgbr__max_depth\": [1, 2, 8, 10],\n",
        "                   \"xgbr__learning_rate\": [0.001, 0.0001],\n",
        "                   \"xgbr__colsample_bytree\": [0.2],\n",
        "                   \"xgbr__subsample\": [0.8]}\n",
        "\n",
        "#Motando a grade geral de parâmetros.\n",
        "publicidade_xgbc = GridSearchCV(estimator=pipe_xgbr,\n",
        "                       param_grid=params_grid_xgbr,\n",
        "                       scoring=\"accuracy\",\n",
        "                       cv=splitter,\n",
        "                       verbose=10,\n",
        "                       n_jobs=-1)\n",
        "\n",
        "publicidade_xgbc.fit(X_train, y_train)"
      ],
      "metadata": {
        "colab": {
          "base_uri": "https://localhost:8080/"
        },
        "id": "3ZMufcQKTJCs",
        "outputId": "d47cc996-2783-4e9e-cff6-9d08de1a7931"
      },
      "execution_count": 163,
      "outputs": [
        {
          "output_type": "stream",
          "name": "stdout",
          "text": [
            "Fitting 5 folds for each of 24 candidates, totalling 120 fits\n"
          ]
        },
        {
          "output_type": "execute_result",
          "data": {
            "text/plain": [
              "GridSearchCV(cv=StratifiedKFold(n_splits=5, random_state=42, shuffle=True),\n",
              "             estimator=Pipeline(steps=[('pre_processador',\n",
              "                                        ColumnTransformer(transformers=[('transf_num',\n",
              "                                                                         Pipeline(steps=[('std',\n",
              "                                                                                          StandardScaler())]),\n",
              "                                                                         ['Daily '\n",
              "                                                                          'Time '\n",
              "                                                                          'Spent '\n",
              "                                                                          'on '\n",
              "                                                                          'Site',\n",
              "                                                                          'Age',\n",
              "                                                                          'Area '\n",
              "                                                                          'Income',\n",
              "                                                                          'Daily '\n",
              "                                                                          'Internet '\n",
              "                                                                          'Usage',\n",
              "                                                                          'Male']),\n",
              "                                                                        ('transf_cat_ohe',\n",
              "                                                                         Pipeline(steps=[('onehot',\n",
              "                                                                                          OneHotEncode...\n",
              "                                                                                                         unknown_value=-1))]),\n",
              "                                                                         ['Ad '\n",
              "                                                                          'Topic '\n",
              "                                                                          'Line',\n",
              "                                                                          'City',\n",
              "                                                                          'Country'])])),\n",
              "                                       ('pca', PCA(n_components=2)),\n",
              "                                       ('xgbr',\n",
              "                                        XGBClassifier(eval_metric='logloss',\n",
              "                                                      random_state=42))]),\n",
              "             n_jobs=-1,\n",
              "             param_grid={'xgbr__colsample_bytree': [0.2],\n",
              "                         'xgbr__learning_rate': [0.001, 0.0001],\n",
              "                         'xgbr__max_depth': [1, 2, 8, 10],\n",
              "                         'xgbr__n_estimators': [500, 1000, 2000],\n",
              "                         'xgbr__subsample': [0.8]},\n",
              "             scoring='accuracy', verbose=10)"
            ]
          },
          "metadata": {},
          "execution_count": 163
        }
      ]
    },
    {
      "cell_type": "code",
      "source": [
        "publicidade_xgbc.best_params_"
      ],
      "metadata": {
        "colab": {
          "base_uri": "https://localhost:8080/"
        },
        "id": "ibidvqZmkqCp",
        "outputId": "8d1fbf71-4882-4f94-e5fb-f3e0c2ac1d3e"
      },
      "execution_count": 164,
      "outputs": [
        {
          "output_type": "execute_result",
          "data": {
            "text/plain": [
              "{'xgbr__colsample_bytree': 0.2,\n",
              " 'xgbr__learning_rate': 0.001,\n",
              " 'xgbr__max_depth': 2,\n",
              " 'xgbr__n_estimators': 500,\n",
              " 'xgbr__subsample': 0.8}"
            ]
          },
          "metadata": {},
          "execution_count": 164
        }
      ]
    },
    {
      "cell_type": "code",
      "source": [
        "grid_xgbr_results = pd.DataFrame(publicidade_xgbc.cv_results_)\n",
        "grid_xgbr_results.sort_values(by=[\"rank_test_score\"])"
      ],
      "metadata": {
        "colab": {
          "base_uri": "https://localhost:8080/",
          "height": 698
        },
        "id": "SNLFyuNJkx0Z",
        "outputId": "7f7f0f1f-647e-454a-bb9c-07f3ac876c74"
      },
      "execution_count": 117,
      "outputs": [
        {
          "output_type": "execute_result",
          "data": {
            "text/plain": [
              "    mean_fit_time  std_fit_time  mean_score_time  std_score_time  \\\n",
              "9        0.162888      0.003020         0.019422        0.002337   \n",
              "10       0.260960      0.003998         0.022064        0.002827   \n",
              "11       0.418817      0.070982         0.020925        0.003169   \n",
              "4        0.264915      0.004651         0.020952        0.001717   \n",
              "5        0.460770      0.011532         0.024803        0.005323   \n",
              "0        0.155940      0.003108         0.020919        0.003194   \n",
              "1        0.241763      0.022036         0.021080        0.002885   \n",
              "6        0.157525      0.017006         0.018455        0.000574   \n",
              "7        0.229361      0.006880         0.025645        0.013122   \n",
              "8        0.396474      0.005455         0.020498        0.000810   \n",
              "2        0.396161      0.006741         0.021019        0.001012   \n",
              "3        0.166252      0.005029         0.019838        0.000614   \n",
              "\n",
              "   param_xgbr__colsample_bytree param_xgbr__learning_rate  \\\n",
              "9                           0.5                     0.001   \n",
              "10                          0.5                     0.001   \n",
              "11                          0.5                     0.001   \n",
              "4                           0.5                      0.01   \n",
              "5                           0.5                      0.01   \n",
              "0                           0.5                      0.01   \n",
              "1                           0.5                      0.01   \n",
              "6                           0.5                     0.001   \n",
              "7                           0.5                     0.001   \n",
              "8                           0.5                     0.001   \n",
              "2                           0.5                      0.01   \n",
              "3                           0.5                      0.01   \n",
              "\n",
              "   param_xgbr__max_depth param_xgbr__n_estimators param_xgbr__subsample  \\\n",
              "9                      2                      500                   0.5   \n",
              "10                     2                     1000                   0.5   \n",
              "11                     2                     2000                   0.5   \n",
              "4                      2                     1000                   0.5   \n",
              "5                      2                     2000                   0.5   \n",
              "0                      1                      500                   0.5   \n",
              "1                      1                     1000                   0.5   \n",
              "6                      1                      500                   0.5   \n",
              "7                      1                     1000                   0.5   \n",
              "8                      1                     2000                   0.5   \n",
              "2                      1                     2000                   0.5   \n",
              "3                      2                      500                   0.5   \n",
              "\n",
              "                                               params  split0_test_score  \\\n",
              "9   {'xgbr__colsample_bytree': 0.5, 'xgbr__learnin...           0.333333   \n",
              "10  {'xgbr__colsample_bytree': 0.5, 'xgbr__learnin...           0.333333   \n",
              "11  {'xgbr__colsample_bytree': 0.5, 'xgbr__learnin...           0.333333   \n",
              "4   {'xgbr__colsample_bytree': 0.5, 'xgbr__learnin...           0.333333   \n",
              "5   {'xgbr__colsample_bytree': 0.5, 'xgbr__learnin...           0.333333   \n",
              "0   {'xgbr__colsample_bytree': 0.5, 'xgbr__learnin...           0.333333   \n",
              "1   {'xgbr__colsample_bytree': 0.5, 'xgbr__learnin...           0.333333   \n",
              "6   {'xgbr__colsample_bytree': 0.5, 'xgbr__learnin...           0.333333   \n",
              "7   {'xgbr__colsample_bytree': 0.5, 'xgbr__learnin...           0.333333   \n",
              "8   {'xgbr__colsample_bytree': 0.5, 'xgbr__learnin...           0.333333   \n",
              "2   {'xgbr__colsample_bytree': 0.5, 'xgbr__learnin...           0.333333   \n",
              "3   {'xgbr__colsample_bytree': 0.5, 'xgbr__learnin...           0.333333   \n",
              "\n",
              "    split1_test_score  split2_test_score  split3_test_score  \\\n",
              "9            0.333333           0.556781           0.412611   \n",
              "10           0.333333           0.556781           0.412611   \n",
              "11           0.333333           0.556781           0.412611   \n",
              "4            0.333333           0.539474           0.412611   \n",
              "5            0.333333           0.474286           0.412611   \n",
              "0            0.333333           0.333333           0.412611   \n",
              "1            0.333333           0.333333           0.412611   \n",
              "6            0.333333           0.333333           0.412611   \n",
              "7            0.333333           0.333333           0.412611   \n",
              "8            0.333333           0.333333           0.412611   \n",
              "2            0.333333           0.326923           0.412611   \n",
              "3            0.333333           0.326923           0.412611   \n",
              "\n",
              "    split4_test_score  mean_test_score  std_test_score  rank_test_score  \n",
              "9            0.360731         0.399358        0.083867                1  \n",
              "10           0.360731         0.399358        0.083867                1  \n",
              "11           0.360731         0.399358        0.083867                1  \n",
              "4            0.360731         0.395896        0.077406                4  \n",
              "5            0.360731         0.382859        0.054110                5  \n",
              "0            0.360731         0.354668        0.030853                6  \n",
              "1            0.360731         0.354668        0.030853                6  \n",
              "6            0.360731         0.354668        0.030853                6  \n",
              "7            0.360731         0.354668        0.030853                6  \n",
              "8            0.360731         0.354668        0.030853                6  \n",
              "2            0.360731         0.353386        0.031831               11  \n",
              "3            0.360731         0.353386        0.031831               11  "
            ],
            "text/html": [
              "\n",
              "  <div id=\"df-613bd558-6fba-423d-bab8-f82bf297f4b3\">\n",
              "    <div class=\"colab-df-container\">\n",
              "      <div>\n",
              "<style scoped>\n",
              "    .dataframe tbody tr th:only-of-type {\n",
              "        vertical-align: middle;\n",
              "    }\n",
              "\n",
              "    .dataframe tbody tr th {\n",
              "        vertical-align: top;\n",
              "    }\n",
              "\n",
              "    .dataframe thead th {\n",
              "        text-align: right;\n",
              "    }\n",
              "</style>\n",
              "<table border=\"1\" class=\"dataframe\">\n",
              "  <thead>\n",
              "    <tr style=\"text-align: right;\">\n",
              "      <th></th>\n",
              "      <th>mean_fit_time</th>\n",
              "      <th>std_fit_time</th>\n",
              "      <th>mean_score_time</th>\n",
              "      <th>std_score_time</th>\n",
              "      <th>param_xgbr__colsample_bytree</th>\n",
              "      <th>param_xgbr__learning_rate</th>\n",
              "      <th>param_xgbr__max_depth</th>\n",
              "      <th>param_xgbr__n_estimators</th>\n",
              "      <th>param_xgbr__subsample</th>\n",
              "      <th>params</th>\n",
              "      <th>split0_test_score</th>\n",
              "      <th>split1_test_score</th>\n",
              "      <th>split2_test_score</th>\n",
              "      <th>split3_test_score</th>\n",
              "      <th>split4_test_score</th>\n",
              "      <th>mean_test_score</th>\n",
              "      <th>std_test_score</th>\n",
              "      <th>rank_test_score</th>\n",
              "    </tr>\n",
              "  </thead>\n",
              "  <tbody>\n",
              "    <tr>\n",
              "      <th>9</th>\n",
              "      <td>0.162888</td>\n",
              "      <td>0.003020</td>\n",
              "      <td>0.019422</td>\n",
              "      <td>0.002337</td>\n",
              "      <td>0.5</td>\n",
              "      <td>0.001</td>\n",
              "      <td>2</td>\n",
              "      <td>500</td>\n",
              "      <td>0.5</td>\n",
              "      <td>{'xgbr__colsample_bytree': 0.5, 'xgbr__learnin...</td>\n",
              "      <td>0.333333</td>\n",
              "      <td>0.333333</td>\n",
              "      <td>0.556781</td>\n",
              "      <td>0.412611</td>\n",
              "      <td>0.360731</td>\n",
              "      <td>0.399358</td>\n",
              "      <td>0.083867</td>\n",
              "      <td>1</td>\n",
              "    </tr>\n",
              "    <tr>\n",
              "      <th>10</th>\n",
              "      <td>0.260960</td>\n",
              "      <td>0.003998</td>\n",
              "      <td>0.022064</td>\n",
              "      <td>0.002827</td>\n",
              "      <td>0.5</td>\n",
              "      <td>0.001</td>\n",
              "      <td>2</td>\n",
              "      <td>1000</td>\n",
              "      <td>0.5</td>\n",
              "      <td>{'xgbr__colsample_bytree': 0.5, 'xgbr__learnin...</td>\n",
              "      <td>0.333333</td>\n",
              "      <td>0.333333</td>\n",
              "      <td>0.556781</td>\n",
              "      <td>0.412611</td>\n",
              "      <td>0.360731</td>\n",
              "      <td>0.399358</td>\n",
              "      <td>0.083867</td>\n",
              "      <td>1</td>\n",
              "    </tr>\n",
              "    <tr>\n",
              "      <th>11</th>\n",
              "      <td>0.418817</td>\n",
              "      <td>0.070982</td>\n",
              "      <td>0.020925</td>\n",
              "      <td>0.003169</td>\n",
              "      <td>0.5</td>\n",
              "      <td>0.001</td>\n",
              "      <td>2</td>\n",
              "      <td>2000</td>\n",
              "      <td>0.5</td>\n",
              "      <td>{'xgbr__colsample_bytree': 0.5, 'xgbr__learnin...</td>\n",
              "      <td>0.333333</td>\n",
              "      <td>0.333333</td>\n",
              "      <td>0.556781</td>\n",
              "      <td>0.412611</td>\n",
              "      <td>0.360731</td>\n",
              "      <td>0.399358</td>\n",
              "      <td>0.083867</td>\n",
              "      <td>1</td>\n",
              "    </tr>\n",
              "    <tr>\n",
              "      <th>4</th>\n",
              "      <td>0.264915</td>\n",
              "      <td>0.004651</td>\n",
              "      <td>0.020952</td>\n",
              "      <td>0.001717</td>\n",
              "      <td>0.5</td>\n",
              "      <td>0.01</td>\n",
              "      <td>2</td>\n",
              "      <td>1000</td>\n",
              "      <td>0.5</td>\n",
              "      <td>{'xgbr__colsample_bytree': 0.5, 'xgbr__learnin...</td>\n",
              "      <td>0.333333</td>\n",
              "      <td>0.333333</td>\n",
              "      <td>0.539474</td>\n",
              "      <td>0.412611</td>\n",
              "      <td>0.360731</td>\n",
              "      <td>0.395896</td>\n",
              "      <td>0.077406</td>\n",
              "      <td>4</td>\n",
              "    </tr>\n",
              "    <tr>\n",
              "      <th>5</th>\n",
              "      <td>0.460770</td>\n",
              "      <td>0.011532</td>\n",
              "      <td>0.024803</td>\n",
              "      <td>0.005323</td>\n",
              "      <td>0.5</td>\n",
              "      <td>0.01</td>\n",
              "      <td>2</td>\n",
              "      <td>2000</td>\n",
              "      <td>0.5</td>\n",
              "      <td>{'xgbr__colsample_bytree': 0.5, 'xgbr__learnin...</td>\n",
              "      <td>0.333333</td>\n",
              "      <td>0.333333</td>\n",
              "      <td>0.474286</td>\n",
              "      <td>0.412611</td>\n",
              "      <td>0.360731</td>\n",
              "      <td>0.382859</td>\n",
              "      <td>0.054110</td>\n",
              "      <td>5</td>\n",
              "    </tr>\n",
              "    <tr>\n",
              "      <th>0</th>\n",
              "      <td>0.155940</td>\n",
              "      <td>0.003108</td>\n",
              "      <td>0.020919</td>\n",
              "      <td>0.003194</td>\n",
              "      <td>0.5</td>\n",
              "      <td>0.01</td>\n",
              "      <td>1</td>\n",
              "      <td>500</td>\n",
              "      <td>0.5</td>\n",
              "      <td>{'xgbr__colsample_bytree': 0.5, 'xgbr__learnin...</td>\n",
              "      <td>0.333333</td>\n",
              "      <td>0.333333</td>\n",
              "      <td>0.333333</td>\n",
              "      <td>0.412611</td>\n",
              "      <td>0.360731</td>\n",
              "      <td>0.354668</td>\n",
              "      <td>0.030853</td>\n",
              "      <td>6</td>\n",
              "    </tr>\n",
              "    <tr>\n",
              "      <th>1</th>\n",
              "      <td>0.241763</td>\n",
              "      <td>0.022036</td>\n",
              "      <td>0.021080</td>\n",
              "      <td>0.002885</td>\n",
              "      <td>0.5</td>\n",
              "      <td>0.01</td>\n",
              "      <td>1</td>\n",
              "      <td>1000</td>\n",
              "      <td>0.5</td>\n",
              "      <td>{'xgbr__colsample_bytree': 0.5, 'xgbr__learnin...</td>\n",
              "      <td>0.333333</td>\n",
              "      <td>0.333333</td>\n",
              "      <td>0.333333</td>\n",
              "      <td>0.412611</td>\n",
              "      <td>0.360731</td>\n",
              "      <td>0.354668</td>\n",
              "      <td>0.030853</td>\n",
              "      <td>6</td>\n",
              "    </tr>\n",
              "    <tr>\n",
              "      <th>6</th>\n",
              "      <td>0.157525</td>\n",
              "      <td>0.017006</td>\n",
              "      <td>0.018455</td>\n",
              "      <td>0.000574</td>\n",
              "      <td>0.5</td>\n",
              "      <td>0.001</td>\n",
              "      <td>1</td>\n",
              "      <td>500</td>\n",
              "      <td>0.5</td>\n",
              "      <td>{'xgbr__colsample_bytree': 0.5, 'xgbr__learnin...</td>\n",
              "      <td>0.333333</td>\n",
              "      <td>0.333333</td>\n",
              "      <td>0.333333</td>\n",
              "      <td>0.412611</td>\n",
              "      <td>0.360731</td>\n",
              "      <td>0.354668</td>\n",
              "      <td>0.030853</td>\n",
              "      <td>6</td>\n",
              "    </tr>\n",
              "    <tr>\n",
              "      <th>7</th>\n",
              "      <td>0.229361</td>\n",
              "      <td>0.006880</td>\n",
              "      <td>0.025645</td>\n",
              "      <td>0.013122</td>\n",
              "      <td>0.5</td>\n",
              "      <td>0.001</td>\n",
              "      <td>1</td>\n",
              "      <td>1000</td>\n",
              "      <td>0.5</td>\n",
              "      <td>{'xgbr__colsample_bytree': 0.5, 'xgbr__learnin...</td>\n",
              "      <td>0.333333</td>\n",
              "      <td>0.333333</td>\n",
              "      <td>0.333333</td>\n",
              "      <td>0.412611</td>\n",
              "      <td>0.360731</td>\n",
              "      <td>0.354668</td>\n",
              "      <td>0.030853</td>\n",
              "      <td>6</td>\n",
              "    </tr>\n",
              "    <tr>\n",
              "      <th>8</th>\n",
              "      <td>0.396474</td>\n",
              "      <td>0.005455</td>\n",
              "      <td>0.020498</td>\n",
              "      <td>0.000810</td>\n",
              "      <td>0.5</td>\n",
              "      <td>0.001</td>\n",
              "      <td>1</td>\n",
              "      <td>2000</td>\n",
              "      <td>0.5</td>\n",
              "      <td>{'xgbr__colsample_bytree': 0.5, 'xgbr__learnin...</td>\n",
              "      <td>0.333333</td>\n",
              "      <td>0.333333</td>\n",
              "      <td>0.333333</td>\n",
              "      <td>0.412611</td>\n",
              "      <td>0.360731</td>\n",
              "      <td>0.354668</td>\n",
              "      <td>0.030853</td>\n",
              "      <td>6</td>\n",
              "    </tr>\n",
              "    <tr>\n",
              "      <th>2</th>\n",
              "      <td>0.396161</td>\n",
              "      <td>0.006741</td>\n",
              "      <td>0.021019</td>\n",
              "      <td>0.001012</td>\n",
              "      <td>0.5</td>\n",
              "      <td>0.01</td>\n",
              "      <td>1</td>\n",
              "      <td>2000</td>\n",
              "      <td>0.5</td>\n",
              "      <td>{'xgbr__colsample_bytree': 0.5, 'xgbr__learnin...</td>\n",
              "      <td>0.333333</td>\n",
              "      <td>0.333333</td>\n",
              "      <td>0.326923</td>\n",
              "      <td>0.412611</td>\n",
              "      <td>0.360731</td>\n",
              "      <td>0.353386</td>\n",
              "      <td>0.031831</td>\n",
              "      <td>11</td>\n",
              "    </tr>\n",
              "    <tr>\n",
              "      <th>3</th>\n",
              "      <td>0.166252</td>\n",
              "      <td>0.005029</td>\n",
              "      <td>0.019838</td>\n",
              "      <td>0.000614</td>\n",
              "      <td>0.5</td>\n",
              "      <td>0.01</td>\n",
              "      <td>2</td>\n",
              "      <td>500</td>\n",
              "      <td>0.5</td>\n",
              "      <td>{'xgbr__colsample_bytree': 0.5, 'xgbr__learnin...</td>\n",
              "      <td>0.333333</td>\n",
              "      <td>0.333333</td>\n",
              "      <td>0.326923</td>\n",
              "      <td>0.412611</td>\n",
              "      <td>0.360731</td>\n",
              "      <td>0.353386</td>\n",
              "      <td>0.031831</td>\n",
              "      <td>11</td>\n",
              "    </tr>\n",
              "  </tbody>\n",
              "</table>\n",
              "</div>\n",
              "      <button class=\"colab-df-convert\" onclick=\"convertToInteractive('df-613bd558-6fba-423d-bab8-f82bf297f4b3')\"\n",
              "              title=\"Convert this dataframe to an interactive table.\"\n",
              "              style=\"display:none;\">\n",
              "        \n",
              "  <svg xmlns=\"http://www.w3.org/2000/svg\" height=\"24px\"viewBox=\"0 0 24 24\"\n",
              "       width=\"24px\">\n",
              "    <path d=\"M0 0h24v24H0V0z\" fill=\"none\"/>\n",
              "    <path d=\"M18.56 5.44l.94 2.06.94-2.06 2.06-.94-2.06-.94-.94-2.06-.94 2.06-2.06.94zm-11 1L8.5 8.5l.94-2.06 2.06-.94-2.06-.94L8.5 2.5l-.94 2.06-2.06.94zm10 10l.94 2.06.94-2.06 2.06-.94-2.06-.94-.94-2.06-.94 2.06-2.06.94z\"/><path d=\"M17.41 7.96l-1.37-1.37c-.4-.4-.92-.59-1.43-.59-.52 0-1.04.2-1.43.59L10.3 9.45l-7.72 7.72c-.78.78-.78 2.05 0 2.83L4 21.41c.39.39.9.59 1.41.59.51 0 1.02-.2 1.41-.59l7.78-7.78 2.81-2.81c.8-.78.8-2.07 0-2.86zM5.41 20L4 18.59l7.72-7.72 1.47 1.35L5.41 20z\"/>\n",
              "  </svg>\n",
              "      </button>\n",
              "      \n",
              "  <style>\n",
              "    .colab-df-container {\n",
              "      display:flex;\n",
              "      flex-wrap:wrap;\n",
              "      gap: 12px;\n",
              "    }\n",
              "\n",
              "    .colab-df-convert {\n",
              "      background-color: #E8F0FE;\n",
              "      border: none;\n",
              "      border-radius: 50%;\n",
              "      cursor: pointer;\n",
              "      display: none;\n",
              "      fill: #1967D2;\n",
              "      height: 32px;\n",
              "      padding: 0 0 0 0;\n",
              "      width: 32px;\n",
              "    }\n",
              "\n",
              "    .colab-df-convert:hover {\n",
              "      background-color: #E2EBFA;\n",
              "      box-shadow: 0px 1px 2px rgba(60, 64, 67, 0.3), 0px 1px 3px 1px rgba(60, 64, 67, 0.15);\n",
              "      fill: #174EA6;\n",
              "    }\n",
              "\n",
              "    [theme=dark] .colab-df-convert {\n",
              "      background-color: #3B4455;\n",
              "      fill: #D2E3FC;\n",
              "    }\n",
              "\n",
              "    [theme=dark] .colab-df-convert:hover {\n",
              "      background-color: #434B5C;\n",
              "      box-shadow: 0px 1px 3px 1px rgba(0, 0, 0, 0.15);\n",
              "      filter: drop-shadow(0px 1px 2px rgba(0, 0, 0, 0.3));\n",
              "      fill: #FFFFFF;\n",
              "    }\n",
              "  </style>\n",
              "\n",
              "      <script>\n",
              "        const buttonEl =\n",
              "          document.querySelector('#df-613bd558-6fba-423d-bab8-f82bf297f4b3 button.colab-df-convert');\n",
              "        buttonEl.style.display =\n",
              "          google.colab.kernel.accessAllowed ? 'block' : 'none';\n",
              "\n",
              "        async function convertToInteractive(key) {\n",
              "          const element = document.querySelector('#df-613bd558-6fba-423d-bab8-f82bf297f4b3');\n",
              "          const dataTable =\n",
              "            await google.colab.kernel.invokeFunction('convertToInteractive',\n",
              "                                                     [key], {});\n",
              "          if (!dataTable) return;\n",
              "\n",
              "          const docLinkHtml = 'Like what you see? Visit the ' +\n",
              "            '<a target=\"_blank\" href=https://colab.research.google.com/notebooks/data_table.ipynb>data table notebook</a>'\n",
              "            + ' to learn more about interactive tables.';\n",
              "          element.innerHTML = '';\n",
              "          dataTable['output_type'] = 'display_data';\n",
              "          await google.colab.output.renderOutput(dataTable, element);\n",
              "          const docLink = document.createElement('div');\n",
              "          docLink.innerHTML = docLinkHtml;\n",
              "          element.appendChild(docLink);\n",
              "        }\n",
              "      </script>\n",
              "    </div>\n",
              "  </div>\n",
              "  "
            ]
          },
          "metadata": {},
          "execution_count": 117
        }
      ]
    },
    {
      "cell_type": "code",
      "source": [
        "### ============================================\n",
        "\n",
        "print(\"\\nMétricas de avaliação de treino:\")\n",
        "\n",
        "y_pred_train = publicidade_xgbc.predict(X_train)\n",
        "\n",
        "print(confusion_matrix(y_train, y_pred_train))\n",
        "\n",
        "ConfusionMatrixDisplay.from_predictions(y_train, y_pred_train)\n",
        "plt.show()\n",
        "\n",
        "print(classification_report(y_train, y_pred_train))\n",
        "\n",
        "# ============================================\n",
        "\n",
        "print(\"\\nMétricas de avaliação de teste:\")\n",
        "\n",
        "y_pred_test = publicidade_xgbc.predict(X_test)\n",
        "\n",
        "print(confusion_matrix(y_test, y_pred_test))\n",
        "\n",
        "ConfusionMatrixDisplay.from_predictions(y_test, y_pred_test)\n",
        "plt.show()\n",
        "\n",
        "print(classification_report(y_test, y_pred_test))"
      ],
      "metadata": {
        "colab": {
          "base_uri": "https://localhost:8080/",
          "height": 992
        },
        "id": "Ll8ePeJ8k8iR",
        "outputId": "34ba57c9-9592-4212-8286-dc961d31663e"
      },
      "execution_count": 165,
      "outputs": [
        {
          "output_type": "stream",
          "name": "stdout",
          "text": [
            "\n",
            "Métricas de avaliação de treino:\n",
            "[[334 116]\n",
            " [250 200]]\n"
          ]
        },
        {
          "output_type": "display_data",
          "data": {
            "text/plain": [
              "<Figure size 432x288 with 2 Axes>"
            ],
            "image/png": "[encoded data removed]"
          },
          "metadata": {
            "needs_background": "light"
          }
        },
        {
          "output_type": "stream",
          "name": "stdout",
          "text": [
            "              precision    recall  f1-score   support\n",
            "\n",
            "           0       0.57      0.74      0.65       450\n",
            "           1       0.63      0.44      0.52       450\n",
            "\n",
            "    accuracy                           0.59       900\n",
            "   macro avg       0.60      0.59      0.58       900\n",
            "weighted avg       0.60      0.59      0.58       900\n",
            "\n",
            "\n",
            "Métricas de avaliação de teste:\n",
            "[[49  1]\n",
            " [44  6]]\n"
          ]
        },
        {
          "output_type": "display_data",
          "data": {
            "text/plain": [
              "<Figure size 432x288 with 2 Axes>"
            ],
            "image/png": "[encoded data removed]"
          },
          "metadata": {
            "needs_background": "light"
          }
        },
        {
          "output_type": "stream",
          "name": "stdout",
          "text": [
            "              precision    recall  f1-score   support\n",
            "\n",
            "           0       0.53      0.98      0.69        50\n",
            "           1       0.86      0.12      0.21        50\n",
            "\n",
            "    accuracy                           0.55       100\n",
            "   macro avg       0.69      0.55      0.45       100\n",
            "weighted avg       0.69      0.55      0.45       100\n",
            "\n"
          ]
        }
      ]
    },
    {
      "cell_type": "code",
      "source": [
        "plt.figure(figsize=(40,8))\n",
        "x_ax = range(len(y_test))\n",
        "plt.plot(x_ax, y_test, label=\"Valores originais\")\n",
        "plt.plot(x_ax, y_pred_test, label=\"Valores preditos\")\n",
        "plt.title(\"Comparação entre os valores reais e os preditos\")\n",
        "plt.legend()\n",
        "plt.show();"
      ],
      "metadata": {
        "colab": {
          "base_uri": "https://localhost:8080/",
          "height": 399
        },
        "id": "6wngWVFhmfcR",
        "outputId": "f18e7a84-e91d-401f-b574-a24578008c2d"
      },
      "execution_count": 166,
      "outputs": [
        {
          "output_type": "display_data",
          "data": {
            "text/plain": [
              "<Figure size 2880x576 with 1 Axes>"
            ],
            "image/png": "[encoded data removed]"
          },
          "metadata": {
            "needs_background": "light"
          }
        }
      ]
    },
    {
      "cell_type": "code",
      "source": [
        "resultado_xgbr = df[\"Clicked on Ad\"].unique()\n",
        "print(f\"{resultado_xgbr}\")"
      ],
      "metadata": {
        "colab": {
          "base_uri": "https://localhost:8080/"
        },
        "id": "B7y1fffjmgWc",
        "outputId": "c232f18e-a9d9-4ed1-dab5-4c4e6ce44583"
      },
      "execution_count": 123,
      "outputs": [
        {
          "output_type": "stream",
          "name": "stdout",
          "text": [
            "[0 1]\n"
          ]
        }
      ]
    },
    {
      "cell_type": "markdown",
      "source": [
        "**Probabilidade de sair cada diagnóstico:**"
      ],
      "metadata": {
        "id": "r6IsV_JElcnN"
      }
    },
    {
      "cell_type": "code",
      "source": [
        "probas = publicidade_xgbc.predict_proba(X_test)\n",
        "probas"
      ],
      "metadata": {
        "id": "IUZ_jRQOgQQ0"
      },
      "execution_count": null,
      "outputs": []
    },
    {
      "cell_type": "code",
      "source": [
        "tabela_publicidade_xgbc = pd.DataFrame()"
      ],
      "metadata": {
        "id": "Ei3jRwBUgQQ0"
      },
      "execution_count": 125,
      "outputs": []
    },
    {
      "cell_type": "code",
      "source": [
        "tabela_publicidade_xgbc[\"Amostra existente\"] = y_test"
      ],
      "metadata": {
        "execution": {
          "iopub.status.busy": "2022-07-02T02:11:21.772059Z",
          "iopub.execute_input": "2022-07-02T02:11:21.772902Z",
          "iopub.status.idle": "2022-07-02T02:11:21.779761Z",
          "shell.execute_reply.started": "2022-07-02T02:11:21.772849Z",
          "shell.execute_reply": "2022-07-02T02:11:21.778587Z"
        },
        "trusted": true,
        "id": "MTVCk0pQgQQ1"
      },
      "execution_count": 126,
      "outputs": []
    },
    {
      "cell_type": "code",
      "source": [
        "tabela_publicidade_xgbc[\"Predição\"] = y_pred_test"
      ],
      "metadata": {
        "execution": {
          "iopub.status.busy": "2022-07-02T02:11:42.125170Z",
          "iopub.execute_input": "2022-07-02T02:11:42.125656Z",
          "iopub.status.idle": "2022-07-02T02:11:42.132508Z",
          "shell.execute_reply.started": "2022-07-02T02:11:42.125621Z",
          "shell.execute_reply": "2022-07-02T02:11:42.131128Z"
        },
        "trusted": true,
        "id": "LV6QABdbgQQ1"
      },
      "execution_count": 127,
      "outputs": []
    },
    {
      "cell_type": "code",
      "source": [
        "tabela_publicidade_xgbc"
      ],
      "metadata": {
        "execution": {
          "iopub.status.busy": "2022-07-02T02:11:46.395518Z",
          "iopub.execute_input": "2022-07-02T02:11:46.396323Z",
          "iopub.status.idle": "2022-07-02T02:11:46.410096Z",
          "shell.execute_reply.started": "2022-07-02T02:11:46.396280Z",
          "shell.execute_reply": "2022-07-02T02:11:46.409070Z"
        },
        "trusted": true,
        "id": "tLeU3BuNgQQ2",
        "colab": {
          "base_uri": "https://localhost:8080/",
          "height": 424
        },
        "outputId": "0bfe8729-b9d0-4e4b-d3d0-f90fefbdf1b4"
      },
      "execution_count": 128,
      "outputs": [
        {
          "output_type": "execute_result",
          "data": {
            "text/plain": [
              "     Amostra existente  Predição\n",
              "175                  0         0\n",
              "758                  1         0\n",
              "847                  0         0\n",
              "153                  0         0\n",
              "887                  1         0\n",
              "..                 ...       ...\n",
              "254                  1         0\n",
              "649                  0         0\n",
              "269                  0         0\n",
              "300                  0         0\n",
              "214                  0         0\n",
              "\n",
              "[300 rows x 2 columns]"
            ],
            "text/html": [
              "\n",
              "  <div id=\"df-f520e5b6-2588-4e8d-a480-efe8c60a5a0c\">\n",
              "    <div class=\"colab-df-container\">\n",
              "      <div>\n",
              "<style scoped>\n",
              "    .dataframe tbody tr th:only-of-type {\n",
              "        vertical-align: middle;\n",
              "    }\n",
              "\n",
              "    .dataframe tbody tr th {\n",
              "        vertical-align: top;\n",
              "    }\n",
              "\n",
              "    .dataframe thead th {\n",
              "        text-align: right;\n",
              "    }\n",
              "</style>\n",
              "<table border=\"1\" class=\"dataframe\">\n",
              "  <thead>\n",
              "    <tr style=\"text-align: right;\">\n",
              "      <th></th>\n",
              "      <th>Amostra existente</th>\n",
              "      <th>Predição</th>\n",
              "    </tr>\n",
              "  </thead>\n",
              "  <tbody>\n",
              "    <tr>\n",
              "      <th>175</th>\n",
              "      <td>0</td>\n",
              "      <td>0</td>\n",
              "    </tr>\n",
              "    <tr>\n",
              "      <th>758</th>\n",
              "      <td>1</td>\n",
              "      <td>0</td>\n",
              "    </tr>\n",
              "    <tr>\n",
              "      <th>847</th>\n",
              "      <td>0</td>\n",
              "      <td>0</td>\n",
              "    </tr>\n",
              "    <tr>\n",
              "      <th>153</th>\n",
              "      <td>0</td>\n",
              "      <td>0</td>\n",
              "    </tr>\n",
              "    <tr>\n",
              "      <th>887</th>\n",
              "      <td>1</td>\n",
              "      <td>0</td>\n",
              "    </tr>\n",
              "    <tr>\n",
              "      <th>...</th>\n",
              "      <td>...</td>\n",
              "      <td>...</td>\n",
              "    </tr>\n",
              "    <tr>\n",
              "      <th>254</th>\n",
              "      <td>1</td>\n",
              "      <td>0</td>\n",
              "    </tr>\n",
              "    <tr>\n",
              "      <th>649</th>\n",
              "      <td>0</td>\n",
              "      <td>0</td>\n",
              "    </tr>\n",
              "    <tr>\n",
              "      <th>269</th>\n",
              "      <td>0</td>\n",
              "      <td>0</td>\n",
              "    </tr>\n",
              "    <tr>\n",
              "      <th>300</th>\n",
              "      <td>0</td>\n",
              "      <td>0</td>\n",
              "    </tr>\n",
              "    <tr>\n",
              "      <th>214</th>\n",
              "      <td>0</td>\n",
              "      <td>0</td>\n",
              "    </tr>\n",
              "  </tbody>\n",
              "</table>\n",
              "<p>300 rows × 2 columns</p>\n",
              "</div>\n",
              "      <button class=\"colab-df-convert\" onclick=\"convertToInteractive('df-f520e5b6-2588-4e8d-a480-efe8c60a5a0c')\"\n",
              "              title=\"Convert this dataframe to an interactive table.\"\n",
              "              style=\"display:none;\">\n",
              "        \n",
              "  <svg xmlns=\"http://www.w3.org/2000/svg\" height=\"24px\"viewBox=\"0 0 24 24\"\n",
              "       width=\"24px\">\n",
              "    <path d=\"M0 0h24v24H0V0z\" fill=\"none\"/>\n",
              "    <path d=\"M18.56 5.44l.94 2.06.94-2.06 2.06-.94-2.06-.94-.94-2.06-.94 2.06-2.06.94zm-11 1L8.5 8.5l.94-2.06 2.06-.94-2.06-.94L8.5 2.5l-.94 2.06-2.06.94zm10 10l.94 2.06.94-2.06 2.06-.94-2.06-.94-.94-2.06-.94 2.06-2.06.94z\"/><path d=\"M17.41 7.96l-1.37-1.37c-.4-.4-.92-.59-1.43-.59-.52 0-1.04.2-1.43.59L10.3 9.45l-7.72 7.72c-.78.78-.78 2.05 0 2.83L4 21.41c.39.39.9.59 1.41.59.51 0 1.02-.2 1.41-.59l7.78-7.78 2.81-2.81c.8-.78.8-2.07 0-2.86zM5.41 20L4 18.59l7.72-7.72 1.47 1.35L5.41 20z\"/>\n",
              "  </svg>\n",
              "      </button>\n",
              "      \n",
              "  <style>\n",
              "    .colab-df-container {\n",
              "      display:flex;\n",
              "      flex-wrap:wrap;\n",
              "      gap: 12px;\n",
              "    }\n",
              "\n",
              "    .colab-df-convert {\n",
              "      background-color: #E8F0FE;\n",
              "      border: none;\n",
              "      border-radius: 50%;\n",
              "      cursor: pointer;\n",
              "      display: none;\n",
              "      fill: #1967D2;\n",
              "      height: 32px;\n",
              "      padding: 0 0 0 0;\n",
              "      width: 32px;\n",
              "    }\n",
              "\n",
              "    .colab-df-convert:hover {\n",
              "      background-color: #E2EBFA;\n",
              "      box-shadow: 0px 1px 2px rgba(60, 64, 67, 0.3), 0px 1px 3px 1px rgba(60, 64, 67, 0.15);\n",
              "      fill: #174EA6;\n",
              "    }\n",
              "\n",
              "    [theme=dark] .colab-df-convert {\n",
              "      background-color: #3B4455;\n",
              "      fill: #D2E3FC;\n",
              "    }\n",
              "\n",
              "    [theme=dark] .colab-df-convert:hover {\n",
              "      background-color: #434B5C;\n",
              "      box-shadow: 0px 1px 3px 1px rgba(0, 0, 0, 0.15);\n",
              "      filter: drop-shadow(0px 1px 2px rgba(0, 0, 0, 0.3));\n",
              "      fill: #FFFFFF;\n",
              "    }\n",
              "  </style>\n",
              "\n",
              "      <script>\n",
              "        const buttonEl =\n",
              "          document.querySelector('#df-f520e5b6-2588-4e8d-a480-efe8c60a5a0c button.colab-df-convert');\n",
              "        buttonEl.style.display =\n",
              "          google.colab.kernel.accessAllowed ? 'block' : 'none';\n",
              "\n",
              "        async function convertToInteractive(key) {\n",
              "          const element = document.querySelector('#df-f520e5b6-2588-4e8d-a480-efe8c60a5a0c');\n",
              "          const dataTable =\n",
              "            await google.colab.kernel.invokeFunction('convertToInteractive',\n",
              "                                                     [key], {});\n",
              "          if (!dataTable) return;\n",
              "\n",
              "          const docLinkHtml = 'Like what you see? Visit the ' +\n",
              "            '<a target=\"_blank\" href=https://colab.research.google.com/notebooks/data_table.ipynb>data table notebook</a>'\n",
              "            + ' to learn more about interactive tables.';\n",
              "          element.innerHTML = '';\n",
              "          dataTable['output_type'] = 'display_data';\n",
              "          await google.colab.output.renderOutput(dataTable, element);\n",
              "          const docLink = document.createElement('div');\n",
              "          docLink.innerHTML = docLinkHtml;\n",
              "          element.appendChild(docLink);\n",
              "        }\n",
              "      </script>\n",
              "    </div>\n",
              "  </div>\n",
              "  "
            ]
          },
          "metadata": {},
          "execution_count": 128
        }
      ]
    },
    {
      "cell_type": "markdown",
      "source": [
        "Salvando a tabela"
      ],
      "metadata": {
        "id": "QCkmI4IC6whA"
      }
    },
    {
      "cell_type": "code",
      "source": [
        "tabela_publicidade_xgbc.to_csv(\"11-publicidade_xgbc.csv\")"
      ],
      "metadata": {
        "id": "SpuoNd-n6v1u"
      },
      "execution_count": 129,
      "outputs": []
    },
    {
      "cell_type": "markdown",
      "source": [
        "Salvando o estimador..."
      ],
      "metadata": {
        "id": "CeCiHM63NKv1"
      }
    },
    {
      "cell_type": "code",
      "source": [
        "import pickle"
      ],
      "metadata": {
        "execution": {
          "iopub.status.busy": "2022-07-02T02:19:05.371396Z",
          "iopub.execute_input": "2022-07-02T02:19:05.372618Z",
          "iopub.status.idle": "2022-07-02T02:19:05.377481Z",
          "shell.execute_reply.started": "2022-07-02T02:19:05.372572Z",
          "shell.execute_reply": "2022-07-02T02:19:05.376202Z"
        },
        "trusted": true,
        "id": "9h4_8SphgQQ2"
      },
      "execution_count": 130,
      "outputs": []
    },
    {
      "cell_type": "code",
      "source": [
        "with open(\"publicidade_xgbc.pkl\", \"wb\") as f:\n",
        "    pickle.dump(publicidade_xgbc, f)"
      ],
      "metadata": {
        "execution": {
          "iopub.status.busy": "2022-07-02T02:19:13.260311Z",
          "iopub.execute_input": "2022-07-02T02:19:13.260705Z",
          "iopub.status.idle": "2022-07-02T02:19:13.268676Z",
          "shell.execute_reply.started": "2022-07-02T02:19:13.260676Z",
          "shell.execute_reply": "2022-07-02T02:19:13.267067Z"
        },
        "trusted": true,
        "id": "w11bl5wegQQ2"
      },
      "execution_count": 131,
      "outputs": []
    },
    {
      "cell_type": "code",
      "source": [
        "with open(\"publicidade_xgbc.pkl\", \"rb\") as f:\n",
        "    \n",
        "    publicidade_xgbc = pickle.load(f)"
      ],
      "metadata": {
        "execution": {
          "iopub.status.busy": "2022-07-02T02:19:27.758117Z",
          "iopub.execute_input": "2022-07-02T02:19:27.758754Z",
          "iopub.status.idle": "2022-07-02T02:19:27.765923Z",
          "shell.execute_reply.started": "2022-07-02T02:19:27.758713Z",
          "shell.execute_reply": "2022-07-02T02:19:27.764747Z"
        },
        "trusted": true,
        "id": "1mwKfgeRgQQ3"
      },
      "execution_count": 132,
      "outputs": []
    },
    {
      "cell_type": "code",
      "source": [],
      "metadata": {
        "id": "RxfTD_RbnzQ6"
      },
      "execution_count": null,
      "outputs": []
    },
    {
      "cell_type": "markdown",
      "source": [
        "# **Otimização Bayesiana**"
      ],
      "metadata": {
        "id": "8K25HyLq3Aau"
      }
    },
    {
      "cell_type": "markdown",
      "source": [
        "\n",
        "\n",
        "---\n",
        "\n",
        "\n",
        "\n",
        "---\n",
        "\n",
        "\n",
        "\n",
        "---\n",
        "\n"
      ],
      "metadata": {
        "id": "101r2Krlzpwl"
      }
    },
    {
      "cell_type": "code",
      "source": [
        "from sklearn.compose import ColumnTransformer\n",
        "\n",
        "from sklearn.preprocessing import StandardScaler, OneHotEncoder, OrdinalEncoder\n",
        "\n",
        "from sklearn.impute import SimpleImputer\n",
        "\n",
        "from sklearn.model_selection import GridSearchCV, StratifiedKFold, train_test_split\n",
        "\n",
        "from sklearn.pipeline import Pipeline\n",
        "\n",
        "def pipe_pre_breast_cancer(drop_not_features=[\"Clicked on Ad\"], col_target=\"Clicked on Ad\",\n",
        "                             inputer_num_strategy=\"mean\",\n",
        "                             encoding=\"ordinal\"):\n",
        "    '''\n",
        "    - inputer_num_strategy (str): \"mean\", \"median\";\n",
        "    - encoding (str): \"onehot\" para OneHotEncoder; \"ordinal\" OrdinalEncoder;\n",
        "    '''\n",
        "\n",
        "    X = df.drop(columns=drop_not_features)\n",
        "    y = df[col_target]\n",
        "    \n",
        "    X_train_ob, X_test_ob, y_train_ob, y_test_ob = train_test_split(X, y, test_size=0.1, random_state=42, stratify=y)\n",
        "\n",
        "    # ==========================================================\n",
        "\n",
        "    pipe_features_num = Pipeline([(\"input_num\", SimpleImputer(strategy=inputer_num_strategy)),\n",
        "                                  (\"std\", StandardScaler())])\n",
        "\n",
        "    features_num = X_train_ob.select_dtypes(include=np.number).columns.tolist()\n",
        "\n",
        "    # ==========================================================\n",
        "\n",
        "    if encoding == \"onehot\":\n",
        "    \n",
        "        pipe_features_cat = Pipeline([(\"input_cat\", SimpleImputer(strategy=\"constant\", fill_value=\"unknown\")),\n",
        "                                      (\"onehot\", OneHotEncoder(handle_unknown=\"ignore\"))])\n",
        "        \n",
        "    elif encoding == \"ordinal\":\n",
        "        \n",
        "        pipe_features_cat = Pipeline([(\"input_cat\", SimpleImputer(strategy=\"constant\", fill_value=\"unknown\")),\n",
        "                                      (\"ordinal\", OrdinalEncoder(handle_unknown=\"use_encoded_value\",\n",
        "                                                                 unknown_value=-1))])\n",
        "    \n",
        "    else:\n",
        "        \n",
        "        raise ValueError(\"Únicos encodings disponíveis são 'ordinal' e 'onehot'\")\n",
        "        \n",
        "        \n",
        "    features_cat = X_train_ob.select_dtypes(exclude=np.number).columns.tolist()\n",
        "\n",
        "    # ==========================================================\n",
        "\n",
        "    pre_processador = ColumnTransformer([(\"transf_num\", pipe_features_num, features_num),\n",
        "                                         (\"transf_cat\", pipe_features_cat, features_cat)])\n",
        "\n",
        "    return X_train_ob, X_test_ob, y_train_ob, y_test_ob, pre_processador"
      ],
      "metadata": {
        "id": "5iTXwiGcmjf-"
      },
      "execution_count": 374,
      "outputs": []
    },
    {
      "cell_type": "code",
      "source": [
        "X_train_ob, X_test_ob, y_train_ob, y_test_ob, pre_processador = pipe_pre_breast_cancer(drop_not_features=[\"Clicked on Ad\"], \n",
        "                                                                            col_target=\"Clicked on Ad\",\n",
        "                                                                            inputer_num_strategy=\"mean\",\n",
        "                                                                            encoding=\"ordinal\")"
      ],
      "metadata": {
        "id": "lt5jOlOSmc6B"
      },
      "execution_count": 375,
      "outputs": []
    },
    {
      "cell_type": "code",
      "source": [
        "from hyperopt import hp, tpe, fmin, Trials, space_eval"
      ],
      "metadata": {
        "id": "JaElL_pvk0p9"
      },
      "execution_count": 376,
      "outputs": []
    },
    {
      "cell_type": "code",
      "source": [
        "hps_space = {\"learning_rate\" : hp.choice(\"learning_rate\", [0.001, 0.0001, 0.00001]),\n",
        "             \"n_estimators\" : hp.choice(\"n_estimators\", range(1, 5000)),\n",
        "             \"max_depth\" : hp.choice(\"max_depth\", range(1, 11)),\n",
        "             \"colsample_bytree\": hp.choice(\"colsample_bytree\", [0.2, 0.9]),\n",
        "             \"subsample\": hp.choice(\"subsample\", [0.2, 0.9])}"
      ],
      "metadata": {
        "id": "0fC83a8ak33l"
      },
      "execution_count": 377,
      "outputs": []
    },
    {
      "cell_type": "code",
      "source": [
        "from sklearn.model_selection import cross_validate"
      ],
      "metadata": {
        "id": "FxR2HOCol3ps"
      },
      "execution_count": 378,
      "outputs": []
    },
    {
      "cell_type": "code",
      "source": [
        "def objective(hps_space):\n",
        "    \n",
        "    pipe = Pipeline([(\"pp\", pre_processador),\n",
        "                     (\"xgbr\", XGBClassifier(**hps_space))])\n",
        "\n",
        "    # =============================================\n",
        "\n",
        "    splitter = StratifiedKFold(n_splits=5, random_state=42, shuffle=True)\n",
        "\n",
        "    results = cross_validate(pipe,\n",
        "                             X_train_ob, y_train_ob, \n",
        "                             cv=splitter,\n",
        "                             scoring=\"accuracy\",\n",
        "                             n_jobs=-1)\n",
        "\n",
        "    mean_f1 = results[\"test_score\"].mean()\n",
        "\n",
        "    # como o valor vai ser minimizado, mas queremos MAXIMIZAR o f1, colocamos esse sinal negativo\n",
        "    return mean_f1"
      ],
      "metadata": {
        "id": "hvDye22xl4Kk"
      },
      "execution_count": 379,
      "outputs": []
    },
    {
      "cell_type": "code",
      "source": [
        "ts = Trials()\n",
        "\n",
        "best_hps = fmin(objective,\n",
        "                space=hps_space,\n",
        "                algo=tpe.suggest,\n",
        "                trials=ts,\n",
        "                max_evals=10)"
      ],
      "metadata": {
        "colab": {
          "base_uri": "https://localhost:8080/"
        },
        "id": "tPjHAc4nl6Vk",
        "outputId": "e001825c-bee0-434c-8e07-bbd10eb90392"
      },
      "execution_count": 380,
      "outputs": [
        {
          "output_type": "stream",
          "name": "stdout",
          "text": [
            "100%|██████████| 10/10 [01:17<00:00,  7.79s/it, best loss: 0.9455555555555556]\n"
          ]
        }
      ]
    },
    {
      "cell_type": "code",
      "source": [
        "# pré-resposta da otimização\n",
        "best_hps"
      ],
      "metadata": {
        "colab": {
          "base_uri": "https://localhost:8080/"
        },
        "id": "qSfRtD6QmH40",
        "outputId": "93c04210-f2e2-4529-8b8a-9a9ab94ab7d5"
      },
      "execution_count": 381,
      "outputs": [
        {
          "output_type": "execute_result",
          "data": {
            "text/plain": [
              "{'colsample_bytree': 1,\n",
              " 'learning_rate': 0,\n",
              " 'max_depth': 0,\n",
              " 'n_estimators': 3507,\n",
              " 'subsample': 1}"
            ]
          },
          "metadata": {},
          "execution_count": 381
        }
      ]
    },
    {
      "cell_type": "code",
      "source": [
        "# a resposta final, vem com o space_eval\n",
        "best_hps = space_eval(hps_space, best_hps)\n",
        "best_hps"
      ],
      "metadata": {
        "id": "cH7wZrtknur5"
      },
      "execution_count": 382,
      "outputs": []
    },
    {
      "cell_type": "code",
      "source": [
        "XGBClassifier(**best_hps)"
      ],
      "metadata": {
        "id": "yLXypClFoGTe",
        "colab": {
          "base_uri": "https://localhost:8080/"
        },
        "outputId": "34a7e322-8419-46a5-8e26-8c424493501f"
      },
      "execution_count": 399,
      "outputs": [
        {
          "output_type": "execute_result",
          "data": {
            "text/plain": [
              "XGBClassifier(colsample_bytree=0.9, learning_rate=0.001, max_depth=1,\n",
              "              n_estimators=3508, subsample=0.9)"
            ]
          },
          "metadata": {},
          "execution_count": 399
        }
      ]
    },
    {
      "cell_type": "code",
      "source": [
        "pipe = Pipeline([(\"pp\", pre_processador),\n",
        "                 (\"xgbr\", XGBClassifier(**best_hps))])\n",
        "\n",
        "pipe.fit(X_train_ob, y_train_ob)\n",
        "\n"
      ],
      "metadata": {
        "id": "F-JdxcAmoiVd",
        "colab": {
          "base_uri": "https://localhost:8080/"
        },
        "outputId": "76eccbbe-abd5-4634-8a2a-5fd0eacb2ff0"
      },
      "execution_count": 401,
      "outputs": [
        {
          "output_type": "execute_result",
          "data": {
            "text/plain": [
              "Pipeline(steps=[('pp',\n",
              "                 ColumnTransformer(transformers=[('transf_num',\n",
              "                                                  Pipeline(steps=[('input_num',\n",
              "                                                                   SimpleImputer()),\n",
              "                                                                  ('std',\n",
              "                                                                   StandardScaler())]),\n",
              "                                                  ['Daily Time Spent on Site',\n",
              "                                                   'Age', 'Area Income',\n",
              "                                                   'Daily Internet Usage',\n",
              "                                                   'Male']),\n",
              "                                                 ('transf_cat',\n",
              "                                                  Pipeline(steps=[('input_cat',\n",
              "                                                                   SimpleImputer(fill_value='unknown',\n",
              "                                                                                 strategy='constant')),\n",
              "                                                                  ('ordinal',\n",
              "                                                                   OrdinalEncoder(handle_unknown='use_encoded_value',\n",
              "                                                                                  unknown_value=-1))]),\n",
              "                                                  ['Ad Topic Line', 'City',\n",
              "                                                   'Country', 'Timestamp',\n",
              "                                                   'Date', 'Hour'])])),\n",
              "                ('xgbr',\n",
              "                 XGBClassifier(colsample_bytree=0.9, learning_rate=0.001,\n",
              "                               max_depth=1, n_estimators=3508,\n",
              "                               subsample=0.9))])"
            ]
          },
          "metadata": {},
          "execution_count": 401
        }
      ]
    },
    {
      "cell_type": "code",
      "source": [
        "from sklearn.metrics import confusion_matrix, classification_report, ConfusionMatrixDisplay\n",
        "\n",
        "# ============================================\n",
        "\n",
        "print(\"\\nMétricas de avaliação de treino:\")\n",
        "\n",
        "y_pred_train_ob = pipe.predict(X_train_ob)\n",
        "\n",
        "print(confusion_matrix(y_train, y_pred_train_ob))\n",
        "\n",
        "ConfusionMatrixDisplay.from_predictions(y_train, y_pred_train_ob)\n",
        "plt.show()\n",
        "\n",
        "print(classification_report(y_train_ob, y_pred_train_ob))\n",
        "\n",
        "# ============================================\n",
        "\n",
        "print(\"\\nMétricas de avaliação de teste:\")\n",
        "\n",
        "y_pred_test_ob = pipe.predict(X_test_ob)\n",
        "\n",
        "print(confusion_matrix(y_test, y_pred_test_ob))\n",
        "\n",
        "ConfusionMatrixDisplay.from_predictions(y_test, y_pred_test_ob)\n",
        "plt.show()\n",
        "\n",
        "print(classification_report(y_test_ob, y_pred_test_ob))"
      ],
      "metadata": {
        "id": "B_dfk77VoynY",
        "colab": {
          "base_uri": "https://localhost:8080/",
          "height": 992
        },
        "outputId": "38cbffa4-4b15-46fc-b9e4-d4c27b56851b"
      },
      "execution_count": 402,
      "outputs": [
        {
          "output_type": "stream",
          "name": "stdout",
          "text": [
            "\n",
            "Métricas de avaliação de treino:\n",
            "[[436  14]\n",
            " [ 22 428]]\n"
          ]
        },
        {
          "output_type": "display_data",
          "data": {
            "text/plain": [
              "<Figure size 432x288 with 2 Axes>"
            ],
            "image/png": "[encoded data removed]"
          },
          "metadata": {
            "needs_background": "light"
          }
        },
        {
          "output_type": "stream",
          "name": "stdout",
          "text": [
            "              precision    recall  f1-score   support\n",
            "\n",
            "           0       0.95      0.97      0.96       450\n",
            "           1       0.97      0.95      0.96       450\n",
            "\n",
            "    accuracy                           0.96       900\n",
            "   macro avg       0.96      0.96      0.96       900\n",
            "weighted avg       0.96      0.96      0.96       900\n",
            "\n",
            "\n",
            "Métricas de avaliação de teste:\n",
            "[[48  2]\n",
            " [ 4 46]]\n"
          ]
        },
        {
          "output_type": "display_data",
          "data": {
            "text/plain": [
              "<Figure size 432x288 with 2 Axes>"
            ],
            "image/png": "[encoded data removed]"
          },
          "metadata": {
            "needs_background": "light"
          }
        },
        {
          "output_type": "stream",
          "name": "stdout",
          "text": [
            "              precision    recall  f1-score   support\n",
            "\n",
            "           0       0.92      0.96      0.94        50\n",
            "           1       0.96      0.92      0.94        50\n",
            "\n",
            "    accuracy                           0.94       100\n",
            "   macro avg       0.94      0.94      0.94       100\n",
            "weighted avg       0.94      0.94      0.94       100\n",
            "\n"
          ]
        }
      ]
    },
    {
      "cell_type": "code",
      "source": [
        "probas_y_pred_test_ob = publicidade_xgbc.predict_proba(X_test_ob)"
      ],
      "metadata": {
        "id": "PPW_JCxX09Ik"
      },
      "execution_count": 403,
      "outputs": []
    },
    {
      "cell_type": "code",
      "source": [
        "tabela_publicidade_xgbc_ob = pd.DataFrame()"
      ],
      "metadata": {
        "id": "QHQlWkZA09Il"
      },
      "execution_count": 397,
      "outputs": []
    },
    {
      "cell_type": "code",
      "source": [
        "y_test_ob.shape, y_pred_test_ob.shape"
      ],
      "metadata": {
        "colab": {
          "base_uri": "https://localhost:8080/"
        },
        "id": "FNetAQ0S1R4V",
        "outputId": "ed51af25-69e3-48f6-812c-fe5a205f76b9"
      },
      "execution_count": 404,
      "outputs": [
        {
          "output_type": "execute_result",
          "data": {
            "text/plain": [
              "((100,), (100,))"
            ]
          },
          "metadata": {},
          "execution_count": 404
        }
      ]
    },
    {
      "cell_type": "code",
      "source": [
        "tabela_publicidade_xgbc[\"Amostra existente\"] = y_test_ob"
      ],
      "metadata": {
        "execution": {
          "iopub.status.busy": "2022-07-02T02:11:21.772059Z",
          "iopub.execute_input": "2022-07-02T02:11:21.772902Z",
          "iopub.status.idle": "2022-07-02T02:11:21.779761Z",
          "shell.execute_reply.started": "2022-07-02T02:11:21.772849Z",
          "shell.execute_reply": "2022-07-02T02:11:21.778587Z"
        },
        "trusted": true,
        "id": "8S4aOdJq09Il"
      },
      "execution_count": 405,
      "outputs": []
    },
    {
      "cell_type": "code",
      "source": [
        "tabela_publicidade_xgbc[\"Predição\"] = y_pred_test_ob"
      ],
      "metadata": {
        "execution": {
          "iopub.status.busy": "2022-07-02T02:11:42.125170Z",
          "iopub.execute_input": "2022-07-02T02:11:42.125656Z",
          "iopub.status.idle": "2022-07-02T02:11:42.132508Z",
          "shell.execute_reply.started": "2022-07-02T02:11:42.125621Z",
          "shell.execute_reply": "2022-07-02T02:11:42.131128Z"
        },
        "trusted": true,
        "id": "JyFr_p9109Il"
      },
      "execution_count": 406,
      "outputs": []
    },
    {
      "cell_type": "code",
      "source": [
        "tabela_publicidade_xgbc"
      ],
      "metadata": {
        "execution": {
          "iopub.status.busy": "2022-07-02T02:11:46.395518Z",
          "iopub.execute_input": "2022-07-02T02:11:46.396323Z",
          "iopub.status.idle": "2022-07-02T02:11:46.410096Z",
          "shell.execute_reply.started": "2022-07-02T02:11:46.396280Z",
          "shell.execute_reply": "2022-07-02T02:11:46.409070Z"
        },
        "trusted": true,
        "colab": {
          "base_uri": "https://localhost:8080/",
          "height": 424
        },
        "outputId": "703e9e2e-da5b-4bcb-fb96-0126040f166b",
        "id": "misiAysL09Il"
      },
      "execution_count": 407,
      "outputs": [
        {
          "output_type": "execute_result",
          "data": {
            "text/plain": [
              "     Amostra existente  Predição\n",
              "789                  1         1\n",
              "871                  0         0\n",
              "670                  0         0\n",
              "221                  0         0\n",
              "310                  0         0\n",
              "..                 ...       ...\n",
              "739                  0         0\n",
              "185                  1         1\n",
              "507                  1         1\n",
              "276                  0         0\n",
              "955                  1         1\n",
              "\n",
              "[100 rows x 2 columns]"
            ],
            "text/html": [
              "\n",
              "  <div id=\"df-6d2b6d9f-6517-4dd3-9639-0bdfcf52db61\">\n",
              "    <div class=\"colab-df-container\">\n",
              "      <div>\n",
              "<style scoped>\n",
              "    .dataframe tbody tr th:only-of-type {\n",
              "        vertical-align: middle;\n",
              "    }\n",
              "\n",
              "    .dataframe tbody tr th {\n",
              "        vertical-align: top;\n",
              "    }\n",
              "\n",
              "    .dataframe thead th {\n",
              "        text-align: right;\n",
              "    }\n",
              "</style>\n",
              "<table border=\"1\" class=\"dataframe\">\n",
              "  <thead>\n",
              "    <tr style=\"text-align: right;\">\n",
              "      <th></th>\n",
              "      <th>Amostra existente</th>\n",
              "      <th>Predição</th>\n",
              "    </tr>\n",
              "  </thead>\n",
              "  <tbody>\n",
              "    <tr>\n",
              "      <th>789</th>\n",
              "      <td>1</td>\n",
              "      <td>1</td>\n",
              "    </tr>\n",
              "    <tr>\n",
              "      <th>871</th>\n",
              "      <td>0</td>\n",
              "      <td>0</td>\n",
              "    </tr>\n",
              "    <tr>\n",
              "      <th>670</th>\n",
              "      <td>0</td>\n",
              "      <td>0</td>\n",
              "    </tr>\n",
              "    <tr>\n",
              "      <th>221</th>\n",
              "      <td>0</td>\n",
              "      <td>0</td>\n",
              "    </tr>\n",
              "    <tr>\n",
              "      <th>310</th>\n",
              "      <td>0</td>\n",
              "      <td>0</td>\n",
              "    </tr>\n",
              "    <tr>\n",
              "      <th>...</th>\n",
              "      <td>...</td>\n",
              "      <td>...</td>\n",
              "    </tr>\n",
              "    <tr>\n",
              "      <th>739</th>\n",
              "      <td>0</td>\n",
              "      <td>0</td>\n",
              "    </tr>\n",
              "    <tr>\n",
              "      <th>185</th>\n",
              "      <td>1</td>\n",
              "      <td>1</td>\n",
              "    </tr>\n",
              "    <tr>\n",
              "      <th>507</th>\n",
              "      <td>1</td>\n",
              "      <td>1</td>\n",
              "    </tr>\n",
              "    <tr>\n",
              "      <th>276</th>\n",
              "      <td>0</td>\n",
              "      <td>0</td>\n",
              "    </tr>\n",
              "    <tr>\n",
              "      <th>955</th>\n",
              "      <td>1</td>\n",
              "      <td>1</td>\n",
              "    </tr>\n",
              "  </tbody>\n",
              "</table>\n",
              "<p>100 rows × 2 columns</p>\n",
              "</div>\n",
              "      <button class=\"colab-df-convert\" onclick=\"convertToInteractive('df-6d2b6d9f-6517-4dd3-9639-0bdfcf52db61')\"\n",
              "              title=\"Convert this dataframe to an interactive table.\"\n",
              "              style=\"display:none;\">\n",
              "        \n",
              "  <svg xmlns=\"http://www.w3.org/2000/svg\" height=\"24px\"viewBox=\"0 0 24 24\"\n",
              "       width=\"24px\">\n",
              "    <path d=\"M0 0h24v24H0V0z\" fill=\"none\"/>\n",
              "    <path d=\"M18.56 5.44l.94 2.06.94-2.06 2.06-.94-2.06-.94-.94-2.06-.94 2.06-2.06.94zm-11 1L8.5 8.5l.94-2.06 2.06-.94-2.06-.94L8.5 2.5l-.94 2.06-2.06.94zm10 10l.94 2.06.94-2.06 2.06-.94-2.06-.94-.94-2.06-.94 2.06-2.06.94z\"/><path d=\"M17.41 7.96l-1.37-1.37c-.4-.4-.92-.59-1.43-.59-.52 0-1.04.2-1.43.59L10.3 9.45l-7.72 7.72c-.78.78-.78 2.05 0 2.83L4 21.41c.39.39.9.59 1.41.59.51 0 1.02-.2 1.41-.59l7.78-7.78 2.81-2.81c.8-.78.8-2.07 0-2.86zM5.41 20L4 18.59l7.72-7.72 1.47 1.35L5.41 20z\"/>\n",
              "  </svg>\n",
              "      </button>\n",
              "      \n",
              "  <style>\n",
              "    .colab-df-container {\n",
              "      display:flex;\n",
              "      flex-wrap:wrap;\n",
              "      gap: 12px;\n",
              "    }\n",
              "\n",
              "    .colab-df-convert {\n",
              "      background-color: #E8F0FE;\n",
              "      border: none;\n",
              "      border-radius: 50%;\n",
              "      cursor: pointer;\n",
              "      display: none;\n",
              "      fill: #1967D2;\n",
              "      height: 32px;\n",
              "      padding: 0 0 0 0;\n",
              "      width: 32px;\n",
              "    }\n",
              "\n",
              "    .colab-df-convert:hover {\n",
              "      background-color: #E2EBFA;\n",
              "      box-shadow: 0px 1px 2px rgba(60, 64, 67, 0.3), 0px 1px 3px 1px rgba(60, 64, 67, 0.15);\n",
              "      fill: #174EA6;\n",
              "    }\n",
              "\n",
              "    [theme=dark] .colab-df-convert {\n",
              "      background-color: #3B4455;\n",
              "      fill: #D2E3FC;\n",
              "    }\n",
              "\n",
              "    [theme=dark] .colab-df-convert:hover {\n",
              "      background-color: #434B5C;\n",
              "      box-shadow: 0px 1px 3px 1px rgba(0, 0, 0, 0.15);\n",
              "      filter: drop-shadow(0px 1px 2px rgba(0, 0, 0, 0.3));\n",
              "      fill: #FFFFFF;\n",
              "    }\n",
              "  </style>\n",
              "\n",
              "      <script>\n",
              "        const buttonEl =\n",
              "          document.querySelector('#df-6d2b6d9f-6517-4dd3-9639-0bdfcf52db61 button.colab-df-convert');\n",
              "        buttonEl.style.display =\n",
              "          google.colab.kernel.accessAllowed ? 'block' : 'none';\n",
              "\n",
              "        async function convertToInteractive(key) {\n",
              "          const element = document.querySelector('#df-6d2b6d9f-6517-4dd3-9639-0bdfcf52db61');\n",
              "          const dataTable =\n",
              "            await google.colab.kernel.invokeFunction('convertToInteractive',\n",
              "                                                     [key], {});\n",
              "          if (!dataTable) return;\n",
              "\n",
              "          const docLinkHtml = 'Like what you see? Visit the ' +\n",
              "            '<a target=\"_blank\" href=https://colab.research.google.com/notebooks/data_table.ipynb>data table notebook</a>'\n",
              "            + ' to learn more about interactive tables.';\n",
              "          element.innerHTML = '';\n",
              "          dataTable['output_type'] = 'display_data';\n",
              "          await google.colab.output.renderOutput(dataTable, element);\n",
              "          const docLink = document.createElement('div');\n",
              "          docLink.innerHTML = docLinkHtml;\n",
              "          element.appendChild(docLink);\n",
              "        }\n",
              "      </script>\n",
              "    </div>\n",
              "  </div>\n",
              "  "
            ]
          },
          "metadata": {},
          "execution_count": 407
        }
      ]
    },
    {
      "cell_type": "markdown",
      "source": [
        "Salvando a tabela"
      ],
      "metadata": {
        "id": "B6ERX0sL09Il"
      }
    },
    {
      "cell_type": "code",
      "source": [
        "tabela_publicidade_xgbc.to_csv(\"11-publicidade_xgbc.csv\")"
      ],
      "metadata": {
        "id": "h9jv-1UW09Im"
      },
      "execution_count": 408,
      "outputs": []
    },
    {
      "cell_type": "markdown",
      "source": [
        "Salvando o estimador..."
      ],
      "metadata": {
        "id": "O4pVwQ1-De7T"
      }
    },
    {
      "cell_type": "code",
      "source": [
        "import pickle"
      ],
      "metadata": {
        "execution": {
          "iopub.status.busy": "2022-07-02T02:19:05.371396Z",
          "iopub.execute_input": "2022-07-02T02:19:05.372618Z",
          "iopub.status.idle": "2022-07-02T02:19:05.377481Z",
          "shell.execute_reply.started": "2022-07-02T02:19:05.372572Z",
          "shell.execute_reply": "2022-07-02T02:19:05.376202Z"
        },
        "trusted": true,
        "id": "5O1auclPDe7U"
      },
      "execution_count": 371,
      "outputs": []
    },
    {
      "cell_type": "code",
      "source": [
        "with open(\"publicidade_xgbc.pkl\", \"wb\") as f:\n",
        "    pickle.dump(publicidade_xgbc, f)"
      ],
      "metadata": {
        "execution": {
          "iopub.status.busy": "2022-07-02T02:19:13.260311Z",
          "iopub.execute_input": "2022-07-02T02:19:13.260705Z",
          "iopub.status.idle": "2022-07-02T02:19:13.268676Z",
          "shell.execute_reply.started": "2022-07-02T02:19:13.260676Z",
          "shell.execute_reply": "2022-07-02T02:19:13.267067Z"
        },
        "trusted": true,
        "id": "sIYU2GiZDe7U"
      },
      "execution_count": 409,
      "outputs": []
    },
    {
      "cell_type": "code",
      "source": [
        "with open(\"publicidade_xgbc.pkl\", \"rb\") as f:\n",
        "    \n",
        "    publicidade_xgbc = pickle.load(f)"
      ],
      "metadata": {
        "execution": {
          "iopub.status.busy": "2022-07-02T02:19:27.758117Z",
          "iopub.execute_input": "2022-07-02T02:19:27.758754Z",
          "iopub.status.idle": "2022-07-02T02:19:27.765923Z",
          "shell.execute_reply.started": "2022-07-02T02:19:27.758713Z",
          "shell.execute_reply": "2022-07-02T02:19:27.764747Z"
        },
        "trusted": true,
        "id": "-HALA_-WDe7U"
      },
      "execution_count": 373,
      "outputs": []
    },
    {
      "cell_type": "markdown",
      "source": [
        "\n",
        "\n",
        "---\n",
        "\n",
        "\n",
        "\n",
        "---\n",
        "\n",
        "\n",
        "\n",
        "---\n",
        "\n"
      ],
      "metadata": {
        "id": "PP3pUO-9zrKM"
      }
    },
    {
      "cell_type": "markdown",
      "source": [
        "#**INTERPRETABILIDADE DO MODELO GLOBALMENTE**"
      ],
      "metadata": {
        "id": "ITQ8gU-uiEfy"
      }
    },
    {
      "cell_type": "markdown",
      "metadata": {
        "id": "XlV1Xr6SRkEK"
      },
      "source": [
        "**Transformando as Features categóricas em numéricas - OneHotEnconder - Features de dados binários:**"
      ]
    },
    {
      "cell_type": "code",
      "execution_count": 308,
      "metadata": {
        "id": "n2nsPq95Q6Rx"
      },
      "outputs": [],
      "source": [
        "ohe =  OneHotEncoder(handle_unknown='ignore')\n",
        "ohe.fit(df[[\"Male\"]])\n",
        "\n",
        "df[\"Male\"] = ohe.transform(df[[\"Male\"]]).toarray()"
      ]
    },
    {
      "cell_type": "markdown",
      "metadata": {
        "id": "WdEFqcwsZM1h"
      },
      "source": [
        "**Transformando as Features categóricas em numéricas - OrdinalEncoder() - Feature com mais de 2 dados diferentes.**"
      ]
    },
    {
      "cell_type": "code",
      "execution_count": 310,
      "metadata": {
        "id": "G4fDsjuSVMiJ"
      },
      "outputs": [],
      "source": [
        "# \"Ad Topic Line\", \"City\", \"Country\", \"Timestamp\", \"Date\", \"Hour\"\n",
        "oe =  OrdinalEncoder()\n",
        "oe.fit(df[[\"Ad Topic Line\", \"City\", \"Country\", \"Timestamp\", \"Date\", \"Hour\"]])\n",
        "\n",
        "\n",
        "df[[\"Ad Topic Line\", \"City\", \"Country\", \"Timestamp\", \"Date\", \"Hour\"]] = oe.transform(df[[\"Ad Topic Line\", \"City\", \"Country\", \"Timestamp\", \"Date\", \"Hour\"]])"
      ]
    },
    {
      "cell_type": "markdown",
      "metadata": {
        "id": "6yUhfH1Ra1E5"
      },
      "source": [
        "**Vamos escalonar todas as Features, pois a amplitude entre os dados está muito grande, isso pode causar um viés no resultado final:**"
      ]
    },
    {
      "cell_type": "code",
      "source": [
        "df.columns"
      ],
      "metadata": {
        "colab": {
          "base_uri": "https://localhost:8080/"
        },
        "id": "LgdFQFD0_RKP",
        "outputId": "5a5f11a4-fff4-4737-9d85-f391c542aeff"
      },
      "execution_count": 312,
      "outputs": [
        {
          "output_type": "execute_result",
          "data": {
            "text/plain": [
              "Index(['Daily Time Spent on Site', 'Age', 'Area Income',\n",
              "       'Daily Internet Usage', 'Ad Topic Line', 'City', 'Male', 'Country',\n",
              "       'Timestamp', 'Clicked on Ad', 'Date', 'Hour'],\n",
              "      dtype='object')"
            ]
          },
          "metadata": {},
          "execution_count": 312
        }
      ]
    },
    {
      "cell_type": "code",
      "execution_count": 313,
      "metadata": {
        "id": "2HZDW5NwbdoP"
      },
      "outputs": [],
      "source": [
        "ssc = StandardScaler()\n",
        "\n",
        "ssc.fit(df[['Daily Time Spent on Site', 'Age', 'Area Income','Daily Internet Usage', 'Ad Topic Line', 'City', 'Male', 'Country','Timestamp', 'Date', 'Hour']])\n",
        "h= ssc.transform(df[['Daily Time Spent on Site', 'Age', 'Area Income','Daily Internet Usage', 'Ad Topic Line', 'City', 'Male', 'Country','Timestamp', 'Date', 'Hour']])\n",
        "df[['Daily Time Spent on Site', 'Age', 'Area Income','Daily Internet Usage', 'Ad Topic Line', 'City', 'Male', 'Country','Timestamp', 'Date', 'Hour']] = h"
      ]
    },
    {
      "cell_type": "code",
      "execution_count": 315,
      "metadata": {
        "colab": {
          "base_uri": "https://localhost:8080/",
          "height": 424
        },
        "id": "fgUpGAtlz13P",
        "outputId": "9020e68e-ad70-4230-de27-6da2d0b1d3c6"
      },
      "outputs": [
        {
          "output_type": "execute_result",
          "data": {
            "text/plain": [
              "     Daily Time Spent on Site       Age  Area Income  Daily Internet Usage  \\\n",
              "0                    0.249267 -0.114905     0.509691              1.734030   \n",
              "1                    0.961132 -0.570425     1.002530              0.313805   \n",
              "2                    0.282083 -1.139826     0.356949              1.287589   \n",
              "3                    0.577432 -0.798185    -0.014456              1.501580   \n",
              "4                    0.212664 -0.114905     1.408868              1.038731   \n",
              "..                        ...       ...          ...                   ...   \n",
              "995                  0.502963 -0.684305     1.222006              0.651314   \n",
              "996                 -0.864601  1.023896     0.953329             -1.038735   \n",
              "997                 -0.843775  1.707176    -0.938570             -1.358924   \n",
              "998                 -0.596389 -1.936986    -0.975484              0.181172   \n",
              "999                 -1.261555 -1.139826    -1.873832             -0.037605   \n",
              "\n",
              "     Ad Topic Line      City      Male   Country  Timestamp  Clicked on Ad  \\\n",
              "0        -1.415086  1.700304  0.962695  1.424572  -0.209578              0   \n",
              "1        -0.122976  1.492546 -1.038750  0.451875  -0.088335              0   \n",
              "2         0.230363 -1.344415  0.962695  0.981136  -0.458994              0   \n",
              "3         1.397766  1.621499 -1.038750 -0.177517  -1.536330              0   \n",
              "4         0.923184  1.141508  0.962695 -0.277648   0.926648              0   \n",
              "..             ...       ...       ...       ...        ...            ...   \n",
              "995      -0.535204 -1.290685 -1.038750  0.008440  -1.030571              1   \n",
              "996      -0.486707  0.006007 -1.038750 -1.278953   0.233827              1   \n",
              "997      -0.819260  1.116434 -1.038750  0.351744  -1.210704              1   \n",
              "998       0.490171  1.607171  0.962695 -0.434996  -0.268468              0   \n",
              "999       1.633325  0.923005  0.962695 -1.250344   0.943968              1   \n",
              "\n",
              "         Date      Hour  \n",
              "0   -0.214751 -1.588168  \n",
              "1   -0.110587 -1.515117  \n",
              "2   -0.457800  1.194735  \n",
              "3   -1.551521 -1.417716  \n",
              "4    0.913691 -1.264656  \n",
              "..        ...       ...  \n",
              "995 -0.995980  1.403453  \n",
              "996  0.184544 -1.449023  \n",
              "997 -1.169586  0.745992  \n",
              "998 -0.266833 -1.393365  \n",
              "999  0.913691  1.386060  \n",
              "\n",
              "[1000 rows x 12 columns]"
            ],
            "text/html": [
              "\n",
              "  <div id=\"df-01da1abb-8e81-4dbc-9c2b-ac51fce4de7b\">\n",
              "    <div class=\"colab-df-container\">\n",
              "      <div>\n",
              "<style scoped>\n",
              "    .dataframe tbody tr th:only-of-type {\n",
              "        vertical-align: middle;\n",
              "    }\n",
              "\n",
              "    .dataframe tbody tr th {\n",
              "        vertical-align: top;\n",
              "    }\n",
              "\n",
              "    .dataframe thead th {\n",
              "        text-align: right;\n",
              "    }\n",
              "</style>\n",
              "<table border=\"1\" class=\"dataframe\">\n",
              "  <thead>\n",
              "    <tr style=\"text-align: right;\">\n",
              "      <th></th>\n",
              "      <th>Daily Time Spent on Site</th>\n",
              "      <th>Age</th>\n",
              "      <th>Area Income</th>\n",
              "      <th>Daily Internet Usage</th>\n",
              "      <th>Ad Topic Line</th>\n",
              "      <th>City</th>\n",
              "      <th>Male</th>\n",
              "      <th>Country</th>\n",
              "      <th>Timestamp</th>\n",
              "      <th>Clicked on Ad</th>\n",
              "      <th>Date</th>\n",
              "      <th>Hour</th>\n",
              "    </tr>\n",
              "  </thead>\n",
              "  <tbody>\n",
              "    <tr>\n",
              "      <th>0</th>\n",
              "      <td>0.249267</td>\n",
              "      <td>-0.114905</td>\n",
              "      <td>0.509691</td>\n",
              "      <td>1.734030</td>\n",
              "      <td>-1.415086</td>\n",
              "      <td>1.700304</td>\n",
              "      <td>0.962695</td>\n",
              "      <td>1.424572</td>\n",
              "      <td>-0.209578</td>\n",
              "      <td>0</td>\n",
              "      <td>-0.214751</td>\n",
              "      <td>-1.588168</td>\n",
              "    </tr>\n",
              "    <tr>\n",
              "      <th>1</th>\n",
              "      <td>0.961132</td>\n",
              "      <td>-0.570425</td>\n",
              "      <td>1.002530</td>\n",
              "      <td>0.313805</td>\n",
              "      <td>-0.122976</td>\n",
              "      <td>1.492546</td>\n",
              "      <td>-1.038750</td>\n",
              "      <td>0.451875</td>\n",
              "      <td>-0.088335</td>\n",
              "      <td>0</td>\n",
              "      <td>-0.110587</td>\n",
              "      <td>-1.515117</td>\n",
              "    </tr>\n",
              "    <tr>\n",
              "      <th>2</th>\n",
              "      <td>0.282083</td>\n",
              "      <td>-1.139826</td>\n",
              "      <td>0.356949</td>\n",
              "      <td>1.287589</td>\n",
              "      <td>0.230363</td>\n",
              "      <td>-1.344415</td>\n",
              "      <td>0.962695</td>\n",
              "      <td>0.981136</td>\n",
              "      <td>-0.458994</td>\n",
              "      <td>0</td>\n",
              "      <td>-0.457800</td>\n",
              "      <td>1.194735</td>\n",
              "    </tr>\n",
              "    <tr>\n",
              "      <th>3</th>\n",
              "      <td>0.577432</td>\n",
              "      <td>-0.798185</td>\n",
              "      <td>-0.014456</td>\n",
              "      <td>1.501580</td>\n",
              "      <td>1.397766</td>\n",
              "      <td>1.621499</td>\n",
              "      <td>-1.038750</td>\n",
              "      <td>-0.177517</td>\n",
              "      <td>-1.536330</td>\n",
              "      <td>0</td>\n",
              "      <td>-1.551521</td>\n",
              "      <td>-1.417716</td>\n",
              "    </tr>\n",
              "    <tr>\n",
              "      <th>4</th>\n",
              "      <td>0.212664</td>\n",
              "      <td>-0.114905</td>\n",
              "      <td>1.408868</td>\n",
              "      <td>1.038731</td>\n",
              "      <td>0.923184</td>\n",
              "      <td>1.141508</td>\n",
              "      <td>0.962695</td>\n",
              "      <td>-0.277648</td>\n",
              "      <td>0.926648</td>\n",
              "      <td>0</td>\n",
              "      <td>0.913691</td>\n",
              "      <td>-1.264656</td>\n",
              "    </tr>\n",
              "    <tr>\n",
              "      <th>...</th>\n",
              "      <td>...</td>\n",
              "      <td>...</td>\n",
              "      <td>...</td>\n",
              "      <td>...</td>\n",
              "      <td>...</td>\n",
              "      <td>...</td>\n",
              "      <td>...</td>\n",
              "      <td>...</td>\n",
              "      <td>...</td>\n",
              "      <td>...</td>\n",
              "      <td>...</td>\n",
              "      <td>...</td>\n",
              "    </tr>\n",
              "    <tr>\n",
              "      <th>995</th>\n",
              "      <td>0.502963</td>\n",
              "      <td>-0.684305</td>\n",
              "      <td>1.222006</td>\n",
              "      <td>0.651314</td>\n",
              "      <td>-0.535204</td>\n",
              "      <td>-1.290685</td>\n",
              "      <td>-1.038750</td>\n",
              "      <td>0.008440</td>\n",
              "      <td>-1.030571</td>\n",
              "      <td>1</td>\n",
              "      <td>-0.995980</td>\n",
              "      <td>1.403453</td>\n",
              "    </tr>\n",
              "    <tr>\n",
              "      <th>996</th>\n",
              "      <td>-0.864601</td>\n",
              "      <td>1.023896</td>\n",
              "      <td>0.953329</td>\n",
              "      <td>-1.038735</td>\n",
              "      <td>-0.486707</td>\n",
              "      <td>0.006007</td>\n",
              "      <td>-1.038750</td>\n",
              "      <td>-1.278953</td>\n",
              "      <td>0.233827</td>\n",
              "      <td>1</td>\n",
              "      <td>0.184544</td>\n",
              "      <td>-1.449023</td>\n",
              "    </tr>\n",
              "    <tr>\n",
              "      <th>997</th>\n",
              "      <td>-0.843775</td>\n",
              "      <td>1.707176</td>\n",
              "      <td>-0.938570</td>\n",
              "      <td>-1.358924</td>\n",
              "      <td>-0.819260</td>\n",
              "      <td>1.116434</td>\n",
              "      <td>-1.038750</td>\n",
              "      <td>0.351744</td>\n",
              "      <td>-1.210704</td>\n",
              "      <td>1</td>\n",
              "      <td>-1.169586</td>\n",
              "      <td>0.745992</td>\n",
              "    </tr>\n",
              "    <tr>\n",
              "      <th>998</th>\n",
              "      <td>-0.596389</td>\n",
              "      <td>-1.936986</td>\n",
              "      <td>-0.975484</td>\n",
              "      <td>0.181172</td>\n",
              "      <td>0.490171</td>\n",
              "      <td>1.607171</td>\n",
              "      <td>0.962695</td>\n",
              "      <td>-0.434996</td>\n",
              "      <td>-0.268468</td>\n",
              "      <td>0</td>\n",
              "      <td>-0.266833</td>\n",
              "      <td>-1.393365</td>\n",
              "    </tr>\n",
              "    <tr>\n",
              "      <th>999</th>\n",
              "      <td>-1.261555</td>\n",
              "      <td>-1.139826</td>\n",
              "      <td>-1.873832</td>\n",
              "      <td>-0.037605</td>\n",
              "      <td>1.633325</td>\n",
              "      <td>0.923005</td>\n",
              "      <td>0.962695</td>\n",
              "      <td>-1.250344</td>\n",
              "      <td>0.943968</td>\n",
              "      <td>1</td>\n",
              "      <td>0.913691</td>\n",
              "      <td>1.386060</td>\n",
              "    </tr>\n",
              "  </tbody>\n",
              "</table>\n",
              "<p>1000 rows × 12 columns</p>\n",
              "</div>\n",
              "      <button class=\"colab-df-convert\" onclick=\"convertToInteractive('df-01da1abb-8e81-4dbc-9c2b-ac51fce4de7b')\"\n",
              "              title=\"Convert this dataframe to an interactive table.\"\n",
              "              style=\"display:none;\">\n",
              "        \n",
              "  <svg xmlns=\"http://www.w3.org/2000/svg\" height=\"24px\"viewBox=\"0 0 24 24\"\n",
              "       width=\"24px\">\n",
              "    <path d=\"M0 0h24v24H0V0z\" fill=\"none\"/>\n",
              "    <path d=\"M18.56 5.44l.94 2.06.94-2.06 2.06-.94-2.06-.94-.94-2.06-.94 2.06-2.06.94zm-11 1L8.5 8.5l.94-2.06 2.06-.94-2.06-.94L8.5 2.5l-.94 2.06-2.06.94zm10 10l.94 2.06.94-2.06 2.06-.94-2.06-.94-.94-2.06-.94 2.06-2.06.94z\"/><path d=\"M17.41 7.96l-1.37-1.37c-.4-.4-.92-.59-1.43-.59-.52 0-1.04.2-1.43.59L10.3 9.45l-7.72 7.72c-.78.78-.78 2.05 0 2.83L4 21.41c.39.39.9.59 1.41.59.51 0 1.02-.2 1.41-.59l7.78-7.78 2.81-2.81c.8-.78.8-2.07 0-2.86zM5.41 20L4 18.59l7.72-7.72 1.47 1.35L5.41 20z\"/>\n",
              "  </svg>\n",
              "      </button>\n",
              "      \n",
              "  <style>\n",
              "    .colab-df-container {\n",
              "      display:flex;\n",
              "      flex-wrap:wrap;\n",
              "      gap: 12px;\n",
              "    }\n",
              "\n",
              "    .colab-df-convert {\n",
              "      background-color: #E8F0FE;\n",
              "      border: none;\n",
              "      border-radius: 50%;\n",
              "      cursor: pointer;\n",
              "      display: none;\n",
              "      fill: #1967D2;\n",
              "      height: 32px;\n",
              "      padding: 0 0 0 0;\n",
              "      width: 32px;\n",
              "    }\n",
              "\n",
              "    .colab-df-convert:hover {\n",
              "      background-color: #E2EBFA;\n",
              "      box-shadow: 0px 1px 2px rgba(60, 64, 67, 0.3), 0px 1px 3px 1px rgba(60, 64, 67, 0.15);\n",
              "      fill: #174EA6;\n",
              "    }\n",
              "\n",
              "    [theme=dark] .colab-df-convert {\n",
              "      background-color: #3B4455;\n",
              "      fill: #D2E3FC;\n",
              "    }\n",
              "\n",
              "    [theme=dark] .colab-df-convert:hover {\n",
              "      background-color: #434B5C;\n",
              "      box-shadow: 0px 1px 3px 1px rgba(0, 0, 0, 0.15);\n",
              "      filter: drop-shadow(0px 1px 2px rgba(0, 0, 0, 0.3));\n",
              "      fill: #FFFFFF;\n",
              "    }\n",
              "  </style>\n",
              "\n",
              "      <script>\n",
              "        const buttonEl =\n",
              "          document.querySelector('#df-01da1abb-8e81-4dbc-9c2b-ac51fce4de7b button.colab-df-convert');\n",
              "        buttonEl.style.display =\n",
              "          google.colab.kernel.accessAllowed ? 'block' : 'none';\n",
              "\n",
              "        async function convertToInteractive(key) {\n",
              "          const element = document.querySelector('#df-01da1abb-8e81-4dbc-9c2b-ac51fce4de7b');\n",
              "          const dataTable =\n",
              "            await google.colab.kernel.invokeFunction('convertToInteractive',\n",
              "                                                     [key], {});\n",
              "          if (!dataTable) return;\n",
              "\n",
              "          const docLinkHtml = 'Like what you see? Visit the ' +\n",
              "            '<a target=\"_blank\" href=https://colab.research.google.com/notebooks/data_table.ipynb>data table notebook</a>'\n",
              "            + ' to learn more about interactive tables.';\n",
              "          element.innerHTML = '';\n",
              "          dataTable['output_type'] = 'display_data';\n",
              "          await google.colab.output.renderOutput(dataTable, element);\n",
              "          const docLink = document.createElement('div');\n",
              "          docLink.innerHTML = docLinkHtml;\n",
              "          element.appendChild(docLink);\n",
              "        }\n",
              "      </script>\n",
              "    </div>\n",
              "  </div>\n",
              "  "
            ]
          },
          "metadata": {},
          "execution_count": 315
        }
      ],
      "source": [
        "df"
      ]
    },
    {
      "cell_type": "markdown",
      "metadata": {
        "id": "q5N68Lr70Mb3"
      },
      "source": [
        "**Separar em features e target...**"
      ]
    },
    {
      "cell_type": "code",
      "execution_count": 316,
      "metadata": {
        "id": "sUabPhTw9Z71"
      },
      "outputs": [],
      "source": [
        "X = df.drop(columns=[\"Clicked on Ad\"])\n",
        "y = df[\"Clicked on Ad\"]\n",
        "\n",
        "X_train, X_test, y_train, y_test = train_test_split(X, y, test_size=0.3, random_state=20, stratify=y)"
      ]
    },
    {
      "cell_type": "code",
      "source": [
        "xgbc_shap = XGBClassifier().fit(X_train, y_train)"
      ],
      "metadata": {
        "id": "dip5Jh50iKcL"
      },
      "execution_count": 317,
      "outputs": []
    },
    {
      "cell_type": "code",
      "source": [
        "!pip install shap\n",
        "import shap"
      ],
      "metadata": {
        "id": "KbPzIw7uOio9"
      },
      "execution_count": null,
      "outputs": []
    },
    {
      "cell_type": "code",
      "source": [
        "explainer = shap.Explainer(xgbc_shap, X_train)"
      ],
      "metadata": {
        "id": "aTyb3qxOOi-9"
      },
      "execution_count": 319,
      "outputs": []
    },
    {
      "cell_type": "code",
      "source": [
        "shap_vals = explainer.shap_values(X_train)"
      ],
      "metadata": {
        "id": "UeJxDLmPOjBz"
      },
      "execution_count": 320,
      "outputs": []
    },
    {
      "cell_type": "code",
      "source": [
        "clik = df[\"Clicked on Ad\"].unique()\n",
        "print(f\"{clik}\")"
      ],
      "metadata": {
        "colab": {
          "base_uri": "https://localhost:8080/"
        },
        "id": "WOleu46hQGp1",
        "outputId": "31c23977-31f6-4baa-9527-0e61c4b31594"
      },
      "execution_count": 321,
      "outputs": [
        {
          "output_type": "stream",
          "name": "stdout",
          "text": [
            "[0 1]\n"
          ]
        }
      ]
    },
    {
      "cell_type": "markdown",
      "source": [
        "**Features que mais impactaram na escolha das espécies durante a geração do predict:**"
      ],
      "metadata": {
        "id": "FdJHRkbwi1EB"
      }
    },
    {
      "cell_type": "code",
      "source": [
        "shap.summary_plot(shap_vals, X_train, plot_type=\"bar\")"
      ],
      "metadata": {
        "colab": {
          "base_uri": "https://localhost:8080/",
          "height": 434
        },
        "id": "EImvQZUgPols",
        "outputId": "a78e1034-1a17-41dd-8869-682291873ba3"
      },
      "execution_count": 322,
      "outputs": [
        {
          "output_type": "display_data",
          "data": {
            "text/plain": [
              "<Figure size 576x424.8 with 1 Axes>"
            ],
            "image/png": "[encoded data removed]"
          },
          "metadata": {
            "needs_background": "light"
          }
        }
      ]
    }
  ]
}